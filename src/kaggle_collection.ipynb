{
 "cells": [
  {
   "cell_type": "markdown",
   "metadata": {},
   "source": [
    "# Scrapper Plan\n",
    "- Identify all compeitetitions\n",
    "- Identify top 30 voting code bases\n",
    "- Collect the top 30 voting notebooks\n",
    "- Collect the top 30 voting notebooks' comments "
   ]
  }
 ],
 "metadata": {
  "language_info": {
   "name": "python"
  }
 },
 "nbformat": 4,
 "nbformat_minor": 2
}
