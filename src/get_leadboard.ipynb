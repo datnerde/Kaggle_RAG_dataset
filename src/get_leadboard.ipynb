{
 "cells": [
  {
   "cell_type": "code",
   "execution_count": null,
   "metadata": {},
   "outputs": [
    {
     "name": "stdout",
     "output_type": "stream",
     "text": [
      "Archive:  ../data/leaderboard/titanic.zip\n",
      "  inflating: ../data/leaderboard/temp/titanic-publicleaderboard-2025-04-01T05:09:22.csv  \n"
     ]
    }
   ],
   "source": [
    "import subprocess\n",
    "\n",
    "competition_name = \"titanic\"\n",
    "\n",
    "# Create commands with proper variable substitution\n",
    "commands = [\n",
    "    f\"kaggle competitions leaderboard --download -c {competition_name} -p ../data/leaderboard\",\n",
    "    \"mkdir -p ../data/leaderboard\",\n",
    "    f\"unzip -o ../data/leaderboard/{competition_name}.zip -d ../data/leaderboard/temp\",\n",
    "    f\"find ../data/leaderboard/temp -name \\\"*.csv\\\" -exec mv {{}} ../data/leaderboard/{competition_name}.csv \\\\;\",\n",
    "    \"rm -rf ../data/leaderboard/temp\",\n",
    "    f\"rm ../data/leaderboard/{competition_name}.zip\"\n",
    "]\n",
    "\n",
    "# Execute each command\n",
    "for cmd in commands:\n",
    "    subprocess.run(cmd, shell=True)\n",
    "    \n",
    "import pandas as pd\n",
    "leaderboard_df = pd.read_csv(f\"./data/leaderboard/{competition_name}.csv\")\n",
    "score = leaderboard_df['Score']"
   ]
  }
 ],
 "metadata": {
  "kernelspec": {
   "display_name": "aiscientists",
   "language": "python",
   "name": "python3"
  },
  "language_info": {
   "codemirror_mode": {
    "name": "ipython",
    "version": 3
   },
   "file_extension": ".py",
   "mimetype": "text/x-python",
   "name": "python",
   "nbconvert_exporter": "python",
   "pygments_lexer": "ipython3",
   "version": "3.12.7"
  }
 },
 "nbformat": 4,
 "nbformat_minor": 2
}
