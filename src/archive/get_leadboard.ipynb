{
 "cells": [
  {
   "cell_type": "code",
   "execution_count": null,
   "metadata": {},
   "outputs": [
    {
     "name": "stdout",
     "output_type": "stream",
     "text": [
      "Archive:  ../data/leaderboard/titanic.zip\n",
      "  inflating: ../data/leaderboard/temp/titanic-publicleaderboard-2025-04-01T05:09:22.csv  \n"
     ]
    }
   ],
   "source": [
    "# import subprocess\n",
    "\n",
    "# competition_name = \"titanic\"\n",
    "\n",
    "# # Create commands with proper variable substitution\n",
    "# commands = [\n",
    "#     f\"kaggle competitions leaderboard --download -c {competition_name} -p ../data/leaderboard\",\n",
    "#     \"mkdir -p ../data/leaderboard\",\n",
    "#     f\"unzip -o ../data/leaderboard/{competition_name}.zip -d ../data/leaderboard/temp\",\n",
    "#     f\"find ../data/leaderboard/temp -name \\\"*.csv\\\" -exec mv {{}} ../data/leaderboard/{competition_name}.csv \\\\;\",\n",
    "#     \"rm -rf ../data/leaderboard/temp\",\n",
    "#     f\"rm ../data/leaderboard/{competition_name}.zip\"\n",
    "# ]\n",
    "\n",
    "# # Execute each command\n",
    "# for cmd in commands:\n",
    "#     subprocess.run(cmd, shell=True)\n",
    "    \n",
    "# import pandas as pd\n",
    "# leaderboard_df = pd.read_csv(f\"./data/leaderboard/{competition_name}.csv\")\n",
    "# score = leaderboard_df['Score']"
   ]
  },
  {
   "cell_type": "code",
   "execution_count": null,
   "metadata": {},
   "outputs": [],
   "source": [
    "import argparse\n",
    "import subprocess\n",
    "import json\n",
    "\n",
    "def main(competition_name=None, test_mode=False):\n",
    "    if test_mode:\n",
    "        competition_list = [{\"competition_name\": \"titanic\"}]  # Use Titanic for testing purposes\n",
    "    elif competition_name:\n",
    "        # If a specific competition name is provided, use it to create a single-item list\n",
    "        competition_list = [{\"competition_name\": competition_name}]\n",
    "    else:\n",
    "        with open(\"../data/competition_list.json\", \"r\") as file:\n",
    "            competition_list = json.load(file)\n",
    "\n",
    "    for comp in competition_list:\n",
    "        competition = comp[\"competition_name\"]\n",
    "        # Create commands with proper variable substitution\n",
    "        commands = [\n",
    "            f\"kaggle competitions leaderboard --download -c {competition} -p ../data/leaderboard\",\n",
    "            \"mkdir -p ../data/leaderboard\",\n",
    "            f\"unzip -o ../data/leaderboard/{competition}.zip -d ../data/leaderboard/temp\",\n",
    "            f\"find ../data/leaderboard/temp -name \\\"*.csv\\\" -exec mv {{}} ../data/leaderboard/{competition}.csv \\\\;\",\n",
    "            \"rm -rf ../data/leaderboard/temp\",\n",
    "            f\"rm ../data/leaderboard/{competition}.zip\"\n",
    "        ]\n",
    "\n",
    "        # Execute each command\n",
    "        for cmd in commands:\n",
    "            subprocess.run(cmd, shell=True)\n",
    "\n",
    "if __name__ == \"__main__\":\n",
    "    parser = argparse.ArgumentParser(description=\"Download and process Kaggle competition leaderboard data.\")\n",
    "    parser.add_argument(\"--competition_name\", type=str, help=\"Name of the Kaggle competition (used only in non-test mode)\")\n",
    "    parser.add_argument(\"--test\", action=\"store_true\", help=\"Run in test mode (only for Titanic competition)\")\n",
    "    args = parser.parse_args()\n",
    "    main(competition_name=args.competition_name, test_mode=args.test)"
   ]
  }
 ],
 "metadata": {
  "kernelspec": {
   "display_name": "aiscientists",
   "language": "python",
   "name": "python3"
  },
  "language_info": {
   "codemirror_mode": {
    "name": "ipython",
    "version": 3
   },
   "file_extension": ".py",
   "mimetype": "text/x-python",
   "name": "python",
   "nbconvert_exporter": "python",
   "pygments_lexer": "ipython3",
   "version": "3.12.7"
  }
 },
 "nbformat": 4,
 "nbformat_minor": 2
}
