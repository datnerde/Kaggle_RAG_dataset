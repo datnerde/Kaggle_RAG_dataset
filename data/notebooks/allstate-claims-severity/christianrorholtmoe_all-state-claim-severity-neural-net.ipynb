{
 "cells": [
  {
   "cell_type": "code",
   "execution_count": 1,
   "metadata": {
    "_cell_guid": "16cc6281-3d81-497b-857d-d87605cdd367",
    "_uuid": "2c7db774-323f-421a-a439-ed4e1a85a617"
   },
   "outputs": [
    {
     "name": "stdout",
     "output_type": "stream",
     "text": [
      "/kaggle/input/allstate-claims-severity/train.csv\n",
      "/kaggle/input/allstate-claims-severity/sample_submission.csv\n",
      "/kaggle/input/allstate-claims-severity/test.csv\n"
     ]
    }
   ],
   "source": [
    "# This Python 3 environment comes with many helpful analytics libraries installed\n",
    "# It is defined by the kaggle/python docker image: https://github.com/kaggle/docker-python\n",
    "# For example, here's several helpful packages to load in \n",
    "\n",
    "import numpy as np # linear algebra\n",
    "import pandas as pd # data processing, CSV file I/O (e.g. pd.read_csv)\n",
    "\n",
    "from sklearn.neural_network import MLPRegressor \n",
    "\n",
    "#visualisation\n",
    "pd.plotting.register_matplotlib_converters()\n",
    "import matplotlib.pyplot as plt\n",
    "%matplotlib inline\n",
    "import seaborn as sns\n",
    "\n",
    "# Input data files are available in the \"../input/\" directory.\n",
    "# For example, running this (by clicking run or pressing Shift+Enter) will list all files under the input directory\n",
    "\n",
    "import os\n",
    "for dirname, _, filenames in os.walk('/kaggle/input'):\n",
    "    for filename in filenames:\n",
    "        print(os.path.join(dirname, filename))\n",
    "\n"
   ]
  },
  {
   "cell_type": "code",
   "execution_count": 2,
   "metadata": {},
   "outputs": [
    {
     "name": "stdout",
     "output_type": "stream",
     "text": [
      "Finished reading train and test data...\n"
     ]
    }
   ],
   "source": [
    "#Step 1: Load  data\n",
    "\n",
    "train_data = pd.read_csv('../input/allstate-claims-severity/train.csv')\n",
    "test_data = pd.read_csv('../input/allstate-claims-severity/test.csv')\n",
    "print (\"Finished reading train and test data...\")"
   ]
  },
  {
   "cell_type": "code",
   "execution_count": 3,
   "metadata": {
    "_cell_guid": "d90fe571-6dc3-4c07-bae2-8e593d4bd266",
    "_uuid": "20cf2128-efdd-4d31-ad7d-146ab0605045"
   },
   "outputs": [
    {
     "name": "stdout",
     "output_type": "stream",
     "text": [
      "#of columns in train data:  133\n",
      "#of columns in test data:  133\n"
     ]
    },
    {
     "name": "stderr",
     "output_type": "stream",
     "text": [
      "/opt/conda/lib/python3.6/site-packages/ipykernel_launcher.py:22: FutureWarning: Sorting because non-concatenation axis is not aligned. A future version\n",
      "of pandas will change to not sort by default.\n",
      "\n",
      "To accept the future behavior, pass 'sort=False'.\n",
      "\n",
      "To retain the current behavior and silence the warning, pass 'sort=True'.\n",
      "\n",
      "/opt/conda/lib/python3.6/site-packages/pandas/core/frame.py:4102: SettingWithCopyWarning: \n",
      "A value is trying to be set on a copy of a slice from a DataFrame\n",
      "\n",
      "See the caveats in the documentation: http://pandas.pydata.org/pandas-docs/stable/user_guide/indexing.html#returning-a-view-versus-a-copy\n",
      "  errors=errors,\n"
     ]
    },
    {
     "data": {
      "image/png": "[encoded data removed]",
      "text/plain": [
       "<Figure size 1152x432 with 1 Axes>"
      ]
     },
     "metadata": {
      "needs_background": "light"
     },
     "output_type": "display_data"
    }
   ],
   "source": [
    "\n",
    "#step 2: Normalization & preprocessing\n",
    "#To do one-hot-encoding, we need to concatenate data sets, see\n",
    "#https://medium.com/@vaibhavshukla182/how-to-solve-mismatch-in-train-and-test-set-after-categorical-encoding-8320ed03552f\n",
    "\n",
    "#add train column \n",
    "train_data['train'] = 1\n",
    "test_data ['train'] = 0\n",
    "test_data['loss'] = 0.0\n",
    "\n",
    "#change distribution of the loss - as it is very scewed\n",
    "# Set the width and height of the figure\n",
    "plt.figure(figsize=(16,6))\n",
    "train_data['loss'] = np.log(train_data['loss']+200)\n",
    "sns.distplot(train_data['loss'], hist = True, rug = True)\n",
    "\n",
    "\n",
    "\n",
    "print (\"#of columns in train data: \", train_data.columns.size)\n",
    "print (\"#of columns in test data: \", test_data.columns.size)\n",
    "\n",
    "#combine datasets\n",
    "combined_data = pd.concat([train_data, test_data])\n",
    "\n",
    "#normalize numerical data (subtract mean & divide by st.dev.)\n",
    "numerical_data = combined_data.select_dtypes(include = \"float64\").filter(like='cont')\n",
    "\n",
    "#convert categorical and object data using one-hot-encoding\n",
    "categorical_data = combined_data.select_dtypes(include=[\"object\", \"category\"])\n",
    "ohe_categorical_data = pd.get_dummies (categorical_data)\n",
    "\n",
    "\n",
    "#concatenate id, numerical, ohe-encoded catetogires, loss and train indicator\n",
    "combined_data = pd.concat([combined_data['id'],ohe_categorical_data, numerical_data, combined_data['loss'], combined_data['train']], axis = 1)\n",
    "\n",
    "#extract train data\n",
    "train_data = combined_data[combined_data['train'] == 1]\n",
    "train_data.drop(['train'], axis = 1, inplace = True)\n",
    "#exctract test data and delete columns\n",
    "test_data = combined_data[combined_data['train'] == 0]\n",
    "test_data.drop(['train'], axis = 1, inplace = True)\n",
    "test_data.drop(['loss'], axis = 1, inplace = True)\n",
    "\n",
    "#print (\"===Train data===\")\n",
    "#print (\"#columns: {}\".format(train_data.columns.size))\n",
    "#print (train_data.head())\n",
    "#print (\"===Test data===\")\n",
    "#print (\"#columns: {}\".format(test_data.columns.size))\n",
    "#print (test_data.head())\n"
   ]
  },
  {
   "cell_type": "code",
   "execution_count": 4,
   "metadata": {},
   "outputs": [
    {
     "name": "stdout",
     "output_type": "stream",
     "text": [
      "Building and training neural network on 188318 data points...\n",
      "Iteration 1, loss = 0.49093615\n",
      "Validation score: 0.533569\n",
      "Iteration 2, loss = 0.12592463\n",
      "Validation score: 0.538944\n",
      "Iteration 3, loss = 0.12424171\n",
      "Validation score: 0.542992\n",
      "Iteration 4, loss = 0.12504981\n",
      "Validation score: 0.548062\n",
      "Iteration 5, loss = 0.11901875\n",
      "Validation score: 0.515467\n",
      "Iteration 6, loss = 0.11726270\n",
      "Validation score: 0.524879\n",
      "Iteration 7, loss = 0.11455938\n",
      "Validation score: 0.476238\n",
      "Iteration 8, loss = 0.11421732\n",
      "Validation score: 0.539513\n",
      "Iteration 9, loss = 0.11006361\n",
      "Validation score: 0.531170\n",
      "Iteration 10, loss = 0.11084009\n",
      "Validation score: 0.541850\n",
      "Iteration 11, loss = 0.10679152\n",
      "Validation score: 0.540823\n",
      "Iteration 12, loss = 0.10511907\n",
      "Validation score: 0.530807\n",
      "Iteration 13, loss = 0.10421881\n",
      "Validation score: 0.476047\n",
      "Iteration 14, loss = 0.10129000\n",
      "Validation score: 0.526269\n",
      "Iteration 15, loss = 0.09894158\n",
      "Validation score: 0.502175\n",
      "Validation score did not improve more than tol=0.000100 for 10 consecutive epochs. Stopping.\n",
      "Finished training...\n"
     ]
    }
   ],
   "source": [
    "\n",
    "#Step 2: Build and train neural net using scikit MLPRegressor lib\n",
    "X_train = train_data.drop(['id', 'loss'], axis = 1)\n",
    "y_train = train_data[\"loss\"]\n",
    "\n",
    "print (\"Building and training neural network on {} data points...\".format(len(train_data)))\n",
    "claimNet= MLPRegressor(activation='relu', alpha=0.0001, batch_size='auto', beta_1=0.9,\n",
    "             beta_2=0.999, early_stopping=True, epsilon=1e-08,\n",
    "             hidden_layer_sizes=(1500,1500,1500), learning_rate='constant',\n",
    "             learning_rate_init=0.001, max_iter=500, momentum=0.9,\n",
    "             n_iter_no_change=10, nesterovs_momentum=True, power_t=0.5,\n",
    "             random_state=None, shuffle=True, solver='adam', tol=0.0001,\n",
    "             validation_fraction=0.1, verbose=True, warm_start=False)\n",
    "\n",
    "claimNet.fit(X_train,y_train)\n",
    "print (\"Finished training...\")"
   ]
  },
  {
   "cell_type": "code",
   "execution_count": 5,
   "metadata": {},
   "outputs": [
    {
     "name": "stdout",
     "output_type": "stream",
     "text": [
      "Loading test data...\n"
     ]
    }
   ],
   "source": [
    "print (\"Loading test data...\")\n",
    "#load and transform test data\n"
   ]
  },
  {
   "cell_type": "code",
   "execution_count": 6,
   "metadata": {},
   "outputs": [
    {
     "name": "stdout",
     "output_type": "stream",
     "text": [
      "Starting predictions on 125546 data points\n",
      "Finished test and I/O to csv file\n"
     ]
    },
    {
     "data": {
      "image/png": "[encoded data removed]",
      "text/plain": [
       "<Figure size 432x288 with 1 Axes>"
      ]
     },
     "metadata": {
      "needs_background": "light"
     },
     "output_type": "display_data"
    }
   ],
   "source": [
    "x_test = test_data.drop(['id'], axis = 1)\n",
    "print (\"Starting predictions on {} data points\".format(len(x_test)))\n",
    "predictions = claimNet.predict(x_test) \n",
    "output = pd.DataFrame({'id': test_data.id,'loss': np.exp(predictions)-200})\n",
    "\n",
    "sns.distplot(np.exp(predictions)-200, hist = True, rug = True)\n",
    "\n",
    "output.to_csv('submission.csv', index=False)\n",
    "print(\"Finished test and I/O to csv file\")"
   ]
  }
 ],
 "metadata": {
  "kernelspec": {
   "display_name": "Python 3",
   "language": "python",
   "name": "python3"
  },
  "language_info": {
   "codemirror_mode": {
    "name": "ipython",
    "version": 3
   },
   "file_extension": ".py",
   "mimetype": "text/x-python",
   "name": "python",
   "nbconvert_exporter": "python",
   "pygments_lexer": "ipython3",
   "version": "3.6.6"
  }
 },
 "nbformat": 4,
 "nbformat_minor": 1
}
