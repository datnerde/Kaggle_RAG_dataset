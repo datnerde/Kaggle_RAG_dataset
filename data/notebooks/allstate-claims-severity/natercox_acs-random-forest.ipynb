{
 "cells": [
  {
   "cell_type": "markdown",
   "id": "44402609",
   "metadata": {
    "_cell_guid": "b1076dfc-b9ad-4769-8c92-a6c4dae69d19",
    "_uuid": "8f2839f25d086af736a60e9eeb907d3b93b6e0e5",
    "papermill": {
     "duration": 0.00329,
     "end_time": "2023-12-11T16:23:20.296296",
     "exception": false,
     "start_time": "2023-12-11T16:23:20.293006",
     "status": "completed"
    },
    "tags": []
   },
   "source": [
    "\n"
   ]
  },
  {
   "cell_type": "code",
   "execution_count": 1,
   "id": "313d3b23",
   "metadata": {
    "execution": {
     "iopub.execute_input": "2023-12-11T16:23:20.306740Z",
     "iopub.status.busy": "2023-12-11T16:23:20.303910Z",
     "iopub.status.idle": "2023-12-11T16:23:27.182540Z",
     "shell.execute_reply": "2023-12-11T16:23:27.179543Z"
    },
    "papermill": {
     "duration": 6.887121,
     "end_time": "2023-12-11T16:23:27.186247",
     "exception": false,
     "start_time": "2023-12-11T16:23:20.299126",
     "status": "completed"
    },
    "tags": []
   },
   "outputs": [
    {
     "name": "stderr",
     "output_type": "stream",
     "text": [
      "── \u001b[1mAttaching core tidyverse packages\u001b[22m ──────────────────────── tidyverse 2.0.0 ──\n",
      "\u001b[32m✔\u001b[39m \u001b[34mdplyr    \u001b[39m 1.1.4     \u001b[32m✔\u001b[39m \u001b[34mreadr    \u001b[39m 2.1.4\n",
      "\u001b[32m✔\u001b[39m \u001b[34mforcats  \u001b[39m 1.0.0     \u001b[32m✔\u001b[39m \u001b[34mstringr  \u001b[39m 1.5.1\n",
      "\u001b[32m✔\u001b[39m \u001b[34mggplot2  \u001b[39m 3.4.4     \u001b[32m✔\u001b[39m \u001b[34mtibble   \u001b[39m 3.2.1\n",
      "\u001b[32m✔\u001b[39m \u001b[34mlubridate\u001b[39m 1.9.3     \u001b[32m✔\u001b[39m \u001b[34mtidyr    \u001b[39m 1.3.0\n",
      "\u001b[32m✔\u001b[39m \u001b[34mpurrr    \u001b[39m 1.0.2     \n",
      "── \u001b[1mConflicts\u001b[22m ────────────────────────────────────────── tidyverse_conflicts() ──\n",
      "\u001b[31m✖\u001b[39m \u001b[34mdplyr\u001b[39m::\u001b[32mfilter()\u001b[39m masks \u001b[34mstats\u001b[39m::filter()\n",
      "\u001b[31m✖\u001b[39m \u001b[34mdplyr\u001b[39m::\u001b[32mlag()\u001b[39m    masks \u001b[34mstats\u001b[39m::lag()\n",
      "\u001b[36mℹ\u001b[39m Use the conflicted package (\u001b[3m\u001b[34m<http://conflicted.r-lib.org/>\u001b[39m\u001b[23m) to force all conflicts to become errors\n",
      "── \u001b[1mAttaching packages\u001b[22m ────────────────────────────────────── tidymodels 1.1.1 ──\n",
      "\n",
      "\u001b[32m✔\u001b[39m \u001b[34mbroom       \u001b[39m 1.0.5     \u001b[32m✔\u001b[39m \u001b[34mrsample     \u001b[39m 1.2.0\n",
      "\u001b[32m✔\u001b[39m \u001b[34mdials       \u001b[39m 1.2.0     \u001b[32m✔\u001b[39m \u001b[34mtune        \u001b[39m 1.1.2\n",
      "\u001b[32m✔\u001b[39m \u001b[34minfer       \u001b[39m 1.0.5     \u001b[32m✔\u001b[39m \u001b[34mworkflows   \u001b[39m 1.1.3\n",
      "\u001b[32m✔\u001b[39m \u001b[34mmodeldata   \u001b[39m 1.2.0     \u001b[32m✔\u001b[39m \u001b[34mworkflowsets\u001b[39m 1.0.1\n",
      "\u001b[32m✔\u001b[39m \u001b[34mparsnip     \u001b[39m 1.1.1     \u001b[32m✔\u001b[39m \u001b[34myardstick   \u001b[39m 1.2.0\n",
      "\u001b[32m✔\u001b[39m \u001b[34mrecipes     \u001b[39m 1.0.8     \n",
      "\n",
      "── \u001b[1mConflicts\u001b[22m ───────────────────────────────────────── tidymodels_conflicts() ──\n",
      "\u001b[31m✖\u001b[39m \u001b[34mscales\u001b[39m::\u001b[32mdiscard()\u001b[39m masks \u001b[34mpurrr\u001b[39m::discard()\n",
      "\u001b[31m✖\u001b[39m \u001b[34mdplyr\u001b[39m::\u001b[32mfilter()\u001b[39m   masks \u001b[34mstats\u001b[39m::filter()\n",
      "\u001b[31m✖\u001b[39m \u001b[34mrecipes\u001b[39m::\u001b[32mfixed()\u001b[39m  masks \u001b[34mstringr\u001b[39m::fixed()\n",
      "\u001b[31m✖\u001b[39m \u001b[34mdplyr\u001b[39m::\u001b[32mlag()\u001b[39m      masks \u001b[34mstats\u001b[39m::lag()\n",
      "\u001b[31m✖\u001b[39m \u001b[34myardstick\u001b[39m::\u001b[32mspec()\u001b[39m masks \u001b[34mreadr\u001b[39m::spec()\n",
      "\u001b[31m✖\u001b[39m \u001b[34mrecipes\u001b[39m::\u001b[32mstep()\u001b[39m   masks \u001b[34mstats\u001b[39m::step()\n",
      "\u001b[34m•\u001b[39m Use \u001b[32mtidymodels_prefer()\u001b[39m to resolve common conflicts.\n",
      "\n",
      "\n",
      "Attaching package: ‘vroom’\n",
      "\n",
      "\n",
      "The following object is masked from ‘package:yardstick’:\n",
      "\n",
      "    spec\n",
      "\n",
      "\n",
      "The following object is masked from ‘package:scales’:\n",
      "\n",
      "    col_factor\n",
      "\n",
      "\n",
      "The following objects are masked from ‘package:readr’:\n",
      "\n",
      "    as.col_spec, col_character, col_date, col_datetime, col_double,\n",
      "    col_factor, col_guess, col_integer, col_logical, col_number,\n",
      "    col_skip, col_time, cols, cols_condense, cols_only, date_names,\n",
      "    date_names_lang, date_names_langs, default_locale, fwf_cols,\n",
      "    fwf_empty, fwf_positions, fwf_widths, locale, output_column,\n",
      "    problems, spec\n",
      "\n",
      "\n",
      "\u001b[1mRows: \u001b[22m\u001b[34m188318\u001b[39m \u001b[1mColumns: \u001b[22m\u001b[34m132\u001b[39m\n",
      "\u001b[36m──\u001b[39m \u001b[1mColumn specification\u001b[22m \u001b[36m────────────────────────────────────────────────────────\u001b[39m\n",
      "\u001b[1mDelimiter:\u001b[22m \",\"\n",
      "\u001b[31mchr\u001b[39m (116): cat1, cat2, cat3, cat4, cat5, cat6, cat7, cat8, cat9, cat10, cat1...\n",
      "\u001b[32mdbl\u001b[39m  (16): id, cont1, cont2, cont3, cont4, cont5, cont6, cont7, cont8, cont9...\n",
      "\n",
      "\u001b[36mℹ\u001b[39m Use `spec()` to retrieve the full column specification for this data.\n",
      "\u001b[36mℹ\u001b[39m Specify the column types or set `show_col_types = FALSE` to quiet this message.\n",
      "\u001b[1mRows: \u001b[22m\u001b[34m125546\u001b[39m \u001b[1mColumns: \u001b[22m\u001b[34m131\u001b[39m\n",
      "\u001b[36m──\u001b[39m \u001b[1mColumn specification\u001b[22m \u001b[36m────────────────────────────────────────────────────────\u001b[39m\n",
      "\u001b[1mDelimiter:\u001b[22m \",\"\n",
      "\u001b[31mchr\u001b[39m (116): cat1, cat2, cat3, cat4, cat5, cat6, cat7, cat8, cat9, cat10, cat1...\n",
      "\u001b[32mdbl\u001b[39m  (15): id, cont1, cont2, cont3, cont4, cont5, cont6, cont7, cont8, cont9...\n",
      "\n",
      "\u001b[36mℹ\u001b[39m Use `spec()` to retrieve the full column specification for this data.\n",
      "\u001b[36mℹ\u001b[39m Specify the column types or set `show_col_types = FALSE` to quiet this message.\n"
     ]
    }
   ],
   "source": [
    "##Libraries\n",
    "library(tidyverse)\n",
    "library(tidymodels)\n",
    "library(embed)\n",
    "library(themis)\n",
    "library(vroom)\n",
    "\n",
    "\n",
    "train <- vroom('/kaggle/input/allstate-claims-severity/train.csv')\n",
    "test <- vroom('/kaggle/input/allstate-claims-severity/test.csv')\n",
    "train$loss <- log(train$loss) "
   ]
  },
  {
   "cell_type": "code",
   "execution_count": 2,
   "id": "67ea6b41",
   "metadata": {
    "execution": {
     "iopub.execute_input": "2023-12-11T16:23:27.233347Z",
     "iopub.status.busy": "2023-12-11T16:23:27.197849Z",
     "iopub.status.idle": "2023-12-11T16:23:33.757850Z",
     "shell.execute_reply": "2023-12-11T16:23:33.755879Z"
    },
    "papermill": {
     "duration": 6.571351,
     "end_time": "2023-12-11T16:23:33.762064",
     "exception": false,
     "start_time": "2023-12-11T16:23:27.190713",
     "status": "completed"
    },
    "tags": []
   },
   "outputs": [],
   "source": [
    "rf_recipe <- recipe(loss ~ ., data=train) %>%\n",
    "  step_lencode_mixed(all_nominal_predictors(), outcome = vars(loss))\n",
    "\n",
    "\n",
    "#Set up the model\n",
    "my_mod <- rand_forest(mtry = 5,\n",
    "                      min_n=2,\n",
    "                      trees=1000) %>%\n",
    "  set_engine(\"ranger\") %>%\n",
    "  set_mode(\"regression\")"
   ]
  },
  {
   "cell_type": "code",
   "execution_count": 3,
   "id": "eace634b",
   "metadata": {
    "execution": {
     "iopub.execute_input": "2023-12-11T16:23:33.774639Z",
     "iopub.status.busy": "2023-12-11T16:23:33.772887Z",
     "iopub.status.idle": "2023-12-11T17:05:19.258088Z",
     "shell.execute_reply": "2023-12-11T17:05:19.256035Z"
    },
    "papermill": {
     "duration": 2505.495054,
     "end_time": "2023-12-11T17:05:19.261361",
     "exception": false,
     "start_time": "2023-12-11T16:23:33.766307",
     "status": "completed"
    },
    "tags": []
   },
   "outputs": [
    {
     "name": "stderr",
     "output_type": "stream",
     "text": [
      "boundary (singular) fit: see help('isSingular')\n",
      "\n"
     ]
    }
   ],
   "source": [
    "## Create a workflow with model & recipe\n",
    "rf_wf <- workflow() %>%\n",
    "  add_recipe(rf_recipe) %>%\n",
    "  add_model(my_mod) %>%\n",
    "  fit(data=train)"
   ]
  },
  {
   "cell_type": "code",
   "execution_count": 4,
   "id": "e6df0262",
   "metadata": {
    "execution": {
     "iopub.execute_input": "2023-12-11T17:05:19.459296Z",
     "iopub.status.busy": "2023-12-11T17:05:19.457140Z",
     "iopub.status.idle": "2023-12-11T17:06:31.499393Z",
     "shell.execute_reply": "2023-12-11T17:06:31.497198Z"
    },
    "papermill": {
     "duration": 72.233588,
     "end_time": "2023-12-11T17:06:31.501936",
     "exception": false,
     "start_time": "2023-12-11T17:05:19.268348",
     "status": "completed"
    },
    "tags": []
   },
   "outputs": [],
   "source": [
    "rf_predictions <- rf_wf %>%\n",
    "  predict(new_data = test)\n",
    "\n",
    "Sub1 <- rf_predictions %>%\n",
    "  bind_cols(test) %>%\n",
    "  select(id,.pred) %>%\n",
    "  rename(loss = .pred) %>%\n",
    "  mutate(loss = exp(loss))"
   ]
  },
  {
   "cell_type": "code",
   "execution_count": 5,
   "id": "60579ad4",
   "metadata": {
    "execution": {
     "iopub.execute_input": "2023-12-11T17:06:31.516885Z",
     "iopub.status.busy": "2023-12-11T17:06:31.515200Z",
     "iopub.status.idle": "2023-12-11T17:06:31.579691Z",
     "shell.execute_reply": "2023-12-11T17:06:31.577619Z"
    },
    "papermill": {
     "duration": 0.07602,
     "end_time": "2023-12-11T17:06:31.582429",
     "exception": false,
     "start_time": "2023-12-11T17:06:31.506409",
     "status": "completed"
    },
    "tags": []
   },
   "outputs": [],
   "source": [
    "vroom_write(Sub1, file= './submission.csv', delim=',')"
   ]
  }
 ],
 "metadata": {
  "kaggle": {
   "accelerator": "none",
   "dataSources": [
    {
     "databundleVersionId": 88895,
     "sourceId": 5325,
     "sourceType": "competition"
    }
   ],
   "dockerImageVersionId": 30618,
   "isGpuEnabled": false,
   "isInternetEnabled": true,
   "language": "r",
   "sourceType": "notebook"
  },
  "kernelspec": {
   "display_name": "R",
   "language": "R",
   "name": "ir"
  },
  "language_info": {
   "codemirror_mode": "r",
   "file_extension": ".r",
   "mimetype": "text/x-r-source",
   "name": "R",
   "pygments_lexer": "r",
   "version": "4.0.5"
  },
  "papermill": {
   "default_parameters": {},
   "duration": 2595.484895,
   "end_time": "2023-12-11T17:06:32.008923",
   "environment_variables": {},
   "exception": null,
   "input_path": "__notebook__.ipynb",
   "output_path": "__notebook__.ipynb",
   "parameters": {},
   "start_time": "2023-12-11T16:23:16.524028",
   "version": "2.5.0"
  }
 },
 "nbformat": 4,
 "nbformat_minor": 5
}
