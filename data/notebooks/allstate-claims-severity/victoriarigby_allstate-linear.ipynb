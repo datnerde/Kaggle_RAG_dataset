{
 "cells": [
  {
   "cell_type": "markdown",
   "id": "c8063e26",
   "metadata": {
    "papermill": {
     "duration": 0.002996,
     "end_time": "2023-12-13T00:11:51.800330",
     "exception": false,
     "start_time": "2023-12-13T00:11:51.797334",
     "status": "completed"
    },
    "tags": []
   },
   "source": [
    "First I need to download the necessary libraries. "
   ]
  },
  {
   "cell_type": "code",
   "execution_count": 1,
   "id": "11eaf29b",
   "metadata": {
    "execution": {
     "iopub.execute_input": "2023-12-13T00:11:51.811243Z",
     "iopub.status.busy": "2023-12-13T00:11:51.808257Z",
     "iopub.status.idle": "2023-12-13T00:11:56.245747Z",
     "shell.execute_reply": "2023-12-13T00:11:56.243549Z"
    },
    "papermill": {
     "duration": 4.445717,
     "end_time": "2023-12-13T00:11:56.248716",
     "exception": false,
     "start_time": "2023-12-13T00:11:51.802999",
     "status": "completed"
    },
    "tags": []
   },
   "outputs": [
    {
     "name": "stderr",
     "output_type": "stream",
     "text": [
      "── \u001b[1mAttaching core tidyverse packages\u001b[22m ──────────────────────── tidyverse 2.0.0 ──\n",
      "\u001b[32m✔\u001b[39m \u001b[34mdplyr    \u001b[39m 1.1.4     \u001b[32m✔\u001b[39m \u001b[34mreadr    \u001b[39m 2.1.4\n",
      "\u001b[32m✔\u001b[39m \u001b[34mforcats  \u001b[39m 1.0.0     \u001b[32m✔\u001b[39m \u001b[34mstringr  \u001b[39m 1.5.1\n",
      "\u001b[32m✔\u001b[39m \u001b[34mggplot2  \u001b[39m 3.4.4     \u001b[32m✔\u001b[39m \u001b[34mtibble   \u001b[39m 3.2.1\n",
      "\u001b[32m✔\u001b[39m \u001b[34mlubridate\u001b[39m 1.9.3     \u001b[32m✔\u001b[39m \u001b[34mtidyr    \u001b[39m 1.3.0\n",
      "\u001b[32m✔\u001b[39m \u001b[34mpurrr    \u001b[39m 1.0.2     \n",
      "── \u001b[1mConflicts\u001b[22m ────────────────────────────────────────── tidyverse_conflicts() ──\n",
      "\u001b[31m✖\u001b[39m \u001b[34mdplyr\u001b[39m::\u001b[32mfilter()\u001b[39m masks \u001b[34mstats\u001b[39m::filter()\n",
      "\u001b[31m✖\u001b[39m \u001b[34mdplyr\u001b[39m::\u001b[32mlag()\u001b[39m    masks \u001b[34mstats\u001b[39m::lag()\n",
      "\u001b[36mℹ\u001b[39m Use the conflicted package (\u001b[3m\u001b[34m<http://conflicted.r-lib.org/>\u001b[39m\u001b[23m) to force all conflicts to become errors\n",
      "── \u001b[1mAttaching packages\u001b[22m ────────────────────────────────────── tidymodels 1.1.1 ──\n",
      "\n",
      "\u001b[32m✔\u001b[39m \u001b[34mbroom       \u001b[39m 1.0.5     \u001b[32m✔\u001b[39m \u001b[34mrsample     \u001b[39m 1.2.0\n",
      "\u001b[32m✔\u001b[39m \u001b[34mdials       \u001b[39m 1.2.0     \u001b[32m✔\u001b[39m \u001b[34mtune        \u001b[39m 1.1.2\n",
      "\u001b[32m✔\u001b[39m \u001b[34minfer       \u001b[39m 1.0.5     \u001b[32m✔\u001b[39m \u001b[34mworkflows   \u001b[39m 1.1.3\n",
      "\u001b[32m✔\u001b[39m \u001b[34mmodeldata   \u001b[39m 1.2.0     \u001b[32m✔\u001b[39m \u001b[34mworkflowsets\u001b[39m 1.0.1\n",
      "\u001b[32m✔\u001b[39m \u001b[34mparsnip     \u001b[39m 1.1.1     \u001b[32m✔\u001b[39m \u001b[34myardstick   \u001b[39m 1.2.0\n",
      "\u001b[32m✔\u001b[39m \u001b[34mrecipes     \u001b[39m 1.0.8     \n",
      "\n",
      "── \u001b[1mConflicts\u001b[22m ───────────────────────────────────────── tidymodels_conflicts() ──\n",
      "\u001b[31m✖\u001b[39m \u001b[34mscales\u001b[39m::\u001b[32mdiscard()\u001b[39m masks \u001b[34mpurrr\u001b[39m::discard()\n",
      "\u001b[31m✖\u001b[39m \u001b[34mdplyr\u001b[39m::\u001b[32mfilter()\u001b[39m   masks \u001b[34mstats\u001b[39m::filter()\n",
      "\u001b[31m✖\u001b[39m \u001b[34mrecipes\u001b[39m::\u001b[32mfixed()\u001b[39m  masks \u001b[34mstringr\u001b[39m::fixed()\n",
      "\u001b[31m✖\u001b[39m \u001b[34mdplyr\u001b[39m::\u001b[32mlag()\u001b[39m      masks \u001b[34mstats\u001b[39m::lag()\n",
      "\u001b[31m✖\u001b[39m \u001b[34myardstick\u001b[39m::\u001b[32mspec()\u001b[39m masks \u001b[34mreadr\u001b[39m::spec()\n",
      "\u001b[31m✖\u001b[39m \u001b[34mrecipes\u001b[39m::\u001b[32mstep()\u001b[39m   masks \u001b[34mstats\u001b[39m::step()\n",
      "\u001b[34m•\u001b[39m Search for functions across packages at \u001b[32mhttps://www.tidymodels.org/find/\u001b[39m\n",
      "\n",
      "\n",
      "Attaching package: ‘vroom’\n",
      "\n",
      "\n",
      "The following object is masked from ‘package:yardstick’:\n",
      "\n",
      "    spec\n",
      "\n",
      "\n",
      "The following object is masked from ‘package:scales’:\n",
      "\n",
      "    col_factor\n",
      "\n",
      "\n",
      "The following objects are masked from ‘package:readr’:\n",
      "\n",
      "    as.col_spec, col_character, col_date, col_datetime, col_double,\n",
      "    col_factor, col_guess, col_integer, col_logical, col_number,\n",
      "    col_skip, col_time, cols, cols_condense, cols_only, date_names,\n",
      "    date_names_lang, date_names_langs, default_locale, fwf_cols,\n",
      "    fwf_empty, fwf_positions, fwf_widths, locale, output_column,\n",
      "    problems, spec\n",
      "\n",
      "\n"
     ]
    }
   ],
   "source": [
    "# LIBRARIES\n",
    "library(tidyverse)\n",
    "library(tidymodels)\n",
    "library(vroom)"
   ]
  },
  {
   "cell_type": "markdown",
   "id": "c5715611",
   "metadata": {
    "papermill": {
     "duration": 0.003556,
     "end_time": "2023-12-13T00:11:56.256123",
     "exception": false,
     "start_time": "2023-12-13T00:11:56.252567",
     "status": "completed"
    },
    "tags": []
   },
   "source": [
    "Now I need to read in the data."
   ]
  },
  {
   "cell_type": "code",
   "execution_count": 2,
   "id": "8bff5ff0",
   "metadata": {
    "execution": {
     "iopub.execute_input": "2023-12-13T00:11:56.300619Z",
     "iopub.status.busy": "2023-12-13T00:11:56.265434Z",
     "iopub.status.idle": "2023-12-13T00:11:57.816265Z",
     "shell.execute_reply": "2023-12-13T00:11:57.814161Z"
    },
    "papermill": {
     "duration": 1.559273,
     "end_time": "2023-12-13T00:11:57.818940",
     "exception": false,
     "start_time": "2023-12-13T00:11:56.259667",
     "status": "completed"
    },
    "tags": []
   },
   "outputs": [
    {
     "name": "stderr",
     "output_type": "stream",
     "text": [
      "\u001b[1mRows: \u001b[22m\u001b[34m188318\u001b[39m \u001b[1mColumns: \u001b[22m\u001b[34m132\u001b[39m\n",
      "\u001b[36m──\u001b[39m \u001b[1mColumn specification\u001b[22m \u001b[36m────────────────────────────────────────────────────────\u001b[39m\n",
      "\u001b[1mDelimiter:\u001b[22m \",\"\n",
      "\u001b[31mchr\u001b[39m (116): cat1, cat2, cat3, cat4, cat5, cat6, cat7, cat8, cat9, cat10, cat1...\n",
      "\u001b[32mdbl\u001b[39m  (16): id, cont1, cont2, cont3, cont4, cont5, cont6, cont7, cont8, cont9...\n",
      "\n",
      "\u001b[36mℹ\u001b[39m Use `spec()` to retrieve the full column specification for this data.\n",
      "\u001b[36mℹ\u001b[39m Specify the column types or set `show_col_types = FALSE` to quiet this message.\n",
      "\u001b[1mRows: \u001b[22m\u001b[34m125546\u001b[39m \u001b[1mColumns: \u001b[22m\u001b[34m131\u001b[39m\n",
      "\u001b[36m──\u001b[39m \u001b[1mColumn specification\u001b[22m \u001b[36m────────────────────────────────────────────────────────\u001b[39m\n",
      "\u001b[1mDelimiter:\u001b[22m \",\"\n",
      "\u001b[31mchr\u001b[39m (116): cat1, cat2, cat3, cat4, cat5, cat6, cat7, cat8, cat9, cat10, cat1...\n",
      "\u001b[32mdbl\u001b[39m  (15): id, cont1, cont2, cont3, cont4, cont5, cont6, cont7, cont8, cont9...\n",
      "\n",
      "\u001b[36mℹ\u001b[39m Use `spec()` to retrieve the full column specification for this data.\n",
      "\u001b[36mℹ\u001b[39m Specify the column types or set `show_col_types = FALSE` to quiet this message.\n"
     ]
    }
   ],
   "source": [
    "# READ IN DATA\n",
    "all_train <- vroom('/kaggle/input/allstate-claims-severity/train.csv')\n",
    "all_test <- vroom('/kaggle/input/allstate-claims-severity/test.csv')"
   ]
  },
  {
   "cell_type": "markdown",
   "id": "be2734e0",
   "metadata": {
    "papermill": {
     "duration": 0.004186,
     "end_time": "2023-12-13T00:11:57.827248",
     "exception": false,
     "start_time": "2023-12-13T00:11:57.823062",
     "status": "completed"
    },
    "tags": []
   },
   "source": [
    "Now I need to perform some feature engineering. First I decided to take the log of the loss variable. Next I created my recipe, which has explanations included in the code. Then I chose my model and fit the workflow. Then I created my predictions and correctly formatted these predictions so they could be successfully submitted to Kaggle. Lastly, I created my csv file for submission."
   ]
  },
  {
   "cell_type": "code",
   "execution_count": 3,
   "id": "e5e0902e",
   "metadata": {
    "execution": {
     "iopub.execute_input": "2023-12-13T00:11:57.839643Z",
     "iopub.status.busy": "2023-12-13T00:11:57.837952Z",
     "iopub.status.idle": "2023-12-13T00:22:19.464395Z",
     "shell.execute_reply": "2023-12-13T00:22:19.462365Z"
    },
    "papermill": {
     "duration": 621.636958,
     "end_time": "2023-12-13T00:22:19.468282",
     "exception": false,
     "start_time": "2023-12-13T00:11:57.831324",
     "status": "completed"
    },
    "tags": []
   },
   "outputs": [
    {
     "name": "stderr",
     "output_type": "stream",
     "text": [
      "Warning message in predict.lm(object = object$fit, newdata = new_data, type = \"response\", :\n",
      "“prediction from a rank-deficient fit may be misleading”\n"
     ]
    }
   ],
   "source": [
    "# FEATURE ENGINEERING\n",
    "\n",
    "# take log of loss variable\n",
    "all_train$loss <- log(all_train$loss)\n",
    "\n",
    "# recipe\n",
    "my_recipe <- recipe(loss ~ ., all_train) %>% \n",
    "  update_role(id, new_role = 'ID') %>% # update id role\n",
    "  step_scale(all_numeric_predictors()) %>% # normalize all numeric predictors to have sd = 1\n",
    "  step_corr(all_numeric_predictors(), threshold = .6) %>% # remove all numeric predictors that have a correlation with other variables that is over 0.6\n",
    "  step_novel(all_nominal_predictors()) %>% # assign new factor values a \"new\" value\n",
    "  step_unknown(all_nominal_predictors()) %>% # assign missing values an \"unknown\" value\n",
    "  step_dummy(all_nominal_predictors()) %>% # create dummy variables for all nominal predictors\n",
    "  prep()\n",
    "\n",
    "# model\n",
    "my_mod <- linear_reg() %>% # Type of model\n",
    "  set_engine(\"lm\")\n",
    "\n",
    "# workflow\n",
    "lin_wf <- workflow() %>%\n",
    "  add_recipe(my_recipe) %>%\n",
    "  add_model(my_mod) %>%\n",
    "  fit(data = all_train) # Fit the workflow\n",
    "\n",
    "# predictions\n",
    "lin_predictions <- predict(lin_wf,\n",
    "                              new_data= all_test)\n",
    "\n",
    "# correctly format predictions\n",
    "lin_predictions <- lin_predictions %>%\n",
    "  bind_cols(., all_test) %>%\n",
    "  select(id, .pred) %>%\n",
    "  rename(loss = .pred) %>%\n",
    "  mutate(loss = exp(loss)) # must do this because we previously took the log of loss\n",
    "\n",
    "# create csv file\n",
    "vroom_write(x=lin_predictions, file=\"linear_predictions.csv\", delim=\",\")"
   ]
  }
 ],
 "metadata": {
  "kaggle": {
   "accelerator": "none",
   "dataSources": [
    {
     "databundleVersionId": 88895,
     "sourceId": 5325,
     "sourceType": "competition"
    }
   ],
   "dockerImageVersionId": 30618,
   "isGpuEnabled": false,
   "isInternetEnabled": true,
   "language": "r",
   "sourceType": "notebook"
  },
  "kernelspec": {
   "display_name": "R",
   "language": "R",
   "name": "ir"
  },
  "language_info": {
   "codemirror_mode": "r",
   "file_extension": ".r",
   "mimetype": "text/x-r-source",
   "name": "R",
   "pygments_lexer": "r",
   "version": "4.0.5"
  },
  "papermill": {
   "default_parameters": {},
   "duration": 632.534598,
   "end_time": "2023-12-13T00:22:20.646281",
   "environment_variables": {},
   "exception": null,
   "input_path": "__notebook__.ipynb",
   "output_path": "__notebook__.ipynb",
   "parameters": {},
   "start_time": "2023-12-13T00:11:48.111683",
   "version": "2.5.0"
  }
 },
 "nbformat": 4,
 "nbformat_minor": 5
}
