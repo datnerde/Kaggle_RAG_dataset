{
 "cells": [
  {
   "cell_type": "code",
   "execution_count": 1,
   "metadata": {
    "_cell_guid": "b1076dfc-b9ad-4769-8c92-a6c4dae69d19",
    "_uuid": "8f2839f25d086af736a60e9eeb907d3b93b6e0e5"
   },
   "outputs": [
    {
     "name": "stdout",
     "output_type": "stream",
     "text": [
      "/kaggle/input/ashrae-energy-prediction/weather_train.csv\n",
      "/kaggle/input/ashrae-energy-prediction/test.csv\n",
      "/kaggle/input/ashrae-energy-prediction/weather_test.csv\n",
      "/kaggle/input/ashrae-energy-prediction/train.csv\n",
      "/kaggle/input/ashrae-energy-prediction/building_metadata.csv\n",
      "/kaggle/input/ashrae-energy-prediction/sample_submission.csv\n"
     ]
    }
   ],
   "source": [
    "# This Python 3 environment comes with many helpful analytics libraries installed\n",
    "# It is defined by the kaggle/python docker image: https://github.com/kaggle/docker-python\n",
    "# For example, here's several helpful packages to load in \n",
    "\n",
    "import numpy as np # linear algebra\n",
    "import pandas as pd # data processing, CSV file I/O (e.g. pd.read_csv)\n",
    "\n",
    "# Input data files are available in the \"../input/\" directory.\n",
    "# For example, running this (by clicking run or pressing Shift+Enter) will list all files under the input directory\n",
    "\n",
    "import os\n",
    "for dirname, _, filenames in os.walk('/kaggle/input'):\n",
    "    for filename in filenames:\n",
    "        print(os.path.join(dirname, filename))\n",
    "\n",
    "# Any results you write to the current directory are saved as output."
   ]
  },
  {
   "cell_type": "code",
   "execution_count": 2,
   "metadata": {
    "_cell_guid": "79c7e3d0-c299-4dcb-8224-4455121ee9b0",
    "_uuid": "d629ff2d2480ee46fbb7e2d37f6b5fab8052498a"
   },
   "outputs": [],
   "source": [
    "# Import Statements\n",
    "\n",
    "import datetime\n",
    "import pandas as pd\n",
    "import numpy as np\n",
    "import matplotlib.pyplot as plt\n",
    "import pickle\n",
    "from lightgbm import LGBMRegressor, plot_importance\n",
    "from sklearn.metrics import mean_squared_log_error as msle, mean_squared_error as mse\n",
    "from sklearn.model_selection import KFold, train_test_split\n",
    "from sklearn.preprocessing import OneHotEncoder\n",
    "from sklearn.linear_model import LinearRegression\n",
    "from tqdm import tqdm\n",
    "# Input data files are available in the \"../input/\" directory.\n",
    "# For example, running this (by clicking run or pressing Shift+Enter) will list all files under the input directory\n",
    "\n",
    "import os\n",
    "# for dirname, _, filenames in os.walk('/kaggle/input'):\n",
    "#     for filename in filenames:\n",
    "#         print(os.path.join(dirname, filename))\n",
    "\n",
    "# # Any results you write to the current directory are saved as output.\n",
    "pd.set_option('display.max_columns', 100)\n"
   ]
  },
  {
   "cell_type": "code",
   "execution_count": 3,
   "metadata": {},
   "outputs": [],
   "source": [
    "# Code from https://www.kaggle.com/caesarlupum/ashrae-start-here-a-gentle-introduction \n",
    "# Function to reduce the DF size\n",
    "def reduce_mem_usage(df, verbose=True):\n",
    "    numerics = ['int16', 'int32', 'int64', 'float16', 'float32', 'float64']\n",
    "    start_mem = df.memory_usage().sum() / 1024**2    \n",
    "    for col in df.columns:\n",
    "        col_type = df[col].dtypes\n",
    "        if col_type in numerics:\n",
    "            c_min = df[col].min()\n",
    "            c_max = df[col].max()\n",
    "            if str(col_type)[:3] == 'int':\n",
    "                if c_min > np.iinfo(np.int8).min and c_max < np.iinfo(np.int8).max:\n",
    "                    df[col] = df[col].astype(np.int8)\n",
    "                elif c_min > np.iinfo(np.int16).min and c_max < np.iinfo(np.int16).max:\n",
    "                    df[col] = df[col].astype(np.int16)\n",
    "                elif c_min > np.iinfo(np.int32).min and c_max < np.iinfo(np.int32).max:\n",
    "                    df[col] = df[col].astype(np.int32)\n",
    "                elif c_min > np.iinfo(np.int64).min and c_max < np.iinfo(np.int64).max:\n",
    "                    df[col] = df[col].astype(np.int64)  \n",
    "            else:\n",
    "                if c_min > np.finfo(np.float16).min and c_max < np.finfo(np.float16).max:\n",
    "                    df[col] = df[col].astype(np.float16)\n",
    "                elif c_min > np.finfo(np.float32).min and c_max < np.finfo(np.float32).max:\n",
    "                    df[col] = df[col].astype(np.float32)\n",
    "                else:\n",
    "                    df[col] = df[col].astype(np.float64)    \n",
    "    end_mem = df.memory_usage().sum() / 1024**2\n",
    "    if verbose: print('Mem. usage decreased to {:5.2f} Mb ({:.1f}% reduction)'.format(end_mem, 100 * (start_mem - end_mem) / start_mem))\n",
    "    return df\n",
    "\n",
    "# function to calculate evaluation metric\n",
    "def rmsle(y_true: pd.Series, y_predict: pd.Series) -> float:\n",
    "    \"\"\"\n",
    "    Evaluate root mean squared log error\n",
    "    :param y_true:\n",
    "    :param y_predict:\n",
    "    :return:\n",
    "    \"\"\"\n",
    "    return np.sqrt(msle(y_true, y_predict))"
   ]
  },
  {
   "cell_type": "code",
   "execution_count": 4,
   "metadata": {},
   "outputs": [],
   "source": [
    "# Import data\n",
    "INPUT = \"../input/ashrae-energy-prediction/\"\n",
    "\n",
    "df_train = pd.read_csv(f\"{INPUT}train.csv\")\n",
    "df_test = pd.read_csv(f\"{INPUT}test.csv\")\n",
    "bldg_metadata = pd.read_csv(f\"{INPUT}building_metadata.csv\")\n",
    "weather_train = pd.read_csv(f\"{INPUT}weather_train.csv\")\n",
    "weather_test = pd.read_csv(f\"{INPUT}weather_test.csv\")\n",
    "sample = pd.read_csv(f\"{INPUT}sample_submission.csv\")"
   ]
  },
  {
   "cell_type": "code",
   "execution_count": 5,
   "metadata": {},
   "outputs": [],
   "source": [
    "df_test = df_test.drop(columns=['row_id'])"
   ]
  },
  {
   "cell_type": "code",
   "execution_count": 6,
   "metadata": {},
   "outputs": [
    {
     "name": "stdout",
     "output_type": "stream",
     "text": [
      "Mem. usage decreased to 289.19 Mb (53.1% reduction)\n",
      "Mem. usage decreased to 437.43 Mb (54.2% reduction)\n",
      "Mem. usage decreased to  3.07 Mb (68.1% reduction)\n",
      "Mem. usage decreased to  6.08 Mb (68.1% reduction)\n"
     ]
    }
   ],
   "source": [
    "df_train = reduce_mem_usage(df=df_train)\n",
    "df_test = reduce_mem_usage(df=df_test)\n",
    "weather_train = reduce_mem_usage(df=weather_train)\n",
    "weather_test = reduce_mem_usage(df=weather_test)"
   ]
  },
  {
   "cell_type": "code",
   "execution_count": 7,
   "metadata": {},
   "outputs": [],
   "source": [
    "df_train = df_train.merge(bldg_metadata, on='building_id', how='left')\n",
    "df_test = df_test.merge(bldg_metadata, on='building_id', how='left')\n",
    "df_train = df_train.merge(weather_train, on=['site_id', 'timestamp'], how='left')\n",
    "df_test = df_test.merge(weather_test, on=['site_id', 'timestamp'], how='left')"
   ]
  },
  {
   "cell_type": "code",
   "execution_count": 8,
   "metadata": {},
   "outputs": [
    {
     "data": {
      "text/plain": [
       "0"
      ]
     },
     "execution_count": 8,
     "metadata": {},
     "output_type": "execute_result"
    }
   ],
   "source": [
    "import gc\n",
    "del weather_train, weather_test, bldg_metadata\n",
    "gc.collect()"
   ]
  },
  {
   "cell_type": "code",
   "execution_count": 9,
   "metadata": {},
   "outputs": [],
   "source": [
    "df_train['timestamp'] = pd.to_datetime(arg=df_train['timestamp'])\n",
    "df_test['timestamp'] = pd.to_datetime(arg=df_test['timestamp'])"
   ]
  },
  {
   "cell_type": "markdown",
   "metadata": {},
   "source": [
    "## Feature Engineering"
   ]
  },
  {
   "cell_type": "code",
   "execution_count": 10,
   "metadata": {},
   "outputs": [],
   "source": [
    "# Extracting date features from timestamp\n",
    "df_train['year'] = df_train['timestamp'].dt.year\n",
    "df_train['month'] = df_train['timestamp'].dt.month\n",
    "df_train['day'] = df_train['timestamp'].dt.day\n",
    "df_train['hour'] = df_train['timestamp'].dt.hour\n",
    "df_test['year'] = df_test['timestamp'].dt.year\n",
    "df_test['month'] = df_test['timestamp'].dt.month\n",
    "df_test['day'] = df_test['timestamp'].dt.day\n",
    "df_test['hour'] = df_test['timestamp'].dt.hour\n",
    "df_train['dayofweek'] = df_train['timestamp'].dt.dayofweek\n",
    "df_test['dayofweek'] = df_test['timestamp'].dt.dayofweek"
   ]
  },
  {
   "cell_type": "code",
   "execution_count": 11,
   "metadata": {},
   "outputs": [],
   "source": [
    "# Making age feature\n",
    "df_train['age'] = df_train['year'] - df_train['year_built']\n",
    "df_test['age'] = df_test['year'] - df_test['year_built']\n",
    "\n",
    "# Making number of hours passed from start\n",
    "new_df = df_train.groupby(by=['building_id'], as_index=False)['timestamp'].min()\n",
    "new_df = new_df.rename(columns = {'timestamp': 'start_ts'})\n",
    "\n",
    "df_train = df_train.merge(new_df, on = 'building_id', how='left')\n",
    "df_test = df_test.merge(new_df, on = 'building_id', how='left')\n",
    "\n",
    "df_train['hours_passed'] = (df_train['timestamp'] - df_train['start_ts']).dt.total_seconds()/3600\n",
    "df_test['hours_passed'] = (df_test['timestamp'] - df_test['start_ts']).dt.total_seconds()/3600"
   ]
  },
  {
   "cell_type": "markdown",
   "metadata": {},
   "source": [
    "## Data Cleaning"
   ]
  },
  {
   "cell_type": "code",
   "execution_count": 12,
   "metadata": {},
   "outputs": [],
   "source": [
    "# site_id =0 has some building where meter readings before May 21, 2016 are not reliable so dropping those records \n",
    "df_train = df_train.query('not(site_id==0 & timestamp<\"2016-05-21 00:00:00\")')\n",
    "\n",
    "# Missing value handling\n",
    "cols = ['floor_count', 'air_temperature', 'cloud_coverage', 'dew_temperature', 'precip_depth_1_hr', 'sea_level_pressure', \n",
    "        'wind_direction', 'wind_speed']\n",
    "df_train.loc[:, cols] = df_train.loc[:, cols].interpolate(axis=0)\n",
    "df_test.loc[:, cols] = df_test.loc[:, cols].interpolate(axis=0)"
   ]
  },
  {
   "cell_type": "code",
   "execution_count": 13,
   "metadata": {},
   "outputs": [],
   "source": [
    "class NewFeatures:\n",
    "    \"\"\"This class constructs features of min, max, median, mean, std_dev based on grouping columns\"\"\"\n",
    "    \n",
    "    def __init__(self, feature, grouping_cols):\n",
    "        self.feature = feature\n",
    "        self.grouping_cols = grouping_cols\n",
    "        self.features = None\n",
    "        self.feature_mean = None\n",
    "        self.feature_median = None\n",
    "        self.feature_std_dev = None\n",
    "        self.feature_min = None\n",
    "        self.feature_max = None\n",
    "        \n",
    "    def fetch_values(self, df):\n",
    "        self.feature_mean = df.groupby(by=self.grouping_cols, as_index=False)[self.feature].mean().rename(columns={self.feature: f'{self.feature}_mean'})\n",
    "        self.feature_median = df.groupby(by=self.grouping_cols, as_index=False)[self.feature].median().rename(columns={self.feature: f'{self.feature}_median'})\n",
    "        self.feature_std_dev = df.groupby(by=self.grouping_cols, as_index=False)[self.feature].std().rename(columns={self.feature: f'{self.feature}_std_dev'})\n",
    "        self.feature_min = df.groupby(by=self.grouping_cols, as_index=False)[self.feature].min().rename(columns={self.feature: f'{self.feature}_min'})\n",
    "        self.feature_max = df.groupby(by=self.grouping_cols, as_index=False)[self.feature].max().rename(columns={self.feature: f'{self.feature}_max'})\n",
    "        self.features = self.feature_mean\n",
    "        self.features[f'{self.feature}_median'] = self.feature_median[f'{self.feature}_median']\n",
    "        self.features[f'{self.feature}_std_dev'] = self.feature_std_dev[f'{self.feature}_std_dev']\n",
    "        self.features[f'{self.feature}_min'] = self.feature_min[f'{self.feature}_min']\n",
    "        self.features[f'{self.feature}_max'] = self.feature_max[f'{self.feature}_max']\n",
    "    \n",
    "    def predict(self, df):\n",
    "        STEP = 10000\n",
    "        for i in tqdm(range(0, df.shape[0], STEP)):\n",
    "            df.loc[i:i+STEP-1,:] = df.loc[i:i+STEP-1,:].merge(self.features, on = self.grouping_cols)\n",
    "        return df"
   ]
  },
  {
   "cell_type": "code",
   "execution_count": 14,
   "metadata": {},
   "outputs": [],
   "source": [
    "# Convert to categorical datatype\n",
    "cat_cols = ['meter', 'primary_use', 'site_id', 'building_id', 'year', 'month', 'day', 'hour', 'dayofweek']\n",
    "for col in cat_cols:\n",
    "    df_train[col] = df_train[col].astype('category')\n",
    "    df_test[col] = df_test[col].astype('category')"
   ]
  },
  {
   "cell_type": "markdown",
   "metadata": {},
   "source": [
    "## Modelling"
   ]
  },
  {
   "cell_type": "code",
   "execution_count": 15,
   "metadata": {},
   "outputs": [
    {
     "data": {
      "text/html": [
       "<div>\n",
       "<style scoped>\n",
       "    .dataframe tbody tr th:only-of-type {\n",
       "        vertical-align: middle;\n",
       "    }\n",
       "\n",
       "    .dataframe tbody tr th {\n",
       "        vertical-align: top;\n",
       "    }\n",
       "\n",
       "    .dataframe thead th {\n",
       "        text-align: right;\n",
       "    }\n",
       "</style>\n",
       "<table border=\"1\" class=\"dataframe\">\n",
       "  <thead>\n",
       "    <tr style=\"text-align: right;\">\n",
       "      <th></th>\n",
       "      <th>building_id</th>\n",
       "      <th>meter</th>\n",
       "      <th>timestamp</th>\n",
       "      <th>meter_reading</th>\n",
       "      <th>site_id</th>\n",
       "      <th>primary_use</th>\n",
       "      <th>square_feet</th>\n",
       "      <th>year_built</th>\n",
       "      <th>floor_count</th>\n",
       "      <th>air_temperature</th>\n",
       "      <th>cloud_coverage</th>\n",
       "      <th>dew_temperature</th>\n",
       "      <th>precip_depth_1_hr</th>\n",
       "      <th>sea_level_pressure</th>\n",
       "      <th>wind_direction</th>\n",
       "      <th>wind_speed</th>\n",
       "      <th>year</th>\n",
       "      <th>month</th>\n",
       "      <th>day</th>\n",
       "      <th>hour</th>\n",
       "      <th>dayofweek</th>\n",
       "      <th>age</th>\n",
       "      <th>start_ts</th>\n",
       "      <th>hours_passed</th>\n",
       "    </tr>\n",
       "  </thead>\n",
       "  <tbody>\n",
       "    <tr>\n",
       "      <th>103</th>\n",
       "      <td>105</td>\n",
       "      <td>0</td>\n",
       "      <td>2016-01-01</td>\n",
       "      <td>23.303600</td>\n",
       "      <td>1</td>\n",
       "      <td>Education</td>\n",
       "      <td>50623</td>\n",
       "      <td>NaN</td>\n",
       "      <td>5.0</td>\n",
       "      <td>3.800781</td>\n",
       "      <td>NaN</td>\n",
       "      <td>2.400391</td>\n",
       "      <td>NaN</td>\n",
       "      <td>1021.0</td>\n",
       "      <td>240.0</td>\n",
       "      <td>3.099609</td>\n",
       "      <td>2016</td>\n",
       "      <td>1</td>\n",
       "      <td>1</td>\n",
       "      <td>0</td>\n",
       "      <td>4</td>\n",
       "      <td>NaN</td>\n",
       "      <td>2016-01-01</td>\n",
       "      <td>0.0</td>\n",
       "    </tr>\n",
       "    <tr>\n",
       "      <th>104</th>\n",
       "      <td>106</td>\n",
       "      <td>0</td>\n",
       "      <td>2016-01-01</td>\n",
       "      <td>0.374600</td>\n",
       "      <td>1</td>\n",
       "      <td>Education</td>\n",
       "      <td>5374</td>\n",
       "      <td>NaN</td>\n",
       "      <td>4.0</td>\n",
       "      <td>3.800781</td>\n",
       "      <td>NaN</td>\n",
       "      <td>2.400391</td>\n",
       "      <td>NaN</td>\n",
       "      <td>1021.0</td>\n",
       "      <td>240.0</td>\n",
       "      <td>3.099609</td>\n",
       "      <td>2016</td>\n",
       "      <td>1</td>\n",
       "      <td>1</td>\n",
       "      <td>0</td>\n",
       "      <td>4</td>\n",
       "      <td>NaN</td>\n",
       "      <td>2016-01-01</td>\n",
       "      <td>0.0</td>\n",
       "    </tr>\n",
       "    <tr>\n",
       "      <th>105</th>\n",
       "      <td>106</td>\n",
       "      <td>3</td>\n",
       "      <td>2016-01-01</td>\n",
       "      <td>0.000000</td>\n",
       "      <td>1</td>\n",
       "      <td>Education</td>\n",
       "      <td>5374</td>\n",
       "      <td>NaN</td>\n",
       "      <td>4.0</td>\n",
       "      <td>3.800781</td>\n",
       "      <td>NaN</td>\n",
       "      <td>2.400391</td>\n",
       "      <td>NaN</td>\n",
       "      <td>1021.0</td>\n",
       "      <td>240.0</td>\n",
       "      <td>3.099609</td>\n",
       "      <td>2016</td>\n",
       "      <td>1</td>\n",
       "      <td>1</td>\n",
       "      <td>0</td>\n",
       "      <td>4</td>\n",
       "      <td>NaN</td>\n",
       "      <td>2016-01-01</td>\n",
       "      <td>0.0</td>\n",
       "    </tr>\n",
       "    <tr>\n",
       "      <th>106</th>\n",
       "      <td>107</td>\n",
       "      <td>0</td>\n",
       "      <td>2016-01-01</td>\n",
       "      <td>175.184006</td>\n",
       "      <td>1</td>\n",
       "      <td>Education</td>\n",
       "      <td>97532</td>\n",
       "      <td>2005.0</td>\n",
       "      <td>10.0</td>\n",
       "      <td>3.800781</td>\n",
       "      <td>NaN</td>\n",
       "      <td>2.400391</td>\n",
       "      <td>NaN</td>\n",
       "      <td>1021.0</td>\n",
       "      <td>240.0</td>\n",
       "      <td>3.099609</td>\n",
       "      <td>2016</td>\n",
       "      <td>1</td>\n",
       "      <td>1</td>\n",
       "      <td>0</td>\n",
       "      <td>4</td>\n",
       "      <td>11.0</td>\n",
       "      <td>2016-01-01</td>\n",
       "      <td>0.0</td>\n",
       "    </tr>\n",
       "    <tr>\n",
       "      <th>107</th>\n",
       "      <td>108</td>\n",
       "      <td>0</td>\n",
       "      <td>2016-01-01</td>\n",
       "      <td>91.265297</td>\n",
       "      <td>1</td>\n",
       "      <td>Education</td>\n",
       "      <td>81580</td>\n",
       "      <td>1913.0</td>\n",
       "      <td>5.0</td>\n",
       "      <td>3.800781</td>\n",
       "      <td>NaN</td>\n",
       "      <td>2.400391</td>\n",
       "      <td>NaN</td>\n",
       "      <td>1021.0</td>\n",
       "      <td>240.0</td>\n",
       "      <td>3.099609</td>\n",
       "      <td>2016</td>\n",
       "      <td>1</td>\n",
       "      <td>1</td>\n",
       "      <td>0</td>\n",
       "      <td>4</td>\n",
       "      <td>103.0</td>\n",
       "      <td>2016-01-01</td>\n",
       "      <td>0.0</td>\n",
       "    </tr>\n",
       "  </tbody>\n",
       "</table>\n",
       "</div>"
      ],
      "text/plain": [
       "    building_id meter  timestamp  meter_reading site_id primary_use  \\\n",
       "103         105     0 2016-01-01      23.303600       1   Education   \n",
       "104         106     0 2016-01-01       0.374600       1   Education   \n",
       "105         106     3 2016-01-01       0.000000       1   Education   \n",
       "106         107     0 2016-01-01     175.184006       1   Education   \n",
       "107         108     0 2016-01-01      91.265297       1   Education   \n",
       "\n",
       "     square_feet  year_built  floor_count  air_temperature  cloud_coverage  \\\n",
       "103        50623         NaN          5.0         3.800781             NaN   \n",
       "104         5374         NaN          4.0         3.800781             NaN   \n",
       "105         5374         NaN          4.0         3.800781             NaN   \n",
       "106        97532      2005.0         10.0         3.800781             NaN   \n",
       "107        81580      1913.0          5.0         3.800781             NaN   \n",
       "\n",
       "     dew_temperature  precip_depth_1_hr  sea_level_pressure  wind_direction  \\\n",
       "103         2.400391                NaN              1021.0           240.0   \n",
       "104         2.400391                NaN              1021.0           240.0   \n",
       "105         2.400391                NaN              1021.0           240.0   \n",
       "106         2.400391                NaN              1021.0           240.0   \n",
       "107         2.400391                NaN              1021.0           240.0   \n",
       "\n",
       "     wind_speed  year month day hour dayofweek    age   start_ts  hours_passed  \n",
       "103    3.099609  2016     1   1    0         4    NaN 2016-01-01           0.0  \n",
       "104    3.099609  2016     1   1    0         4    NaN 2016-01-01           0.0  \n",
       "105    3.099609  2016     1   1    0         4    NaN 2016-01-01           0.0  \n",
       "106    3.099609  2016     1   1    0         4   11.0 2016-01-01           0.0  \n",
       "107    3.099609  2016     1   1    0         4  103.0 2016-01-01           0.0  "
      ]
     },
     "execution_count": 15,
     "metadata": {},
     "output_type": "execute_result"
    }
   ],
   "source": [
    "df_train.head()"
   ]
  },
  {
   "cell_type": "code",
   "execution_count": 16,
   "metadata": {},
   "outputs": [
    {
     "name": "stdout",
     "output_type": "stream",
     "text": [
      "score: 1.053621230174478\n"
     ]
    }
   ],
   "source": [
    "# Make validation set based on time split\n",
    "df_val = df_train.loc[df_train['timestamp'] >= '2016-11-01 00:00:00']\n",
    "df_train = df_train.loc[df_train['timestamp'] < '2016-11-01 00:00:00']\n",
    "y_train = df_train['meter_reading']\n",
    "y_val = df_val['meter_reading']\n",
    "\n",
    "y_train = np.log1p(y_train)\n",
    "y_val = np.log1p(y_val)\n",
    "df_train = df_train.drop(columns=['meter_reading'])\n",
    "df_val = df_val.drop(columns=['meter_reading'])\n",
    "\n",
    "# # Create input and target\n",
    "# y_train = df_train['meter_reading']\n",
    "# y_train = np.log1p(y_train)\n",
    "# df_train = df_train.drop(columns=['meter_reading'])\n",
    "\n",
    "# # Make validation set based on train_test_split\n",
    "# df_train, df_val, y_train, y_val = train_test_split(df_train, y_train, test_size=0.2, random_state=42)\n",
    "\n",
    "# Drop timestamp because model does not accept\n",
    "df_train = df_train.drop(columns=['timestamp', 'start_ts'])\n",
    "df_val = df_val.drop(columns=['timestamp', 'start_ts'])\n",
    "df_test = df_test.drop(columns=['timestamp', 'start_ts'])\n",
    "\n",
    "# Model\n",
    "lgbmr = LGBMRegressor(random_state=10)\n",
    "lgbmr.fit(df_train, y_train)\n",
    "y_predict = lgbmr.predict(df_val)\n",
    "score = np.sqrt(mse(y_val, y_predict))\n",
    "# score = rmsle(y_val, y_predict)\n",
    "print(f\"score: {score}\")"
   ]
  },
  {
   "cell_type": "code",
   "execution_count": 17,
   "metadata": {},
   "outputs": [
    {
     "name": "stdout",
     "output_type": "stream",
     "text": [
      "0\n",
      "score: 0.5712098942103687\n",
      "1\n",
      "score: 1.4406747374150597\n",
      "2\n",
      "score: 1.1925999720943061\n",
      "3\n",
      "score: 1.7225343224572198\n"
     ]
    }
   ],
   "source": [
    "# # Model\n",
    "model = []\n",
    "meter_types = list(df_train['meter'].unique().astype('int'))\n",
    "meter_types.sort()\n",
    "for meter_type in meter_types:\n",
    "     print(meter_type)\n",
    "     model.append(LGBMRegressor(random_state=10))\n",
    "     X = df_train.loc[df_train['meter']==meter_type, :].reset_index(drop=True)\n",
    "     y = y_train[df_train['meter']==meter_type].reset_index(drop=True)\n",
    "     X_validation = df_val.loc[df_val['meter']==meter_type, :].reset_index(drop=True)\n",
    "     y_validation = y_val[df_val['meter']==meter_type].reset_index(drop=True)\n",
    "     model[meter_type].fit(X, y)\n",
    "     y_predict = model[meter_type].predict(X_validation)\n",
    "     score = np.sqrt(mse(y_validation, y_predict))\n",
    "     print(f\"score: {score}\")"
   ]
  },
  {
   "cell_type": "markdown",
   "metadata": {},
   "source": [
    "## Ensemble Modelling"
   ]
  },
  {
   "cell_type": "code",
   "execution_count": 18,
   "metadata": {},
   "outputs": [],
   "source": [
    "# Half and half learning\n",
    "X_1st_half = df_train[:int(df_train.shape[0]/2)]\n",
    "y_1st_half = y_train[:int(df_train.shape[0]/2)]\n",
    "X_2nd_half = df_train[int(df_train.shape[0]/2):]\n",
    "y_2nd_half = y_train[int(df_train.shape[0]/2):]"
   ]
  },
  {
   "cell_type": "code",
   "execution_count": 19,
   "metadata": {},
   "outputs": [
    {
     "name": "stdout",
     "output_type": "stream",
     "text": [
      "score: 1.107274963569501\n"
     ]
    }
   ],
   "source": [
    "lgbmr_1st_half = LGBMRegressor(random_state=10)\n",
    "lgbmr_2nd_half = LGBMRegressor(random_state=10)\n",
    "lgbmr_1st_half.fit(X_1st_half, y_1st_half)\n",
    "lgbmr_2nd_half.fit(X_2nd_half, y_2nd_half)\n",
    "y_predict_1 = lgbmr_1st_half.predict(df_val)\n",
    "y_predict_2 = lgbmr_2nd_half.predict(df_val)\n",
    "y_predict_1_2 = (pd.Series(data=y_predict_1, name='prediction_1') + pd.Series(data=y_predict_2, name='prediction_2'))/2\n",
    "score = np.sqrt(mse(y_val, y_predict_1_2))\n",
    "print(f\"score: {score}\")"
   ]
  },
  {
   "cell_type": "code",
   "execution_count": 20,
   "metadata": {},
   "outputs": [],
   "source": [
    "# Saving model\n",
    "filename = 'lgbm_model1.pickle'\n",
    "pickle.dump(lgbmr, open(filename, 'wb'))\n",
    "# load the model from disk\n",
    "loaded_model = pickle.load(open(filename, 'rb'))\n",
    "\n",
    "filename = 'lgbmr_1st_half.pickle'\n",
    "pickle.dump(lgbmr, open(filename, 'wb'))\n",
    "# load the model from disk\n",
    "lgbmr_1st_half = pickle.load(open(filename, 'rb'))\n",
    "filename = 'lgbmr_2nd_half.pickle'\n",
    "pickle.dump(lgbmr, open(filename, 'wb'))\n",
    "# load the model from disk\n",
    "lgbmr_2nd_half = pickle.load(open(filename, 'rb'))"
   ]
  },
  {
   "cell_type": "code",
   "execution_count": 21,
   "metadata": {},
   "outputs": [
    {
     "data": {
      "text/plain": [
       "<matplotlib.axes._subplots.AxesSubplot at 0x7f63b89d7ef0>"
      ]
     },
     "execution_count": 21,
     "metadata": {},
     "output_type": "execute_result"
    },
    {
     "data": {
      "image/png": "[encoded data removed]",
      "text/plain": [
       "<Figure size 864x648 with 1 Axes>"
      ]
     },
     "metadata": {
      "needs_background": "light"
     },
     "output_type": "display_data"
    }
   ],
   "source": [
    "# # Important features\n",
    "fig, ax = plt.subplots(figsize=(12, 9))\n",
    "plot_importance(lgbmr, ax=ax)"
   ]
  },
  {
   "cell_type": "code",
   "execution_count": 22,
   "metadata": {},
   "outputs": [
    {
     "data": {
      "text/plain": [
       "<matplotlib.axes._subplots.AxesSubplot at 0x7f63b70694e0>"
      ]
     },
     "execution_count": 22,
     "metadata": {},
     "output_type": "execute_result"
    },
    {
     "data": {
      "image/png": "[encoded data removed]",
      "text/plain": [
       "<Figure size 864x648 with 1 Axes>"
      ]
     },
     "metadata": {
      "needs_background": "light"
     },
     "output_type": "display_data"
    }
   ],
   "source": [
    "fig, ax = plt.subplots(figsize=(12, 9))\n",
    "plot_importance(lgbmr_1st_half, ax=ax)"
   ]
  },
  {
   "cell_type": "code",
   "execution_count": 23,
   "metadata": {},
   "outputs": [
    {
     "data": {
      "text/plain": [
       "<matplotlib.axes._subplots.AxesSubplot at 0x7f63b6e16320>"
      ]
     },
     "execution_count": 23,
     "metadata": {},
     "output_type": "execute_result"
    },
    {
     "data": {
      "image/png": "[encoded data removed]",
      "text/plain": [
       "<Figure size 864x648 with 1 Axes>"
      ]
     },
     "metadata": {
      "needs_background": "light"
     },
     "output_type": "display_data"
    }
   ],
   "source": [
    "fig, ax = plt.subplots(figsize=(12, 9))\n",
    "plot_importance(lgbmr_2nd_half, ax=ax)"
   ]
  },
  {
   "cell_type": "code",
   "execution_count": 24,
   "metadata": {},
   "outputs": [
    {
     "data": {
      "text/plain": [
       "0"
      ]
     },
     "execution_count": 24,
     "metadata": {},
     "output_type": "execute_result"
    }
   ],
   "source": [
    "del df_train, df_val, y_train, y_val, lgbmr\n",
    "gc.collect()"
   ]
  },
  {
   "cell_type": "code",
   "execution_count": 25,
   "metadata": {},
   "outputs": [],
   "source": [
    "\n",
    "STEP = 1000000\n",
    "y_test_predict = []\n",
    "for i in range(0, df_test.shape[0], STEP):\n",
    "    batch_prediction = loaded_model.predict(df_test.loc[i:i+STEP-1,:])\n",
    "    y_test_predict.append(list(batch_prediction))\n",
    "y_test_1st_half = []\n",
    "for predictions in y_test_predict:\n",
    "    y_test_1st_half = y_test_1st_half + predictions\n",
    "    \n",
    "STEP = 1000000\n",
    "y_test_predict = []\n",
    "for i in range(0, df_test.shape[0], STEP):\n",
    "    batch_prediction = loaded_model.predict(df_test.loc[i:i+STEP-1,:])\n",
    "    y_test_predict.append(list(batch_prediction))\n",
    "y_test_2nd_half = []\n",
    "for predictions in y_test_predict:\n",
    "    y_test_2nd_half = y_test_2nd_half + predictions"
   ]
  },
  {
   "cell_type": "code",
   "execution_count": 26,
   "metadata": {},
   "outputs": [],
   "source": [
    "# sample['meter_reading'] = y_test\n",
    "sample['meter_reading'] = (pd.Series(data=y_test_1st_half, name='pred_1st_half') + \n",
    "                           pd.Series(data=y_test_2nd_half, name='pred_2nd_half'))/2 "
   ]
  },
  {
   "cell_type": "code",
   "execution_count": 27,
   "metadata": {},
   "outputs": [],
   "source": [
    "from math import e\n",
    "# sample['meter_reading'] = e**sample['meter_reading'] - 1\n",
    "sample['meter_reading'] = np.expm1(sample['meter_reading'])"
   ]
  },
  {
   "cell_type": "markdown",
   "metadata": {},
   "source": [
    "## Submittion file"
   ]
  },
  {
   "cell_type": "code",
   "execution_count": 28,
   "metadata": {},
   "outputs": [],
   "source": [
    "sample.to_csv(\"submission.csv\", index=False, float_format='%.4f')"
   ]
  },
  {
   "cell_type": "code",
   "execution_count": null,
   "metadata": {},
   "outputs": [],
   "source": []
  },
  {
   "cell_type": "code",
   "execution_count": null,
   "metadata": {},
   "outputs": [],
   "source": []
  },
  {
   "cell_type": "code",
   "execution_count": null,
   "metadata": {},
   "outputs": [],
   "source": []
  },
  {
   "cell_type": "code",
   "execution_count": null,
   "metadata": {},
   "outputs": [],
   "source": []
  },
  {
   "cell_type": "code",
   "execution_count": null,
   "metadata": {},
   "outputs": [],
   "source": []
  },
  {
   "cell_type": "code",
   "execution_count": null,
   "metadata": {},
   "outputs": [],
   "source": []
  }
 ],
 "metadata": {
  "kernelspec": {
   "display_name": "Python 3",
   "language": "python",
   "name": "python3"
  },
  "language_info": {
   "codemirror_mode": {
    "name": "ipython",
    "version": 3
   },
   "file_extension": ".py",
   "mimetype": "text/x-python",
   "name": "python",
   "nbconvert_exporter": "python",
   "pygments_lexer": "ipython3",
   "version": "3.6.6"
  }
 },
 "nbformat": 4,
 "nbformat_minor": 1
}
