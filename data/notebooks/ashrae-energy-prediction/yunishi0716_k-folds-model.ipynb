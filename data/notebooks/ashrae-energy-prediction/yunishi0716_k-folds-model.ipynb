{
 "cells": [
  {
   "cell_type": "markdown",
   "metadata": {},
   "source": [
    "Firstly, I refer the kernel(https://www.kaggle.com/aitude/ashrae-kfold-lightgbm-without-leak-1-08) to make this model,\n",
    "so thanks a lot Sandeep Kumar!"
   ]
  },
  {
   "cell_type": "code",
   "execution_count": 1,
   "metadata": {
    "_cell_guid": "b1076dfc-b9ad-4769-8c92-a6c4dae69d19",
    "_uuid": "8f2839f25d086af736a60e9eeb907d3b93b6e0e5"
   },
   "outputs": [],
   "source": [
    "import gc\n",
    "import os\n",
    "from pathlib import Path\n",
    "import random\n",
    "import sys\n",
    "import datetime\n",
    "\n",
    "import numpy as np\n",
    "import pandas as pd\n",
    "import matplotlib.pyplot as plt\n",
    "import seaborn as sns\n",
    "%matplotlib inline\n",
    "\n",
    "from sklearn import preprocessing\n",
    "from sklearn.model_selection import KFold\n",
    "import lightgbm as lgb\n",
    "import xgboost as xgb\n",
    "import catboost as cb\n",
    "from sklearn.preprocessing import LabelEncoder\n",
    "\n",
    "from sklearn.metrics import mean_squared_error"
   ]
  },
  {
   "cell_type": "markdown",
   "metadata": {},
   "source": [
    "# Loading data"
   ]
  },
  {
   "cell_type": "code",
   "execution_count": 2,
   "metadata": {
    "_cell_guid": "79c7e3d0-c299-4dcb-8224-4455121ee9b0",
    "_uuid": "d629ff2d2480ee46fbb7e2d37f6b5fab8052498a"
   },
   "outputs": [],
   "source": [
    "#reduce the memory usage\n",
    "from pandas.api.types import is_datetime64_any_dtype as is_datetime\n",
    "from pandas.api.types import is_categorical_dtype\n",
    "def reduce_mem_usage(df):\n",
    "    \"\"\" iterate through all the columns of a dataframe and modify the data type\n",
    "        to reduce memory usage.        \n",
    "    \"\"\"\n",
    "    start_mem = df.memory_usage().sum() / 1024**2\n",
    "    print('Memory usage of dataframe is {:.2f} MB'.format(start_mem))\n",
    "    \n",
    "    for col in df.columns:\n",
    "        if is_datetime(df[col]) or is_categorical_dtype(df[col]):\n",
    "            # skip datetime type or categorical type\n",
    "            continue\n",
    "        col_type = df[col].dtype\n",
    "        \n",
    "        if col_type != object:\n",
    "            c_min = df[col].min()\n",
    "            c_max = df[col].max()\n",
    "            if str(col_type)[:3] == 'int':\n",
    "                if c_min > np.iinfo(np.int8).min and c_max < np.iinfo(np.int8).max:\n",
    "                    df[col] = df[col].astype(np.int8)\n",
    "                elif c_min > np.iinfo(np.int16).min and c_max < np.iinfo(np.int16).max:\n",
    "                    df[col] = df[col].astype(np.int16)\n",
    "                elif c_min > np.iinfo(np.int32).min and c_max < np.iinfo(np.int32).max:\n",
    "                    df[col] = df[col].astype(np.int32)\n",
    "                elif c_min > np.iinfo(np.int64).min and c_max < np.iinfo(np.int64).max:\n",
    "                    df[col] = df[col].astype(np.int64)  \n",
    "            else:\n",
    "                if c_min > np.finfo(np.float16).min and c_max < np.finfo(np.float16).max:\n",
    "                    df[col] = df[col].astype(np.float16)\n",
    "                elif c_min > np.finfo(np.float32).min and c_max < np.finfo(np.float32).max:\n",
    "                    df[col] = df[col].astype(np.float32)\n",
    "                else:\n",
    "                    df[col] = df[col].astype(np.float64)\n",
    "        else:\n",
    "            df[col] = df[col].astype('category')\n",
    "\n",
    "    end_mem = df.memory_usage().sum() / 1024**2\n",
    "    print('Memory usage after optimization is: {:.2f} MB'.format(end_mem))\n",
    "    print('Decreased by {:.1f}%'.format(100 * (start_mem - end_mem) / start_mem))\n",
    "    \n",
    "    return df"
   ]
  },
  {
   "cell_type": "code",
   "execution_count": 3,
   "metadata": {},
   "outputs": [],
   "source": [
    "# using original data\n",
    "root = Path('../input/ashrae-feather-format-for-fast-loading')\n",
    "\n",
    "train_df = pd.read_feather(root/'train.feather')\n",
    "# Remove outliers\n",
    "train_df = train_df [ train_df['building_id'] != 1099 ]\n",
    "train_df = train_df.query('not (building_id <= 104 & meter == 0 & timestamp <= \"2016-05-20\")')\n",
    "\n",
    "building_df = pd.read_feather(root/'building_metadata.feather')\n",
    "weather_df = pd.read_feather(root/'weather_train.feather')"
   ]
  },
  {
   "cell_type": "code",
   "execution_count": 4,
   "metadata": {},
   "outputs": [],
   "source": [
    "DATA_PATH = \"../input/ashrae-energy-prediction/\"\n",
    "train_df_csv = pd.read_csv(DATA_PATH + 'train.csv')\n",
    "\n",
    "# Remove outliers\n",
    "train_df_csv = train_df_csv[ train_df_csv['building_id'] != 1099 ]\n",
    "train_df_csv = train_df_csv.query('not (building_id <= 104 & meter == 0 & timestamp <= \"2016-05-20\")')\n",
    "\n",
    "building_df_csv = pd.read_csv(DATA_PATH + 'building_metadata.csv')\n",
    "weather_df_csv = pd.read_csv(DATA_PATH + 'weather_train.csv')"
   ]
  },
  {
   "cell_type": "code",
   "execution_count": 5,
   "metadata": {},
   "outputs": [
    {
     "data": {
      "text/plain": [
       "34"
      ]
     },
     "execution_count": 5,
     "metadata": {},
     "output_type": "execute_result"
    }
   ],
   "source": [
    "train_df['timestamp'] = train_df_csv['timestamp'].copy()\n",
    "weather_df['timestamp'] = weather_df_csv['timestamp'].copy()\n",
    "del weather_df_csv, train_df_csv\n",
    "gc.collect()"
   ]
  },
  {
   "cell_type": "markdown",
   "metadata": {},
   "source": [
    "# Feature engineering\n",
    "- fill the null value and update some weather data"
   ]
  },
  {
   "cell_type": "code",
   "execution_count": 6,
   "metadata": {},
   "outputs": [],
   "source": [
    "def fill_weather(weather_df):\n",
    "    #find missing hours and add to weather dataframe\n",
    "    time_format = \"%Y-%m-%d %H:%M:%S\"\n",
    "    start_date = datetime.datetime.strptime(weather_df['timestamp'].min(),time_format)\n",
    "    end_date = datetime.datetime.strptime(weather_df['timestamp'].max(),time_format)\n",
    "    total_hours = int(((end_date - start_date).total_seconds() + 3600) / 3600)\n",
    "    hours_list = [(end_date - datetime.timedelta(hours=x)).strftime(time_format) for x in range(total_hours)]\n",
    "    \n",
    "    for site_id in range(16):\n",
    "        site_hours = np.array(weather_df[weather_df['site_id'] == site_id]['timestamp'])\n",
    "        missing_hour_data = pd.DataFrame(np.setdiff1d(hours_list, site_hours), columns=['timestamp'])\n",
    "        missing_hour_data['site_id'] = site_id\n",
    "        weather_df = pd.concat([weather_df, missing_hour_data])\n",
    "    weather_df.reset_index(drop=True)\n",
    "    \n",
    "    #Add date time features\n",
    "    weather_df['datetime'] = pd.to_datetime(weather_df['timestamp'])\n",
    "    weather_df['day'] = weather_df['datetime'].dt.day\n",
    "    weather_df['week'] = weather_df['datetime'].dt.week\n",
    "    weather_df['month'] = weather_df['datetime'].dt.month\n",
    "    \n",
    "    # update values group by site_id, day, month\n",
    "    weather_df = weather_df.set_index(['site_id', 'day', 'month'])\n",
    "    \n",
    "    for col in ['air_temperature', 'cloud_coverage', 'dew_temperature', 'sea_level_pressure', 'wind_direction', 'wind_speed',\\\n",
    "               'precip_depth_1_hr']:\n",
    "        mean_filter = weather_df.groupby(['site_id', 'day', 'month'])[col].mean()\n",
    "        mean_filter = pd.DataFrame(mean_filter.fillna(method='ffill'), columns=[col])\n",
    "        \n",
    "        weather_df.update(mean_filter, overwrite=False)\n",
    "        \n",
    "    weather_df = weather_df.reset_index()\n",
    "    weather_df = weather_df.drop(['datetime', 'day', 'week', 'month'], axis=1)\n",
    "    \n",
    "    return weather_df"
   ]
  },
  {
   "cell_type": "markdown",
   "metadata": {},
   "source": [
    "- add and remove some features"
   ]
  },
  {
   "cell_type": "code",
   "execution_count": 7,
   "metadata": {},
   "outputs": [],
   "source": [
    "def feature_engineering(df):\n",
    "    df.sort_values('timestamp')\n",
    "    df.reset_index(drop=True)\n",
    "    \n",
    "    df[\"timestamp\"] = pd.to_datetime(df[\"timestamp\"],format=\"%Y-%m-%d %H:%M:%S\")\n",
    "    df[\"hour\"] = df[\"timestamp\"].dt.hour\n",
    "    df[\"weekday\"] = df[\"timestamp\"].dt.weekday\n",
    "    df['square_feet'] =  np.log1p(df['square_feet'])\n",
    "    \n",
    "    drop = [\"timestamp\",\"sea_level_pressure\", \"wind_direction\", \"wind_speed\",\"year_built\",\"floor_count\"]\n",
    "    df = df.drop(drop, axis=1)\n",
    "    gc.collect()\n",
    "    \n",
    "    # Encode Categorical Data\n",
    "    le = LabelEncoder()\n",
    "    df[\"primary_use\"] = le.fit_transform(df[\"primary_use\"])\n",
    "    \n",
    "    return df"
   ]
  },
  {
   "cell_type": "code",
   "execution_count": 8,
   "metadata": {},
   "outputs": [
    {
     "name": "stderr",
     "output_type": "stream",
     "text": [
      "/opt/conda/lib/python3.6/site-packages/ipykernel_launcher.py:13: FutureWarning: Sorting because non-concatenation axis is not aligned. A future version\n",
      "of pandas will change to not sort by default.\n",
      "\n",
      "To accept the future behavior, pass 'sort=False'.\n",
      "\n",
      "To retain the current behavior and silence the warning, pass 'sort=True'.\n",
      "\n",
      "  del sys.path[0]\n"
     ]
    },
    {
     "name": "stdout",
     "output_type": "stream",
     "text": [
      "Memory usage of dataframe is 435.45 MB\n",
      "Memory usage after optimization is: 322.23 MB\n",
      "Decreased by 26.0%\n",
      "Memory usage of dataframe is 0.02 MB\n",
      "Memory usage after optimization is: 0.02 MB\n",
      "Decreased by 24.1%\n",
      "Memory usage of dataframe is 5.90 MB\n",
      "Memory usage after optimization is: 2.66 MB\n",
      "Decreased by 54.9%\n"
     ]
    }
   ],
   "source": [
    "#weather data filling\n",
    "weather_df = fill_weather(weather_df)\n",
    "\n",
    "#memeory reduce\n",
    "train_df = reduce_mem_usage(train_df)\n",
    "building_df = reduce_mem_usage(building_df)\n",
    "weather_df = reduce_mem_usage(weather_df)\n",
    "\n",
    "#mearge weather and building data into train data\n",
    "train_df = train_df.merge(building_df, left_on='building_id',right_on='building_id',how='left')\n",
    "train_df = train_df.merge(weather_df,how='left',left_on=['site_id','timestamp'],right_on=['site_id','timestamp'])\n",
    "del weather_df\n",
    "gc.collect()\n",
    "\n",
    "train_df = feature_engineering(train_df)"
   ]
  },
  {
   "cell_type": "markdown",
   "metadata": {},
   "source": [
    "# Training k-folds model"
   ]
  },
  {
   "cell_type": "code",
   "execution_count": 9,
   "metadata": {},
   "outputs": [
    {
     "data": {
      "text/plain": [
       "0"
      ]
     },
     "execution_count": 9,
     "metadata": {},
     "output_type": "execute_result"
    }
   ],
   "source": [
    "train_X = train_df.drop(['meter_reading'], axis=1)\n",
    "train_y = np.log1p(train_df['meter_reading'])\n",
    "del train_df\n",
    "gc.collect()"
   ]
  },
  {
   "cell_type": "code",
   "execution_count": 10,
   "metadata": {},
   "outputs": [
    {
     "name": "stderr",
     "output_type": "stream",
     "text": [
      "/opt/conda/lib/python3.6/site-packages/lightgbm/basic.py:1291: UserWarning: Using categorical_feature in Dataset.\n",
      "  warnings.warn('Using categorical_feature in Dataset.')\n"
     ]
    },
    {
     "name": "stdout",
     "output_type": "stream",
     "text": [
      "Training until validation scores don't improve for 50 rounds\n",
      "[25]\ttraining's rmse: 1.09612\tvalid_1's rmse: 1.2527\n",
      "[50]\ttraining's rmse: 0.898029\tvalid_1's rmse: 1.13238\n",
      "[75]\ttraining's rmse: 0.829808\tvalid_1's rmse: 1.11659\n",
      "[100]\ttraining's rmse: 0.79172\tvalid_1's rmse: 1.11707\n",
      "[125]\ttraining's rmse: 0.76465\tvalid_1's rmse: 1.12029\n",
      "Early stopping, best iteration is:\n",
      "[88]\ttraining's rmse: 0.808621\tvalid_1's rmse: 1.11588\n",
      "Training until validation scores don't improve for 50 rounds\n",
      "[25]\ttraining's rmse: 1.09623\tvalid_1's rmse: 1.21022\n",
      "[50]\ttraining's rmse: 0.907865\tvalid_1's rmse: 1.07489\n",
      "[75]\ttraining's rmse: 0.846485\tvalid_1's rmse: 1.04142\n",
      "[100]\ttraining's rmse: 0.814202\tvalid_1's rmse: 1.03391\n",
      "[125]\ttraining's rmse: 0.789423\tvalid_1's rmse: 1.03125\n",
      "[150]\ttraining's rmse: 0.771818\tvalid_1's rmse: 1.0317\n",
      "Early stopping, best iteration is:\n",
      "[119]\ttraining's rmse: 0.795451\tvalid_1's rmse: 1.03072\n",
      "Training until validation scores don't improve for 50 rounds\n",
      "[25]\ttraining's rmse: 1.06561\tvalid_1's rmse: 1.25214\n",
      "[50]\ttraining's rmse: 0.854772\tvalid_1's rmse: 1.15157\n",
      "[75]\ttraining's rmse: 0.781999\tvalid_1's rmse: 1.14241\n",
      "[100]\ttraining's rmse: 0.744298\tvalid_1's rmse: 1.14605\n",
      "Early stopping, best iteration is:\n",
      "[71]\ttraining's rmse: 0.790256\tvalid_1's rmse: 1.14186\n",
      "final score(rmse) : 1.203800605453954\n"
     ]
    }
   ],
   "source": [
    "categoricals = ['building_id', 'site_id', 'meter', 'primary_use', 'weekday']\n",
    "params = {\n",
    "    \"objective\": \"regression\",\n",
    "    \"boosting\": \"gbdt\",\n",
    "    \"num_leaves\": 1280,\n",
    "    \"learning_rate\": 0.05,\n",
    "    \"feature_fraction\": 0.85,\n",
    "    \"reg_lambda\": 2,\n",
    "    \"metric\": \"rmse\",\n",
    "}\n",
    "models = []\n",
    "y_pred = np.zeros((train_y.shape[0],))\n",
    "kf = KFold(n_splits=3)\n",
    "for train_idx, valid_idx in kf.split(train_X):\n",
    "    train_features, train_target = train_X.loc[train_idx], train_y.loc[train_idx]\n",
    "    valid_features, valid_target = train_X.loc[valid_idx], train_y.loc[valid_idx]\n",
    "    \n",
    "    lgb_train = lgb.Dataset(train_features, label=train_target, categorical_feature=categoricals, free_raw_data=False)\n",
    "    lgb_valid = lgb.Dataset(valid_features, label=valid_target, categorical_feature=categoricals, free_raw_data=False)\n",
    "    \n",
    "    model = lgb.train(params, train_set=lgb_train, num_boost_round=1000, valid_sets=[lgb_train, lgb_valid],\\\n",
    "                     verbose_eval=25, early_stopping_rounds=50)\n",
    "    models.append(model)\n",
    "    y_pred[valid_idx] = model.predict(valid_features, num_iteration=model.best_iteration).reshape(y_pred[valid_idx].shape)\n",
    "    del train_features, train_target, valid_features, valid_target, lgb_train, lgb_valid\n",
    "    gc.collect()\n",
    "print(\"final score(rmse) : \" + str(mean_squared_error(train_y, y_pred)))"
   ]
  },
  {
   "cell_type": "code",
   "execution_count": 11,
   "metadata": {},
   "outputs": [
    {
     "data": {
      "text/plain": [
       "0"
      ]
     },
     "execution_count": 11,
     "metadata": {},
     "output_type": "execute_result"
    }
   ],
   "source": [
    "del train_X, train_y, y_pred\n",
    "gc.collect()"
   ]
  },
  {
   "cell_type": "code",
   "execution_count": 12,
   "metadata": {},
   "outputs": [
    {
     "data": {
      "image/png": "[encoded data removed]",
      "text/plain": [
       "<Figure size 432x288 with 1 Axes>"
      ]
     },
     "metadata": {
      "needs_background": "light"
     },
     "output_type": "display_data"
    },
    {
     "data": {
      "image/png": "[encoded data removed]",
      "text/plain": [
       "<Figure size 432x288 with 1 Axes>"
      ]
     },
     "metadata": {
      "needs_background": "light"
     },
     "output_type": "display_data"
    },
    {
     "data": {
      "image/png": "[encoded data removed]",
      "text/plain": [
       "<Figure size 432x288 with 1 Axes>"
      ]
     },
     "metadata": {
      "needs_background": "light"
     },
     "output_type": "display_data"
    }
   ],
   "source": [
    "for model in models:\n",
    "    lgb.plot_importance(model)\n",
    "    plt.show()"
   ]
  },
  {
   "cell_type": "markdown",
   "metadata": {},
   "source": [
    "# Load and predict Test Data"
   ]
  },
  {
   "cell_type": "code",
   "execution_count": 13,
   "metadata": {},
   "outputs": [
    {
     "name": "stderr",
     "output_type": "stream",
     "text": [
      "/opt/conda/lib/python3.6/site-packages/ipykernel_launcher.py:13: FutureWarning: Sorting because non-concatenation axis is not aligned. A future version\n",
      "of pandas will change to not sort by default.\n",
      "\n",
      "To accept the future behavior, pass 'sort=False'.\n",
      "\n",
      "To retain the current behavior and silence the warning, pass 'sort=True'.\n",
      "\n",
      "  del sys.path[0]\n"
     ]
    },
    {
     "name": "stdout",
     "output_type": "stream",
     "text": [
      "Memory usage of dataframe is 11.76 MB\n",
      "Memory usage after optimization is: 5.30 MB\n",
      "Decreased by 54.9%\n",
      "Memory usage of dataframe is 437.43 MB\n",
      "Memory usage after optimization is: 199.59 MB\n",
      "Decreased by 54.4%\n"
     ]
    }
   ],
   "source": [
    "#load test and weather data\n",
    "test_df = pd.read_feather(root/'test.feather')\n",
    "test_df_csv = pd.read_csv(DATA_PATH + 'test.csv')\n",
    "test_df['timestamp'] = test_df_csv['timestamp'].copy()\n",
    "row_ids = test_df['row_id']\n",
    "test_df = test_df.drop('row_id', axis=1)\n",
    "weather_df = pd.read_feather(root/'weather_test.feather')\n",
    "weather_df_csv = pd.read_csv(DATA_PATH + 'weather_test.csv')\n",
    "weather_df['timestamp'] = weather_df_csv['timestamp'].copy()\n",
    "weather_df = fill_weather(weather_df)\n",
    "weather_df = reduce_mem_usage(weather_df)\n",
    "test_df = reduce_mem_usage(test_df)\n",
    "\n",
    "#merge\n",
    "test_df = test_df.merge(building_df,left_on='building_id',right_on='building_id',how='left')\n",
    "test_df = test_df.merge(weather_df,how='left',on=['timestamp','site_id'])\n",
    "del weather_df, building_df, weather_df_csv, test_df_csv\n",
    "gc.collect()\n",
    "\n",
    "test_df = feature_engineering(test_df)"
   ]
  },
  {
   "cell_type": "code",
   "execution_count": 14,
   "metadata": {},
   "outputs": [
    {
     "name": "stderr",
     "output_type": "stream",
     "text": [
      "/opt/conda/lib/python3.6/site-packages/ipykernel_launcher.py:3: DeprecationWarning: elementwise comparison failed; this will raise an error in the future.\n",
      "  This is separate from the ipykernel package so we can avoid doing imports until\n"
     ]
    },
    {
     "data": {
      "text/plain": [
       "0"
      ]
     },
     "execution_count": 14,
     "metadata": {},
     "output_type": "execute_result"
    }
   ],
   "source": [
    "results = []\n",
    "for model in models:\n",
    "    if  results == []:\n",
    "        results = np.expm1(model.predict(test_df, num_iteration=model.best_iteration)) / len(models)\n",
    "    else:\n",
    "        results += np.expm1(model.predict(test_df, num_iteration=model.best_iteration)) / len(models)\n",
    "    del model\n",
    "    gc.collect()\n",
    "del test_df, models\n",
    "gc.collect()"
   ]
  },
  {
   "cell_type": "markdown",
   "metadata": {},
   "source": [
    "# submission"
   ]
  },
  {
   "cell_type": "code",
   "execution_count": 15,
   "metadata": {},
   "outputs": [],
   "source": [
    "submission = pd.DataFrame({\"row_id\": row_ids, \"meter_reading\": np.clip(results, 0, a_max=None)})\n",
    "del row_ids,results\n",
    "gc.collect()\n",
    "submission.to_csv(\"submission.csv\", index=False)"
   ]
  },
  {
   "cell_type": "code",
   "execution_count": null,
   "metadata": {},
   "outputs": [],
   "source": []
  }
 ],
 "metadata": {
  "kernelspec": {
   "display_name": "Python 3",
   "language": "python",
   "name": "python3"
  },
  "language_info": {
   "codemirror_mode": {
    "name": "ipython",
    "version": 3
   },
   "file_extension": ".py",
   "mimetype": "text/x-python",
   "name": "python",
   "nbconvert_exporter": "python",
   "pygments_lexer": "ipython3",
   "version": "3.6.6"
  }
 },
 "nbformat": 4,
 "nbformat_minor": 1
}
