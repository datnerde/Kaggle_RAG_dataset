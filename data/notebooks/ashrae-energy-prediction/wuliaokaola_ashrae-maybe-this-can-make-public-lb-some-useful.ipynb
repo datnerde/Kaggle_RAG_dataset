{
 "cells": [
  {
   "cell_type": "markdown",
   "metadata": {},
   "source": [
    "**Warning !**\n",
    "This is just a test of leaked data. \n",
    "\n",
    "Since @sohier said:\n",
    "> We will ensure that any meter readings that can be publicly downloaded are not included in the private set.\n",
    "\n",
    "https://www.kaggle.com/c/ashrae-energy-prediction/discussion/117357\n",
    "\n",
    "There is nothing about the private LB. You can replce the 'submission_base' with your own one. \n",
    "If everyone use this snippet, **maybe it can make public LB some useful.**"
   ]
  },
  {
   "cell_type": "code",
   "execution_count": 1,
   "metadata": {
    "_cell_guid": "b1076dfc-b9ad-4769-8c92-a6c4dae69d19",
    "_uuid": "8f2839f25d086af736a60e9eeb907d3b93b6e0e5"
   },
   "outputs": [],
   "source": [
    "import warnings\n",
    "warnings.filterwarnings('ignore')\n",
    "import os\n",
    "import gc\n",
    "import pickle\n",
    "import numpy as np\n",
    "import pandas as pd\n",
    "import random as rn\n",
    "import matplotlib.pyplot as plt\n",
    "\n",
    "from tqdm import tqdm\n",
    "from datetime import datetime, timedelta"
   ]
  },
  {
   "cell_type": "code",
   "execution_count": 2,
   "metadata": {},
   "outputs": [],
   "source": [
    "test = pd.read_csv('../input/ashrae-energy-prediction/test.csv', index_col=0, parse_dates = ['timestamp'])\n",
    "building = pd.read_csv('../input/ashrae-energy-prediction/building_metadata.csv', usecols=['site_id', 'building_id'])"
   ]
  },
  {
   "cell_type": "code",
   "execution_count": 3,
   "metadata": {
    "_cell_guid": "79c7e3d0-c299-4dcb-8224-4455121ee9b0",
    "_uuid": "d629ff2d2480ee46fbb7e2d37f6b5fab8052498a"
   },
   "outputs": [],
   "source": [
    "test = test.merge(building, left_on = \"building_id\", right_on = \"building_id\", how = \"left\")\n",
    "t = test[['building_id', 'meter', 'timestamp']]\n",
    "t['row_id'] = t.index"
   ]
  },
  {
   "cell_type": "markdown",
   "metadata": {},
   "source": [
    "I used a public kernel from [@rohanrao](https://www.kaggle.com/rohanrao) as example.\n",
    "\n",
    "https://www.kaggle.com/rohanrao/ashrae-half-and-half\n",
    "\n",
    "**Replace this part with yours.**"
   ]
  },
  {
   "cell_type": "code",
   "execution_count": 4,
   "metadata": {},
   "outputs": [],
   "source": [
    "submission_base = pd.read_csv('../input/ashrae-half-and-half/submission.csv', index_col=0)"
   ]
  },
  {
   "cell_type": "code",
   "execution_count": 5,
   "metadata": {},
   "outputs": [],
   "source": [
    "submission = submission_base.copy()"
   ]
  },
  {
   "cell_type": "markdown",
   "metadata": {},
   "source": [
    "* Site 0\n",
    "\n",
    "Thanks to [@yamsam](https://www.kaggle.com/yamsam/) and his great kernel.\n",
    "\n",
    "https://www.kaggle.com/yamsam/new-ucf-starter-kernel"
   ]
  },
  {
   "cell_type": "code",
   "execution_count": 6,
   "metadata": {},
   "outputs": [
    {
     "data": {
      "text/plain": [
       "11"
      ]
     },
     "execution_count": 6,
     "metadata": {},
     "output_type": "execute_result"
    }
   ],
   "source": [
    "site_0 = pd.read_csv('../input/new-ucf-starter-kernel/submission_ucf_replaced.csv', index_col=0)\n",
    "submission.loc[test[test['site_id']==0].index, 'meter_reading'] = site_0['meter_reading']\n",
    "del site_0\n",
    "gc.collect()"
   ]
  },
  {
   "cell_type": "markdown",
   "metadata": {},
   "source": [
    "* Site 1\n",
    "\n",
    "Thanks to [@mpware](https://www.kaggle.com/mpware) and his great kernel.\n",
    "\n",
    "https://www.kaggle.com/mpware/ucl-data-leakage-episode-2\n"
   ]
  },
  {
   "cell_type": "code",
   "execution_count": 7,
   "metadata": {},
   "outputs": [],
   "source": [
    "with open('../usr/lib/ucl_data_leakage_episode_2/site1.pkl', 'rb') as f:\n",
    "    site_1 = pickle.load(f)\n",
    "site_1 = site_1[site_1['timestamp'].dt.year > 2016]"
   ]
  },
  {
   "cell_type": "code",
   "execution_count": 8,
   "metadata": {},
   "outputs": [
    {
     "data": {
      "text/plain": [
       "16"
      ]
     },
     "execution_count": 8,
     "metadata": {},
     "output_type": "execute_result"
    }
   ],
   "source": [
    "site_1 = site_1.merge(t, left_on = ['building_id', 'meter', 'timestamp'], right_on = ['building_id', 'meter', 'timestamp'], how = \"left\")\n",
    "site_1 = site_1[['meter_reading_scraped', 'row_id']].set_index('row_id').dropna()\n",
    "submission.loc[site_1.index, 'meter_reading'] = site_1['meter_reading_scraped']\n",
    "del site_1\n",
    "gc.collect()"
   ]
  },
  {
   "cell_type": "markdown",
   "metadata": {},
   "source": [
    "* Site 2\n",
    "\n",
    "Thanks to [@pdnartreb](https://www.kaggle.com/pdnartreb) and his great dataset.\n",
    "\n",
    "https://www.kaggle.com/pdnartreb/asu-buildings-energy-consumption"
   ]
  },
  {
   "cell_type": "code",
   "execution_count": 9,
   "metadata": {},
   "outputs": [],
   "source": [
    "site_2 = pd.read_csv('../input/asu-buildings-energy-consumption/asu_2016-2018.csv', parse_dates = ['timestamp'])\n",
    "site_2 = site_2[site_2['timestamp'].dt.year > 2016]"
   ]
  },
  {
   "cell_type": "code",
   "execution_count": 10,
   "metadata": {},
   "outputs": [
    {
     "data": {
      "text/plain": [
       "16"
      ]
     },
     "execution_count": 10,
     "metadata": {},
     "output_type": "execute_result"
    }
   ],
   "source": [
    "site_2 = site_2.merge(t, left_on = ['building_id', 'meter', 'timestamp'], right_on = ['building_id', 'meter', 'timestamp'], how = \"left\")\n",
    "site_2 = site_2[['meter_reading', 'row_id']].set_index('row_id').dropna()\n",
    "submission.loc[site_2.index, 'meter_reading'] = site_2['meter_reading']\n",
    "del site_2\n",
    "gc.collect()"
   ]
  },
  {
   "cell_type": "markdown",
   "metadata": {},
   "source": [
    "* Site 4\n",
    "\n",
    "Thanks to [@serengil](https://www.kaggle.com/serengil) and his great kernel.\n",
    "\n",
    "https://www.kaggle.com/serengil/ucb-data-leakage-site-4"
   ]
  },
  {
   "cell_type": "code",
   "execution_count": 11,
   "metadata": {},
   "outputs": [],
   "source": [
    "site_4 = pd.read_csv('../input/ucb-data-leakage-site-4/site4.csv', parse_dates = ['timestamp'])\n",
    "site_4.columns = ['building_id', 'timestamp', 'meter_reading']\n",
    "site_4['meter'] = 0\n",
    "site_4['timestamp'] = pd.DatetimeIndex(site_4['timestamp']) + timedelta(hours=-8)\n",
    "site_4 = site_4[site_4['timestamp'].dt.year > 2016]"
   ]
  },
  {
   "cell_type": "code",
   "execution_count": 12,
   "metadata": {},
   "outputs": [
    {
     "data": {
      "text/plain": [
       "16"
      ]
     },
     "execution_count": 12,
     "metadata": {},
     "output_type": "execute_result"
    }
   ],
   "source": [
    "site_4 = site_4.merge(t, left_on = ['building_id', 'meter', 'timestamp'], right_on = ['building_id', 'meter', 'timestamp'], how = \"left\")\n",
    "site_4 = site_4[['meter_reading', 'row_id']].dropna().set_index('row_id')\n",
    "submission.loc[site_4.index, 'meter_reading'] = site_4['meter_reading']\n",
    "del site_4\n",
    "gc.collect()"
   ]
  },
  {
   "cell_type": "code",
   "execution_count": 13,
   "metadata": {},
   "outputs": [],
   "source": [
    "submission.to_csv('submission.csv')"
   ]
  },
  {
   "cell_type": "code",
   "execution_count": 14,
   "metadata": {},
   "outputs": [
    {
     "data": {
      "text/html": [
       "<div>\n",
       "<style scoped>\n",
       "    .dataframe tbody tr th:only-of-type {\n",
       "        vertical-align: middle;\n",
       "    }\n",
       "\n",
       "    .dataframe tbody tr th {\n",
       "        vertical-align: top;\n",
       "    }\n",
       "\n",
       "    .dataframe thead th {\n",
       "        text-align: right;\n",
       "    }\n",
       "</style>\n",
       "<table border=\"1\" class=\"dataframe\">\n",
       "  <thead>\n",
       "    <tr style=\"text-align: right;\">\n",
       "      <th></th>\n",
       "      <th>meter_reading</th>\n",
       "    </tr>\n",
       "  </thead>\n",
       "  <tbody>\n",
       "    <tr>\n",
       "      <th>count</th>\n",
       "      <td>4.169760e+07</td>\n",
       "    </tr>\n",
       "    <tr>\n",
       "      <th>mean</th>\n",
       "      <td>5.689316e+02</td>\n",
       "    </tr>\n",
       "    <tr>\n",
       "      <th>std</th>\n",
       "      <td>1.314722e+04</td>\n",
       "    </tr>\n",
       "    <tr>\n",
       "      <th>min</th>\n",
       "      <td>-3.482039e+01</td>\n",
       "    </tr>\n",
       "    <tr>\n",
       "      <th>25%</th>\n",
       "      <td>2.165443e+01</td>\n",
       "    </tr>\n",
       "    <tr>\n",
       "      <th>50%</th>\n",
       "      <td>7.665330e+01</td>\n",
       "    </tr>\n",
       "    <tr>\n",
       "      <th>75%</th>\n",
       "      <td>2.420019e+02</td>\n",
       "    </tr>\n",
       "    <tr>\n",
       "      <th>max</th>\n",
       "      <td>3.298646e+06</td>\n",
       "    </tr>\n",
       "  </tbody>\n",
       "</table>\n",
       "</div>"
      ],
      "text/plain": [
       "       meter_reading\n",
       "count   4.169760e+07\n",
       "mean    5.689316e+02\n",
       "std     1.314722e+04\n",
       "min    -3.482039e+01\n",
       "25%     2.165443e+01\n",
       "50%     7.665330e+01\n",
       "75%     2.420019e+02\n",
       "max     3.298646e+06"
      ]
     },
     "execution_count": 14,
     "metadata": {},
     "output_type": "execute_result"
    }
   ],
   "source": [
    "submission.describe()"
   ]
  },
  {
   "cell_type": "code",
   "execution_count": null,
   "metadata": {},
   "outputs": [],
   "source": []
  }
 ],
 "metadata": {
  "kernelspec": {
   "display_name": "Python 3",
   "language": "python",
   "name": "python3"
  },
  "language_info": {
   "codemirror_mode": {
    "name": "ipython",
    "version": 3
   },
   "file_extension": ".py",
   "mimetype": "text/x-python",
   "name": "python",
   "nbconvert_exporter": "python",
   "pygments_lexer": "ipython3",
   "version": "3.6.6"
  }
 },
 "nbformat": 4,
 "nbformat_minor": 1
}
