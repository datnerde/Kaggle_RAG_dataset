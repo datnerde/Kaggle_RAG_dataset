{
 "cells": [
  {
   "cell_type": "markdown",
   "metadata": {},
   "source": [
    "Credit to: \n",
    "\n",
    "kxx for https://www.kaggle.com/kailex/ac-dc <br>\n",
    "Vopani for https://www.kaggle.com/rohanrao/ashrae-half-and-half <br>\n",
    "NZ for https://www.kaggle.com/nz0722/aligned-timestamp-lgbm-by-meter-type <br>"
   ]
  },
  {
   "cell_type": "code",
   "execution_count": 1,
   "metadata": {
    "_cell_guid": "b1076dfc-b9ad-4769-8c92-a6c4dae69d19",
    "_uuid": "8f2839f25d086af736a60e9eeb907d3b93b6e0e5"
   },
   "outputs": [],
   "source": [
    "import gc\n",
    "import os\n",
    "import random\n",
    "import matplotlib.pyplot as plt\n",
    "import seaborn as sns\n",
    "import lightgbm as lgb\n",
    "import numpy as np\n",
    "import pandas as pd\n",
    "import pickle\n",
    "from sklearn.metrics import mean_squared_error\n",
    "from sklearn.preprocessing import LabelEncoder\n",
    "import datetime\n",
    "\n",
    "myfavouritenumber = 0\n",
    "seed = myfavouritenumber\n",
    "random.seed(seed)\n",
    "\n",
    "import warnings\n",
    "warnings.filterwarnings('ignore')"
   ]
  },
  {
   "cell_type": "code",
   "execution_count": 2,
   "metadata": {
    "_cell_guid": "79c7e3d0-c299-4dcb-8224-4455121ee9b0",
    "_uuid": "d629ff2d2480ee46fbb7e2d37f6b5fab8052498a"
   },
   "outputs": [
    {
     "name": "stdout",
     "output_type": "stream",
     "text": [
      "CPU times: user 2.78 s, sys: 1.17 s, total: 3.95 s\n",
      "Wall time: 6.55 s\n"
     ]
    }
   ],
   "source": [
    "%%time\n",
    "df_train = pd.read_feather('../input/ashrae-feather/train.ft')\n",
    "df_test = pd.read_feather('../input/ashrae-feather/test.ft')\n",
    "\n",
    "building = pd.read_feather('../input/ashrae-feather/building.ft')\n",
    "le = LabelEncoder()\n",
    "building.primary_use = le.fit_transform(building.primary_use)\n",
    "\n",
    "# weather_train = pd.read_feather('../input/ashrae-feather/weather_train.ft')\n",
    "# weather_test = pd.read_feather('../input/ashrae-feather/weather_test.ft')\n",
    "\n",
    "DATA_PATH = \"../input/ashrae-energy-prediction/\"\n",
    "weather_train = pd.read_csv(DATA_PATH + 'weather_train.csv')\n",
    "weather_test = weather_df = pd.read_csv(DATA_PATH + 'weather_test.csv')"
   ]
  },
  {
   "cell_type": "code",
   "execution_count": 3,
   "metadata": {},
   "outputs": [
    {
     "name": "stdout",
     "output_type": "stream",
     "text": [
      "CPU times: user 2min 45s, sys: 1min 18s, total: 4min 4s\n",
      "Wall time: 3min 16s\n"
     ]
    }
   ],
   "source": [
    "%%time\n",
    "df_train = df_train.query('not (building_id <= 104 & meter == 0 & timestamp <= \"2016-05-20 18\")')\n",
    "df_train = df_train.query('not (building_id == 681 & meter == 0 & timestamp <= \"2016-04-27\")')\n",
    "df_train = df_train.query('not (building_id == 761 & meter == 0 & timestamp <= \"2016-09-02\")')\n",
    "df_train = df_train.query('not (building_id == 799 & meter == 0 & timestamp <= \"2016-09-02\")')\n",
    "df_train = df_train.query('not (building_id == 802 & meter == 0 & timestamp <= \"2016-08-24\")')\n",
    "df_train = df_train.query('not (building_id == 1073 & meter == 0 & timestamp <= \"2016-10-26\")')\n",
    "df_train = df_train.query('not (building_id == 1094 & meter == 0 & timestamp <= \"2016-09-08\")')\n",
    "df_train = df_train.query('not (building_id == 29 & meter == 0 & timestamp <= \"2016-08-10\")')\n",
    "df_train = df_train.query('not (building_id == 40 & meter == 0 & timestamp <= \"2016-06-04\")')\n",
    "df_train = df_train.query('not (building_id == 45 & meter == 0 & timestamp <= \"2016-07\")')\n",
    "df_train = df_train.query('not (building_id == 106 & meter == 0 & timestamp <= \"2016-11\")')\n",
    "df_train = df_train.query('not (building_id == 107 & meter == 0 & timestamp >= \"2016-11-10\")')\n",
    "df_train = df_train.query('not (building_id == 112 & meter == 0 & timestamp < \"2016-10-31 15\")')\n",
    "df_train = df_train.query('not (building_id == 144 & meter == 0 & timestamp > \"2016-05-14\" & timestamp < \"2016-10-31\")')\n",
    "df_train = df_train.query('not (building_id == 147 & meter == 0 & timestamp > \"2016-06-05 19\" & timestamp < \"2016-07-18 15\")')\n",
    "df_train = df_train.query('not (building_id == 171 & meter == 0 & timestamp <= \"2016-07-05\")')\n",
    "df_train = df_train.query('not (building_id == 177 & meter == 0 & timestamp > \"2016-06-04\" & timestamp < \"2016-06-25\")')\n",
    "df_train = df_train.query('not (building_id == 258 & meter == 0 & timestamp > \"2016-09-26\" & timestamp < \"2016-12-12\")')\n",
    "df_train = df_train.query('not (building_id == 258 & meter == 0 & timestamp > \"2016-08-30\" & timestamp < \"2016-09-08\")')\n",
    "df_train = df_train.query('not (building_id == 258 & meter == 0 & timestamp > \"2016-09-18\" & timestamp < \"2016-09-25\")')\n",
    "df_train = df_train.query('not (building_id == 260 & meter == 0 & timestamp <= \"2016-05-11\")')\n",
    "df_train = df_train.query('not (building_id == 269 & meter == 0 & timestamp > \"2016-06-04\" & timestamp < \"2016-06-25\")')\n",
    "df_train = df_train.query('not (building_id == 304 & meter == 0 & timestamp >= \"2016-11-20\")')\n",
    "df_train = df_train.query('not (building_id == 545 & meter == 0 & timestamp > \"2016-01-17\" & timestamp < \"2016-02-10\")')\n",
    "df_train = df_train.query('not (building_id == 604 & meter == 0 & timestamp < \"2016-11-21\")')\n",
    "df_train = df_train.query('not (building_id == 693 & meter == 0 & timestamp > \"2016-09-07\" & timestamp < \"2016-11-23\")')\n",
    "df_train = df_train.query('not (building_id == 693 & meter == 0 & timestamp > \"2016-07-12\" & timestamp < \"2016-05-29\")')\n",
    "df_train = df_train.query('not (building_id == 723 & meter == 0 & timestamp > \"2016-10-06\" & timestamp < \"2016-11-22\")')\n",
    "df_train = df_train.query('not (building_id == 733 & meter == 0 & timestamp > \"2016-05-29\" & timestamp < \"2016-06-22\")')\n",
    "df_train = df_train.query('not (building_id == 733 & meter == 0 & timestamp > \"2016-05-19\" & timestamp < \"2016-05-20\")')\n",
    "df_train = df_train.query('not (building_id == 803 & meter == 0 & timestamp > \"2016-9-25\")')\n",
    "df_train = df_train.query('not (building_id == 815 & meter == 0 & timestamp > \"2016-05-17\" & timestamp < \"2016-11-17\")')\n",
    "df_train = df_train.query('not (building_id == 848 & meter == 0 & timestamp > \"2016-01-15\" & timestamp < \"2016-03-20\")')\n",
    "df_train = df_train.query('not (building_id == 857 & meter == 0 & timestamp > \"2016-04-13\")')\n",
    "df_train = df_train.query('not (building_id == 909 & meter == 0 & timestamp < \"2016-02-02\")')\n",
    "df_train = df_train.query('not (building_id == 909 & meter == 0 & timestamp < \"2016-06-23\")')\n",
    "df_train = df_train.query('not (building_id == 1008 & meter == 0 & timestamp > \"2016-10-30\" & timestamp < \"2016-11-21\")')\n",
    "df_train = df_train.query('not (building_id == 1113 & meter == 0 & timestamp < \"2016-07-27\")')\n",
    "df_train = df_train.query('not (building_id == 1153 & meter == 0 & timestamp < \"2016-01-20\")')\n",
    "df_train = df_train.query('not (building_id == 1169 & meter == 0 & timestamp < \"2016-08-03\")')\n",
    "df_train = df_train.query('not (building_id == 1170 & meter == 0 & timestamp > \"2016-06-30\" & timestamp < \"2016-07-05\")')\n",
    "df_train = df_train.query('not (building_id == 1221 & meter == 0 & timestamp < \"2016-11-04\")')\n",
    "df_train = df_train.query('not (building_id == 1225 & meter == 0 & timestamp > \"2016-09-28 07\" & timestamp < \"2016-10-20 13\")')\n",
    "df_train = df_train.query('not (building_id == 1234 & meter == 0 & timestamp > \"2016-09-28 07\" & timestamp < \"2016-10-20 13\")')\n",
    "df_train = df_train.query('not (building_id >= 1233 & building_id <= 1234 & meter == 0 & timestamp > \"2016-01-13 22\" & timestamp < \"2016-03-08 12\")')\n",
    "df_train = df_train.query('not (building_id == 1241 & meter == 0 & timestamp > \"2016-07-14\" & timestamp < \"2016-11-19\")')\n",
    "df_train = df_train.query('not (building_id == 1250 & meter == 0 & timestamp > \"2016-09-28 07\" & timestamp < \"2016-10-20 13\")')\n",
    "df_train = df_train.query('not (building_id == 1255 & meter == 0 & timestamp > \"2016-09-28 07\" & timestamp < \"2016-10-20 13\")')\n",
    "df_train = df_train.query('not (building_id == 1264 & meter == 0 & timestamp > \"2016-08-23\")')\n",
    "df_train = df_train.query('not (building_id == 1265 & meter == 0 & timestamp > \"2016-05-06\" & timestamp < \"2016-05-26\")')\n",
    "df_train = df_train.query('not (building_id == 1272 & meter == 0 & timestamp > \"2016-09-28 07\" & timestamp < \"2016-10-20 13\")')\n",
    "df_train = df_train.query('not (building_id >= 1275 & building_id <= 1280 & meter == 0 & timestamp > \"2016-09-28 07\" & timestamp < \"2016-10-20 13\")')\n",
    "df_train = df_train.query('not (building_id == 1283 & meter == 0 & timestamp > \"2016-07-08\" & timestamp < \"2016-08-03\")')\n",
    "df_train = df_train.query('not (building_id >= 1291 & building_id <= 1302 & meter == 0 & timestamp > \"2016-09-28 07\" & timestamp < \"2016-10-20 13\")')\n",
    "df_train = df_train.query('not (building_id == 1303 & meter == 0 & timestamp > \"2016-07-25 22\" & timestamp < \"2016-07-27 16\")')\n",
    "df_train = df_train.query('not (building_id == 1303 & meter == 0 & timestamp > \"2016-01-26\" & timestamp < \"2016-06-02 12\")')\n",
    "df_train = df_train.query('not (building_id == 1319 & meter == 0 & timestamp > \"2016-05-17 16\" & timestamp < \"2016-06-07 12\")')\n",
    "df_train = df_train.query('not (building_id == 1319 & meter == 0 & timestamp > \"2016-08-18 14\" & timestamp < \"2016-09-02 14\")')\n",
    "df_train = df_train.query('not (building_id == 1322 & meter == 0 & timestamp > \"2016-09-28 07\" & timestamp < \"2016-10-20 13\")')\n",
    "\n",
    "# 2nd cleaning\n",
    "df_train = df_train.query('not (building_id >= 874 & building_id <= 997 & meter == 0 & timestamp > \"2016-10-14 22\" & timestamp < \"2016-10-17 08\")')\n",
    "df_train = df_train.query('not (building_id >= 874 & building_id <= 997 & meter == 0 & timestamp > \"2016-07-01 14\" & timestamp < \"2016-07-05 06\")')\n",
    "df_train = df_train.query('not (building_id >= 874 & building_id <= 997 & meter == 1 & timestamp > \"2016-10-14 22\" & timestamp < \"2016-10-17 08\")')\n",
    "df_train = df_train.query('not (building_id >= 874 & building_id <= 997 & meter == 1 & timestamp > \"2016-07-01 14\" & timestamp < \"2016-07-05 06\")')\n",
    "df_train = df_train.query('not (building_id >= 874 & building_id <= 997 & meter == 2 & timestamp > \"2016-10-14 22\" & timestamp < \"2016-10-17 08\")')\n",
    "df_train = df_train.query('not (building_id >= 874 & building_id <= 997 & meter == 2 & timestamp > \"2016-07-01 14\" & timestamp < \"2016-07-05 06\")')\n",
    "df_train = df_train.query('not (building_id == 1272 & meter == 1 & timestamp > \"2016-09-28 07\" & timestamp < \"2016-10-20 13\")')\n",
    "df_train = df_train.query('not (building_id >= 1291 & building_id <= 1297 & meter == 1 & timestamp > \"2016-09-28 07\" & timestamp < \"2016-10-20 13\")')\n",
    "df_train = df_train.query('not (building_id == 1300 & meter == 1 & timestamp > \"2016-09-28 07\" & timestamp < \"2016-10-20 13\")')\n",
    "df_train = df_train.query('not (building_id == 1302 & meter == 1 & timestamp > \"2016-09-28 07\" & timestamp < \"2016-10-20 13\")')\n",
    "df_train = df_train.query('not (building_id >= 1291 & building_id <= 1299 & meter == 2 & timestamp > \"2016-09-28 07\" & timestamp < \"2016-10-20 13\")')\n",
    "df_train = df_train.query('not (building_id == 1221 & meter == 0 & timestamp > \"2016-09-28 07\" & timestamp < \"2016-10-20 13\")')\n",
    "df_train = df_train.query('not (building_id >= 1225 & building_id <= 1226 & meter == 0 & timestamp > \"2016-09-28 07\" & timestamp < \"2016-10-20 13\")')\n",
    "df_train = df_train.query('not (building_id >= 1233 & building_id <= 1234 & meter == 0 & timestamp > \"2016-09-28 07\" & timestamp < \"2016-10-20 13\")')\n",
    "df_train = df_train.query('not (building_id == 1241 & meter == 0 & timestamp > \"2016-09-28 07\" & timestamp < \"2016-10-20 13\")')\n",
    "df_train = df_train.query('not (building_id == 1223 & meter == 1 & timestamp > \"2016-09-28 07\" & timestamp < \"2016-10-20 13\")')\n",
    "df_train = df_train.query('not (building_id == 1226 & meter == 1 & timestamp > \"2016-09-28 07\" & timestamp < \"2016-10-20 13\")')\n",
    "df_train = df_train.query('not (building_id >= 1233 & building_id <= 1234 & meter == 1 & timestamp > \"2016-09-28 07\" & timestamp < \"2016-10-20 13\")')\n",
    "df_train = df_train.query('not (building_id >= 1225 & building_id <= 1226 & meter == 2 & timestamp > \"2016-09-28 07\" & timestamp < \"2016-10-20 13\")')\n",
    "df_train = df_train.query('not (building_id == 1305 & meter == 2 & timestamp > \"2016-09-28 07\" & timestamp < \"2016-10-20 13\")')\n",
    "df_train = df_train.query('not (building_id == 1307 & meter == 2 & timestamp > \"2016-09-28 07\" & timestamp < \"2016-10-20 13\")')\n",
    "df_train = df_train.query('not (building_id == 1223 & meter == 3 & timestamp > \"2016-09-28 07\" & timestamp < \"2016-10-20 13\")')\n",
    "df_train = df_train.query('not (building_id == 1231 & meter == 3 & timestamp > \"2016-09-28 07\" & timestamp < \"2016-10-20 13\")')\n",
    "df_train = df_train.query('not (building_id >= 1233 & building_id <= 1234 & meter == 3 & timestamp > \"2016-09-28 07\" & timestamp < \"2016-10-20 13\")')\n",
    "df_train = df_train.query('not (building_id == 1272 & meter == 3 & timestamp > \"2016-09-28 07\" & timestamp < \"2016-10-20 13\")')\n",
    "df_train = df_train.query('not (building_id >= 1275 & building_id <= 1297 & meter == 3 & timestamp > \"2016-09-28 07\" & timestamp < \"2016-10-20 13\")')\n",
    "df_train = df_train.query('not (building_id == 1300 & meter == 3 & timestamp > \"2016-09-28 07\" & timestamp < \"2016-10-20 13\")')\n",
    "df_train = df_train.query('not (building_id == 1302 & meter == 3 & timestamp > \"2016-09-28 07\" & timestamp < \"2016-10-20 13\")')\n",
    "df_train = df_train.query('not (building_id == 1293 & meter == 3 & timestamp > \"2016-09-28 07\" & timestamp < \"2016-10-25 12\")')\n",
    "df_train = df_train.query('not (building_id == 1302 & meter == 3 & timestamp > \"2016-09-28 07\" & timestamp < \"2016-10-25 12\")')\n",
    "df_train = df_train.query('not (building_id == 1223 & meter == 0 & timestamp > \"2016-9-28 07\" & timestamp < \"2016-10-11 18\")')\n",
    "df_train = df_train.query('not (building_id == 1225 & meter == 1 & timestamp > \"2016-8-22 23\" & timestamp < \"2016-10-11 14\")')\n",
    "df_train = df_train.query('not (building_id == 1230 & meter == 1 & timestamp > \"2016-8-22 08\" & timestamp < \"2016-10-05 18\")')\n",
    "df_train = df_train.query('not (building_id == 904 & meter == 0 & timestamp < \"2016-02-17 08\")')\n",
    "df_train = df_train.query('not (building_id == 986 & meter == 0 & timestamp < \"2016-02-17 08\")')\n",
    "df_train = df_train.query('not (building_id == 954 & meter == 0 & timestamp < \"2016-08-08 11\")')\n",
    "df_train = df_train.query('not (building_id == 954 & meter == 0 & timestamp < \"2016-06-23 08\")')\n",
    "df_train = df_train.query('not (building_id >= 745 & building_id <= 770 & meter == 1 & timestamp > \"2016-10-05 01\" & timestamp < \"2016-10-10 09\")')\n",
    "df_train = df_train.query('not (building_id >= 774 & building_id <= 787 & meter == 1 & timestamp > \"2016-10-05 01\" & timestamp < \"2016-10-10 09\")')\n",
    "\n",
    "# 3rd cleaning hourly spikes\n",
    "df_train = df_train.query('not (building_id >= 874 & building_id <= 997 & meter == 0 & timestamp > \"2016-05-11 09\" & timestamp < \"2016-05-12 01\")')\n",
    "df_train = df_train.query('not (building_id >= 874 & building_id <= 997 & meter == 1 & timestamp > \"2016-05-11 09\" & timestamp < \"2016-05-12 01\")')\n",
    "df_train = df_train.query('not (building_id >= 874 & building_id <= 997 & meter == 2 & timestamp > \"2016-05-11 09\" & timestamp < \"2016-05-12 01\")')\n",
    "\n",
    "df_train = df_train.query('not (building_id >= 874 & building_id <= 997 & meter == 0 & timestamp == \"2016-02-26 01\")')\n",
    "df_train = df_train.query('not (building_id >= 874 & building_id <= 997 & meter == 1 & timestamp == \"2016-02-26 01\")')\n",
    "df_train = df_train.query('not (building_id >= 874 & building_id <= 997 & meter == 2 & timestamp == \"2016-02-26 01\")')\n",
    "\n",
    "df_train = df_train.query('not (building_id >= 874 & building_id <= 997 & meter == 0 & timestamp > \"2016-03-29 10\" & timestamp < \"2016-03-30 12\")')\n",
    "df_train = df_train.query('not (building_id >= 874 & building_id <= 997 & meter == 1 & timestamp > \"2016-03-29 10\" & timestamp < \"2016-03-30 12\")')\n",
    "df_train = df_train.query('not (building_id >= 874 & building_id <= 997 & meter == 2 & timestamp > \"2016-03-29 10\" & timestamp < \"2016-03-30 12\")')\n",
    "\n",
    "df_train = df_train.query('not (building_id >= 874 & building_id <= 997 & meter == 0 & timestamp > \"2016-01-19 23\" & timestamp < \"2016-01-28 15\")')\n",
    "df_train = df_train.query('not (building_id >= 874 & building_id <= 997 & meter == 1 & timestamp > \"2016-01-19 23\" & timestamp < \"2016-01-28 15\")')\n",
    "df_train = df_train.query('not (building_id >= 874 & building_id <= 997 & meter == 2 & timestamp > \"2016-01-19 23\" & timestamp < \"2016-01-28 15\")')\n",
    "\n",
    "df_train = df_train.query('not (building_id != 1227 & building_id != 1281 & building_id != 1314 & building_id >=1223 & building_id < 1335 & meter==0 & meter_reading==0)')\n",
    "\n",
    "# 4th cleaning (some using hindsight from leaks)\n",
    "df_train = df_train.query('not (building_id >= 1223 & building_id <= 1324 & meter==1 & timestamp > \"2016-07-16 04\" & timestamp < \"2016-07-19 11\")')\n",
    "df_train = df_train.query('not (building_id == 107 & meter == 0 & timestamp <= \"2016-07-06\")')\n",
    "df_train = df_train.query('not (building_id == 180 & timestamp >= \"2016-02-17 12\")')\n",
    "df_train = df_train.query('not (building_id == 182 & meter == 0)')\n",
    "df_train = df_train.query('not (building_id == 191 & meter == 0 & timestamp >= \"2016-12-22 09\")')\n",
    "df_train = df_train.query('not (building_id == 192 & meter == 1 & timestamp >= \"2016-05-09 18\")')\n",
    "df_train = df_train.query('not (building_id == 192 & meter == 3 & timestamp >= \"2016-03-29 05\" & timestamp <= \"2016-04-04 08\")')\n",
    "df_train = df_train.query('not (building_id == 207 & meter == 1 & timestamp > \"2016-07-02 20\" & timestamp < \"2016-08-25 12\")')\n",
    "df_train = df_train.query('not (building_id == 258 & timestamp > \"2016-09-18\" & timestamp < \"2016-12-12 13\")')\n",
    "df_train = df_train.query('not (building_id == 258 & timestamp > \"2016-08-29 08\" & timestamp < \"2016-09-08 14\")')\n",
    "df_train = df_train.query('not (building_id == 257 & meter == 1 & timestamp < \"2016-03-25 16\")')\n",
    "df_train = df_train.query('not (building_id == 260 & meter == 1 & timestamp > \"2016-05-10 17\" & timestamp < \"2016-08-17 11\")')\n",
    "df_train = df_train.query('not (building_id == 260 & meter == 1 & timestamp > \"2016-08-28 01\" & timestamp < \"2016-10-31 13\")')\n",
    "df_train = df_train.query('not (building_id == 220 & meter == 1 & timestamp > \"2016-09-23 01\" & timestamp < \"2016-09-23 12\")')\n",
    "df_train = df_train.query('not (building_id == 281 & meter == 1 & timestamp > \"2016-10-25 08\" & timestamp < \"2016-11-04 15\")')\n",
    "df_train = df_train.query('not (building_id == 273 & meter == 1 & timestamp > \"2016-04-03 04\" & timestamp < \"2016-04-29 15\")')\n",
    "df_train = df_train.query('not (building_id == 28 & meter == 0 & timestamp < \"2016-10-14 20\")')\n",
    "df_train = df_train.query('not (building_id == 71 & meter == 0 & timestamp < \"2016-08-18 20\")')\n",
    "df_train = df_train.query('not (building_id == 76 & meter == 0 & timestamp > \"2016-06-04 09\" & timestamp < \"2016-06-04 14\")')\n",
    "df_train = df_train.query('not (building_id == 101 & meter == 0 & timestamp > \"2016-10-12 13\" & timestamp < \"2016-10-12 18\")')\n",
    "df_train = df_train.query('not (building_id == 7 & meter == 1 & timestamp > \"2016-11-03 09\" & timestamp < \"2016-11-28 14\")')\n",
    "df_train = df_train.query('not (building_id == 9 & meter == 1 & timestamp > \"2016-12-06 08\")')\n",
    "df_train = df_train.query('not (building_id == 43 & meter == 1 & timestamp > \"2016-04-03 08\" & timestamp < \"2016-06-06 13\")')\n",
    "df_train = df_train.query('not (building_id == 60 & meter == 1 & timestamp > \"2016-05-01 17\" & timestamp < \"2016-05-01 21\")')\n",
    "df_train = df_train.query('not (building_id == 75 & meter == 1 & timestamp > \"2016-08-05 13\" & timestamp < \"2016-08-26 12\")')\n",
    "df_train = df_train.query('not (building_id == 95 & meter == 1 & timestamp > \"2016-08-08 10\" & timestamp < \"2016-08-26 13\")')\n",
    "df_train = df_train.query('not (building_id == 97 & meter == 1 & timestamp > \"2016-08-08 14\" & timestamp < \"2016-08-25 14\")')\n",
    "df_train = df_train.query('not (building_id == 1232 & meter == 1 & timestamp > \"2016-06-23 16\" & timestamp < \"2016-08-31 20\")')\n",
    "df_train = df_train.query('not (building_id == 1236 & meter == 1 & meter_reading >= 3000)')\n",
    "df_train = df_train.query('not (building_id == 1239 & meter == 1 & timestamp > \"2016-03-11 16\" & timestamp < \"2016-03-27 17\")')\n",
    "df_train = df_train.query('not (building_id == 1264 & meter == 1 & timestamp > \"2016-08-22 17\" & timestamp < \"2016-09-22 20\")')\n",
    "df_train = df_train.query('not (building_id == 1264 & meter == 1 & timestamp > \"2016-09-28 07\" & timestamp < \"2016-10-20 13\")')\n",
    "df_train = df_train.query('not (building_id == 1269 & meter == 1 & meter_reading >= 2000)')\n",
    "df_train = df_train.query('not (building_id == 1272 & meter == 1 & timestamp > \"2016-08-11 12\" & timestamp < \"2016-08-30 19\")')\n",
    "df_train = df_train.query('not (building_id == 1273 & meter == 1 & timestamp > \"2016-05-31 14\" & timestamp < \"2016-06-17\")')\n",
    "df_train = df_train.query('not (building_id == 1276 & meter == 1 & timestamp < \"2016-02-03 23\")')\n",
    "df_train = df_train.query('not (building_id == 1280 & meter == 1 & timestamp > \"2016-05-18\" & timestamp < \"2016-05-26 09\")')\n",
    "df_train = df_train.query('not (building_id == 1280 & meter == 1 & timestamp > \"2016-02-28 23\" & timestamp < \"2016-05-02 05\")')\n",
    "df_train = df_train.query('not (building_id == 1280 & meter == 1 & timestamp > \"2016-06-12 01\" & timestamp < \"2016-7-07 06\")')\n",
    "df_train = df_train.query('not (building_id == 1288 & meter == 1 & timestamp > \"2016-07-07 15\" & timestamp < \"2016-08-12 17\")')\n",
    "df_train = df_train.query('not (building_id == 1311 & meter == 1 & timestamp > \"2016-04-25 18\" & timestamp < \"2016-05-13 14\")')\n",
    "df_train = df_train.query('not (building_id == 1099 & meter == 2)')\n",
    "\n",
    "df_train = df_train.query('not (building_id == 1329 & meter == 0 & timestamp > \"2016-04-28 00\" & timestamp < \"2016-04-28 07\")')\n",
    "df_train = df_train.query('not (building_id == 1331 & meter == 0 & timestamp > \"2016-04-28 00\" & timestamp < \"2016-04-28 07\")')\n",
    "df_train = df_train.query('not (building_id == 1427 & meter == 0 & timestamp > \"2016-04-11 10\" & timestamp < \"2016-04-11 14\")')\n",
    "df_train = df_train.query('not (building_id == 1426 & meter == 2 & timestamp > \"2016-05-03 09\" & timestamp < \"2016-05-03 14\")')\n",
    "df_train = df_train.query('not (building_id == 1345 & meter == 0 & timestamp < \"2016-03-01\")')\n",
    "df_train = df_train.query('not (building_id == 1346 & timestamp < \"2016-03-01\")')\n",
    "df_train = df_train.query('not (building_id == 1359 & meter == 0 & timestamp > \"2016-04-25 17\" & timestamp < \"2016-07-22 14\")')\n",
    "df_train = df_train.query('not (building_id == 1365 & meter == 0 & timestamp > \"2016-08-19 00\" & timestamp < \"2016-08-19 07\")')\n",
    "df_train = df_train.query('not (building_id == 1365 & meter == 0 & timestamp > \"2016-06-18 22\" & timestamp < \"2016-06-19 06\")')\n",
    "\n",
    "df_train = df_train.query('not (building_id == 18 & meter == 0 & timestamp > \"2016-06-04 09\" & timestamp < \"2016-06-04 16\")')\n",
    "df_train = df_train.query('not (building_id == 18 & meter == 0 & timestamp > \"2016-11-05 05\" & timestamp < \"2016-11-05 15\")')\n",
    "df_train = df_train.query('not (building_id == 101 & meter == 0 & meter_reading > 800)')\n",
    "\n",
    "df_train = df_train.query('not (building_id == 1384 & meter == 0 & meter_reading == 0 )')\n",
    "df_train = df_train.query('not (building_id >= 1289 & building_id <= 1301 & meter == 2 & meter_reading == 0)')\n",
    "df_train = df_train.query('not (building_id == 1243 & meter == 2 & meter_reading == 0)')\n",
    "df_train = df_train.query('not (building_id == 1263 & meter == 2 & meter_reading == 0)')\n",
    "df_train = df_train.query('not (building_id == 1284 & meter == 2 & meter_reading == 0)')\n",
    "df_train = df_train.query('not (building_id == 1286 & meter == 2 & meter_reading == 0)')\n",
    "df_train = df_train.query('not (building_id == 1263 & meter == 0 & timestamp > \"2016-11-10 11\" & timestamp < \"2016-11-10 15\")')\n",
    "\n",
    "df_train = df_train.query('not (building_id == 1238 & meter == 2 & meter_reading == 0)')\n",
    "df_train = df_train.query('not (building_id == 1329 & meter == 2 & timestamp > \"2016-11-21 12\" & timestamp < \"2016-11-29 12\")')\n",
    "df_train = df_train.query('not (building_id == 1249 & meter == 2 & meter_reading == 0)')\n",
    "\n",
    "df_train = df_train.query('not (building_id == 1250 & meter == 2 & meter_reading == 0)')\n",
    "df_train = df_train.query('not (building_id == 1256 & meter == 2 & timestamp > \"2016-03-05 18\" & timestamp < \"2016-03-05 22\")')\n",
    "df_train = df_train.query('not (building_id == 1256 & meter == 2 & timestamp > \"2016-03-27 00\" & timestamp < \"2016-03-27 23\")')\n",
    "df_train = df_train.query('not (building_id == 1256 & meter == 2 & timestamp > \"2016-04-11 09\" & timestamp < \"2016-04-13 03\")')\n",
    "df_train = df_train.query('not (building_id == 1256 & meter == 2 & timestamp > \"2016-04-29 00\" & timestamp < \"2016-04-30 15\")')\n",
    "df_train = df_train.query('not (building_id == 1303 & meter == 2 & timestamp < \"2016-06-06 19\")')\n",
    "df_train = df_train.query('not (building_id >= 1223 & building_id <= 1324 & meter == 1 & timestamp > \"2016-08-11 17\" & timestamp < \"2016-08-12 17\")')\n",
    "df_train = df_train.query('not (building_id >= 1223 & building_id <= 1324 & building_id != 1296 & building_id != 129 & building_id != 1298 & building_id != 1299 & meter == 2 & timestamp > \"2016-08-11 17\" & timestamp < \"2016-08-12 17\")')\n",
    "df_train = df_train.query('not (building_id >= 1223 & building_id <= 1324 & meter == 3 & timestamp > \"2016-08-11 17\" & timestamp < \"2016-08-12 17\")')"
   ]
  },
  {
   "cell_type": "code",
   "execution_count": 4,
   "metadata": {},
   "outputs": [],
   "source": [
    "# building_meter map\n",
    "\n",
    "bm_cols = ['bm', 'weekday', 'hour',]\n",
    "df_train['hour'] = df_train['timestamp'].dt.hour\n",
    "df_train['weekday'] = df_train['timestamp'].dt.weekday\n",
    "df_train['bm'] = df_train['building_id'].apply(lambda x: str(x)) + '_' + df_train['meter'].apply(lambda x: str(x))\n",
    "bm = df_train.groupby(bm_cols)['meter_reading'].mean().rename('bm_week_hour').to_frame()"
   ]
  },
  {
   "cell_type": "code",
   "execution_count": 5,
   "metadata": {},
   "outputs": [],
   "source": [
    "df_train = df_train.merge(bm, right_index=True, left_on=bm_cols, how='left')"
   ]
  },
  {
   "cell_type": "code",
   "execution_count": 6,
   "metadata": {},
   "outputs": [
    {
     "data": {
      "text/html": [
       "<div>\n",
       "<style scoped>\n",
       "    .dataframe tbody tr th:only-of-type {\n",
       "        vertical-align: middle;\n",
       "    }\n",
       "\n",
       "    .dataframe tbody tr th {\n",
       "        vertical-align: top;\n",
       "    }\n",
       "\n",
       "    .dataframe thead th {\n",
       "        text-align: right;\n",
       "    }\n",
       "</style>\n",
       "<table border=\"1\" class=\"dataframe\">\n",
       "  <thead>\n",
       "    <tr style=\"text-align: right;\">\n",
       "      <th></th>\n",
       "      <th>building_id</th>\n",
       "      <th>meter</th>\n",
       "      <th>timestamp</th>\n",
       "      <th>meter_reading</th>\n",
       "      <th>hour</th>\n",
       "      <th>weekday</th>\n",
       "      <th>bm_week_hour</th>\n",
       "    </tr>\n",
       "  </thead>\n",
       "  <tbody>\n",
       "    <tr>\n",
       "      <th>103</th>\n",
       "      <td>105</td>\n",
       "      <td>0</td>\n",
       "      <td>2016-01-01</td>\n",
       "      <td>23.303600</td>\n",
       "      <td>0</td>\n",
       "      <td>4</td>\n",
       "      <td>60.114922</td>\n",
       "    </tr>\n",
       "    <tr>\n",
       "      <th>105</th>\n",
       "      <td>106</td>\n",
       "      <td>3</td>\n",
       "      <td>2016-01-01</td>\n",
       "      <td>0.000000</td>\n",
       "      <td>0</td>\n",
       "      <td>4</td>\n",
       "      <td>1.029789</td>\n",
       "    </tr>\n",
       "    <tr>\n",
       "      <th>107</th>\n",
       "      <td>108</td>\n",
       "      <td>0</td>\n",
       "      <td>2016-01-01</td>\n",
       "      <td>91.265297</td>\n",
       "      <td>0</td>\n",
       "      <td>4</td>\n",
       "      <td>214.495499</td>\n",
       "    </tr>\n",
       "    <tr>\n",
       "      <th>108</th>\n",
       "      <td>109</td>\n",
       "      <td>0</td>\n",
       "      <td>2016-01-01</td>\n",
       "      <td>80.930000</td>\n",
       "      <td>0</td>\n",
       "      <td>4</td>\n",
       "      <td>228.745621</td>\n",
       "    </tr>\n",
       "    <tr>\n",
       "      <th>109</th>\n",
       "      <td>109</td>\n",
       "      <td>3</td>\n",
       "      <td>2016-01-01</td>\n",
       "      <td>0.000000</td>\n",
       "      <td>0</td>\n",
       "      <td>4</td>\n",
       "      <td>14.001970</td>\n",
       "    </tr>\n",
       "  </tbody>\n",
       "</table>\n",
       "</div>"
      ],
      "text/plain": [
       "     building_id  meter  timestamp  meter_reading  hour  weekday  bm_week_hour\n",
       "103          105      0 2016-01-01      23.303600     0        4     60.114922\n",
       "105          106      3 2016-01-01       0.000000     0        4      1.029789\n",
       "107          108      0 2016-01-01      91.265297     0        4    214.495499\n",
       "108          109      0 2016-01-01      80.930000     0        4    228.745621\n",
       "109          109      3 2016-01-01       0.000000     0        4     14.001970"
      ]
     },
     "execution_count": 6,
     "metadata": {},
     "output_type": "execute_result"
    }
   ],
   "source": [
    "df_train.drop(['bm'], axis=1, inplace=True)\n",
    "df_train.head()"
   ]
  },
  {
   "cell_type": "code",
   "execution_count": 7,
   "metadata": {},
   "outputs": [],
   "source": [
    "weather = pd.concat([weather_train, weather_test],ignore_index=True)\n",
    "\n",
    "weather_key = ['site_id', 'timestamp']\n",
    "full_weather = weather[weather_key + ['air_temperature']].drop_duplicates(subset=weather_key).sort_values(by=weather_key).copy()"
   ]
  },
  {
   "cell_type": "code",
   "execution_count": 8,
   "metadata": {},
   "outputs": [],
   "source": [
    "full_weather['timestamp'] = pd.to_datetime(full_weather['timestamp'])"
   ]
  },
  {
   "cell_type": "code",
   "execution_count": 9,
   "metadata": {},
   "outputs": [],
   "source": [
    "# calculate ranks of hourly temperatures within date/site_id chunks\n",
    "full_weather['temp_rank'] = full_weather.groupby(['site_id', full_weather.timestamp.dt.date])['air_temperature'].rank('average')\n",
    "\n",
    "# create a dataframe of site_ids (0-16) x mean hour rank of temperature within day (0-23)\n",
    "df_2d = full_weather.groupby(['site_id', full_weather.timestamp.dt.hour])['temp_rank'].mean().unstack(level=1)\n",
    "\n",
    "# Subtract the columnID of temperature peak by 14, getting the timestamp alignment gap.\n",
    "site_ids_offsets = pd.Series(df_2d.values.argmax(axis=1) - 14)\n",
    "site_ids_offsets.index.name = 'site_id'\n",
    "\n",
    "def timestamp_align(df):\n",
    "    df['offset'] = df.site_id.map(site_ids_offsets)\n",
    "    df['timestamp_aligned'] = (df.timestamp - pd.to_timedelta(df.offset, unit='H'))\n",
    "    df['timestamp'] = df['timestamp_aligned']\n",
    "    del df['timestamp_aligned']\n",
    "    return df"
   ]
  },
  {
   "cell_type": "code",
   "execution_count": 10,
   "metadata": {
    "_kg_hide-input": true,
    "_kg_hide-output": true
   },
   "outputs": [],
   "source": [
    "## Memory optimization\n",
    "\n",
    "# Original code from https://www.kaggle.com/gemartin/load-data-reduce-memory-usage by @gemartin\n",
    "# Modified to support timestamp type, categorical type\n",
    "# Modified to add option to use float16\n",
    "\n",
    "from pandas.api.types import is_datetime64_any_dtype as is_datetime\n",
    "from pandas.api.types import is_categorical_dtype\n",
    "\n",
    "def reduce_mem_usage(df, use_float16=False):\n",
    "    \"\"\"\n",
    "    Iterate through all the columns of a dataframe and modify the data type to reduce memory usage.        \n",
    "    \"\"\"\n",
    "    \n",
    "    start_mem = df.memory_usage().sum() / 1024**2\n",
    "    print(\"Memory usage of dataframe is {:.2f} MB\".format(start_mem))\n",
    "    \n",
    "    for col in df.columns:\n",
    "        if is_datetime(df[col]) or is_categorical_dtype(df[col]):\n",
    "            continue\n",
    "        col_type = df[col].dtype\n",
    "        \n",
    "        if col_type != object:\n",
    "            c_min = df[col].min()\n",
    "            c_max = df[col].max()\n",
    "            if str(col_type)[:3] == \"int\":\n",
    "                if c_min > np.iinfo(np.int8).min and c_max < np.iinfo(np.int8).max:\n",
    "                    df[col] = df[col].astype(np.int8)\n",
    "                elif c_min > np.iinfo(np.int16).min and c_max < np.iinfo(np.int16).max:\n",
    "                    df[col] = df[col].astype(np.int16)\n",
    "                elif c_min > np.iinfo(np.int32).min and c_max < np.iinfo(np.int32).max:\n",
    "                    df[col] = df[col].astype(np.int32)\n",
    "                elif c_min > np.iinfo(np.int64).min and c_max < np.iinfo(np.int64).max:\n",
    "                    df[col] = df[col].astype(np.int64)  \n",
    "            else:\n",
    "                if use_float16 and c_min > np.finfo(np.float16).min and c_max < np.finfo(np.float16).max:\n",
    "                    df[col] = df[col].astype(np.float16)\n",
    "                elif c_min > np.finfo(np.float32).min and c_max < np.finfo(np.float32).max:\n",
    "                    df[col] = df[col].astype(np.float32)\n",
    "                else:\n",
    "                    df[col] = df[col].astype(np.float64)\n",
    "        else:\n",
    "            df[col] = df[col].astype(\"category\")\n",
    "\n",
    "    end_mem = df.memory_usage().sum() / 1024**2\n",
    "    print(\"Memory usage after optimization is: {:.2f} MB\".format(end_mem))\n",
    "    print(\"Decreased by {:.1f}%\".format(100 * (start_mem - end_mem) / start_mem))\n",
    "    \n",
    "    return df"
   ]
  },
  {
   "cell_type": "code",
   "execution_count": 11,
   "metadata": {},
   "outputs": [],
   "source": [
    "def fill_weather_dataset(weather_df):\n",
    "    \n",
    "    # Find Missing Dates\n",
    "    time_format = \"%Y-%m-%d %H:%M:%S\"\n",
    "    start_date = datetime.datetime.strptime(weather_df['timestamp'].min(),time_format)\n",
    "    end_date = datetime.datetime.strptime(weather_df['timestamp'].max(),time_format)\n",
    "    \n",
    "#     start_date = weather_df['timestamp'].min()\n",
    "#     end_date = weather_df['timestamp'].max()\n",
    "    \n",
    "    total_hours = int(((end_date - start_date).total_seconds() + 3600) / 3600)\n",
    "    hours_list = [(end_date - datetime.timedelta(hours=x)).strftime(time_format) for x in range(total_hours)]\n",
    "    \n",
    "    missing_hours = []\n",
    "    for site_id in range(16):\n",
    "        site_hours = np.array(weather_df[weather_df['site_id'] == site_id]['timestamp'])\n",
    "        new_rows = pd.DataFrame(np.setdiff1d(hours_list,site_hours),columns=['timestamp'])\n",
    "        new_rows['site_id'] = site_id\n",
    "        weather_df = pd.concat([weather_df,new_rows])\n",
    "\n",
    "        weather_df = weather_df.reset_index(drop=True)           \n",
    "\n",
    "    # Add new Features\n",
    "    weather_df[\"timestamp\"] = pd.to_datetime(weather_df[\"timestamp\"])\n",
    "    weather_df[\"day\"] = weather_df[\"timestamp\"].dt.day\n",
    "    weather_df[\"week\"] = weather_df[\"timestamp\"].dt.week\n",
    "    weather_df[\"month\"] = weather_df[\"timestamp\"].dt.month\n",
    "    \n",
    "    # Reset Index for Fast Update\n",
    "    weather_df = weather_df.set_index(['site_id','day','month'])\n",
    "\n",
    "    air_temperature_filler = pd.DataFrame(weather_df.groupby(['site_id','day','month'])['air_temperature'].mean(),columns=[\"air_temperature\"])\n",
    "    weather_df.update(air_temperature_filler,overwrite=False)\n",
    "\n",
    "    # Step 1\n",
    "    cloud_coverage_filler = weather_df.groupby(['site_id','day','month'])['cloud_coverage'].mean()\n",
    "    # Step 2\n",
    "    cloud_coverage_filler = pd.DataFrame(cloud_coverage_filler.fillna(method='ffill'),columns=[\"cloud_coverage\"])\n",
    "\n",
    "    weather_df.update(cloud_coverage_filler,overwrite=False)\n",
    "\n",
    "    due_temperature_filler = pd.DataFrame(weather_df.groupby(['site_id','day','month'])['dew_temperature'].mean(),columns=[\"dew_temperature\"])\n",
    "    weather_df.update(due_temperature_filler,overwrite=False)\n",
    "\n",
    "    # Step 1\n",
    "    sea_level_filler = weather_df.groupby(['site_id','day','month'])['sea_level_pressure'].mean()\n",
    "    # Step 2\n",
    "    sea_level_filler = pd.DataFrame(sea_level_filler.fillna(method='ffill'),columns=['sea_level_pressure'])\n",
    "\n",
    "    weather_df.update(sea_level_filler,overwrite=False)\n",
    "\n",
    "    wind_direction_filler =  pd.DataFrame(weather_df.groupby(['site_id','day','month'])['wind_direction'].mean(),columns=['wind_direction'])\n",
    "    weather_df.update(wind_direction_filler,overwrite=False)\n",
    "\n",
    "    wind_speed_filler =  pd.DataFrame(weather_df.groupby(['site_id','day','month'])['wind_speed'].mean(),columns=['wind_speed'])\n",
    "    weather_df.update(wind_speed_filler,overwrite=False)\n",
    "\n",
    "    # Step 1\n",
    "    precip_depth_filler = weather_df.groupby(['site_id','day','month'])['precip_depth_1_hr'].mean()\n",
    "    # Step 2\n",
    "    precip_depth_filler = pd.DataFrame(precip_depth_filler.fillna(method='ffill'),columns=['precip_depth_1_hr'])\n",
    "\n",
    "    weather_df.update(precip_depth_filler,overwrite=False)\n",
    "\n",
    "    weather_df = weather_df.reset_index()\n",
    "    weather_df = weather_df.drop(['day','week','month'],axis=1)\n",
    "        \n",
    "    return weather_df"
   ]
  },
  {
   "cell_type": "code",
   "execution_count": 12,
   "metadata": {},
   "outputs": [],
   "source": [
    "weather_train = fill_weather_dataset(weather_train)"
   ]
  },
  {
   "cell_type": "code",
   "execution_count": 13,
   "metadata": {},
   "outputs": [
    {
     "data": {
      "text/html": [
       "<div>\n",
       "<style scoped>\n",
       "    .dataframe tbody tr th:only-of-type {\n",
       "        vertical-align: middle;\n",
       "    }\n",
       "\n",
       "    .dataframe tbody tr th {\n",
       "        vertical-align: top;\n",
       "    }\n",
       "\n",
       "    .dataframe thead th {\n",
       "        text-align: right;\n",
       "    }\n",
       "</style>\n",
       "<table border=\"1\" class=\"dataframe\">\n",
       "  <thead>\n",
       "    <tr style=\"text-align: right;\">\n",
       "      <th></th>\n",
       "      <th>site_id</th>\n",
       "      <th>air_temperature</th>\n",
       "      <th>cloud_coverage</th>\n",
       "      <th>dew_temperature</th>\n",
       "      <th>precip_depth_1_hr</th>\n",
       "      <th>sea_level_pressure</th>\n",
       "      <th>timestamp</th>\n",
       "      <th>wind_direction</th>\n",
       "      <th>wind_speed</th>\n",
       "    </tr>\n",
       "  </thead>\n",
       "  <tbody>\n",
       "    <tr>\n",
       "      <th>0</th>\n",
       "      <td>0</td>\n",
       "      <td>25.000000</td>\n",
       "      <td>6.000000</td>\n",
       "      <td>20.000000</td>\n",
       "      <td>-0.173913</td>\n",
       "      <td>1019.700000</td>\n",
       "      <td>2016-01-01 00:00:00</td>\n",
       "      <td>0.000000</td>\n",
       "      <td>0.000000</td>\n",
       "    </tr>\n",
       "    <tr>\n",
       "      <th>1</th>\n",
       "      <td>0</td>\n",
       "      <td>24.400000</td>\n",
       "      <td>4.285714</td>\n",
       "      <td>21.100000</td>\n",
       "      <td>-1.000000</td>\n",
       "      <td>1020.200000</td>\n",
       "      <td>2016-01-01 01:00:00</td>\n",
       "      <td>70.000000</td>\n",
       "      <td>1.500000</td>\n",
       "    </tr>\n",
       "    <tr>\n",
       "      <th>2</th>\n",
       "      <td>0</td>\n",
       "      <td>22.800000</td>\n",
       "      <td>2.000000</td>\n",
       "      <td>21.100000</td>\n",
       "      <td>0.000000</td>\n",
       "      <td>1020.200000</td>\n",
       "      <td>2016-01-01 02:00:00</td>\n",
       "      <td>0.000000</td>\n",
       "      <td>0.000000</td>\n",
       "    </tr>\n",
       "    <tr>\n",
       "      <th>3</th>\n",
       "      <td>0</td>\n",
       "      <td>21.100000</td>\n",
       "      <td>2.000000</td>\n",
       "      <td>20.600000</td>\n",
       "      <td>0.000000</td>\n",
       "      <td>1020.100000</td>\n",
       "      <td>2016-01-01 03:00:00</td>\n",
       "      <td>0.000000</td>\n",
       "      <td>0.000000</td>\n",
       "    </tr>\n",
       "    <tr>\n",
       "      <th>4</th>\n",
       "      <td>0</td>\n",
       "      <td>20.000000</td>\n",
       "      <td>2.000000</td>\n",
       "      <td>20.000000</td>\n",
       "      <td>-1.000000</td>\n",
       "      <td>1020.000000</td>\n",
       "      <td>2016-01-01 04:00:00</td>\n",
       "      <td>250.000000</td>\n",
       "      <td>2.600000</td>\n",
       "    </tr>\n",
       "    <tr>\n",
       "      <th>...</th>\n",
       "      <td>...</td>\n",
       "      <td>...</td>\n",
       "      <td>...</td>\n",
       "      <td>...</td>\n",
       "      <td>...</td>\n",
       "      <td>...</td>\n",
       "      <td>...</td>\n",
       "      <td>...</td>\n",
       "      <td>...</td>\n",
       "    </tr>\n",
       "    <tr>\n",
       "      <th>140539</th>\n",
       "      <td>15</td>\n",
       "      <td>-3.534783</td>\n",
       "      <td>4.000000</td>\n",
       "      <td>-7.013043</td>\n",
       "      <td>-1.000000</td>\n",
       "      <td>1019.817391</td>\n",
       "      <td>2016-12-09 10:00:00</td>\n",
       "      <td>290.869565</td>\n",
       "      <td>6.565217</td>\n",
       "    </tr>\n",
       "    <tr>\n",
       "      <th>140540</th>\n",
       "      <td>15</td>\n",
       "      <td>-5.856522</td>\n",
       "      <td>1.500000</td>\n",
       "      <td>-8.982609</td>\n",
       "      <td>0.066667</td>\n",
       "      <td>1015.613043</td>\n",
       "      <td>2016-12-17 07:00:00</td>\n",
       "      <td>157.391304</td>\n",
       "      <td>5.695652</td>\n",
       "    </tr>\n",
       "    <tr>\n",
       "      <th>140541</th>\n",
       "      <td>15</td>\n",
       "      <td>-8.865217</td>\n",
       "      <td>0.000000</td>\n",
       "      <td>-12.730435</td>\n",
       "      <td>3.800000</td>\n",
       "      <td>1032.981818</td>\n",
       "      <td>2016-12-20 06:00:00</td>\n",
       "      <td>135.652174</td>\n",
       "      <td>3.500000</td>\n",
       "    </tr>\n",
       "    <tr>\n",
       "      <th>140542</th>\n",
       "      <td>15</td>\n",
       "      <td>2.630435</td>\n",
       "      <td>1.200000</td>\n",
       "      <td>-2.760870</td>\n",
       "      <td>-1.000000</td>\n",
       "      <td>1020.921739</td>\n",
       "      <td>2016-12-24 05:00:00</td>\n",
       "      <td>200.869565</td>\n",
       "      <td>4.847826</td>\n",
       "    </tr>\n",
       "    <tr>\n",
       "      <th>140543</th>\n",
       "      <td>15</td>\n",
       "      <td>-1.439130</td>\n",
       "      <td>0.500000</td>\n",
       "      <td>-4.669565</td>\n",
       "      <td>1.222222</td>\n",
       "      <td>1018.339130</td>\n",
       "      <td>2016-12-28 10:00:00</td>\n",
       "      <td>266.521739</td>\n",
       "      <td>4.465217</td>\n",
       "    </tr>\n",
       "  </tbody>\n",
       "</table>\n",
       "<p>140544 rows × 9 columns</p>\n",
       "</div>"
      ],
      "text/plain": [
       "        site_id  air_temperature  cloud_coverage  dew_temperature  \\\n",
       "0             0        25.000000        6.000000        20.000000   \n",
       "1             0        24.400000        4.285714        21.100000   \n",
       "2             0        22.800000        2.000000        21.100000   \n",
       "3             0        21.100000        2.000000        20.600000   \n",
       "4             0        20.000000        2.000000        20.000000   \n",
       "...         ...              ...             ...              ...   \n",
       "140539       15        -3.534783        4.000000        -7.013043   \n",
       "140540       15        -5.856522        1.500000        -8.982609   \n",
       "140541       15        -8.865217        0.000000       -12.730435   \n",
       "140542       15         2.630435        1.200000        -2.760870   \n",
       "140543       15        -1.439130        0.500000        -4.669565   \n",
       "\n",
       "        precip_depth_1_hr  sea_level_pressure           timestamp  \\\n",
       "0               -0.173913         1019.700000 2016-01-01 00:00:00   \n",
       "1               -1.000000         1020.200000 2016-01-01 01:00:00   \n",
       "2                0.000000         1020.200000 2016-01-01 02:00:00   \n",
       "3                0.000000         1020.100000 2016-01-01 03:00:00   \n",
       "4               -1.000000         1020.000000 2016-01-01 04:00:00   \n",
       "...                   ...                 ...                 ...   \n",
       "140539          -1.000000         1019.817391 2016-12-09 10:00:00   \n",
       "140540           0.066667         1015.613043 2016-12-17 07:00:00   \n",
       "140541           3.800000         1032.981818 2016-12-20 06:00:00   \n",
       "140542          -1.000000         1020.921739 2016-12-24 05:00:00   \n",
       "140543           1.222222         1018.339130 2016-12-28 10:00:00   \n",
       "\n",
       "        wind_direction  wind_speed  \n",
       "0             0.000000    0.000000  \n",
       "1            70.000000    1.500000  \n",
       "2             0.000000    0.000000  \n",
       "3             0.000000    0.000000  \n",
       "4           250.000000    2.600000  \n",
       "...                ...         ...  \n",
       "140539      290.869565    6.565217  \n",
       "140540      157.391304    5.695652  \n",
       "140541      135.652174    3.500000  \n",
       "140542      200.869565    4.847826  \n",
       "140543      266.521739    4.465217  \n",
       "\n",
       "[140544 rows x 9 columns]"
      ]
     },
     "execution_count": 13,
     "metadata": {},
     "output_type": "execute_result"
    }
   ],
   "source": [
    "weather_train"
   ]
  },
  {
   "cell_type": "code",
   "execution_count": 14,
   "metadata": {
    "_kg_hide-output": true
   },
   "outputs": [
    {
     "name": "stdout",
     "output_type": "stream",
     "text": [
      "Memory usage of dataframe is 798.28 MB\n",
      "Memory usage after optimization is: 538.38 MB\n",
      "Decreased by 32.6%\n",
      "Memory usage of dataframe is 0.03 MB\n",
      "Memory usage after optimization is: 0.02 MB\n",
      "Decreased by 47.6%\n",
      "Memory usage of dataframe is 9.65 MB\n",
      "Memory usage after optimization is: 3.08 MB\n",
      "Decreased by 68.1%\n"
     ]
    }
   ],
   "source": [
    "df_train = reduce_mem_usage(df_train, use_float16=True)\n",
    "building = reduce_mem_usage(building, use_float16=True)\n",
    "weather_train = reduce_mem_usage(weather_train, use_float16=True)"
   ]
  },
  {
   "cell_type": "code",
   "execution_count": 15,
   "metadata": {
    "_kg_hide-input": true,
    "_kg_hide-output": true
   },
   "outputs": [],
   "source": [
    "def rmse(ytrue, ypred):\n",
    "    return np.sqrt(np.mean(np.square(ypred - ytrue), axis=0))\n",
    "def rmsle(ytrue, ypred):\n",
    "    return np.sqrt(np.mean(np.square(np.log1p(ypred) - np.log1p(ytrue)), axis=0))"
   ]
  },
  {
   "cell_type": "code",
   "execution_count": 16,
   "metadata": {},
   "outputs": [],
   "source": [
    "le = LabelEncoder()\n",
    "\n",
    "def prepare_data(X, building_data, weather_data, test=False):\n",
    "    \"\"\"\n",
    "    Preparing final dataset with all features.\n",
    "    \"\"\"\n",
    "    # align timestamp\n",
    "    weather_data = timestamp_align(weather_data)\n",
    "    \n",
    "    X = X.merge(building_data, on=\"building_id\", how=\"left\")\n",
    "    X = X.merge(weather_data, on=[\"site_id\", \"timestamp\"], how=\"left\")\n",
    "    \n",
    "    X.sort_values(\"timestamp\")\n",
    "    X.reset_index(drop=True)\n",
    "    \n",
    "    gc.collect()\n",
    "    \n",
    "    X.timestamp = pd.to_datetime(X.timestamp, format=\"%Y-%m-%d %H:%M:%S\")\n",
    "    X.square_feet = np.log1p(X.square_feet)\n",
    "    \n",
    "    X[\"hour\"] = X.timestamp.dt.hour\n",
    "    X[\"weekday\"] = X.timestamp.dt.weekday\n",
    "    X['hour'] = X['hour'].astype('int8')\n",
    "    X['weekday'] = X['weekday'].astype('int8')\n",
    "    \n",
    "    drop_features = [\"timestamp\", \"site_id\",\"sea_level_pressure\", \"precip_depth_1_hr\",]# \"wind_direction\", \"wind_speed\"]\n",
    "\n",
    "    X.drop(drop_features, axis=1, inplace=True)\n",
    "\n",
    "    X = reduce_mem_usage(X, use_float16=True)\n",
    "    \n",
    "    if test:\n",
    "        row_ids = X.row_id\n",
    "        X.drop(\"row_id\", axis=1, inplace=True)\n",
    "        return X, row_ids\n",
    "    else:\n",
    "        y = np.log1p(X.meter_reading)\n",
    "        X.drop(\"meter_reading\", axis=1, inplace=True)\n",
    "        return X, y"
   ]
  },
  {
   "cell_type": "code",
   "execution_count": 17,
   "metadata": {
    "_kg_hide-output": true
   },
   "outputs": [
    {
     "name": "stdout",
     "output_type": "stream",
     "text": [
      "Memory usage of dataframe is 965.36 MB\n",
      "Memory usage after optimization is: 742.59 MB\n",
      "Decreased by 23.1%\n"
     ]
    },
    {
     "data": {
      "text/plain": [
       "23"
      ]
     },
     "execution_count": 17,
     "metadata": {},
     "output_type": "execute_result"
    }
   ],
   "source": [
    "X_train, y_train = prepare_data(df_train, building, weather_train)\n",
    "\n",
    "del df_train, weather_train\n",
    "gc.collect()"
   ]
  },
  {
   "cell_type": "code",
   "execution_count": 18,
   "metadata": {},
   "outputs": [
    {
     "name": "stdout",
     "output_type": "stream",
     "text": [
      "Building model with first half and validating on second half:\n",
      "Training until validation scores don't improve for 200 rounds\n",
      "[200]\ttraining's rmse: 0.738023\tvalid_1's rmse: 0.911814\n",
      "[400]\ttraining's rmse: 0.71034\tvalid_1's rmse: 0.905004\n",
      "[600]\ttraining's rmse: 0.694468\tvalid_1's rmse: 0.902882\n",
      "[800]\ttraining's rmse: 0.681296\tvalid_1's rmse: 0.902673\n",
      "[1000]\ttraining's rmse: 0.672195\tvalid_1's rmse: 0.902231\n",
      "Did not meet early stopping. Best iteration is:\n",
      "[1000]\ttraining's rmse: 0.672195\tvalid_1's rmse: 0.902231\n",
      "Building model with second half and validating on first half:\n",
      "Training until validation scores don't improve for 200 rounds\n",
      "[200]\ttraining's rmse: 0.704225\tvalid_1's rmse: 0.949914\n",
      "[400]\ttraining's rmse: 0.679395\tvalid_1's rmse: 0.949439\n",
      "Early stopping, best iteration is:\n",
      "[324]\ttraining's rmse: 0.686441\tvalid_1's rmse: 0.949011\n",
      "CPU times: user 43min 42s, sys: 5.52 s, total: 43min 48s\n",
      "Wall time: 22min 37s\n"
     ]
    }
   ],
   "source": [
    "%%time\n",
    "X_half_1 = X_train[:int(X_train.shape[0] / 2)]\n",
    "X_half_2 = X_train[int(X_train.shape[0] / 2):]\n",
    "\n",
    "y_half_1 = y_train[:int(X_train.shape[0] / 2)]\n",
    "y_half_2 = y_train[int(X_train.shape[0] / 2):]\n",
    "\n",
    "categorical_features = [\"building_id\", \"meter\", \"primary_use\", \"hour\", \"weekday\"]\n",
    "\n",
    "d_half_1 = lgb.Dataset(X_half_1, label=y_half_1, categorical_feature=categorical_features, free_raw_data=False)\n",
    "d_half_2 = lgb.Dataset(X_half_2, label=y_half_2, categorical_feature=categorical_features, free_raw_data=False)\n",
    "\n",
    "watchlist_1 = [d_half_1, d_half_2]\n",
    "watchlist_2 = [d_half_2, d_half_1]\n",
    "\n",
    "params = {\n",
    "    \"objective\": \"regression\",\n",
    "    \"boosting\": \"gbdt\",\n",
    "    \"num_leaves\": 40,\n",
    "    \"learning_rate\": 0.05,\n",
    "    \"feature_fraction\": 0.85,\n",
    "    \"reg_lambda\": 2,\n",
    "    \"metric\": \"rmse\",\n",
    "    \"num_threads\": 2\n",
    "}\n",
    "\n",
    "print(\"Building model with first half and validating on second half:\")\n",
    "model_half_1 = lgb.train(params, train_set=d_half_1, num_boost_round=1000, valid_sets=watchlist_1, verbose_eval=200, early_stopping_rounds=200)\n",
    "\n",
    "print(\"Building model with second half and validating on first half:\")\n",
    "model_half_2 = lgb.train(params, train_set=d_half_2, num_boost_round=1000, valid_sets=watchlist_2, verbose_eval=200, early_stopping_rounds=200)"
   ]
  },
  {
   "cell_type": "code",
   "execution_count": 19,
   "metadata": {},
   "outputs": [
    {
     "name": "stdout",
     "output_type": "stream",
     "text": [
      "CPU times: user 21min 19s, sys: 2.64 s, total: 21min 22s\n",
      "Wall time: 10min 43s\n"
     ]
    }
   ],
   "source": [
    "%%time\n",
    "pred = np.zeros(len(X_train))\n",
    "pred1 = model_half_1.predict(X_half_2)\n",
    "pred2 = model_half_2.predict(X_half_1)"
   ]
  },
  {
   "cell_type": "code",
   "execution_count": 20,
   "metadata": {},
   "outputs": [
    {
     "name": "stdout",
     "output_type": "stream",
     "text": [
      "Half/Half RMSE: 0.9259\n"
     ]
    }
   ],
   "source": [
    "pred = np.zeros(len(X_train))\n",
    "pred[:len(pred2)] += pred2\n",
    "pred[len(pred2):] += pred1\n",
    "print(f\"Half/Half RMSE: {rmse(pred, y_train):.4f}\")"
   ]
  },
  {
   "cell_type": "code",
   "execution_count": 21,
   "metadata": {},
   "outputs": [
    {
     "data": {
      "image/png": "[encoded data removed]",
      "text/plain": [
       "<Figure size 576x576 with 1 Axes>"
      ]
     },
     "metadata": {
      "needs_background": "light"
     },
     "output_type": "display_data"
    },
    {
     "name": "stdout",
     "output_type": "stream",
     "text": [
      "CPU times: user 4min 32s, sys: 784 ms, total: 4min 33s\n",
      "Wall time: 4min 32s\n"
     ]
    }
   ],
   "source": [
    "%%time\n",
    "plt.figure(figsize=(8,8))\n",
    "plt.scatter(y_train, pred)\n",
    "plt.xlabel('y_true')\n",
    "plt.ylabel('pred')\n",
    "plt.show()"
   ]
  },
  {
   "cell_type": "code",
   "execution_count": 22,
   "metadata": {},
   "outputs": [],
   "source": [
    "import matplotlib.pyplot as plt\n",
    "\n",
    "def plot_feature_importance(model):\n",
    "    importance_df = pd.DataFrame(model.feature_importance(),\n",
    "                                 index=X_train.columns,\n",
    "                                 columns=['importance']).sort_values('importance')\n",
    "    fig, ax = plt.subplots(figsize=(6, 6))\n",
    "    importance_df.plot.barh(ax=ax)\n",
    "    plt.show()"
   ]
  },
  {
   "cell_type": "code",
   "execution_count": 23,
   "metadata": {},
   "outputs": [
    {
     "data": {
      "image/png": "[encoded data removed]",
      "text/plain": [
       "<Figure size 432x432 with 1 Axes>"
      ]
     },
     "metadata": {
      "needs_background": "light"
     },
     "output_type": "display_data"
    }
   ],
   "source": [
    "plot_feature_importance(model_half_1)"
   ]
  },
  {
   "cell_type": "code",
   "execution_count": 24,
   "metadata": {},
   "outputs": [
    {
     "data": {
      "image/png": "[encoded data removed]",
      "text/plain": [
       "<Figure size 432x432 with 1 Axes>"
      ]
     },
     "metadata": {
      "needs_background": "light"
     },
     "output_type": "display_data"
    }
   ],
   "source": [
    "plot_feature_importance(model_half_2)"
   ]
  },
  {
   "cell_type": "markdown",
   "metadata": {},
   "source": [
    "# Save Model"
   ]
  },
  {
   "cell_type": "code",
   "execution_count": 25,
   "metadata": {},
   "outputs": [],
   "source": [
    "# save model to file\n",
    "pickle.dump(model_half_1, open(\"model_half_1.pkl\", \"wb\"))\n",
    "pickle.dump(model_half_2, open(\"model_half_2.pkl\", \"wb\"))\n",
    "pickle.dump(pred, open(\"pred_L1.pkl\", \"wb\"))"
   ]
  },
  {
   "cell_type": "code",
   "execution_count": 26,
   "metadata": {},
   "outputs": [
    {
     "data": {
      "text/plain": [
       "9284"
      ]
     },
     "execution_count": 26,
     "metadata": {},
     "output_type": "execute_result"
    }
   ],
   "source": [
    "del X_train, X_half_1, X_half_2, y_half_1, y_half_2, d_half_1, d_half_2, \n",
    "del watchlist_1, watchlist_2, pred, pred1, pred2\n",
    "gc.collect()"
   ]
  },
  {
   "cell_type": "markdown",
   "metadata": {},
   "source": [
    "# Preparing test data"
   ]
  },
  {
   "cell_type": "code",
   "execution_count": 27,
   "metadata": {},
   "outputs": [],
   "source": [
    "weather_test = weather_df = pd.read_csv(DATA_PATH + 'weather_test.csv')"
   ]
  },
  {
   "cell_type": "code",
   "execution_count": 28,
   "metadata": {},
   "outputs": [
    {
     "name": "stdout",
     "output_type": "stream",
     "text": [
      "<class 'pandas.core.frame.DataFrame'>\n",
      "RangeIndex: 277243 entries, 0 to 277242\n",
      "Data columns (total 9 columns):\n",
      "site_id               277243 non-null int64\n",
      "timestamp             277243 non-null object\n",
      "air_temperature       277139 non-null float64\n",
      "cloud_coverage        136795 non-null float64\n",
      "dew_temperature       276916 non-null float64\n",
      "precip_depth_1_hr     181655 non-null float64\n",
      "sea_level_pressure    255978 non-null float64\n",
      "wind_direction        264873 non-null float64\n",
      "wind_speed            276783 non-null float64\n",
      "dtypes: float64(7), int64(1), object(1)\n",
      "memory usage: 19.0+ MB\n"
     ]
    }
   ],
   "source": [
    "weather_test.info()"
   ]
  },
  {
   "cell_type": "code",
   "execution_count": 29,
   "metadata": {},
   "outputs": [
    {
     "name": "stdout",
     "output_type": "stream",
     "text": [
      "Memory usage of dataframe is 1391.81 MB\n",
      "Memory usage after optimization is: 835.08 MB\n",
      "Decreased by 40.0%\n",
      "Memory usage of dataframe is 19.25 MB\n",
      "Memory usage after optimization is: 6.15 MB\n",
      "Decreased by 68.1%\n",
      "Memory usage of dataframe is 2067.83 MB\n",
      "Memory usage after optimization is: 1590.64 MB\n",
      "Decreased by 23.1%\n",
      "CPU times: user 3min 9s, sys: 49.1 s, total: 3min 58s\n",
      "Wall time: 3min 42s\n"
     ]
    }
   ],
   "source": [
    "%%time\n",
    "# weather_test = pd.read_feather('../input/ashrae-feather/weather_test.ft')\n",
    "df_test = pd.read_feather('../input/ashrae-feather/test.ft')\n",
    "weather_test = fill_weather_dataset(weather_test)\n",
    "\n",
    "df_test['hour'] = df_test['timestamp'].dt.hour\n",
    "df_test['weekday'] = df_test['timestamp'].dt.weekday\n",
    "df_test['bm'] = df_test['building_id'].apply(lambda x: str(x)) + '_' + df_test['meter'].apply(lambda x: str(x))\n",
    "df_test = df_test.merge(bm, right_index=True, left_on=bm_cols, how='left')\n",
    "df_test.drop('bm', axis=1, inplace=True)\n",
    "\n",
    "df_test = reduce_mem_usage(df_test, use_float16=True)\n",
    "weather_test = reduce_mem_usage(weather_test, use_float16=True)\n",
    "\n",
    "X_test, row_ids = prepare_data(df_test, building, weather_test, test=True)"
   ]
  },
  {
   "cell_type": "code",
   "execution_count": 30,
   "metadata": {},
   "outputs": [
    {
     "data": {
      "text/html": [
       "<div>\n",
       "<style scoped>\n",
       "    .dataframe tbody tr th:only-of-type {\n",
       "        vertical-align: middle;\n",
       "    }\n",
       "\n",
       "    .dataframe tbody tr th {\n",
       "        vertical-align: top;\n",
       "    }\n",
       "\n",
       "    .dataframe thead th {\n",
       "        text-align: right;\n",
       "    }\n",
       "</style>\n",
       "<table border=\"1\" class=\"dataframe\">\n",
       "  <thead>\n",
       "    <tr style=\"text-align: right;\">\n",
       "      <th></th>\n",
       "      <th>building_id</th>\n",
       "      <th>meter</th>\n",
       "      <th>hour</th>\n",
       "      <th>weekday</th>\n",
       "      <th>bm_week_hour</th>\n",
       "      <th>primary_use</th>\n",
       "      <th>square_feet</th>\n",
       "      <th>year_built</th>\n",
       "      <th>floor_count</th>\n",
       "      <th>air_temperature</th>\n",
       "      <th>cloud_coverage</th>\n",
       "      <th>dew_temperature</th>\n",
       "      <th>wind_direction</th>\n",
       "      <th>wind_speed</th>\n",
       "      <th>offset</th>\n",
       "    </tr>\n",
       "  </thead>\n",
       "  <tbody>\n",
       "    <tr>\n",
       "      <th>0</th>\n",
       "      <td>0</td>\n",
       "      <td>0</td>\n",
       "      <td>0</td>\n",
       "      <td>6</td>\n",
       "      <td>235.035355</td>\n",
       "      <td>0</td>\n",
       "      <td>8.914062</td>\n",
       "      <td>2008.0</td>\n",
       "      <td>NaN</td>\n",
       "      <td>15.601562</td>\n",
       "      <td>2.0</td>\n",
       "      <td>12.796875</td>\n",
       "      <td>130.0</td>\n",
       "      <td>2.099609</td>\n",
       "      <td>5.0</td>\n",
       "    </tr>\n",
       "    <tr>\n",
       "      <th>1</th>\n",
       "      <td>1</td>\n",
       "      <td>0</td>\n",
       "      <td>0</td>\n",
       "      <td>6</td>\n",
       "      <td>120.079323</td>\n",
       "      <td>0</td>\n",
       "      <td>7.910156</td>\n",
       "      <td>2004.0</td>\n",
       "      <td>NaN</td>\n",
       "      <td>15.601562</td>\n",
       "      <td>2.0</td>\n",
       "      <td>12.796875</td>\n",
       "      <td>130.0</td>\n",
       "      <td>2.099609</td>\n",
       "      <td>5.0</td>\n",
       "    </tr>\n",
       "    <tr>\n",
       "      <th>2</th>\n",
       "      <td>2</td>\n",
       "      <td>0</td>\n",
       "      <td>0</td>\n",
       "      <td>6</td>\n",
       "      <td>11.518209</td>\n",
       "      <td>0</td>\n",
       "      <td>8.593750</td>\n",
       "      <td>1991.0</td>\n",
       "      <td>NaN</td>\n",
       "      <td>15.601562</td>\n",
       "      <td>2.0</td>\n",
       "      <td>12.796875</td>\n",
       "      <td>130.0</td>\n",
       "      <td>2.099609</td>\n",
       "      <td>5.0</td>\n",
       "    </tr>\n",
       "    <tr>\n",
       "      <th>3</th>\n",
       "      <td>3</td>\n",
       "      <td>0</td>\n",
       "      <td>0</td>\n",
       "      <td>6</td>\n",
       "      <td>363.260651</td>\n",
       "      <td>0</td>\n",
       "      <td>10.070312</td>\n",
       "      <td>2002.0</td>\n",
       "      <td>NaN</td>\n",
       "      <td>15.601562</td>\n",
       "      <td>2.0</td>\n",
       "      <td>12.796875</td>\n",
       "      <td>130.0</td>\n",
       "      <td>2.099609</td>\n",
       "      <td>5.0</td>\n",
       "    </tr>\n",
       "    <tr>\n",
       "      <th>4</th>\n",
       "      <td>4</td>\n",
       "      <td>0</td>\n",
       "      <td>0</td>\n",
       "      <td>6</td>\n",
       "      <td>1528.018066</td>\n",
       "      <td>0</td>\n",
       "      <td>11.664062</td>\n",
       "      <td>1975.0</td>\n",
       "      <td>NaN</td>\n",
       "      <td>15.601562</td>\n",
       "      <td>2.0</td>\n",
       "      <td>12.796875</td>\n",
       "      <td>130.0</td>\n",
       "      <td>2.099609</td>\n",
       "      <td>5.0</td>\n",
       "    </tr>\n",
       "  </tbody>\n",
       "</table>\n",
       "</div>"
      ],
      "text/plain": [
       "   building_id  meter  hour  weekday  bm_week_hour  primary_use  square_feet  \\\n",
       "0            0      0     0        6    235.035355            0     8.914062   \n",
       "1            1      0     0        6    120.079323            0     7.910156   \n",
       "2            2      0     0        6     11.518209            0     8.593750   \n",
       "3            3      0     0        6    363.260651            0    10.070312   \n",
       "4            4      0     0        6   1528.018066            0    11.664062   \n",
       "\n",
       "   year_built  floor_count  air_temperature  cloud_coverage  dew_temperature  \\\n",
       "0      2008.0          NaN        15.601562             2.0        12.796875   \n",
       "1      2004.0          NaN        15.601562             2.0        12.796875   \n",
       "2      1991.0          NaN        15.601562             2.0        12.796875   \n",
       "3      2002.0          NaN        15.601562             2.0        12.796875   \n",
       "4      1975.0          NaN        15.601562             2.0        12.796875   \n",
       "\n",
       "   wind_direction  wind_speed  offset  \n",
       "0           130.0    2.099609     5.0  \n",
       "1           130.0    2.099609     5.0  \n",
       "2           130.0    2.099609     5.0  \n",
       "3           130.0    2.099609     5.0  \n",
       "4           130.0    2.099609     5.0  "
      ]
     },
     "execution_count": 30,
     "metadata": {},
     "output_type": "execute_result"
    }
   ],
   "source": [
    "X_test.head()"
   ]
  },
  {
   "cell_type": "code",
   "execution_count": 31,
   "metadata": {
    "_kg_hide-input": true,
    "_kg_hide-output": true
   },
   "outputs": [
    {
     "data": {
      "text/plain": [
       "22"
      ]
     },
     "execution_count": 31,
     "metadata": {},
     "output_type": "execute_result"
    }
   ],
   "source": [
    "del df_test, building, weather_test\n",
    "gc.collect()"
   ]
  },
  {
   "cell_type": "markdown",
   "metadata": {},
   "source": [
    "# Scoring test data"
   ]
  },
  {
   "cell_type": "code",
   "execution_count": 32,
   "metadata": {
    "_kg_hide-output": true
   },
   "outputs": [
    {
     "name": "stdout",
     "output_type": "stream",
     "text": [
      "CPU times: user 1h 30min 9s, sys: 13 s, total: 1h 30min 22s\n",
      "Wall time: 47min 7s\n"
     ]
    },
    {
     "data": {
      "text/plain": [
       "12"
      ]
     },
     "execution_count": 32,
     "metadata": {},
     "output_type": "execute_result"
    }
   ],
   "source": [
    "%%time\n",
    "pred = np.expm1(model_half_1.predict(X_test, num_iteration=model_half_1.best_iteration)) / 2\n",
    "\n",
    "del model_half_1\n",
    "gc.collect()\n",
    "\n",
    "pred += np.expm1(model_half_2.predict(X_test, num_iteration=model_half_2.best_iteration)) / 2\n",
    "    \n",
    "del model_half_2\n",
    "gc.collect()"
   ]
  },
  {
   "cell_type": "markdown",
   "metadata": {},
   "source": [
    "# Submission"
   ]
  },
  {
   "cell_type": "code",
   "execution_count": 33,
   "metadata": {},
   "outputs": [],
   "source": [
    "submission = pd.DataFrame({\"row_id\": row_ids, \"meter_reading\": np.clip(pred, 0, a_max=None)})\n",
    "submission['meter_reading'] = submission['meter_reading'].astype('float32')\n",
    "submission['row_id'] = submission['row_id'].astype('int32')\n",
    "submission.to_csv(\"submission.csv\", index=False, chunksize=25000)"
   ]
  },
  {
   "cell_type": "code",
   "execution_count": 34,
   "metadata": {},
   "outputs": [
    {
     "data": {
      "text/html": [
       "<div>\n",
       "<style scoped>\n",
       "    .dataframe tbody tr th:only-of-type {\n",
       "        vertical-align: middle;\n",
       "    }\n",
       "\n",
       "    .dataframe tbody tr th {\n",
       "        vertical-align: top;\n",
       "    }\n",
       "\n",
       "    .dataframe thead th {\n",
       "        text-align: right;\n",
       "    }\n",
       "</style>\n",
       "<table border=\"1\" class=\"dataframe\">\n",
       "  <thead>\n",
       "    <tr style=\"text-align: right;\">\n",
       "      <th></th>\n",
       "      <th>row_id</th>\n",
       "      <th>meter_reading</th>\n",
       "    </tr>\n",
       "  </thead>\n",
       "  <tbody>\n",
       "    <tr>\n",
       "      <th>0</th>\n",
       "      <td>0</td>\n",
       "      <td>176.862976</td>\n",
       "    </tr>\n",
       "    <tr>\n",
       "      <th>1</th>\n",
       "      <td>1</td>\n",
       "      <td>90.677902</td>\n",
       "    </tr>\n",
       "    <tr>\n",
       "      <th>2</th>\n",
       "      <td>2</td>\n",
       "      <td>10.048888</td>\n",
       "    </tr>\n",
       "    <tr>\n",
       "      <th>3</th>\n",
       "      <td>3</td>\n",
       "      <td>297.768524</td>\n",
       "    </tr>\n",
       "    <tr>\n",
       "      <th>4</th>\n",
       "      <td>4</td>\n",
       "      <td>1161.955933</td>\n",
       "    </tr>\n",
       "  </tbody>\n",
       "</table>\n",
       "</div>"
      ],
      "text/plain": [
       "   row_id  meter_reading\n",
       "0       0     176.862976\n",
       "1       1      90.677902\n",
       "2       2      10.048888\n",
       "3       3     297.768524\n",
       "4       4    1161.955933"
      ]
     },
     "execution_count": 34,
     "metadata": {},
     "output_type": "execute_result"
    }
   ],
   "source": [
    "submission.head()"
   ]
  },
  {
   "cell_type": "code",
   "execution_count": 35,
   "metadata": {},
   "outputs": [
    {
     "name": "stdout",
     "output_type": "stream",
     "text": [
      "submission mean: 362.5631\n",
      "submission std: 1738.4730\n",
      "submission min: 0.0000\n",
      "submission max: 93598.0859\n"
     ]
    }
   ],
   "source": [
    "print(f\"submission mean: {submission['meter_reading'].mean():.4f}\")\n",
    "print(f\"submission std: {submission['meter_reading'].std():.4f}\")\n",
    "print(f\"submission min: {submission['meter_reading'].min():.4f}\")\n",
    "print(f\"submission max: {submission['meter_reading'].max():.4f}\")"
   ]
  },
  {
   "cell_type": "code",
   "execution_count": 36,
   "metadata": {},
   "outputs": [
    {
     "data": {
      "text/html": [
       "<div>\n",
       "<style scoped>\n",
       "    .dataframe tbody tr th:only-of-type {\n",
       "        vertical-align: middle;\n",
       "    }\n",
       "\n",
       "    .dataframe tbody tr th {\n",
       "        vertical-align: top;\n",
       "    }\n",
       "\n",
       "    .dataframe thead th {\n",
       "        text-align: right;\n",
       "    }\n",
       "</style>\n",
       "<table border=\"1\" class=\"dataframe\">\n",
       "  <thead>\n",
       "    <tr style=\"text-align: right;\">\n",
       "      <th></th>\n",
       "      <th>row_id</th>\n",
       "      <th>meter_reading</th>\n",
       "    </tr>\n",
       "  </thead>\n",
       "  <tbody>\n",
       "    <tr>\n",
       "      <th>2260081</th>\n",
       "      <td>2260081</td>\n",
       "      <td>2.700923</td>\n",
       "    </tr>\n",
       "    <tr>\n",
       "      <th>2260082</th>\n",
       "      <td>2260082</td>\n",
       "      <td>1.777285</td>\n",
       "    </tr>\n",
       "    <tr>\n",
       "      <th>2260083</th>\n",
       "      <td>2260083</td>\n",
       "      <td>61.097794</td>\n",
       "    </tr>\n",
       "    <tr>\n",
       "      <th>2260084</th>\n",
       "      <td>2260084</td>\n",
       "      <td>202.695984</td>\n",
       "    </tr>\n",
       "    <tr>\n",
       "      <th>2260085</th>\n",
       "      <td>2260085</td>\n",
       "      <td>204.148010</td>\n",
       "    </tr>\n",
       "    <tr>\n",
       "      <th>...</th>\n",
       "      <td>...</td>\n",
       "      <td>...</td>\n",
       "    </tr>\n",
       "    <tr>\n",
       "      <th>41697595</th>\n",
       "      <td>41697595</td>\n",
       "      <td>6.772488</td>\n",
       "    </tr>\n",
       "    <tr>\n",
       "      <th>41697596</th>\n",
       "      <td>41697596</td>\n",
       "      <td>4.644111</td>\n",
       "    </tr>\n",
       "    <tr>\n",
       "      <th>41697597</th>\n",
       "      <td>41697597</td>\n",
       "      <td>5.200692</td>\n",
       "    </tr>\n",
       "    <tr>\n",
       "      <th>41697598</th>\n",
       "      <td>41697598</td>\n",
       "      <td>165.697372</td>\n",
       "    </tr>\n",
       "    <tr>\n",
       "      <th>41697599</th>\n",
       "      <td>41697599</td>\n",
       "      <td>3.903364</td>\n",
       "    </tr>\n",
       "  </tbody>\n",
       "</table>\n",
       "<p>39420000 rows × 2 columns</p>\n",
       "</div>"
      ],
      "text/plain": [
       "            row_id  meter_reading\n",
       "2260081    2260081       2.700923\n",
       "2260082    2260082       1.777285\n",
       "2260083    2260083      61.097794\n",
       "2260084    2260084     202.695984\n",
       "2260085    2260085     204.148010\n",
       "...            ...            ...\n",
       "41697595  41697595       6.772488\n",
       "41697596  41697596       4.644111\n",
       "41697597  41697597       5.200692\n",
       "41697598  41697598     165.697372\n",
       "41697599  41697599       3.903364\n",
       "\n",
       "[39420000 rows x 2 columns]"
      ]
     },
     "execution_count": 36,
     "metadata": {},
     "output_type": "execute_result"
    }
   ],
   "source": [
    "submission[X_test['building_id'] > 105]"
   ]
  },
  {
   "cell_type": "code",
   "execution_count": 37,
   "metadata": {},
   "outputs": [
    {
     "data": {
      "text/plain": [
       "5"
      ]
     },
     "execution_count": 37,
     "metadata": {},
     "output_type": "execute_result"
    },
    {
     "data": {
      "image/png": "[encoded data removed]",
      "text/plain": [
       "<Figure size 432x288 with 1 Axes>"
      ]
     },
     "metadata": {
      "needs_background": "light"
     },
     "output_type": "display_data"
    }
   ],
   "source": [
    "sns.distplot(np.log1p(submission['meter_reading'].values), kde=False);\n",
    "gc.collect()"
   ]
  },
  {
   "cell_type": "markdown",
   "metadata": {},
   "source": [
    "# Submission Validation (bld 0-104)"
   ]
  },
  {
   "cell_type": "code",
   "execution_count": 38,
   "metadata": {},
   "outputs": [],
   "source": [
    "site0 = pd.read_feather('../input/ucf-building-meter-reading/site0.ft')\n",
    "df_test = pd.read_feather('../input/ashrae-feather/test.ft')"
   ]
  },
  {
   "cell_type": "code",
   "execution_count": 39,
   "metadata": {},
   "outputs": [],
   "source": [
    "merged = df_test.merge(site0, left_on=['building_id', 'meter', 'timestamp'], \n",
    "              right_on=['building_id', 'meter', 'timestamp'], how='left')"
   ]
  },
  {
   "cell_type": "code",
   "execution_count": 40,
   "metadata": {},
   "outputs": [],
   "source": [
    "ytrue = merged[~merged['meter_reading'].isna()]['meter_reading']\n",
    "pred = submission[~merged['meter_reading'].isna()]['meter_reading']"
   ]
  },
  {
   "cell_type": "code",
   "execution_count": 41,
   "metadata": {},
   "outputs": [
    {
     "name": "stdout",
     "output_type": "stream",
     "text": [
      "RMSLE of buildings 0-104: 1.1122\n"
     ]
    }
   ],
   "source": [
    "print(f'RMSLE of buildings 0-104: {rmsle(ytrue, pred):.4f}')"
   ]
  },
  {
   "cell_type": "markdown",
   "metadata": {},
   "source": [
    "# Submission Validation ASU Site1 (bld 105-155)"
   ]
  },
  {
   "cell_type": "code",
   "execution_count": 42,
   "metadata": {},
   "outputs": [],
   "source": [
    "site1 = pd.read_feather('../input/ucl-data-leakage-episode-2/site1.ft')\n",
    "site1 = site1.query('timestamp >= 2017')"
   ]
  },
  {
   "cell_type": "code",
   "execution_count": 43,
   "metadata": {},
   "outputs": [],
   "source": [
    "merged = df_test.merge(site1, left_on=['building_id', 'meter', 'timestamp'], \n",
    "              right_on=['building_id', 'meter', 'timestamp'], how='left')"
   ]
  },
  {
   "cell_type": "code",
   "execution_count": 44,
   "metadata": {},
   "outputs": [],
   "source": [
    "ytrue = merged[~merged['meter_reading'].isna()]['meter_reading']\n",
    "pred = submission[~merged['meter_reading'].isna()]['meter_reading']"
   ]
  },
  {
   "cell_type": "code",
   "execution_count": 45,
   "metadata": {},
   "outputs": [
    {
     "name": "stdout",
     "output_type": "stream",
     "text": [
      "RMSLE of buildings 105-155: 0.7892\n"
     ]
    }
   ],
   "source": [
    "del merged, site1\n",
    "print(f'RMSLE of buildings 105-155: {rmsle(ytrue, pred):.4f}')"
   ]
  },
  {
   "cell_type": "markdown",
   "metadata": {},
   "source": [
    "# Submission Validation ASU Site2 (bld 156-290)"
   ]
  },
  {
   "cell_type": "code",
   "execution_count": 46,
   "metadata": {},
   "outputs": [],
   "source": [
    "site2 = pd.read_feather('../input/asu-feather/site2.ft')\n",
    "site2 = site2.query('timestamp >= 2017')"
   ]
  },
  {
   "cell_type": "code",
   "execution_count": 47,
   "metadata": {},
   "outputs": [],
   "source": [
    "merged = df_test.merge(site2, left_on=['building_id', 'meter', 'timestamp'], \n",
    "              right_on=['building_id', 'meter', 'timestamp'], how='left')"
   ]
  },
  {
   "cell_type": "code",
   "execution_count": 48,
   "metadata": {},
   "outputs": [],
   "source": [
    "ytrue = merged[~merged['meter_reading'].isna()]['meter_reading']\n",
    "pred = submission[~merged['meter_reading'].isna()]['meter_reading']"
   ]
  },
  {
   "cell_type": "code",
   "execution_count": 49,
   "metadata": {},
   "outputs": [
    {
     "name": "stdout",
     "output_type": "stream",
     "text": [
      "RMSLE of buildings 156-290: 0.9804\n"
     ]
    }
   ],
   "source": [
    "del site2, merged\n",
    "print(f'RMSLE of buildings 156-290: {rmsle(ytrue, pred):.4f}')"
   ]
  },
  {
   "cell_type": "markdown",
   "metadata": {},
   "source": [
    "# Submission Validation UCB Site4 (74 blds)"
   ]
  },
  {
   "cell_type": "code",
   "execution_count": 50,
   "metadata": {},
   "outputs": [],
   "source": [
    "site4 = pd.read_feather('../input/ucb-feather/site4.ft')\n",
    "site4 = site4.query('timestamp >= 2017')"
   ]
  },
  {
   "cell_type": "code",
   "execution_count": 51,
   "metadata": {},
   "outputs": [],
   "source": [
    "merged = df_test.merge(site4, left_on=['building_id', 'timestamp'], \n",
    "              right_on=['building_id', 'timestamp'], how='left')"
   ]
  },
  {
   "cell_type": "code",
   "execution_count": 52,
   "metadata": {},
   "outputs": [],
   "source": [
    "ytrue = merged[~merged['meter_reading'].isna()]['meter_reading']\n",
    "pred = submission[~merged['meter_reading'].isna()]['meter_reading']"
   ]
  },
  {
   "cell_type": "code",
   "execution_count": 53,
   "metadata": {},
   "outputs": [
    {
     "name": "stdout",
     "output_type": "stream",
     "text": [
      "RMSLE of 74/91 buildings : 0.4036\n"
     ]
    }
   ],
   "source": [
    "del site4, merged\n",
    "print(f'RMSLE of 74/91 buildings : {rmsle(ytrue, pred):.4f}')"
   ]
  },
  {
   "cell_type": "markdown",
   "metadata": {},
   "source": [
    "# Submission Validation Cornell Site15 (bld 1325-1448)"
   ]
  },
  {
   "cell_type": "code",
   "execution_count": 54,
   "metadata": {},
   "outputs": [],
   "source": [
    "site15 = pd.read_feather('../input/cornell-feather/site15.ft')\n",
    "site15 = site15.query('timestamp >= 2017')\n",
    "site15 = site15.drop_duplicates()"
   ]
  },
  {
   "cell_type": "code",
   "execution_count": 55,
   "metadata": {},
   "outputs": [],
   "source": [
    "merged = df_test.merge(site15, left_on=['building_id', 'meter', 'timestamp'], \n",
    "              right_on=['building_id', 'meter', 'timestamp'], how='left')"
   ]
  },
  {
   "cell_type": "code",
   "execution_count": 56,
   "metadata": {},
   "outputs": [],
   "source": [
    "ytrue = merged[~merged['meter_reading'].isna()]['meter_reading']\n",
    "pred = submission[~merged['meter_reading'].isna()]['meter_reading']"
   ]
  },
  {
   "cell_type": "code",
   "execution_count": 57,
   "metadata": {},
   "outputs": [
    {
     "name": "stdout",
     "output_type": "stream",
     "text": [
      "RMSLE of buildings 1325-1448: 0.6349\n"
     ]
    }
   ],
   "source": [
    "del site15, merged\n",
    "print(f'RMSLE of buildings 1325-1448: {rmsle(ytrue, pred):.4f}')"
   ]
  },
  {
   "cell_type": "markdown",
   "metadata": {},
   "source": [
    "# Submission Validation Site0-2 (bld 0-290)"
   ]
  },
  {
   "cell_type": "code",
   "execution_count": 58,
   "metadata": {},
   "outputs": [],
   "source": [
    "site012 = pd.read_feather('../input/comb-leaked-dataset/site012.ft')\n",
    "site012 = site012.query('timestamp >= 2017')"
   ]
  },
  {
   "cell_type": "code",
   "execution_count": 59,
   "metadata": {},
   "outputs": [],
   "source": [
    "merged = df_test.merge(site012, left_on=['building_id', 'meter', 'timestamp'], \n",
    "              right_on=['building_id', 'meter', 'timestamp'], how='left')"
   ]
  },
  {
   "cell_type": "code",
   "execution_count": 60,
   "metadata": {},
   "outputs": [],
   "source": [
    "ytrue = merged[~merged['meter_reading'].isna()]['meter_reading']\n",
    "pred = submission[~merged['meter_reading'].isna()]['meter_reading']"
   ]
  },
  {
   "cell_type": "code",
   "execution_count": 61,
   "metadata": {},
   "outputs": [
    {
     "name": "stdout",
     "output_type": "stream",
     "text": [
      "RMSLE of buildings 0-290: 0.9942\n"
     ]
    }
   ],
   "source": [
    "del site012, merged\n",
    "print(f'RMSLE of buildings 0-290: {rmsle(ytrue, pred):.4f}')"
   ]
  }
 ],
 "metadata": {
  "kernelspec": {
   "display_name": "Python 3",
   "language": "python",
   "name": "python3"
  },
  "language_info": {
   "codemirror_mode": {
    "name": "ipython",
    "version": 3
   },
   "file_extension": ".py",
   "mimetype": "text/x-python",
   "name": "python",
   "nbconvert_exporter": "python",
   "pygments_lexer": "ipython3",
   "version": "3.6.6"
  }
 },
 "nbformat": 4,
 "nbformat_minor": 1
}
