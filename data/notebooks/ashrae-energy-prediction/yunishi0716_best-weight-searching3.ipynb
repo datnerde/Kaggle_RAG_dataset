{
 "cells": [
  {
   "cell_type": "markdown",
   "metadata": {},
   "source": [
    "Thank you for sharing submission and your way.\n",
    "\n",
    "I appreciate all of you whose kernal is used by me."
   ]
  },
  {
   "cell_type": "code",
   "execution_count": 1,
   "metadata": {
    "_cell_guid": "b1076dfc-b9ad-4769-8c92-a6c4dae69d19",
    "_uuid": "8f2839f25d086af736a60e9eeb907d3b93b6e0e5"
   },
   "outputs": [],
   "source": [
    "import gc\n",
    "import os\n",
    "from pathlib import Path\n",
    "import random\n",
    "import sys\n",
    "\n",
    "import numpy as np\n",
    "import pandas as pd\n",
    "import matplotlib.pyplot as plt\n",
    "import seaborn as sns\n",
    "%matplotlib inline\n",
    "\n",
    "from sklearn import preprocessing\n",
    "from sklearn.model_selection import KFold\n",
    "import lightgbm as lgb\n",
    "import xgboost as xgb\n",
    "import catboost as cb\n",
    "\n",
    "from sklearn.metrics import mean_squared_error"
   ]
  },
  {
   "cell_type": "markdown",
   "metadata": {},
   "source": [
    "# Preparing Data"
   ]
  },
  {
   "cell_type": "code",
   "execution_count": 2,
   "metadata": {
    "_cell_guid": "79c7e3d0-c299-4dcb-8224-4455121ee9b0",
    "_uuid": "d629ff2d2480ee46fbb7e2d37f6b5fab8052498a"
   },
   "outputs": [],
   "source": [
    "#reduce the memory usage\n",
    "from pandas.api.types import is_datetime64_any_dtype as is_datetime\n",
    "from pandas.api.types import is_categorical_dtype\n",
    "def reduce_mem_usage(df):\n",
    "    \"\"\" iterate through all the columns of a dataframe and modify the data type\n",
    "        to reduce memory usage.        \n",
    "    \"\"\"\n",
    "    start_mem = df.memory_usage().sum() / 1024**2\n",
    "    print('Memory usage of dataframe is {:.2f} MB'.format(start_mem))\n",
    "    \n",
    "    for col in df.columns:\n",
    "        if is_datetime(df[col]) or is_categorical_dtype(df[col]):\n",
    "            # skip datetime type or categorical type\n",
    "            continue\n",
    "        col_type = df[col].dtype\n",
    "        \n",
    "        if col_type != object:\n",
    "            c_min = df[col].min()\n",
    "            c_max = df[col].max()\n",
    "            if str(col_type)[:3] == 'int':\n",
    "                if c_min > np.iinfo(np.int8).min and c_max < np.iinfo(np.int8).max:\n",
    "                    df[col] = df[col].astype(np.int8)\n",
    "                elif c_min > np.iinfo(np.int16).min and c_max < np.iinfo(np.int16).max:\n",
    "                    df[col] = df[col].astype(np.int16)\n",
    "                elif c_min > np.iinfo(np.int32).min and c_max < np.iinfo(np.int32).max:\n",
    "                    df[col] = df[col].astype(np.int32)\n",
    "                elif c_min > np.iinfo(np.int64).min and c_max < np.iinfo(np.int64).max:\n",
    "                    df[col] = df[col].astype(np.int64)  \n",
    "            else:\n",
    "                if c_min > np.finfo(np.float16).min and c_max < np.finfo(np.float16).max:\n",
    "                    df[col] = df[col].astype(np.float16)\n",
    "                elif c_min > np.finfo(np.float32).min and c_max < np.finfo(np.float32).max:\n",
    "                    df[col] = df[col].astype(np.float32)\n",
    "                else:\n",
    "                    df[col] = df[col].astype(np.float64)\n",
    "        else:\n",
    "            df[col] = df[col].astype('category')\n",
    "\n",
    "    end_mem = df.memory_usage().sum() / 1024**2\n",
    "    print('Memory usage after optimization is: {:.2f} MB'.format(end_mem))\n",
    "    print('Decreased by {:.1f}%'.format(100 * (start_mem - end_mem) / start_mem))\n",
    "    \n",
    "    return df"
   ]
  },
  {
   "cell_type": "markdown",
   "metadata": {},
   "source": [
    "## Loading & cleaning data"
   ]
  },
  {
   "cell_type": "code",
   "execution_count": 3,
   "metadata": {},
   "outputs": [],
   "source": [
    "# using original data\n",
    "root = Path('../input/ashrae-feather-format-for-fast-loading')\n",
    "# train_df = pd.read_feather(root/'train.feather')\n",
    "test_df = pd.read_feather(root/'test.feather')\n",
    "building_meta_df = pd.read_feather(root/\"building_metadata.feather\")"
   ]
  },
  {
   "cell_type": "code",
   "execution_count": 4,
   "metadata": {},
   "outputs": [],
   "source": [
    "# using LK data\n",
    "leak_df = pd.read_feather('../input/ashrae-leak-data-station/leak.feather')\n",
    "leak_df.fillna(0, inplace=True)\n",
    "leak_df = leak_df[(leak_df.timestamp.dt.year > 2016) & (leak_df.timestamp.dt.year < 2019)]\n",
    "leak_df.loc[leak_df.meter_reading < 0, 'meter_reading'] = 0 # remove large negative values\n",
    "leak_df = leak_df[leak_df.building_id!=245]"
   ]
  },
  {
   "cell_type": "code",
   "execution_count": 5,
   "metadata": {},
   "outputs": [
    {
     "name": "stdout",
     "output_type": "stream",
     "text": [
      "0\n"
     ]
    }
   ],
   "source": [
    "print(leak_df.duplicated().sum())"
   ]
  },
  {
   "cell_type": "code",
   "execution_count": 6,
   "metadata": {},
   "outputs": [
    {
     "name": "stdout",
     "output_type": "stream",
     "text": [
      "building_id      0\n",
      "meter            0\n",
      "meter_reading    0\n",
      "timestamp        0\n",
      "dtype: int64\n"
     ]
    }
   ],
   "source": [
    "print(leak_df.isnull().sum())"
   ]
  },
  {
   "cell_type": "code",
   "execution_count": 7,
   "metadata": {},
   "outputs": [
    {
     "data": {
      "text/plain": [
       "40"
      ]
     },
     "execution_count": 7,
     "metadata": {},
     "output_type": "execute_result"
    }
   ],
   "source": [
    "gc.collect()"
   ]
  },
  {
   "cell_type": "markdown",
   "metadata": {},
   "source": [
    "# Validation for models using leak data"
   ]
  },
  {
   "cell_type": "code",
   "execution_count": 8,
   "metadata": {},
   "outputs": [
    {
     "name": "stdout",
     "output_type": "stream",
     "text": [
      "ashrae-energy-prediction\r\n",
      "ashrae-feather-format-for-fast-loading\r\n",
      "ashrae-great-energy-predictor-iii-eda-model\r\n",
      "ashrae-half-and-half\r\n",
      "ashrae-highway-kernel-route4\r\n",
      "ashrae-kfold-lightgbm-without-leak-1-08\r\n",
      "ashrae-leak-data-station\r\n",
      "ashrae-simple-data-cleanup-lb-1-08-no-leaks\r\n"
     ]
    }
   ],
   "source": [
    "!ls ../input/"
   ]
  },
  {
   "cell_type": "code",
   "execution_count": 9,
   "metadata": {},
   "outputs": [
    {
     "name": "stderr",
     "output_type": "stream",
     "text": [
      "/opt/conda/lib/python3.6/site-packages/numpy/lib/arraysetops.py:568: FutureWarning: elementwise comparison failed; returning scalar instead, but in the future will perform elementwise comparison\n",
      "  mask |= (ar1 == a)\n"
     ]
    }
   ],
   "source": [
    "kfold_submission = pd.read_csv('../input/ashrae-kfold-lightgbm-without-leak-1-08/submission.csv', index_col=0)\n",
    "halfhalf_submission = pd.read_csv('../input/ashrae-half-and-half/submission.csv', index_col=0)\n",
    "highway_submission = pd.read_csv('../input/ashrae-highway-kernel-route4/submission.csv', index_col=0)\n",
    "gep3_submission = pd.read_csv(\"../input/ashrae-great-energy-predictor-iii-eda-model/Normal.csv\", index_col=0)\n",
    "simple_submission = pd.read_csv(\"../input/ashrae-simple-data-cleanup-lb-1-08-no-leaks/submission.csv\", index_col=0)"
   ]
  },
  {
   "cell_type": "code",
   "execution_count": 10,
   "metadata": {},
   "outputs": [
    {
     "data": {
      "text/plain": [
       "0"
      ]
     },
     "execution_count": 10,
     "metadata": {},
     "output_type": "execute_result"
    }
   ],
   "source": [
    "test_df[\"pred1\"] = kfold_submission.meter_reading\n",
    "test_df[\"pred2\"] = halfhalf_submission.meter_reading\n",
    "test_df[\"pred3\"] = highway_submission.meter_reading\n",
    "test_df[\"pred4\"] = gep3_submission.meter_reading\n",
    "test_df[\"pred5\"] = simple_submission.meter_reading\n",
    "\n",
    "del kfold_submission, halfhalf_submission, highway_submission, gep3_submission\n",
    "del simple_submission\n",
    "gc.collect()"
   ]
  },
  {
   "cell_type": "code",
   "execution_count": 11,
   "metadata": {},
   "outputs": [
    {
     "name": "stdout",
     "output_type": "stream",
     "text": [
      "Memory usage of dataframe is 2187.13 MB\n",
      "Memory usage after optimization is: 1391.81 MB\n",
      "Decreased by 36.4%\n",
      "Memory usage of dataframe is 460.05 MB\n",
      "Memory usage after optimization is: 276.03 MB\n",
      "Decreased by 40.0%\n"
     ]
    }
   ],
   "source": [
    "test_df.loc[test_df.pred3 < 0, \"pred3\"] = 0\n",
    "test_df.loc[test_df.pred4 < 0, \"pred4\"] = 0\n",
    "test_df.loc[test_df.pred5 < 0, \"pred5\"] = 0\n",
    "test_df = reduce_mem_usage(test_df)\n",
    "leak_df = reduce_mem_usage(leak_df)"
   ]
  },
  {
   "cell_type": "code",
   "execution_count": 12,
   "metadata": {},
   "outputs": [
    {
     "data": {
      "text/html": [
       "<div>\n",
       "<style scoped>\n",
       "    .dataframe tbody tr th:only-of-type {\n",
       "        vertical-align: middle;\n",
       "    }\n",
       "\n",
       "    .dataframe tbody tr th {\n",
       "        vertical-align: top;\n",
       "    }\n",
       "\n",
       "    .dataframe thead th {\n",
       "        text-align: right;\n",
       "    }\n",
       "</style>\n",
       "<table border=\"1\" class=\"dataframe\">\n",
       "  <thead>\n",
       "    <tr style=\"text-align: right;\">\n",
       "      <th></th>\n",
       "      <th>row_id</th>\n",
       "      <th>building_id</th>\n",
       "      <th>meter</th>\n",
       "      <th>timestamp</th>\n",
       "      <th>pred1</th>\n",
       "      <th>pred2</th>\n",
       "      <th>pred3</th>\n",
       "      <th>pred4</th>\n",
       "      <th>pred5</th>\n",
       "    </tr>\n",
       "  </thead>\n",
       "  <tbody>\n",
       "    <tr>\n",
       "      <th>0</th>\n",
       "      <td>0</td>\n",
       "      <td>0</td>\n",
       "      <td>0</td>\n",
       "      <td>2017-01-01</td>\n",
       "      <td>186.168106</td>\n",
       "      <td>92.729485</td>\n",
       "      <td>169.533401</td>\n",
       "      <td>162.409790</td>\n",
       "      <td>179.624802</td>\n",
       "    </tr>\n",
       "    <tr>\n",
       "      <th>1</th>\n",
       "      <td>1</td>\n",
       "      <td>1</td>\n",
       "      <td>0</td>\n",
       "      <td>2017-01-01</td>\n",
       "      <td>85.102570</td>\n",
       "      <td>41.220722</td>\n",
       "      <td>89.669403</td>\n",
       "      <td>78.838898</td>\n",
       "      <td>75.862000</td>\n",
       "    </tr>\n",
       "    <tr>\n",
       "      <th>2</th>\n",
       "      <td>2</td>\n",
       "      <td>2</td>\n",
       "      <td>0</td>\n",
       "      <td>2017-01-01</td>\n",
       "      <td>13.020658</td>\n",
       "      <td>2.686540</td>\n",
       "      <td>12.904300</td>\n",
       "      <td>8.548710</td>\n",
       "      <td>6.988500</td>\n",
       "    </tr>\n",
       "    <tr>\n",
       "      <th>3</th>\n",
       "      <td>3</td>\n",
       "      <td>3</td>\n",
       "      <td>0</td>\n",
       "      <td>2017-01-01</td>\n",
       "      <td>249.669037</td>\n",
       "      <td>139.413605</td>\n",
       "      <td>312.110107</td>\n",
       "      <td>216.632507</td>\n",
       "      <td>305.971710</td>\n",
       "    </tr>\n",
       "    <tr>\n",
       "      <th>4</th>\n",
       "      <td>4</td>\n",
       "      <td>4</td>\n",
       "      <td>0</td>\n",
       "      <td>2017-01-01</td>\n",
       "      <td>1130.942383</td>\n",
       "      <td>620.063782</td>\n",
       "      <td>1359.578369</td>\n",
       "      <td>1230.123779</td>\n",
       "      <td>1408.412231</td>\n",
       "    </tr>\n",
       "    <tr>\n",
       "      <th>5</th>\n",
       "      <td>5</td>\n",
       "      <td>5</td>\n",
       "      <td>0</td>\n",
       "      <td>2017-01-01</td>\n",
       "      <td>25.602278</td>\n",
       "      <td>4.611826</td>\n",
       "      <td>16.370600</td>\n",
       "      <td>12.909909</td>\n",
       "      <td>11.489800</td>\n",
       "    </tr>\n",
       "    <tr>\n",
       "      <th>6</th>\n",
       "      <td>6</td>\n",
       "      <td>6</td>\n",
       "      <td>0</td>\n",
       "      <td>2017-01-01</td>\n",
       "      <td>96.963814</td>\n",
       "      <td>60.395645</td>\n",
       "      <td>92.603699</td>\n",
       "      <td>99.529289</td>\n",
       "      <td>128.021393</td>\n",
       "    </tr>\n",
       "    <tr>\n",
       "      <th>7</th>\n",
       "      <td>7</td>\n",
       "      <td>7</td>\n",
       "      <td>0</td>\n",
       "      <td>2017-01-01</td>\n",
       "      <td>436.188873</td>\n",
       "      <td>101.772514</td>\n",
       "      <td>438.517395</td>\n",
       "      <td>413.543060</td>\n",
       "      <td>496.082092</td>\n",
       "    </tr>\n",
       "    <tr>\n",
       "      <th>8</th>\n",
       "      <td>8</td>\n",
       "      <td>7</td>\n",
       "      <td>1</td>\n",
       "      <td>2017-01-01</td>\n",
       "      <td>358.571686</td>\n",
       "      <td>60.734264</td>\n",
       "      <td>209.714996</td>\n",
       "      <td>412.859344</td>\n",
       "      <td>1035.932739</td>\n",
       "    </tr>\n",
       "    <tr>\n",
       "      <th>9</th>\n",
       "      <td>9</td>\n",
       "      <td>8</td>\n",
       "      <td>0</td>\n",
       "      <td>2017-01-01</td>\n",
       "      <td>318.887390</td>\n",
       "      <td>201.952988</td>\n",
       "      <td>347.813507</td>\n",
       "      <td>312.942200</td>\n",
       "      <td>435.761993</td>\n",
       "    </tr>\n",
       "  </tbody>\n",
       "</table>\n",
       "</div>"
      ],
      "text/plain": [
       "   row_id  building_id  meter  timestamp        pred1       pred2  \\\n",
       "0       0            0      0 2017-01-01   186.168106   92.729485   \n",
       "1       1            1      0 2017-01-01    85.102570   41.220722   \n",
       "2       2            2      0 2017-01-01    13.020658    2.686540   \n",
       "3       3            3      0 2017-01-01   249.669037  139.413605   \n",
       "4       4            4      0 2017-01-01  1130.942383  620.063782   \n",
       "5       5            5      0 2017-01-01    25.602278    4.611826   \n",
       "6       6            6      0 2017-01-01    96.963814   60.395645   \n",
       "7       7            7      0 2017-01-01   436.188873  101.772514   \n",
       "8       8            7      1 2017-01-01   358.571686   60.734264   \n",
       "9       9            8      0 2017-01-01   318.887390  201.952988   \n",
       "\n",
       "         pred3        pred4        pred5  \n",
       "0   169.533401   162.409790   179.624802  \n",
       "1    89.669403    78.838898    75.862000  \n",
       "2    12.904300     8.548710     6.988500  \n",
       "3   312.110107   216.632507   305.971710  \n",
       "4  1359.578369  1230.123779  1408.412231  \n",
       "5    16.370600    12.909909    11.489800  \n",
       "6    92.603699    99.529289   128.021393  \n",
       "7   438.517395   413.543060   496.082092  \n",
       "8   209.714996   412.859344  1035.932739  \n",
       "9   347.813507   312.942200   435.761993  "
      ]
     },
     "execution_count": 12,
     "metadata": {},
     "output_type": "execute_result"
    }
   ],
   "source": [
    "test_df.head(10)"
   ]
  },
  {
   "cell_type": "code",
   "execution_count": 13,
   "metadata": {},
   "outputs": [],
   "source": [
    "leak_df = leak_df.merge(test_df[['building_id', 'meter', 'timestamp', 'pred1', 'pred2', 'pred3', 'pred4', 'pred5', 'row_id']],\n",
    "                        left_on = ['building_id','meter', 'timestamp'], right_on = ['building_id', 'meter', 'timestamp'],\n",
    "                        how = \"left\")\n",
    "leak_df = leak_df.merge(building_meta_df[['building_id', 'site_id']], on='building_id', how='left')"
   ]
  },
  {
   "cell_type": "code",
   "execution_count": 14,
   "metadata": {},
   "outputs": [],
   "source": [
    "leak_df[\"pred1_l1p\"] = np.log1p(leak_df.pred1)\n",
    "leak_df[\"pred2_l1p\"] = np.log1p(leak_df.pred2)\n",
    "leak_df[\"pred3_l1p\"] = np.log1p(leak_df.pred3)\n",
    "leak_df[\"pred4_l1p\"] = np.log1p(leak_df.pred4)\n",
    "leak_df[\"pred5_l1p\"] = np.log1p(leak_df.pred5)\n",
    "leak_df[\"meter_reading_l1p\"] = np.log1p(leak_df.meter_reading)"
   ]
  },
  {
   "cell_type": "code",
   "execution_count": 15,
   "metadata": {},
   "outputs": [
    {
     "data": {
      "text/html": [
       "<div>\n",
       "<style scoped>\n",
       "    .dataframe tbody tr th:only-of-type {\n",
       "        vertical-align: middle;\n",
       "    }\n",
       "\n",
       "    .dataframe tbody tr th {\n",
       "        vertical-align: top;\n",
       "    }\n",
       "\n",
       "    .dataframe thead th {\n",
       "        text-align: right;\n",
       "    }\n",
       "</style>\n",
       "<table border=\"1\" class=\"dataframe\">\n",
       "  <thead>\n",
       "    <tr style=\"text-align: right;\">\n",
       "      <th></th>\n",
       "      <th>building_id</th>\n",
       "      <th>meter</th>\n",
       "      <th>meter_reading</th>\n",
       "      <th>timestamp</th>\n",
       "      <th>pred1</th>\n",
       "      <th>pred2</th>\n",
       "      <th>pred3</th>\n",
       "      <th>pred4</th>\n",
       "      <th>pred5</th>\n",
       "      <th>row_id</th>\n",
       "      <th>site_id</th>\n",
       "      <th>pred1_l1p</th>\n",
       "      <th>pred2_l1p</th>\n",
       "      <th>pred3_l1p</th>\n",
       "      <th>pred4_l1p</th>\n",
       "      <th>pred5_l1p</th>\n",
       "      <th>meter_reading_l1p</th>\n",
       "    </tr>\n",
       "  </thead>\n",
       "  <tbody>\n",
       "    <tr>\n",
       "      <th>0</th>\n",
       "      <td>0</td>\n",
       "      <td>0.0</td>\n",
       "      <td>173.370300</td>\n",
       "      <td>2017-01-01</td>\n",
       "      <td>186.168106</td>\n",
       "      <td>92.729485</td>\n",
       "      <td>169.533401</td>\n",
       "      <td>162.409790</td>\n",
       "      <td>179.624802</td>\n",
       "      <td>0</td>\n",
       "      <td>0</td>\n",
       "      <td>5.232007</td>\n",
       "      <td>4.540413</td>\n",
       "      <td>5.138931</td>\n",
       "      <td>5.096261</td>\n",
       "      <td>5.196422</td>\n",
       "      <td>5.161181</td>\n",
       "    </tr>\n",
       "    <tr>\n",
       "      <th>1</th>\n",
       "      <td>1</td>\n",
       "      <td>0.0</td>\n",
       "      <td>53.512718</td>\n",
       "      <td>2017-01-01</td>\n",
       "      <td>85.102570</td>\n",
       "      <td>41.220722</td>\n",
       "      <td>89.669403</td>\n",
       "      <td>78.838898</td>\n",
       "      <td>75.862000</td>\n",
       "      <td>1</td>\n",
       "      <td>0</td>\n",
       "      <td>4.455539</td>\n",
       "      <td>3.742911</td>\n",
       "      <td>4.507220</td>\n",
       "      <td>4.380011</td>\n",
       "      <td>4.342011</td>\n",
       "      <td>3.998434</td>\n",
       "    </tr>\n",
       "    <tr>\n",
       "      <th>2</th>\n",
       "      <td>2</td>\n",
       "      <td>0.0</td>\n",
       "      <td>6.143042</td>\n",
       "      <td>2017-01-01</td>\n",
       "      <td>13.020658</td>\n",
       "      <td>2.686540</td>\n",
       "      <td>12.904300</td>\n",
       "      <td>8.548710</td>\n",
       "      <td>6.988500</td>\n",
       "      <td>2</td>\n",
       "      <td>0</td>\n",
       "      <td>2.640532</td>\n",
       "      <td>1.304688</td>\n",
       "      <td>2.632198</td>\n",
       "      <td>2.256406</td>\n",
       "      <td>2.078003</td>\n",
       "      <td>1.966139</td>\n",
       "    </tr>\n",
       "    <tr>\n",
       "      <th>3</th>\n",
       "      <td>3</td>\n",
       "      <td>0.0</td>\n",
       "      <td>101.701469</td>\n",
       "      <td>2017-01-01</td>\n",
       "      <td>249.669037</td>\n",
       "      <td>139.413605</td>\n",
       "      <td>312.110107</td>\n",
       "      <td>216.632507</td>\n",
       "      <td>305.971710</td>\n",
       "      <td>3</td>\n",
       "      <td>0</td>\n",
       "      <td>5.524134</td>\n",
       "      <td>4.944592</td>\n",
       "      <td>5.746555</td>\n",
       "      <td>5.382808</td>\n",
       "      <td>5.726756</td>\n",
       "      <td>4.631826</td>\n",
       "    </tr>\n",
       "    <tr>\n",
       "      <th>4</th>\n",
       "      <td>4</td>\n",
       "      <td>0.0</td>\n",
       "      <td>1141.240723</td>\n",
       "      <td>2017-01-01</td>\n",
       "      <td>1130.942383</td>\n",
       "      <td>620.063782</td>\n",
       "      <td>1359.578369</td>\n",
       "      <td>1230.123779</td>\n",
       "      <td>1408.412231</td>\n",
       "      <td>4</td>\n",
       "      <td>0</td>\n",
       "      <td>7.031691</td>\n",
       "      <td>6.431434</td>\n",
       "      <td>7.215665</td>\n",
       "      <td>7.115683</td>\n",
       "      <td>7.250928</td>\n",
       "      <td>7.040747</td>\n",
       "    </tr>\n",
       "    <tr>\n",
       "      <th>5</th>\n",
       "      <td>5</td>\n",
       "      <td>0.0</td>\n",
       "      <td>13.651204</td>\n",
       "      <td>2017-01-01</td>\n",
       "      <td>25.602278</td>\n",
       "      <td>4.611826</td>\n",
       "      <td>16.370600</td>\n",
       "      <td>12.909909</td>\n",
       "      <td>11.489800</td>\n",
       "      <td>5</td>\n",
       "      <td>0</td>\n",
       "      <td>3.280997</td>\n",
       "      <td>1.724876</td>\n",
       "      <td>2.854779</td>\n",
       "      <td>2.632601</td>\n",
       "      <td>2.524912</td>\n",
       "      <td>2.684523</td>\n",
       "    </tr>\n",
       "    <tr>\n",
       "      <th>6</th>\n",
       "      <td>6</td>\n",
       "      <td>0.0</td>\n",
       "      <td>260.874512</td>\n",
       "      <td>2017-01-01</td>\n",
       "      <td>96.963814</td>\n",
       "      <td>60.395645</td>\n",
       "      <td>92.603699</td>\n",
       "      <td>99.529289</td>\n",
       "      <td>128.021393</td>\n",
       "      <td>6</td>\n",
       "      <td>0</td>\n",
       "      <td>4.584598</td>\n",
       "      <td>4.117339</td>\n",
       "      <td>4.539070</td>\n",
       "      <td>4.610449</td>\n",
       "      <td>4.859978</td>\n",
       "      <td>5.567865</td>\n",
       "    </tr>\n",
       "    <tr>\n",
       "      <th>7</th>\n",
       "      <td>7</td>\n",
       "      <td>0.0</td>\n",
       "      <td>502.705597</td>\n",
       "      <td>2017-01-01</td>\n",
       "      <td>436.188873</td>\n",
       "      <td>101.772514</td>\n",
       "      <td>438.517395</td>\n",
       "      <td>413.543060</td>\n",
       "      <td>496.082092</td>\n",
       "      <td>7</td>\n",
       "      <td>0</td>\n",
       "      <td>6.080365</td>\n",
       "      <td>4.632518</td>\n",
       "      <td>6.085677</td>\n",
       "      <td>6.027177</td>\n",
       "      <td>6.208755</td>\n",
       "      <td>6.221992</td>\n",
       "    </tr>\n",
       "    <tr>\n",
       "      <th>8</th>\n",
       "      <td>7</td>\n",
       "      <td>1.0</td>\n",
       "      <td>717.574036</td>\n",
       "      <td>2017-01-01</td>\n",
       "      <td>358.571686</td>\n",
       "      <td>60.734264</td>\n",
       "      <td>209.714996</td>\n",
       "      <td>412.859344</td>\n",
       "      <td>1035.932739</td>\n",
       "      <td>8</td>\n",
       "      <td>0</td>\n",
       "      <td>5.884913</td>\n",
       "      <td>4.122839</td>\n",
       "      <td>5.350506</td>\n",
       "      <td>6.025526</td>\n",
       "      <td>6.944022</td>\n",
       "      <td>6.577269</td>\n",
       "    </tr>\n",
       "    <tr>\n",
       "      <th>9</th>\n",
       "      <td>8</td>\n",
       "      <td>0.0</td>\n",
       "      <td>513.285278</td>\n",
       "      <td>2017-01-01</td>\n",
       "      <td>318.887390</td>\n",
       "      <td>201.952988</td>\n",
       "      <td>347.813507</td>\n",
       "      <td>312.942200</td>\n",
       "      <td>435.761993</td>\n",
       "      <td>9</td>\n",
       "      <td>0</td>\n",
       "      <td>5.767969</td>\n",
       "      <td>5.312974</td>\n",
       "      <td>5.854537</td>\n",
       "      <td>5.749209</td>\n",
       "      <td>6.079389</td>\n",
       "      <td>6.242778</td>\n",
       "    </tr>\n",
       "  </tbody>\n",
       "</table>\n",
       "</div>"
      ],
      "text/plain": [
       "   building_id  meter  meter_reading  timestamp        pred1       pred2  \\\n",
       "0            0    0.0     173.370300 2017-01-01   186.168106   92.729485   \n",
       "1            1    0.0      53.512718 2017-01-01    85.102570   41.220722   \n",
       "2            2    0.0       6.143042 2017-01-01    13.020658    2.686540   \n",
       "3            3    0.0     101.701469 2017-01-01   249.669037  139.413605   \n",
       "4            4    0.0    1141.240723 2017-01-01  1130.942383  620.063782   \n",
       "5            5    0.0      13.651204 2017-01-01    25.602278    4.611826   \n",
       "6            6    0.0     260.874512 2017-01-01    96.963814   60.395645   \n",
       "7            7    0.0     502.705597 2017-01-01   436.188873  101.772514   \n",
       "8            7    1.0     717.574036 2017-01-01   358.571686   60.734264   \n",
       "9            8    0.0     513.285278 2017-01-01   318.887390  201.952988   \n",
       "\n",
       "         pred3        pred4        pred5  row_id  site_id  pred1_l1p  \\\n",
       "0   169.533401   162.409790   179.624802       0        0   5.232007   \n",
       "1    89.669403    78.838898    75.862000       1        0   4.455539   \n",
       "2    12.904300     8.548710     6.988500       2        0   2.640532   \n",
       "3   312.110107   216.632507   305.971710       3        0   5.524134   \n",
       "4  1359.578369  1230.123779  1408.412231       4        0   7.031691   \n",
       "5    16.370600    12.909909    11.489800       5        0   3.280997   \n",
       "6    92.603699    99.529289   128.021393       6        0   4.584598   \n",
       "7   438.517395   413.543060   496.082092       7        0   6.080365   \n",
       "8   209.714996   412.859344  1035.932739       8        0   5.884913   \n",
       "9   347.813507   312.942200   435.761993       9        0   5.767969   \n",
       "\n",
       "   pred2_l1p  pred3_l1p  pred4_l1p  pred5_l1p  meter_reading_l1p  \n",
       "0   4.540413   5.138931   5.096261   5.196422           5.161181  \n",
       "1   3.742911   4.507220   4.380011   4.342011           3.998434  \n",
       "2   1.304688   2.632198   2.256406   2.078003           1.966139  \n",
       "3   4.944592   5.746555   5.382808   5.726756           4.631826  \n",
       "4   6.431434   7.215665   7.115683   7.250928           7.040747  \n",
       "5   1.724876   2.854779   2.632601   2.524912           2.684523  \n",
       "6   4.117339   4.539070   4.610449   4.859978           5.567865  \n",
       "7   4.632518   6.085677   6.027177   6.208755           6.221992  \n",
       "8   4.122839   5.350506   6.025526   6.944022           6.577269  \n",
       "9   5.312974   5.854537   5.749209   6.079389           6.242778  "
      ]
     },
     "execution_count": 15,
     "metadata": {},
     "output_type": "execute_result"
    }
   ],
   "source": [
    "leak_df.head(10)"
   ]
  },
  {
   "cell_type": "code",
   "execution_count": 16,
   "metadata": {},
   "outputs": [
    {
     "data": {
      "text/plain": [
       "building_id          0\n",
       "meter                0\n",
       "meter_reading        0\n",
       "timestamp            0\n",
       "pred1                0\n",
       "pred2                0\n",
       "pred3                0\n",
       "pred4                0\n",
       "pred5                0\n",
       "row_id               0\n",
       "site_id              0\n",
       "pred1_l1p            0\n",
       "pred2_l1p            0\n",
       "pred3_l1p            0\n",
       "pred4_l1p            0\n",
       "pred5_l1p            0\n",
       "meter_reading_l1p    0\n",
       "dtype: int64"
      ]
     },
     "execution_count": 16,
     "metadata": {},
     "output_type": "execute_result"
    }
   ],
   "source": [
    "leak_df.isnull().sum()"
   ]
  },
  {
   "cell_type": "code",
   "execution_count": 17,
   "metadata": {},
   "outputs": [
    {
     "name": "stdout",
     "output_type": "stream",
     "text": [
      "Empty DataFrame\n",
      "Columns: [building_id, meter, meter_reading, timestamp, pred1, pred2, pred3, pred4, pred5, row_id, site_id, pred1_l1p, pred2_l1p, pred3_l1p, pred4_l1p, pred5_l1p, meter_reading_l1p]\n",
      "Index: []\n",
      "Empty DataFrame\n",
      "Columns: [building_id, meter, meter_reading, timestamp, pred1, pred2, pred3, pred4, pred5, row_id, site_id, pred1_l1p, pred2_l1p, pred3_l1p, pred4_l1p, pred5_l1p, meter_reading_l1p]\n",
      "Index: []\n",
      "Empty DataFrame\n",
      "Columns: [building_id, meter, meter_reading, timestamp, pred1, pred2, pred3, pred4, pred5, row_id, site_id, pred1_l1p, pred2_l1p, pred3_l1p, pred4_l1p, pred5_l1p, meter_reading_l1p]\n",
      "Index: []\n"
     ]
    }
   ],
   "source": [
    "print(leak_df[leak_df.pred1_l1p.isnull()])\n",
    "print(leak_df[leak_df.pred4_l1p.isnull()])\n",
    "print(leak_df[leak_df.pred5_l1p.isnull()])"
   ]
  },
  {
   "cell_type": "code",
   "execution_count": 18,
   "metadata": {},
   "outputs": [
    {
     "data": {
      "text/plain": [
       "0"
      ]
     },
     "execution_count": 18,
     "metadata": {},
     "output_type": "execute_result"
    }
   ],
   "source": [
    "del building_meta_df\n",
    "gc.collect()"
   ]
  },
  {
   "cell_type": "markdown",
   "metadata": {},
   "source": [
    "# Visualize"
   ]
  },
  {
   "cell_type": "code",
   "execution_count": 19,
   "metadata": {},
   "outputs": [
    {
     "name": "stdout",
     "output_type": "stream",
     "text": [
      "score1= 0.985471\n"
     ]
    },
    {
     "data": {
      "image/png": "[encoded data removed]",
      "text/plain": [
       "<Figure size 432x288 with 1 Axes>"
      ]
     },
     "metadata": {
      "needs_background": "light"
     },
     "output_type": "display_data"
    }
   ],
   "source": [
    "# kfold\n",
    "sns.distplot(leak_df.pred1_l1p)\n",
    "sns.distplot(leak_df.meter_reading_l1p)\n",
    "\n",
    "leak_score = np.sqrt(mean_squared_error(leak_df.pred1_l1p, leak_df.meter_reading_l1p))\n",
    "print ('score1=', leak_score)"
   ]
  },
  {
   "cell_type": "code",
   "execution_count": 20,
   "metadata": {},
   "outputs": [
    {
     "name": "stdout",
     "output_type": "stream",
     "text": [
      "score2= 1.0053532\n"
     ]
    },
    {
     "data": {
      "image/png": "[encoded data removed]",
      "text/plain": [
       "<Figure size 432x288 with 1 Axes>"
      ]
     },
     "metadata": {
      "needs_background": "light"
     },
     "output_type": "display_data"
    }
   ],
   "source": [
    "# half and half\n",
    "sns.distplot(leak_df.pred2_l1p)\n",
    "sns.distplot(leak_df.meter_reading_l1p)\n",
    "\n",
    "leak_score = np.sqrt(mean_squared_error(leak_df.pred2_l1p, leak_df.meter_reading_l1p))\n",
    "print ('score2=', leak_score)"
   ]
  },
  {
   "cell_type": "code",
   "execution_count": 21,
   "metadata": {},
   "outputs": [
    {
     "name": "stdout",
     "output_type": "stream",
     "text": [
      "score3= 0.9965962\n"
     ]
    },
    {
     "data": {
      "image/png": "[encoded data removed]",
      "text/plain": [
       "<Figure size 432x288 with 1 Axes>"
      ]
     },
     "metadata": {
      "needs_background": "light"
     },
     "output_type": "display_data"
    }
   ],
   "source": [
    "#highway route4\n",
    "sns.distplot(leak_df.pred3_l1p)\n",
    "sns.distplot(leak_df.meter_reading_l1p)\n",
    "\n",
    "leak_score = np.sqrt(mean_squared_error(leak_df.pred3_l1p, leak_df.meter_reading_l1p))\n",
    "print ('score3=', leak_score)"
   ]
  },
  {
   "cell_type": "code",
   "execution_count": 22,
   "metadata": {},
   "outputs": [
    {
     "name": "stdout",
     "output_type": "stream",
     "text": [
      "score4= 0.9928892\n"
     ]
    },
    {
     "data": {
      "image/png": "[encoded data removed]",
      "text/plain": [
       "<Figure size 432x288 with 1 Axes>"
      ]
     },
     "metadata": {
      "needs_background": "light"
     },
     "output_type": "display_data"
    }
   ],
   "source": [
    "#gep3\n",
    "sns.distplot(leak_df.pred4_l1p)\n",
    "sns.distplot(leak_df.meter_reading_l1p)\n",
    "\n",
    "leak_score = np.sqrt(mean_squared_error(leak_df.pred4_l1p, leak_df.meter_reading_l1p))\n",
    "print ('score4=', leak_score)"
   ]
  },
  {
   "cell_type": "code",
   "execution_count": 23,
   "metadata": {},
   "outputs": [
    {
     "name": "stdout",
     "output_type": "stream",
     "text": [
      "score5= 0.994212\n"
     ]
    },
    {
     "data": {
      "image/png": "[encoded data removed]",
      "text/plain": [
       "<Figure size 432x288 with 1 Axes>"
      ]
     },
     "metadata": {
      "needs_background": "light"
     },
     "output_type": "display_data"
    }
   ],
   "source": [
    "#simple_clean\n",
    "sns.distplot(leak_df.pred5_l1p)\n",
    "sns.distplot(leak_df.meter_reading_l1p)\n",
    "\n",
    "leak_score = np.sqrt(mean_squared_error(leak_df.pred5_l1p, leak_df.meter_reading_l1p))\n",
    "print ('score5=', leak_score)"
   ]
  },
  {
   "cell_type": "markdown",
   "metadata": {},
   "source": [
    "# Find Best Weight"
   ]
  },
  {
   "cell_type": "code",
   "execution_count": 24,
   "metadata": {},
   "outputs": [
    {
     "data": {
      "text/plain": [
       "[0.15,\n",
       " 0.16785714285714284,\n",
       " 0.18571428571428572,\n",
       " 0.20357142857142857,\n",
       " 0.22142857142857142,\n",
       " 0.23928571428571427,\n",
       " 0.2571428571428571,\n",
       " 0.275,\n",
       " 0.2928571428571428,\n",
       " 0.3107142857142857,\n",
       " 0.3285714285714285,\n",
       " 0.3464285714285714,\n",
       " 0.36428571428571427,\n",
       " 0.3821428571428571,\n",
       " 0.4]"
      ]
     },
     "execution_count": 24,
     "metadata": {},
     "output_type": "execute_result"
    }
   ],
   "source": [
    "all_combinations = list(np.linspace(0.15,0.4,15))\n",
    "all_combinations"
   ]
  },
  {
   "cell_type": "code",
   "execution_count": 25,
   "metadata": {},
   "outputs": [],
   "source": [
    "import itertools"
   ]
  },
  {
   "cell_type": "code",
   "execution_count": 26,
   "metadata": {},
   "outputs": [],
   "source": [
    "l = [all_combinations, all_combinations, all_combinations, all_combinations, all_combinations]\n",
    "# all_l = list(itertools.product(*l)) + list(itertools.product(*reversed(l)))\n",
    "all_l = list(itertools.product(*l))"
   ]
  },
  {
   "cell_type": "code",
   "execution_count": 27,
   "metadata": {},
   "outputs": [
    {
     "data": {
      "text/plain": [
       "0"
      ]
     },
     "execution_count": 27,
     "metadata": {},
     "output_type": "execute_result"
    }
   ],
   "source": [
    "gc.collect()"
   ]
  },
  {
   "cell_type": "markdown",
   "metadata": {},
   "source": [
    "### filtering sumation of weight"
   ]
  },
  {
   "cell_type": "code",
   "execution_count": 28,
   "metadata": {},
   "outputs": [],
   "source": [
    "filtered_combis = [l for l in all_l if l[0] + l[1] + l[2] + l[3] + l[4] > 0.95 and l[0] + l[1] + l[2] + l[3] + l[4] < 1.03]"
   ]
  },
  {
   "cell_type": "code",
   "execution_count": 29,
   "metadata": {},
   "outputs": [
    {
     "name": "stdout",
     "output_type": "stream",
     "text": [
      "11131\n"
     ]
    }
   ],
   "source": [
    "print(len(filtered_combis))"
   ]
  },
  {
   "cell_type": "code",
   "execution_count": 30,
   "metadata": {},
   "outputs": [
    {
     "name": "stdout",
     "output_type": "stream",
     "text": [
      "0.9655607813591638\n"
     ]
    }
   ],
   "source": [
    "best_combi = [] # of the form (i, score)\n",
    "for i, combi in enumerate(filtered_combis):\n",
    "    #print(\"Now at: \" + str(i) + \" out of \" + str(len(filtered_combis))) # uncomment to view iterations\n",
    "    score1 = combi[0]\n",
    "    score2 = combi[1]\n",
    "    score3 = combi[2]\n",
    "    score4 = combi[3]\n",
    "    score5 = combi[4]\n",
    "    v = score1 * leak_df['pred1'].values + score2 * leak_df['pred3'].values + score3 * leak_df['pred2'].values + score4 * leak_df['pred4'] + score5 * leak_df['pred5']\n",
    "    vl1p = np.log1p(v)\n",
    "    curr_score = np.sqrt(mean_squared_error(vl1p, leak_df.meter_reading_l1p))\n",
    "    \n",
    "    if best_combi:\n",
    "        prev_score = best_combi[0][1]\n",
    "        if curr_score < prev_score:\n",
    "            best_combi[:] = []\n",
    "            best_combi += [(i, curr_score)]\n",
    "    else:\n",
    "        best_combi += [(i, curr_score)]\n",
    "            \n",
    "score = best_combi[0][1]\n",
    "print(score)"
   ]
  },
  {
   "cell_type": "code",
   "execution_count": 31,
   "metadata": {},
   "outputs": [],
   "source": [
    "# test_df = pd.read_feather(root/'test.feather')\n",
    "# kfold_submission = pd.read_csv('../input/ashrae-kfold-lightgbm-without-leak-1-08/submission.csv', index_col=0)\n",
    "# halfhalf_submission = pd.read_csv('../input/ashrae-half-and-half/submission.csv', index_col=0)\n",
    "# highway_submission = pd.read_csv('../input/ashrae-highway-kernel-route4/submission.csv', index_col=0)\n",
    "\n",
    "# test_df[\"pred1\"] = kfold_submission.meter_reading\n",
    "# test_df[\"pred2\"] = halfhalf_submission.meter_reading\n",
    "# test_df[\"pred3\"] = highway_submission.meter_reading\n",
    "\n",
    "# del kfold_submission, halfhalf_submission, highway_submission\n",
    "# gc.collect()\n",
    "\n",
    "# test_df.loc[test_df.pred3 < 0, \"pred3\"] = 0\n",
    "# test_df = reduce_mem_usage(test_df)"
   ]
  },
  {
   "cell_type": "code",
   "execution_count": 32,
   "metadata": {},
   "outputs": [
    {
     "name": "stdout",
     "output_type": "stream",
     "text": [
      "Best weight is w1(kfold):0.18571428571428572, w2(halfhalf):0.3285714285714285, w3(highway):0.15, w4(gep3):0.15, w5(simple):0.15\n"
     ]
    }
   ],
   "source": [
    "submission_form = pd.read_feather(os.path.join(root, 'sample_submission.feather'))\n",
    "final_combi = filtered_combis[best_combi[0][0]]\n",
    "w1 = final_combi[0]\n",
    "w2 = final_combi[1]\n",
    "w3 = final_combi[2]\n",
    "w4 = final_combi[3]\n",
    "w5 = final_combi[4]\n",
    "print(\"Best weight is w1(kfold):{}, w2(halfhalf):{}, w3(highway):{}, w4(gep3):{}, w5(simple):{}\".format(w1, w2, w3, w4, w5))\n",
    "\n",
    "submission_form['meter_reading'] = w1 * test_df.pred1 +  w2 * test_df.pred3  + w3 * test_df.pred2 + w4 * test_df.pred4 + w5 * test_df.pred5\n",
    "submission_form.loc[submission_form.meter_reading < 0, 'meter_reading'] = 0"
   ]
  },
  {
   "cell_type": "code",
   "execution_count": 33,
   "metadata": {},
   "outputs": [
    {
     "data": {
      "text/plain": [
       "<matplotlib.axes._subplots.AxesSubplot at 0x7efbdb2d1160>"
      ]
     },
     "execution_count": 33,
     "metadata": {},
     "output_type": "execute_result"
    },
    {
     "data": {
      "image/png": "[encoded data removed]",
      "text/plain": [
       "<Figure size 432x288 with 1 Axes>"
      ]
     },
     "metadata": {
      "needs_background": "light"
     },
     "output_type": "display_data"
    }
   ],
   "source": [
    "sns.distplot(np.log1p(submission_form.meter_reading))"
   ]
  },
  {
   "cell_type": "code",
   "execution_count": 34,
   "metadata": {},
   "outputs": [
    {
     "data": {
      "text/plain": [
       "5"
      ]
     },
     "execution_count": 34,
     "metadata": {},
     "output_type": "execute_result"
    }
   ],
   "source": [
    "gc.collect()"
   ]
  },
  {
   "cell_type": "code",
   "execution_count": 35,
   "metadata": {},
   "outputs": [
    {
     "name": "stdout",
     "output_type": "stream",
     "text": [
      "12059979\n"
     ]
    }
   ],
   "source": [
    "leak_df = leak_df[['meter_reading', 'row_id']].set_index('row_id').dropna()\n",
    "print(len(leak_df))"
   ]
  },
  {
   "cell_type": "code",
   "execution_count": 36,
   "metadata": {},
   "outputs": [],
   "source": [
    "submission_form.loc[leak_df.index, 'meter_reading'] = leak_df['meter_reading']"
   ]
  },
  {
   "cell_type": "code",
   "execution_count": 37,
   "metadata": {},
   "outputs": [
    {
     "data": {
      "text/plain": [
       "<matplotlib.axes._subplots.AxesSubplot at 0x7efbdb367278>"
      ]
     },
     "execution_count": 37,
     "metadata": {},
     "output_type": "execute_result"
    },
    {
     "data": {
      "image/png": "[encoded data removed]",
      "text/plain": [
       "<Figure size 432x288 with 1 Axes>"
      ]
     },
     "metadata": {
      "needs_background": "light"
     },
     "output_type": "display_data"
    }
   ],
   "source": [
    "sns.distplot(np.log1p(submission_form.meter_reading))"
   ]
  },
  {
   "cell_type": "code",
   "execution_count": 38,
   "metadata": {},
   "outputs": [
    {
     "data": {
      "text/plain": [
       "0"
      ]
     },
     "execution_count": 38,
     "metadata": {},
     "output_type": "execute_result"
    }
   ],
   "source": [
    "gc.collect()"
   ]
  },
  {
   "cell_type": "code",
   "execution_count": 39,
   "metadata": {},
   "outputs": [],
   "source": [
    "submission_form.to_csv('submission.csv', index=False, float_format='%.4f')"
   ]
  },
  {
   "cell_type": "code",
   "execution_count": null,
   "metadata": {},
   "outputs": [],
   "source": []
  }
 ],
 "metadata": {
  "kernelspec": {
   "display_name": "Python 3",
   "language": "python",
   "name": "python3"
  },
  "language_info": {
   "codemirror_mode": {
    "name": "ipython",
    "version": 3
   },
   "file_extension": ".py",
   "mimetype": "text/x-python",
   "name": "python",
   "nbconvert_exporter": "python",
   "pygments_lexer": "ipython3",
   "version": "3.6.6"
  }
 },
 "nbformat": 4,
 "nbformat_minor": 1
}
