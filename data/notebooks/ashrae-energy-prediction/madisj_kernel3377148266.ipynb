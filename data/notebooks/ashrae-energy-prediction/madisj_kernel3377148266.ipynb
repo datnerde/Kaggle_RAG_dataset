{
 "cells": [
  {
   "cell_type": "code",
   "execution_count": 1,
   "metadata": {
    "_cell_guid": "b1076dfc-b9ad-4769-8c92-a6c4dae69d19",
    "_uuid": "8f2839f25d086af736a60e9eeb907d3b93b6e0e5"
   },
   "outputs": [
    {
     "name": "stdout",
     "output_type": "stream",
     "text": [
      "/kaggle/input/ashrae-energy-prediction/test.csv\n",
      "/kaggle/input/ashrae-energy-prediction/building_metadata.csv\n",
      "/kaggle/input/ashrae-energy-prediction/train.csv\n",
      "/kaggle/input/ashrae-energy-prediction/weather_test.csv\n",
      "/kaggle/input/ashrae-energy-prediction/sample_submission.csv\n",
      "/kaggle/input/ashrae-energy-prediction/weather_train.csv\n"
     ]
    }
   ],
   "source": [
    "# This Python 3 environment comes with many helpful analytics libraries installed\n",
    "# It is defined by the kaggle/python docker image: https://github.com/kaggle/docker-python\n",
    "# For example, here's several helpful packages to load in \n",
    "\n",
    "import numpy as np # linear algebra\n",
    "import pandas as pd # data processing, CSV file I/O (e.g. pd.read_csv)\n",
    "\n",
    "# Input data files are available in the \"../input/\" directory.\n",
    "# For example, running this (by clicking run or pressing Shift+Enter) will list all files under the input directory\n",
    "\n",
    "import os\n",
    "for dirname, _, filenames in os.walk('/kaggle/input'):\n",
    "    for filename in filenames:\n",
    "        print(os.path.join(dirname, filename))\n",
    "\n",
    "# Any results you write to the current directory are saved as output."
   ]
  },
  {
   "cell_type": "code",
   "execution_count": 2,
   "metadata": {
    "_cell_guid": "79c7e3d0-c299-4dcb-8224-4455121ee9b0",
    "_uuid": "d629ff2d2480ee46fbb7e2d37f6b5fab8052498a"
   },
   "outputs": [
    {
     "data": {
      "text/html": [
       "        <script type=\"text/javascript\">\n",
       "        window.PlotlyConfig = {MathJaxConfig: 'local'};\n",
       "        if (window.MathJax) {MathJax.Hub.Config({SVG: {font: \"STIX-Web\"}});}\n",
       "        if (typeof require !== 'undefined') {\n",
       "        require.undef(\"plotly\");\n",
       "        requirejs.config({\n",
       "            paths: {\n",
       "                'plotly': ['https://cdn.plot.ly/plotly-latest.min']\n",
       "            }\n",
       "        });\n",
       "        require(['plotly'], function(Plotly) {\n",
       "            window._Plotly = Plotly;\n",
       "        });\n",
       "        }\n",
       "        </script>\n",
       "        "
      ]
     },
     "metadata": {},
     "output_type": "display_data"
    },
    {
     "data": {
      "text/html": [
       "        <script type=\"text/javascript\">\n",
       "        window.PlotlyConfig = {MathJaxConfig: 'local'};\n",
       "        if (window.MathJax) {MathJax.Hub.Config({SVG: {font: \"STIX-Web\"}});}\n",
       "        if (typeof require !== 'undefined') {\n",
       "        require.undef(\"plotly\");\n",
       "        requirejs.config({\n",
       "            paths: {\n",
       "                'plotly': ['https://cdn.plot.ly/plotly-latest.min']\n",
       "            }\n",
       "        });\n",
       "        require(['plotly'], function(Plotly) {\n",
       "            window._Plotly = Plotly;\n",
       "        });\n",
       "        }\n",
       "        </script>\n",
       "        "
      ]
     },
     "metadata": {},
     "output_type": "display_data"
    },
    {
     "data": {
      "text/html": [
       "        <script type=\"text/javascript\">\n",
       "        window.PlotlyConfig = {MathJaxConfig: 'local'};\n",
       "        if (window.MathJax) {MathJax.Hub.Config({SVG: {font: \"STIX-Web\"}});}\n",
       "        if (typeof require !== 'undefined') {\n",
       "        require.undef(\"plotly\");\n",
       "        requirejs.config({\n",
       "            paths: {\n",
       "                'plotly': ['https://cdn.plot.ly/plotly-latest.min']\n",
       "            }\n",
       "        });\n",
       "        require(['plotly'], function(Plotly) {\n",
       "            window._Plotly = Plotly;\n",
       "        });\n",
       "        }\n",
       "        </script>\n",
       "        "
      ]
     },
     "metadata": {},
     "output_type": "display_data"
    }
   ],
   "source": [
    "import numpy as np # linear algebra\n",
    "import pandas as pd # data processing, CSV file I/O (e.g. pd.read_csv)\n",
    "import gc\n",
    "\n",
    "# matplotlib and seaborn for plotting\n",
    "import matplotlib.pyplot as plt\n",
    "\n",
    "import seaborn as sns\n",
    "import matplotlib.patches as patches\n",
    "\n",
    "from plotly import tools, subplots\n",
    "import plotly.offline as py\n",
    "py.init_notebook_mode(connected=True)\n",
    "import plotly.graph_objs as go\n",
    "import plotly.express as px\n",
    "pd.set_option('max_columns', 150)\n",
    "\n",
    "py.init_notebook_mode(connected=True)\n",
    "from plotly.offline import init_notebook_mode, iplot\n",
    "init_notebook_mode(connected=True)\n",
    "import plotly.graph_objs as go\n",
    "\n",
    "import os\n",
    "import random\n",
    "import math\n",
    "import psutil\n",
    "import pickle\n",
    "\n",
    "from sklearn.model_selection import train_test_split,KFold\n",
    "from sklearn.preprocessing import LabelEncoder"
   ]
  },
  {
   "cell_type": "code",
   "execution_count": 3,
   "metadata": {},
   "outputs": [],
   "source": [
    "metadata_dtype = {'site_id':\"uint8\",'building_id':'uint16','square_feet':'float32','year_built':'float32','floor_count':\"float16\"}\n",
    "weather_dtype = {\"site_id\":\"uint8\",'air_temperature':\"float16\",'cloud_coverage':\"float16\",'dew_temperature':\"float16\",'precip_depth_1_hr':\"float16\",\n",
    "                 'sea_level_pressure':\"float32\",'wind_direction':\"float16\",'wind_speed':\"float16\"}\n",
    "train_dtype = {'meter':\"uint8\",'building_id':'uint16'}"
   ]
  },
  {
   "cell_type": "code",
   "execution_count": 4,
   "metadata": {},
   "outputs": [
    {
     "name": "stdout",
     "output_type": "stream",
     "text": [
      "Size of train_df data (20216100, 4)\n",
      "Size of weather_train_df data (139773, 9)\n",
      "Size of weather_test_df data (277243, 9)\n",
      "Size of building_meta_df data (1449, 6)\n",
      "CPU times: user 41.2 s, sys: 2.86 s, total: 44 s\n",
      "Wall time: 44.2 s\n"
     ]
    }
   ],
   "source": [
    "%%time\n",
    "\n",
    "weather_train = pd.read_csv(\"../input/ashrae-energy-prediction/weather_train.csv\", parse_dates=['timestamp'], dtype=weather_dtype)\n",
    "weather_test = pd.read_csv(\"../input/ashrae-energy-prediction/weather_test.csv\", parse_dates=['timestamp'], dtype=weather_dtype)\n",
    "\n",
    "metadata = pd.read_csv(\"../input/ashrae-energy-prediction/building_metadata.csv\", dtype=metadata_dtype)\n",
    "\n",
    "train = pd.read_csv(\"../input/ashrae-energy-prediction/train.csv\", parse_dates=['timestamp'], dtype=train_dtype)\n",
    "test = pd.read_csv(\"../input/ashrae-energy-prediction/test.csv\", parse_dates=['timestamp'], usecols=['building_id','meter','timestamp'], dtype=train_dtype)\n",
    "\n",
    "print('Size of train_df data', train.shape)\n",
    "print('Size of weather_train_df data', weather_train.shape)\n",
    "print('Size of weather_test_df data', weather_test.shape)\n",
    "print('Size of building_meta_df data', metadata.shape)"
   ]
  },
  {
   "cell_type": "code",
   "execution_count": 5,
   "metadata": {},
   "outputs": [],
   "source": [
    "train['meter'].replace({0:\"Electricity\",1:\"ChilledWater\",2:\"Steam\",3:\"HotWater\"},inplace=True)\n",
    "test['meter'].replace({0:\"Electricity\",1:\"ChilledWater\",2:\"Steam\",3:\"HotWater\"},inplace=True)"
   ]
  },
  {
   "cell_type": "code",
   "execution_count": 6,
   "metadata": {},
   "outputs": [
    {
     "data": {
      "text/html": [
       "<div>\n",
       "<style scoped>\n",
       "    .dataframe tbody tr th:only-of-type {\n",
       "        vertical-align: middle;\n",
       "    }\n",
       "\n",
       "    .dataframe tbody tr th {\n",
       "        vertical-align: top;\n",
       "    }\n",
       "\n",
       "    .dataframe thead th {\n",
       "        text-align: right;\n",
       "    }\n",
       "</style>\n",
       "<table border=\"1\" class=\"dataframe\">\n",
       "  <thead>\n",
       "    <tr style=\"text-align: right;\">\n",
       "      <th></th>\n",
       "      <th>building_id</th>\n",
       "      <th>meter</th>\n",
       "      <th>timestamp</th>\n",
       "      <th>meter_reading</th>\n",
       "    </tr>\n",
       "  </thead>\n",
       "  <tbody>\n",
       "    <tr>\n",
       "      <th>0</th>\n",
       "      <td>0</td>\n",
       "      <td>Electricity</td>\n",
       "      <td>2016-01-01</td>\n",
       "      <td>0.0</td>\n",
       "    </tr>\n",
       "    <tr>\n",
       "      <th>1</th>\n",
       "      <td>1</td>\n",
       "      <td>Electricity</td>\n",
       "      <td>2016-01-01</td>\n",
       "      <td>0.0</td>\n",
       "    </tr>\n",
       "    <tr>\n",
       "      <th>2</th>\n",
       "      <td>2</td>\n",
       "      <td>Electricity</td>\n",
       "      <td>2016-01-01</td>\n",
       "      <td>0.0</td>\n",
       "    </tr>\n",
       "    <tr>\n",
       "      <th>3</th>\n",
       "      <td>3</td>\n",
       "      <td>Electricity</td>\n",
       "      <td>2016-01-01</td>\n",
       "      <td>0.0</td>\n",
       "    </tr>\n",
       "    <tr>\n",
       "      <th>4</th>\n",
       "      <td>4</td>\n",
       "      <td>Electricity</td>\n",
       "      <td>2016-01-01</td>\n",
       "      <td>0.0</td>\n",
       "    </tr>\n",
       "  </tbody>\n",
       "</table>\n",
       "</div>"
      ],
      "text/plain": [
       "   building_id        meter  timestamp  meter_reading\n",
       "0            0  Electricity 2016-01-01            0.0\n",
       "1            1  Electricity 2016-01-01            0.0\n",
       "2            2  Electricity 2016-01-01            0.0\n",
       "3            3  Electricity 2016-01-01            0.0\n",
       "4            4  Electricity 2016-01-01            0.0"
      ]
     },
     "execution_count": 6,
     "metadata": {},
     "output_type": "execute_result"
    }
   ],
   "source": [
    "train.head()"
   ]
  },
  {
   "cell_type": "code",
   "execution_count": 7,
   "metadata": {},
   "outputs": [
    {
     "data": {
      "text/html": [
       "<div>\n",
       "<style scoped>\n",
       "    .dataframe tbody tr th:only-of-type {\n",
       "        vertical-align: middle;\n",
       "    }\n",
       "\n",
       "    .dataframe tbody tr th {\n",
       "        vertical-align: top;\n",
       "    }\n",
       "\n",
       "    .dataframe thead th {\n",
       "        text-align: right;\n",
       "    }\n",
       "</style>\n",
       "<table border=\"1\" class=\"dataframe\">\n",
       "  <thead>\n",
       "    <tr style=\"text-align: right;\">\n",
       "      <th></th>\n",
       "      <th>site_id</th>\n",
       "      <th>timestamp</th>\n",
       "      <th>air_temperature</th>\n",
       "      <th>cloud_coverage</th>\n",
       "      <th>dew_temperature</th>\n",
       "      <th>precip_depth_1_hr</th>\n",
       "      <th>sea_level_pressure</th>\n",
       "      <th>wind_direction</th>\n",
       "      <th>wind_speed</th>\n",
       "    </tr>\n",
       "  </thead>\n",
       "  <tbody>\n",
       "    <tr>\n",
       "      <th>0</th>\n",
       "      <td>0</td>\n",
       "      <td>2016-01-01 00:00:00</td>\n",
       "      <td>25.000000</td>\n",
       "      <td>6.0</td>\n",
       "      <td>20.00000</td>\n",
       "      <td>NaN</td>\n",
       "      <td>1019.700012</td>\n",
       "      <td>0.0</td>\n",
       "      <td>0.000000</td>\n",
       "    </tr>\n",
       "    <tr>\n",
       "      <th>1</th>\n",
       "      <td>0</td>\n",
       "      <td>2016-01-01 01:00:00</td>\n",
       "      <td>24.406250</td>\n",
       "      <td>NaN</td>\n",
       "      <td>21.09375</td>\n",
       "      <td>-1.0</td>\n",
       "      <td>1020.200012</td>\n",
       "      <td>70.0</td>\n",
       "      <td>1.500000</td>\n",
       "    </tr>\n",
       "    <tr>\n",
       "      <th>2</th>\n",
       "      <td>0</td>\n",
       "      <td>2016-01-01 02:00:00</td>\n",
       "      <td>22.796875</td>\n",
       "      <td>2.0</td>\n",
       "      <td>21.09375</td>\n",
       "      <td>0.0</td>\n",
       "      <td>1020.200012</td>\n",
       "      <td>0.0</td>\n",
       "      <td>0.000000</td>\n",
       "    </tr>\n",
       "    <tr>\n",
       "      <th>3</th>\n",
       "      <td>0</td>\n",
       "      <td>2016-01-01 03:00:00</td>\n",
       "      <td>21.093750</td>\n",
       "      <td>2.0</td>\n",
       "      <td>20.59375</td>\n",
       "      <td>0.0</td>\n",
       "      <td>1020.099976</td>\n",
       "      <td>0.0</td>\n",
       "      <td>0.000000</td>\n",
       "    </tr>\n",
       "    <tr>\n",
       "      <th>4</th>\n",
       "      <td>0</td>\n",
       "      <td>2016-01-01 04:00:00</td>\n",
       "      <td>20.000000</td>\n",
       "      <td>2.0</td>\n",
       "      <td>20.00000</td>\n",
       "      <td>-1.0</td>\n",
       "      <td>1020.000000</td>\n",
       "      <td>250.0</td>\n",
       "      <td>2.599609</td>\n",
       "    </tr>\n",
       "  </tbody>\n",
       "</table>\n",
       "</div>"
      ],
      "text/plain": [
       "   site_id           timestamp  air_temperature  cloud_coverage  \\\n",
       "0        0 2016-01-01 00:00:00        25.000000             6.0   \n",
       "1        0 2016-01-01 01:00:00        24.406250             NaN   \n",
       "2        0 2016-01-01 02:00:00        22.796875             2.0   \n",
       "3        0 2016-01-01 03:00:00        21.093750             2.0   \n",
       "4        0 2016-01-01 04:00:00        20.000000             2.0   \n",
       "\n",
       "   dew_temperature  precip_depth_1_hr  sea_level_pressure  wind_direction  \\\n",
       "0         20.00000                NaN         1019.700012             0.0   \n",
       "1         21.09375               -1.0         1020.200012            70.0   \n",
       "2         21.09375                0.0         1020.200012             0.0   \n",
       "3         20.59375                0.0         1020.099976             0.0   \n",
       "4         20.00000               -1.0         1020.000000           250.0   \n",
       "\n",
       "   wind_speed  \n",
       "0    0.000000  \n",
       "1    1.500000  \n",
       "2    0.000000  \n",
       "3    0.000000  \n",
       "4    2.599609  "
      ]
     },
     "execution_count": 7,
     "metadata": {},
     "output_type": "execute_result"
    }
   ],
   "source": [
    "weather_train.head()"
   ]
  },
  {
   "cell_type": "code",
   "execution_count": 8,
   "metadata": {},
   "outputs": [],
   "source": [
    "# Dropping floor_count variable as it has 75% missing values\n",
    "metadata.drop('floor_count',axis=1,inplace=True)"
   ]
  },
  {
   "cell_type": "code",
   "execution_count": 9,
   "metadata": {},
   "outputs": [],
   "source": [
    "for df in [train, test]:\n",
    "    df['Month'] = df['timestamp'].dt.month.astype(\"uint8\")\n",
    "    df['DayOfMonth'] = df['timestamp'].dt.day.astype(\"uint8\")\n",
    "    df['DayOfWeek'] = df['timestamp'].dt.dayofweek.astype(\"uint8\")\n",
    "    df['Hour'] = df['timestamp'].dt.hour.astype(\"uint8\")"
   ]
  },
  {
   "cell_type": "code",
   "execution_count": 10,
   "metadata": {},
   "outputs": [],
   "source": [
    "train['meter_reading'] = np.log1p(train['meter_reading'])"
   ]
  },
  {
   "cell_type": "code",
   "execution_count": 11,
   "metadata": {},
   "outputs": [],
   "source": [
    "metadata['primary_use'].replace({\"Healthcare\":\"Other\",\"Parking\":\"Other\",\"Warehouse/storage\":\"Other\",\"Manufacturing/industrial\":\"Other\",\n",
    "                                \"Retail\":\"Other\",\"Services\":\"Other\",\"Technology/science\":\"Other\",\"Food sales and service\":\"Other\",\n",
    "                                \"Utility\":\"Other\",\"Religious worship\":\"Other\"},inplace=True)\n",
    "metadata['square_feet'] = np.log1p(metadata['square_feet'])\n",
    "metadata.drop('year_built',axis=1,inplace=True) # delete instead of fill in gaps"
   ]
  },
  {
   "cell_type": "code",
   "execution_count": 12,
   "metadata": {},
   "outputs": [
    {
     "name": "stdout",
     "output_type": "stream",
     "text": [
      "Training Data+Metadata Shape (20216100, 11)\n",
      "Testing Data+Metadata Shape (41697600, 10)\n",
      "Training Data+Metadata+Weather Shape (20216100, 18)\n",
      "Testing Data+Metadata+Weather Shape (41697600, 17)\n",
      "CPU times: user 26.5 s, sys: 8.91 s, total: 35.4 s\n",
      "Wall time: 35.4 s\n"
     ]
    },
    {
     "data": {
      "text/plain": [
       "0"
      ]
     },
     "execution_count": 12,
     "metadata": {},
     "output_type": "execute_result"
    }
   ],
   "source": [
    "%%time\n",
    "train = pd.merge(train,metadata,on='building_id',how='left')\n",
    "test  = pd.merge(test,metadata,on='building_id',how='left')\n",
    "print (\"Training Data+Metadata Shape {}\".format(train.shape))\n",
    "print (\"Testing Data+Metadata Shape {}\".format(test.shape))\n",
    "gc.collect()\n",
    "train = pd.merge(train,weather_train,on=['site_id','timestamp'],how='left')\n",
    "test  = pd.merge(test,weather_test,on=['site_id','timestamp'],how='left')\n",
    "print (\"Training Data+Metadata+Weather Shape {}\".format(train.shape))\n",
    "print (\"Testing Data+Metadata+Weather Shape {}\".format(test.shape))\n",
    "gc.collect()"
   ]
  },
  {
   "cell_type": "code",
   "execution_count": 13,
   "metadata": {},
   "outputs": [
    {
     "name": "stdout",
     "output_type": "stream",
     "text": [
      "392857\n",
      "185592\n"
     ]
    }
   ],
   "source": [
    "# Save space\n",
    "for df in [train,test]:\n",
    "    df['square_feet'] = df['square_feet'].astype('float16')\n",
    "    \n",
    "# Fill NA\n",
    "cols = ['air_temperature','cloud_coverage','dew_temperature','precip_depth_1_hr','sea_level_pressure','wind_direction','wind_speed']\n",
    "for col in cols:\n",
    "    train[col].fillna(np.nanmean(train[col].tolist()),inplace=True)\n",
    "    test[col].fillna(np.nanmean(test[col].tolist()),inplace=True)\n",
    "    \n",
    "# Drop nonsense entries\n",
    "# As per the discussion in the following thread, https://www.kaggle.com/c/ashrae-energy-prediction/discussion/117083, there is some discrepancy in the meter_readings for different ste_id's and buildings. It makes sense to delete them\n",
    "idx_to_drop = list((train[(train['site_id'] == 0) & (train['timestamp'] < \"2016-05-21 00:00:00\")]).index)\n",
    "print (len(idx_to_drop))\n",
    "train.drop(idx_to_drop,axis='rows',inplace=True)\n",
    "\n",
    "# dropping all the electricity meter readings that are 0, after considering them as anomalies.\n",
    "idx_to_drop = list(train[(train['meter'] == \"Electricity\") & (train['meter_reading'] == 0)].index)\n",
    "print(len(idx_to_drop))\n",
    "train.drop(idx_to_drop,axis='rows',inplace=True)"
   ]
  },
  {
   "cell_type": "code",
   "execution_count": 14,
   "metadata": {},
   "outputs": [
    {
     "data": {
      "text/html": [
       "<div>\n",
       "<style scoped>\n",
       "    .dataframe tbody tr th:only-of-type {\n",
       "        vertical-align: middle;\n",
       "    }\n",
       "\n",
       "    .dataframe tbody tr th {\n",
       "        vertical-align: top;\n",
       "    }\n",
       "\n",
       "    .dataframe thead th {\n",
       "        text-align: right;\n",
       "    }\n",
       "</style>\n",
       "<table border=\"1\" class=\"dataframe\">\n",
       "  <thead>\n",
       "    <tr style=\"text-align: right;\">\n",
       "      <th></th>\n",
       "      <th>building_id</th>\n",
       "      <th>meter</th>\n",
       "      <th>timestamp</th>\n",
       "      <th>meter_reading</th>\n",
       "      <th>Month</th>\n",
       "      <th>DayOfMonth</th>\n",
       "      <th>DayOfWeek</th>\n",
       "      <th>Hour</th>\n",
       "      <th>site_id</th>\n",
       "      <th>primary_use</th>\n",
       "      <th>square_feet</th>\n",
       "      <th>air_temperature</th>\n",
       "      <th>cloud_coverage</th>\n",
       "      <th>dew_temperature</th>\n",
       "      <th>precip_depth_1_hr</th>\n",
       "      <th>sea_level_pressure</th>\n",
       "      <th>wind_direction</th>\n",
       "      <th>wind_speed</th>\n",
       "    </tr>\n",
       "  </thead>\n",
       "  <tbody>\n",
       "    <tr>\n",
       "      <th>103</th>\n",
       "      <td>105</td>\n",
       "      <td>Electricity</td>\n",
       "      <td>2016-01-01</td>\n",
       "      <td>3.190624</td>\n",
       "      <td>1</td>\n",
       "      <td>1</td>\n",
       "      <td>4</td>\n",
       "      <td>0</td>\n",
       "      <td>1</td>\n",
       "      <td>Education</td>\n",
       "      <td>10.835938</td>\n",
       "      <td>3.800781</td>\n",
       "      <td>1.900391</td>\n",
       "      <td>2.400391</td>\n",
       "      <td>0.796387</td>\n",
       "      <td>1020.900024</td>\n",
       "      <td>240.0</td>\n",
       "      <td>3.099609</td>\n",
       "    </tr>\n",
       "    <tr>\n",
       "      <th>104</th>\n",
       "      <td>106</td>\n",
       "      <td>Electricity</td>\n",
       "      <td>2016-01-01</td>\n",
       "      <td>0.318163</td>\n",
       "      <td>1</td>\n",
       "      <td>1</td>\n",
       "      <td>4</td>\n",
       "      <td>0</td>\n",
       "      <td>1</td>\n",
       "      <td>Education</td>\n",
       "      <td>8.585938</td>\n",
       "      <td>3.800781</td>\n",
       "      <td>1.900391</td>\n",
       "      <td>2.400391</td>\n",
       "      <td>0.796387</td>\n",
       "      <td>1020.900024</td>\n",
       "      <td>240.0</td>\n",
       "      <td>3.099609</td>\n",
       "    </tr>\n",
       "    <tr>\n",
       "      <th>105</th>\n",
       "      <td>106</td>\n",
       "      <td>HotWater</td>\n",
       "      <td>2016-01-01</td>\n",
       "      <td>0.000000</td>\n",
       "      <td>1</td>\n",
       "      <td>1</td>\n",
       "      <td>4</td>\n",
       "      <td>0</td>\n",
       "      <td>1</td>\n",
       "      <td>Education</td>\n",
       "      <td>8.585938</td>\n",
       "      <td>3.800781</td>\n",
       "      <td>1.900391</td>\n",
       "      <td>2.400391</td>\n",
       "      <td>0.796387</td>\n",
       "      <td>1020.900024</td>\n",
       "      <td>240.0</td>\n",
       "      <td>3.099609</td>\n",
       "    </tr>\n",
       "    <tr>\n",
       "      <th>106</th>\n",
       "      <td>107</td>\n",
       "      <td>Electricity</td>\n",
       "      <td>2016-01-01</td>\n",
       "      <td>5.171529</td>\n",
       "      <td>1</td>\n",
       "      <td>1</td>\n",
       "      <td>4</td>\n",
       "      <td>0</td>\n",
       "      <td>1</td>\n",
       "      <td>Education</td>\n",
       "      <td>11.484375</td>\n",
       "      <td>3.800781</td>\n",
       "      <td>1.900391</td>\n",
       "      <td>2.400391</td>\n",
       "      <td>0.796387</td>\n",
       "      <td>1020.900024</td>\n",
       "      <td>240.0</td>\n",
       "      <td>3.099609</td>\n",
       "    </tr>\n",
       "    <tr>\n",
       "      <th>107</th>\n",
       "      <td>108</td>\n",
       "      <td>Electricity</td>\n",
       "      <td>2016-01-01</td>\n",
       "      <td>4.524668</td>\n",
       "      <td>1</td>\n",
       "      <td>1</td>\n",
       "      <td>4</td>\n",
       "      <td>0</td>\n",
       "      <td>1</td>\n",
       "      <td>Education</td>\n",
       "      <td>11.312500</td>\n",
       "      <td>3.800781</td>\n",
       "      <td>1.900391</td>\n",
       "      <td>2.400391</td>\n",
       "      <td>0.796387</td>\n",
       "      <td>1020.900024</td>\n",
       "      <td>240.0</td>\n",
       "      <td>3.099609</td>\n",
       "    </tr>\n",
       "  </tbody>\n",
       "</table>\n",
       "</div>"
      ],
      "text/plain": [
       "     building_id        meter  timestamp  meter_reading  Month  DayOfMonth  \\\n",
       "103          105  Electricity 2016-01-01       3.190624      1           1   \n",
       "104          106  Electricity 2016-01-01       0.318163      1           1   \n",
       "105          106     HotWater 2016-01-01       0.000000      1           1   \n",
       "106          107  Electricity 2016-01-01       5.171529      1           1   \n",
       "107          108  Electricity 2016-01-01       4.524668      1           1   \n",
       "\n",
       "     DayOfWeek  Hour  site_id primary_use  square_feet  air_temperature  \\\n",
       "103          4     0        1   Education    10.835938         3.800781   \n",
       "104          4     0        1   Education     8.585938         3.800781   \n",
       "105          4     0        1   Education     8.585938         3.800781   \n",
       "106          4     0        1   Education    11.484375         3.800781   \n",
       "107          4     0        1   Education    11.312500         3.800781   \n",
       "\n",
       "     cloud_coverage  dew_temperature  precip_depth_1_hr  sea_level_pressure  \\\n",
       "103        1.900391         2.400391           0.796387         1020.900024   \n",
       "104        1.900391         2.400391           0.796387         1020.900024   \n",
       "105        1.900391         2.400391           0.796387         1020.900024   \n",
       "106        1.900391         2.400391           0.796387         1020.900024   \n",
       "107        1.900391         2.400391           0.796387         1020.900024   \n",
       "\n",
       "     wind_direction  wind_speed  \n",
       "103           240.0    3.099609  \n",
       "104           240.0    3.099609  \n",
       "105           240.0    3.099609  \n",
       "106           240.0    3.099609  \n",
       "107           240.0    3.099609  "
      ]
     },
     "execution_count": 14,
     "metadata": {},
     "output_type": "execute_result"
    }
   ],
   "source": [
    "train.head()"
   ]
  },
  {
   "cell_type": "code",
   "execution_count": 15,
   "metadata": {},
   "outputs": [],
   "source": [
    "# Not using constructed features, not dropping correlated ones"
   ]
  },
  {
   "cell_type": "code",
   "execution_count": 16,
   "metadata": {},
   "outputs": [
    {
     "name": "stdout",
     "output_type": "stream",
     "text": [
      "(19637651, 17) (41697600, 16)\n"
     ]
    }
   ],
   "source": [
    "train.drop('timestamp',axis=1,inplace=True)\n",
    "test.drop('timestamp',axis=1,inplace=True)\n",
    "\n",
    "le = LabelEncoder()\n",
    "\n",
    "train['meter']= le.fit_transform(train['meter']).astype(\"uint8\")\n",
    "test['meter']= le.fit_transform(test['meter']).astype(\"uint8\")\n",
    "train['primary_use']= le.fit_transform(train['primary_use']).astype(\"uint8\")\n",
    "test['primary_use']= le.fit_transform(test['primary_use']).astype(\"uint8\")\n",
    "\n",
    "print (train.shape, test.shape)"
   ]
  },
  {
   "cell_type": "code",
   "execution_count": 17,
   "metadata": {},
   "outputs": [],
   "source": [
    "categorical_cols = ['building_id','Month','meter','Hour','primary_use','DayOfWeek','DayOfMonth']"
   ]
  },
  {
   "cell_type": "code",
   "execution_count": 18,
   "metadata": {},
   "outputs": [],
   "source": [
    "from sklearn.ensemble import RandomForestRegressor as RF\n",
    "import lightgbm as lgb\n",
    "\n",
    "def train_site_model(train, site):\n",
    "    print(\"Training model for site\", site)\n",
    "    \n",
    "    train = train.loc[site]\n",
    "    y = train['meter_reading']\n",
    "    train.drop('meter_reading',axis=1,inplace=True)\n",
    "    \n",
    "    # 0 has too much missing data in certain months, so will throw away the month value to force it to consider temperature and the like for detecting winter times instead of using the month value\n",
    "    if site == 0:\n",
    "        train[\"Month\"] = 0\n",
    "    \n",
    "    x_train,x_test,y_train,y_test = train_test_split(train,y,test_size=0.1,random_state=42)\n",
    "    print (x_train.shape)\n",
    "    print (y_train.shape)\n",
    "    print (x_test.shape)\n",
    "    print (y_test.shape)\n",
    "    \n",
    "    lgb_train = lgb.Dataset(x_train, y_train, categorical_feature=categorical_cols)\n",
    "    lgb_test = lgb.Dataset(x_test, y_test, categorical_feature=categorical_cols)\n",
    "    del x_train, x_test , y_train, y_test\n",
    "\n",
    "    params = {'feature_fraction': 0.85, # 0.75\n",
    "              'bagging_fraction': 0.75,\n",
    "              'objective': 'regression',\n",
    "               \"num_leaves\": 40, # New\n",
    "              'max_depth': -1,\n",
    "              'learning_rate': 0.15,\n",
    "              \"boosting_type\": \"gbdt\",\n",
    "              \"bagging_seed\": 11,\n",
    "              \"metric\": 'rmse',\n",
    "              \"verbosity\": -1,\n",
    "              'reg_alpha': 0.5,\n",
    "              'reg_lambda': 0.5,\n",
    "              'random_state': 47\n",
    "             }\n",
    "\n",
    "    reg = lgb.train(params, lgb_train, num_boost_round=3000, valid_sets=[lgb_train, lgb_test], early_stopping_rounds=100, verbose_eval=100)\n",
    "    del lgb_train,lgb_test\n",
    "    ser = pd.DataFrame(reg.feature_importance(),train.columns,columns=['Importance']).sort_values(by='Importance')\n",
    "    ser['Importance'].plot(kind='bar',figsize=(10,6))\n",
    "    return reg"
   ]
  },
  {
   "cell_type": "code",
   "execution_count": 19,
   "metadata": {},
   "outputs": [],
   "source": [
    "indexed_train = train.set_index([\"site_id\"])"
   ]
  },
  {
   "cell_type": "code",
   "execution_count": 20,
   "metadata": {},
   "outputs": [
    {
     "name": "stdout",
     "output_type": "stream",
     "text": [
      "Training model for site 0\n"
     ]
    },
    {
     "name": "stderr",
     "output_type": "stream",
     "text": [
      "/opt/conda/lib/python3.6/site-packages/pandas/core/frame.py:4117: SettingWithCopyWarning:\n",
      "\n",
      "\n",
      "A value is trying to be set on a copy of a slice from a DataFrame\n",
      "\n",
      "See the caveats in the documentation: http://pandas.pydata.org/pandas-docs/stable/user_guide/indexing.html#returning-a-view-versus-a-copy\n",
      "\n",
      "/opt/conda/lib/python3.6/site-packages/ipykernel_launcher.py:13: SettingWithCopyWarning:\n",
      "\n",
      "\n",
      "A value is trying to be set on a copy of a slice from a DataFrame.\n",
      "Try using .loc[row_indexer,col_indexer] = value instead\n",
      "\n",
      "See the caveats in the documentation: http://pandas.pydata.org/pandas-docs/stable/user_guide/indexing.html#returning-a-view-versus-a-copy\n",
      "\n",
      "/opt/conda/lib/python3.6/site-packages/lightgbm/basic.py:1291: UserWarning:\n",
      "\n",
      "Using categorical_feature in Dataset.\n",
      "\n"
     ]
    },
    {
     "name": "stdout",
     "output_type": "stream",
     "text": [
      "(613760, 15)\n",
      "(613760,)\n",
      "(68196, 15)\n",
      "(68196,)\n",
      "Training until validation scores don't improve for 100 rounds\n",
      "[100]\ttraining's rmse: 0.513252\tvalid_1's rmse: 0.532088\n",
      "[200]\ttraining's rmse: 0.452889\tvalid_1's rmse: 0.48543\n",
      "[300]\ttraining's rmse: 0.416747\tvalid_1's rmse: 0.46127\n",
      "[400]\ttraining's rmse: 0.388789\tvalid_1's rmse: 0.44304\n",
      "[500]\ttraining's rmse: 0.371158\tvalid_1's rmse: 0.43419\n",
      "[600]\ttraining's rmse: 0.354772\tvalid_1's rmse: 0.425127\n",
      "[700]\ttraining's rmse: 0.339416\tvalid_1's rmse: 0.416854\n",
      "[800]\ttraining's rmse: 0.328285\tvalid_1's rmse: 0.411888\n",
      "[900]\ttraining's rmse: 0.316703\tvalid_1's rmse: 0.406046\n",
      "[1000]\ttraining's rmse: 0.307079\tvalid_1's rmse: 0.401141\n",
      "[1100]\ttraining's rmse: 0.297815\tvalid_1's rmse: 0.397148\n",
      "[1200]\ttraining's rmse: 0.290421\tvalid_1's rmse: 0.394901\n",
      "[1300]\ttraining's rmse: 0.283336\tvalid_1's rmse: 0.391564\n",
      "[1400]\ttraining's rmse: 0.276695\tvalid_1's rmse: 0.389305\n",
      "[1500]\ttraining's rmse: 0.270187\tvalid_1's rmse: 0.386887\n",
      "[1600]\ttraining's rmse: 0.263709\tvalid_1's rmse: 0.384688\n",
      "[1700]\ttraining's rmse: 0.257544\tvalid_1's rmse: 0.383006\n",
      "[1800]\ttraining's rmse: 0.252258\tvalid_1's rmse: 0.381553\n",
      "[1900]\ttraining's rmse: 0.246987\tvalid_1's rmse: 0.379638\n",
      "[2000]\ttraining's rmse: 0.242348\tvalid_1's rmse: 0.378422\n",
      "[2100]\ttraining's rmse: 0.238165\tvalid_1's rmse: 0.377177\n",
      "[2200]\ttraining's rmse: 0.233628\tvalid_1's rmse: 0.375619\n",
      "[2300]\ttraining's rmse: 0.22983\tvalid_1's rmse: 0.374498\n",
      "[2400]\ttraining's rmse: 0.226302\tvalid_1's rmse: 0.373656\n",
      "[2500]\ttraining's rmse: 0.222623\tvalid_1's rmse: 0.372734\n",
      "[2600]\ttraining's rmse: 0.219382\tvalid_1's rmse: 0.371864\n",
      "[2700]\ttraining's rmse: 0.215594\tvalid_1's rmse: 0.370736\n",
      "[2800]\ttraining's rmse: 0.212838\tvalid_1's rmse: 0.370298\n",
      "[2900]\ttraining's rmse: 0.209593\tvalid_1's rmse: 0.369284\n",
      "[3000]\ttraining's rmse: 0.206481\tvalid_1's rmse: 0.368656\n",
      "Did not meet early stopping. Best iteration is:\n",
      "[3000]\ttraining's rmse: 0.206481\tvalid_1's rmse: 0.368656\n",
      "Training model for site 1\n",
      "(498017, 15)\n",
      "(498017,)\n",
      "(55336, 15)\n",
      "(55336,)\n",
      "Training until validation scores don't improve for 100 rounds\n",
      "[100]\ttraining's rmse: 0.521165\tvalid_1's rmse: 0.534666\n",
      "[200]\ttraining's rmse: 0.486088\tvalid_1's rmse: 0.515485\n",
      "[300]\ttraining's rmse: 0.461149\tvalid_1's rmse: 0.505537\n",
      "[400]\ttraining's rmse: 0.440694\tvalid_1's rmse: 0.502266\n",
      "[500]\ttraining's rmse: 0.423952\tvalid_1's rmse: 0.500699\n",
      "[600]\ttraining's rmse: 0.408433\tvalid_1's rmse: 0.499197\n",
      "[700]\ttraining's rmse: 0.393989\tvalid_1's rmse: 0.498634\n",
      "[800]\ttraining's rmse: 0.382886\tvalid_1's rmse: 0.498011\n",
      "[900]\ttraining's rmse: 0.371264\tvalid_1's rmse: 0.497609\n",
      "Early stopping, best iteration is:\n",
      "[879]\ttraining's rmse: 0.373585\tvalid_1's rmse: 0.497289\n",
      "Training model for site 2\n"
     ]
    },
    {
     "name": "stderr",
     "output_type": "stream",
     "text": [
      "/opt/conda/lib/python3.6/site-packages/pandas/core/frame.py:4117: SettingWithCopyWarning:\n",
      "\n",
      "\n",
      "A value is trying to be set on a copy of a slice from a DataFrame\n",
      "\n",
      "See the caveats in the documentation: http://pandas.pydata.org/pandas-docs/stable/user_guide/indexing.html#returning-a-view-versus-a-copy\n",
      "\n"
     ]
    },
    {
     "name": "stdout",
     "output_type": "stream",
     "text": [
      "(2268331, 15)\n",
      "(2268331,)\n",
      "(252037, 15)\n",
      "(252037,)\n"
     ]
    },
    {
     "name": "stderr",
     "output_type": "stream",
     "text": [
      "/opt/conda/lib/python3.6/site-packages/lightgbm/basic.py:1291: UserWarning:\n",
      "\n",
      "Using categorical_feature in Dataset.\n",
      "\n"
     ]
    },
    {
     "name": "stdout",
     "output_type": "stream",
     "text": [
      "Training until validation scores don't improve for 100 rounds\n",
      "[100]\ttraining's rmse: 0.591536\tvalid_1's rmse: 0.591802\n",
      "[200]\ttraining's rmse: 0.534747\tvalid_1's rmse: 0.537031\n",
      "[300]\ttraining's rmse: 0.499282\tvalid_1's rmse: 0.504198\n",
      "[400]\ttraining's rmse: 0.472278\tvalid_1's rmse: 0.479802\n",
      "[500]\ttraining's rmse: 0.453561\tvalid_1's rmse: 0.462912\n",
      "[600]\ttraining's rmse: 0.439916\tvalid_1's rmse: 0.450997\n",
      "[700]\ttraining's rmse: 0.428325\tvalid_1's rmse: 0.440998\n",
      "[800]\ttraining's rmse: 0.41825\tvalid_1's rmse: 0.432405\n",
      "[900]\ttraining's rmse: 0.408768\tvalid_1's rmse: 0.42445\n",
      "[1000]\ttraining's rmse: 0.399986\tvalid_1's rmse: 0.417202\n",
      "[1100]\ttraining's rmse: 0.390876\tvalid_1's rmse: 0.409748\n",
      "[1200]\ttraining's rmse: 0.384103\tvalid_1's rmse: 0.404285\n",
      "[1300]\ttraining's rmse: 0.377514\tvalid_1's rmse: 0.399047\n",
      "[1400]\ttraining's rmse: 0.371695\tvalid_1's rmse: 0.394494\n",
      "[1500]\ttraining's rmse: 0.365267\tvalid_1's rmse: 0.389451\n",
      "[1600]\ttraining's rmse: 0.360203\tvalid_1's rmse: 0.385724\n",
      "[1700]\ttraining's rmse: 0.355414\tvalid_1's rmse: 0.382209\n",
      "[1800]\ttraining's rmse: 0.351121\tvalid_1's rmse: 0.379096\n",
      "[1900]\ttraining's rmse: 0.346689\tvalid_1's rmse: 0.375825\n",
      "[2000]\ttraining's rmse: 0.342863\tvalid_1's rmse: 0.373122\n",
      "[2100]\ttraining's rmse: 0.338909\tvalid_1's rmse: 0.37012\n",
      "[2200]\ttraining's rmse: 0.335336\tvalid_1's rmse: 0.367638\n",
      "[2300]\ttraining's rmse: 0.331857\tvalid_1's rmse: 0.365191\n",
      "[2400]\ttraining's rmse: 0.328551\tvalid_1's rmse: 0.363022\n",
      "[2500]\ttraining's rmse: 0.32537\tvalid_1's rmse: 0.360878\n",
      "[2600]\ttraining's rmse: 0.322302\tvalid_1's rmse: 0.358765\n",
      "[2700]\ttraining's rmse: 0.319265\tvalid_1's rmse: 0.356679\n",
      "[2800]\ttraining's rmse: 0.316149\tvalid_1's rmse: 0.354515\n",
      "[2900]\ttraining's rmse: 0.313705\tvalid_1's rmse: 0.353063\n",
      "[3000]\ttraining's rmse: 0.311258\tvalid_1's rmse: 0.3516\n",
      "Did not meet early stopping. Best iteration is:\n",
      "[3000]\ttraining's rmse: 0.311258\tvalid_1's rmse: 0.3516\n",
      "Training model for site 3\n"
     ]
    },
    {
     "name": "stderr",
     "output_type": "stream",
     "text": [
      "/opt/conda/lib/python3.6/site-packages/pandas/core/frame.py:4117: SettingWithCopyWarning:\n",
      "\n",
      "\n",
      "A value is trying to be set on a copy of a slice from a DataFrame\n",
      "\n",
      "See the caveats in the documentation: http://pandas.pydata.org/pandas-docs/stable/user_guide/indexing.html#returning-a-view-versus-a-copy\n",
      "\n"
     ]
    },
    {
     "name": "stdout",
     "output_type": "stream",
     "text": [
      "(2130297, 15)\n",
      "(2130297,)\n",
      "(236700, 15)\n",
      "(236700,)\n"
     ]
    },
    {
     "name": "stderr",
     "output_type": "stream",
     "text": [
      "/opt/conda/lib/python3.6/site-packages/lightgbm/basic.py:1291: UserWarning:\n",
      "\n",
      "Using categorical_feature in Dataset.\n",
      "\n"
     ]
    },
    {
     "name": "stdout",
     "output_type": "stream",
     "text": [
      "Training until validation scores don't improve for 100 rounds\n",
      "[100]\ttraining's rmse: 0.234432\tvalid_1's rmse: 0.234817\n",
      "[200]\ttraining's rmse: 0.20821\tvalid_1's rmse: 0.209808\n",
      "[300]\ttraining's rmse: 0.194229\tvalid_1's rmse: 0.196958\n",
      "[400]\ttraining's rmse: 0.184577\tvalid_1's rmse: 0.187864\n",
      "[500]\ttraining's rmse: 0.17791\tvalid_1's rmse: 0.181577\n",
      "[600]\ttraining's rmse: 0.172055\tvalid_1's rmse: 0.17624\n",
      "[700]\ttraining's rmse: 0.167048\tvalid_1's rmse: 0.171718\n",
      "[800]\ttraining's rmse: 0.162572\tvalid_1's rmse: 0.167822\n",
      "[900]\ttraining's rmse: 0.158739\tvalid_1's rmse: 0.164316\n",
      "[1000]\ttraining's rmse: 0.155223\tvalid_1's rmse: 0.161154\n",
      "[1100]\ttraining's rmse: 0.152351\tvalid_1's rmse: 0.158736\n",
      "[1200]\ttraining's rmse: 0.149878\tvalid_1's rmse: 0.156652\n",
      "[1300]\ttraining's rmse: 0.147568\tvalid_1's rmse: 0.15473\n",
      "[1400]\ttraining's rmse: 0.145563\tvalid_1's rmse: 0.153081\n",
      "[1500]\ttraining's rmse: 0.143697\tvalid_1's rmse: 0.151623\n",
      "[1600]\ttraining's rmse: 0.1418\tvalid_1's rmse: 0.150026\n",
      "[1700]\ttraining's rmse: 0.140115\tvalid_1's rmse: 0.148669\n",
      "[1800]\ttraining's rmse: 0.138295\tvalid_1's rmse: 0.147194\n",
      "[1900]\ttraining's rmse: 0.136654\tvalid_1's rmse: 0.1459\n",
      "[2000]\ttraining's rmse: 0.135118\tvalid_1's rmse: 0.144614\n",
      "[2100]\ttraining's rmse: 0.133713\tvalid_1's rmse: 0.143549\n",
      "[2200]\ttraining's rmse: 0.132267\tvalid_1's rmse: 0.142434\n",
      "[2300]\ttraining's rmse: 0.130868\tvalid_1's rmse: 0.141329\n",
      "[2400]\ttraining's rmse: 0.129649\tvalid_1's rmse: 0.140416\n",
      "[2500]\ttraining's rmse: 0.128319\tvalid_1's rmse: 0.13937\n",
      "[2600]\ttraining's rmse: 0.127126\tvalid_1's rmse: 0.138471\n",
      "[2700]\ttraining's rmse: 0.126\tvalid_1's rmse: 0.137627\n",
      "[2800]\ttraining's rmse: 0.124876\tvalid_1's rmse: 0.136775\n",
      "[2900]\ttraining's rmse: 0.123778\tvalid_1's rmse: 0.135943\n",
      "[3000]\ttraining's rmse: 0.122794\tvalid_1's rmse: 0.135266\n",
      "Did not meet early stopping. Best iteration is:\n",
      "[3000]\ttraining's rmse: 0.122794\tvalid_1's rmse: 0.135266\n",
      "Training model for site 4\n"
     ]
    },
    {
     "name": "stderr",
     "output_type": "stream",
     "text": [
      "/opt/conda/lib/python3.6/site-packages/pandas/core/frame.py:4117: SettingWithCopyWarning:\n",
      "\n",
      "\n",
      "A value is trying to be set on a copy of a slice from a DataFrame\n",
      "\n",
      "See the caveats in the documentation: http://pandas.pydata.org/pandas-docs/stable/user_guide/indexing.html#returning-a-view-versus-a-copy\n",
      "\n",
      "/opt/conda/lib/python3.6/site-packages/lightgbm/basic.py:1291: UserWarning:\n",
      "\n",
      "Using categorical_feature in Dataset.\n",
      "\n"
     ]
    },
    {
     "name": "stdout",
     "output_type": "stream",
     "text": [
      "(668580, 15)\n",
      "(668580,)\n",
      "(74287, 15)\n",
      "(74287,)\n",
      "Training until validation scores don't improve for 100 rounds\n",
      "[100]\ttraining's rmse: 0.145186\tvalid_1's rmse: 0.147368\n",
      "[200]\ttraining's rmse: 0.127842\tvalid_1's rmse: 0.131499\n",
      "[300]\ttraining's rmse: 0.11829\tvalid_1's rmse: 0.123211\n",
      "[400]\ttraining's rmse: 0.111296\tvalid_1's rmse: 0.117332\n",
      "[500]\ttraining's rmse: 0.106177\tvalid_1's rmse: 0.113323\n",
      "[600]\ttraining's rmse: 0.102465\tvalid_1's rmse: 0.110508\n",
      "[700]\ttraining's rmse: 0.0989973\tvalid_1's rmse: 0.107968\n",
      "[800]\ttraining's rmse: 0.0961956\tvalid_1's rmse: 0.10604\n",
      "[900]\ttraining's rmse: 0.0936797\tvalid_1's rmse: 0.104292\n",
      "[1000]\ttraining's rmse: 0.0914463\tvalid_1's rmse: 0.102744\n",
      "[1100]\ttraining's rmse: 0.0892644\tvalid_1's rmse: 0.101345\n",
      "[1200]\ttraining's rmse: 0.0872749\tvalid_1's rmse: 0.10007\n",
      "[1300]\ttraining's rmse: 0.0854659\tvalid_1's rmse: 0.098917\n",
      "[1400]\ttraining's rmse: 0.0839079\tvalid_1's rmse: 0.0980142\n",
      "[1500]\ttraining's rmse: 0.0823132\tvalid_1's rmse: 0.0970252\n",
      "[1600]\ttraining's rmse: 0.0809137\tvalid_1's rmse: 0.0962989\n",
      "[1700]\ttraining's rmse: 0.0796387\tvalid_1's rmse: 0.0955541\n",
      "[1800]\ttraining's rmse: 0.078358\tvalid_1's rmse: 0.0948685\n",
      "[1900]\ttraining's rmse: 0.0772156\tvalid_1's rmse: 0.0942656\n",
      "[2000]\ttraining's rmse: 0.0761476\tvalid_1's rmse: 0.0937004\n",
      "[2100]\ttraining's rmse: 0.0750422\tvalid_1's rmse: 0.0931549\n",
      "[2200]\ttraining's rmse: 0.0740265\tvalid_1's rmse: 0.0926459\n",
      "[2300]\ttraining's rmse: 0.0729893\tvalid_1's rmse: 0.0921187\n",
      "[2400]\ttraining's rmse: 0.0721266\tvalid_1's rmse: 0.0917042\n",
      "[2500]\ttraining's rmse: 0.0712185\tvalid_1's rmse: 0.091199\n",
      "[2600]\ttraining's rmse: 0.0702683\tvalid_1's rmse: 0.090736\n",
      "[2700]\ttraining's rmse: 0.0693731\tvalid_1's rmse: 0.0902772\n",
      "[2800]\ttraining's rmse: 0.0685693\tvalid_1's rmse: 0.0899655\n",
      "[2900]\ttraining's rmse: 0.0677637\tvalid_1's rmse: 0.0895915\n",
      "[3000]\ttraining's rmse: 0.0671081\tvalid_1's rmse: 0.0892969\n",
      "Did not meet early stopping. Best iteration is:\n",
      "[3000]\ttraining's rmse: 0.0671081\tvalid_1's rmse: 0.0892969\n",
      "Training model for site 5\n"
     ]
    },
    {
     "name": "stderr",
     "output_type": "stream",
     "text": [
      "/opt/conda/lib/python3.6/site-packages/pandas/core/frame.py:4117: SettingWithCopyWarning:\n",
      "\n",
      "\n",
      "A value is trying to be set on a copy of a slice from a DataFrame\n",
      "\n",
      "See the caveats in the documentation: http://pandas.pydata.org/pandas-docs/stable/user_guide/indexing.html#returning-a-view-versus-a-copy\n",
      "\n",
      "/opt/conda/lib/python3.6/site-packages/lightgbm/basic.py:1291: UserWarning:\n",
      "\n",
      "Using categorical_feature in Dataset.\n",
      "\n"
     ]
    },
    {
     "name": "stdout",
     "output_type": "stream",
     "text": [
      "(696377, 15)\n",
      "(696377,)\n",
      "(77376, 15)\n",
      "(77376,)\n",
      "Training until validation scores don't improve for 100 rounds\n",
      "[100]\ttraining's rmse: 0.372881\tvalid_1's rmse: 0.376016\n",
      "[200]\ttraining's rmse: 0.312489\tvalid_1's rmse: 0.318576\n",
      "[300]\ttraining's rmse: 0.285866\tvalid_1's rmse: 0.294536\n",
      "[400]\ttraining's rmse: 0.266623\tvalid_1's rmse: 0.27756\n",
      "[500]\ttraining's rmse: 0.252671\tvalid_1's rmse: 0.265896\n",
      "[600]\ttraining's rmse: 0.241353\tvalid_1's rmse: 0.255922\n",
      "[700]\ttraining's rmse: 0.232126\tvalid_1's rmse: 0.248489\n",
      "[800]\ttraining's rmse: 0.224309\tvalid_1's rmse: 0.24279\n",
      "[900]\ttraining's rmse: 0.217528\tvalid_1's rmse: 0.237749\n",
      "[1000]\ttraining's rmse: 0.211784\tvalid_1's rmse: 0.233464\n",
      "[1100]\ttraining's rmse: 0.206911\tvalid_1's rmse: 0.230158\n",
      "[1200]\ttraining's rmse: 0.201832\tvalid_1's rmse: 0.226603\n",
      "[1300]\ttraining's rmse: 0.197143\tvalid_1's rmse: 0.223279\n",
      "[1400]\ttraining's rmse: 0.193277\tvalid_1's rmse: 0.220682\n",
      "[1500]\ttraining's rmse: 0.189591\tvalid_1's rmse: 0.218196\n",
      "[1600]\ttraining's rmse: 0.185966\tvalid_1's rmse: 0.215843\n",
      "[1700]\ttraining's rmse: 0.18289\tvalid_1's rmse: 0.213804\n",
      "[1800]\ttraining's rmse: 0.179922\tvalid_1's rmse: 0.212079\n",
      "[1900]\ttraining's rmse: 0.177083\tvalid_1's rmse: 0.210369\n",
      "[2000]\ttraining's rmse: 0.174233\tvalid_1's rmse: 0.208472\n",
      "[2100]\ttraining's rmse: 0.171694\tvalid_1's rmse: 0.207126\n",
      "[2200]\ttraining's rmse: 0.169226\tvalid_1's rmse: 0.205773\n",
      "[2300]\ttraining's rmse: 0.166663\tvalid_1's rmse: 0.204283\n",
      "[2400]\ttraining's rmse: 0.164565\tvalid_1's rmse: 0.20318\n",
      "[2500]\ttraining's rmse: 0.162402\tvalid_1's rmse: 0.201988\n",
      "[2600]\ttraining's rmse: 0.160368\tvalid_1's rmse: 0.200903\n",
      "[2700]\ttraining's rmse: 0.158304\tvalid_1's rmse: 0.199711\n",
      "[2800]\ttraining's rmse: 0.156415\tvalid_1's rmse: 0.198735\n",
      "[2900]\ttraining's rmse: 0.154549\tvalid_1's rmse: 0.19778\n",
      "[3000]\ttraining's rmse: 0.152798\tvalid_1's rmse: 0.196921\n",
      "Did not meet early stopping. Best iteration is:\n",
      "[3000]\ttraining's rmse: 0.152798\tvalid_1's rmse: 0.196921\n",
      "Training model for site 6\n",
      "(601281, 15)\n",
      "(601281,)\n",
      "(66810, 15)\n",
      "(66810,)\n"
     ]
    },
    {
     "name": "stderr",
     "output_type": "stream",
     "text": [
      "/opt/conda/lib/python3.6/site-packages/pandas/core/frame.py:4117: SettingWithCopyWarning:\n",
      "\n",
      "\n",
      "A value is trying to be set on a copy of a slice from a DataFrame\n",
      "\n",
      "See the caveats in the documentation: http://pandas.pydata.org/pandas-docs/stable/user_guide/indexing.html#returning-a-view-versus-a-copy\n",
      "\n",
      "/opt/conda/lib/python3.6/site-packages/lightgbm/basic.py:1291: UserWarning:\n",
      "\n",
      "Using categorical_feature in Dataset.\n",
      "\n"
     ]
    },
    {
     "name": "stdout",
     "output_type": "stream",
     "text": [
      "Training until validation scores don't improve for 100 rounds\n",
      "[100]\ttraining's rmse: 0.728618\tvalid_1's rmse: 0.749313\n",
      "[200]\ttraining's rmse: 0.640441\tvalid_1's rmse: 0.669877\n",
      "[300]\ttraining's rmse: 0.593672\tvalid_1's rmse: 0.632156\n",
      "[400]\ttraining's rmse: 0.562719\tvalid_1's rmse: 0.609054\n",
      "[500]\ttraining's rmse: 0.53902\tvalid_1's rmse: 0.593315\n",
      "[600]\ttraining's rmse: 0.518411\tvalid_1's rmse: 0.580115\n",
      "[700]\ttraining's rmse: 0.503861\tvalid_1's rmse: 0.572433\n",
      "[800]\ttraining's rmse: 0.489927\tvalid_1's rmse: 0.564806\n",
      "[900]\ttraining's rmse: 0.476992\tvalid_1's rmse: 0.557676\n",
      "[1000]\ttraining's rmse: 0.465076\tvalid_1's rmse: 0.552081\n",
      "[1100]\ttraining's rmse: 0.453252\tvalid_1's rmse: 0.546688\n",
      "[1200]\ttraining's rmse: 0.443425\tvalid_1's rmse: 0.542198\n",
      "[1300]\ttraining's rmse: 0.433099\tvalid_1's rmse: 0.537512\n",
      "[1400]\ttraining's rmse: 0.424002\tvalid_1's rmse: 0.534526\n",
      "[1500]\ttraining's rmse: 0.416419\tvalid_1's rmse: 0.531618\n",
      "[1600]\ttraining's rmse: 0.409038\tvalid_1's rmse: 0.529267\n",
      "[1700]\ttraining's rmse: 0.403122\tvalid_1's rmse: 0.527578\n",
      "[1800]\ttraining's rmse: 0.396029\tvalid_1's rmse: 0.525068\n",
      "[1900]\ttraining's rmse: 0.390435\tvalid_1's rmse: 0.523483\n",
      "[2000]\ttraining's rmse: 0.383863\tvalid_1's rmse: 0.521389\n",
      "[2100]\ttraining's rmse: 0.377791\tvalid_1's rmse: 0.519321\n",
      "[2200]\ttraining's rmse: 0.372129\tvalid_1's rmse: 0.517425\n",
      "[2300]\ttraining's rmse: 0.366716\tvalid_1's rmse: 0.516302\n",
      "[2400]\ttraining's rmse: 0.361306\tvalid_1's rmse: 0.51499\n",
      "[2500]\ttraining's rmse: 0.356616\tvalid_1's rmse: 0.513751\n",
      "[2600]\ttraining's rmse: 0.351692\tvalid_1's rmse: 0.512703\n",
      "[2700]\ttraining's rmse: 0.346768\tvalid_1's rmse: 0.511299\n",
      "[2800]\ttraining's rmse: 0.342542\tvalid_1's rmse: 0.509908\n",
      "[2900]\ttraining's rmse: 0.338184\tvalid_1's rmse: 0.508719\n",
      "[3000]\ttraining's rmse: 0.3346\tvalid_1's rmse: 0.507997\n",
      "Did not meet early stopping. Best iteration is:\n",
      "[3000]\ttraining's rmse: 0.3346\tvalid_1's rmse: 0.507997\n",
      "Training model for site 7\n",
      "(318644, 15)\n",
      "(318644,)\n",
      "(35405, 15)\n",
      "(35405,)\n"
     ]
    },
    {
     "name": "stderr",
     "output_type": "stream",
     "text": [
      "/opt/conda/lib/python3.6/site-packages/pandas/core/frame.py:4117: SettingWithCopyWarning:\n",
      "\n",
      "\n",
      "A value is trying to be set on a copy of a slice from a DataFrame\n",
      "\n",
      "See the caveats in the documentation: http://pandas.pydata.org/pandas-docs/stable/user_guide/indexing.html#returning-a-view-versus-a-copy\n",
      "\n",
      "/opt/conda/lib/python3.6/site-packages/lightgbm/basic.py:1291: UserWarning:\n",
      "\n",
      "Using categorical_feature in Dataset.\n",
      "\n"
     ]
    },
    {
     "name": "stdout",
     "output_type": "stream",
     "text": [
      "Training until validation scores don't improve for 100 rounds\n",
      "[100]\ttraining's rmse: 0.865071\tvalid_1's rmse: 0.878664\n",
      "[200]\ttraining's rmse: 0.749791\tvalid_1's rmse: 0.779734\n",
      "[300]\ttraining's rmse: 0.690392\tvalid_1's rmse: 0.737675\n",
      "[400]\ttraining's rmse: 0.651368\tvalid_1's rmse: 0.711657\n",
      "[500]\ttraining's rmse: 0.620317\tvalid_1's rmse: 0.694171\n",
      "[600]\ttraining's rmse: 0.591619\tvalid_1's rmse: 0.675914\n",
      "[700]\ttraining's rmse: 0.570029\tvalid_1's rmse: 0.665085\n",
      "[800]\ttraining's rmse: 0.551565\tvalid_1's rmse: 0.656643\n",
      "[900]\ttraining's rmse: 0.532563\tvalid_1's rmse: 0.646583\n",
      "[1000]\ttraining's rmse: 0.517149\tvalid_1's rmse: 0.639593\n",
      "[1100]\ttraining's rmse: 0.503741\tvalid_1's rmse: 0.63343\n",
      "[1200]\ttraining's rmse: 0.49134\tvalid_1's rmse: 0.627764\n",
      "[1300]\ttraining's rmse: 0.478624\tvalid_1's rmse: 0.622427\n",
      "[1400]\ttraining's rmse: 0.46701\tvalid_1's rmse: 0.617951\n",
      "[1500]\ttraining's rmse: 0.456609\tvalid_1's rmse: 0.614275\n",
      "[1600]\ttraining's rmse: 0.445953\tvalid_1's rmse: 0.610145\n",
      "[1700]\ttraining's rmse: 0.437004\tvalid_1's rmse: 0.607416\n",
      "[1800]\ttraining's rmse: 0.426938\tvalid_1's rmse: 0.604189\n",
      "[1900]\ttraining's rmse: 0.418801\tvalid_1's rmse: 0.601725\n",
      "[2000]\ttraining's rmse: 0.411121\tvalid_1's rmse: 0.600053\n",
      "[2100]\ttraining's rmse: 0.403265\tvalid_1's rmse: 0.59798\n",
      "[2200]\ttraining's rmse: 0.396679\tvalid_1's rmse: 0.595894\n",
      "[2300]\ttraining's rmse: 0.38994\tvalid_1's rmse: 0.593849\n",
      "[2400]\ttraining's rmse: 0.384108\tvalid_1's rmse: 0.592603\n",
      "[2500]\ttraining's rmse: 0.377992\tvalid_1's rmse: 0.59129\n",
      "[2600]\ttraining's rmse: 0.372107\tvalid_1's rmse: 0.590113\n",
      "[2700]\ttraining's rmse: 0.366341\tvalid_1's rmse: 0.588508\n",
      "[2800]\ttraining's rmse: 0.360603\tvalid_1's rmse: 0.587137\n",
      "[2900]\ttraining's rmse: 0.355702\tvalid_1's rmse: 0.585912\n",
      "[3000]\ttraining's rmse: 0.350815\tvalid_1's rmse: 0.584752\n",
      "Did not meet early stopping. Best iteration is:\n",
      "[3000]\ttraining's rmse: 0.350815\tvalid_1's rmse: 0.584752\n",
      "Training model for site 8\n",
      "(487199, 15)\n",
      "(487199,)\n",
      "(54134, 15)\n",
      "(54134,)\n"
     ]
    },
    {
     "name": "stderr",
     "output_type": "stream",
     "text": [
      "/opt/conda/lib/python3.6/site-packages/pandas/core/frame.py:4117: SettingWithCopyWarning:\n",
      "\n",
      "\n",
      "A value is trying to be set on a copy of a slice from a DataFrame\n",
      "\n",
      "See the caveats in the documentation: http://pandas.pydata.org/pandas-docs/stable/user_guide/indexing.html#returning-a-view-versus-a-copy\n",
      "\n",
      "/opt/conda/lib/python3.6/site-packages/lightgbm/basic.py:1291: UserWarning:\n",
      "\n",
      "Using categorical_feature in Dataset.\n",
      "\n"
     ]
    },
    {
     "name": "stdout",
     "output_type": "stream",
     "text": [
      "Training until validation scores don't improve for 100 rounds\n",
      "[100]\ttraining's rmse: 0.284476\tvalid_1's rmse: 0.289655\n",
      "[200]\ttraining's rmse: 0.223277\tvalid_1's rmse: 0.2302\n",
      "[300]\ttraining's rmse: 0.187617\tvalid_1's rmse: 0.195294\n",
      "[400]\ttraining's rmse: 0.163226\tvalid_1's rmse: 0.171492\n",
      "[500]\ttraining's rmse: 0.144736\tvalid_1's rmse: 0.153189\n",
      "[600]\ttraining's rmse: 0.130398\tvalid_1's rmse: 0.1394\n",
      "[700]\ttraining's rmse: 0.117303\tvalid_1's rmse: 0.126246\n",
      "[800]\ttraining's rmse: 0.106675\tvalid_1's rmse: 0.115796\n",
      "[900]\ttraining's rmse: 0.0973737\tvalid_1's rmse: 0.106624\n",
      "[1000]\ttraining's rmse: 0.0898913\tvalid_1's rmse: 0.099315\n",
      "[1100]\ttraining's rmse: 0.0827563\tvalid_1's rmse: 0.0922721\n",
      "[1200]\ttraining's rmse: 0.0773152\tvalid_1's rmse: 0.0869489\n",
      "[1300]\ttraining's rmse: 0.0722794\tvalid_1's rmse: 0.0821539\n",
      "[1400]\ttraining's rmse: 0.0680711\tvalid_1's rmse: 0.0780199\n",
      "[1500]\ttraining's rmse: 0.0638356\tvalid_1's rmse: 0.0738683\n",
      "[1600]\ttraining's rmse: 0.0604464\tvalid_1's rmse: 0.0706866\n",
      "[1700]\ttraining's rmse: 0.0575609\tvalid_1's rmse: 0.0679682\n",
      "[1800]\ttraining's rmse: 0.0548544\tvalid_1's rmse: 0.0654259\n",
      "[1900]\ttraining's rmse: 0.0524925\tvalid_1's rmse: 0.0632619\n",
      "[2000]\ttraining's rmse: 0.0504153\tvalid_1's rmse: 0.0613097\n",
      "[2100]\ttraining's rmse: 0.048629\tvalid_1's rmse: 0.0597272\n",
      "[2200]\ttraining's rmse: 0.0469142\tvalid_1's rmse: 0.0582417\n",
      "[2300]\ttraining's rmse: 0.045324\tvalid_1's rmse: 0.0568151\n",
      "[2400]\ttraining's rmse: 0.0439423\tvalid_1's rmse: 0.0557288\n",
      "[2500]\ttraining's rmse: 0.0425995\tvalid_1's rmse: 0.0546253\n",
      "[2600]\ttraining's rmse: 0.0413217\tvalid_1's rmse: 0.0535416\n",
      "[2700]\ttraining's rmse: 0.0401186\tvalid_1's rmse: 0.052475\n",
      "[2800]\ttraining's rmse: 0.0390845\tvalid_1's rmse: 0.0517187\n",
      "[2900]\ttraining's rmse: 0.0380076\tvalid_1's rmse: 0.0508852\n",
      "[3000]\ttraining's rmse: 0.0370823\tvalid_1's rmse: 0.050235\n",
      "Did not meet early stopping. Best iteration is:\n",
      "[3000]\ttraining's rmse: 0.0370823\tvalid_1's rmse: 0.050235\n",
      "Training model for site 9\n"
     ]
    },
    {
     "name": "stderr",
     "output_type": "stream",
     "text": [
      "/opt/conda/lib/python3.6/site-packages/pandas/core/frame.py:4117: SettingWithCopyWarning:\n",
      "\n",
      "\n",
      "A value is trying to be set on a copy of a slice from a DataFrame\n",
      "\n",
      "See the caveats in the documentation: http://pandas.pydata.org/pandas-docs/stable/user_guide/indexing.html#returning-a-view-versus-a-copy\n",
      "\n"
     ]
    },
    {
     "name": "stdout",
     "output_type": "stream",
     "text": [
      "(2371083, 15)\n",
      "(2371083,)\n",
      "(263454, 15)\n",
      "(263454,)\n"
     ]
    },
    {
     "name": "stderr",
     "output_type": "stream",
     "text": [
      "/opt/conda/lib/python3.6/site-packages/lightgbm/basic.py:1291: UserWarning:\n",
      "\n",
      "Using categorical_feature in Dataset.\n",
      "\n"
     ]
    },
    {
     "name": "stdout",
     "output_type": "stream",
     "text": [
      "Training until validation scores don't improve for 100 rounds\n",
      "[100]\ttraining's rmse: 0.645551\tvalid_1's rmse: 0.650382\n",
      "[200]\ttraining's rmse: 0.586889\tvalid_1's rmse: 0.592037\n",
      "[300]\ttraining's rmse: 0.558334\tvalid_1's rmse: 0.564879\n",
      "[400]\ttraining's rmse: 0.541805\tvalid_1's rmse: 0.550778\n",
      "[500]\ttraining's rmse: 0.531425\tvalid_1's rmse: 0.542268\n",
      "[600]\ttraining's rmse: 0.521172\tvalid_1's rmse: 0.534322\n",
      "[700]\ttraining's rmse: 0.513352\tvalid_1's rmse: 0.528764\n",
      "[800]\ttraining's rmse: 0.507492\tvalid_1's rmse: 0.525316\n",
      "[900]\ttraining's rmse: 0.501328\tvalid_1's rmse: 0.521521\n",
      "[1000]\ttraining's rmse: 0.49625\tvalid_1's rmse: 0.519513\n",
      "[1100]\ttraining's rmse: 0.491283\tvalid_1's rmse: 0.517204\n",
      "[1200]\ttraining's rmse: 0.486524\tvalid_1's rmse: 0.514914\n",
      "[1300]\ttraining's rmse: 0.482709\tvalid_1's rmse: 0.513376\n",
      "[1400]\ttraining's rmse: 0.478467\tvalid_1's rmse: 0.51147\n",
      "[1500]\ttraining's rmse: 0.474389\tvalid_1's rmse: 0.509927\n",
      "[1600]\ttraining's rmse: 0.470641\tvalid_1's rmse: 0.508868\n",
      "[1700]\ttraining's rmse: 0.467069\tvalid_1's rmse: 0.508\n",
      "[1800]\ttraining's rmse: 0.463732\tvalid_1's rmse: 0.506777\n",
      "[1900]\ttraining's rmse: 0.460473\tvalid_1's rmse: 0.505958\n",
      "[2000]\ttraining's rmse: 0.457381\tvalid_1's rmse: 0.505085\n",
      "[2100]\ttraining's rmse: 0.454297\tvalid_1's rmse: 0.504494\n",
      "[2200]\ttraining's rmse: 0.451526\tvalid_1's rmse: 0.503833\n",
      "[2300]\ttraining's rmse: 0.448803\tvalid_1's rmse: 0.503193\n",
      "[2400]\ttraining's rmse: 0.445867\tvalid_1's rmse: 0.502785\n",
      "[2500]\ttraining's rmse: 0.44314\tvalid_1's rmse: 0.502344\n",
      "[2600]\ttraining's rmse: 0.44057\tvalid_1's rmse: 0.501758\n",
      "[2700]\ttraining's rmse: 0.438024\tvalid_1's rmse: 0.501327\n",
      "[2800]\ttraining's rmse: 0.43544\tvalid_1's rmse: 0.500781\n",
      "[2900]\ttraining's rmse: 0.432863\tvalid_1's rmse: 0.500426\n",
      "[3000]\ttraining's rmse: 0.430408\tvalid_1's rmse: 0.500057\n",
      "Did not meet early stopping. Best iteration is:\n",
      "[3000]\ttraining's rmse: 0.430408\tvalid_1's rmse: 0.500057\n",
      "Training model for site 10\n",
      "(369824, 15)\n",
      "(369824,)\n",
      "(41092, 15)\n",
      "(41092,)\n"
     ]
    },
    {
     "name": "stderr",
     "output_type": "stream",
     "text": [
      "/opt/conda/lib/python3.6/site-packages/pandas/core/frame.py:4117: SettingWithCopyWarning:\n",
      "\n",
      "\n",
      "A value is trying to be set on a copy of a slice from a DataFrame\n",
      "\n",
      "See the caveats in the documentation: http://pandas.pydata.org/pandas-docs/stable/user_guide/indexing.html#returning-a-view-versus-a-copy\n",
      "\n",
      "/opt/conda/lib/python3.6/site-packages/lightgbm/basic.py:1291: UserWarning:\n",
      "\n",
      "Using categorical_feature in Dataset.\n",
      "\n"
     ]
    },
    {
     "name": "stdout",
     "output_type": "stream",
     "text": [
      "Training until validation scores don't improve for 100 rounds\n",
      "[100]\ttraining's rmse: 0.786143\tvalid_1's rmse: 0.820981\n",
      "[200]\ttraining's rmse: 0.713827\tvalid_1's rmse: 0.774379\n",
      "[300]\ttraining's rmse: 0.666097\tvalid_1's rmse: 0.745087\n",
      "[400]\ttraining's rmse: 0.631939\tvalid_1's rmse: 0.727476\n",
      "[500]\ttraining's rmse: 0.603629\tvalid_1's rmse: 0.717175\n",
      "[600]\ttraining's rmse: 0.582139\tvalid_1's rmse: 0.710403\n",
      "[700]\ttraining's rmse: 0.564646\tvalid_1's rmse: 0.70527\n",
      "[800]\ttraining's rmse: 0.5474\tvalid_1's rmse: 0.699311\n",
      "[900]\ttraining's rmse: 0.529956\tvalid_1's rmse: 0.694313\n",
      "[1000]\ttraining's rmse: 0.516771\tvalid_1's rmse: 0.690111\n",
      "[1100]\ttraining's rmse: 0.502253\tvalid_1's rmse: 0.686261\n",
      "[1200]\ttraining's rmse: 0.490887\tvalid_1's rmse: 0.683625\n",
      "[1300]\ttraining's rmse: 0.477306\tvalid_1's rmse: 0.680688\n",
      "[1400]\ttraining's rmse: 0.466619\tvalid_1's rmse: 0.679696\n",
      "[1500]\ttraining's rmse: 0.455825\tvalid_1's rmse: 0.677695\n",
      "[1600]\ttraining's rmse: 0.445829\tvalid_1's rmse: 0.676532\n",
      "[1700]\ttraining's rmse: 0.436928\tvalid_1's rmse: 0.675826\n",
      "[1800]\ttraining's rmse: 0.428345\tvalid_1's rmse: 0.674217\n",
      "[1900]\ttraining's rmse: 0.420817\tvalid_1's rmse: 0.673088\n",
      "[2000]\ttraining's rmse: 0.413024\tvalid_1's rmse: 0.671457\n",
      "[2100]\ttraining's rmse: 0.406241\tvalid_1's rmse: 0.670619\n",
      "[2200]\ttraining's rmse: 0.399387\tvalid_1's rmse: 0.669871\n",
      "[2300]\ttraining's rmse: 0.392497\tvalid_1's rmse: 0.669584\n",
      "[2400]\ttraining's rmse: 0.386136\tvalid_1's rmse: 0.669006\n",
      "[2500]\ttraining's rmse: 0.380088\tvalid_1's rmse: 0.668306\n",
      "[2600]\ttraining's rmse: 0.374336\tvalid_1's rmse: 0.667717\n",
      "[2700]\ttraining's rmse: 0.368808\tvalid_1's rmse: 0.667533\n",
      "[2800]\ttraining's rmse: 0.363145\tvalid_1's rmse: 0.667033\n",
      "[2900]\ttraining's rmse: 0.358377\tvalid_1's rmse: 0.666644\n",
      "[3000]\ttraining's rmse: 0.353158\tvalid_1's rmse: 0.666479\n",
      "Did not meet early stopping. Best iteration is:\n",
      "[3000]\ttraining's rmse: 0.353158\tvalid_1's rmse: 0.666479\n",
      "Training model for site 11\n",
      "(107513, 15)\n",
      "(107513,)\n",
      "(11946, 15)\n",
      "(11946,)\n"
     ]
    },
    {
     "name": "stderr",
     "output_type": "stream",
     "text": [
      "/opt/conda/lib/python3.6/site-packages/pandas/core/frame.py:4117: SettingWithCopyWarning:\n",
      "\n",
      "\n",
      "A value is trying to be set on a copy of a slice from a DataFrame\n",
      "\n",
      "See the caveats in the documentation: http://pandas.pydata.org/pandas-docs/stable/user_guide/indexing.html#returning-a-view-versus-a-copy\n",
      "\n",
      "/opt/conda/lib/python3.6/site-packages/lightgbm/basic.py:1291: UserWarning:\n",
      "\n",
      "Using categorical_feature in Dataset.\n",
      "\n"
     ]
    },
    {
     "name": "stdout",
     "output_type": "stream",
     "text": [
      "Training until validation scores don't improve for 100 rounds\n",
      "[100]\ttraining's rmse: 0.442577\tvalid_1's rmse: 0.484652\n",
      "[200]\ttraining's rmse: 0.390585\tvalid_1's rmse: 0.455041\n",
      "[300]\ttraining's rmse: 0.356947\tvalid_1's rmse: 0.442241\n",
      "[400]\ttraining's rmse: 0.32763\tvalid_1's rmse: 0.4291\n",
      "[500]\ttraining's rmse: 0.306343\tvalid_1's rmse: 0.420623\n",
      "[600]\ttraining's rmse: 0.288272\tvalid_1's rmse: 0.41396\n",
      "[700]\ttraining's rmse: 0.272748\tvalid_1's rmse: 0.408019\n",
      "[800]\ttraining's rmse: 0.260284\tvalid_1's rmse: 0.40422\n",
      "[900]\ttraining's rmse: 0.247953\tvalid_1's rmse: 0.400629\n",
      "[1000]\ttraining's rmse: 0.238104\tvalid_1's rmse: 0.398422\n",
      "[1100]\ttraining's rmse: 0.229138\tvalid_1's rmse: 0.395595\n",
      "[1200]\ttraining's rmse: 0.221369\tvalid_1's rmse: 0.393859\n",
      "[1300]\ttraining's rmse: 0.213312\tvalid_1's rmse: 0.392214\n",
      "[1400]\ttraining's rmse: 0.206651\tvalid_1's rmse: 0.390441\n",
      "[1500]\ttraining's rmse: 0.200434\tvalid_1's rmse: 0.389348\n",
      "[1600]\ttraining's rmse: 0.194403\tvalid_1's rmse: 0.388092\n",
      "[1700]\ttraining's rmse: 0.188599\tvalid_1's rmse: 0.386885\n",
      "[1800]\ttraining's rmse: 0.182257\tvalid_1's rmse: 0.385373\n",
      "[1900]\ttraining's rmse: 0.177046\tvalid_1's rmse: 0.384079\n",
      "[2000]\ttraining's rmse: 0.172588\tvalid_1's rmse: 0.383029\n",
      "[2100]\ttraining's rmse: 0.168294\tvalid_1's rmse: 0.382479\n",
      "[2200]\ttraining's rmse: 0.164101\tvalid_1's rmse: 0.38177\n",
      "[2300]\ttraining's rmse: 0.160087\tvalid_1's rmse: 0.381507\n",
      "[2400]\ttraining's rmse: 0.155891\tvalid_1's rmse: 0.380797\n",
      "[2500]\ttraining's rmse: 0.152146\tvalid_1's rmse: 0.380035\n",
      "[2600]\ttraining's rmse: 0.148595\tvalid_1's rmse: 0.379745\n",
      "[2700]\ttraining's rmse: 0.145377\tvalid_1's rmse: 0.378979\n",
      "[2800]\ttraining's rmse: 0.142575\tvalid_1's rmse: 0.378465\n",
      "[2900]\ttraining's rmse: 0.139524\tvalid_1's rmse: 0.37832\n",
      "[3000]\ttraining's rmse: 0.136729\tvalid_1's rmse: 0.378033\n",
      "Did not meet early stopping. Best iteration is:\n",
      "[3000]\ttraining's rmse: 0.136729\tvalid_1's rmse: 0.378033\n",
      "Training model for site 12\n",
      "(283040, 15)\n",
      "(283040,)\n",
      "(31449, 15)\n",
      "(31449,)\n"
     ]
    },
    {
     "name": "stderr",
     "output_type": "stream",
     "text": [
      "/opt/conda/lib/python3.6/site-packages/pandas/core/frame.py:4117: SettingWithCopyWarning:\n",
      "\n",
      "\n",
      "A value is trying to be set on a copy of a slice from a DataFrame\n",
      "\n",
      "See the caveats in the documentation: http://pandas.pydata.org/pandas-docs/stable/user_guide/indexing.html#returning-a-view-versus-a-copy\n",
      "\n",
      "/opt/conda/lib/python3.6/site-packages/lightgbm/basic.py:1291: UserWarning:\n",
      "\n",
      "Using categorical_feature in Dataset.\n",
      "\n"
     ]
    },
    {
     "name": "stdout",
     "output_type": "stream",
     "text": [
      "Training until validation scores don't improve for 100 rounds\n",
      "[100]\ttraining's rmse: 0.173887\tvalid_1's rmse: 0.177916\n",
      "[200]\ttraining's rmse: 0.150044\tvalid_1's rmse: 0.157387\n",
      "[300]\ttraining's rmse: 0.137206\tvalid_1's rmse: 0.147587\n",
      "[400]\ttraining's rmse: 0.127976\tvalid_1's rmse: 0.140645\n",
      "[500]\ttraining's rmse: 0.121697\tvalid_1's rmse: 0.136476\n",
      "[600]\ttraining's rmse: 0.11586\tvalid_1's rmse: 0.132936\n",
      "[700]\ttraining's rmse: 0.111153\tvalid_1's rmse: 0.13\n",
      "[800]\ttraining's rmse: 0.107312\tvalid_1's rmse: 0.127649\n",
      "[900]\ttraining's rmse: 0.103706\tvalid_1's rmse: 0.125362\n",
      "[1000]\ttraining's rmse: 0.100723\tvalid_1's rmse: 0.123719\n",
      "[1100]\ttraining's rmse: 0.0977285\tvalid_1's rmse: 0.122014\n",
      "[1200]\ttraining's rmse: 0.0949111\tvalid_1's rmse: 0.120554\n",
      "[1300]\ttraining's rmse: 0.0926959\tvalid_1's rmse: 0.1195\n",
      "[1400]\ttraining's rmse: 0.0903235\tvalid_1's rmse: 0.118221\n",
      "[1500]\ttraining's rmse: 0.0880807\tvalid_1's rmse: 0.117118\n",
      "[1600]\ttraining's rmse: 0.0860073\tvalid_1's rmse: 0.116257\n",
      "[1700]\ttraining's rmse: 0.0841666\tvalid_1's rmse: 0.115367\n",
      "[1800]\ttraining's rmse: 0.0824512\tvalid_1's rmse: 0.11464\n",
      "[1900]\ttraining's rmse: 0.0807354\tvalid_1's rmse: 0.113809\n",
      "[2000]\ttraining's rmse: 0.0792192\tvalid_1's rmse: 0.113192\n",
      "[2100]\ttraining's rmse: 0.0777449\tvalid_1's rmse: 0.112612\n",
      "[2200]\ttraining's rmse: 0.0762556\tvalid_1's rmse: 0.112019\n",
      "[2300]\ttraining's rmse: 0.074921\tvalid_1's rmse: 0.111483\n",
      "[2400]\ttraining's rmse: 0.073529\tvalid_1's rmse: 0.110855\n",
      "[2500]\ttraining's rmse: 0.072298\tvalid_1's rmse: 0.110288\n",
      "[2600]\ttraining's rmse: 0.0711275\tvalid_1's rmse: 0.10985\n",
      "[2700]\ttraining's rmse: 0.0700176\tvalid_1's rmse: 0.109433\n",
      "[2800]\ttraining's rmse: 0.0688921\tvalid_1's rmse: 0.109083\n",
      "[2900]\ttraining's rmse: 0.0677892\tvalid_1's rmse: 0.108683\n",
      "[3000]\ttraining's rmse: 0.0668084\tvalid_1's rmse: 0.108376\n",
      "Did not meet early stopping. Best iteration is:\n",
      "[3000]\ttraining's rmse: 0.0668084\tvalid_1's rmse: 0.108376\n",
      "Training model for site 13\n"
     ]
    },
    {
     "name": "stderr",
     "output_type": "stream",
     "text": [
      "/opt/conda/lib/python3.6/site-packages/pandas/core/frame.py:4117: SettingWithCopyWarning:\n",
      "\n",
      "\n",
      "A value is trying to be set on a copy of a slice from a DataFrame\n",
      "\n",
      "See the caveats in the documentation: http://pandas.pydata.org/pandas-docs/stable/user_guide/indexing.html#returning-a-view-versus-a-copy\n",
      "\n"
     ]
    },
    {
     "name": "stdout",
     "output_type": "stream",
     "text": [
      "(2422700, 15)\n",
      "(2422700,)\n",
      "(269189, 15)\n",
      "(269189,)\n"
     ]
    },
    {
     "name": "stderr",
     "output_type": "stream",
     "text": [
      "/opt/conda/lib/python3.6/site-packages/lightgbm/basic.py:1291: UserWarning:\n",
      "\n",
      "Using categorical_feature in Dataset.\n",
      "\n"
     ]
    },
    {
     "name": "stdout",
     "output_type": "stream",
     "text": [
      "Training until validation scores don't improve for 100 rounds\n",
      "[100]\ttraining's rmse: 0.715341\tvalid_1's rmse: 0.716189\n",
      "[200]\ttraining's rmse: 0.646486\tvalid_1's rmse: 0.650616\n",
      "[300]\ttraining's rmse: 0.607283\tvalid_1's rmse: 0.613809\n",
      "[400]\ttraining's rmse: 0.579087\tvalid_1's rmse: 0.588329\n",
      "[500]\ttraining's rmse: 0.560072\tvalid_1's rmse: 0.572209\n",
      "[600]\ttraining's rmse: 0.543213\tvalid_1's rmse: 0.558264\n",
      "[700]\ttraining's rmse: 0.531182\tvalid_1's rmse: 0.548522\n",
      "[800]\ttraining's rmse: 0.520546\tvalid_1's rmse: 0.540346\n",
      "[900]\ttraining's rmse: 0.510056\tvalid_1's rmse: 0.532223\n",
      "[1000]\ttraining's rmse: 0.500031\tvalid_1's rmse: 0.524436\n",
      "[1100]\ttraining's rmse: 0.491532\tvalid_1's rmse: 0.518098\n",
      "[1200]\ttraining's rmse: 0.483637\tvalid_1's rmse: 0.51255\n",
      "[1300]\ttraining's rmse: 0.476767\tvalid_1's rmse: 0.507891\n",
      "[1400]\ttraining's rmse: 0.470212\tvalid_1's rmse: 0.503357\n",
      "[1500]\ttraining's rmse: 0.463755\tvalid_1's rmse: 0.499345\n",
      "[1600]\ttraining's rmse: 0.456808\tvalid_1's rmse: 0.494726\n",
      "[1700]\ttraining's rmse: 0.451354\tvalid_1's rmse: 0.491587\n",
      "[1800]\ttraining's rmse: 0.446438\tvalid_1's rmse: 0.488998\n",
      "[1900]\ttraining's rmse: 0.441171\tvalid_1's rmse: 0.485508\n",
      "[2000]\ttraining's rmse: 0.436455\tvalid_1's rmse: 0.482936\n",
      "[2100]\ttraining's rmse: 0.431362\tvalid_1's rmse: 0.479804\n",
      "[2200]\ttraining's rmse: 0.427327\tvalid_1's rmse: 0.477352\n",
      "[2300]\ttraining's rmse: 0.42323\tvalid_1's rmse: 0.475136\n",
      "[2400]\ttraining's rmse: 0.418978\tvalid_1's rmse: 0.472929\n",
      "[2500]\ttraining's rmse: 0.415185\tvalid_1's rmse: 0.470822\n",
      "[2600]\ttraining's rmse: 0.41131\tvalid_1's rmse: 0.468907\n",
      "[2700]\ttraining's rmse: 0.408139\tvalid_1's rmse: 0.467342\n",
      "[2800]\ttraining's rmse: 0.404677\tvalid_1's rmse: 0.465809\n",
      "[2900]\ttraining's rmse: 0.401536\tvalid_1's rmse: 0.464217\n",
      "[3000]\ttraining's rmse: 0.398611\tvalid_1's rmse: 0.462701\n",
      "Did not meet early stopping. Best iteration is:\n",
      "[3000]\ttraining's rmse: 0.398611\tvalid_1's rmse: 0.462701\n",
      "Training model for site 14\n"
     ]
    },
    {
     "name": "stderr",
     "output_type": "stream",
     "text": [
      "/opt/conda/lib/python3.6/site-packages/pandas/core/frame.py:4117: SettingWithCopyWarning:\n",
      "\n",
      "\n",
      "A value is trying to be set on a copy of a slice from a DataFrame\n",
      "\n",
      "See the caveats in the documentation: http://pandas.pydata.org/pandas-docs/stable/user_guide/indexing.html#returning-a-view-versus-a-copy\n",
      "\n"
     ]
    },
    {
     "name": "stdout",
     "output_type": "stream",
     "text": [
      "(2214871, 15)\n",
      "(2214871,)\n",
      "(246097, 15)\n",
      "(246097,)\n"
     ]
    },
    {
     "name": "stderr",
     "output_type": "stream",
     "text": [
      "/opt/conda/lib/python3.6/site-packages/lightgbm/basic.py:1291: UserWarning:\n",
      "\n",
      "Using categorical_feature in Dataset.\n",
      "\n"
     ]
    },
    {
     "name": "stdout",
     "output_type": "stream",
     "text": [
      "Training until validation scores don't improve for 100 rounds\n",
      "[100]\ttraining's rmse: 1.02955\tvalid_1's rmse: 1.03232\n",
      "[200]\ttraining's rmse: 0.948192\tvalid_1's rmse: 0.955147\n",
      "[300]\ttraining's rmse: 0.901018\tvalid_1's rmse: 0.911667\n",
      "[400]\ttraining's rmse: 0.868966\tvalid_1's rmse: 0.882403\n",
      "[500]\ttraining's rmse: 0.845596\tvalid_1's rmse: 0.862203\n",
      "[600]\ttraining's rmse: 0.825188\tvalid_1's rmse: 0.84529\n",
      "[700]\ttraining's rmse: 0.811141\tvalid_1's rmse: 0.83412\n",
      "[800]\ttraining's rmse: 0.797484\tvalid_1's rmse: 0.824281\n",
      "[900]\ttraining's rmse: 0.785732\tvalid_1's rmse: 0.815948\n",
      "[1000]\ttraining's rmse: 0.774323\tvalid_1's rmse: 0.808039\n",
      "[1100]\ttraining's rmse: 0.764046\tvalid_1's rmse: 0.801031\n",
      "[1200]\ttraining's rmse: 0.754363\tvalid_1's rmse: 0.794708\n",
      "[1300]\ttraining's rmse: 0.746318\tvalid_1's rmse: 0.789418\n",
      "[1400]\ttraining's rmse: 0.738793\tvalid_1's rmse: 0.78497\n",
      "[1500]\ttraining's rmse: 0.731701\tvalid_1's rmse: 0.780791\n",
      "[1600]\ttraining's rmse: 0.724637\tvalid_1's rmse: 0.776978\n",
      "[1700]\ttraining's rmse: 0.718034\tvalid_1's rmse: 0.773264\n",
      "[1800]\ttraining's rmse: 0.711475\tvalid_1's rmse: 0.76997\n",
      "[1900]\ttraining's rmse: 0.704469\tvalid_1's rmse: 0.765391\n",
      "[2000]\ttraining's rmse: 0.698516\tvalid_1's rmse: 0.762357\n",
      "[2100]\ttraining's rmse: 0.692218\tvalid_1's rmse: 0.759023\n",
      "[2200]\ttraining's rmse: 0.686741\tvalid_1's rmse: 0.756328\n",
      "[2300]\ttraining's rmse: 0.681624\tvalid_1's rmse: 0.753852\n",
      "[2400]\ttraining's rmse: 0.677022\tvalid_1's rmse: 0.751948\n",
      "[2500]\ttraining's rmse: 0.671843\tvalid_1's rmse: 0.749459\n",
      "[2600]\ttraining's rmse: 0.667135\tvalid_1's rmse: 0.747326\n",
      "[2700]\ttraining's rmse: 0.662754\tvalid_1's rmse: 0.74549\n",
      "[2800]\ttraining's rmse: 0.658393\tvalid_1's rmse: 0.74371\n",
      "[2900]\ttraining's rmse: 0.654072\tvalid_1's rmse: 0.742077\n",
      "[3000]\ttraining's rmse: 0.649853\tvalid_1's rmse: 0.740019\n",
      "Did not meet early stopping. Best iteration is:\n",
      "[3000]\ttraining's rmse: 0.649853\tvalid_1's rmse: 0.740019\n",
      "Training model for site 15\n"
     ]
    },
    {
     "name": "stderr",
     "output_type": "stream",
     "text": [
      "/opt/conda/lib/python3.6/site-packages/pandas/core/frame.py:4117: SettingWithCopyWarning:\n",
      "\n",
      "\n",
      "A value is trying to be set on a copy of a slice from a DataFrame\n",
      "\n",
      "See the caveats in the documentation: http://pandas.pydata.org/pandas-docs/stable/user_guide/indexing.html#returning-a-view-versus-a-copy\n",
      "\n"
     ]
    },
    {
     "name": "stdout",
     "output_type": "stream",
     "text": [
      "(1622363, 15)\n",
      "(1622363,)\n",
      "(180263, 15)\n",
      "(180263,)\n"
     ]
    },
    {
     "name": "stderr",
     "output_type": "stream",
     "text": [
      "/opt/conda/lib/python3.6/site-packages/lightgbm/basic.py:1291: UserWarning:\n",
      "\n",
      "Using categorical_feature in Dataset.\n",
      "\n"
     ]
    },
    {
     "name": "stdout",
     "output_type": "stream",
     "text": [
      "Training until validation scores don't improve for 100 rounds\n",
      "[100]\ttraining's rmse: 0.486595\tvalid_1's rmse: 0.492414\n",
      "[200]\ttraining's rmse: 0.45135\tvalid_1's rmse: 0.461416\n",
      "[300]\ttraining's rmse: 0.432651\tvalid_1's rmse: 0.447769\n",
      "[400]\ttraining's rmse: 0.418361\tvalid_1's rmse: 0.439316\n",
      "[500]\ttraining's rmse: 0.40728\tvalid_1's rmse: 0.433611\n",
      "[600]\ttraining's rmse: 0.397031\tvalid_1's rmse: 0.428944\n",
      "[700]\ttraining's rmse: 0.38983\tvalid_1's rmse: 0.425656\n",
      "[800]\ttraining's rmse: 0.383748\tvalid_1's rmse: 0.42301\n",
      "[900]\ttraining's rmse: 0.377769\tvalid_1's rmse: 0.421029\n",
      "[1000]\ttraining's rmse: 0.371626\tvalid_1's rmse: 0.418907\n",
      "[1100]\ttraining's rmse: 0.365556\tvalid_1's rmse: 0.416664\n",
      "[1200]\ttraining's rmse: 0.360998\tvalid_1's rmse: 0.415585\n",
      "[1300]\ttraining's rmse: 0.356275\tvalid_1's rmse: 0.415029\n",
      "[1400]\ttraining's rmse: 0.351604\tvalid_1's rmse: 0.413878\n",
      "[1500]\ttraining's rmse: 0.346976\tvalid_1's rmse: 0.413102\n",
      "[1600]\ttraining's rmse: 0.342619\tvalid_1's rmse: 0.412202\n",
      "[1700]\ttraining's rmse: 0.339037\tvalid_1's rmse: 0.41146\n",
      "[1800]\ttraining's rmse: 0.335343\tvalid_1's rmse: 0.4106\n",
      "[1900]\ttraining's rmse: 0.331728\tvalid_1's rmse: 0.410015\n",
      "[2000]\ttraining's rmse: 0.328308\tvalid_1's rmse: 0.409599\n",
      "[2100]\ttraining's rmse: 0.324818\tvalid_1's rmse: 0.408994\n",
      "[2200]\ttraining's rmse: 0.32181\tvalid_1's rmse: 0.408583\n",
      "[2300]\ttraining's rmse: 0.31897\tvalid_1's rmse: 0.408047\n",
      "[2400]\ttraining's rmse: 0.315955\tvalid_1's rmse: 0.407483\n",
      "[2500]\ttraining's rmse: 0.312886\tvalid_1's rmse: 0.407009\n",
      "[2600]\ttraining's rmse: 0.310202\tvalid_1's rmse: 0.406539\n",
      "[2700]\ttraining's rmse: 0.30757\tvalid_1's rmse: 0.406185\n",
      "[2800]\ttraining's rmse: 0.305099\tvalid_1's rmse: 0.405985\n",
      "[2900]\ttraining's rmse: 0.302604\tvalid_1's rmse: 0.406024\n",
      "[3000]\ttraining's rmse: 0.300249\tvalid_1's rmse: 0.405667\n",
      "Did not meet early stopping. Best iteration is:\n",
      "[3000]\ttraining's rmse: 0.300249\tvalid_1's rmse: 0.405667\n"
     ]
    },
    {
     "data": {
      "image/png": "[encoded data removed]",
      "text/plain": [
       "<Figure size 720x432 with 1 Axes>"
      ]
     },
     "metadata": {
      "needs_background": "light"
     },
     "output_type": "display_data"
    }
   ],
   "source": [
    "models = []\n",
    "\n",
    "for i in range(16):\n",
    "    models.append(train_site_model(indexed_train, i))"
   ]
  },
  {
   "cell_type": "code",
   "execution_count": 21,
   "metadata": {},
   "outputs": [],
   "source": [
    "Submission = pd.DataFrame(test.index, columns=['row_id'])\n",
    "Submission['site_id'] = test['site_id']"
   ]
  },
  {
   "cell_type": "code",
   "execution_count": 22,
   "metadata": {},
   "outputs": [],
   "source": [
    "test.set_index(['site_id'], inplace = True)\n",
    "Submission.set_index(['site_id'], inplace=True)"
   ]
  },
  {
   "cell_type": "code",
   "execution_count": 23,
   "metadata": {},
   "outputs": [
    {
     "name": "stdout",
     "output_type": "stream",
     "text": [
      "Predicting for site 0\n",
      "Predicting for site 1\n",
      "Predicting for site 2\n",
      "Predicting for site 3\n",
      "Predicting for site 4\n",
      "Predicting for site 5\n",
      "Predicting for site 6\n",
      "Predicting for site 7\n",
      "Predicting for site 8\n",
      "Predicting for site 9\n",
      "Predicting for site 10\n",
      "Predicting for site 11\n",
      "Predicting for site 12\n",
      "Predicting for site 13\n",
      "Predicting for site 14\n",
      "Predicting for site 15\n",
      "CPU times: user 3h 35min 59s, sys: 27.8 s, total: 3h 36min 27s\n",
      "Wall time: 1h 51min 36s\n"
     ]
    }
   ],
   "source": [
    "%%time\n",
    "# Couldn't just set them directly to the Submission dataframe because it complains about unmatching lengths, even though they are totally the same length grrr\n",
    "Predictions = pd.Series(np.zeros(test.shape[0]), test.index)\n",
    "for i in range(16):\n",
    "    print(\"Predicting for site\", i)\n",
    "    Predictions.loc[i] = np.expm1(models[i].predict(test.loc[i]))\n",
    "Submission['meter_reading'] = Predictions"
   ]
  },
  {
   "cell_type": "code",
   "execution_count": 24,
   "metadata": {},
   "outputs": [
    {
     "data": {
      "text/html": [
       "<div>\n",
       "<style scoped>\n",
       "    .dataframe tbody tr th:only-of-type {\n",
       "        vertical-align: middle;\n",
       "    }\n",
       "\n",
       "    .dataframe tbody tr th {\n",
       "        vertical-align: top;\n",
       "    }\n",
       "\n",
       "    .dataframe thead th {\n",
       "        text-align: right;\n",
       "    }\n",
       "</style>\n",
       "<table border=\"1\" class=\"dataframe\">\n",
       "  <thead>\n",
       "    <tr style=\"text-align: right;\">\n",
       "      <th></th>\n",
       "      <th>row_id</th>\n",
       "      <th>meter_reading</th>\n",
       "    </tr>\n",
       "    <tr>\n",
       "      <th>site_id</th>\n",
       "      <th></th>\n",
       "      <th></th>\n",
       "    </tr>\n",
       "  </thead>\n",
       "  <tbody>\n",
       "    <tr>\n",
       "      <th>0</th>\n",
       "      <td>0</td>\n",
       "      <td>149.698596</td>\n",
       "    </tr>\n",
       "    <tr>\n",
       "      <th>0</th>\n",
       "      <td>1</td>\n",
       "      <td>68.732275</td>\n",
       "    </tr>\n",
       "    <tr>\n",
       "      <th>0</th>\n",
       "      <td>2</td>\n",
       "      <td>6.506648</td>\n",
       "    </tr>\n",
       "    <tr>\n",
       "      <th>0</th>\n",
       "      <td>3</td>\n",
       "      <td>229.950667</td>\n",
       "    </tr>\n",
       "    <tr>\n",
       "      <th>0</th>\n",
       "      <td>4</td>\n",
       "      <td>1363.710670</td>\n",
       "    </tr>\n",
       "  </tbody>\n",
       "</table>\n",
       "</div>"
      ],
      "text/plain": [
       "         row_id  meter_reading\n",
       "site_id                       \n",
       "0             0     149.698596\n",
       "0             1      68.732275\n",
       "0             2       6.506648\n",
       "0             3     229.950667\n",
       "0             4    1363.710670"
      ]
     },
     "execution_count": 24,
     "metadata": {},
     "output_type": "execute_result"
    }
   ],
   "source": [
    "Submission.head()"
   ]
  },
  {
   "cell_type": "code",
   "execution_count": 25,
   "metadata": {},
   "outputs": [],
   "source": [
    "Submission['meter_reading'].clip(lower=0,upper=None,inplace=True)\n",
    "Submission.to_csv(\"model_per_site.csv\",index=None)"
   ]
  },
  {
   "cell_type": "code",
   "execution_count": 26,
   "metadata": {},
   "outputs": [
    {
     "data": {
      "text/html": [
       "<a href='model_per_site.csv' target='_blank'>model_per_site.csv</a><br>"
      ],
      "text/plain": [
       "/kaggle/working/model_per_site.csv"
      ]
     },
     "execution_count": 26,
     "metadata": {},
     "output_type": "execute_result"
    }
   ],
   "source": [
    "from IPython.display import FileLink\n",
    "FileLink('model_per_site.csv')"
   ]
  },
  {
   "cell_type": "code",
   "execution_count": 27,
   "metadata": {},
   "outputs": [
    {
     "data": {
      "text/plain": [
       "(41697600, 2)"
      ]
     },
     "execution_count": 27,
     "metadata": {},
     "output_type": "execute_result"
    }
   ],
   "source": [
    "Submission.shape"
   ]
  }
 ],
 "metadata": {
  "kernelspec": {
   "display_name": "Python 3",
   "language": "python",
   "name": "python3"
  },
  "language_info": {
   "codemirror_mode": {
    "name": "ipython",
    "version": 3
   },
   "file_extension": ".py",
   "mimetype": "text/x-python",
   "name": "python",
   "nbconvert_exporter": "python",
   "pygments_lexer": "ipython3",
   "version": "3.6.6"
  }
 },
 "nbformat": 4,
 "nbformat_minor": 1
}
