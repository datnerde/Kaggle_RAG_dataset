{
 "cells": [
  {
   "cell_type": "markdown",
   "metadata": {},
   "source": [
    "# LGB starter for R"
   ]
  },
  {
   "cell_type": "markdown",
   "metadata": {},
   "source": [
    "This is a minimal kernel without time series tuning etc. and serves as a starting point for more fancy models."
   ]
  },
  {
   "cell_type": "markdown",
   "metadata": {},
   "source": [
    "## Packages\n",
    "\n",
    "Let's load the usual suspects first."
   ]
  },
  {
   "cell_type": "code",
   "execution_count": 1,
   "metadata": {},
   "outputs": [
    {
     "name": "stderr",
     "output_type": "stream",
     "text": [
      "── \u001b[1mAttaching packages\u001b[22m ─────────────────────────────────────── tidyverse 1.2.1 ──\n",
      "\n",
      "\u001b[32m✔\u001b[39m \u001b[34mggplot2\u001b[39m 3.2.1.\u001b[31m9000\u001b[39m     \u001b[32m✔\u001b[39m \u001b[34mpurrr  \u001b[39m 0.3.2     \n",
      "\u001b[32m✔\u001b[39m \u001b[34mtibble \u001b[39m 2.1.3          \u001b[32m✔\u001b[39m \u001b[34mdplyr  \u001b[39m 0.8.3     \n",
      "\u001b[32m✔\u001b[39m \u001b[34mtidyr  \u001b[39m 1.0.0          \u001b[32m✔\u001b[39m \u001b[34mstringr\u001b[39m 1.4.0     \n",
      "\u001b[32m✔\u001b[39m \u001b[34mreadr  \u001b[39m 1.3.1          \u001b[32m✔\u001b[39m \u001b[34mforcats\u001b[39m 0.4.0     \n",
      "\n",
      "── \u001b[1mConflicts\u001b[22m ────────────────────────────────────────── tidyverse_conflicts() ──\n",
      "\u001b[31m✖\u001b[39m \u001b[34mdplyr\u001b[39m::\u001b[32mbetween()\u001b[39m   masks \u001b[34mdata.table\u001b[39m::between()\n",
      "\u001b[31m✖\u001b[39m \u001b[34mdplyr\u001b[39m::\u001b[32mfilter()\u001b[39m    masks \u001b[34mstats\u001b[39m::filter()\n",
      "\u001b[31m✖\u001b[39m \u001b[34mdplyr\u001b[39m::\u001b[32mfirst()\u001b[39m     masks \u001b[34mdata.table\u001b[39m::first()\n",
      "\u001b[31m✖\u001b[39m \u001b[34mdplyr\u001b[39m::\u001b[32mlag()\u001b[39m       masks \u001b[34mstats\u001b[39m::lag()\n",
      "\u001b[31m✖\u001b[39m \u001b[34mdplyr\u001b[39m::\u001b[32mlast()\u001b[39m      masks \u001b[34mdata.table\u001b[39m::last()\n",
      "\u001b[31m✖\u001b[39m \u001b[34mpurrr\u001b[39m::\u001b[32mtranspose()\u001b[39m masks \u001b[34mdata.table\u001b[39m::transpose()\n",
      "\n",
      "Loading required package: lattice\n",
      "\n",
      "\n",
      "Attaching package: ‘caret’\n",
      "\n",
      "\n",
      "The following object is masked from ‘package:purrr’:\n",
      "\n",
      "    lift\n",
      "\n",
      "\n",
      "The following object is masked from ‘package:httr’:\n",
      "\n",
      "    progress\n",
      "\n",
      "\n",
      "Loading required package: R6\n",
      "\n",
      "\n",
      "Attaching package: ‘lightgbm’\n",
      "\n",
      "\n",
      "The following object is masked from ‘package:dplyr’:\n",
      "\n",
      "    slice\n",
      "\n",
      "\n"
     ]
    }
   ],
   "source": [
    "set.seed(15)\n",
    "library(data.table)\n",
    "library(tidyverse)\n",
    "library(caret)\n",
    "library(lightgbm)"
   ]
  },
  {
   "cell_type": "markdown",
   "metadata": {},
   "source": [
    "## Import\n",
    "\n",
    "Next, we load the data into a list.\n"
   ]
  },
  {
   "cell_type": "code",
   "execution_count": 2,
   "metadata": {},
   "outputs": [
    {
     "data": {
      "text/html": [
       "<dl>\n",
       "\t<dt>$building_metadata</dt>\n",
       "\t\t<dd><ol class=list-inline>\n",
       "\t<li>1449</li>\n",
       "\t<li>6</li>\n",
       "</ol>\n",
       "</dd>\n",
       "\t<dt>$sample_submission</dt>\n",
       "\t\t<dd><ol class=list-inline>\n",
       "\t<li>41697600</li>\n",
       "\t<li>2</li>\n",
       "</ol>\n",
       "</dd>\n",
       "\t<dt>$test</dt>\n",
       "\t\t<dd><ol class=list-inline>\n",
       "\t<li>41697600</li>\n",
       "\t<li>4</li>\n",
       "</ol>\n",
       "</dd>\n",
       "\t<dt>$train</dt>\n",
       "\t\t<dd><ol class=list-inline>\n",
       "\t<li>20216100</li>\n",
       "\t<li>4</li>\n",
       "</ol>\n",
       "</dd>\n",
       "\t<dt>$weather_test</dt>\n",
       "\t\t<dd><ol class=list-inline>\n",
       "\t<li>277243</li>\n",
       "\t<li>9</li>\n",
       "</ol>\n",
       "</dd>\n",
       "\t<dt>$weather_train</dt>\n",
       "\t\t<dd><ol class=list-inline>\n",
       "\t<li>139773</li>\n",
       "\t<li>9</li>\n",
       "</ol>\n",
       "</dd>\n",
       "</dl>\n"
      ],
      "text/latex": [
       "\\begin{description}\n",
       "\\item[\\$building\\_metadata] \\begin{enumerate*}\n",
       "\\item 1449\n",
       "\\item 6\n",
       "\\end{enumerate*}\n",
       "\n",
       "\\item[\\$sample\\_submission] \\begin{enumerate*}\n",
       "\\item 41697600\n",
       "\\item 2\n",
       "\\end{enumerate*}\n",
       "\n",
       "\\item[\\$test] \\begin{enumerate*}\n",
       "\\item 41697600\n",
       "\\item 4\n",
       "\\end{enumerate*}\n",
       "\n",
       "\\item[\\$train] \\begin{enumerate*}\n",
       "\\item 20216100\n",
       "\\item 4\n",
       "\\end{enumerate*}\n",
       "\n",
       "\\item[\\$weather\\_test] \\begin{enumerate*}\n",
       "\\item 277243\n",
       "\\item 9\n",
       "\\end{enumerate*}\n",
       "\n",
       "\\item[\\$weather\\_train] \\begin{enumerate*}\n",
       "\\item 139773\n",
       "\\item 9\n",
       "\\end{enumerate*}\n",
       "\n",
       "\\end{description}\n"
      ],
      "text/markdown": [
       "$building_metadata\n",
       ":   1. 1449\n",
       "2. 6\n",
       "\n",
       "\n",
       "\n",
       "$sample_submission\n",
       ":   1. 41697600\n",
       "2. 2\n",
       "\n",
       "\n",
       "\n",
       "$test\n",
       ":   1. 41697600\n",
       "2. 4\n",
       "\n",
       "\n",
       "\n",
       "$train\n",
       ":   1. 20216100\n",
       "2. 4\n",
       "\n",
       "\n",
       "\n",
       "$weather_test\n",
       ":   1. 277243\n",
       "2. 9\n",
       "\n",
       "\n",
       "\n",
       "$weather_train\n",
       ":   1. 139773\n",
       "2. 9\n",
       "\n",
       "\n",
       "\n",
       "\n",
       "\n"
      ],
      "text/plain": [
       "$building_metadata\n",
       "[1] 1449    6\n",
       "\n",
       "$sample_submission\n",
       "[1] 41697600        2\n",
       "\n",
       "$test\n",
       "[1] 41697600        4\n",
       "\n",
       "$train\n",
       "[1] 20216100        4\n",
       "\n",
       "$weather_test\n",
       "[1] 277243      9\n",
       "\n",
       "$weather_train\n",
       "[1] 139773      9\n"
      ]
     },
     "metadata": {},
     "output_type": "display_data"
    }
   ],
   "source": [
    "path <- \"../input/ashrae-energy-prediction\"\n",
    "all_files <- list.files(path)\n",
    "raw_list <- lapply(file.path(path, all_files), fread)\n",
    "names(raw_list) <- gsub(\"(.*)\\\\.csv\", \"\\\\1\", all_files)\n",
    "lapply(raw_list, dim)"
   ]
  },
  {
   "cell_type": "markdown",
   "metadata": {},
   "source": [
    "## Data preparation \n",
    "\n",
    "We join the data and extract some time features. Since we need to repeat the same for the test data, we wrap the steps into a function."
   ]
  },
  {
   "cell_type": "code",
   "execution_count": 3,
   "metadata": {
    "_execution_state": "idle",
    "_uuid": "051d70d956493feee0c6d64651c6a088724dca2a"
   },
   "outputs": [
    {
     "data": {
      "text/html": [
       "<table>\n",
       "<caption>A data.frame: 6 × 19</caption>\n",
       "<thead>\n",
       "\t<tr><th></th><th scope=col>building_id</th><th scope=col>meter</th><th scope=col>meter_reading</th><th scope=col>site_id</th><th scope=col>primary_use</th><th scope=col>square_feet</th><th scope=col>year_built</th><th scope=col>floor_count</th><th scope=col>air_temperature</th><th scope=col>cloud_coverage</th><th scope=col>dew_temperature</th><th scope=col>precip_depth_1_hr</th><th scope=col>sea_level_pressure</th><th scope=col>wind_direction</th><th scope=col>wind_speed</th><th scope=col>hour</th><th scope=col>month</th><th scope=col>weekday</th><th scope=col>is_holiday</th></tr>\n",
       "\t<tr><th></th><th scope=col>&lt;int&gt;</th><th scope=col>&lt;int&gt;</th><th scope=col>&lt;dbl&gt;</th><th scope=col>&lt;int&gt;</th><th scope=col>&lt;chr&gt;</th><th scope=col>&lt;dbl&gt;</th><th scope=col>&lt;int&gt;</th><th scope=col>&lt;int&gt;</th><th scope=col>&lt;dbl&gt;</th><th scope=col>&lt;dbl&gt;</th><th scope=col>&lt;dbl&gt;</th><th scope=col>&lt;dbl&gt;</th><th scope=col>&lt;dbl&gt;</th><th scope=col>&lt;dbl&gt;</th><th scope=col>&lt;dbl&gt;</th><th scope=col>&lt;int&gt;</th><th scope=col>&lt;dbl&gt;</th><th scope=col>&lt;dbl&gt;</th><th scope=col>&lt;dbl&gt;</th></tr>\n",
       "</thead>\n",
       "<tbody>\n",
       "\t<tr><th scope=row>1</th><td>0</td><td>0</td><td>0</td><td>0</td><td>Education</td><td> 8.913550</td><td>2008</td><td>NA</td><td>25</td><td>6</td><td>20</td><td>NA</td><td>1019.7</td><td>0</td><td>0</td><td>0</td><td>1</td><td>6</td><td>1</td></tr>\n",
       "\t<tr><th scope=row>2</th><td>1</td><td>0</td><td>0</td><td>0</td><td>Education</td><td> 7.908387</td><td>2004</td><td>NA</td><td>25</td><td>6</td><td>20</td><td>NA</td><td>1019.7</td><td>0</td><td>0</td><td>0</td><td>1</td><td>6</td><td>1</td></tr>\n",
       "\t<tr><th scope=row>3</th><td>2</td><td>0</td><td>0</td><td>0</td><td>Education</td><td> 8.589700</td><td>1991</td><td>NA</td><td>25</td><td>6</td><td>20</td><td>NA</td><td>1019.7</td><td>0</td><td>0</td><td>0</td><td>1</td><td>6</td><td>1</td></tr>\n",
       "\t<tr><th scope=row>4</th><td>3</td><td>0</td><td>0</td><td>0</td><td>Education</td><td>10.072597</td><td>2002</td><td>NA</td><td>25</td><td>6</td><td>20</td><td>NA</td><td>1019.7</td><td>0</td><td>0</td><td>0</td><td>1</td><td>6</td><td>1</td></tr>\n",
       "\t<tr><th scope=row>5</th><td>4</td><td>0</td><td>0</td><td>0</td><td>Education</td><td>11.666565</td><td>1975</td><td>NA</td><td>25</td><td>6</td><td>20</td><td>NA</td><td>1019.7</td><td>0</td><td>0</td><td>0</td><td>1</td><td>6</td><td>1</td></tr>\n",
       "\t<tr><th scope=row>6</th><td>5</td><td>0</td><td>0</td><td>0</td><td>Education</td><td> 8.987197</td><td>2000</td><td>NA</td><td>25</td><td>6</td><td>20</td><td>NA</td><td>1019.7</td><td>0</td><td>0</td><td>0</td><td>1</td><td>6</td><td>1</td></tr>\n",
       "</tbody>\n",
       "</table>\n"
      ],
      "text/latex": [
       "A data.frame: 6 × 19\n",
       "\\begin{tabular}{r|lllllllllllllllllll}\n",
       "  & building\\_id & meter & meter\\_reading & site\\_id & primary\\_use & square\\_feet & year\\_built & floor\\_count & air\\_temperature & cloud\\_coverage & dew\\_temperature & precip\\_depth\\_1\\_hr & sea\\_level\\_pressure & wind\\_direction & wind\\_speed & hour & month & weekday & is\\_holiday\\\\\n",
       "  & <int> & <int> & <dbl> & <int> & <chr> & <dbl> & <int> & <int> & <dbl> & <dbl> & <dbl> & <dbl> & <dbl> & <dbl> & <dbl> & <int> & <dbl> & <dbl> & <dbl>\\\\\n",
       "\\hline\n",
       "\t1 & 0 & 0 & 0 & 0 & Education &  8.913550 & 2008 & NA & 25 & 6 & 20 & NA & 1019.7 & 0 & 0 & 0 & 1 & 6 & 1\\\\\n",
       "\t2 & 1 & 0 & 0 & 0 & Education &  7.908387 & 2004 & NA & 25 & 6 & 20 & NA & 1019.7 & 0 & 0 & 0 & 1 & 6 & 1\\\\\n",
       "\t3 & 2 & 0 & 0 & 0 & Education &  8.589700 & 1991 & NA & 25 & 6 & 20 & NA & 1019.7 & 0 & 0 & 0 & 1 & 6 & 1\\\\\n",
       "\t4 & 3 & 0 & 0 & 0 & Education & 10.072597 & 2002 & NA & 25 & 6 & 20 & NA & 1019.7 & 0 & 0 & 0 & 1 & 6 & 1\\\\\n",
       "\t5 & 4 & 0 & 0 & 0 & Education & 11.666565 & 1975 & NA & 25 & 6 & 20 & NA & 1019.7 & 0 & 0 & 0 & 1 & 6 & 1\\\\\n",
       "\t6 & 5 & 0 & 0 & 0 & Education &  8.987197 & 2000 & NA & 25 & 6 & 20 & NA & 1019.7 & 0 & 0 & 0 & 1 & 6 & 1\\\\\n",
       "\\end{tabular}\n"
      ],
      "text/markdown": [
       "\n",
       "A data.frame: 6 × 19\n",
       "\n",
       "| <!--/--> | building_id &lt;int&gt; | meter &lt;int&gt; | meter_reading &lt;dbl&gt; | site_id &lt;int&gt; | primary_use &lt;chr&gt; | square_feet &lt;dbl&gt; | year_built &lt;int&gt; | floor_count &lt;int&gt; | air_temperature &lt;dbl&gt; | cloud_coverage &lt;dbl&gt; | dew_temperature &lt;dbl&gt; | precip_depth_1_hr &lt;dbl&gt; | sea_level_pressure &lt;dbl&gt; | wind_direction &lt;dbl&gt; | wind_speed &lt;dbl&gt; | hour &lt;int&gt; | month &lt;dbl&gt; | weekday &lt;dbl&gt; | is_holiday &lt;dbl&gt; |\n",
       "|---|---|---|---|---|---|---|---|---|---|---|---|---|---|---|---|---|---|---|---|\n",
       "| 1 | 0 | 0 | 0 | 0 | Education |  8.913550 | 2008 | NA | 25 | 6 | 20 | NA | 1019.7 | 0 | 0 | 0 | 1 | 6 | 1 |\n",
       "| 2 | 1 | 0 | 0 | 0 | Education |  7.908387 | 2004 | NA | 25 | 6 | 20 | NA | 1019.7 | 0 | 0 | 0 | 1 | 6 | 1 |\n",
       "| 3 | 2 | 0 | 0 | 0 | Education |  8.589700 | 1991 | NA | 25 | 6 | 20 | NA | 1019.7 | 0 | 0 | 0 | 1 | 6 | 1 |\n",
       "| 4 | 3 | 0 | 0 | 0 | Education | 10.072597 | 2002 | NA | 25 | 6 | 20 | NA | 1019.7 | 0 | 0 | 0 | 1 | 6 | 1 |\n",
       "| 5 | 4 | 0 | 0 | 0 | Education | 11.666565 | 1975 | NA | 25 | 6 | 20 | NA | 1019.7 | 0 | 0 | 0 | 1 | 6 | 1 |\n",
       "| 6 | 5 | 0 | 0 | 0 | Education |  8.987197 | 2000 | NA | 25 | 6 | 20 | NA | 1019.7 | 0 | 0 | 0 | 1 | 6 | 1 |\n",
       "\n"
      ],
      "text/plain": [
       "  building_id meter meter_reading site_id primary_use square_feet year_built\n",
       "1 0           0     0             0       Education    8.913550   2008      \n",
       "2 1           0     0             0       Education    7.908387   2004      \n",
       "3 2           0     0             0       Education    8.589700   1991      \n",
       "4 3           0     0             0       Education   10.072597   2002      \n",
       "5 4           0     0             0       Education   11.666565   1975      \n",
       "6 5           0     0             0       Education    8.987197   2000      \n",
       "  floor_count air_temperature cloud_coverage dew_temperature precip_depth_1_hr\n",
       "1 NA          25              6              20              NA               \n",
       "2 NA          25              6              20              NA               \n",
       "3 NA          25              6              20              NA               \n",
       "4 NA          25              6              20              NA               \n",
       "5 NA          25              6              20              NA               \n",
       "6 NA          25              6              20              NA               \n",
       "  sea_level_pressure wind_direction wind_speed hour month weekday is_holiday\n",
       "1 1019.7             0              0          0    1     6       1         \n",
       "2 1019.7             0              0          0    1     6       1         \n",
       "3 1019.7             0              0          0    1     6       1         \n",
       "4 1019.7             0              0          0    1     6       1         \n",
       "5 1019.7             0              0          0    1     6       1         \n",
       "6 1019.7             0              0          0    1     6       1         "
      ]
     },
     "metadata": {},
     "output_type": "display_data"
    }
   ],
   "source": [
    "# Public holiday\n",
    "holidays <- lubridate::as_datetime(\n",
    "  c(\"2016-01-01\", \"2016-01-18\", \"2016-02-15\", \n",
    "    \"2016-05-30\", \"2016-07-04\", \"2016-09-05\", \n",
    "    \"2016-10-10\", \"2016-11-11\", \"2016-11-24\",\n",
    "    \"2016-12-26\", \"2017-01-02\", \"2017-01-16\",\n",
    "    \"2017-02-20\", \"2017-05-29\", \"2017-07-04\", \n",
    "    \"2017-09-04\", \"2017-10-09\", \"2017-11-10\", \n",
    "    \"2017-11-23\", \"2017-12-25\", \"2018-01-01\", \n",
    "    \"2018-01-15\", \"2018-02-19\", \"2018-05-28\",\n",
    "    \"2018-07-04\", \"2018-09-03\", \"2018-10-08\", \n",
    "    \"2018-11-12\", \"2018-11-22\", \"2018-12-25\", \n",
    "    \"2019-01-01\"))\n",
    "\n",
    "prepfun <- function(base, weather, building = raw_list$building_metadata) {\n",
    "   out <- base %>% \n",
    "      left_join(building, by = \"building_id\") %>% \n",
    "      left_join(weather, by = c(\"site_id\", \"timestamp\")) %>% \n",
    "      mutate(timestamp = lubridate::as_datetime(timestamp),\n",
    "             hour = lubridate::hour(timestamp),\n",
    "             month = lubridate::month(timestamp),\n",
    "             weekday = lubridate::wday(timestamp),\n",
    "             is_holiday = (timestamp %in% holidays) + 0,\n",
    "             square_feet = log(square_feet)) %>% \n",
    "      select(-timestamp)\n",
    "}\n",
    "\n",
    "# Let's apply it to train\n",
    "train <- with(raw_list, prepfun(train, weather_train))\n",
    "head(train)\n",
    "\n",
    "# Output and input featuers\n",
    "y <- \"meter_reading\"\n",
    "x <- c(\"square_feet\", \"building_id\", \"meter\", \"air_temperature\", \"dew_temperature\", \n",
    "       \"primary_use\", \"year_built\", \"hour\", \"site_id\", \"floor_count\", \n",
    "       \"weekday\", \"cloud_coverage\", \"precip_depth_1_hr\")\n",
    "x_cat <- c(\"building_id\", \"meter\", \"primary_use\", \"site_id\")\n",
    "\n",
    "\n",
    "# Transform response\n",
    "train[[y]] <- log1p(train[[y]])"
   ]
  },
  {
   "cell_type": "markdown",
   "metadata": {},
   "source": [
    "## Data split\n",
    "\n",
    "The next step is to split the data set into train and valid."
   ]
  },
  {
   "cell_type": "code",
   "execution_count": 4,
   "metadata": {},
   "outputs": [],
   "source": [
    "inds <- caret::groupKFold(group = train[[\"month\"]], k = 10)\n",
    "valid <- train[-inds[[1]], c(x, y)]\n",
    "train <- train[inds[[1]], c(x, y)]"
   ]
  },
  {
   "cell_type": "markdown",
   "metadata": {},
   "source": [
    "## Fit model\n",
    "\n",
    "Now we are ready to fit a basic tree booster to the data.\n"
   ]
  },
  {
   "cell_type": "code",
   "execution_count": 5,
   "metadata": {},
   "outputs": [
    {
     "name": "stdout",
     "output_type": "stream",
     "text": [
      "[1]:\ttrain's l2:4.00621\tvalid's l2:4.43037 \n",
      "[101]:\ttrain's l2:1.55522\tvalid's l2:1.8164 \n",
      "[201]:\ttrain's l2:1.30534\tvalid's l2:1.60877 \n",
      "[301]:\ttrain's l2:1.17657\tvalid's l2:1.50842 \n",
      "[401]:\ttrain's l2:1.10001\tvalid's l2:1.46161 \n",
      "[501]:\ttrain's l2:1.04724\tvalid's l2:1.4202 \n",
      "[601]:\ttrain's l2:1.00716\tvalid's l2:1.39588 \n",
      "[701]:\ttrain's l2:0.968704\tvalid's l2:1.38738 \n",
      "[801]:\ttrain's l2:0.939047\tvalid's l2:1.37781 \n",
      "[901]:\ttrain's l2:0.915133\tvalid's l2:1.3648 \n",
      "[1001]:\ttrain's l2:0.892649\tvalid's l2:1.35745 \n",
      "[1101]:\ttrain's l2:0.873971\tvalid's l2:1.35288 \n",
      "[1201]:\ttrain's l2:0.857764\tvalid's l2:1.34561 \n",
      "[1301]:\ttrain's l2:0.844277\tvalid's l2:1.34695 \n"
     ]
    }
   ],
   "source": [
    "# lgb data wrapper\n",
    "prep_lgb <- function(data, x) {\n",
    "  data %>% \n",
    "    select_at(x) %>% \n",
    "    mutate_if(Negate(is.numeric), function(z) as.integer(as.factor(z))) %>% \n",
    "    data.matrix()\n",
    "}\n",
    "dtrain <- lgb.Dataset(prep_lgb(train, x), label = train[[y]])\n",
    "dvalid <- lgb.Dataset(prep_lgb(valid, x), label = valid[[y]])\n",
    " \n",
    "params <- list(learning_rate = 0.2,\n",
    "               feature_fraction = 0.85,\n",
    "               num_leaves = 40,\n",
    "               lambda = 2,\n",
    "               alpha = 0.1,\n",
    "               nthread = 4,\n",
    "               objective = \"regression\",\n",
    "               max_bin = 63)\n",
    "\n",
    "fit_lgb <- lgb.train(params = params,\n",
    "                     data = dtrain,\n",
    "                     early_stopping_rounds = 100,\n",
    "                     eval_freq = 100,\n",
    "                     valids = list(train = dtrain, valid = dvalid),\n",
    "                     nrounds = 3000)\n",
    "\n",
    "lgb.save(fit_lgb, \"lgb.csv\")\n",
    "# fit_lgb <- lgb.load(\"lgb.csv\")"
   ]
  },
  {
   "cell_type": "markdown",
   "metadata": {},
   "source": [
    "## Make submission\n",
    "\n",
    "This step is rather painful as the test data is quite large. It will take a couple of minutes."
   ]
  },
  {
   "cell_type": "code",
   "execution_count": 6,
   "metadata": {},
   "outputs": [
    {
     "data": {
      "text/html": [
       "<table>\n",
       "<caption>A matrix: 2 × 6 of type dbl</caption>\n",
       "<thead>\n",
       "\t<tr><th></th><th scope=col>used</th><th scope=col>(Mb)</th><th scope=col>gc trigger</th><th scope=col>(Mb)</th><th scope=col>max used</th><th scope=col>(Mb)</th></tr>\n",
       "</thead>\n",
       "<tbody>\n",
       "\t<tr><th scope=row>Ncells</th><td>  2288287</td><td> 122.3</td><td>  25158017</td><td>1343.6</td><td>  40797497</td><td> 2178.9</td></tr>\n",
       "\t<tr><th scope=row>Vcells</th><td>327977031</td><td>2502.3</td><td>1206685903</td><td>9206.3</td><td>1500588846</td><td>11448.6</td></tr>\n",
       "</tbody>\n",
       "</table>\n"
      ],
      "text/latex": [
       "A matrix: 2 × 6 of type dbl\n",
       "\\begin{tabular}{r|llllll}\n",
       "  & used & (Mb) & gc trigger & (Mb) & max used & (Mb)\\\\\n",
       "\\hline\n",
       "\tNcells &   2288287 &  122.3 &   25158017 & 1343.6 &   40797497 &  2178.9\\\\\n",
       "\tVcells & 327977031 & 2502.3 & 1206685903 & 9206.3 & 1500588846 & 11448.6\\\\\n",
       "\\end{tabular}\n"
      ],
      "text/markdown": [
       "\n",
       "A matrix: 2 × 6 of type dbl\n",
       "\n",
       "| <!--/--> | used | (Mb) | gc trigger | (Mb) | max used | (Mb) |\n",
       "|---|---|---|---|---|---|---|\n",
       "| Ncells |   2288287 |  122.3 |   25158017 | 1343.6 |   40797497 |  2178.9 |\n",
       "| Vcells | 327977031 | 2502.3 | 1206685903 | 9206.3 | 1500588846 | 11448.6 |\n",
       "\n"
      ],
      "text/plain": [
       "       used      (Mb)   gc trigger (Mb)   max used   (Mb)   \n",
       "Ncells   2288287  122.3   25158017 1343.6   40797497  2178.9\n",
       "Vcells 327977031 2502.3 1206685903 9206.3 1500588846 11448.6"
      ]
     },
     "metadata": {},
     "output_type": "display_data"
    }
   ],
   "source": [
    "rm(train, valid)\n",
    "raw_list$train <- NULL\n",
    "gc()\n",
    "test <- with(raw_list, prepfun(test, weather_test))\n",
    "raw_list$test <- NULL\n",
    "test <- prep_lgb(test, x = x)\n",
    "pred <- round(exp(predict(fit_lgb, test)) - 1, 4)\n",
    "\n",
    "raw_list$sample_submission[[\"meter_reading\"]] <- pmax(0, pred)\n",
    "fwrite(raw_list$sample_submission, \"submission.csv\", row.names = FALSE)"
   ]
  }
 ],
 "metadata": {
  "kernelspec": {
   "display_name": "R",
   "language": "R",
   "name": "ir"
  },
  "language_info": {
   "codemirror_mode": "r",
   "file_extension": ".r",
   "mimetype": "text/x-r-source",
   "name": "R",
   "pygments_lexer": "r",
   "version": "3.6.0"
  }
 },
 "nbformat": 4,
 "nbformat_minor": 1
}
