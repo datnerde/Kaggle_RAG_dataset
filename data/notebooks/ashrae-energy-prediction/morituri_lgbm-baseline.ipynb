{
 "cells": [
  {
   "cell_type": "markdown",
   "metadata": {},
   "source": [
    "This notebook is a shorter version of a great [EDA and model](https://www.kaggle.com/kulkarnivishwanath/ashrae-great-energy-predictor-iii-eda-model) notebook. It does not provide data overview, just generates the final dataframe and trains a LightGBM classifier. It can be used as a relatively quick baseline for your submission."
   ]
  },
  {
   "cell_type": "code",
   "execution_count": 1,
   "metadata": {
    "_cell_guid": "b1076dfc-b9ad-4769-8c92-a6c4dae69d19",
    "_uuid": "8f2839f25d086af736a60e9eeb907d3b93b6e0e5"
   },
   "outputs": [
    {
     "name": "stdout",
     "output_type": "stream",
     "text": [
      "/kaggle/input/ashrae-energy-prediction/train.csv\n",
      "/kaggle/input/ashrae-energy-prediction/building_metadata.csv\n",
      "/kaggle/input/ashrae-energy-prediction/sample_submission.csv\n",
      "/kaggle/input/ashrae-energy-prediction/weather_test.csv\n",
      "/kaggle/input/ashrae-energy-prediction/weather_train.csv\n",
      "/kaggle/input/ashrae-energy-prediction/test.csv\n"
     ]
    }
   ],
   "source": [
    "# This Python 3 environment comes with many helpful analytics libraries installed\n",
    "# It is defined by the kaggle/python docker image: https://github.com/kaggle/docker-python\n",
    "# For example, here's several helpful packages to load in \n",
    "\n",
    "import numpy as np # linear algebra\n",
    "import pandas as pd # data processing, CSV file I/O (e.g. pd.read_csv)\n",
    "\n",
    "# Input data files are available in the \"../input/\" directory.\n",
    "# For example, running this (by clicking run or pressing Shift+Enter) will list all files under the input directory\n",
    "\n",
    "import os\n",
    "for dirname, _, filenames in os.walk('/kaggle/input'):\n",
    "    for filename in filenames:\n",
    "        print(os.path.join(dirname, filename))\n",
    "\n",
    "# Any results you write to the current directory are saved as output."
   ]
  },
  {
   "cell_type": "markdown",
   "metadata": {},
   "source": [
    "Imports"
   ]
  },
  {
   "cell_type": "code",
   "execution_count": 2,
   "metadata": {
    "_cell_guid": "79c7e3d0-c299-4dcb-8224-4455121ee9b0",
    "_uuid": "d629ff2d2480ee46fbb7e2d37f6b5fab8052498a"
   },
   "outputs": [
    {
     "data": {
      "text/html": [
       "        <script type=\"text/javascript\">\n",
       "        window.PlotlyConfig = {MathJaxConfig: 'local'};\n",
       "        if (window.MathJax) {MathJax.Hub.Config({SVG: {font: \"STIX-Web\"}});}\n",
       "        if (typeof require !== 'undefined') {\n",
       "        require.undef(\"plotly\");\n",
       "        requirejs.config({\n",
       "            paths: {\n",
       "                'plotly': ['https://cdn.plot.ly/plotly-latest.min']\n",
       "            }\n",
       "        });\n",
       "        require(['plotly'], function(Plotly) {\n",
       "            window._Plotly = Plotly;\n",
       "        });\n",
       "        }\n",
       "        </script>\n",
       "        "
      ]
     },
     "metadata": {},
     "output_type": "display_data"
    },
    {
     "data": {
      "text/html": [
       "        <script type=\"text/javascript\">\n",
       "        window.PlotlyConfig = {MathJaxConfig: 'local'};\n",
       "        if (window.MathJax) {MathJax.Hub.Config({SVG: {font: \"STIX-Web\"}});}\n",
       "        if (typeof require !== 'undefined') {\n",
       "        require.undef(\"plotly\");\n",
       "        requirejs.config({\n",
       "            paths: {\n",
       "                'plotly': ['https://cdn.plot.ly/plotly-latest.min']\n",
       "            }\n",
       "        });\n",
       "        require(['plotly'], function(Plotly) {\n",
       "            window._Plotly = Plotly;\n",
       "        });\n",
       "        }\n",
       "        </script>\n",
       "        "
      ]
     },
     "metadata": {},
     "output_type": "display_data"
    },
    {
     "data": {
      "text/html": [
       "        <script type=\"text/javascript\">\n",
       "        window.PlotlyConfig = {MathJaxConfig: 'local'};\n",
       "        if (window.MathJax) {MathJax.Hub.Config({SVG: {font: \"STIX-Web\"}});}\n",
       "        if (typeof require !== 'undefined') {\n",
       "        require.undef(\"plotly\");\n",
       "        requirejs.config({\n",
       "            paths: {\n",
       "                'plotly': ['https://cdn.plot.ly/plotly-latest.min']\n",
       "            }\n",
       "        });\n",
       "        require(['plotly'], function(Plotly) {\n",
       "            window._Plotly = Plotly;\n",
       "        });\n",
       "        }\n",
       "        </script>\n",
       "        "
      ]
     },
     "metadata": {},
     "output_type": "display_data"
    }
   ],
   "source": [
    "import numpy as np # linear algebra\n",
    "import pandas as pd # data processing, CSV file I/O (e.g. pd.read_csv)\n",
    "import gc\n",
    "\n",
    "# matplotlib and seaborn for plotting\n",
    "import matplotlib.pyplot as plt\n",
    "\n",
    "import seaborn as sns\n",
    "import matplotlib.patches as patches\n",
    "\n",
    "from plotly import tools, subplots\n",
    "import plotly.offline as py\n",
    "py.init_notebook_mode(connected=True)\n",
    "import plotly.graph_objs as go\n",
    "import plotly.express as px\n",
    "pd.set_option('max_columns', 150)\n",
    "\n",
    "py.init_notebook_mode(connected=True)\n",
    "from plotly.offline import init_notebook_mode, iplot\n",
    "init_notebook_mode(connected=True)\n",
    "import plotly.graph_objs as go\n",
    "\n",
    "import os\n",
    "import random\n",
    "import math\n",
    "import psutil\n",
    "import pickle\n",
    "\n",
    "from sklearn.model_selection import train_test_split,KFold\n",
    "from sklearn.preprocessing import LabelEncoder"
   ]
  },
  {
   "cell_type": "markdown",
   "metadata": {},
   "source": [
    "Load the data reducing its size"
   ]
  },
  {
   "cell_type": "code",
   "execution_count": 3,
   "metadata": {},
   "outputs": [],
   "source": [
    "metadata_dtype = {'site_id':\"uint8\",'building_id':'uint16','square_feet':'float32','year_built':'float32','floor_count':\"float16\"}\n",
    "weather_dtype = {\"site_id\":\"uint8\",'air_temperature':\"float16\",'cloud_coverage':\"float16\",'dew_temperature':\"float16\",'precip_depth_1_hr':\"float16\",\n",
    "                 'sea_level_pressure':\"float32\",'wind_direction':\"float16\",'wind_speed':\"float16\"}\n",
    "train_dtype = {'meter':\"uint8\",'building_id':'uint16'}"
   ]
  },
  {
   "cell_type": "code",
   "execution_count": 4,
   "metadata": {},
   "outputs": [
    {
     "name": "stdout",
     "output_type": "stream",
     "text": [
      "Size of train_df data (20216100, 4)\n",
      "Size of weather_train_df data (139773, 9)\n",
      "Size of weather_test_df data (277243, 9)\n",
      "Size of building_meta_df data (1449, 6)\n",
      "CPU times: user 45.3 s, sys: 5.35 s, total: 50.6 s\n",
      "Wall time: 50.4 s\n"
     ]
    }
   ],
   "source": [
    "%%time\n",
    "\n",
    "weather_train = pd.read_csv(\"../input/ashrae-energy-prediction/weather_train.csv\", parse_dates=['timestamp'], dtype=weather_dtype)\n",
    "weather_test = pd.read_csv(\"../input/ashrae-energy-prediction/weather_test.csv\", parse_dates=['timestamp'], dtype=weather_dtype)\n",
    "\n",
    "metadata = pd.read_csv(\"../input/ashrae-energy-prediction/building_metadata.csv\", dtype=metadata_dtype)\n",
    "\n",
    "train = pd.read_csv(\"../input/ashrae-energy-prediction/train.csv\", parse_dates=['timestamp'], dtype=train_dtype)\n",
    "test = pd.read_csv(\"../input/ashrae-energy-prediction/test.csv\", parse_dates=['timestamp'], usecols=['building_id','meter','timestamp'], dtype=train_dtype)\n",
    "\n",
    "print('Size of train_df data', train.shape)\n",
    "print('Size of weather_train_df data', weather_train.shape)\n",
    "print('Size of weather_test_df data', weather_test.shape)\n",
    "print('Size of building_meta_df data', metadata.shape)"
   ]
  },
  {
   "cell_type": "markdown",
   "metadata": {},
   "source": [
    "Improve data readability"
   ]
  },
  {
   "cell_type": "code",
   "execution_count": 5,
   "metadata": {},
   "outputs": [],
   "source": [
    "train['meter'].replace({0:\"Electricity\",1:\"ChilledWater\",2:\"Steam\",3:\"HotWater\"},inplace=True)\n",
    "test['meter'].replace({0:\"Electricity\",1:\"ChilledWater\",2:\"Steam\",3:\"HotWater\"},inplace=True)"
   ]
  },
  {
   "cell_type": "markdown",
   "metadata": {},
   "source": [
    "Data overview"
   ]
  },
  {
   "cell_type": "code",
   "execution_count": 6,
   "metadata": {},
   "outputs": [
    {
     "data": {
      "text/html": [
       "<div>\n",
       "<style scoped>\n",
       "    .dataframe tbody tr th:only-of-type {\n",
       "        vertical-align: middle;\n",
       "    }\n",
       "\n",
       "    .dataframe tbody tr th {\n",
       "        vertical-align: top;\n",
       "    }\n",
       "\n",
       "    .dataframe thead th {\n",
       "        text-align: right;\n",
       "    }\n",
       "</style>\n",
       "<table border=\"1\" class=\"dataframe\">\n",
       "  <thead>\n",
       "    <tr style=\"text-align: right;\">\n",
       "      <th></th>\n",
       "      <th>building_id</th>\n",
       "      <th>meter</th>\n",
       "      <th>timestamp</th>\n",
       "      <th>meter_reading</th>\n",
       "    </tr>\n",
       "  </thead>\n",
       "  <tbody>\n",
       "    <tr>\n",
       "      <th>0</th>\n",
       "      <td>0</td>\n",
       "      <td>Electricity</td>\n",
       "      <td>2016-01-01</td>\n",
       "      <td>0.0</td>\n",
       "    </tr>\n",
       "    <tr>\n",
       "      <th>1</th>\n",
       "      <td>1</td>\n",
       "      <td>Electricity</td>\n",
       "      <td>2016-01-01</td>\n",
       "      <td>0.0</td>\n",
       "    </tr>\n",
       "    <tr>\n",
       "      <th>2</th>\n",
       "      <td>2</td>\n",
       "      <td>Electricity</td>\n",
       "      <td>2016-01-01</td>\n",
       "      <td>0.0</td>\n",
       "    </tr>\n",
       "    <tr>\n",
       "      <th>3</th>\n",
       "      <td>3</td>\n",
       "      <td>Electricity</td>\n",
       "      <td>2016-01-01</td>\n",
       "      <td>0.0</td>\n",
       "    </tr>\n",
       "    <tr>\n",
       "      <th>4</th>\n",
       "      <td>4</td>\n",
       "      <td>Electricity</td>\n",
       "      <td>2016-01-01</td>\n",
       "      <td>0.0</td>\n",
       "    </tr>\n",
       "  </tbody>\n",
       "</table>\n",
       "</div>"
      ],
      "text/plain": [
       "   building_id        meter  timestamp  meter_reading\n",
       "0            0  Electricity 2016-01-01            0.0\n",
       "1            1  Electricity 2016-01-01            0.0\n",
       "2            2  Electricity 2016-01-01            0.0\n",
       "3            3  Electricity 2016-01-01            0.0\n",
       "4            4  Electricity 2016-01-01            0.0"
      ]
     },
     "execution_count": 6,
     "metadata": {},
     "output_type": "execute_result"
    }
   ],
   "source": [
    "train.head()"
   ]
  },
  {
   "cell_type": "code",
   "execution_count": 7,
   "metadata": {},
   "outputs": [
    {
     "data": {
      "text/html": [
       "<div>\n",
       "<style scoped>\n",
       "    .dataframe tbody tr th:only-of-type {\n",
       "        vertical-align: middle;\n",
       "    }\n",
       "\n",
       "    .dataframe tbody tr th {\n",
       "        vertical-align: top;\n",
       "    }\n",
       "\n",
       "    .dataframe thead th {\n",
       "        text-align: right;\n",
       "    }\n",
       "</style>\n",
       "<table border=\"1\" class=\"dataframe\">\n",
       "  <thead>\n",
       "    <tr style=\"text-align: right;\">\n",
       "      <th></th>\n",
       "      <th>site_id</th>\n",
       "      <th>timestamp</th>\n",
       "      <th>air_temperature</th>\n",
       "      <th>cloud_coverage</th>\n",
       "      <th>dew_temperature</th>\n",
       "      <th>precip_depth_1_hr</th>\n",
       "      <th>sea_level_pressure</th>\n",
       "      <th>wind_direction</th>\n",
       "      <th>wind_speed</th>\n",
       "    </tr>\n",
       "  </thead>\n",
       "  <tbody>\n",
       "    <tr>\n",
       "      <th>0</th>\n",
       "      <td>0</td>\n",
       "      <td>2016-01-01 00:00:00</td>\n",
       "      <td>25.000000</td>\n",
       "      <td>6.0</td>\n",
       "      <td>20.00000</td>\n",
       "      <td>NaN</td>\n",
       "      <td>1019.700012</td>\n",
       "      <td>0.0</td>\n",
       "      <td>0.000000</td>\n",
       "    </tr>\n",
       "    <tr>\n",
       "      <th>1</th>\n",
       "      <td>0</td>\n",
       "      <td>2016-01-01 01:00:00</td>\n",
       "      <td>24.406250</td>\n",
       "      <td>NaN</td>\n",
       "      <td>21.09375</td>\n",
       "      <td>-1.0</td>\n",
       "      <td>1020.200012</td>\n",
       "      <td>70.0</td>\n",
       "      <td>1.500000</td>\n",
       "    </tr>\n",
       "    <tr>\n",
       "      <th>2</th>\n",
       "      <td>0</td>\n",
       "      <td>2016-01-01 02:00:00</td>\n",
       "      <td>22.796875</td>\n",
       "      <td>2.0</td>\n",
       "      <td>21.09375</td>\n",
       "      <td>0.0</td>\n",
       "      <td>1020.200012</td>\n",
       "      <td>0.0</td>\n",
       "      <td>0.000000</td>\n",
       "    </tr>\n",
       "    <tr>\n",
       "      <th>3</th>\n",
       "      <td>0</td>\n",
       "      <td>2016-01-01 03:00:00</td>\n",
       "      <td>21.093750</td>\n",
       "      <td>2.0</td>\n",
       "      <td>20.59375</td>\n",
       "      <td>0.0</td>\n",
       "      <td>1020.099976</td>\n",
       "      <td>0.0</td>\n",
       "      <td>0.000000</td>\n",
       "    </tr>\n",
       "    <tr>\n",
       "      <th>4</th>\n",
       "      <td>0</td>\n",
       "      <td>2016-01-01 04:00:00</td>\n",
       "      <td>20.000000</td>\n",
       "      <td>2.0</td>\n",
       "      <td>20.00000</td>\n",
       "      <td>-1.0</td>\n",
       "      <td>1020.000000</td>\n",
       "      <td>250.0</td>\n",
       "      <td>2.599609</td>\n",
       "    </tr>\n",
       "  </tbody>\n",
       "</table>\n",
       "</div>"
      ],
      "text/plain": [
       "   site_id           timestamp  air_temperature  cloud_coverage  \\\n",
       "0        0 2016-01-01 00:00:00        25.000000             6.0   \n",
       "1        0 2016-01-01 01:00:00        24.406250             NaN   \n",
       "2        0 2016-01-01 02:00:00        22.796875             2.0   \n",
       "3        0 2016-01-01 03:00:00        21.093750             2.0   \n",
       "4        0 2016-01-01 04:00:00        20.000000             2.0   \n",
       "\n",
       "   dew_temperature  precip_depth_1_hr  sea_level_pressure  wind_direction  \\\n",
       "0         20.00000                NaN         1019.700012             0.0   \n",
       "1         21.09375               -1.0         1020.200012            70.0   \n",
       "2         21.09375                0.0         1020.200012             0.0   \n",
       "3         20.59375                0.0         1020.099976             0.0   \n",
       "4         20.00000               -1.0         1020.000000           250.0   \n",
       "\n",
       "   wind_speed  \n",
       "0    0.000000  \n",
       "1    1.500000  \n",
       "2    0.000000  \n",
       "3    0.000000  \n",
       "4    2.599609  "
      ]
     },
     "execution_count": 7,
     "metadata": {},
     "output_type": "execute_result"
    }
   ],
   "source": [
    "weather_train.head()"
   ]
  },
  {
   "cell_type": "code",
   "execution_count": 8,
   "metadata": {},
   "outputs": [
    {
     "data": {
      "text/html": [
       "<div>\n",
       "<style scoped>\n",
       "    .dataframe tbody tr th:only-of-type {\n",
       "        vertical-align: middle;\n",
       "    }\n",
       "\n",
       "    .dataframe tbody tr th {\n",
       "        vertical-align: top;\n",
       "    }\n",
       "\n",
       "    .dataframe thead th {\n",
       "        text-align: right;\n",
       "    }\n",
       "</style>\n",
       "<table border=\"1\" class=\"dataframe\">\n",
       "  <thead>\n",
       "    <tr style=\"text-align: right;\">\n",
       "      <th></th>\n",
       "      <th>site_id</th>\n",
       "      <th>building_id</th>\n",
       "      <th>primary_use</th>\n",
       "      <th>square_feet</th>\n",
       "      <th>year_built</th>\n",
       "      <th>floor_count</th>\n",
       "    </tr>\n",
       "  </thead>\n",
       "  <tbody>\n",
       "    <tr>\n",
       "      <th>0</th>\n",
       "      <td>0</td>\n",
       "      <td>0</td>\n",
       "      <td>Education</td>\n",
       "      <td>7432.0</td>\n",
       "      <td>2008.0</td>\n",
       "      <td>NaN</td>\n",
       "    </tr>\n",
       "    <tr>\n",
       "      <th>1</th>\n",
       "      <td>0</td>\n",
       "      <td>1</td>\n",
       "      <td>Education</td>\n",
       "      <td>2720.0</td>\n",
       "      <td>2004.0</td>\n",
       "      <td>NaN</td>\n",
       "    </tr>\n",
       "    <tr>\n",
       "      <th>2</th>\n",
       "      <td>0</td>\n",
       "      <td>2</td>\n",
       "      <td>Education</td>\n",
       "      <td>5376.0</td>\n",
       "      <td>1991.0</td>\n",
       "      <td>NaN</td>\n",
       "    </tr>\n",
       "    <tr>\n",
       "      <th>3</th>\n",
       "      <td>0</td>\n",
       "      <td>3</td>\n",
       "      <td>Education</td>\n",
       "      <td>23685.0</td>\n",
       "      <td>2002.0</td>\n",
       "      <td>NaN</td>\n",
       "    </tr>\n",
       "    <tr>\n",
       "      <th>4</th>\n",
       "      <td>0</td>\n",
       "      <td>4</td>\n",
       "      <td>Education</td>\n",
       "      <td>116607.0</td>\n",
       "      <td>1975.0</td>\n",
       "      <td>NaN</td>\n",
       "    </tr>\n",
       "  </tbody>\n",
       "</table>\n",
       "</div>"
      ],
      "text/plain": [
       "   site_id  building_id primary_use  square_feet  year_built  floor_count\n",
       "0        0            0   Education       7432.0      2008.0          NaN\n",
       "1        0            1   Education       2720.0      2004.0          NaN\n",
       "2        0            2   Education       5376.0      1991.0          NaN\n",
       "3        0            3   Education      23685.0      2002.0          NaN\n",
       "4        0            4   Education     116607.0      1975.0          NaN"
      ]
     },
     "execution_count": 8,
     "metadata": {},
     "output_type": "execute_result"
    }
   ],
   "source": [
    "metadata.head()"
   ]
  },
  {
   "cell_type": "code",
   "execution_count": 9,
   "metadata": {},
   "outputs": [
    {
     "data": {
      "text/html": [
       "<div>\n",
       "<style scoped>\n",
       "    .dataframe tbody tr th:only-of-type {\n",
       "        vertical-align: middle;\n",
       "    }\n",
       "\n",
       "    .dataframe tbody tr th {\n",
       "        vertical-align: top;\n",
       "    }\n",
       "\n",
       "    .dataframe thead th {\n",
       "        text-align: right;\n",
       "    }\n",
       "</style>\n",
       "<table border=\"1\" class=\"dataframe\">\n",
       "  <thead>\n",
       "    <tr style=\"text-align: right;\">\n",
       "      <th></th>\n",
       "      <th>building_id</th>\n",
       "      <th>meter</th>\n",
       "      <th>timestamp</th>\n",
       "    </tr>\n",
       "  </thead>\n",
       "  <tbody>\n",
       "    <tr>\n",
       "      <th>0</th>\n",
       "      <td>0</td>\n",
       "      <td>Electricity</td>\n",
       "      <td>2017-01-01</td>\n",
       "    </tr>\n",
       "    <tr>\n",
       "      <th>1</th>\n",
       "      <td>1</td>\n",
       "      <td>Electricity</td>\n",
       "      <td>2017-01-01</td>\n",
       "    </tr>\n",
       "    <tr>\n",
       "      <th>2</th>\n",
       "      <td>2</td>\n",
       "      <td>Electricity</td>\n",
       "      <td>2017-01-01</td>\n",
       "    </tr>\n",
       "    <tr>\n",
       "      <th>3</th>\n",
       "      <td>3</td>\n",
       "      <td>Electricity</td>\n",
       "      <td>2017-01-01</td>\n",
       "    </tr>\n",
       "    <tr>\n",
       "      <th>4</th>\n",
       "      <td>4</td>\n",
       "      <td>Electricity</td>\n",
       "      <td>2017-01-01</td>\n",
       "    </tr>\n",
       "  </tbody>\n",
       "</table>\n",
       "</div>"
      ],
      "text/plain": [
       "   building_id        meter  timestamp\n",
       "0            0  Electricity 2017-01-01\n",
       "1            1  Electricity 2017-01-01\n",
       "2            2  Electricity 2017-01-01\n",
       "3            3  Electricity 2017-01-01\n",
       "4            4  Electricity 2017-01-01"
      ]
     },
     "execution_count": 9,
     "metadata": {},
     "output_type": "execute_result"
    }
   ],
   "source": [
    "test.head()"
   ]
  },
  {
   "cell_type": "markdown",
   "metadata": {},
   "source": [
    "Drop some columns ased on EDA"
   ]
  },
  {
   "cell_type": "code",
   "execution_count": 10,
   "metadata": {},
   "outputs": [],
   "source": [
    "# Dropping floor_count variable as it has 75% missing values\n",
    "metadata.drop('floor_count',axis=1,inplace=True)"
   ]
  },
  {
   "cell_type": "markdown",
   "metadata": {},
   "source": [
    "Construct date features"
   ]
  },
  {
   "cell_type": "code",
   "execution_count": 11,
   "metadata": {},
   "outputs": [],
   "source": [
    "for df in [train, test]:\n",
    "    df['Month'] = df['timestamp'].dt.month.astype(\"uint8\")\n",
    "    df['DayOfMonth'] = df['timestamp'].dt.day.astype(\"uint8\")\n",
    "    df['DayOfWeek'] = df['timestamp'].dt.dayofweek.astype(\"uint8\")\n",
    "    df['Hour'] = df['timestamp'].dt.hour.astype(\"uint8\")"
   ]
  },
  {
   "cell_type": "markdown",
   "metadata": {},
   "source": [
    "Convert target to log scale"
   ]
  },
  {
   "cell_type": "code",
   "execution_count": 12,
   "metadata": {},
   "outputs": [],
   "source": [
    "train['meter_reading'] = np.log1p(train['meter_reading'])"
   ]
  },
  {
   "cell_type": "markdown",
   "metadata": {},
   "source": [
    "Preprocess metadata \n"
   ]
  },
  {
   "cell_type": "code",
   "execution_count": 13,
   "metadata": {},
   "outputs": [],
   "source": [
    "metadata['primary_use'].replace({\"Healthcare\":\"Other\",\"Parking\":\"Other\",\"Warehouse/storage\":\"Other\",\"Manufacturing/industrial\":\"Other\",\n",
    "                                \"Retail\":\"Other\",\"Services\":\"Other\",\"Technology/science\":\"Other\",\"Food sales and service\":\"Other\",\n",
    "                                \"Utility\":\"Other\",\"Religious worship\":\"Other\"},inplace=True)\n",
    "metadata['square_feet'] = np.log1p(metadata['square_feet'])\n",
    "metadata['year_built'].fillna(-999, inplace=True)\n",
    "metadata['year_built'] = metadata['year_built'].astype('int16')"
   ]
  },
  {
   "cell_type": "markdown",
   "metadata": {},
   "source": [
    "Merge data"
   ]
  },
  {
   "cell_type": "code",
   "execution_count": 14,
   "metadata": {},
   "outputs": [
    {
     "name": "stdout",
     "output_type": "stream",
     "text": [
      "Training Data+Metadata Shape (20216100, 12)\n",
      "Testing Data+Metadata Shape (41697600, 11)\n",
      "Training Data+Metadata+Weather Shape (20216100, 19)\n",
      "Testing Data+Metadata+Weather Shape (41697600, 18)\n",
      "CPU times: user 33 s, sys: 30 s, total: 1min 3s\n",
      "Wall time: 53.5 s\n"
     ]
    },
    {
     "data": {
      "text/plain": [
       "0"
      ]
     },
     "execution_count": 14,
     "metadata": {},
     "output_type": "execute_result"
    }
   ],
   "source": [
    "%%time\n",
    "train = pd.merge(train,metadata,on='building_id',how='left')\n",
    "test  = pd.merge(test,metadata,on='building_id',how='left')\n",
    "print (\"Training Data+Metadata Shape {}\".format(train.shape))\n",
    "print (\"Testing Data+Metadata Shape {}\".format(test.shape))\n",
    "gc.collect()\n",
    "train = pd.merge(train,weather_train,on=['site_id','timestamp'],how='left')\n",
    "test  = pd.merge(test,weather_test,on=['site_id','timestamp'],how='left')\n",
    "print (\"Training Data+Metadata+Weather Shape {}\".format(train.shape))\n",
    "print (\"Testing Data+Metadata+Weather Shape {}\".format(test.shape))\n",
    "gc.collect()"
   ]
  },
  {
   "cell_type": "markdown",
   "metadata": {},
   "source": [
    "Prepare data"
   ]
  },
  {
   "cell_type": "code",
   "execution_count": 15,
   "metadata": {},
   "outputs": [
    {
     "name": "stdout",
     "output_type": "stream",
     "text": [
      "392857\n",
      "185592\n"
     ]
    }
   ],
   "source": [
    "# Save space\n",
    "for df in [train,test]:\n",
    "    df['square_feet'] = df['square_feet'].astype('float16')\n",
    "    \n",
    "# Fill NA\n",
    "cols = ['air_temperature','cloud_coverage','dew_temperature','precip_depth_1_hr','sea_level_pressure','wind_direction','wind_speed']\n",
    "for col in cols:\n",
    "    train[col].fillna(np.nanmean(train[col].tolist()),inplace=True)\n",
    "    test[col].fillna(np.nanmean(test[col].tolist()),inplace=True)\n",
    "    \n",
    "# Drop nonsense entries\n",
    "# As per the discussion in the following thread, https://www.kaggle.com/c/ashrae-energy-prediction/discussion/117083, there is some discrepancy in the meter_readings for different ste_id's and buildings. It makes sense to delete them\n",
    "idx_to_drop = list((train[(train['site_id'] == 0) & (train['timestamp'] < \"2016-05-21 00:00:00\")]).index)\n",
    "print (len(idx_to_drop))\n",
    "train.drop(idx_to_drop,axis='rows',inplace=True)\n",
    "\n",
    "# dropping all the electricity meter readings that are 0, after considering them as anomalies.\n",
    "idx_to_drop = list(train[(train['meter'] == \"Electricity\") & (train['meter_reading'] == 0)].index)\n",
    "print(len(idx_to_drop))\n",
    "train.drop(idx_to_drop,axis='rows',inplace=True)"
   ]
  },
  {
   "cell_type": "code",
   "execution_count": 16,
   "metadata": {},
   "outputs": [
    {
     "data": {
      "text/html": [
       "<div>\n",
       "<style scoped>\n",
       "    .dataframe tbody tr th:only-of-type {\n",
       "        vertical-align: middle;\n",
       "    }\n",
       "\n",
       "    .dataframe tbody tr th {\n",
       "        vertical-align: top;\n",
       "    }\n",
       "\n",
       "    .dataframe thead th {\n",
       "        text-align: right;\n",
       "    }\n",
       "</style>\n",
       "<table border=\"1\" class=\"dataframe\">\n",
       "  <thead>\n",
       "    <tr style=\"text-align: right;\">\n",
       "      <th></th>\n",
       "      <th>building_id</th>\n",
       "      <th>meter</th>\n",
       "      <th>timestamp</th>\n",
       "      <th>meter_reading</th>\n",
       "      <th>Month</th>\n",
       "      <th>DayOfMonth</th>\n",
       "      <th>DayOfWeek</th>\n",
       "      <th>Hour</th>\n",
       "      <th>site_id</th>\n",
       "      <th>primary_use</th>\n",
       "      <th>square_feet</th>\n",
       "      <th>year_built</th>\n",
       "      <th>air_temperature</th>\n",
       "      <th>cloud_coverage</th>\n",
       "      <th>dew_temperature</th>\n",
       "      <th>precip_depth_1_hr</th>\n",
       "      <th>sea_level_pressure</th>\n",
       "      <th>wind_direction</th>\n",
       "      <th>wind_speed</th>\n",
       "    </tr>\n",
       "  </thead>\n",
       "  <tbody>\n",
       "    <tr>\n",
       "      <th>103</th>\n",
       "      <td>105</td>\n",
       "      <td>Electricity</td>\n",
       "      <td>2016-01-01</td>\n",
       "      <td>3.190624</td>\n",
       "      <td>1</td>\n",
       "      <td>1</td>\n",
       "      <td>4</td>\n",
       "      <td>0</td>\n",
       "      <td>1</td>\n",
       "      <td>Education</td>\n",
       "      <td>10.835938</td>\n",
       "      <td>-999</td>\n",
       "      <td>3.800781</td>\n",
       "      <td>1.900391</td>\n",
       "      <td>2.400391</td>\n",
       "      <td>0.796387</td>\n",
       "      <td>1020.900024</td>\n",
       "      <td>240.0</td>\n",
       "      <td>3.099609</td>\n",
       "    </tr>\n",
       "    <tr>\n",
       "      <th>104</th>\n",
       "      <td>106</td>\n",
       "      <td>Electricity</td>\n",
       "      <td>2016-01-01</td>\n",
       "      <td>0.318163</td>\n",
       "      <td>1</td>\n",
       "      <td>1</td>\n",
       "      <td>4</td>\n",
       "      <td>0</td>\n",
       "      <td>1</td>\n",
       "      <td>Education</td>\n",
       "      <td>8.585938</td>\n",
       "      <td>-999</td>\n",
       "      <td>3.800781</td>\n",
       "      <td>1.900391</td>\n",
       "      <td>2.400391</td>\n",
       "      <td>0.796387</td>\n",
       "      <td>1020.900024</td>\n",
       "      <td>240.0</td>\n",
       "      <td>3.099609</td>\n",
       "    </tr>\n",
       "    <tr>\n",
       "      <th>105</th>\n",
       "      <td>106</td>\n",
       "      <td>HotWater</td>\n",
       "      <td>2016-01-01</td>\n",
       "      <td>0.000000</td>\n",
       "      <td>1</td>\n",
       "      <td>1</td>\n",
       "      <td>4</td>\n",
       "      <td>0</td>\n",
       "      <td>1</td>\n",
       "      <td>Education</td>\n",
       "      <td>8.585938</td>\n",
       "      <td>-999</td>\n",
       "      <td>3.800781</td>\n",
       "      <td>1.900391</td>\n",
       "      <td>2.400391</td>\n",
       "      <td>0.796387</td>\n",
       "      <td>1020.900024</td>\n",
       "      <td>240.0</td>\n",
       "      <td>3.099609</td>\n",
       "    </tr>\n",
       "    <tr>\n",
       "      <th>106</th>\n",
       "      <td>107</td>\n",
       "      <td>Electricity</td>\n",
       "      <td>2016-01-01</td>\n",
       "      <td>5.171529</td>\n",
       "      <td>1</td>\n",
       "      <td>1</td>\n",
       "      <td>4</td>\n",
       "      <td>0</td>\n",
       "      <td>1</td>\n",
       "      <td>Education</td>\n",
       "      <td>11.484375</td>\n",
       "      <td>2005</td>\n",
       "      <td>3.800781</td>\n",
       "      <td>1.900391</td>\n",
       "      <td>2.400391</td>\n",
       "      <td>0.796387</td>\n",
       "      <td>1020.900024</td>\n",
       "      <td>240.0</td>\n",
       "      <td>3.099609</td>\n",
       "    </tr>\n",
       "    <tr>\n",
       "      <th>107</th>\n",
       "      <td>108</td>\n",
       "      <td>Electricity</td>\n",
       "      <td>2016-01-01</td>\n",
       "      <td>4.524668</td>\n",
       "      <td>1</td>\n",
       "      <td>1</td>\n",
       "      <td>4</td>\n",
       "      <td>0</td>\n",
       "      <td>1</td>\n",
       "      <td>Education</td>\n",
       "      <td>11.312500</td>\n",
       "      <td>1913</td>\n",
       "      <td>3.800781</td>\n",
       "      <td>1.900391</td>\n",
       "      <td>2.400391</td>\n",
       "      <td>0.796387</td>\n",
       "      <td>1020.900024</td>\n",
       "      <td>240.0</td>\n",
       "      <td>3.099609</td>\n",
       "    </tr>\n",
       "  </tbody>\n",
       "</table>\n",
       "</div>"
      ],
      "text/plain": [
       "     building_id        meter  timestamp  meter_reading  Month  DayOfMonth  \\\n",
       "103          105  Electricity 2016-01-01       3.190624      1           1   \n",
       "104          106  Electricity 2016-01-01       0.318163      1           1   \n",
       "105          106     HotWater 2016-01-01       0.000000      1           1   \n",
       "106          107  Electricity 2016-01-01       5.171529      1           1   \n",
       "107          108  Electricity 2016-01-01       4.524668      1           1   \n",
       "\n",
       "     DayOfWeek  Hour  site_id primary_use  square_feet  year_built  \\\n",
       "103          4     0        1   Education    10.835938        -999   \n",
       "104          4     0        1   Education     8.585938        -999   \n",
       "105          4     0        1   Education     8.585938        -999   \n",
       "106          4     0        1   Education    11.484375        2005   \n",
       "107          4     0        1   Education    11.312500        1913   \n",
       "\n",
       "     air_temperature  cloud_coverage  dew_temperature  precip_depth_1_hr  \\\n",
       "103         3.800781        1.900391         2.400391           0.796387   \n",
       "104         3.800781        1.900391         2.400391           0.796387   \n",
       "105         3.800781        1.900391         2.400391           0.796387   \n",
       "106         3.800781        1.900391         2.400391           0.796387   \n",
       "107         3.800781        1.900391         2.400391           0.796387   \n",
       "\n",
       "     sea_level_pressure  wind_direction  wind_speed  \n",
       "103         1020.900024           240.0    3.099609  \n",
       "104         1020.900024           240.0    3.099609  \n",
       "105         1020.900024           240.0    3.099609  \n",
       "106         1020.900024           240.0    3.099609  \n",
       "107         1020.900024           240.0    3.099609  "
      ]
     },
     "execution_count": 16,
     "metadata": {},
     "output_type": "execute_result"
    }
   ],
   "source": [
    "train.head()"
   ]
  },
  {
   "cell_type": "markdown",
   "metadata": {},
   "source": [
    "Measure meter stats"
   ]
  },
  {
   "cell_type": "code",
   "execution_count": 17,
   "metadata": {},
   "outputs": [
    {
     "name": "stdout",
     "output_type": "stream",
     "text": [
      "CPU times: user 1min 44s, sys: 47.1 s, total: 2min 31s\n",
      "Wall time: 2min 11s\n"
     ]
    }
   ],
   "source": [
    "%%time\n",
    "number_unique_meter_per_building = train.groupby('building_id')['meter'].nunique()\n",
    "train['number_unique_meter_per_building'] = train['building_id'].map(number_unique_meter_per_building)\n",
    "\n",
    "\n",
    "mean_meter_reading_per_building = train.groupby('building_id')['meter_reading'].mean()\n",
    "train['mean_meter_reading_per_building'] = train['building_id'].map(mean_meter_reading_per_building)\n",
    "median_meter_reading_per_building = train.groupby('building_id')['meter_reading'].median()\n",
    "train['median_meter_reading_per_building'] = train['building_id'].map(median_meter_reading_per_building)\n",
    "std_meter_reading_per_building = train.groupby('building_id')['meter_reading'].std()\n",
    "train['std_meter_reading_per_building'] = train['building_id'].map(std_meter_reading_per_building)\n",
    "\n",
    "\n",
    "mean_meter_reading_on_year_built = train.groupby('year_built')['meter_reading'].mean()\n",
    "train['mean_meter_reading_on_year_built'] = train['year_built'].map(mean_meter_reading_on_year_built)\n",
    "median_meter_reading_on_year_built = train.groupby('year_built')['meter_reading'].median()\n",
    "train['median_meter_reading_on_year_built'] = train['year_built'].map(median_meter_reading_on_year_built)\n",
    "std_meter_reading_on_year_built = train.groupby('year_built')['meter_reading'].std()\n",
    "train['std_meter_reading_on_year_built'] = train['year_built'].map(std_meter_reading_on_year_built)\n",
    "\n",
    "\n",
    "mean_meter_reading_per_meter = train.groupby('meter')['meter_reading'].mean()\n",
    "train['mean_meter_reading_per_meter'] = train['meter'].map(mean_meter_reading_per_meter)\n",
    "median_meter_reading_per_meter = train.groupby('meter')['meter_reading'].median()\n",
    "train['median_meter_reading_per_meter'] = train['meter'].map(median_meter_reading_per_meter)\n",
    "std_meter_reading_per_meter = train.groupby('meter')['meter_reading'].std()\n",
    "train['std_meter_reading_per_meter'] = train['meter'].map(std_meter_reading_per_meter)\n",
    "\n",
    "\n",
    "mean_meter_reading_per_primary_usage = train.groupby('primary_use')['meter_reading'].mean()\n",
    "train['mean_meter_reading_per_primary_usage'] = train['primary_use'].map(mean_meter_reading_per_primary_usage)\n",
    "median_meter_reading_per_primary_usage = train.groupby('primary_use')['meter_reading'].median()\n",
    "train['median_meter_reading_per_primary_usage'] = train['primary_use'].map(median_meter_reading_per_primary_usage)\n",
    "std_meter_reading_per_primary_usage = train.groupby('primary_use')['meter_reading'].std()\n",
    "train['std_meter_reading_per_primary_usage'] = train['primary_use'].map(std_meter_reading_per_primary_usage)\n",
    "\n",
    "\n",
    "mean_meter_reading_per_site_id = train.groupby('site_id')['meter_reading'].mean()\n",
    "train['mean_meter_reading_per_site_id'] = train['site_id'].map(mean_meter_reading_per_site_id)\n",
    "median_meter_reading_per_site_id = train.groupby('site_id')['meter_reading'].median()\n",
    "train['median_meter_reading_per_site_id'] = train['site_id'].map(median_meter_reading_per_site_id)\n",
    "std_meter_reading_per_site_id = train.groupby('site_id')['meter_reading'].std()\n",
    "train['std_meter_reading_per_site_id'] = train['site_id'].map(std_meter_reading_per_site_id)\n",
    "\n",
    "\n",
    "test['number_unique_meter_per_building'] = test['building_id'].map(number_unique_meter_per_building)\n",
    "\n",
    "test['mean_meter_reading_per_building'] = test['building_id'].map(mean_meter_reading_per_building)\n",
    "test['median_meter_reading_per_building'] = test['building_id'].map(median_meter_reading_per_building)\n",
    "test['std_meter_reading_per_building'] = test['building_id'].map(std_meter_reading_per_building)\n",
    "\n",
    "test['mean_meter_reading_on_year_built'] = test['year_built'].map(mean_meter_reading_on_year_built)\n",
    "test['median_meter_reading_on_year_built'] = test['year_built'].map(median_meter_reading_on_year_built)\n",
    "test['std_meter_reading_on_year_built'] = test['year_built'].map(std_meter_reading_on_year_built)\n",
    "\n",
    "test['mean_meter_reading_per_meter'] = test['meter'].map(mean_meter_reading_per_meter)\n",
    "test['median_meter_reading_per_meter'] = test['meter'].map(median_meter_reading_per_meter)\n",
    "test['std_meter_reading_per_meter'] = test['meter'].map(std_meter_reading_per_meter)\n",
    "\n",
    "test['mean_meter_reading_per_primary_usage'] = test['primary_use'].map(mean_meter_reading_per_primary_usage)\n",
    "test['median_meter_reading_per_primary_usage'] = test['primary_use'].map(median_meter_reading_per_primary_usage)\n",
    "test['std_meter_reading_per_primary_usage'] = test['primary_use'].map(std_meter_reading_per_primary_usage)\n",
    "\n",
    "test['mean_meter_reading_per_site_id'] = test['site_id'].map(mean_meter_reading_per_site_id)\n",
    "test['median_meter_reading_per_site_id'] = test['site_id'].map(median_meter_reading_per_site_id)\n",
    "test['std_meter_reading_per_site_id'] = test['site_id'].map(std_meter_reading_per_site_id)"
   ]
  },
  {
   "cell_type": "code",
   "execution_count": 18,
   "metadata": {},
   "outputs": [
    {
     "name": "stdout",
     "output_type": "stream",
     "text": [
      "CPU times: user 9.34 s, sys: 13.2 s, total: 22.6 s\n",
      "Wall time: 14.3 s\n"
     ]
    },
    {
     "data": {
      "text/plain": [
       "0"
      ]
     },
     "execution_count": 18,
     "metadata": {},
     "output_type": "execute_result"
    }
   ],
   "source": [
    "%%time\n",
    "for df in [train, test]:\n",
    "    df['mean_meter_reading_per_building'] = df['mean_meter_reading_per_building'].astype(\"float16\")\n",
    "    df['median_meter_reading_per_building'] = df['mean_meter_reading_per_building'].astype(\"float16\")\n",
    "    df['std_meter_reading_per_building'] = df['std_meter_reading_per_building'].astype(\"float16\")\n",
    "    \n",
    "    df['mean_meter_reading_on_year_built'] = df['mean_meter_reading_on_year_built'].astype(\"float16\")\n",
    "    df['median_meter_reading_on_year_built'] = df['median_meter_reading_on_year_built'].astype(\"float16\")\n",
    "    df['std_meter_reading_on_year_built'] = df['std_meter_reading_on_year_built'].astype(\"float16\")\n",
    "    \n",
    "    df['mean_meter_reading_per_meter'] = df['mean_meter_reading_per_meter'].astype(\"float16\")\n",
    "    df['median_meter_reading_per_meter'] = df['median_meter_reading_per_meter'].astype(\"float16\")\n",
    "    df['std_meter_reading_per_meter'] = df['std_meter_reading_per_meter'].astype(\"float16\")\n",
    "    \n",
    "    df['mean_meter_reading_per_primary_usage'] = df['mean_meter_reading_per_primary_usage'].astype(\"float16\")\n",
    "    df['median_meter_reading_per_primary_usage'] = df['median_meter_reading_per_primary_usage'].astype(\"float16\")\n",
    "    df['std_meter_reading_per_primary_usage'] = df['std_meter_reading_per_primary_usage'].astype(\"float16\")\n",
    "    \n",
    "    df['mean_meter_reading_per_site_id'] = df['mean_meter_reading_per_site_id'].astype(\"float16\")\n",
    "    df['median_meter_reading_per_site_id'] = df['median_meter_reading_per_site_id'].astype(\"float16\")\n",
    "    df['std_meter_reading_per_site_id'] = df['std_meter_reading_per_site_id'].astype(\"float16\")\n",
    "    \n",
    "    df['number_unique_meter_per_building'] = df['number_unique_meter_per_building'].astype('uint8')\n",
    "gc.collect()"
   ]
  },
  {
   "cell_type": "markdown",
   "metadata": {},
   "source": [
    "Encode features"
   ]
  },
  {
   "cell_type": "code",
   "execution_count": 19,
   "metadata": {},
   "outputs": [
    {
     "name": "stdout",
     "output_type": "stream",
     "text": [
      "(19637651, 34) (41697600, 33)\n"
     ]
    }
   ],
   "source": [
    "train.drop('timestamp',axis=1,inplace=True)\n",
    "test.drop('timestamp',axis=1,inplace=True)\n",
    "\n",
    "le = LabelEncoder()\n",
    "\n",
    "train['meter']= le.fit_transform(train['meter']).astype(\"uint8\")\n",
    "test['meter']= le.fit_transform(test['meter']).astype(\"uint8\")\n",
    "train['primary_use']= le.fit_transform(train['primary_use']).astype(\"uint8\")\n",
    "test['primary_use']= le.fit_transform(test['primary_use']).astype(\"uint8\")\n",
    "\n",
    "print (train.shape, test.shape)"
   ]
  },
  {
   "cell_type": "markdown",
   "metadata": {},
   "source": [
    "Drop correlated variables"
   ]
  },
  {
   "cell_type": "code",
   "execution_count": 20,
   "metadata": {},
   "outputs": [
    {
     "name": "stdout",
     "output_type": "stream",
     "text": [
      "There are 6 columns to remove.\n",
      "Following columns can be dropped ['site_id', 'median_meter_reading_per_building', 'median_meter_reading_on_year_built', 'median_meter_reading_per_meter', 'median_meter_reading_per_primary_usage', 'median_meter_reading_per_site_id']\n",
      "CPU times: user 1min 1s, sys: 13.2 s, total: 1min 14s\n",
      "Wall time: 1min 8s\n"
     ]
    }
   ],
   "source": [
    "%%time\n",
    "# Let's check the correlation between the variables and eliminate the one's that have high correlation\n",
    "# Threshold for removing correlated variables\n",
    "threshold = 0.9\n",
    "\n",
    "# Absolute value correlation matrix\n",
    "corr_matrix = train.corr().abs()\n",
    "# Upper triangle of correlations\n",
    "upper = corr_matrix.where(np.triu(np.ones(corr_matrix.shape), k=1).astype(np.bool))\n",
    "\n",
    "# Select columns with correlations above threshold\n",
    "to_drop = [column for column in upper.columns if any(upper[column] > threshold)]\n",
    "\n",
    "print('There are %d columns to remove.' % (len(to_drop)))\n",
    "print (\"Following columns can be dropped {}\".format(to_drop))\n",
    "\n",
    "train.drop(to_drop,axis=1,inplace=True)\n",
    "test.drop(to_drop,axis=1,inplace=True)"
   ]
  },
  {
   "cell_type": "markdown",
   "metadata": {},
   "source": [
    "Split the data for train and validation with stratification by meter reading bins"
   ]
  },
  {
   "cell_type": "code",
   "execution_count": 21,
   "metadata": {},
   "outputs": [
    {
     "name": "stdout",
     "output_type": "stream",
     "text": [
      "CPU times: user 784 ms, sys: 2.76 s, total: 3.54 s\n",
      "Wall time: 1.96 s\n"
     ]
    }
   ],
   "source": [
    "%%time\n",
    "y = train['meter_reading']\n",
    "train.drop('meter_reading',axis=1,inplace=True)\n",
    "categorical_cols = ['building_id','Month','meter','Hour','primary_use','DayOfWeek','DayOfMonth']"
   ]
  },
  {
   "cell_type": "code",
   "execution_count": 22,
   "metadata": {},
   "outputs": [
    {
     "data": {
      "text/plain": [
       "(-0.0169, 0.338]    1515392\n",
       "(4.733, 5.071]      1465188\n",
       "(4.395, 4.733]      1464363\n",
       "(4.057, 4.395]      1417617\n",
       "(5.071, 5.409]      1404508\n",
       "(3.718, 4.057]      1269315\n",
       "(3.38, 3.718]       1185807\n",
       "(5.409, 5.747]      1121708\n",
       "(3.042, 3.38]       1045911\n",
       "(5.747, 6.085]      1039700\n",
       "(6.085, 6.423]       948726\n",
       "(2.704, 3.042]       819977\n",
       "(6.423, 6.761]       682941\n",
       "(2.366, 2.704]       588253\n",
       "(6.761, 7.099]       546915\n",
       "(2.028, 2.366]       452539\n",
       "(7.099, 7.437]       400904\n",
       "(1.69, 2.028]        397518\n",
       "(1.352, 1.69]        382585\n",
       "(7.437, 7.775]       288927\n",
       "(1.014, 1.352]       241105\n",
       "(7.775, 8.113]       216635\n",
       "(0.676, 1.014]       179287\n",
       "(8.113, 8.451]       154956\n",
       "(0.338, 0.676]       151799\n",
       "(8.451, 8.789]       103809\n",
       "(8.789, 9.127]        48103\n",
       "(9.127, 9.465]        33924\n",
       "(9.465, 9.803]        23503\n",
       "(9.803, 10.141]       12168\n",
       "(10.141, 10.479]      10908\n",
       "(10.479, 10.817]       9009\n",
       "(10.817, 11.155]       5695\n",
       "(11.155, 11.494]       2363\n",
       "(11.494, 11.832]       1202\n",
       "(16.564, 16.902]       1017\n",
       "(15.55, 15.888]         770\n",
       "(16.226, 16.564]        424\n",
       "(13.184, 13.522]        397\n",
       "(12.846, 13.184]        376\n",
       "(12.508, 12.846]        244\n",
       "(15.888, 16.226]        202\n",
       "(15.212, 15.55]         192\n",
       "(14.874, 15.212]        167\n",
       "(11.832, 12.17]         159\n",
       "(14.536, 14.874]        149\n",
       "(14.198, 14.536]         92\n",
       "(13.522, 13.86]          78\n",
       "(12.17, 12.508]          77\n",
       "(13.86, 14.198]          47\n",
       "Name: meter_reading, dtype: int64"
      ]
     },
     "execution_count": 22,
     "metadata": {},
     "output_type": "execute_result"
    }
   ],
   "source": [
    "meter_cut, bins = pd.cut(y, bins=50, retbins=True)\n",
    "meter_cut.value_counts()"
   ]
  },
  {
   "cell_type": "code",
   "execution_count": 23,
   "metadata": {},
   "outputs": [
    {
     "name": "stdout",
     "output_type": "stream",
     "text": [
      "(17673885, 27)\n",
      "(17673885,)\n",
      "(1963766, 27)\n",
      "(1963766,)\n"
     ]
    }
   ],
   "source": [
    "# x_train,x_test,y_train,y_test = train_test_split(train,y,test_size=0.2,random_state=42, stratify=meter_cut)\n",
    "x_train,x_test,y_train,y_test = train_test_split(train,y,test_size=0.1,random_state=42)\n",
    "print (x_train.shape)\n",
    "print (y_train.shape)\n",
    "print (x_test.shape)\n",
    "print (y_test.shape)"
   ]
  },
  {
   "cell_type": "code",
   "execution_count": 24,
   "metadata": {},
   "outputs": [
    {
     "data": {
      "text/html": [
       "<div>\n",
       "<style scoped>\n",
       "    .dataframe tbody tr th:only-of-type {\n",
       "        vertical-align: middle;\n",
       "    }\n",
       "\n",
       "    .dataframe tbody tr th {\n",
       "        vertical-align: top;\n",
       "    }\n",
       "\n",
       "    .dataframe thead th {\n",
       "        text-align: right;\n",
       "    }\n",
       "</style>\n",
       "<table border=\"1\" class=\"dataframe\">\n",
       "  <thead>\n",
       "    <tr style=\"text-align: right;\">\n",
       "      <th></th>\n",
       "      <th>building_id</th>\n",
       "      <th>meter</th>\n",
       "      <th>Month</th>\n",
       "      <th>DayOfMonth</th>\n",
       "      <th>DayOfWeek</th>\n",
       "      <th>Hour</th>\n",
       "      <th>primary_use</th>\n",
       "      <th>square_feet</th>\n",
       "      <th>year_built</th>\n",
       "      <th>air_temperature</th>\n",
       "      <th>cloud_coverage</th>\n",
       "      <th>dew_temperature</th>\n",
       "      <th>precip_depth_1_hr</th>\n",
       "      <th>sea_level_pressure</th>\n",
       "      <th>wind_direction</th>\n",
       "      <th>wind_speed</th>\n",
       "      <th>number_unique_meter_per_building</th>\n",
       "      <th>mean_meter_reading_per_building</th>\n",
       "      <th>std_meter_reading_per_building</th>\n",
       "      <th>mean_meter_reading_on_year_built</th>\n",
       "      <th>std_meter_reading_on_year_built</th>\n",
       "      <th>mean_meter_reading_per_meter</th>\n",
       "      <th>std_meter_reading_per_meter</th>\n",
       "      <th>mean_meter_reading_per_primary_usage</th>\n",
       "      <th>std_meter_reading_per_primary_usage</th>\n",
       "      <th>mean_meter_reading_per_site_id</th>\n",
       "      <th>std_meter_reading_per_site_id</th>\n",
       "    </tr>\n",
       "  </thead>\n",
       "  <tbody>\n",
       "    <tr>\n",
       "      <th>19302482</th>\n",
       "      <td>29</td>\n",
       "      <td>0</td>\n",
       "      <td>12</td>\n",
       "      <td>15</td>\n",
       "      <td>3</td>\n",
       "      <td>21</td>\n",
       "      <td>0</td>\n",
       "      <td>11.640625</td>\n",
       "      <td>2006</td>\n",
       "      <td>23.906250</td>\n",
       "      <td>1.900391</td>\n",
       "      <td>12.203125</td>\n",
       "      <td>0.0</td>\n",
       "      <td>1018.599976</td>\n",
       "      <td>350.0</td>\n",
       "      <td>4.101562</td>\n",
       "      <td>2</td>\n",
       "      <td>7.031250</td>\n",
       "      <td>2.060547</td>\n",
       "      <td>5.722656</td>\n",
       "      <td>1.629883</td>\n",
       "      <td>4.222656</td>\n",
       "      <td>2.523438</td>\n",
       "      <td>4.468750</td>\n",
       "      <td>2.144531</td>\n",
       "      <td>5.535156</td>\n",
       "      <td>1.632812</td>\n",
       "    </tr>\n",
       "    <tr>\n",
       "      <th>2233192</th>\n",
       "      <td>1158</td>\n",
       "      <td>1</td>\n",
       "      <td>2</td>\n",
       "      <td>10</td>\n",
       "      <td>2</td>\n",
       "      <td>11</td>\n",
       "      <td>5</td>\n",
       "      <td>12.593750</td>\n",
       "      <td>-999</td>\n",
       "      <td>-15.000000</td>\n",
       "      <td>1.900391</td>\n",
       "      <td>-20.000000</td>\n",
       "      <td>0.0</td>\n",
       "      <td>1021.799988</td>\n",
       "      <td>360.0</td>\n",
       "      <td>3.099609</td>\n",
       "      <td>3</td>\n",
       "      <td>5.117188</td>\n",
       "      <td>3.240234</td>\n",
       "      <td>4.277344</td>\n",
       "      <td>2.138672</td>\n",
       "      <td>4.160156</td>\n",
       "      <td>1.509766</td>\n",
       "      <td>3.998047</td>\n",
       "      <td>1.694336</td>\n",
       "      <td>4.636719</td>\n",
       "      <td>2.511719</td>\n",
       "    </tr>\n",
       "    <tr>\n",
       "      <th>10871563</th>\n",
       "      <td>549</td>\n",
       "      <td>1</td>\n",
       "      <td>7</td>\n",
       "      <td>18</td>\n",
       "      <td>0</td>\n",
       "      <td>7</td>\n",
       "      <td>5</td>\n",
       "      <td>9.453125</td>\n",
       "      <td>1968</td>\n",
       "      <td>26.093750</td>\n",
       "      <td>1.900391</td>\n",
       "      <td>21.703125</td>\n",
       "      <td>0.0</td>\n",
       "      <td>1020.599976</td>\n",
       "      <td>210.0</td>\n",
       "      <td>3.599609</td>\n",
       "      <td>1</td>\n",
       "      <td>3.162109</td>\n",
       "      <td>0.343506</td>\n",
       "      <td>4.574219</td>\n",
       "      <td>1.804688</td>\n",
       "      <td>4.160156</td>\n",
       "      <td>1.509766</td>\n",
       "      <td>3.998047</td>\n",
       "      <td>1.694336</td>\n",
       "      <td>3.853516</td>\n",
       "      <td>1.398438</td>\n",
       "    </tr>\n",
       "    <tr>\n",
       "      <th>15345430</th>\n",
       "      <td>1310</td>\n",
       "      <td>0</td>\n",
       "      <td>10</td>\n",
       "      <td>6</td>\n",
       "      <td>3</td>\n",
       "      <td>3</td>\n",
       "      <td>2</td>\n",
       "      <td>10.953125</td>\n",
       "      <td>-999</td>\n",
       "      <td>11.703125</td>\n",
       "      <td>0.000000</td>\n",
       "      <td>9.398438</td>\n",
       "      <td>0.0</td>\n",
       "      <td>1025.199951</td>\n",
       "      <td>10.0</td>\n",
       "      <td>1.500000</td>\n",
       "      <td>3</td>\n",
       "      <td>4.550781</td>\n",
       "      <td>1.432617</td>\n",
       "      <td>4.277344</td>\n",
       "      <td>2.138672</td>\n",
       "      <td>4.222656</td>\n",
       "      <td>2.523438</td>\n",
       "      <td>4.179688</td>\n",
       "      <td>1.818359</td>\n",
       "      <td>4.886719</td>\n",
       "      <td>2.251953</td>\n",
       "    </tr>\n",
       "    <tr>\n",
       "      <th>3013414</th>\n",
       "      <td>916</td>\n",
       "      <td>3</td>\n",
       "      <td>2</td>\n",
       "      <td>26</td>\n",
       "      <td>4</td>\n",
       "      <td>4</td>\n",
       "      <td>0</td>\n",
       "      <td>10.851562</td>\n",
       "      <td>-999</td>\n",
       "      <td>11.101562</td>\n",
       "      <td>0.000000</td>\n",
       "      <td>-1.700195</td>\n",
       "      <td>0.0</td>\n",
       "      <td>1030.099976</td>\n",
       "      <td>30.0</td>\n",
       "      <td>2.099609</td>\n",
       "      <td>3</td>\n",
       "      <td>3.169922</td>\n",
       "      <td>1.734375</td>\n",
       "      <td>4.277344</td>\n",
       "      <td>2.138672</td>\n",
       "      <td>5.125000</td>\n",
       "      <td>2.636719</td>\n",
       "      <td>4.468750</td>\n",
       "      <td>2.144531</td>\n",
       "      <td>4.585938</td>\n",
       "      <td>1.696289</td>\n",
       "    </tr>\n",
       "  </tbody>\n",
       "</table>\n",
       "</div>"
      ],
      "text/plain": [
       "          building_id  meter  Month  DayOfMonth  DayOfWeek  Hour  primary_use  \\\n",
       "19302482           29      0     12          15          3    21            0   \n",
       "2233192          1158      1      2          10          2    11            5   \n",
       "10871563          549      1      7          18          0     7            5   \n",
       "15345430         1310      0     10           6          3     3            2   \n",
       "3013414           916      3      2          26          4     4            0   \n",
       "\n",
       "          square_feet  year_built  air_temperature  cloud_coverage  \\\n",
       "19302482    11.640625        2006        23.906250        1.900391   \n",
       "2233192     12.593750        -999       -15.000000        1.900391   \n",
       "10871563     9.453125        1968        26.093750        1.900391   \n",
       "15345430    10.953125        -999        11.703125        0.000000   \n",
       "3013414     10.851562        -999        11.101562        0.000000   \n",
       "\n",
       "          dew_temperature  precip_depth_1_hr  sea_level_pressure  \\\n",
       "19302482        12.203125                0.0         1018.599976   \n",
       "2233192        -20.000000                0.0         1021.799988   \n",
       "10871563        21.703125                0.0         1020.599976   \n",
       "15345430         9.398438                0.0         1025.199951   \n",
       "3013414         -1.700195                0.0         1030.099976   \n",
       "\n",
       "          wind_direction  wind_speed  number_unique_meter_per_building  \\\n",
       "19302482           350.0    4.101562                                 2   \n",
       "2233192            360.0    3.099609                                 3   \n",
       "10871563           210.0    3.599609                                 1   \n",
       "15345430            10.0    1.500000                                 3   \n",
       "3013414             30.0    2.099609                                 3   \n",
       "\n",
       "          mean_meter_reading_per_building  std_meter_reading_per_building  \\\n",
       "19302482                         7.031250                        2.060547   \n",
       "2233192                          5.117188                        3.240234   \n",
       "10871563                         3.162109                        0.343506   \n",
       "15345430                         4.550781                        1.432617   \n",
       "3013414                          3.169922                        1.734375   \n",
       "\n",
       "          mean_meter_reading_on_year_built  std_meter_reading_on_year_built  \\\n",
       "19302482                          5.722656                         1.629883   \n",
       "2233192                           4.277344                         2.138672   \n",
       "10871563                          4.574219                         1.804688   \n",
       "15345430                          4.277344                         2.138672   \n",
       "3013414                           4.277344                         2.138672   \n",
       "\n",
       "          mean_meter_reading_per_meter  std_meter_reading_per_meter  \\\n",
       "19302482                      4.222656                     2.523438   \n",
       "2233192                       4.160156                     1.509766   \n",
       "10871563                      4.160156                     1.509766   \n",
       "15345430                      4.222656                     2.523438   \n",
       "3013414                       5.125000                     2.636719   \n",
       "\n",
       "          mean_meter_reading_per_primary_usage  \\\n",
       "19302482                              4.468750   \n",
       "2233192                               3.998047   \n",
       "10871563                              3.998047   \n",
       "15345430                              4.179688   \n",
       "3013414                               4.468750   \n",
       "\n",
       "          std_meter_reading_per_primary_usage  mean_meter_reading_per_site_id  \\\n",
       "19302482                             2.144531                        5.535156   \n",
       "2233192                              1.694336                        4.636719   \n",
       "10871563                             1.694336                        3.853516   \n",
       "15345430                             1.818359                        4.886719   \n",
       "3013414                              2.144531                        4.585938   \n",
       "\n",
       "          std_meter_reading_per_site_id  \n",
       "19302482                       1.632812  \n",
       "2233192                        2.511719  \n",
       "10871563                       1.398438  \n",
       "15345430                       2.251953  \n",
       "3013414                        1.696289  "
      ]
     },
     "execution_count": 24,
     "metadata": {},
     "output_type": "execute_result"
    }
   ],
   "source": [
    "x_train.head()"
   ]
  },
  {
   "cell_type": "markdown",
   "metadata": {},
   "source": [
    "Make dummies if necessary -- for RF"
   ]
  },
  {
   "cell_type": "markdown",
   "metadata": {},
   "source": [
    "x_train = pd.get_dummies(x_train, columns=categorical_cols, sparse=True)\n",
    "\n",
    "x_test = pd.get_dummies(x_test, columns=categorical_cols, sparse=True)\n",
    "\n",
    "gc.collect()\n",
    "\n",
    "x_train.shape"
   ]
  },
  {
   "cell_type": "markdown",
   "metadata": {},
   "source": [
    "## Model\n",
    "\n",
    "Train baseline model"
   ]
  },
  {
   "cell_type": "code",
   "execution_count": 25,
   "metadata": {},
   "outputs": [],
   "source": [
    "from sklearn.ensemble import RandomForestRegressor as RF\n",
    "import lightgbm as lgb"
   ]
  },
  {
   "cell_type": "code",
   "execution_count": 26,
   "metadata": {},
   "outputs": [
    {
     "name": "stderr",
     "output_type": "stream",
     "text": [
      "/opt/conda/lib/python3.6/site-packages/lightgbm/basic.py:1243: UserWarning:\n",
      "\n",
      "Using categorical_feature in Dataset.\n",
      "\n"
     ]
    },
    {
     "name": "stdout",
     "output_type": "stream",
     "text": [
      "Training until validation scores don't improve for 100 rounds\n",
      "[100]\ttraining's rmse: 0.817297\tvalid_1's rmse: 0.819324\n",
      "[200]\ttraining's rmse: 0.767984\tvalid_1's rmse: 0.770489\n",
      "[300]\ttraining's rmse: 0.723563\tvalid_1's rmse: 0.726604\n",
      "[400]\ttraining's rmse: 0.698262\tvalid_1's rmse: 0.701656\n",
      "[500]\ttraining's rmse: 0.678516\tvalid_1's rmse: 0.682457\n",
      "[600]\ttraining's rmse: 0.661654\tvalid_1's rmse: 0.666043\n",
      "[700]\ttraining's rmse: 0.649265\tvalid_1's rmse: 0.654113\n",
      "[800]\ttraining's rmse: 0.638726\tvalid_1's rmse: 0.643982\n",
      "[900]\ttraining's rmse: 0.627946\tvalid_1's rmse: 0.633666\n",
      "[1000]\ttraining's rmse: 0.620176\tvalid_1's rmse: 0.626318\n",
      "[1100]\ttraining's rmse: 0.613177\tvalid_1's rmse: 0.619831\n",
      "[1200]\ttraining's rmse: 0.605427\tvalid_1's rmse: 0.61261\n",
      "[1300]\ttraining's rmse: 0.598115\tvalid_1's rmse: 0.605583\n",
      "[1400]\ttraining's rmse: 0.592225\tvalid_1's rmse: 0.600357\n",
      "[1500]\ttraining's rmse: 0.586365\tvalid_1's rmse: 0.594998\n",
      "[1600]\ttraining's rmse: 0.581425\tvalid_1's rmse: 0.590529\n",
      "[1700]\ttraining's rmse: 0.577034\tvalid_1's rmse: 0.586624\n",
      "[1800]\ttraining's rmse: 0.572608\tvalid_1's rmse: 0.582633\n",
      "[1900]\ttraining's rmse: 0.568318\tvalid_1's rmse: 0.578738\n",
      "[2000]\ttraining's rmse: 0.564044\tvalid_1's rmse: 0.574886\n",
      "[2100]\ttraining's rmse: 0.559829\tvalid_1's rmse: 0.571076\n",
      "[2200]\ttraining's rmse: 0.556424\tvalid_1's rmse: 0.568166\n",
      "[2300]\ttraining's rmse: 0.552673\tvalid_1's rmse: 0.564877\n",
      "[2400]\ttraining's rmse: 0.549478\tvalid_1's rmse: 0.562061\n",
      "[2500]\ttraining's rmse: 0.546474\tvalid_1's rmse: 0.559471\n",
      "[2600]\ttraining's rmse: 0.543531\tvalid_1's rmse: 0.557\n",
      "[2700]\ttraining's rmse: 0.540914\tvalid_1's rmse: 0.554733\n",
      "[2800]\ttraining's rmse: 0.538176\tvalid_1's rmse: 0.552431\n",
      "[2900]\ttraining's rmse: 0.535793\tvalid_1's rmse: 0.550493\n",
      "[3000]\ttraining's rmse: 0.533148\tvalid_1's rmse: 0.548339\n",
      "Did not meet early stopping. Best iteration is:\n",
      "[3000]\ttraining's rmse: 0.533148\tvalid_1's rmse: 0.548339\n"
     ]
    }
   ],
   "source": [
    "lgb_train = lgb.Dataset(x_train, y_train, categorical_feature=categorical_cols)\n",
    "lgb_test = lgb.Dataset(x_test, y_test, categorical_feature=categorical_cols)\n",
    "del x_train, x_test , y_train, y_test\n",
    "\n",
    "params = {'feature_fraction': 0.85, # 0.75\n",
    "          'bagging_fraction': 0.75,\n",
    "          'objective': 'regression',\n",
    "           \"num_leaves\": 40, # New\n",
    "          'max_depth': -1,\n",
    "          'learning_rate': 0.15,\n",
    "          \"boosting_type\": \"gbdt\",\n",
    "          \"bagging_seed\": 11,\n",
    "          \"metric\": 'rmse',\n",
    "          \"verbosity\": -1,\n",
    "          'reg_alpha': 0.5,\n",
    "          'reg_lambda': 0.5,\n",
    "          'random_state': 47\n",
    "         }\n",
    "\n",
    "reg = lgb.train(params, lgb_train, num_boost_round=3000, valid_sets=[lgb_train, lgb_test], early_stopping_rounds=100, verbose_eval=100)"
   ]
  },
  {
   "cell_type": "markdown",
   "metadata": {},
   "source": [
    "Check feature importance"
   ]
  },
  {
   "cell_type": "code",
   "execution_count": 27,
   "metadata": {},
   "outputs": [
    {
     "data": {
      "text/plain": [
       "<matplotlib.axes._subplots.AxesSubplot at 0x7f4b21e1e278>"
      ]
     },
     "execution_count": 27,
     "metadata": {},
     "output_type": "execute_result"
    },
    {
     "data": {
      "image/png": "[encoded data removed]",
      "text/plain": [
       "<Figure size 720x432 with 1 Axes>"
      ]
     },
     "metadata": {
      "needs_background": "light"
     },
     "output_type": "display_data"
    }
   ],
   "source": [
    "del lgb_train,lgb_test\n",
    "ser = pd.DataFrame(reg.feature_importance(),train.columns,columns=['Importance']).sort_values(by='Importance')\n",
    "ser['Importance'].plot(kind='bar',figsize=(10,6))"
   ]
  },
  {
   "cell_type": "markdown",
   "metadata": {},
   "source": [
    "## Predict"
   ]
  },
  {
   "cell_type": "code",
   "execution_count": 28,
   "metadata": {},
   "outputs": [],
   "source": [
    "del train"
   ]
  },
  {
   "cell_type": "code",
   "execution_count": 29,
   "metadata": {},
   "outputs": [
    {
     "name": "stdout",
     "output_type": "stream",
     "text": [
      "CPU times: user 4h 5min 34s, sys: 16 s, total: 4h 5min 50s\n",
      "Wall time: 1h 3min 3s\n"
     ]
    }
   ],
   "source": [
    "%%time\n",
    "predictions = []\n",
    "step = 50000\n",
    "for i in range(0, len(test), step):\n",
    "    predictions.extend(np.expm1(reg.predict(test.iloc[i: min(i+step, len(test)), :], num_iteration=reg.best_iteration)))"
   ]
  },
  {
   "cell_type": "code",
   "execution_count": 30,
   "metadata": {},
   "outputs": [
    {
     "name": "stdout",
     "output_type": "stream",
     "text": [
      "CPU times: user 4min 26s, sys: 4.2 s, total: 4min 30s\n",
      "Wall time: 4min 32s\n"
     ]
    }
   ],
   "source": [
    "%%time\n",
    "Submission = pd.DataFrame(test.index,columns=['row_id'])\n",
    "Submission['meter_reading'] = predictions\n",
    "Submission['meter_reading'].clip(lower=0,upper=None,inplace=True)\n",
    "Submission.to_csv(\"lgbm_fill_na.csv\",index=None)"
   ]
  },
  {
   "cell_type": "code",
   "execution_count": null,
   "metadata": {},
   "outputs": [],
   "source": []
  }
 ],
 "metadata": {
  "kernelspec": {
   "display_name": "Python 3",
   "language": "python",
   "name": "python3"
  },
  "language_info": {
   "codemirror_mode": {
    "name": "ipython",
    "version": 3
   },
   "file_extension": ".py",
   "mimetype": "text/x-python",
   "name": "python",
   "nbconvert_exporter": "python",
   "pygments_lexer": "ipython3",
   "version": "3.6.6"
  }
 },
 "nbformat": 4,
 "nbformat_minor": 1
}
