{
 "cells": [
  {
   "cell_type": "code",
   "execution_count": 1,
   "metadata": {
    "_cell_guid": "b1076dfc-b9ad-4769-8c92-a6c4dae69d19",
    "_uuid": "8f2839f25d086af736a60e9eeb907d3b93b6e0e5"
   },
   "outputs": [],
   "source": [
    "import numpy as np\n",
    "import sys\n",
    "import pandas as pd\n",
    "from skimage.io import imread, imsave\n",
    "from skimage.color import gray2rgb\n",
    "from skimage.color import rgb2gray\n",
    "import matplotlib.pyplot as plt\n",
    "from functools import reduce\n",
    "import os"
   ]
  },
  {
   "cell_type": "code",
   "execution_count": 2,
   "metadata": {
    "_cell_guid": "79c7e3d0-c299-4dcb-8224-4455121ee9b0",
    "_uuid": "d629ff2d2480ee46fbb7e2d37f6b5fab8052498a"
   },
   "outputs": [],
   "source": [
    "# Upload submission\n",
    "sub = pd.read_csv(\"../input/ashrae-energy-prediction/sample_submission.csv\")"
   ]
  },
  {
   "cell_type": "code",
   "execution_count": 3,
   "metadata": {},
   "outputs": [],
   "source": [
    "#Dataset loaded for blending \n",
    "#https://www.kaggle.com/yamsam/ashrae-highway-kernel-route2\n",
    "#https://www.kaggle.com/purist1024/ashrae-simple-data-cleanup-lb-1-08-no-leaks\n",
    "#https://www.kaggle.com/wentixiaogege/ashrae-maybe-this-can-make-public-lb-some-useful\n",
    "#https://www.kaggle.com/huanglinyan/ashrae-may-make-it-up-to-1-0\n",
    "#https://www.kaggle.com/khoongweihao/ashrae-leak-validation-bruteforce-heuristic-search/output\n",
    "#https://www.kaggle.com/yamsam/ashrae-leak-validation-and-more"
   ]
  },
  {
   "cell_type": "code",
   "execution_count": 4,
   "metadata": {
    "_cell_guid": "",
    "_uuid": ""
   },
   "outputs": [],
   "source": [
    "df0 = pd.read_csv(\"../input/ashrae-public/ashrae-highway-kernel-route2.csv\") #1.03\n",
    "df1 = pd.read_csv(\"../input/ashrae-public/ashrae-leak-validation-and-more.csv\") #0.99\n",
    "df2 = pd.read_csv(\"../input/ashrae-public/ashrae-leak-validation-bruteforce-heuristic-search.csv\") #0.98\n",
    "df3 = pd.read_csv(\"../input/ashrae-public/ashrae-may-make-it-up-to-1-0.csv\") #1\n",
    "df4 = pd.read_csv(\"../input/ashrae-public/ashrae-maybe-this-can-make-public-lb-some-useful.csv\") #1.1\n",
    "df5 = pd.read_csv(\"../input/ashrae-public/ashrae-simple-data-cleanup-lb-1-08-no-leaks.csv\") #1.08\n"
   ]
  },
  {
   "cell_type": "code",
   "execution_count": 5,
   "metadata": {},
   "outputs": [],
   "source": [
    "blend1 = df0['meter_reading']*0.5 + df4['meter_reading']*0.3 + df5['meter_reading']*0.2"
   ]
  },
  {
   "cell_type": "code",
   "execution_count": 6,
   "metadata": {},
   "outputs": [],
   "source": [
    "sub['meter_reading'] = blend1\n",
    "df11 = sub"
   ]
  },
  {
   "cell_type": "code",
   "execution_count": 7,
   "metadata": {},
   "outputs": [],
   "source": [
    "blend2 = df11['meter_reading']*0.1 + df1['meter_reading']*0.15 + df2['meter_reading']*0.6 + df3['meter_reading']*0.15"
   ]
  },
  {
   "cell_type": "code",
   "execution_count": 8,
   "metadata": {},
   "outputs": [],
   "source": [
    "sub1 = pd.read_csv(\"../input/ashrae-energy-prediction/sample_submission.csv\")"
   ]
  },
  {
   "cell_type": "code",
   "execution_count": 9,
   "metadata": {},
   "outputs": [
    {
     "data": {
      "text/html": [
       "<div>\n",
       "<style scoped>\n",
       "    .dataframe tbody tr th:only-of-type {\n",
       "        vertical-align: middle;\n",
       "    }\n",
       "\n",
       "    .dataframe tbody tr th {\n",
       "        vertical-align: top;\n",
       "    }\n",
       "\n",
       "    .dataframe thead th {\n",
       "        text-align: right;\n",
       "    }\n",
       "</style>\n",
       "<table border=\"1\" class=\"dataframe\">\n",
       "  <thead>\n",
       "    <tr style=\"text-align: right;\">\n",
       "      <th></th>\n",
       "      <th>row_id</th>\n",
       "      <th>meter_reading</th>\n",
       "    </tr>\n",
       "  </thead>\n",
       "  <tbody>\n",
       "    <tr>\n",
       "      <th>0</th>\n",
       "      <td>0</td>\n",
       "      <td>171.076166</td>\n",
       "    </tr>\n",
       "    <tr>\n",
       "      <th>1</th>\n",
       "      <td>1</td>\n",
       "      <td>53.590927</td>\n",
       "    </tr>\n",
       "    <tr>\n",
       "      <th>2</th>\n",
       "      <td>2</td>\n",
       "      <td>6.056216</td>\n",
       "    </tr>\n",
       "    <tr>\n",
       "      <th>3</th>\n",
       "      <td>3</td>\n",
       "      <td>106.918267</td>\n",
       "    </tr>\n",
       "    <tr>\n",
       "      <th>4</th>\n",
       "      <td>4</td>\n",
       "      <td>1130.948822</td>\n",
       "    </tr>\n",
       "  </tbody>\n",
       "</table>\n",
       "</div>"
      ],
      "text/plain": [
       "   row_id  meter_reading\n",
       "0       0     171.076166\n",
       "1       1      53.590927\n",
       "2       2       6.056216\n",
       "3       3     106.918267\n",
       "4       4    1130.948822"
      ]
     },
     "execution_count": 9,
     "metadata": {},
     "output_type": "execute_result"
    }
   ],
   "source": [
    "sub1['meter_reading'] = blend2\n",
    "sub1.head()"
   ]
  },
  {
   "cell_type": "code",
   "execution_count": 10,
   "metadata": {},
   "outputs": [],
   "source": [
    "sub1.to_csv(f'submission.csv', index=False, float_format='%g')"
   ]
  }
 ],
 "metadata": {
  "kernelspec": {
   "display_name": "Python 3",
   "language": "python",
   "name": "python3"
  },
  "language_info": {
   "codemirror_mode": {
    "name": "ipython",
    "version": 3
   },
   "file_extension": ".py",
   "mimetype": "text/x-python",
   "name": "python",
   "nbconvert_exporter": "python",
   "pygments_lexer": "ipython3",
   "version": "3.6.6"
  }
 },
 "nbformat": 4,
 "nbformat_minor": 1
}
