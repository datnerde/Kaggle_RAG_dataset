{
 "cells": [
  {
   "cell_type": "code",
   "execution_count": 1,
   "id": "b11fd9e7",
   "metadata": {
    "execution": {
     "iopub.execute_input": "2024-12-29T00:25:47.742121Z",
     "iopub.status.busy": "2024-12-29T00:25:47.741718Z",
     "iopub.status.idle": "2024-12-29T00:26:13.300756Z",
     "shell.execute_reply": "2024-12-29T00:26:13.299602Z"
    },
    "papermill": {
     "duration": 25.568841,
     "end_time": "2024-12-29T00:26:13.302752",
     "exception": false,
     "start_time": "2024-12-29T00:25:47.733911",
     "status": "completed"
    },
    "tags": []
   },
   "outputs": [
    {
     "name": "stdout",
     "output_type": "stream",
     "text": [
      "Processing /kaggle/input/pip-install-lifelines/autograd-1.7.0-py3-none-any.whl\r\n",
      "Requirement already satisfied: numpy in /usr/local/lib/python3.10/dist-packages (from autograd==1.7.0) (1.26.4)\r\n",
      "autograd is already installed with the same version as the provided wheel. Use --force-reinstall to force an installation of the wheel.\r\n",
      "Processing /kaggle/input/pip-install-lifelines/autograd-gamma-0.5.0.tar.gz\r\n",
      "  Preparing metadata (setup.py) ... \u001b[?25l\u001b[?25hdone\r\n",
      "Requirement already satisfied: autograd>=1.2.0 in /usr/local/lib/python3.10/dist-packages (from autograd-gamma==0.5.0) (1.7.0)\r\n",
      "Requirement already satisfied: scipy>=1.2.0 in /usr/local/lib/python3.10/dist-packages (from autograd-gamma==0.5.0) (1.13.1)\r\n",
      "Requirement already satisfied: numpy in /usr/local/lib/python3.10/dist-packages (from autograd>=1.2.0->autograd-gamma==0.5.0) (1.26.4)\r\n",
      "Building wheels for collected packages: autograd-gamma\r\n",
      "  Building wheel for autograd-gamma (setup.py) ... \u001b[?25l\u001b[?25hdone\r\n",
      "  Created wheel for autograd-gamma: filename=autograd_gamma-0.5.0-py3-none-any.whl size=4031 sha256=a2f1a0b7590a11059afc8f1fff55c9027092c50a018b6b1fc2e16c0939fbf4b0\r\n",
      "  Stored in directory: /root/.cache/pip/wheels/6b/b5/e0/4c79e15c0b5f2c15ecf613c720bb20daab20a666eb67135155\r\n",
      "Successfully built autograd-gamma\r\n",
      "Installing collected packages: autograd-gamma\r\n",
      "Successfully installed autograd-gamma-0.5.0\r\n",
      "Processing /kaggle/input/pip-install-lifelines/interface_meta-1.3.0-py3-none-any.whl\r\n",
      "Installing collected packages: interface-meta\r\n",
      "Successfully installed interface-meta-1.3.0\r\n",
      "Processing /kaggle/input/pip-install-lifelines/formulaic-1.0.2-py3-none-any.whl\r\n",
      "Requirement already satisfied: interface-meta>=1.2.0 in /usr/local/lib/python3.10/dist-packages (from formulaic==1.0.2) (1.3.0)\r\n",
      "Requirement already satisfied: numpy>=1.16.5 in /usr/local/lib/python3.10/dist-packages (from formulaic==1.0.2) (1.26.4)\r\n",
      "Requirement already satisfied: pandas>=1.0 in /usr/local/lib/python3.10/dist-packages (from formulaic==1.0.2) (2.1.4)\r\n",
      "Requirement already satisfied: scipy>=1.6 in /usr/local/lib/python3.10/dist-packages (from formulaic==1.0.2) (1.13.1)\r\n",
      "Requirement already satisfied: typing-extensions>=4.2.0 in /usr/local/lib/python3.10/dist-packages (from formulaic==1.0.2) (4.12.2)\r\n",
      "Requirement already satisfied: wrapt>=1.0 in /usr/local/lib/python3.10/dist-packages (from formulaic==1.0.2) (1.16.0)\r\n",
      "Requirement already satisfied: python-dateutil>=2.8.2 in /usr/local/lib/python3.10/dist-packages (from pandas>=1.0->formulaic==1.0.2) (2.8.2)\r\n",
      "Requirement already satisfied: pytz>=2020.1 in /usr/local/lib/python3.10/dist-packages (from pandas>=1.0->formulaic==1.0.2) (2024.2)\r\n",
      "Requirement already satisfied: tzdata>=2022.1 in /usr/local/lib/python3.10/dist-packages (from pandas>=1.0->formulaic==1.0.2) (2024.1)\r\n",
      "Requirement already satisfied: six>=1.5 in /usr/local/lib/python3.10/dist-packages (from python-dateutil>=2.8.2->pandas>=1.0->formulaic==1.0.2) (1.16.0)\r\n",
      "Installing collected packages: formulaic\r\n",
      "Successfully installed formulaic-1.0.2\r\n",
      "Processing /kaggle/input/pip-install-lifelines/lifelines-0.30.0-py3-none-any.whl\r\n",
      "Requirement already satisfied: numpy>=1.14.0 in /usr/local/lib/python3.10/dist-packages (from lifelines==0.30.0) (1.26.4)\r\n",
      "Requirement already satisfied: scipy>=1.7.0 in /usr/local/lib/python3.10/dist-packages (from lifelines==0.30.0) (1.13.1)\r\n",
      "Requirement already satisfied: pandas>=2.1 in /usr/local/lib/python3.10/dist-packages (from lifelines==0.30.0) (2.1.4)\r\n",
      "Requirement already satisfied: matplotlib>=3.0 in /usr/local/lib/python3.10/dist-packages (from lifelines==0.30.0) (3.7.1)\r\n",
      "Requirement already satisfied: autograd>=1.5 in /usr/local/lib/python3.10/dist-packages (from lifelines==0.30.0) (1.7.0)\r\n",
      "Requirement already satisfied: autograd-gamma>=0.3 in /usr/local/lib/python3.10/dist-packages (from lifelines==0.30.0) (0.5.0)\r\n",
      "Requirement already satisfied: formulaic>=0.2.2 in /usr/local/lib/python3.10/dist-packages (from lifelines==0.30.0) (1.0.2)\r\n",
      "Requirement already satisfied: interface-meta>=1.2.0 in /usr/local/lib/python3.10/dist-packages (from formulaic>=0.2.2->lifelines==0.30.0) (1.3.0)\r\n",
      "Requirement already satisfied: typing-extensions>=4.2.0 in /usr/local/lib/python3.10/dist-packages (from formulaic>=0.2.2->lifelines==0.30.0) (4.12.2)\r\n",
      "Requirement already satisfied: wrapt>=1.0 in /usr/local/lib/python3.10/dist-packages (from formulaic>=0.2.2->lifelines==0.30.0) (1.16.0)\r\n",
      "Requirement already satisfied: contourpy>=1.0.1 in /usr/local/lib/python3.10/dist-packages (from matplotlib>=3.0->lifelines==0.30.0) (1.3.0)\r\n",
      "Requirement already satisfied: cycler>=0.10 in /usr/local/lib/python3.10/dist-packages (from matplotlib>=3.0->lifelines==0.30.0) (0.12.1)\r\n",
      "Requirement already satisfied: fonttools>=4.22.0 in /usr/local/lib/python3.10/dist-packages (from matplotlib>=3.0->lifelines==0.30.0) (4.53.1)\r\n",
      "Requirement already satisfied: kiwisolver>=1.0.1 in /usr/local/lib/python3.10/dist-packages (from matplotlib>=3.0->lifelines==0.30.0) (1.4.7)\r\n",
      "Requirement already satisfied: packaging>=20.0 in /usr/local/lib/python3.10/dist-packages (from matplotlib>=3.0->lifelines==0.30.0) (24.1)\r\n",
      "Requirement already satisfied: pillow>=6.2.0 in /usr/local/lib/python3.10/dist-packages (from matplotlib>=3.0->lifelines==0.30.0) (10.4.0)\r\n",
      "Requirement already satisfied: pyparsing>=2.3.1 in /usr/local/lib/python3.10/dist-packages (from matplotlib>=3.0->lifelines==0.30.0) (3.1.4)\r\n",
      "Requirement already satisfied: python-dateutil>=2.7 in /usr/local/lib/python3.10/dist-packages (from matplotlib>=3.0->lifelines==0.30.0) (2.8.2)\r\n",
      "Requirement already satisfied: pytz>=2020.1 in /usr/local/lib/python3.10/dist-packages (from pandas>=2.1->lifelines==0.30.0) (2024.2)\r\n",
      "Requirement already satisfied: tzdata>=2022.1 in /usr/local/lib/python3.10/dist-packages (from pandas>=2.1->lifelines==0.30.0) (2024.1)\r\n",
      "Requirement already satisfied: six>=1.5 in /usr/local/lib/python3.10/dist-packages (from python-dateutil>=2.7->matplotlib>=3.0->lifelines==0.30.0) (1.16.0)\r\n",
      "Installing collected packages: lifelines\r\n",
      "Successfully installed lifelines-0.30.0\r\n"
     ]
    }
   ],
   "source": [
    "!pip install /kaggle/input/pip-install-lifelines/autograd-1.7.0-py3-none-any.whl\n",
    "!pip install /kaggle/input/pip-install-lifelines/autograd-gamma-0.5.0.tar.gz\n",
    "!pip install /kaggle/input/pip-install-lifelines/interface_meta-1.3.0-py3-none-any.whl\n",
    "!pip install /kaggle/input/pip-install-lifelines/formulaic-1.0.2-py3-none-any.whl\n",
    "!pip install /kaggle/input/pip-install-lifelines/lifelines-0.30.0-py3-none-any.whl"
   ]
  },
  {
   "cell_type": "code",
   "execution_count": 2,
   "id": "9f4c21fb",
   "metadata": {
    "execution": {
     "iopub.execute_input": "2024-12-29T00:26:13.319161Z",
     "iopub.status.busy": "2024-12-29T00:26:13.318775Z",
     "iopub.status.idle": "2024-12-29T00:26:16.500987Z",
     "shell.execute_reply": "2024-12-29T00:26:16.499777Z"
    },
    "papermill": {
     "duration": 3.192625,
     "end_time": "2024-12-29T00:26:16.503078",
     "exception": false,
     "start_time": "2024-12-29T00:26:13.310453",
     "status": "completed"
    },
    "tags": []
   },
   "outputs": [],
   "source": [
    "import pandas as pd\n",
    "import numpy as np\n",
    "from sklearn.model_selection import train_test_split, GridSearchCV\n",
    "from sklearn.metrics import mean_squared_error\n",
    "from catboost import CatBoostRegressor\n",
    "from sklearn.impute import SimpleImputer\n",
    "from sklearn.preprocessing import StandardScaler, OneHotEncoder\n",
    "from sklearn.pipeline import Pipeline\n",
    "from lifelines.utils import concordance_index\n",
    "from lifelines import KaplanMeierFitter\n",
    "import warnings\n",
    "warnings.filterwarnings('ignore')"
   ]
  },
  {
   "cell_type": "code",
   "execution_count": 3,
   "id": "156953b5",
   "metadata": {
    "execution": {
     "iopub.execute_input": "2024-12-29T00:26:16.519220Z",
     "iopub.status.busy": "2024-12-29T00:26:16.518671Z",
     "iopub.status.idle": "2024-12-29T00:26:16.899355Z",
     "shell.execute_reply": "2024-12-29T00:26:16.898319Z"
    },
    "papermill": {
     "duration": 0.390872,
     "end_time": "2024-12-29T00:26:16.901416",
     "exception": false,
     "start_time": "2024-12-29T00:26:16.510544",
     "status": "completed"
    },
    "tags": []
   },
   "outputs": [],
   "source": [
    "# Load the data\n",
    "data = pd.read_csv('/kaggle/input/equity-post-HCT-survival-predictions/train.csv')"
   ]
  },
  {
   "cell_type": "code",
   "execution_count": 4,
   "id": "1030a391",
   "metadata": {
    "execution": {
     "iopub.execute_input": "2024-12-29T00:26:16.917374Z",
     "iopub.status.busy": "2024-12-29T00:26:16.916994Z",
     "iopub.status.idle": "2024-12-29T00:26:16.923611Z",
     "shell.execute_reply": "2024-12-29T00:26:16.922713Z"
    },
    "papermill": {
     "duration": 0.016341,
     "end_time": "2024-12-29T00:26:16.925269",
     "exception": false,
     "start_time": "2024-12-29T00:26:16.908928",
     "status": "completed"
    },
    "tags": []
   },
   "outputs": [
    {
     "data": {
      "text/plain": [
       "(28800, 60)"
      ]
     },
     "execution_count": 4,
     "metadata": {},
     "output_type": "execute_result"
    }
   ],
   "source": [
    "data.shape"
   ]
  },
  {
   "cell_type": "code",
   "execution_count": 5,
   "id": "3bfcac9e",
   "metadata": {
    "execution": {
     "iopub.execute_input": "2024-12-29T00:26:16.941209Z",
     "iopub.status.busy": "2024-12-29T00:26:16.940777Z",
     "iopub.status.idle": "2024-12-29T00:26:16.975654Z",
     "shell.execute_reply": "2024-12-29T00:26:16.974459Z"
    },
    "papermill": {
     "duration": 0.044674,
     "end_time": "2024-12-29T00:26:16.977397",
     "exception": false,
     "start_time": "2024-12-29T00:26:16.932723",
     "status": "completed"
    },
    "tags": []
   },
   "outputs": [
    {
     "data": {
      "text/html": [
       "<div>\n",
       "<style scoped>\n",
       "    .dataframe tbody tr th:only-of-type {\n",
       "        vertical-align: middle;\n",
       "    }\n",
       "\n",
       "    .dataframe tbody tr th {\n",
       "        vertical-align: top;\n",
       "    }\n",
       "\n",
       "    .dataframe thead th {\n",
       "        text-align: right;\n",
       "    }\n",
       "</style>\n",
       "<table border=\"1\" class=\"dataframe\">\n",
       "  <thead>\n",
       "    <tr style=\"text-align: right;\">\n",
       "      <th></th>\n",
       "      <th>ID</th>\n",
       "      <th>dri_score</th>\n",
       "      <th>psych_disturb</th>\n",
       "      <th>cyto_score</th>\n",
       "      <th>diabetes</th>\n",
       "      <th>hla_match_c_high</th>\n",
       "      <th>hla_high_res_8</th>\n",
       "      <th>tbi_status</th>\n",
       "      <th>arrhythmia</th>\n",
       "      <th>hla_low_res_6</th>\n",
       "      <th>...</th>\n",
       "      <th>tce_div_match</th>\n",
       "      <th>donor_related</th>\n",
       "      <th>melphalan_dose</th>\n",
       "      <th>hla_low_res_8</th>\n",
       "      <th>cardiac</th>\n",
       "      <th>hla_match_drb1_high</th>\n",
       "      <th>pulm_moderate</th>\n",
       "      <th>hla_low_res_10</th>\n",
       "      <th>efs</th>\n",
       "      <th>efs_time</th>\n",
       "    </tr>\n",
       "  </thead>\n",
       "  <tbody>\n",
       "    <tr>\n",
       "      <th>0</th>\n",
       "      <td>0</td>\n",
       "      <td>N/A - non-malignant indication</td>\n",
       "      <td>No</td>\n",
       "      <td>NaN</td>\n",
       "      <td>No</td>\n",
       "      <td>NaN</td>\n",
       "      <td>NaN</td>\n",
       "      <td>No TBI</td>\n",
       "      <td>No</td>\n",
       "      <td>6.0</td>\n",
       "      <td>...</td>\n",
       "      <td>NaN</td>\n",
       "      <td>Unrelated</td>\n",
       "      <td>N/A, Mel not given</td>\n",
       "      <td>8.0</td>\n",
       "      <td>No</td>\n",
       "      <td>2.0</td>\n",
       "      <td>No</td>\n",
       "      <td>10.0</td>\n",
       "      <td>0.0</td>\n",
       "      <td>42.356</td>\n",
       "    </tr>\n",
       "    <tr>\n",
       "      <th>1</th>\n",
       "      <td>1</td>\n",
       "      <td>Intermediate</td>\n",
       "      <td>No</td>\n",
       "      <td>Intermediate</td>\n",
       "      <td>No</td>\n",
       "      <td>2.0</td>\n",
       "      <td>8.0</td>\n",
       "      <td>TBI +- Other, &gt;cGy</td>\n",
       "      <td>No</td>\n",
       "      <td>6.0</td>\n",
       "      <td>...</td>\n",
       "      <td>Permissive mismatched</td>\n",
       "      <td>Related</td>\n",
       "      <td>N/A, Mel not given</td>\n",
       "      <td>8.0</td>\n",
       "      <td>No</td>\n",
       "      <td>2.0</td>\n",
       "      <td>Yes</td>\n",
       "      <td>10.0</td>\n",
       "      <td>1.0</td>\n",
       "      <td>4.672</td>\n",
       "    </tr>\n",
       "  </tbody>\n",
       "</table>\n",
       "<p>2 rows × 60 columns</p>\n",
       "</div>"
      ],
      "text/plain": [
       "   ID                       dri_score psych_disturb    cyto_score diabetes  \\\n",
       "0   0  N/A - non-malignant indication            No           NaN       No   \n",
       "1   1                    Intermediate            No  Intermediate       No   \n",
       "\n",
       "   hla_match_c_high  hla_high_res_8          tbi_status arrhythmia  \\\n",
       "0               NaN             NaN              No TBI         No   \n",
       "1               2.0             8.0  TBI +- Other, >cGy         No   \n",
       "\n",
       "   hla_low_res_6  ...          tce_div_match donor_related  \\\n",
       "0            6.0  ...                    NaN     Unrelated   \n",
       "1            6.0  ...  Permissive mismatched       Related   \n",
       "\n",
       "       melphalan_dose hla_low_res_8 cardiac  hla_match_drb1_high  \\\n",
       "0  N/A, Mel not given           8.0      No                  2.0   \n",
       "1  N/A, Mel not given           8.0      No                  2.0   \n",
       "\n",
       "  pulm_moderate  hla_low_res_10  efs efs_time  \n",
       "0            No            10.0  0.0   42.356  \n",
       "1           Yes            10.0  1.0    4.672  \n",
       "\n",
       "[2 rows x 60 columns]"
      ]
     },
     "execution_count": 5,
     "metadata": {},
     "output_type": "execute_result"
    }
   ],
   "source": [
    "data.head(2)"
   ]
  },
  {
   "cell_type": "code",
   "execution_count": 6,
   "id": "6b369103",
   "metadata": {
    "execution": {
     "iopub.execute_input": "2024-12-29T00:26:16.994131Z",
     "iopub.status.busy": "2024-12-29T00:26:16.993721Z",
     "iopub.status.idle": "2024-12-29T00:26:17.060379Z",
     "shell.execute_reply": "2024-12-29T00:26:17.059333Z"
    },
    "papermill": {
     "duration": 0.077256,
     "end_time": "2024-12-29T00:26:17.062361",
     "exception": false,
     "start_time": "2024-12-29T00:26:16.985105",
     "status": "completed"
    },
    "tags": []
   },
   "outputs": [],
   "source": [
    "def kaplan(data, time_col = 'efs_time', event_col='efs'):\n",
    "    \n",
    "    kmf = KaplanMeierFitter()\n",
    "    kmf.fit(data[time_col], event_observed=data[event_col])\n",
    "    return kmf.survival_function_at_times(data[time_col]).values.flatten()\n",
    "\n",
    "\n",
    "data['target'] = kaplan(data=data)"
   ]
  },
  {
   "cell_type": "code",
   "execution_count": 7,
   "id": "9dd37ee5",
   "metadata": {
    "execution": {
     "iopub.execute_input": "2024-12-29T00:26:17.079411Z",
     "iopub.status.busy": "2024-12-29T00:26:17.078998Z",
     "iopub.status.idle": "2024-12-29T00:26:17.085085Z",
     "shell.execute_reply": "2024-12-29T00:26:17.084044Z"
    },
    "papermill": {
     "duration": 0.01636,
     "end_time": "2024-12-29T00:26:17.086733",
     "exception": false,
     "start_time": "2024-12-29T00:26:17.070373",
     "status": "completed"
    },
    "tags": []
   },
   "outputs": [
    {
     "data": {
      "text/plain": [
       "(28800, 61)"
      ]
     },
     "execution_count": 7,
     "metadata": {},
     "output_type": "execute_result"
    }
   ],
   "source": [
    "data.shape"
   ]
  },
  {
   "cell_type": "code",
   "execution_count": 8,
   "id": "4a370640",
   "metadata": {
    "execution": {
     "iopub.execute_input": "2024-12-29T00:26:17.103411Z",
     "iopub.status.busy": "2024-12-29T00:26:17.103023Z",
     "iopub.status.idle": "2024-12-29T00:26:17.128487Z",
     "shell.execute_reply": "2024-12-29T00:26:17.127324Z"
    },
    "papermill": {
     "duration": 0.036049,
     "end_time": "2024-12-29T00:26:17.130534",
     "exception": false,
     "start_time": "2024-12-29T00:26:17.094485",
     "status": "completed"
    },
    "tags": []
   },
   "outputs": [],
   "source": [
    "new_data = data.drop(columns=['efs', 'efs_time'], errors='ignore', index=False)"
   ]
  },
  {
   "cell_type": "code",
   "execution_count": 9,
   "id": "36e0da2e",
   "metadata": {
    "execution": {
     "iopub.execute_input": "2024-12-29T00:26:17.147411Z",
     "iopub.status.busy": "2024-12-29T00:26:17.147015Z",
     "iopub.status.idle": "2024-12-29T00:26:17.152659Z",
     "shell.execute_reply": "2024-12-29T00:26:17.151629Z"
    },
    "papermill": {
     "duration": 0.016287,
     "end_time": "2024-12-29T00:26:17.154545",
     "exception": false,
     "start_time": "2024-12-29T00:26:17.138258",
     "status": "completed"
    },
    "tags": []
   },
   "outputs": [
    {
     "data": {
      "text/plain": [
       "(28800, 59)"
      ]
     },
     "execution_count": 9,
     "metadata": {},
     "output_type": "execute_result"
    }
   ],
   "source": [
    "new_data.shape"
   ]
  },
  {
   "cell_type": "code",
   "execution_count": 10,
   "id": "220e0fdc",
   "metadata": {
    "execution": {
     "iopub.execute_input": "2024-12-29T00:26:17.171711Z",
     "iopub.status.busy": "2024-12-29T00:26:17.171334Z",
     "iopub.status.idle": "2024-12-29T00:26:17.191490Z",
     "shell.execute_reply": "2024-12-29T00:26:17.190397Z"
    },
    "papermill": {
     "duration": 0.030702,
     "end_time": "2024-12-29T00:26:17.193345",
     "exception": false,
     "start_time": "2024-12-29T00:26:17.162643",
     "status": "completed"
    },
    "tags": []
   },
   "outputs": [
    {
     "data": {
      "text/html": [
       "<div>\n",
       "<style scoped>\n",
       "    .dataframe tbody tr th:only-of-type {\n",
       "        vertical-align: middle;\n",
       "    }\n",
       "\n",
       "    .dataframe tbody tr th {\n",
       "        vertical-align: top;\n",
       "    }\n",
       "\n",
       "    .dataframe thead th {\n",
       "        text-align: right;\n",
       "    }\n",
       "</style>\n",
       "<table border=\"1\" class=\"dataframe\">\n",
       "  <thead>\n",
       "    <tr style=\"text-align: right;\">\n",
       "      <th></th>\n",
       "      <th>ID</th>\n",
       "      <th>dri_score</th>\n",
       "      <th>psych_disturb</th>\n",
       "      <th>cyto_score</th>\n",
       "      <th>diabetes</th>\n",
       "      <th>hla_match_c_high</th>\n",
       "      <th>hla_high_res_8</th>\n",
       "      <th>tbi_status</th>\n",
       "      <th>arrhythmia</th>\n",
       "      <th>hla_low_res_6</th>\n",
       "      <th>...</th>\n",
       "      <th>hepatic_mild</th>\n",
       "      <th>tce_div_match</th>\n",
       "      <th>donor_related</th>\n",
       "      <th>melphalan_dose</th>\n",
       "      <th>hla_low_res_8</th>\n",
       "      <th>cardiac</th>\n",
       "      <th>hla_match_drb1_high</th>\n",
       "      <th>pulm_moderate</th>\n",
       "      <th>hla_low_res_10</th>\n",
       "      <th>target</th>\n",
       "    </tr>\n",
       "  </thead>\n",
       "  <tbody>\n",
       "    <tr>\n",
       "      <th>0</th>\n",
       "      <td>0</td>\n",
       "      <td>N/A - non-malignant indication</td>\n",
       "      <td>No</td>\n",
       "      <td>NaN</td>\n",
       "      <td>No</td>\n",
       "      <td>NaN</td>\n",
       "      <td>NaN</td>\n",
       "      <td>No TBI</td>\n",
       "      <td>No</td>\n",
       "      <td>6.0</td>\n",
       "      <td>...</td>\n",
       "      <td>No</td>\n",
       "      <td>NaN</td>\n",
       "      <td>Unrelated</td>\n",
       "      <td>N/A, Mel not given</td>\n",
       "      <td>8.0</td>\n",
       "      <td>No</td>\n",
       "      <td>2.0</td>\n",
       "      <td>No</td>\n",
       "      <td>10.0</td>\n",
       "      <td>0.458687</td>\n",
       "    </tr>\n",
       "  </tbody>\n",
       "</table>\n",
       "<p>1 rows × 59 columns</p>\n",
       "</div>"
      ],
      "text/plain": [
       "   ID                       dri_score psych_disturb cyto_score diabetes  \\\n",
       "0   0  N/A - non-malignant indication            No        NaN       No   \n",
       "\n",
       "   hla_match_c_high  hla_high_res_8 tbi_status arrhythmia  hla_low_res_6  ...  \\\n",
       "0               NaN             NaN     No TBI         No            6.0  ...   \n",
       "\n",
       "  hepatic_mild tce_div_match donor_related      melphalan_dose hla_low_res_8  \\\n",
       "0           No           NaN     Unrelated  N/A, Mel not given           8.0   \n",
       "\n",
       "   cardiac hla_match_drb1_high  pulm_moderate  hla_low_res_10    target  \n",
       "0       No                 2.0             No            10.0  0.458687  \n",
       "\n",
       "[1 rows x 59 columns]"
      ]
     },
     "execution_count": 10,
     "metadata": {},
     "output_type": "execute_result"
    }
   ],
   "source": [
    "new_data.head(1)"
   ]
  },
  {
   "cell_type": "code",
   "execution_count": 11,
   "id": "7dc67861",
   "metadata": {
    "execution": {
     "iopub.execute_input": "2024-12-29T00:26:17.211374Z",
     "iopub.status.busy": "2024-12-29T00:26:17.210788Z",
     "iopub.status.idle": "2024-12-29T00:26:18.582352Z",
     "shell.execute_reply": "2024-12-29T00:26:18.581259Z"
    },
    "papermill": {
     "duration": 1.38225,
     "end_time": "2024-12-29T00:26:18.584212",
     "exception": false,
     "start_time": "2024-12-29T00:26:17.201962",
     "status": "completed"
    },
    "tags": []
   },
   "outputs": [],
   "source": [
    "# Cleaning data: Dropping duplicate rows and irrelevant columns\n",
    "data_cleaned = new_data.drop(columns=[\"ID\"], errors='ignore').drop_duplicates()\n",
    "\n",
    "# Replacing common null values in text fields and converting to lowercase\n",
    "for col in data_cleaned.select_dtypes(include='object').columns:\n",
    "    data_cleaned[col] = data_cleaned[col].str.strip().str.lower().replace(\n",
    "        {'n/a': None, 'na': None, 'nan': None, '-': None})\n",
    "\n",
    "# Filling missing values for numerical columns with their median\n",
    "numerical_cols = data_cleaned.select_dtypes(include=['float64', 'int64']).columns\n",
    "data_cleaned[numerical_cols] = data_cleaned[numerical_cols].fillna(data_cleaned[numerical_cols].median())\n",
    "\n",
    "# Filling missing values for categorical columns with their mode\n",
    "categorical_cols = data_cleaned.select_dtypes(include='object').columns\n",
    "data_cleaned[categorical_cols] = data_cleaned[categorical_cols].apply(\n",
    "    lambda col: col.fillna(col.mode()[0] if not col.mode().empty else 'unknown'))\n",
    "\n",
    "for i in data_cleaned[categorical_cols]:\n",
    "    data_cleaned[i], _ = pd.factorize(data_cleaned[i])\n",
    "    \n"
   ]
  },
  {
   "cell_type": "code",
   "execution_count": 12,
   "id": "9715dac6",
   "metadata": {
    "execution": {
     "iopub.execute_input": "2024-12-29T00:26:18.602897Z",
     "iopub.status.busy": "2024-12-29T00:26:18.602466Z",
     "iopub.status.idle": "2024-12-29T00:26:18.608268Z",
     "shell.execute_reply": "2024-12-29T00:26:18.607175Z"
    },
    "papermill": {
     "duration": 0.017641,
     "end_time": "2024-12-29T00:26:18.610267",
     "exception": false,
     "start_time": "2024-12-29T00:26:18.592626",
     "status": "completed"
    },
    "tags": []
   },
   "outputs": [
    {
     "data": {
      "text/plain": [
       "(28800, 58)"
      ]
     },
     "execution_count": 12,
     "metadata": {},
     "output_type": "execute_result"
    }
   ],
   "source": [
    "data_cleaned.shape"
   ]
  },
  {
   "cell_type": "code",
   "execution_count": 13,
   "id": "73deb96b",
   "metadata": {
    "execution": {
     "iopub.execute_input": "2024-12-29T00:26:18.627744Z",
     "iopub.status.busy": "2024-12-29T00:26:18.627377Z",
     "iopub.status.idle": "2024-12-29T00:26:18.646780Z",
     "shell.execute_reply": "2024-12-29T00:26:18.645610Z"
    },
    "papermill": {
     "duration": 0.030508,
     "end_time": "2024-12-29T00:26:18.648809",
     "exception": false,
     "start_time": "2024-12-29T00:26:18.618301",
     "status": "completed"
    },
    "tags": []
   },
   "outputs": [
    {
     "data": {
      "text/html": [
       "<div>\n",
       "<style scoped>\n",
       "    .dataframe tbody tr th:only-of-type {\n",
       "        vertical-align: middle;\n",
       "    }\n",
       "\n",
       "    .dataframe tbody tr th {\n",
       "        vertical-align: top;\n",
       "    }\n",
       "\n",
       "    .dataframe thead th {\n",
       "        text-align: right;\n",
       "    }\n",
       "</style>\n",
       "<table border=\"1\" class=\"dataframe\">\n",
       "  <thead>\n",
       "    <tr style=\"text-align: right;\">\n",
       "      <th></th>\n",
       "      <th>dri_score</th>\n",
       "      <th>psych_disturb</th>\n",
       "      <th>cyto_score</th>\n",
       "      <th>diabetes</th>\n",
       "      <th>hla_match_c_high</th>\n",
       "      <th>hla_high_res_8</th>\n",
       "      <th>tbi_status</th>\n",
       "      <th>arrhythmia</th>\n",
       "      <th>hla_low_res_6</th>\n",
       "      <th>graft_type</th>\n",
       "      <th>...</th>\n",
       "      <th>hepatic_mild</th>\n",
       "      <th>tce_div_match</th>\n",
       "      <th>donor_related</th>\n",
       "      <th>melphalan_dose</th>\n",
       "      <th>hla_low_res_8</th>\n",
       "      <th>cardiac</th>\n",
       "      <th>hla_match_drb1_high</th>\n",
       "      <th>pulm_moderate</th>\n",
       "      <th>hla_low_res_10</th>\n",
       "      <th>target</th>\n",
       "    </tr>\n",
       "  </thead>\n",
       "  <tbody>\n",
       "    <tr>\n",
       "      <th>0</th>\n",
       "      <td>0</td>\n",
       "      <td>0</td>\n",
       "      <td>0</td>\n",
       "      <td>0</td>\n",
       "      <td>2.0</td>\n",
       "      <td>8.0</td>\n",
       "      <td>0</td>\n",
       "      <td>0</td>\n",
       "      <td>6.0</td>\n",
       "      <td>0</td>\n",
       "      <td>...</td>\n",
       "      <td>0</td>\n",
       "      <td>0</td>\n",
       "      <td>0</td>\n",
       "      <td>0</td>\n",
       "      <td>8.0</td>\n",
       "      <td>0</td>\n",
       "      <td>2.0</td>\n",
       "      <td>0</td>\n",
       "      <td>10.0</td>\n",
       "      <td>0.458687</td>\n",
       "    </tr>\n",
       "    <tr>\n",
       "      <th>1</th>\n",
       "      <td>1</td>\n",
       "      <td>0</td>\n",
       "      <td>1</td>\n",
       "      <td>0</td>\n",
       "      <td>2.0</td>\n",
       "      <td>8.0</td>\n",
       "      <td>1</td>\n",
       "      <td>0</td>\n",
       "      <td>6.0</td>\n",
       "      <td>1</td>\n",
       "      <td>...</td>\n",
       "      <td>0</td>\n",
       "      <td>0</td>\n",
       "      <td>1</td>\n",
       "      <td>0</td>\n",
       "      <td>8.0</td>\n",
       "      <td>0</td>\n",
       "      <td>2.0</td>\n",
       "      <td>1</td>\n",
       "      <td>10.0</td>\n",
       "      <td>0.847759</td>\n",
       "    </tr>\n",
       "    <tr>\n",
       "      <th>2</th>\n",
       "      <td>0</td>\n",
       "      <td>0</td>\n",
       "      <td>0</td>\n",
       "      <td>0</td>\n",
       "      <td>2.0</td>\n",
       "      <td>8.0</td>\n",
       "      <td>0</td>\n",
       "      <td>0</td>\n",
       "      <td>6.0</td>\n",
       "      <td>0</td>\n",
       "      <td>...</td>\n",
       "      <td>0</td>\n",
       "      <td>0</td>\n",
       "      <td>1</td>\n",
       "      <td>0</td>\n",
       "      <td>8.0</td>\n",
       "      <td>0</td>\n",
       "      <td>2.0</td>\n",
       "      <td>0</td>\n",
       "      <td>10.0</td>\n",
       "      <td>0.462424</td>\n",
       "    </tr>\n",
       "  </tbody>\n",
       "</table>\n",
       "<p>3 rows × 58 columns</p>\n",
       "</div>"
      ],
      "text/plain": [
       "   dri_score  psych_disturb  cyto_score  diabetes  hla_match_c_high  \\\n",
       "0          0              0           0         0               2.0   \n",
       "1          1              0           1         0               2.0   \n",
       "2          0              0           0         0               2.0   \n",
       "\n",
       "   hla_high_res_8  tbi_status  arrhythmia  hla_low_res_6  graft_type  ...  \\\n",
       "0             8.0           0           0            6.0           0  ...   \n",
       "1             8.0           1           0            6.0           1  ...   \n",
       "2             8.0           0           0            6.0           0  ...   \n",
       "\n",
       "   hepatic_mild  tce_div_match  donor_related  melphalan_dose  hla_low_res_8  \\\n",
       "0             0              0              0               0            8.0   \n",
       "1             0              0              1               0            8.0   \n",
       "2             0              0              1               0            8.0   \n",
       "\n",
       "   cardiac  hla_match_drb1_high  pulm_moderate  hla_low_res_10    target  \n",
       "0        0                  2.0              0            10.0  0.458687  \n",
       "1        0                  2.0              1            10.0  0.847759  \n",
       "2        0                  2.0              0            10.0  0.462424  \n",
       "\n",
       "[3 rows x 58 columns]"
      ]
     },
     "execution_count": 13,
     "metadata": {},
     "output_type": "execute_result"
    }
   ],
   "source": [
    "data_cleaned.head(3)"
   ]
  },
  {
   "cell_type": "code",
   "execution_count": 14,
   "id": "ff2f8cc4",
   "metadata": {
    "execution": {
     "iopub.execute_input": "2024-12-29T00:26:18.666487Z",
     "iopub.status.busy": "2024-12-29T00:26:18.666142Z",
     "iopub.status.idle": "2024-12-29T00:26:18.682807Z",
     "shell.execute_reply": "2024-12-29T00:26:18.681643Z"
    },
    "papermill": {
     "duration": 0.02727,
     "end_time": "2024-12-29T00:26:18.684497",
     "exception": false,
     "start_time": "2024-12-29T00:26:18.657227",
     "status": "completed"
    },
    "tags": []
   },
   "outputs": [],
   "source": [
    "X = data_cleaned.drop(columns=['target', 'rituximab'], errors='ignore')\n",
    "y = data_cleaned[\"target\"]"
   ]
  },
  {
   "cell_type": "code",
   "execution_count": 15,
   "id": "f2a2c1c9",
   "metadata": {
    "execution": {
     "iopub.execute_input": "2024-12-29T00:26:18.702458Z",
     "iopub.status.busy": "2024-12-29T00:26:18.702118Z",
     "iopub.status.idle": "2024-12-29T00:26:18.749771Z",
     "shell.execute_reply": "2024-12-29T00:26:18.748775Z"
    },
    "papermill": {
     "duration": 0.05863,
     "end_time": "2024-12-29T00:26:18.751600",
     "exception": false,
     "start_time": "2024-12-29T00:26:18.692970",
     "status": "completed"
    },
    "tags": []
   },
   "outputs": [],
   "source": [
    "scalare = StandardScaler()\n",
    "X = scalare.fit_transform(X)\n"
   ]
  },
  {
   "cell_type": "code",
   "execution_count": 16,
   "id": "705fa8ed",
   "metadata": {
    "execution": {
     "iopub.execute_input": "2024-12-29T00:26:18.769698Z",
     "iopub.status.busy": "2024-12-29T00:26:18.769343Z",
     "iopub.status.idle": "2024-12-29T00:26:18.789579Z",
     "shell.execute_reply": "2024-12-29T00:26:18.788539Z"
    },
    "papermill": {
     "duration": 0.031419,
     "end_time": "2024-12-29T00:26:18.791524",
     "exception": false,
     "start_time": "2024-12-29T00:26:18.760105",
     "status": "completed"
    },
    "tags": []
   },
   "outputs": [],
   "source": [
    "\n",
    "X_train, X_test, y_train, y_test = train_test_split(X, y, test_size=0.2, random_state=42)"
   ]
  },
  {
   "cell_type": "code",
   "execution_count": 17,
   "id": "42912fab",
   "metadata": {
    "execution": {
     "iopub.execute_input": "2024-12-29T00:26:18.809563Z",
     "iopub.status.busy": "2024-12-29T00:26:18.809186Z",
     "iopub.status.idle": "2024-12-29T00:26:18.816967Z",
     "shell.execute_reply": "2024-12-29T00:26:18.815971Z"
    },
    "papermill": {
     "duration": 0.018529,
     "end_time": "2024-12-29T00:26:18.818625",
     "exception": false,
     "start_time": "2024-12-29T00:26:18.800096",
     "status": "completed"
    },
    "tags": []
   },
   "outputs": [],
   "source": [
    "# Define the CatBoostRegressor model\n",
    "model = CatBoostRegressor(verbose=0)"
   ]
  },
  {
   "cell_type": "code",
   "execution_count": 18,
   "id": "9be21fe3",
   "metadata": {
    "execution": {
     "iopub.execute_input": "2024-12-29T00:26:18.836735Z",
     "iopub.status.busy": "2024-12-29T00:26:18.836377Z",
     "iopub.status.idle": "2024-12-29T00:26:18.840738Z",
     "shell.execute_reply": "2024-12-29T00:26:18.839896Z"
    },
    "papermill": {
     "duration": 0.015551,
     "end_time": "2024-12-29T00:26:18.842456",
     "exception": false,
     "start_time": "2024-12-29T00:26:18.826905",
     "status": "completed"
    },
    "tags": []
   },
   "outputs": [],
   "source": [
    "# Define the hyperparameter grid\n",
    "param_grid = {\n",
    "    'iterations': [100, 200],\n",
    "    'learning_rate': [0.01, 0.1],\n",
    "    'depth': [4, 6, 8],\n",
    "    'l2_leaf_reg': [1, 3, 5]\n",
    "}"
   ]
  },
  {
   "cell_type": "code",
   "execution_count": 19,
   "id": "59ce3266",
   "metadata": {
    "execution": {
     "iopub.execute_input": "2024-12-29T00:26:18.860132Z",
     "iopub.status.busy": "2024-12-29T00:26:18.859709Z",
     "iopub.status.idle": "2024-12-29T00:28:15.463794Z",
     "shell.execute_reply": "2024-12-29T00:28:15.462648Z"
    },
    "papermill": {
     "duration": 116.614995,
     "end_time": "2024-12-29T00:28:15.465699",
     "exception": false,
     "start_time": "2024-12-29T00:26:18.850704",
     "status": "completed"
    },
    "tags": []
   },
   "outputs": [
    {
     "name": "stdout",
     "output_type": "stream",
     "text": [
      "Fitting 3 folds for each of 36 candidates, totalling 108 fits\n",
      "[CV] END depth=4, iterations=100, l2_leaf_reg=1, learning_rate=0.01; total time=   0.8s\n",
      "[CV] END depth=4, iterations=100, l2_leaf_reg=1, learning_rate=0.01; total time=   0.7s\n",
      "[CV] END depth=4, iterations=100, l2_leaf_reg=1, learning_rate=0.01; total time=   0.7s\n",
      "[CV] END depth=4, iterations=100, l2_leaf_reg=1, learning_rate=0.1; total time=   0.7s\n",
      "[CV] END depth=4, iterations=100, l2_leaf_reg=1, learning_rate=0.1; total time=   0.7s\n",
      "[CV] END depth=4, iterations=100, l2_leaf_reg=1, learning_rate=0.1; total time=   0.7s\n",
      "[CV] END depth=4, iterations=100, l2_leaf_reg=3, learning_rate=0.01; total time=   0.7s\n",
      "[CV] END depth=4, iterations=100, l2_leaf_reg=3, learning_rate=0.01; total time=   0.8s\n",
      "[CV] END depth=4, iterations=100, l2_leaf_reg=3, learning_rate=0.01; total time=   0.8s\n",
      "[CV] END depth=4, iterations=100, l2_leaf_reg=3, learning_rate=0.1; total time=   0.7s\n",
      "[CV] END depth=4, iterations=100, l2_leaf_reg=3, learning_rate=0.1; total time=   0.7s\n",
      "[CV] END depth=4, iterations=100, l2_leaf_reg=3, learning_rate=0.1; total time=   0.7s\n",
      "[CV] END depth=4, iterations=100, l2_leaf_reg=5, learning_rate=0.01; total time=   0.7s\n",
      "[CV] END depth=4, iterations=100, l2_leaf_reg=5, learning_rate=0.01; total time=   0.7s\n",
      "[CV] END depth=4, iterations=100, l2_leaf_reg=5, learning_rate=0.01; total time=   0.7s\n",
      "[CV] END depth=4, iterations=100, l2_leaf_reg=5, learning_rate=0.1; total time=   0.7s\n",
      "[CV] END depth=4, iterations=100, l2_leaf_reg=5, learning_rate=0.1; total time=   0.7s\n",
      "[CV] END depth=4, iterations=100, l2_leaf_reg=5, learning_rate=0.1; total time=   0.7s\n",
      "[CV] END depth=4, iterations=200, l2_leaf_reg=1, learning_rate=0.01; total time=   1.0s\n",
      "[CV] END depth=4, iterations=200, l2_leaf_reg=1, learning_rate=0.01; total time=   1.0s\n",
      "[CV] END depth=4, iterations=200, l2_leaf_reg=1, learning_rate=0.01; total time=   1.0s\n",
      "[CV] END depth=4, iterations=200, l2_leaf_reg=1, learning_rate=0.1; total time=   0.9s\n",
      "[CV] END depth=4, iterations=200, l2_leaf_reg=1, learning_rate=0.1; total time=   1.0s\n",
      "[CV] END depth=4, iterations=200, l2_leaf_reg=1, learning_rate=0.1; total time=   1.0s\n",
      "[CV] END depth=4, iterations=200, l2_leaf_reg=3, learning_rate=0.01; total time=   1.0s\n",
      "[CV] END depth=4, iterations=200, l2_leaf_reg=3, learning_rate=0.01; total time=   1.0s\n",
      "[CV] END depth=4, iterations=200, l2_leaf_reg=3, learning_rate=0.01; total time=   1.0s\n",
      "[CV] END depth=4, iterations=200, l2_leaf_reg=3, learning_rate=0.1; total time=   1.0s\n",
      "[CV] END depth=4, iterations=200, l2_leaf_reg=3, learning_rate=0.1; total time=   1.0s\n",
      "[CV] END depth=4, iterations=200, l2_leaf_reg=3, learning_rate=0.1; total time=   1.0s\n",
      "[CV] END depth=4, iterations=200, l2_leaf_reg=5, learning_rate=0.01; total time=   1.0s\n",
      "[CV] END depth=4, iterations=200, l2_leaf_reg=5, learning_rate=0.01; total time=   1.0s\n",
      "[CV] END depth=4, iterations=200, l2_leaf_reg=5, learning_rate=0.01; total time=   1.0s\n",
      "[CV] END depth=4, iterations=200, l2_leaf_reg=5, learning_rate=0.1; total time=   1.0s\n",
      "[CV] END depth=4, iterations=200, l2_leaf_reg=5, learning_rate=0.1; total time=   1.0s\n",
      "[CV] END depth=4, iterations=200, l2_leaf_reg=5, learning_rate=0.1; total time=   1.0s\n",
      "[CV] END depth=6, iterations=100, l2_leaf_reg=1, learning_rate=0.01; total time=   0.8s\n",
      "[CV] END depth=6, iterations=100, l2_leaf_reg=1, learning_rate=0.01; total time=   0.8s\n",
      "[CV] END depth=6, iterations=100, l2_leaf_reg=1, learning_rate=0.01; total time=   0.8s\n",
      "[CV] END depth=6, iterations=100, l2_leaf_reg=1, learning_rate=0.1; total time=   0.8s\n",
      "[CV] END depth=6, iterations=100, l2_leaf_reg=1, learning_rate=0.1; total time=   0.8s\n",
      "[CV] END depth=6, iterations=100, l2_leaf_reg=1, learning_rate=0.1; total time=   0.8s\n",
      "[CV] END depth=6, iterations=100, l2_leaf_reg=3, learning_rate=0.01; total time=   0.8s\n",
      "[CV] END depth=6, iterations=100, l2_leaf_reg=3, learning_rate=0.01; total time=   0.8s\n",
      "[CV] END depth=6, iterations=100, l2_leaf_reg=3, learning_rate=0.01; total time=   0.8s\n",
      "[CV] END depth=6, iterations=100, l2_leaf_reg=3, learning_rate=0.1; total time=   0.9s\n",
      "[CV] END depth=6, iterations=100, l2_leaf_reg=3, learning_rate=0.1; total time=   0.9s\n",
      "[CV] END depth=6, iterations=100, l2_leaf_reg=3, learning_rate=0.1; total time=   0.8s\n",
      "[CV] END depth=6, iterations=100, l2_leaf_reg=5, learning_rate=0.01; total time=   0.8s\n",
      "[CV] END depth=6, iterations=100, l2_leaf_reg=5, learning_rate=0.01; total time=   0.8s\n",
      "[CV] END depth=6, iterations=100, l2_leaf_reg=5, learning_rate=0.01; total time=   0.8s\n",
      "[CV] END depth=6, iterations=100, l2_leaf_reg=5, learning_rate=0.1; total time=   0.8s\n",
      "[CV] END depth=6, iterations=100, l2_leaf_reg=5, learning_rate=0.1; total time=   0.8s\n",
      "[CV] END depth=6, iterations=100, l2_leaf_reg=5, learning_rate=0.1; total time=   0.8s\n",
      "[CV] END depth=6, iterations=200, l2_leaf_reg=1, learning_rate=0.01; total time=   1.2s\n",
      "[CV] END depth=6, iterations=200, l2_leaf_reg=1, learning_rate=0.01; total time=   1.2s\n",
      "[CV] END depth=6, iterations=200, l2_leaf_reg=1, learning_rate=0.01; total time=   1.2s\n",
      "[CV] END depth=6, iterations=200, l2_leaf_reg=1, learning_rate=0.1; total time=   1.2s\n",
      "[CV] END depth=6, iterations=200, l2_leaf_reg=1, learning_rate=0.1; total time=   1.2s\n",
      "[CV] END depth=6, iterations=200, l2_leaf_reg=1, learning_rate=0.1; total time=   1.2s\n",
      "[CV] END depth=6, iterations=200, l2_leaf_reg=3, learning_rate=0.01; total time=   1.2s\n",
      "[CV] END depth=6, iterations=200, l2_leaf_reg=3, learning_rate=0.01; total time=   1.2s\n",
      "[CV] END depth=6, iterations=200, l2_leaf_reg=3, learning_rate=0.01; total time=   1.2s\n",
      "[CV] END depth=6, iterations=200, l2_leaf_reg=3, learning_rate=0.1; total time=   1.2s\n",
      "[CV] END depth=6, iterations=200, l2_leaf_reg=3, learning_rate=0.1; total time=   1.2s\n",
      "[CV] END depth=6, iterations=200, l2_leaf_reg=3, learning_rate=0.1; total time=   1.2s\n",
      "[CV] END depth=6, iterations=200, l2_leaf_reg=5, learning_rate=0.01; total time=   1.2s\n",
      "[CV] END depth=6, iterations=200, l2_leaf_reg=5, learning_rate=0.01; total time=   1.2s\n",
      "[CV] END depth=6, iterations=200, l2_leaf_reg=5, learning_rate=0.01; total time=   1.2s\n",
      "[CV] END depth=6, iterations=200, l2_leaf_reg=5, learning_rate=0.1; total time=   1.2s\n",
      "[CV] END depth=6, iterations=200, l2_leaf_reg=5, learning_rate=0.1; total time=   1.2s\n",
      "[CV] END depth=6, iterations=200, l2_leaf_reg=5, learning_rate=0.1; total time=   1.2s\n",
      "[CV] END depth=8, iterations=100, l2_leaf_reg=1, learning_rate=0.01; total time=   1.0s\n",
      "[CV] END depth=8, iterations=100, l2_leaf_reg=1, learning_rate=0.01; total time=   1.0s\n",
      "[CV] END depth=8, iterations=100, l2_leaf_reg=1, learning_rate=0.01; total time=   1.1s\n",
      "[CV] END depth=8, iterations=100, l2_leaf_reg=1, learning_rate=0.1; total time=   1.2s\n",
      "[CV] END depth=8, iterations=100, l2_leaf_reg=1, learning_rate=0.1; total time=   1.1s\n",
      "[CV] END depth=8, iterations=100, l2_leaf_reg=1, learning_rate=0.1; total time=   1.0s\n",
      "[CV] END depth=8, iterations=100, l2_leaf_reg=3, learning_rate=0.01; total time=   1.1s\n",
      "[CV] END depth=8, iterations=100, l2_leaf_reg=3, learning_rate=0.01; total time=   1.0s\n",
      "[CV] END depth=8, iterations=100, l2_leaf_reg=3, learning_rate=0.01; total time=   1.0s\n",
      "[CV] END depth=8, iterations=100, l2_leaf_reg=3, learning_rate=0.1; total time=   1.0s\n",
      "[CV] END depth=8, iterations=100, l2_leaf_reg=3, learning_rate=0.1; total time=   1.0s\n",
      "[CV] END depth=8, iterations=100, l2_leaf_reg=3, learning_rate=0.1; total time=   1.0s\n",
      "[CV] END depth=8, iterations=100, l2_leaf_reg=5, learning_rate=0.01; total time=   1.0s\n",
      "[CV] END depth=8, iterations=100, l2_leaf_reg=5, learning_rate=0.01; total time=   1.0s\n",
      "[CV] END depth=8, iterations=100, l2_leaf_reg=5, learning_rate=0.01; total time=   1.0s\n",
      "[CV] END depth=8, iterations=100, l2_leaf_reg=5, learning_rate=0.1; total time=   1.0s\n",
      "[CV] END depth=8, iterations=100, l2_leaf_reg=5, learning_rate=0.1; total time=   1.1s\n",
      "[CV] END depth=8, iterations=100, l2_leaf_reg=5, learning_rate=0.1; total time=   1.0s\n",
      "[CV] END depth=8, iterations=200, l2_leaf_reg=1, learning_rate=0.01; total time=   1.7s\n",
      "[CV] END depth=8, iterations=200, l2_leaf_reg=1, learning_rate=0.01; total time=   1.6s\n",
      "[CV] END depth=8, iterations=200, l2_leaf_reg=1, learning_rate=0.01; total time=   1.6s\n",
      "[CV] END depth=8, iterations=200, l2_leaf_reg=1, learning_rate=0.1; total time=   1.6s\n",
      "[CV] END depth=8, iterations=200, l2_leaf_reg=1, learning_rate=0.1; total time=   1.6s\n",
      "[CV] END depth=8, iterations=200, l2_leaf_reg=1, learning_rate=0.1; total time=   1.7s\n",
      "[CV] END depth=8, iterations=200, l2_leaf_reg=3, learning_rate=0.01; total time=   1.7s\n",
      "[CV] END depth=8, iterations=200, l2_leaf_reg=3, learning_rate=0.01; total time=   1.7s\n",
      "[CV] END depth=8, iterations=200, l2_leaf_reg=3, learning_rate=0.01; total time=   1.7s\n",
      "[CV] END depth=8, iterations=200, l2_leaf_reg=3, learning_rate=0.1; total time=   1.7s\n",
      "[CV] END depth=8, iterations=200, l2_leaf_reg=3, learning_rate=0.1; total time=   1.9s\n",
      "[CV] END depth=8, iterations=200, l2_leaf_reg=3, learning_rate=0.1; total time=   1.6s\n",
      "[CV] END depth=8, iterations=200, l2_leaf_reg=5, learning_rate=0.01; total time=   1.7s\n",
      "[CV] END depth=8, iterations=200, l2_leaf_reg=5, learning_rate=0.01; total time=   1.7s\n",
      "[CV] END depth=8, iterations=200, l2_leaf_reg=5, learning_rate=0.01; total time=   1.7s\n",
      "[CV] END depth=8, iterations=200, l2_leaf_reg=5, learning_rate=0.1; total time=   1.6s\n",
      "[CV] END depth=8, iterations=200, l2_leaf_reg=5, learning_rate=0.1; total time=   1.7s\n",
      "[CV] END depth=8, iterations=200, l2_leaf_reg=5, learning_rate=0.1; total time=   1.6s\n"
     ]
    },
    {
     "data": {
      "text/html": [
       "<style>#sk-container-id-1 {color: black;background-color: white;}#sk-container-id-1 pre{padding: 0;}#sk-container-id-1 div.sk-toggleable {background-color: white;}#sk-container-id-1 label.sk-toggleable__label {cursor: pointer;display: block;width: 100%;margin-bottom: 0;padding: 0.3em;box-sizing: border-box;text-align: center;}#sk-container-id-1 label.sk-toggleable__label-arrow:before {content: \"▸\";float: left;margin-right: 0.25em;color: #696969;}#sk-container-id-1 label.sk-toggleable__label-arrow:hover:before {color: black;}#sk-container-id-1 div.sk-estimator:hover label.sk-toggleable__label-arrow:before {color: black;}#sk-container-id-1 div.sk-toggleable__content {max-height: 0;max-width: 0;overflow: hidden;text-align: left;background-color: #f0f8ff;}#sk-container-id-1 div.sk-toggleable__content pre {margin: 0.2em;color: black;border-radius: 0.25em;background-color: #f0f8ff;}#sk-container-id-1 input.sk-toggleable__control:checked~div.sk-toggleable__content {max-height: 200px;max-width: 100%;overflow: auto;}#sk-container-id-1 input.sk-toggleable__control:checked~label.sk-toggleable__label-arrow:before {content: \"▾\";}#sk-container-id-1 div.sk-estimator input.sk-toggleable__control:checked~label.sk-toggleable__label {background-color: #d4ebff;}#sk-container-id-1 div.sk-label input.sk-toggleable__control:checked~label.sk-toggleable__label {background-color: #d4ebff;}#sk-container-id-1 input.sk-hidden--visually {border: 0;clip: rect(1px 1px 1px 1px);clip: rect(1px, 1px, 1px, 1px);height: 1px;margin: -1px;overflow: hidden;padding: 0;position: absolute;width: 1px;}#sk-container-id-1 div.sk-estimator {font-family: monospace;background-color: #f0f8ff;border: 1px dotted black;border-radius: 0.25em;box-sizing: border-box;margin-bottom: 0.5em;}#sk-container-id-1 div.sk-estimator:hover {background-color: #d4ebff;}#sk-container-id-1 div.sk-parallel-item::after {content: \"\";width: 100%;border-bottom: 1px solid gray;flex-grow: 1;}#sk-container-id-1 div.sk-label:hover label.sk-toggleable__label {background-color: #d4ebff;}#sk-container-id-1 div.sk-serial::before {content: \"\";position: absolute;border-left: 1px solid gray;box-sizing: border-box;top: 0;bottom: 0;left: 50%;z-index: 0;}#sk-container-id-1 div.sk-serial {display: flex;flex-direction: column;align-items: center;background-color: white;padding-right: 0.2em;padding-left: 0.2em;position: relative;}#sk-container-id-1 div.sk-item {position: relative;z-index: 1;}#sk-container-id-1 div.sk-parallel {display: flex;align-items: stretch;justify-content: center;background-color: white;position: relative;}#sk-container-id-1 div.sk-item::before, #sk-container-id-1 div.sk-parallel-item::before {content: \"\";position: absolute;border-left: 1px solid gray;box-sizing: border-box;top: 0;bottom: 0;left: 50%;z-index: -1;}#sk-container-id-1 div.sk-parallel-item {display: flex;flex-direction: column;z-index: 1;position: relative;background-color: white;}#sk-container-id-1 div.sk-parallel-item:first-child::after {align-self: flex-end;width: 50%;}#sk-container-id-1 div.sk-parallel-item:last-child::after {align-self: flex-start;width: 50%;}#sk-container-id-1 div.sk-parallel-item:only-child::after {width: 0;}#sk-container-id-1 div.sk-dashed-wrapped {border: 1px dashed gray;margin: 0 0.4em 0.5em 0.4em;box-sizing: border-box;padding-bottom: 0.4em;background-color: white;}#sk-container-id-1 div.sk-label label {font-family: monospace;font-weight: bold;display: inline-block;line-height: 1.2em;}#sk-container-id-1 div.sk-label-container {text-align: center;}#sk-container-id-1 div.sk-container {/* jupyter's `normalize.less` sets `[hidden] { display: none; }` but bootstrap.min.css set `[hidden] { display: none !important; }` so we also need the `!important` here to be able to override the default hidden behavior on the sphinx rendered scikit-learn.org. See: https://github.com/scikit-learn/scikit-learn/issues/21755 */display: inline-block !important;position: relative;}#sk-container-id-1 div.sk-text-repr-fallback {display: none;}</style><div id=\"sk-container-id-1\" class=\"sk-top-container\"><div class=\"sk-text-repr-fallback\"><pre>GridSearchCV(cv=3,\n",
       "             estimator=&lt;catboost.core.CatBoostRegressor object at 0x78e760532290&gt;,\n",
       "             param_grid={&#x27;depth&#x27;: [4, 6, 8], &#x27;iterations&#x27;: [100, 200],\n",
       "                         &#x27;l2_leaf_reg&#x27;: [1, 3, 5],\n",
       "                         &#x27;learning_rate&#x27;: [0.01, 0.1]},\n",
       "             scoring=&#x27;r2&#x27;, verbose=2)</pre><b>In a Jupyter environment, please rerun this cell to show the HTML representation or trust the notebook. <br />On GitHub, the HTML representation is unable to render, please try loading this page with nbviewer.org.</b></div><div class=\"sk-container\" hidden><div class=\"sk-item sk-dashed-wrapped\"><div class=\"sk-label-container\"><div class=\"sk-label sk-toggleable\"><input class=\"sk-toggleable__control sk-hidden--visually\" id=\"sk-estimator-id-1\" type=\"checkbox\" ><label for=\"sk-estimator-id-1\" class=\"sk-toggleable__label sk-toggleable__label-arrow\">GridSearchCV</label><div class=\"sk-toggleable__content\"><pre>GridSearchCV(cv=3,\n",
       "             estimator=&lt;catboost.core.CatBoostRegressor object at 0x78e760532290&gt;,\n",
       "             param_grid={&#x27;depth&#x27;: [4, 6, 8], &#x27;iterations&#x27;: [100, 200],\n",
       "                         &#x27;l2_leaf_reg&#x27;: [1, 3, 5],\n",
       "                         &#x27;learning_rate&#x27;: [0.01, 0.1]},\n",
       "             scoring=&#x27;r2&#x27;, verbose=2)</pre></div></div></div><div class=\"sk-parallel\"><div class=\"sk-parallel-item\"><div class=\"sk-item\"><div class=\"sk-label-container\"><div class=\"sk-label sk-toggleable\"><input class=\"sk-toggleable__control sk-hidden--visually\" id=\"sk-estimator-id-2\" type=\"checkbox\" ><label for=\"sk-estimator-id-2\" class=\"sk-toggleable__label sk-toggleable__label-arrow\">estimator: CatBoostRegressor</label><div class=\"sk-toggleable__content\"><pre>&lt;catboost.core.CatBoostRegressor object at 0x78e760532290&gt;</pre></div></div></div><div class=\"sk-serial\"><div class=\"sk-item\"><div class=\"sk-estimator sk-toggleable\"><input class=\"sk-toggleable__control sk-hidden--visually\" id=\"sk-estimator-id-3\" type=\"checkbox\" ><label for=\"sk-estimator-id-3\" class=\"sk-toggleable__label sk-toggleable__label-arrow\">CatBoostRegressor</label><div class=\"sk-toggleable__content\"><pre>&lt;catboost.core.CatBoostRegressor object at 0x78e760532290&gt;</pre></div></div></div></div></div></div></div></div></div></div>"
      ],
      "text/plain": [
       "GridSearchCV(cv=3,\n",
       "             estimator=<catboost.core.CatBoostRegressor object at 0x78e760532290>,\n",
       "             param_grid={'depth': [4, 6, 8], 'iterations': [100, 200],\n",
       "                         'l2_leaf_reg': [1, 3, 5],\n",
       "                         'learning_rate': [0.01, 0.1]},\n",
       "             scoring='r2', verbose=2)"
      ]
     },
     "execution_count": 19,
     "metadata": {},
     "output_type": "execute_result"
    }
   ],
   "source": [
    "# Grid search for hyperparameter tuning\n",
    "grid_search = GridSearchCV(estimator=model, param_grid=param_grid, cv=3, scoring='r2', verbose=2)\n",
    "grid_search.fit(X_train, y_train)"
   ]
  },
  {
   "cell_type": "code",
   "execution_count": 20,
   "id": "cc309170",
   "metadata": {
    "execution": {
     "iopub.execute_input": "2024-12-29T00:28:15.495611Z",
     "iopub.status.busy": "2024-12-29T00:28:15.495246Z",
     "iopub.status.idle": "2024-12-29T00:28:15.501218Z",
     "shell.execute_reply": "2024-12-29T00:28:15.499721Z"
    },
    "papermill": {
     "duration": 0.022961,
     "end_time": "2024-12-29T00:28:15.503037",
     "exception": false,
     "start_time": "2024-12-29T00:28:15.480076",
     "status": "completed"
    },
    "tags": []
   },
   "outputs": [
    {
     "name": "stdout",
     "output_type": "stream",
     "text": [
      "Best Hyperparameters: {'depth': 6, 'iterations': 200, 'l2_leaf_reg': 3, 'learning_rate': 0.1}\n"
     ]
    }
   ],
   "source": [
    "# Best model and hyperparameters\n",
    "best_model = grid_search.best_estimator_\n",
    "print(\"Best Hyperparameters:\", grid_search.best_params_)"
   ]
  },
  {
   "cell_type": "code",
   "execution_count": 21,
   "id": "f1a50a07",
   "metadata": {
    "execution": {
     "iopub.execute_input": "2024-12-29T00:28:15.532482Z",
     "iopub.status.busy": "2024-12-29T00:28:15.532134Z",
     "iopub.status.idle": "2024-12-29T00:28:15.722102Z",
     "shell.execute_reply": "2024-12-29T00:28:15.720750Z"
    },
    "papermill": {
     "duration": 0.206736,
     "end_time": "2024-12-29T00:28:15.723993",
     "exception": false,
     "start_time": "2024-12-29T00:28:15.517257",
     "status": "completed"
    },
    "tags": []
   },
   "outputs": [
    {
     "name": "stdout",
     "output_type": "stream",
     "text": [
      "Mean Squared Error: 0.024701981551305426\n",
      "Concordance Index: 0.644945429264315\n"
     ]
    }
   ],
   "source": [
    "# Predict and calculate metrics\n",
    "y_pred = best_model.predict(X_test)\n",
    "\n",
    "# Mean Squared Error\n",
    "mse = mean_squared_error(y_test, y_pred)\n",
    "print(\"Mean Squared Error:\", mse)\n",
    "\n",
    "# Concordance Index\n",
    "c_index = concordance_index(y_test, y_pred)\n",
    "print(\"Concordance Index:\", c_index)"
   ]
  },
  {
   "cell_type": "code",
   "execution_count": 22,
   "id": "8f0b69da",
   "metadata": {
    "execution": {
     "iopub.execute_input": "2024-12-29T00:28:15.753757Z",
     "iopub.status.busy": "2024-12-29T00:28:15.753312Z",
     "iopub.status.idle": "2024-12-29T00:28:16.912193Z",
     "shell.execute_reply": "2024-12-29T00:28:16.911100Z"
    },
    "papermill": {
     "duration": 1.175992,
     "end_time": "2024-12-29T00:28:16.914209",
     "exception": false,
     "start_time": "2024-12-29T00:28:15.738217",
     "status": "completed"
    },
    "tags": []
   },
   "outputs": [
    {
     "data": {
      "text/plain": [
       "<catboost.core.CatBoostRegressor at 0x78e7604bf850>"
      ]
     },
     "execution_count": 22,
     "metadata": {},
     "output_type": "execute_result"
    }
   ],
   "source": [
    "best_model.fit(X, y)"
   ]
  },
  {
   "cell_type": "code",
   "execution_count": 23,
   "id": "6fda651e",
   "metadata": {
    "execution": {
     "iopub.execute_input": "2024-12-29T00:28:16.944216Z",
     "iopub.status.busy": "2024-12-29T00:28:16.943793Z",
     "iopub.status.idle": "2024-12-29T00:28:16.958204Z",
     "shell.execute_reply": "2024-12-29T00:28:16.957222Z"
    },
    "papermill": {
     "duration": 0.031574,
     "end_time": "2024-12-29T00:28:16.960219",
     "exception": false,
     "start_time": "2024-12-29T00:28:16.928645",
     "status": "completed"
    },
    "tags": []
   },
   "outputs": [],
   "source": [
    "test = pd.read_csv('/kaggle/input/equity-post-HCT-survival-predictions/test.csv')"
   ]
  },
  {
   "cell_type": "code",
   "execution_count": 24,
   "id": "34348a8a",
   "metadata": {
    "execution": {
     "iopub.execute_input": "2024-12-29T00:28:16.990139Z",
     "iopub.status.busy": "2024-12-29T00:28:16.989725Z",
     "iopub.status.idle": "2024-12-29T00:28:17.071828Z",
     "shell.execute_reply": "2024-12-29T00:28:17.070790Z"
    },
    "papermill": {
     "duration": 0.099321,
     "end_time": "2024-12-29T00:28:17.073947",
     "exception": false,
     "start_time": "2024-12-29T00:28:16.974626",
     "status": "completed"
    },
    "tags": []
   },
   "outputs": [],
   "source": [
    "# Cleaning data: Dropping duplicate rows and irrelevant columns\n",
    "test_cleaned = test.drop(columns=[\"ID\"], errors='ignore').drop_duplicates()\n",
    "test_cleaned.drop(columns=['rituximab'], errors='ignore')\n",
    "# Replacing common null values in text fields and converting to lowercase\n",
    "for col in test_cleaned.select_dtypes(include='object').columns:\n",
    "    test_cleaned[col] = test_cleaned[col].str.strip().str.lower().replace(\n",
    "        {'n/a': None, 'na': None, 'nan': None, '-': None})\n",
    "\n",
    "# Filling missing values for numerical columns with their median\n",
    "numerical_cols = test_cleaned.select_dtypes(include=['float64', 'int64']).columns\n",
    "test_cleaned[numerical_cols] = test_cleaned[numerical_cols].fillna(test_cleaned[numerical_cols].median())\n",
    "\n",
    "# Filling missing values for categorical columns with their mode\n",
    "categorical_cols = test_cleaned.select_dtypes(include='object').columns\n",
    "test_cleaned[categorical_cols] = test_cleaned[categorical_cols].apply(\n",
    "    lambda col: col.fillna(col.mode()[0] if not col.mode().empty else 'unknown'))\n",
    "\n",
    "for i in test_cleaned[categorical_cols]:\n",
    "    test_cleaned[i], _ = pd.factorize(test_cleaned[i])"
   ]
  },
  {
   "cell_type": "code",
   "execution_count": 25,
   "id": "c164c5e5",
   "metadata": {
    "execution": {
     "iopub.execute_input": "2024-12-29T00:28:17.104413Z",
     "iopub.status.busy": "2024-12-29T00:28:17.104026Z",
     "iopub.status.idle": "2024-12-29T00:28:17.124061Z",
     "shell.execute_reply": "2024-12-29T00:28:17.122926Z"
    },
    "papermill": {
     "duration": 0.037219,
     "end_time": "2024-12-29T00:28:17.125894",
     "exception": false,
     "start_time": "2024-12-29T00:28:17.088675",
     "status": "completed"
    },
    "tags": []
   },
   "outputs": [
    {
     "data": {
      "text/html": [
       "<div>\n",
       "<style scoped>\n",
       "    .dataframe tbody tr th:only-of-type {\n",
       "        vertical-align: middle;\n",
       "    }\n",
       "\n",
       "    .dataframe tbody tr th {\n",
       "        vertical-align: top;\n",
       "    }\n",
       "\n",
       "    .dataframe thead th {\n",
       "        text-align: right;\n",
       "    }\n",
       "</style>\n",
       "<table border=\"1\" class=\"dataframe\">\n",
       "  <thead>\n",
       "    <tr style=\"text-align: right;\">\n",
       "      <th></th>\n",
       "      <th>dri_score</th>\n",
       "      <th>psych_disturb</th>\n",
       "      <th>cyto_score</th>\n",
       "      <th>diabetes</th>\n",
       "      <th>hla_match_c_high</th>\n",
       "      <th>hla_high_res_8</th>\n",
       "      <th>tbi_status</th>\n",
       "      <th>arrhythmia</th>\n",
       "      <th>hla_low_res_6</th>\n",
       "      <th>graft_type</th>\n",
       "      <th>...</th>\n",
       "      <th>karnofsky_score</th>\n",
       "      <th>hepatic_mild</th>\n",
       "      <th>tce_div_match</th>\n",
       "      <th>donor_related</th>\n",
       "      <th>melphalan_dose</th>\n",
       "      <th>hla_low_res_8</th>\n",
       "      <th>cardiac</th>\n",
       "      <th>hla_match_drb1_high</th>\n",
       "      <th>pulm_moderate</th>\n",
       "      <th>hla_low_res_10</th>\n",
       "    </tr>\n",
       "  </thead>\n",
       "  <tbody>\n",
       "    <tr>\n",
       "      <th>0</th>\n",
       "      <td>0</td>\n",
       "      <td>0</td>\n",
       "      <td>0</td>\n",
       "      <td>0</td>\n",
       "      <td>2.0</td>\n",
       "      <td>8.0</td>\n",
       "      <td>0</td>\n",
       "      <td>0</td>\n",
       "      <td>6.0</td>\n",
       "      <td>0</td>\n",
       "      <td>...</td>\n",
       "      <td>90.0</td>\n",
       "      <td>0</td>\n",
       "      <td>0</td>\n",
       "      <td>0</td>\n",
       "      <td>0</td>\n",
       "      <td>8.0</td>\n",
       "      <td>0</td>\n",
       "      <td>2.0</td>\n",
       "      <td>0</td>\n",
       "      <td>10.0</td>\n",
       "    </tr>\n",
       "    <tr>\n",
       "      <th>1</th>\n",
       "      <td>1</td>\n",
       "      <td>0</td>\n",
       "      <td>0</td>\n",
       "      <td>0</td>\n",
       "      <td>2.0</td>\n",
       "      <td>8.0</td>\n",
       "      <td>1</td>\n",
       "      <td>0</td>\n",
       "      <td>6.0</td>\n",
       "      <td>1</td>\n",
       "      <td>...</td>\n",
       "      <td>90.0</td>\n",
       "      <td>0</td>\n",
       "      <td>0</td>\n",
       "      <td>1</td>\n",
       "      <td>0</td>\n",
       "      <td>8.0</td>\n",
       "      <td>0</td>\n",
       "      <td>2.0</td>\n",
       "      <td>1</td>\n",
       "      <td>10.0</td>\n",
       "    </tr>\n",
       "    <tr>\n",
       "      <th>2</th>\n",
       "      <td>0</td>\n",
       "      <td>0</td>\n",
       "      <td>0</td>\n",
       "      <td>0</td>\n",
       "      <td>2.0</td>\n",
       "      <td>8.0</td>\n",
       "      <td>0</td>\n",
       "      <td>0</td>\n",
       "      <td>6.0</td>\n",
       "      <td>0</td>\n",
       "      <td>...</td>\n",
       "      <td>90.0</td>\n",
       "      <td>0</td>\n",
       "      <td>0</td>\n",
       "      <td>1</td>\n",
       "      <td>0</td>\n",
       "      <td>8.0</td>\n",
       "      <td>0</td>\n",
       "      <td>2.0</td>\n",
       "      <td>0</td>\n",
       "      <td>10.0</td>\n",
       "    </tr>\n",
       "  </tbody>\n",
       "</table>\n",
       "<p>3 rows × 57 columns</p>\n",
       "</div>"
      ],
      "text/plain": [
       "   dri_score  psych_disturb  cyto_score  diabetes  hla_match_c_high  \\\n",
       "0          0              0           0         0               2.0   \n",
       "1          1              0           0         0               2.0   \n",
       "2          0              0           0         0               2.0   \n",
       "\n",
       "   hla_high_res_8  tbi_status  arrhythmia  hla_low_res_6  graft_type  ...  \\\n",
       "0             8.0           0           0            6.0           0  ...   \n",
       "1             8.0           1           0            6.0           1  ...   \n",
       "2             8.0           0           0            6.0           0  ...   \n",
       "\n",
       "   karnofsky_score  hepatic_mild  tce_div_match  donor_related  \\\n",
       "0             90.0             0              0              0   \n",
       "1             90.0             0              0              1   \n",
       "2             90.0             0              0              1   \n",
       "\n",
       "   melphalan_dose  hla_low_res_8  cardiac  hla_match_drb1_high  pulm_moderate  \\\n",
       "0               0            8.0        0                  2.0              0   \n",
       "1               0            8.0        0                  2.0              1   \n",
       "2               0            8.0        0                  2.0              0   \n",
       "\n",
       "   hla_low_res_10  \n",
       "0            10.0  \n",
       "1            10.0  \n",
       "2            10.0  \n",
       "\n",
       "[3 rows x 57 columns]"
      ]
     },
     "execution_count": 25,
     "metadata": {},
     "output_type": "execute_result"
    }
   ],
   "source": [
    "test_cleaned.head()"
   ]
  },
  {
   "cell_type": "code",
   "execution_count": 26,
   "id": "ba568378",
   "metadata": {
    "execution": {
     "iopub.execute_input": "2024-12-29T00:28:17.156671Z",
     "iopub.status.busy": "2024-12-29T00:28:17.156269Z",
     "iopub.status.idle": "2024-12-29T00:28:17.167400Z",
     "shell.execute_reply": "2024-12-29T00:28:17.166548Z"
    },
    "papermill": {
     "duration": 0.028846,
     "end_time": "2024-12-29T00:28:17.169318",
     "exception": false,
     "start_time": "2024-12-29T00:28:17.140472",
     "status": "completed"
    },
    "tags": []
   },
   "outputs": [],
   "source": [
    "scalare = StandardScaler()\n",
    "test_cleaned = scalare.fit_transform(test_cleaned)"
   ]
  },
  {
   "cell_type": "code",
   "execution_count": 27,
   "id": "fc812570",
   "metadata": {
    "execution": {
     "iopub.execute_input": "2024-12-29T00:28:17.199917Z",
     "iopub.status.busy": "2024-12-29T00:28:17.199472Z",
     "iopub.status.idle": "2024-12-29T00:28:17.204473Z",
     "shell.execute_reply": "2024-12-29T00:28:17.203645Z"
    },
    "papermill": {
     "duration": 0.022288,
     "end_time": "2024-12-29T00:28:17.206263",
     "exception": false,
     "start_time": "2024-12-29T00:28:17.183975",
     "status": "completed"
    },
    "tags": []
   },
   "outputs": [],
   "source": [
    "# Predict and calculate metrics\n",
    "y_pred = best_model.predict(test_cleaned)"
   ]
  },
  {
   "cell_type": "code",
   "execution_count": 28,
   "id": "c0584bb4",
   "metadata": {
    "execution": {
     "iopub.execute_input": "2024-12-29T00:28:17.236391Z",
     "iopub.status.busy": "2024-12-29T00:28:17.236046Z",
     "iopub.status.idle": "2024-12-29T00:28:17.241738Z",
     "shell.execute_reply": "2024-12-29T00:28:17.240888Z"
    },
    "papermill": {
     "duration": 0.022495,
     "end_time": "2024-12-29T00:28:17.243318",
     "exception": false,
     "start_time": "2024-12-29T00:28:17.220823",
     "status": "completed"
    },
    "tags": []
   },
   "outputs": [
    {
     "data": {
      "text/plain": [
       "array([0.5581278 , 0.65406207, 0.55940234])"
      ]
     },
     "execution_count": 28,
     "metadata": {},
     "output_type": "execute_result"
    }
   ],
   "source": [
    "y_pred"
   ]
  },
  {
   "cell_type": "code",
   "execution_count": 29,
   "id": "33bf7fa3",
   "metadata": {
    "execution": {
     "iopub.execute_input": "2024-12-29T00:28:17.274481Z",
     "iopub.status.busy": "2024-12-29T00:28:17.274140Z",
     "iopub.status.idle": "2024-12-29T00:28:17.288441Z",
     "shell.execute_reply": "2024-12-29T00:28:17.286944Z"
    },
    "papermill": {
     "duration": 0.031974,
     "end_time": "2024-12-29T00:28:17.290344",
     "exception": false,
     "start_time": "2024-12-29T00:28:17.258370",
     "status": "completed"
    },
    "tags": []
   },
   "outputs": [
    {
     "name": "stdout",
     "output_type": "stream",
     "text": [
      "Predictions saved to submission.csv\n"
     ]
    }
   ],
   "source": [
    "# Load the test data\n",
    "test_file_path = '/kaggle/input/equity-post-HCT-survival-predictions/test.csv'\n",
    "test_data = pd.read_csv(test_file_path)\n",
    "\n",
    "# Predict probabilities for the test dataset\n",
    "#prediction = model.predict(test_data.drop(columns=['ID', 'rituximab'], errors='ignore'))\n",
    "\n",
    "# Add predictions to the test dataset\n",
    "test_data['prediction'] = y_pred\n",
    "\n",
    "# Save predictions to a new CSV file\n",
    "output_file_path = 'submission.csv'\n",
    "test_data[['ID', 'prediction']].to_csv(output_file_path, index=False)\n",
    "\n",
    "print(f\"Predictions saved to {output_file_path}\")"
   ]
  },
  {
   "cell_type": "markdown",
   "id": "221c92e2",
   "metadata": {
    "papermill": {
     "duration": 0.014373,
     "end_time": "2024-12-29T00:28:17.320262",
     "exception": false,
     "start_time": "2024-12-29T00:28:17.305889",
     "status": "completed"
    },
    "tags": []
   },
   "source": [
    "==========================================================================================================="
   ]
  },
  {
   "cell_type": "code",
   "execution_count": null,
   "id": "8a50909e",
   "metadata": {
    "papermill": {
     "duration": 0.014521,
     "end_time": "2024-12-29T00:28:17.349681",
     "exception": false,
     "start_time": "2024-12-29T00:28:17.335160",
     "status": "completed"
    },
    "tags": []
   },
   "outputs": [],
   "source": []
  }
 ],
 "metadata": {
  "kaggle": {
   "accelerator": "none",
   "dataSources": [
    {
     "databundleVersionId": 10381525,
     "sourceId": 70942,
     "sourceType": "competition"
    },
    {
     "sourceId": 211322530,
     "sourceType": "kernelVersion"
    }
   ],
   "dockerImageVersionId": 30822,
   "isGpuEnabled": false,
   "isInternetEnabled": false,
   "language": "python",
   "sourceType": "notebook"
  },
  "kernelspec": {
   "display_name": "Python 3",
   "language": "python",
   "name": "python3"
  },
  "language_info": {
   "codemirror_mode": {
    "name": "ipython",
    "version": 3
   },
   "file_extension": ".py",
   "mimetype": "text/x-python",
   "name": "python",
   "nbconvert_exporter": "python",
   "pygments_lexer": "ipython3",
   "version": "3.10.12"
  },
  "papermill": {
   "default_parameters": {},
   "duration": 153.164798,
   "end_time": "2024-12-29T00:28:18.187270",
   "environment_variables": {},
   "exception": null,
   "input_path": "__notebook__.ipynb",
   "output_path": "__notebook__.ipynb",
   "parameters": {},
   "start_time": "2024-12-29T00:25:45.022472",
   "version": "2.6.0"
  }
 },
 "nbformat": 4,
 "nbformat_minor": 5
}
