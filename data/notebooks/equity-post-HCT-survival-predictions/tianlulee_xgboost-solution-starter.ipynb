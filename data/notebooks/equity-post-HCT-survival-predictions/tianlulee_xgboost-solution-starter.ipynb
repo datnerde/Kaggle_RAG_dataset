{
 "cells": [
  {
   "cell_type": "code",
   "execution_count": 1,
   "id": "3b28fcfb",
   "metadata": {
    "_cell_guid": "5ac6606c-fbf2-471f-804e-844129fa838d",
    "_uuid": "7d66d3f0-7fab-4688-a292-51449b0063f5",
    "collapsed": false,
    "execution": {
     "iopub.execute_input": "2025-02-12T06:00:03.121159Z",
     "iopub.status.busy": "2025-02-12T06:00:03.120815Z",
     "iopub.status.idle": "2025-02-12T06:00:05.767314Z",
     "shell.execute_reply": "2025-02-12T06:00:05.765911Z"
    },
    "jupyter": {
     "outputs_hidden": false
    },
    "papermill": {
     "duration": 2.652835,
     "end_time": "2025-02-12T06:00:05.768969",
     "exception": false,
     "start_time": "2025-02-12T06:00:03.116134",
     "status": "completed"
    },
    "tags": []
   },
   "outputs": [
    {
     "name": "stdout",
     "output_type": "stream",
     "text": [
      "/kaggle/input/equity-post-HCT-survival-predictions/sample_submission.csv\n",
      "/kaggle/input/equity-post-HCT-survival-predictions/data_dictionary.csv\n",
      "/kaggle/input/equity-post-HCT-survival-predictions/train.csv\n",
      "/kaggle/input/equity-post-HCT-survival-predictions/test.csv\n",
      "/kaggle/input/pm-75180884-at-02-12-2025-05-59-09/__script__.py\n",
      "/kaggle/input/pm-75180884-at-02-12-2025-05-59-09/matplotlib-3.10.0-cp310-cp310-manylinux_2_17_x86_64.manylinux2014_x86_64.whl\n",
      "/kaggle/input/pm-75180884-at-02-12-2025-05-59-09/interface_meta-1.3.0-py3-none-any.whl\n",
      "/kaggle/input/pm-75180884-at-02-12-2025-05-59-09/tzdata-2025.1-py2.py3-none-any.whl\n",
      "/kaggle/input/pm-75180884-at-02-12-2025-05-59-09/contourpy-1.3.1-cp310-cp310-manylinux_2_17_x86_64.manylinux2014_x86_64.whl\n",
      "/kaggle/input/pm-75180884-at-02-12-2025-05-59-09/pillow-11.1.0-cp310-cp310-manylinux_2_28_x86_64.whl\n",
      "/kaggle/input/pm-75180884-at-02-12-2025-05-59-09/__results__.html\n",
      "/kaggle/input/pm-75180884-at-02-12-2025-05-59-09/cycler-0.12.1-py3-none-any.whl\n",
      "/kaggle/input/pm-75180884-at-02-12-2025-05-59-09/autograd-1.7.0-py3-none-any.whl\n",
      "/kaggle/input/pm-75180884-at-02-12-2025-05-59-09/formulaic-1.1.1-py3-none-any.whl\n",
      "/kaggle/input/pm-75180884-at-02-12-2025-05-59-09/pyparsing-3.2.1-py3-none-any.whl\n",
      "/kaggle/input/pm-75180884-at-02-12-2025-05-59-09/input_requirements.txt\n",
      "/kaggle/input/pm-75180884-at-02-12-2025-05-59-09/six-1.17.0-py2.py3-none-any.whl\n",
      "/kaggle/input/pm-75180884-at-02-12-2025-05-59-09/lifelines-0.30.0-py3-none-any.whl\n",
      "/kaggle/input/pm-75180884-at-02-12-2025-05-59-09/wrapt-1.17.2-cp310-cp310-manylinux_2_5_x86_64.manylinux1_x86_64.manylinux_2_17_x86_64.manylinux2014_x86_64.whl\n",
      "/kaggle/input/pm-75180884-at-02-12-2025-05-59-09/autograd-gamma-0.5.0.tar.gz\n",
      "/kaggle/input/pm-75180884-at-02-12-2025-05-59-09/python_dateutil-2.9.0.post0-py2.py3-none-any.whl\n",
      "/kaggle/input/pm-75180884-at-02-12-2025-05-59-09/numpy-2.2.2-cp310-cp310-manylinux_2_17_x86_64.manylinux2014_x86_64.whl\n",
      "/kaggle/input/pm-75180884-at-02-12-2025-05-59-09/kiwisolver-1.4.8-cp310-cp310-manylinux_2_12_x86_64.manylinux2010_x86_64.whl\n",
      "/kaggle/input/pm-75180884-at-02-12-2025-05-59-09/__script__.ipynb\n",
      "/kaggle/input/pm-75180884-at-02-12-2025-05-59-09/pytz-2025.1-py2.py3-none-any.whl\n",
      "/kaggle/input/pm-75180884-at-02-12-2025-05-59-09/__output__.json\n",
      "/kaggle/input/pm-75180884-at-02-12-2025-05-59-09/typing_extensions-4.12.2-py3-none-any.whl\n",
      "/kaggle/input/pm-75180884-at-02-12-2025-05-59-09/fonttools-4.56.0-cp310-cp310-manylinux_2_17_x86_64.manylinux2014_x86_64.whl\n",
      "/kaggle/input/pm-75180884-at-02-12-2025-05-59-09/scipy-1.15.1-cp310-cp310-manylinux_2_17_x86_64.manylinux2014_x86_64.whl\n",
      "/kaggle/input/pm-75180884-at-02-12-2025-05-59-09/install_requirements.sh\n",
      "/kaggle/input/pm-75180884-at-02-12-2025-05-59-09/pandas-2.2.3-cp310-cp310-manylinux_2_17_x86_64.manylinux2014_x86_64.whl\n",
      "/kaggle/input/pm-75180884-at-02-12-2025-05-59-09/packaging-24.2-py3-none-any.whl\n",
      "/kaggle/input/pm-75180884-at-02-12-2025-05-59-09/custom.css\n"
     ]
    }
   ],
   "source": [
    "import warnings\n",
    "\n",
    "warnings.filterwarnings('ignore')\n",
    "\n",
    "import numpy as np\n",
    "import pandas as pd\n",
    "from catboost import Pool\n",
    "import catboost as cat\n",
    "import os\n",
    "for dirname, _, filenames in os.walk('/kaggle/input'):\n",
    "    for filename in filenames:\n",
    "        print(os.path.join(dirname, filename))"
   ]
  },
  {
   "cell_type": "code",
   "execution_count": 2,
   "id": "2079390b",
   "metadata": {
    "_cell_guid": "0283c3c9-9ae5-4574-96ac-ab0d2766c8e1",
    "_uuid": "a1ce7264-adc6-475f-a8d6-2f5ed07455a5",
    "collapsed": false,
    "execution": {
     "iopub.execute_input": "2025-02-12T06:00:05.776553Z",
     "iopub.status.busy": "2025-02-12T06:00:05.775947Z",
     "iopub.status.idle": "2025-02-12T06:00:06.164907Z",
     "shell.execute_reply": "2025-02-12T06:00:06.163993Z"
    },
    "jupyter": {
     "outputs_hidden": false
    },
    "papermill": {
     "duration": 0.394501,
     "end_time": "2025-02-12T06:00:06.166750",
     "exception": false,
     "start_time": "2025-02-12T06:00:05.772249",
     "status": "completed"
    },
    "tags": []
   },
   "outputs": [],
   "source": [
    "train = pd.read_csv(\"/kaggle/input/equity-post-HCT-survival-predictions/train.csv\")\n",
    "test = pd.read_csv(\"/kaggle/input/equity-post-HCT-survival-predictions/test.csv\")"
   ]
  },
  {
   "cell_type": "code",
   "execution_count": 3,
   "id": "4ccc8b62",
   "metadata": {
    "_cell_guid": "98ed49f5-6bae-4572-8757-3fe31f56d2b1",
    "_uuid": "474ccd1c-815c-4bfa-b854-ba24e54dd1f6",
    "collapsed": false,
    "execution": {
     "iopub.execute_input": "2025-02-12T06:00:06.173917Z",
     "iopub.status.busy": "2025-02-12T06:00:06.173573Z",
     "iopub.status.idle": "2025-02-12T06:00:06.215734Z",
     "shell.execute_reply": "2025-02-12T06:00:06.214721Z"
    },
    "jupyter": {
     "outputs_hidden": false
    },
    "papermill": {
     "duration": 0.047522,
     "end_time": "2025-02-12T06:00:06.217371",
     "exception": false,
     "start_time": "2025-02-12T06:00:06.169849",
     "status": "completed"
    },
    "tags": []
   },
   "outputs": [
    {
     "data": {
      "text/html": [
       "<div>\n",
       "<style scoped>\n",
       "    .dataframe tbody tr th:only-of-type {\n",
       "        vertical-align: middle;\n",
       "    }\n",
       "\n",
       "    .dataframe tbody tr th {\n",
       "        vertical-align: top;\n",
       "    }\n",
       "\n",
       "    .dataframe thead th {\n",
       "        text-align: right;\n",
       "    }\n",
       "</style>\n",
       "<table border=\"1\" class=\"dataframe\">\n",
       "  <thead>\n",
       "    <tr style=\"text-align: right;\">\n",
       "      <th></th>\n",
       "      <th>ID</th>\n",
       "      <th>dri_score</th>\n",
       "      <th>psych_disturb</th>\n",
       "      <th>cyto_score</th>\n",
       "      <th>diabetes</th>\n",
       "      <th>hla_match_c_high</th>\n",
       "      <th>hla_high_res_8</th>\n",
       "      <th>tbi_status</th>\n",
       "      <th>arrhythmia</th>\n",
       "      <th>hla_low_res_6</th>\n",
       "      <th>...</th>\n",
       "      <th>tce_div_match</th>\n",
       "      <th>donor_related</th>\n",
       "      <th>melphalan_dose</th>\n",
       "      <th>hla_low_res_8</th>\n",
       "      <th>cardiac</th>\n",
       "      <th>hla_match_drb1_high</th>\n",
       "      <th>pulm_moderate</th>\n",
       "      <th>hla_low_res_10</th>\n",
       "      <th>efs</th>\n",
       "      <th>efs_time</th>\n",
       "    </tr>\n",
       "  </thead>\n",
       "  <tbody>\n",
       "    <tr>\n",
       "      <th>0</th>\n",
       "      <td>0</td>\n",
       "      <td>N/A - non-malignant indication</td>\n",
       "      <td>No</td>\n",
       "      <td>NaN</td>\n",
       "      <td>No</td>\n",
       "      <td>NaN</td>\n",
       "      <td>NaN</td>\n",
       "      <td>No TBI</td>\n",
       "      <td>No</td>\n",
       "      <td>6.0</td>\n",
       "      <td>...</td>\n",
       "      <td>NaN</td>\n",
       "      <td>Unrelated</td>\n",
       "      <td>N/A, Mel not given</td>\n",
       "      <td>8.0</td>\n",
       "      <td>No</td>\n",
       "      <td>2.0</td>\n",
       "      <td>No</td>\n",
       "      <td>10.0</td>\n",
       "      <td>0.0</td>\n",
       "      <td>42.356</td>\n",
       "    </tr>\n",
       "    <tr>\n",
       "      <th>1</th>\n",
       "      <td>1</td>\n",
       "      <td>Intermediate</td>\n",
       "      <td>No</td>\n",
       "      <td>Intermediate</td>\n",
       "      <td>No</td>\n",
       "      <td>2.0</td>\n",
       "      <td>8.0</td>\n",
       "      <td>TBI +- Other, &gt;cGy</td>\n",
       "      <td>No</td>\n",
       "      <td>6.0</td>\n",
       "      <td>...</td>\n",
       "      <td>Permissive mismatched</td>\n",
       "      <td>Related</td>\n",
       "      <td>N/A, Mel not given</td>\n",
       "      <td>8.0</td>\n",
       "      <td>No</td>\n",
       "      <td>2.0</td>\n",
       "      <td>Yes</td>\n",
       "      <td>10.0</td>\n",
       "      <td>1.0</td>\n",
       "      <td>4.672</td>\n",
       "    </tr>\n",
       "    <tr>\n",
       "      <th>2</th>\n",
       "      <td>2</td>\n",
       "      <td>N/A - non-malignant indication</td>\n",
       "      <td>No</td>\n",
       "      <td>NaN</td>\n",
       "      <td>No</td>\n",
       "      <td>2.0</td>\n",
       "      <td>8.0</td>\n",
       "      <td>No TBI</td>\n",
       "      <td>No</td>\n",
       "      <td>6.0</td>\n",
       "      <td>...</td>\n",
       "      <td>Permissive mismatched</td>\n",
       "      <td>Related</td>\n",
       "      <td>N/A, Mel not given</td>\n",
       "      <td>8.0</td>\n",
       "      <td>No</td>\n",
       "      <td>2.0</td>\n",
       "      <td>No</td>\n",
       "      <td>10.0</td>\n",
       "      <td>0.0</td>\n",
       "      <td>19.793</td>\n",
       "    </tr>\n",
       "    <tr>\n",
       "      <th>3</th>\n",
       "      <td>3</td>\n",
       "      <td>High</td>\n",
       "      <td>No</td>\n",
       "      <td>Intermediate</td>\n",
       "      <td>No</td>\n",
       "      <td>2.0</td>\n",
       "      <td>8.0</td>\n",
       "      <td>No TBI</td>\n",
       "      <td>No</td>\n",
       "      <td>6.0</td>\n",
       "      <td>...</td>\n",
       "      <td>Permissive mismatched</td>\n",
       "      <td>Unrelated</td>\n",
       "      <td>N/A, Mel not given</td>\n",
       "      <td>8.0</td>\n",
       "      <td>No</td>\n",
       "      <td>2.0</td>\n",
       "      <td>No</td>\n",
       "      <td>10.0</td>\n",
       "      <td>0.0</td>\n",
       "      <td>102.349</td>\n",
       "    </tr>\n",
       "    <tr>\n",
       "      <th>4</th>\n",
       "      <td>4</td>\n",
       "      <td>High</td>\n",
       "      <td>No</td>\n",
       "      <td>NaN</td>\n",
       "      <td>No</td>\n",
       "      <td>2.0</td>\n",
       "      <td>8.0</td>\n",
       "      <td>No TBI</td>\n",
       "      <td>No</td>\n",
       "      <td>6.0</td>\n",
       "      <td>...</td>\n",
       "      <td>Permissive mismatched</td>\n",
       "      <td>Related</td>\n",
       "      <td>MEL</td>\n",
       "      <td>8.0</td>\n",
       "      <td>No</td>\n",
       "      <td>2.0</td>\n",
       "      <td>No</td>\n",
       "      <td>10.0</td>\n",
       "      <td>0.0</td>\n",
       "      <td>16.223</td>\n",
       "    </tr>\n",
       "  </tbody>\n",
       "</table>\n",
       "<p>5 rows × 60 columns</p>\n",
       "</div>"
      ],
      "text/plain": [
       "   ID                       dri_score psych_disturb    cyto_score diabetes  \\\n",
       "0   0  N/A - non-malignant indication            No           NaN       No   \n",
       "1   1                    Intermediate            No  Intermediate       No   \n",
       "2   2  N/A - non-malignant indication            No           NaN       No   \n",
       "3   3                            High            No  Intermediate       No   \n",
       "4   4                            High            No           NaN       No   \n",
       "\n",
       "   hla_match_c_high  hla_high_res_8          tbi_status arrhythmia  \\\n",
       "0               NaN             NaN              No TBI         No   \n",
       "1               2.0             8.0  TBI +- Other, >cGy         No   \n",
       "2               2.0             8.0              No TBI         No   \n",
       "3               2.0             8.0              No TBI         No   \n",
       "4               2.0             8.0              No TBI         No   \n",
       "\n",
       "   hla_low_res_6  ...          tce_div_match donor_related  \\\n",
       "0            6.0  ...                    NaN     Unrelated   \n",
       "1            6.0  ...  Permissive mismatched       Related   \n",
       "2            6.0  ...  Permissive mismatched       Related   \n",
       "3            6.0  ...  Permissive mismatched     Unrelated   \n",
       "4            6.0  ...  Permissive mismatched       Related   \n",
       "\n",
       "       melphalan_dose hla_low_res_8 cardiac  hla_match_drb1_high  \\\n",
       "0  N/A, Mel not given           8.0      No                  2.0   \n",
       "1  N/A, Mel not given           8.0      No                  2.0   \n",
       "2  N/A, Mel not given           8.0      No                  2.0   \n",
       "3  N/A, Mel not given           8.0      No                  2.0   \n",
       "4                 MEL           8.0      No                  2.0   \n",
       "\n",
       "  pulm_moderate  hla_low_res_10  efs efs_time  \n",
       "0            No            10.0  0.0   42.356  \n",
       "1           Yes            10.0  1.0    4.672  \n",
       "2            No            10.0  0.0   19.793  \n",
       "3            No            10.0  0.0  102.349  \n",
       "4            No            10.0  0.0   16.223  \n",
       "\n",
       "[5 rows x 60 columns]"
      ]
     },
     "execution_count": 3,
     "metadata": {},
     "output_type": "execute_result"
    }
   ],
   "source": [
    "train.head()"
   ]
  },
  {
   "cell_type": "code",
   "execution_count": 4,
   "id": "6393ad94",
   "metadata": {
    "_cell_guid": "5962a577-2ce3-4823-9d23-76c7d8866581",
    "_uuid": "90d0a51d-0c44-4064-aa82-0f4b42918a2e",
    "collapsed": false,
    "execution": {
     "iopub.execute_input": "2025-02-12T06:00:06.225272Z",
     "iopub.status.busy": "2025-02-12T06:00:06.224926Z",
     "iopub.status.idle": "2025-02-12T06:00:06.239006Z",
     "shell.execute_reply": "2025-02-12T06:00:06.237641Z"
    },
    "jupyter": {
     "outputs_hidden": false
    },
    "papermill": {
     "duration": 0.020243,
     "end_time": "2025-02-12T06:00:06.241131",
     "exception": false,
     "start_time": "2025-02-12T06:00:06.220888",
     "status": "completed"
    },
    "tags": []
   },
   "outputs": [],
   "source": [
    "X = train.drop(columns=['ID', 'efs', 'efs_time'])\n",
    "y = train[['efs', 'efs_time']]\n",
    "X_test = test.drop(columns=['ID'])"
   ]
  },
  {
   "cell_type": "code",
   "execution_count": 5,
   "id": "b25ad236",
   "metadata": {
    "execution": {
     "iopub.execute_input": "2025-02-12T06:00:06.249021Z",
     "iopub.status.busy": "2025-02-12T06:00:06.248678Z",
     "iopub.status.idle": "2025-02-12T06:00:06.860096Z",
     "shell.execute_reply": "2025-02-12T06:00:06.858980Z"
    },
    "papermill": {
     "duration": 0.617392,
     "end_time": "2025-02-12T06:00:06.861987",
     "exception": false,
     "start_time": "2025-02-12T06:00:06.244595",
     "status": "completed"
    },
    "tags": []
   },
   "outputs": [
    {
     "name": "stdout",
     "output_type": "stream",
     "text": [
      "Index(['hla_match_c_high', 'hla_high_res_8', 'hla_low_res_6', 'hla_high_res_6',\n",
      "       'hla_high_res_10', 'hla_match_dqb1_high', 'hla_nmdp_6',\n",
      "       'hla_match_c_low', 'hla_match_drb1_low', 'hla_match_dqb1_low',\n",
      "       'year_hct', 'hla_match_a_high', 'donor_age', 'hla_match_b_low',\n",
      "       'age_at_hct', 'hla_match_a_low', 'hla_match_b_high',\n",
      "       'comorbidity_score', 'karnofsky_score', 'hla_low_res_8',\n",
      "       'hla_match_drb1_high', 'hla_low_res_10'],\n",
      "      dtype='object')\n",
      "Index(['dri_score', 'psych_disturb', 'cyto_score', 'diabetes', 'tbi_status',\n",
      "       'arrhythmia', 'graft_type', 'vent_hist', 'renal_issue', 'pulm_severe',\n",
      "       'prim_disease_hct', 'cmv_status', 'tce_imm_match', 'rituximab',\n",
      "       'prod_type', 'cyto_score_detail', 'conditioning_intensity', 'ethnicity',\n",
      "       'obesity', 'mrd_hct', 'in_vivo_tcd', 'tce_match', 'hepatic_severe',\n",
      "       'prior_tumor', 'peptic_ulcer', 'gvhd_proph', 'rheum_issue', 'sex_match',\n",
      "       'race_group', 'hepatic_mild', 'tce_div_match', 'donor_related',\n",
      "       'melphalan_dose', 'cardiac', 'pulm_moderate'],\n",
      "      dtype='object')\n"
     ]
    }
   ],
   "source": [
    "num_cols = X.select_dtypes(include=[np.number]).columns\n",
    "print(num_cols)\n",
    "X[num_cols] = X[num_cols].fillna(X[num_cols].mean())\n",
    "cat_cols = X.select_dtypes(exclude=[np.number]).columns\n",
    "print(cat_cols)\n",
    "for col in cat_cols:\n",
    "    X[col] = X[col].fillna(X[col].mode())\n",
    "\n",
    "Q1 = X[num_cols].quantile(0.25)\n",
    "Q3 = X[num_cols].quantile(0.75)\n",
    "IQR = Q3 - Q1\n",
    "lower_bound = Q1 - 1.5 * IQR\n",
    "upper_bound = Q3 + 1.5 * IQR\n",
    "\n",
    "X_filtered = X[(X[num_cols] >= lower_bound) & (X[num_cols] <= upper_bound)]\n",
    "\n",
    "from sklearn.preprocessing import LabelEncoder\n",
    "le = LabelEncoder()\n",
    "for col in cat_cols:\n",
    "    X[col] = le.fit_transform(X[col])\n",
    "\n",
    "\n",
    "from sklearn.preprocessing import MinMaxScaler\n",
    "scaler = MinMaxScaler()\n",
    "X[num_cols] = pd.DataFrame(scaler.fit_transform(X[num_cols]), columns=num_cols)\n"
   ]
  },
  {
   "cell_type": "code",
   "execution_count": 6,
   "id": "ab8170a4",
   "metadata": {
    "execution": {
     "iopub.execute_input": "2025-02-12T06:00:06.869978Z",
     "iopub.status.busy": "2025-02-12T06:00:06.869654Z",
     "iopub.status.idle": "2025-02-12T06:00:06.941192Z",
     "shell.execute_reply": "2025-02-12T06:00:06.939986Z"
    },
    "papermill": {
     "duration": 0.077345,
     "end_time": "2025-02-12T06:00:06.942883",
     "exception": false,
     "start_time": "2025-02-12T06:00:06.865538",
     "status": "completed"
    },
    "tags": []
   },
   "outputs": [
    {
     "name": "stdout",
     "output_type": "stream",
     "text": [
      "Index(['hla_match_c_high', 'hla_high_res_8', 'hla_low_res_6', 'hla_high_res_6',\n",
      "       'hla_high_res_10', 'hla_match_dqb1_high', 'hla_nmdp_6',\n",
      "       'hla_match_c_low', 'hla_match_drb1_low', 'hla_match_dqb1_low',\n",
      "       'year_hct', 'hla_match_a_high', 'donor_age', 'hla_match_b_low',\n",
      "       'age_at_hct', 'hla_match_a_low', 'hla_match_b_high',\n",
      "       'comorbidity_score', 'karnofsky_score', 'hla_low_res_8',\n",
      "       'hla_match_drb1_high', 'hla_low_res_10'],\n",
      "      dtype='object')\n",
      "Index(['dri_score', 'psych_disturb', 'cyto_score', 'diabetes', 'tbi_status',\n",
      "       'arrhythmia', 'graft_type', 'vent_hist', 'renal_issue', 'pulm_severe',\n",
      "       'prim_disease_hct', 'cmv_status', 'tce_imm_match', 'rituximab',\n",
      "       'prod_type', 'cyto_score_detail', 'conditioning_intensity', 'ethnicity',\n",
      "       'obesity', 'mrd_hct', 'in_vivo_tcd', 'tce_match', 'hepatic_severe',\n",
      "       'prior_tumor', 'peptic_ulcer', 'gvhd_proph', 'rheum_issue', 'sex_match',\n",
      "       'race_group', 'hepatic_mild', 'tce_div_match', 'donor_related',\n",
      "       'melphalan_dose', 'cardiac', 'pulm_moderate'],\n",
      "      dtype='object')\n"
     ]
    }
   ],
   "source": [
    "num_cols = X_test.select_dtypes(include=[np.number]).columns\n",
    "print(num_cols)\n",
    "X[num_cols] = X_test[num_cols].fillna(X_test[num_cols].median())\n",
    "cat_cols = X_test.select_dtypes(exclude=[np.number]).columns\n",
    "print(cat_cols)\n",
    "for col in cat_cols:\n",
    "    X_test[col] = X_test[col].fillna(X_test[col].mode())\n",
    "\n",
    "from sklearn.preprocessing import LabelEncoder\n",
    "le = LabelEncoder()\n",
    "for col in cat_cols:\n",
    "    X_test[col] = le.fit_transform(X_test[col])\n",
    "\n",
    "\n",
    "from sklearn.preprocessing import MinMaxScaler\n",
    "scaler = MinMaxScaler()\n",
    "X_test[num_cols] = pd.DataFrame(scaler.fit_transform(X_test[num_cols]), columns=num_cols)"
   ]
  },
  {
   "cell_type": "code",
   "execution_count": 7,
   "id": "d6bca2c3",
   "metadata": {
    "execution": {
     "iopub.execute_input": "2025-02-12T06:00:06.950936Z",
     "iopub.status.busy": "2025-02-12T06:00:06.950615Z",
     "iopub.status.idle": "2025-02-12T06:00:07.111613Z",
     "shell.execute_reply": "2025-02-12T06:00:07.110513Z"
    },
    "papermill": {
     "duration": 0.167019,
     "end_time": "2025-02-12T06:00:07.113443",
     "exception": false,
     "start_time": "2025-02-12T06:00:06.946424",
     "status": "completed"
    },
    "tags": []
   },
   "outputs": [],
   "source": [
    "from sklearn.model_selection import train_test_split\n",
    "from lifelines.utils import concordance_index\n",
    "from lifelines import KaplanMeierFitter\n",
    "from sklearn.model_selection import KFold\n",
    "import xgboost as xgb"
   ]
  },
  {
   "cell_type": "code",
   "execution_count": 8,
   "id": "675809fe",
   "metadata": {
    "execution": {
     "iopub.execute_input": "2025-02-12T06:00:07.121948Z",
     "iopub.status.busy": "2025-02-12T06:00:07.121430Z",
     "iopub.status.idle": "2025-02-12T06:00:11.800818Z",
     "shell.execute_reply": "2025-02-12T06:00:11.799594Z"
    },
    "papermill": {
     "duration": 4.685384,
     "end_time": "2025-02-12T06:00:11.802466",
     "exception": false,
     "start_time": "2025-02-12T06:00:07.117082",
     "status": "completed"
    },
    "tags": []
   },
   "outputs": [
    {
     "name": "stdout",
     "output_type": "stream",
     "text": [
      "\n",
      "Average C-index across 5 folds: 0.6603\n"
     ]
    }
   ],
   "source": [
    "kf = KFold(n_splits=5, shuffle=True, random_state=42)\n",
    "c_index_scores = []\n",
    "\n",
    "def transform_target(df, time_col='efs_time', event_col='efs'):\n",
    "    kmf = KaplanMeierFitter()\n",
    "    kmf.fit(df[time_col], df[event_col])\n",
    "    y = kmf.survival_function_at_times(df[time_col]).values\n",
    "    return y\n",
    "\n",
    "for train_idx, val_idx in kf.split(X):\n",
    "    X_train, X_val = X.iloc[train_idx], X.iloc[val_idx]\n",
    "    y_train, y_val = y.iloc[train_idx], y.iloc[val_idx]\n",
    "    y_train_cox = transform_target(y_train)\n",
    "    y_val_cox = transform_target(y_val)\n",
    "\n",
    "    params={\n",
    "        'max_depth': 4,\n",
    "        'learning_rate': 0.04898324564137106,\n",
    "        'n_estimators': 403,\n",
    "        'min_child_weight': 2,\n",
    "        'subsample': 0.8261515350955918,\n",
    "        'colsample_bytree': 0.8297150212034241,\n",
    "        'reg_alpha': 0.12877762850043256,\n",
    "        'reg_lambda': 0.39600640441074775\n",
    "    }\n",
    "    model = xgb.XGBRegressor(**params)\n",
    "    model.fit(X_train, y_train_cox)\n",
    "    y_pred = model.predict(X_val)\n",
    "    c_index = concordance_index(y_val['efs_time'], -y_pred, y_val['efs'])\n",
    "    c_index_scores.append(c_index)\n",
    "\n",
    "print(f\"\\nAverage C-index across {kf.get_n_splits()} folds: {np.mean(c_index_scores):.4f}\")"
   ]
  },
  {
   "cell_type": "code",
   "execution_count": 9,
   "id": "27788913",
   "metadata": {
    "execution": {
     "iopub.execute_input": "2025-02-12T06:00:11.810222Z",
     "iopub.status.busy": "2025-02-12T06:00:11.809908Z",
     "iopub.status.idle": "2025-02-12T06:00:11.830448Z",
     "shell.execute_reply": "2025-02-12T06:00:11.829380Z"
    },
    "papermill": {
     "duration": 0.026142,
     "end_time": "2025-02-12T06:00:11.832081",
     "exception": false,
     "start_time": "2025-02-12T06:00:11.805939",
     "status": "completed"
    },
    "tags": []
   },
   "outputs": [
    {
     "name": "stdout",
     "output_type": "stream",
     "text": [
      "[0.5763649  0.70932543 0.63904893]\n",
      "      ID  prediction\n",
      "0  28800    0.576365\n",
      "1  28801    0.709325\n",
      "2  28802    0.639049\n"
     ]
    }
   ],
   "source": [
    "y_pred = model.predict(X_test)\n",
    "print(y_pred)\n",
    "results_df = pd.DataFrame({\n",
    "    'ID': test['ID'],\n",
    "    'prediction': y_pred\n",
    "})\n",
    "\n",
    "print(results_df.head())\n",
    "results_df.to_csv(\"submission.csv\", index=False)"
   ]
  }
 ],
 "metadata": {
  "kaggle": {
   "accelerator": "none",
   "dataSources": [
    {
     "databundleVersionId": 10381525,
     "sourceId": 70942,
     "sourceType": "competition"
    }
   ],
   "isGpuEnabled": false,
   "isInternetEnabled": false,
   "language": "python",
   "sourceType": "notebook"
  },
  "kernelspec": {
   "display_name": "Python 3",
   "language": "python",
   "name": "python3"
  },
  "language_info": {
   "codemirror_mode": {
    "name": "ipython",
    "version": 3
   },
   "file_extension": ".py",
   "mimetype": "text/x-python",
   "name": "python",
   "nbconvert_exporter": "python",
   "pygments_lexer": "ipython3",
   "version": "3.10.12"
  },
  "papermill": {
   "default_parameters": {},
   "duration": 12.076599,
   "end_time": "2025-02-12T06:00:12.554530",
   "environment_variables": {},
   "exception": null,
   "input_path": "__notebook__.ipynb",
   "output_path": "__notebook__.ipynb",
   "parameters": {},
   "start_time": "2025-02-12T06:00:00.477931",
   "version": "2.6.0"
  }
 },
 "nbformat": 4,
 "nbformat_minor": 5
}
