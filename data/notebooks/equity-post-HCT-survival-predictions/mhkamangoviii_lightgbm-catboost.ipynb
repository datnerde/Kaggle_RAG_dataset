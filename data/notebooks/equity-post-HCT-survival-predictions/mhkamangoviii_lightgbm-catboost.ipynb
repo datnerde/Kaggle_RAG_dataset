{
 "cells": [
  {
   "cell_type": "code",
   "execution_count": 1,
   "id": "97fed737",
   "metadata": {
    "_cell_guid": "b1076dfc-b9ad-4769-8c92-a6c4dae69d19",
    "_uuid": "8f2839f25d086af736a60e9eeb907d3b93b6e0e5",
    "execution": {
     "iopub.execute_input": "2025-03-01T16:13:28.240718Z",
     "iopub.status.busy": "2025-03-01T16:13:28.240168Z",
     "iopub.status.idle": "2025-03-01T16:13:36.862886Z",
     "shell.execute_reply": "2025-03-01T16:13:36.861419Z"
    },
    "papermill": {
     "duration": 8.629377,
     "end_time": "2025-03-01T16:13:36.865329",
     "exception": false,
     "start_time": "2025-03-01T16:13:28.235952",
     "status": "completed"
    },
    "tags": []
   },
   "outputs": [
    {
     "name": "stdout",
     "output_type": "stream",
     "text": [
      "Inference complete! Submission file saved as submission.csv\n"
     ]
    }
   ],
   "source": [
    "import numpy as np\n",
    "import pandas as pd\n",
    "import joblib\n",
    "from lightgbm import LGBMRegressor\n",
    "from catboost import CatBoostRegressor\n",
    "\n",
    "# Load Test Data\n",
    "test = pd.read_csv(\"/kaggle/input/equity-post-HCT-survival-predictions/test.csv\")\n",
    "\n",
    "# Preprocess Test Data \n",
    "def feature_engineering(df):\n",
    "    df['donor_age_diff'] = df['donor_age'] - df['age_at_hct']\n",
    "    df['score_interaction'] = df['comorbidity_score'] * df['karnofsky_score']\n",
    "    df['age_group'] = df['age_at_hct'] // 10\n",
    "    df['dri_score_NA'] = df['dri_score'].apply(lambda x: int('N/A' in str(x)))\n",
    "    return df\n",
    "\n",
    "test = feature_engineering(test)\n",
    "\n",
    "# Encode categorical features (Same as Training)\n",
    "for col in test.select_dtypes(include=['object', 'category']).columns:\n",
    "    test[col] = test[col].astype('category').cat.codes\n",
    "\n",
    "# Load Trained Models\n",
    "lgb_models, cat_models = joblib.load(\"/kaggle/input/dataset-model/ensemble_models.pkl\")\n",
    "\n",
    "# Ensure Test Data Has the Same Features as Training\n",
    "train_features = set(lgb_models[0].feature_name_) \n",
    "test_features = set(test.columns)\n",
    "\n",
    "missing_in_test = train_features - test_features\n",
    "extra_in_test = test_features - train_features\n",
    "\n",
    "# Add missing columns with default values\n",
    "for col in missing_in_test:\n",
    "    if col == \"weight\":\n",
    "        test[col] = 1.0 \n",
    "    else:\n",
    "        test[col] = 0\n",
    "\n",
    "\n",
    "# Ensure column order matches training\n",
    "test = test[list(train_features)]\n",
    "\n",
    "# Make Predictions\n",
    "lgb_preds = np.mean([model.predict(test) for model in lgb_models], axis=0)\n",
    "cat_preds = np.mean([model.predict(test) for model in cat_models], axis=0)\n",
    "\n",
    "# Weighted Ensemble\n",
    "final_preds = 0.725 * lgb_preds + 0.275 * cat_preds\n",
    "\n",
    "# Save Submission File\n",
    "submission = pd.DataFrame({\n",
    "    \"ID\": test[\"ID\"],  # Ensure test dataset has 'ID' column\n",
    "    \"prediction\": final_preds\n",
    "})\n",
    "submission.to_csv(\"submission.csv\", index=False)\n",
    "\n",
    "print(\"Inference complete! Submission file saved as submission.csv\")"
   ]
  },
  {
   "cell_type": "code",
   "execution_count": null,
   "id": "b6eacb23",
   "metadata": {
    "papermill": {
     "duration": 0.001614,
     "end_time": "2025-03-01T16:13:36.869566",
     "exception": false,
     "start_time": "2025-03-01T16:13:36.867952",
     "status": "completed"
    },
    "tags": []
   },
   "outputs": [],
   "source": []
  }
 ],
 "metadata": {
  "kaggle": {
   "accelerator": "none",
   "dataSources": [
    {
     "databundleVersionId": 10381525,
     "isSourceIdPinned": false,
     "sourceId": 70942,
     "sourceType": "competition"
    },
    {
     "datasetId": 6767723,
     "sourceId": 10890630,
     "sourceType": "datasetVersion"
    }
   ],
   "dockerImageVersionId": 30918,
   "isGpuEnabled": false,
   "isInternetEnabled": false,
   "language": "python",
   "sourceType": "notebook"
  },
  "kernelspec": {
   "display_name": "Python 3",
   "language": "python",
   "name": "python3"
  },
  "language_info": {
   "codemirror_mode": {
    "name": "ipython",
    "version": 3
   },
   "file_extension": ".py",
   "mimetype": "text/x-python",
   "name": "python",
   "nbconvert_exporter": "python",
   "pygments_lexer": "ipython3",
   "version": "3.10.12"
  },
  "papermill": {
   "default_parameters": {},
   "duration": 12.911186,
   "end_time": "2025-03-01T16:13:38.197149",
   "environment_variables": {},
   "exception": null,
   "input_path": "__notebook__.ipynb",
   "output_path": "__notebook__.ipynb",
   "parameters": {},
   "start_time": "2025-03-01T16:13:25.285963",
   "version": "2.6.0"
  }
 },
 "nbformat": 4,
 "nbformat_minor": 5
}
