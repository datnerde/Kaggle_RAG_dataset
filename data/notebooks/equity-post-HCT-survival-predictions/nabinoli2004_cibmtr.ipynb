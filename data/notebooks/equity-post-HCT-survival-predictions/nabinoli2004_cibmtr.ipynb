{
 "cells": [
  {
   "cell_type": "code",
   "execution_count": 1,
   "id": "ce9b11ef",
   "metadata": {
    "_cell_guid": "b1076dfc-b9ad-4769-8c92-a6c4dae69d19",
    "_uuid": "8f2839f25d086af736a60e9eeb907d3b93b6e0e5",
    "execution": {
     "iopub.execute_input": "2024-12-14T13:49:53.580741Z",
     "iopub.status.busy": "2024-12-14T13:49:53.579654Z",
     "iopub.status.idle": "2024-12-14T13:49:54.434242Z",
     "shell.execute_reply": "2024-12-14T13:49:54.433172Z"
    },
    "papermill": {
     "duration": 0.863263,
     "end_time": "2024-12-14T13:49:54.437124",
     "exception": false,
     "start_time": "2024-12-14T13:49:53.573861",
     "status": "completed"
    },
    "tags": []
   },
   "outputs": [
    {
     "name": "stdout",
     "output_type": "stream",
     "text": [
      "/kaggle/input/equity-post-HCT-survival-predictions/sample_submission.csv\n",
      "/kaggle/input/equity-post-HCT-survival-predictions/data_dictionary.csv\n",
      "/kaggle/input/equity-post-HCT-survival-predictions/train.csv\n",
      "/kaggle/input/equity-post-HCT-survival-predictions/test.csv\n"
     ]
    }
   ],
   "source": [
    "# This Python 3 environment comes with many helpful analytics libraries installed\n",
    "# It is defined by the kaggle/python Docker image: https://github.com/kaggle/docker-python\n",
    "# For example, here's several helpful packages to load\n",
    "\n",
    "import numpy as np # linear algebra\n",
    "import pandas as pd # data processing, CSV file I/O (e.g. pd.read_csv)\n",
    "\n",
    "# Input data files are available in the read-only \"../input/\" directory\n",
    "# For example, running this (by clicking run or pressing Shift+Enter) will list all files under the input directory\n",
    "\n",
    "import os\n",
    "for dirname, _, filenames in os.walk('/kaggle/input'):\n",
    "    for filename in filenames:\n",
    "        print(os.path.join(dirname, filename))\n",
    "\n",
    "# You can write up to 20GB to the current directory (/kaggle/working/) that gets preserved as output when you create a version using \"Save & Run All\" \n",
    "# You can also write temporary files to /kaggle/temp/, but they won't be saved outside of the current session"
   ]
  },
  {
   "cell_type": "code",
   "execution_count": 2,
   "id": "3bfd6a03",
   "metadata": {
    "execution": {
     "iopub.execute_input": "2024-12-14T13:49:54.448959Z",
     "iopub.status.busy": "2024-12-14T13:49:54.448404Z",
     "iopub.status.idle": "2024-12-14T13:49:54.880463Z",
     "shell.execute_reply": "2024-12-14T13:49:54.879558Z"
    },
    "papermill": {
     "duration": 0.439922,
     "end_time": "2024-12-14T13:49:54.883125",
     "exception": false,
     "start_time": "2024-12-14T13:49:54.443203",
     "status": "completed"
    },
    "tags": []
   },
   "outputs": [],
   "source": [
    "path = \"/kaggle/input/equity-post-HCT-survival-predictions\"\n",
    "\n",
    "train_df = pd.read_csv(f\"{path}/train.csv\")\n",
    "test_df = pd.read_csv(f\"{path}/test.csv\")\n",
    "data_dict = pd.read_csv(f\"{path}/data_dictionary.csv\")\n",
    "sub_df = pd.read_csv(f\"{path}/sample_submission.csv\")"
   ]
  },
  {
   "cell_type": "code",
   "execution_count": 3,
   "id": "331fc8b7",
   "metadata": {
    "execution": {
     "iopub.execute_input": "2024-12-14T13:49:54.892527Z",
     "iopub.status.busy": "2024-12-14T13:49:54.892110Z",
     "iopub.status.idle": "2024-12-14T13:49:54.928617Z",
     "shell.execute_reply": "2024-12-14T13:49:54.927565Z"
    },
    "papermill": {
     "duration": 0.043928,
     "end_time": "2024-12-14T13:49:54.931151",
     "exception": false,
     "start_time": "2024-12-14T13:49:54.887223",
     "status": "completed"
    },
    "tags": []
   },
   "outputs": [
    {
     "data": {
      "text/html": [
       "<div>\n",
       "<style scoped>\n",
       "    .dataframe tbody tr th:only-of-type {\n",
       "        vertical-align: middle;\n",
       "    }\n",
       "\n",
       "    .dataframe tbody tr th {\n",
       "        vertical-align: top;\n",
       "    }\n",
       "\n",
       "    .dataframe thead th {\n",
       "        text-align: right;\n",
       "    }\n",
       "</style>\n",
       "<table border=\"1\" class=\"dataframe\">\n",
       "  <thead>\n",
       "    <tr style=\"text-align: right;\">\n",
       "      <th></th>\n",
       "      <th>ID</th>\n",
       "      <th>dri_score</th>\n",
       "      <th>psych_disturb</th>\n",
       "      <th>cyto_score</th>\n",
       "      <th>diabetes</th>\n",
       "      <th>hla_match_c_high</th>\n",
       "      <th>hla_high_res_8</th>\n",
       "      <th>tbi_status</th>\n",
       "      <th>arrhythmia</th>\n",
       "      <th>hla_low_res_6</th>\n",
       "      <th>...</th>\n",
       "      <th>karnofsky_score</th>\n",
       "      <th>hepatic_mild</th>\n",
       "      <th>tce_div_match</th>\n",
       "      <th>donor_related</th>\n",
       "      <th>melphalan_dose</th>\n",
       "      <th>hla_low_res_8</th>\n",
       "      <th>cardiac</th>\n",
       "      <th>hla_match_drb1_high</th>\n",
       "      <th>pulm_moderate</th>\n",
       "      <th>hla_low_res_10</th>\n",
       "    </tr>\n",
       "  </thead>\n",
       "  <tbody>\n",
       "    <tr>\n",
       "      <th>0</th>\n",
       "      <td>28800</td>\n",
       "      <td>N/A - non-malignant indication</td>\n",
       "      <td>No</td>\n",
       "      <td>NaN</td>\n",
       "      <td>No</td>\n",
       "      <td>NaN</td>\n",
       "      <td>NaN</td>\n",
       "      <td>No TBI</td>\n",
       "      <td>No</td>\n",
       "      <td>6.0</td>\n",
       "      <td>...</td>\n",
       "      <td>90.0</td>\n",
       "      <td>No</td>\n",
       "      <td>NaN</td>\n",
       "      <td>Unrelated</td>\n",
       "      <td>N/A, Mel not given</td>\n",
       "      <td>8.0</td>\n",
       "      <td>No</td>\n",
       "      <td>2.0</td>\n",
       "      <td>No</td>\n",
       "      <td>10.0</td>\n",
       "    </tr>\n",
       "    <tr>\n",
       "      <th>1</th>\n",
       "      <td>28801</td>\n",
       "      <td>Intermediate</td>\n",
       "      <td>No</td>\n",
       "      <td>Intermediate</td>\n",
       "      <td>No</td>\n",
       "      <td>2.0</td>\n",
       "      <td>8.0</td>\n",
       "      <td>TBI +- Other, &gt;cGy</td>\n",
       "      <td>No</td>\n",
       "      <td>6.0</td>\n",
       "      <td>...</td>\n",
       "      <td>90.0</td>\n",
       "      <td>No</td>\n",
       "      <td>Permissive mismatched</td>\n",
       "      <td>Related</td>\n",
       "      <td>N/A, Mel not given</td>\n",
       "      <td>8.0</td>\n",
       "      <td>No</td>\n",
       "      <td>2.0</td>\n",
       "      <td>Yes</td>\n",
       "      <td>10.0</td>\n",
       "    </tr>\n",
       "    <tr>\n",
       "      <th>2</th>\n",
       "      <td>28802</td>\n",
       "      <td>N/A - non-malignant indication</td>\n",
       "      <td>No</td>\n",
       "      <td>NaN</td>\n",
       "      <td>No</td>\n",
       "      <td>2.0</td>\n",
       "      <td>8.0</td>\n",
       "      <td>No TBI</td>\n",
       "      <td>No</td>\n",
       "      <td>6.0</td>\n",
       "      <td>...</td>\n",
       "      <td>90.0</td>\n",
       "      <td>No</td>\n",
       "      <td>Permissive mismatched</td>\n",
       "      <td>Related</td>\n",
       "      <td>N/A, Mel not given</td>\n",
       "      <td>8.0</td>\n",
       "      <td>No</td>\n",
       "      <td>2.0</td>\n",
       "      <td>No</td>\n",
       "      <td>10.0</td>\n",
       "    </tr>\n",
       "  </tbody>\n",
       "</table>\n",
       "<p>3 rows × 58 columns</p>\n",
       "</div>"
      ],
      "text/plain": [
       "      ID                       dri_score psych_disturb    cyto_score diabetes  \\\n",
       "0  28800  N/A - non-malignant indication            No           NaN       No   \n",
       "1  28801                    Intermediate            No  Intermediate       No   \n",
       "2  28802  N/A - non-malignant indication            No           NaN       No   \n",
       "\n",
       "   hla_match_c_high  hla_high_res_8          tbi_status arrhythmia  \\\n",
       "0               NaN             NaN              No TBI         No   \n",
       "1               2.0             8.0  TBI +- Other, >cGy         No   \n",
       "2               2.0             8.0              No TBI         No   \n",
       "\n",
       "   hla_low_res_6  ... karnofsky_score hepatic_mild          tce_div_match  \\\n",
       "0            6.0  ...            90.0           No                    NaN   \n",
       "1            6.0  ...            90.0           No  Permissive mismatched   \n",
       "2            6.0  ...            90.0           No  Permissive mismatched   \n",
       "\n",
       "  donor_related      melphalan_dose  hla_low_res_8 cardiac  \\\n",
       "0     Unrelated  N/A, Mel not given            8.0      No   \n",
       "1       Related  N/A, Mel not given            8.0      No   \n",
       "2       Related  N/A, Mel not given            8.0      No   \n",
       "\n",
       "   hla_match_drb1_high  pulm_moderate hla_low_res_10  \n",
       "0                  2.0             No           10.0  \n",
       "1                  2.0            Yes           10.0  \n",
       "2                  2.0             No           10.0  \n",
       "\n",
       "[3 rows x 58 columns]"
      ]
     },
     "execution_count": 3,
     "metadata": {},
     "output_type": "execute_result"
    }
   ],
   "source": [
    "test_df"
   ]
  },
  {
   "cell_type": "code",
   "execution_count": 4,
   "id": "6cc9c5bd",
   "metadata": {
    "execution": {
     "iopub.execute_input": "2024-12-14T13:49:54.941157Z",
     "iopub.status.busy": "2024-12-14T13:49:54.940772Z",
     "iopub.status.idle": "2024-12-14T13:49:57.543727Z",
     "shell.execute_reply": "2024-12-14T13:49:57.542541Z"
    },
    "papermill": {
     "duration": 2.611197,
     "end_time": "2024-12-14T13:49:57.546350",
     "exception": false,
     "start_time": "2024-12-14T13:49:54.935153",
     "status": "completed"
    },
    "tags": []
   },
   "outputs": [
    {
     "data": {
      "image/png": "[encoded data removed]",
      "text/plain": [
       "<Figure size 2500x1000 with 2 Axes>"
      ]
     },
     "metadata": {},
     "output_type": "display_data"
    }
   ],
   "source": [
    "import matplotlib.pyplot as plt\n",
    "import missingno as msno\n",
    "\n",
    "msno.matrix(train_df)\n",
    "plt.title(\"Missing Value Plot\")\n",
    "plt.show()"
   ]
  },
  {
   "cell_type": "code",
   "execution_count": 5,
   "id": "56102c13",
   "metadata": {
    "execution": {
     "iopub.execute_input": "2024-12-14T13:49:57.558481Z",
     "iopub.status.busy": "2024-12-14T13:49:57.557923Z",
     "iopub.status.idle": "2024-12-14T13:49:57.707460Z",
     "shell.execute_reply": "2024-12-14T13:49:57.706273Z"
    },
    "papermill": {
     "duration": 0.158511,
     "end_time": "2024-12-14T13:49:57.710095",
     "exception": false,
     "start_time": "2024-12-14T13:49:57.551584",
     "status": "completed"
    },
    "tags": []
   },
   "outputs": [],
   "source": [
    "num_cols = train_df.select_dtypes(include=['number']).columns\n",
    "cat_cols = train_df.select_dtypes(exclude=['number']).columns\n",
    "\n",
    "train_df[num_cols] = train_df[num_cols].fillna(-1)\n",
    "train_df[cat_cols] = train_df[cat_cols].fillna('unknown')\n",
    "\n",
    "num_cols = test_df.select_dtypes(include=['number']).columns\n",
    "cat_cols = test_df.select_dtypes(exclude=['number']).columns\n",
    "\n",
    "test_df[num_cols] = test_df[num_cols].fillna(-1)\n",
    "test_df[cat_cols] = test_df[cat_cols].fillna('unknown')"
   ]
  },
  {
   "cell_type": "markdown",
   "id": "0264754e",
   "metadata": {
    "papermill": {
     "duration": 0.005981,
     "end_time": "2024-12-14T13:49:57.721099",
     "exception": false,
     "start_time": "2024-12-14T13:49:57.715118",
     "status": "completed"
    },
    "tags": []
   },
   "source": [
    "# Model"
   ]
  },
  {
   "cell_type": "code",
   "execution_count": 6,
   "id": "f537ac27",
   "metadata": {
    "execution": {
     "iopub.execute_input": "2024-12-14T13:49:57.733239Z",
     "iopub.status.busy": "2024-12-14T13:49:57.732439Z",
     "iopub.status.idle": "2024-12-14T13:49:57.865900Z",
     "shell.execute_reply": "2024-12-14T13:49:57.864341Z"
    },
    "papermill": {
     "duration": 0.143787,
     "end_time": "2024-12-14T13:49:57.869888",
     "exception": false,
     "start_time": "2024-12-14T13:49:57.726101",
     "status": "completed"
    },
    "tags": []
   },
   "outputs": [
    {
     "data": {
      "image/png": "[encoded data removed]",
      "text/plain": [
       "<Figure size 640x480 with 1 Axes>"
      ]
     },
     "metadata": {},
     "output_type": "display_data"
    }
   ],
   "source": [
    "import seaborn as sns\n",
    "import matplotlib.pyplot as plt\n",
    "\n",
    "sns.countplot(x='efs',data=train_df)\n",
    "plt.show()"
   ]
  },
  {
   "cell_type": "code",
   "execution_count": 7,
   "id": "6f4fbda2",
   "metadata": {
    "execution": {
     "iopub.execute_input": "2024-12-14T13:49:57.896324Z",
     "iopub.status.busy": "2024-12-14T13:49:57.895953Z",
     "iopub.status.idle": "2024-12-14T13:49:59.254715Z",
     "shell.execute_reply": "2024-12-14T13:49:59.253453Z"
    },
    "papermill": {
     "duration": 1.374117,
     "end_time": "2024-12-14T13:49:59.257324",
     "exception": false,
     "start_time": "2024-12-14T13:49:57.883207",
     "status": "completed"
    },
    "tags": []
   },
   "outputs": [],
   "source": [
    "import lightgbm as lgb\n",
    "\n",
    "target = 'efs'\n",
    "\n",
    "X_train = train_df.dot\n",
    "X_train = train_df.drop(columns=[target,'efs_time'])\n",
    "y_train = train_df[target]"
   ]
  },
  {
   "cell_type": "code",
   "execution_count": 8,
   "id": "cd3519da",
   "metadata": {
    "execution": {
     "iopub.execute_input": "2024-12-14T13:49:59.270540Z",
     "iopub.status.busy": "2024-12-14T13:49:59.269911Z",
     "iopub.status.idle": "2024-12-14T13:49:59.675483Z",
     "shell.execute_reply": "2024-12-14T13:49:59.673660Z"
    },
    "papermill": {
     "duration": 0.41543,
     "end_time": "2024-12-14T13:49:59.678317",
     "exception": false,
     "start_time": "2024-12-14T13:49:59.262887",
     "status": "completed"
    },
    "tags": []
   },
   "outputs": [],
   "source": [
    "from catboost import CatBoostClassifier\n",
    "from sklearn.model_selection import train_test_split\n",
    "from sklearn.metrics import accuracy_score\n",
    "\n",
    "model = CatBoostClassifier(\n",
    "    iterations=1000,       # Number of boosting iterations\n",
    "    learning_rate=0.1,     # Learning rate\n",
    "    depth=6,               # Depth of each tree\n",
    "    cat_features=list(cat_cols),  # Pass categorical column indices or names\n",
    "    verbose=100,           # Print training progress\n",
    "    early_stopping_rounds=50  # Stop training if no improvement\n",
    ")"
   ]
  },
  {
   "cell_type": "code",
   "execution_count": 9,
   "id": "bf982111",
   "metadata": {
    "execution": {
     "iopub.execute_input": "2024-12-14T13:49:59.690584Z",
     "iopub.status.busy": "2024-12-14T13:49:59.690192Z",
     "iopub.status.idle": "2024-12-14T13:51:38.553574Z",
     "shell.execute_reply": "2024-12-14T13:51:38.552231Z"
    },
    "papermill": {
     "duration": 98.872202,
     "end_time": "2024-12-14T13:51:38.555836",
     "exception": false,
     "start_time": "2024-12-14T13:49:59.683634",
     "status": "completed"
    },
    "tags": []
   },
   "outputs": [
    {
     "name": "stderr",
     "output_type": "stream",
     "text": [
      "You should provide test set for use best model. use_best_model parameter has been switched to false value.\n"
     ]
    },
    {
     "name": "stdout",
     "output_type": "stream",
     "text": [
      "0:\tlearn: 0.6793223\ttotal: 171ms\tremaining: 2m 50s\n",
      "100:\tlearn: 0.5693865\ttotal: 9.64s\tremaining: 1m 25s\n",
      "200:\tlearn: 0.5455731\ttotal: 19.7s\tremaining: 1m 18s\n",
      "300:\tlearn: 0.5287106\ttotal: 29.2s\tremaining: 1m 7s\n",
      "400:\tlearn: 0.5155776\ttotal: 38.9s\tremaining: 58s\n",
      "500:\tlearn: 0.5042500\ttotal: 49.1s\tremaining: 48.9s\n",
      "600:\tlearn: 0.4924521\ttotal: 58.8s\tremaining: 39s\n",
      "700:\tlearn: 0.4822033\ttotal: 1m 8s\tremaining: 29.2s\n",
      "800:\tlearn: 0.4731646\ttotal: 1m 18s\tremaining: 19.6s\n",
      "900:\tlearn: 0.4631214\ttotal: 1m 28s\tremaining: 9.73s\n",
      "999:\tlearn: 0.4535373\ttotal: 1m 38s\tremaining: 0us\n"
     ]
    },
    {
     "data": {
      "text/plain": [
       "<catboost.core.CatBoostClassifier at 0x7a3670657f10>"
      ]
     },
     "execution_count": 9,
     "metadata": {},
     "output_type": "execute_result"
    }
   ],
   "source": [
    "model.fit(X_train, y_train, use_best_model=True)"
   ]
  },
  {
   "cell_type": "code",
   "execution_count": null,
   "id": "c8527004",
   "metadata": {
    "papermill": {
     "duration": 0.005827,
     "end_time": "2024-12-14T13:51:38.567787",
     "exception": false,
     "start_time": "2024-12-14T13:51:38.561960",
     "status": "completed"
    },
    "tags": []
   },
   "outputs": [],
   "source": []
  },
  {
   "cell_type": "code",
   "execution_count": 10,
   "id": "9d4463d1",
   "metadata": {
    "execution": {
     "iopub.execute_input": "2024-12-14T13:51:38.581194Z",
     "iopub.status.busy": "2024-12-14T13:51:38.580778Z",
     "iopub.status.idle": "2024-12-14T13:51:38.589849Z",
     "shell.execute_reply": "2024-12-14T13:51:38.588754Z"
    },
    "papermill": {
     "duration": 0.018785,
     "end_time": "2024-12-14T13:51:38.592421",
     "exception": false,
     "start_time": "2024-12-14T13:51:38.573636",
     "status": "completed"
    },
    "tags": []
   },
   "outputs": [],
   "source": [
    "y_pred = model.predict(test_df)"
   ]
  },
  {
   "cell_type": "code",
   "execution_count": 11,
   "id": "05bb0295",
   "metadata": {
    "execution": {
     "iopub.execute_input": "2024-12-14T13:51:38.607495Z",
     "iopub.status.busy": "2024-12-14T13:51:38.606255Z",
     "iopub.status.idle": "2024-12-14T13:51:38.614070Z",
     "shell.execute_reply": "2024-12-14T13:51:38.612880Z"
    },
    "papermill": {
     "duration": 0.017747,
     "end_time": "2024-12-14T13:51:38.616393",
     "exception": false,
     "start_time": "2024-12-14T13:51:38.598646",
     "status": "completed"
    },
    "tags": []
   },
   "outputs": [
    {
     "data": {
      "text/plain": [
       "3"
      ]
     },
     "execution_count": 11,
     "metadata": {},
     "output_type": "execute_result"
    }
   ],
   "source": [
    "len(y_pred)"
   ]
  },
  {
   "cell_type": "code",
   "execution_count": 12,
   "id": "9778b05f",
   "metadata": {
    "execution": {
     "iopub.execute_input": "2024-12-14T13:51:38.630569Z",
     "iopub.status.busy": "2024-12-14T13:51:38.630125Z",
     "iopub.status.idle": "2024-12-14T13:51:38.644806Z",
     "shell.execute_reply": "2024-12-14T13:51:38.643553Z"
    },
    "papermill": {
     "duration": 0.024588,
     "end_time": "2024-12-14T13:51:38.647194",
     "exception": false,
     "start_time": "2024-12-14T13:51:38.622606",
     "status": "completed"
    },
    "tags": []
   },
   "outputs": [
    {
     "data": {
      "text/html": [
       "<div>\n",
       "<style scoped>\n",
       "    .dataframe tbody tr th:only-of-type {\n",
       "        vertical-align: middle;\n",
       "    }\n",
       "\n",
       "    .dataframe tbody tr th {\n",
       "        vertical-align: top;\n",
       "    }\n",
       "\n",
       "    .dataframe thead th {\n",
       "        text-align: right;\n",
       "    }\n",
       "</style>\n",
       "<table border=\"1\" class=\"dataframe\">\n",
       "  <thead>\n",
       "    <tr style=\"text-align: right;\">\n",
       "      <th></th>\n",
       "      <th>ID</th>\n",
       "      <th>prediction</th>\n",
       "    </tr>\n",
       "  </thead>\n",
       "  <tbody>\n",
       "    <tr>\n",
       "      <th>0</th>\n",
       "      <td>28800</td>\n",
       "      <td>0.0</td>\n",
       "    </tr>\n",
       "    <tr>\n",
       "      <th>1</th>\n",
       "      <td>28801</td>\n",
       "      <td>1.0</td>\n",
       "    </tr>\n",
       "    <tr>\n",
       "      <th>2</th>\n",
       "      <td>28802</td>\n",
       "      <td>0.0</td>\n",
       "    </tr>\n",
       "  </tbody>\n",
       "</table>\n",
       "</div>"
      ],
      "text/plain": [
       "      ID  prediction\n",
       "0  28800         0.0\n",
       "1  28801         1.0\n",
       "2  28802         0.0"
      ]
     },
     "metadata": {},
     "output_type": "display_data"
    }
   ],
   "source": [
    "sub_df['prediction'] = y_pred\n",
    "\n",
    "sub_df.to_csv('submission.csv', index=False)\n",
    "display(sub_df.head())"
   ]
  },
  {
   "cell_type": "code",
   "execution_count": null,
   "id": "19da3a43",
   "metadata": {
    "papermill": {
     "duration": 0.005778,
     "end_time": "2024-12-14T13:51:38.659312",
     "exception": false,
     "start_time": "2024-12-14T13:51:38.653534",
     "status": "completed"
    },
    "tags": []
   },
   "outputs": [],
   "source": []
  }
 ],
 "metadata": {
  "kaggle": {
   "accelerator": "none",
   "dataSources": [
    {
     "databundleVersionId": 10381525,
     "sourceId": 70942,
     "sourceType": "competition"
    }
   ],
   "dockerImageVersionId": 30804,
   "isGpuEnabled": false,
   "isInternetEnabled": false,
   "language": "python",
   "sourceType": "notebook"
  },
  "kernelspec": {
   "display_name": "Python 3",
   "language": "python",
   "name": "python3"
  },
  "language_info": {
   "codemirror_mode": {
    "name": "ipython",
    "version": 3
   },
   "file_extension": ".py",
   "mimetype": "text/x-python",
   "name": "python",
   "nbconvert_exporter": "python",
   "pygments_lexer": "ipython3",
   "version": "3.10.14"
  },
  "papermill": {
   "default_parameters": {},
   "duration": 108.634767,
   "end_time": "2024-12-14T13:51:39.486922",
   "environment_variables": {},
   "exception": null,
   "input_path": "__notebook__.ipynb",
   "output_path": "__notebook__.ipynb",
   "parameters": {},
   "start_time": "2024-12-14T13:49:50.852155",
   "version": "2.6.0"
  }
 },
 "nbformat": 4,
 "nbformat_minor": 5
}
