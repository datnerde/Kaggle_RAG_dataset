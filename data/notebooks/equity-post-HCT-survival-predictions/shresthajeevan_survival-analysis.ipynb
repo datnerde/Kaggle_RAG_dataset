{
 "cells": [
  {
   "cell_type": "code",
   "execution_count": 1,
   "id": "bd56f6de",
   "metadata": {
    "_cell_guid": "b1076dfc-b9ad-4769-8c92-a6c4dae69d19",
    "_uuid": "8f2839f25d086af736a60e9eeb907d3b93b6e0e5",
    "execution": {
     "iopub.execute_input": "2024-12-15T22:50:01.098081Z",
     "iopub.status.busy": "2024-12-15T22:50:01.097319Z",
     "iopub.status.idle": "2024-12-15T22:50:01.745788Z",
     "shell.execute_reply": "2024-12-15T22:50:01.744791Z"
    },
    "papermill": {
     "duration": 0.658866,
     "end_time": "2024-12-15T22:50:01.747715",
     "exception": false,
     "start_time": "2024-12-15T22:50:01.088849",
     "status": "completed"
    },
    "tags": []
   },
   "outputs": [
    {
     "name": "stdout",
     "output_type": "stream",
     "text": [
      "/kaggle/input/equity-post-HCT-survival-predictions/sample_submission.csv\n",
      "/kaggle/input/equity-post-HCT-survival-predictions/data_dictionary.csv\n",
      "/kaggle/input/equity-post-HCT-survival-predictions/train.csv\n",
      "/kaggle/input/equity-post-HCT-survival-predictions/test.csv\n"
     ]
    }
   ],
   "source": [
    "# This Python 3 environment comes with many helpful analytics libraries installed\n",
    "# It is defined by the kaggle/python Docker image: https://github.com/kaggle/docker-python\n",
    "# For example, here's several helpful packages to load\n",
    "\n",
    "import numpy as np # linear algebra\n",
    "import pandas as pd # data processing, CSV file I/O (e.g. pd.read_csv)\n",
    "\n",
    "# Input data files are available in the read-only \"../input/\" directory\n",
    "# For example, running this (by clicking run or pressing Shift+Enter) will list all files under the input directory\n",
    "\n",
    "import os\n",
    "for dirname, _, filenames in os.walk('/kaggle/input'):\n",
    "    for filename in filenames:\n",
    "        print(os.path.join(dirname, filename))\n",
    "\n",
    "# You can write up to 20GB to the current directory (/kaggle/working/) that gets preserved as output when you create a version using \"Save & Run All\" \n",
    "# You can also write temporary files to /kaggle/temp/, but they won't be saved outside of the current session"
   ]
  },
  {
   "cell_type": "code",
   "execution_count": 2,
   "id": "99756b4e",
   "metadata": {
    "execution": {
     "iopub.execute_input": "2024-12-15T22:50:01.763519Z",
     "iopub.status.busy": "2024-12-15T22:50:01.762895Z",
     "iopub.status.idle": "2024-12-15T22:50:06.245879Z",
     "shell.execute_reply": "2024-12-15T22:50:06.244551Z"
    },
    "papermill": {
     "duration": 4.493368,
     "end_time": "2024-12-15T22:50:06.248954",
     "exception": false,
     "start_time": "2024-12-15T22:50:01.755586",
     "status": "completed"
    },
    "tags": []
   },
   "outputs": [],
   "source": [
    "import matplotlib.pyplot as plt\n",
    "import seaborn as sns\n",
    "import re\n",
    "from datetime import datetime\n",
    " \n",
    "import torch\n",
    "from sklearn.base import BaseEstimator, TransformerMixin \n",
    "from sklearn.impute import SimpleImputer, KNNImputer\n",
    "from sklearn.compose import ColumnTransformer\n",
    "from sklearn.pipeline import Pipeline \n",
    "from sklearn.preprocessing import OneHotEncoder, StandardScaler, OrdinalEncoder, LabelEncoder, FunctionTransformer\n",
    "from sklearn.model_selection import GridSearchCV, train_test_split, cross_val_score \n",
    "from sklearn.metrics import accuracy_score, roc_curve, auc, mean_squared_error, r2_score, confusion_matrix\n",
    "import warnings\n",
    "warnings.filterwarnings('ignore')"
   ]
  },
  {
   "cell_type": "code",
   "execution_count": 3,
   "id": "ed618e1c",
   "metadata": {
    "execution": {
     "iopub.execute_input": "2024-12-15T22:50:06.277524Z",
     "iopub.status.busy": "2024-12-15T22:50:06.277103Z",
     "iopub.status.idle": "2024-12-15T22:50:06.390057Z",
     "shell.execute_reply": "2024-12-15T22:50:06.388571Z"
    },
    "papermill": {
     "duration": 0.127537,
     "end_time": "2024-12-15T22:50:06.392847",
     "exception": false,
     "start_time": "2024-12-15T22:50:06.265310",
     "status": "completed"
    },
    "tags": []
   },
   "outputs": [
    {
     "name": "stdout",
     "output_type": "stream",
     "text": [
      "CUDA is available. Using GPU: Tesla T4\n"
     ]
    }
   ],
   "source": [
    "# Check if CUDA (GPU) is available\n",
    "if torch.cuda.is_available():\n",
    "    print(f\"CUDA is available. Using GPU: {torch.cuda.get_device_name(0)}\")\n",
    "else:\n",
    "    print(\"CUDA is not available. Using CPU.\")"
   ]
  },
  {
   "cell_type": "code",
   "execution_count": 4,
   "id": "c9b030d7",
   "metadata": {
    "execution": {
     "iopub.execute_input": "2024-12-15T22:50:06.408254Z",
     "iopub.status.busy": "2024-12-15T22:50:06.407556Z",
     "iopub.status.idle": "2024-12-15T22:50:06.760421Z",
     "shell.execute_reply": "2024-12-15T22:50:06.759419Z"
    },
    "papermill": {
     "duration": 0.362339,
     "end_time": "2024-12-15T22:50:06.762420",
     "exception": false,
     "start_time": "2024-12-15T22:50:06.400081",
     "status": "completed"
    },
    "tags": []
   },
   "outputs": [],
   "source": [
    "df_train = pd.read_csv('/kaggle/input/equity-post-HCT-survival-predictions/train.csv', index_col='ID')\n",
    "df_test = pd.read_csv('/kaggle/input/equity-post-HCT-survival-predictions/test.csv', index_col='ID')"
   ]
  },
  {
   "cell_type": "code",
   "execution_count": 5,
   "id": "14b5d61c",
   "metadata": {
    "execution": {
     "iopub.execute_input": "2024-12-15T22:50:06.777416Z",
     "iopub.status.busy": "2024-12-15T22:50:06.776914Z",
     "iopub.status.idle": "2024-12-15T22:50:06.835157Z",
     "shell.execute_reply": "2024-12-15T22:50:06.833976Z"
    },
    "papermill": {
     "duration": 0.067458,
     "end_time": "2024-12-15T22:50:06.836781",
     "exception": false,
     "start_time": "2024-12-15T22:50:06.769323",
     "status": "completed"
    },
    "tags": []
   },
   "outputs": [
    {
     "name": "stdout",
     "output_type": "stream",
     "text": [
      "<class 'pandas.core.frame.DataFrame'>\n",
      "Index: 28800 entries, 0 to 28799\n",
      "Data columns (total 59 columns):\n",
      " #   Column                  Non-Null Count  Dtype  \n",
      "---  ------                  --------------  -----  \n",
      " 0   dri_score               28646 non-null  object \n",
      " 1   psych_disturb           26738 non-null  object \n",
      " 2   cyto_score              20732 non-null  object \n",
      " 3   diabetes                26681 non-null  object \n",
      " 4   hla_match_c_high        24180 non-null  float64\n",
      " 5   hla_high_res_8          22971 non-null  float64\n",
      " 6   tbi_status              28800 non-null  object \n",
      " 7   arrhythmia              26598 non-null  object \n",
      " 8   hla_low_res_6           25530 non-null  float64\n",
      " 9   graft_type              28800 non-null  object \n",
      " 10  vent_hist               28541 non-null  object \n",
      " 11  renal_issue             26885 non-null  object \n",
      " 12  pulm_severe             26665 non-null  object \n",
      " 13  prim_disease_hct        28800 non-null  object \n",
      " 14  hla_high_res_6          23516 non-null  float64\n",
      " 15  cmv_status              28166 non-null  object \n",
      " 16  hla_high_res_10         21637 non-null  float64\n",
      " 17  hla_match_dqb1_high     23601 non-null  float64\n",
      " 18  tce_imm_match           17667 non-null  object \n",
      " 19  hla_nmdp_6              24603 non-null  float64\n",
      " 20  hla_match_c_low         26000 non-null  float64\n",
      " 21  rituximab               26652 non-null  object \n",
      " 22  hla_match_drb1_low      26157 non-null  float64\n",
      " 23  hla_match_dqb1_low      24606 non-null  float64\n",
      " 24  prod_type               28800 non-null  object \n",
      " 25  cyto_score_detail       16877 non-null  object \n",
      " 26  conditioning_intensity  24011 non-null  object \n",
      " 27  ethnicity               28213 non-null  object \n",
      " 28  year_hct                28800 non-null  int64  \n",
      " 29  obesity                 27040 non-null  object \n",
      " 30  mrd_hct                 12203 non-null  object \n",
      " 31  in_vivo_tcd             28575 non-null  object \n",
      " 32  tce_match               9804 non-null   object \n",
      " 33  hla_match_a_high        24499 non-null  float64\n",
      " 34  hepatic_severe          26929 non-null  object \n",
      " 35  donor_age               26992 non-null  float64\n",
      " 36  prior_tumor             27122 non-null  object \n",
      " 37  hla_match_b_low         26235 non-null  float64\n",
      " 38  peptic_ulcer            26381 non-null  object \n",
      " 39  age_at_hct              28800 non-null  float64\n",
      " 40  hla_match_a_low         26410 non-null  float64\n",
      " 41  gvhd_proph              28575 non-null  object \n",
      " 42  rheum_issue             26617 non-null  object \n",
      " 43  sex_match               28539 non-null  object \n",
      " 44  hla_match_b_high        24712 non-null  float64\n",
      " 45  race_group              28800 non-null  object \n",
      " 46  comorbidity_score       28323 non-null  float64\n",
      " 47  karnofsky_score         27930 non-null  float64\n",
      " 48  hepatic_mild            26883 non-null  object \n",
      " 49  tce_div_match           17404 non-null  object \n",
      " 50  donor_related           28642 non-null  object \n",
      " 51  melphalan_dose          27395 non-null  object \n",
      " 52  hla_low_res_8           25147 non-null  float64\n",
      " 53  cardiac                 26258 non-null  object \n",
      " 54  hla_match_drb1_high     25448 non-null  float64\n",
      " 55  pulm_moderate           26753 non-null  object \n",
      " 56  hla_low_res_10          23736 non-null  float64\n",
      " 57  efs                     28800 non-null  float64\n",
      " 58  efs_time                28800 non-null  float64\n",
      "dtypes: float64(23), int64(1), object(35)\n",
      "memory usage: 13.2+ MB\n"
     ]
    }
   ],
   "source": [
    "df_train.info()"
   ]
  },
  {
   "cell_type": "code",
   "execution_count": 6,
   "id": "a187453f",
   "metadata": {
    "execution": {
     "iopub.execute_input": "2024-12-15T22:50:06.851153Z",
     "iopub.status.busy": "2024-12-15T22:50:06.850885Z",
     "iopub.status.idle": "2024-12-15T22:50:06.863597Z",
     "shell.execute_reply": "2024-12-15T22:50:06.862969Z"
    },
    "papermill": {
     "duration": 0.021597,
     "end_time": "2024-12-15T22:50:06.865087",
     "exception": false,
     "start_time": "2024-12-15T22:50:06.843490",
     "status": "completed"
    },
    "tags": []
   },
   "outputs": [],
   "source": [
    "X = df_train.iloc[:, :-2]"
   ]
  },
  {
   "cell_type": "code",
   "execution_count": 7,
   "id": "5405c3ac",
   "metadata": {
    "execution": {
     "iopub.execute_input": "2024-12-15T22:50:06.879386Z",
     "iopub.status.busy": "2024-12-15T22:50:06.879168Z",
     "iopub.status.idle": "2024-12-15T22:50:06.882504Z",
     "shell.execute_reply": "2024-12-15T22:50:06.881798Z"
    },
    "papermill": {
     "duration": 0.012274,
     "end_time": "2024-12-15T22:50:06.884125",
     "exception": false,
     "start_time": "2024-12-15T22:50:06.871851",
     "status": "completed"
    },
    "tags": []
   },
   "outputs": [],
   "source": [
    "y=df_train['efs']"
   ]
  },
  {
   "cell_type": "code",
   "execution_count": 8,
   "id": "eba66605",
   "metadata": {
    "execution": {
     "iopub.execute_input": "2024-12-15T22:50:06.897820Z",
     "iopub.status.busy": "2024-12-15T22:50:06.897604Z",
     "iopub.status.idle": "2024-12-15T22:50:06.911655Z",
     "shell.execute_reply": "2024-12-15T22:50:06.910708Z"
    },
    "papermill": {
     "duration": 0.022724,
     "end_time": "2024-12-15T22:50:06.913233",
     "exception": false,
     "start_time": "2024-12-15T22:50:06.890509",
     "status": "completed"
    },
    "tags": []
   },
   "outputs": [],
   "source": [
    "numerical_columns = X.select_dtypes(include=['number']).columns\n",
    "categorical_columns = X.select_dtypes(include=['object']).columns"
   ]
  },
  {
   "cell_type": "code",
   "execution_count": 9,
   "id": "509d3c0a",
   "metadata": {
    "execution": {
     "iopub.execute_input": "2024-12-15T22:50:06.926880Z",
     "iopub.status.busy": "2024-12-15T22:50:06.926640Z",
     "iopub.status.idle": "2024-12-15T22:50:06.930138Z",
     "shell.execute_reply": "2024-12-15T22:50:06.929361Z"
    },
    "papermill": {
     "duration": 0.011988,
     "end_time": "2024-12-15T22:50:06.931602",
     "exception": false,
     "start_time": "2024-12-15T22:50:06.919614",
     "status": "completed"
    },
    "tags": []
   },
   "outputs": [],
   "source": [
    "drop_columns = ['tce_imm_match', 'cyto_score_detail', 'mrd_hct', 'tce_match', 'tce_div_match' ]"
   ]
  },
  {
   "cell_type": "code",
   "execution_count": 10,
   "id": "a0af30e9",
   "metadata": {
    "execution": {
     "iopub.execute_input": "2024-12-15T22:50:06.945382Z",
     "iopub.status.busy": "2024-12-15T22:50:06.945138Z",
     "iopub.status.idle": "2024-12-15T22:50:06.948831Z",
     "shell.execute_reply": "2024-12-15T22:50:06.948069Z"
    },
    "papermill": {
     "duration": 0.012377,
     "end_time": "2024-12-15T22:50:06.950430",
     "exception": false,
     "start_time": "2024-12-15T22:50:06.938053",
     "status": "completed"
    },
    "tags": []
   },
   "outputs": [],
   "source": [
    "ordinal_categorical_columns = ['cyto_score',]\n",
    "\n",
    "remaining_cat_columns = [col for col in categorical_columns if col not in drop_columns and col not in ordinal_categorical_columns]"
   ]
  },
  {
   "cell_type": "code",
   "execution_count": 11,
   "id": "ef834527",
   "metadata": {
    "execution": {
     "iopub.execute_input": "2024-12-15T22:50:06.964236Z",
     "iopub.status.busy": "2024-12-15T22:50:06.963959Z",
     "iopub.status.idle": "2024-12-15T22:50:06.968891Z",
     "shell.execute_reply": "2024-12-15T22:50:06.968139Z"
    },
    "papermill": {
     "duration": 0.013689,
     "end_time": "2024-12-15T22:50:06.970434",
     "exception": false,
     "start_time": "2024-12-15T22:50:06.956745",
     "status": "completed"
    },
    "tags": []
   },
   "outputs": [],
   "source": [
    "# Custom transformer class to drop columns\n",
    "class DropColumnsTransformer(BaseEstimator, TransformerMixin):\n",
    "    def __init__(self, columns_to_drop):\n",
    "        self.columns_to_drop = columns_to_drop\n",
    "\n",
    "    def fit(self, X, y=None):\n",
    "        # No fitting necessary for dropping columns\n",
    "        return self\n",
    "\n",
    "    def transform(self, X):\n",
    "        # Drop specified columns\n",
    "        return X.drop(columns=self.columns_to_drop, errors='ignore')\n",
    "\n",
    "    def get_feature_names_out(self, input_features=None):\n",
    "        # Get feature names after dropping columns\n",
    "        if input_features is None:\n",
    "            input_features = []\n",
    "        remaining_columns = [col for col in input_features if col not in self.columns_to_drop]\n",
    "        return remaining_columns\n",
    " "
   ]
  },
  {
   "cell_type": "code",
   "execution_count": 12,
   "id": "7e4669fe",
   "metadata": {
    "execution": {
     "iopub.execute_input": "2024-12-15T22:50:06.984618Z",
     "iopub.status.busy": "2024-12-15T22:50:06.983905Z",
     "iopub.status.idle": "2024-12-15T22:50:06.989550Z",
     "shell.execute_reply": "2024-12-15T22:50:06.988955Z"
    },
    "papermill": {
     "duration": 0.014338,
     "end_time": "2024-12-15T22:50:06.991201",
     "exception": false,
     "start_time": "2024-12-15T22:50:06.976863",
     "status": "completed"
    },
    "tags": []
   },
   "outputs": [],
   "source": [
    "class HandleOutliers(BaseEstimator, TransformerMixin):\n",
    "    def __init__(self, p_min=0.01, p_max=0.99):\n",
    "        self.p_min = p_min\n",
    "        self.p_max = p_max\n",
    "\n",
    "    def fit(self, X, y=None):\n",
    "        # Fit method is required by the estimator interface but we don't need to do anything here\n",
    "        return self\n",
    "\n",
    "    def transform(self, X):\n",
    "        X = pd.DataFrame(X)  # Ensure it's a DataFrame for easy processing\n",
    "        for column in X.columns:\n",
    "            # Calculate the min and max percentiles\n",
    "            p_min_value = X[column].quantile(self.p_min)\n",
    "            p_max_value = X[column].quantile(self.p_max)\n",
    "\n",
    "            # Replace values below min percentile and above max percentile\n",
    "            X[column] = X[column].clip(lower=p_min_value, upper=p_max_value)\n",
    "\n",
    "            # Replace missing values with the median\n",
    "            median = X[column].median()\n",
    "            X[column] = X[column].fillna(median)\n",
    "\n",
    "        return X.values  # Return as numpy array for compatibility with sklearn\n",
    "\n",
    "    def get_feature_names_out(self, input_features=None):\n",
    "        # Return the same feature names as input\n",
    "        return input_features"
   ]
  },
  {
   "cell_type": "code",
   "execution_count": 13,
   "id": "952ba55d",
   "metadata": {
    "execution": {
     "iopub.execute_input": "2024-12-15T22:50:07.005305Z",
     "iopub.status.busy": "2024-12-15T22:50:07.004640Z",
     "iopub.status.idle": "2024-12-15T22:50:07.011708Z",
     "shell.execute_reply": "2024-12-15T22:50:07.010928Z"
    },
    "papermill": {
     "duration": 0.015743,
     "end_time": "2024-12-15T22:50:07.013340",
     "exception": false,
     "start_time": "2024-12-15T22:50:06.997597",
     "status": "completed"
    },
    "tags": []
   },
   "outputs": [],
   "source": [
    "class NumericalImputer(BaseEstimator, TransformerMixin):\n",
    "    \"\"\"\n",
    "    Custom transformer to impute numerical columns with specified strategies.\n",
    "    \"\"\"\n",
    "    def __init__(self, impute_dict=None):\n",
    "        \"\"\"\n",
    "        Initialize the transformer with a dictionary of imputation strategies.\n",
    "\n",
    "        Args:\n",
    "        - impute_dict (dict): Dictionary mapping column names to imputation strategies.\n",
    "          e.g., {'Age': 'median', 'Number of Dependents': 0}\n",
    "        \"\"\"\n",
    "        self.impute_dict = impute_dict\n",
    "\n",
    "    def fit(self, X, y=None):\n",
    "        \"\"\"\n",
    "        Fit the transformer by calculating the required statistics for each column.\n",
    "\n",
    "        Args:\n",
    "        - X (pd.DataFrame): Input data.\n",
    "        - y: Ignored.\n",
    "        \n",
    "        Returns:\n",
    "        - self: Fitted transformer.\n",
    "        \"\"\"\n",
    "        self.statistics_ = {}\n",
    "        for col, strategy in self.impute_dict.items():\n",
    "            if strategy == \"median\":\n",
    "                self.statistics_[col] = X[col].median()\n",
    "            elif strategy == \"mean\":\n",
    "                self.statistics_[col] = X[col].mean()\n",
    "            elif strategy == 0:  # Use 0 for imputation\n",
    "                self.statistics_[col] = 0\n",
    "            else:\n",
    "                raise ValueError(f\"Unsupported strategy: {strategy}\")\n",
    "        return self\n",
    "\n",
    "    def transform(self, X):\n",
    "        \"\"\"\n",
    "        Transform the data by imputing the specified columns.\n",
    "\n",
    "        Args:\n",
    "        - X (pd.DataFrame): Input data.\n",
    "\n",
    "        Returns:\n",
    "        - pd.DataFrame: Transformed data with imputed values.\n",
    "        \"\"\"\n",
    "        X = X.copy()\n",
    "        for col, value in self.statistics_.items():\n",
    "            X[col] = X[col].fillna(value)\n",
    "        return X\n",
    "\n",
    "    def get_feature_names_out(self, input_features=None):\n",
    "        \"\"\"\n",
    "        Get output feature names for compatibility with ColumnTransformer.\n",
    "\n",
    "        Args:\n",
    "        - input_features (array-like or None): Input feature names. Ignored.\n",
    "\n",
    "        Returns:\n",
    "        - list: Feature names (column names) after transformation.\n",
    "        \"\"\"\n",
    "        return list(self.impute_dict.keys())"
   ]
  },
  {
   "cell_type": "code",
   "execution_count": 14,
   "id": "85d55f32",
   "metadata": {
    "execution": {
     "iopub.execute_input": "2024-12-15T22:50:07.026954Z",
     "iopub.status.busy": "2024-12-15T22:50:07.026739Z",
     "iopub.status.idle": "2024-12-15T22:50:07.033592Z",
     "shell.execute_reply": "2024-12-15T22:50:07.032927Z"
    },
    "papermill": {
     "duration": 0.015371,
     "end_time": "2024-12-15T22:50:07.035014",
     "exception": false,
     "start_time": "2024-12-15T22:50:07.019643",
     "status": "completed"
    },
    "tags": []
   },
   "outputs": [],
   "source": [
    "class LabelEncoderTransformer(BaseEstimator, TransformerMixin):\n",
    "    \"\"\"\n",
    "    A custom transformer to apply LabelEncoder to specified columns.\n",
    "    \"\"\"\n",
    "    def __init__(self, columns=None):\n",
    "        \"\"\"\n",
    "        Initialize the transformer.\n",
    "\n",
    "        Args:\n",
    "        - columns (list): List of column names to encode.\n",
    "        \"\"\"\n",
    "        self.columns = columns\n",
    "        self.encoders = {}\n",
    "\n",
    "    def fit(self, X, y=None):\n",
    "        \"\"\"\n",
    "        Fit LabelEncoder for each specified column.\n",
    "\n",
    "        Args:\n",
    "        - X (pd.DataFrame): Input data.\n",
    "        - y: Ignored.\n",
    "\n",
    "        Returns:\n",
    "        - self: Fitted transformer.\n",
    "        \"\"\"\n",
    "        if self.columns is None:\n",
    "            self.columns = X.columns.tolist()\n",
    "\n",
    "        for col in self.columns:\n",
    "            encoder = LabelEncoder()\n",
    "            X[col] = X[col].astype(str)  # Ensure all data is string\n",
    "            encoder.fit(X[col])\n",
    "            self.encoders[col] = encoder\n",
    "\n",
    "        return self\n",
    "\n",
    "    def transform(self, X):\n",
    "        \"\"\"\n",
    "        Transform the data by encoding the specified columns.\n",
    "\n",
    "        Args:\n",
    "        - X (pd.DataFrame): Input data.\n",
    "\n",
    "        Returns:\n",
    "        - pd.DataFrame: Transformed data with encoded values.\n",
    "        \"\"\"\n",
    "        X = X.copy()\n",
    "\n",
    "        for col in self.columns:\n",
    "            X[col] = X[col].astype(str)  # Ensure all data is string\n",
    "            X[col] = self.encoders[col].transform(X[col])\n",
    "\n",
    "        return X\n",
    "\n",
    "    def inverse_transform(self, X):\n",
    "        \"\"\"\n",
    "        Inverse transform the data to decode encoded values back to original categories.\n",
    "\n",
    "        Args:\n",
    "        - X (pd.DataFrame): Input data with encoded values.\n",
    "\n",
    "        Returns:\n",
    "        - pd.DataFrame: Decoded data with original categories.\n",
    "        \"\"\"\n",
    "        X = X.copy()\n",
    "\n",
    "        for col in self.columns:\n",
    "            X[col] = self.encoders[col].inverse_transform(X[col].astype(int))\n",
    "\n",
    "        return X\n",
    "\n",
    "    def get_feature_names_out(self, input_features=None):\n",
    "        \"\"\"\n",
    "        Get output feature names for compatibility.\n",
    "\n",
    "        Args:\n",
    "        - input_features (array-like or None): Input feature names.\n",
    "\n",
    "        Returns:\n",
    "        - list: Feature names after transformation.\n",
    "        \"\"\"\n",
    "        return self.columns"
   ]
  },
  {
   "cell_type": "code",
   "execution_count": 15,
   "id": "65b3a95d",
   "metadata": {
    "execution": {
     "iopub.execute_input": "2024-12-15T22:50:07.049047Z",
     "iopub.status.busy": "2024-12-15T22:50:07.048808Z",
     "iopub.status.idle": "2024-12-15T22:50:07.055357Z",
     "shell.execute_reply": "2024-12-15T22:50:07.054576Z"
    },
    "papermill": {
     "duration": 0.015542,
     "end_time": "2024-12-15T22:50:07.056932",
     "exception": false,
     "start_time": "2024-12-15T22:50:07.041390",
     "status": "completed"
    },
    "tags": []
   },
   "outputs": [],
   "source": [
    "class AgeToRangeTransformer(BaseEstimator, TransformerMixin):\n",
    "    \"\"\"\n",
    "    A transformer that converts one or more age columns into categorical age ranges.\n",
    "    \n",
    "    Parameters:\n",
    "    columns (list of str): The names of the columns containing age values to transform.\n",
    "    \"\"\"\n",
    "    \n",
    "    def __init__(self, columns):\n",
    "        self.columns = columns\n",
    "\n",
    "    def fit(self, X, y=None):\n",
    "        \"\"\"\n",
    "        Fit the transformer to the data (no fitting needed for this transformation).\n",
    "        \n",
    "        Parameters:\n",
    "        X (pd.DataFrame): The input data.\n",
    "        y (optional): The target variable (not used).\n",
    "        \n",
    "        Returns:\n",
    "        self: The fitted transformer.\n",
    "        \"\"\"\n",
    "        return self\n",
    "\n",
    "    def transform(self, X):\n",
    "        \"\"\"\n",
    "        Transform the input data by converting age columns into categorical age ranges.\n",
    "        \n",
    "        Parameters:\n",
    "        X (pd.DataFrame): The input data containing the age columns.\n",
    "        \n",
    "        Returns:\n",
    "        pd.DataFrame: The transformed data with the age ranges as new columns.\n",
    "        \"\"\"\n",
    "        X = X.copy()  # Avoid modifying the original dataframe\n",
    "\n",
    "        for column in self.columns:\n",
    "            # Ensure the provided column exists in the data\n",
    "            if column not in X.columns:\n",
    "                raise ValueError(f\"Column '{column}' not found in the input data.\")\n",
    "\n",
    "            # Handle missing values (adjust as needed)\n",
    "            X[column].fillna(X[column].median(), inplace=True)\n",
    "            \n",
    "            # Create the 'age_range' column based on the age column\n",
    "            age_range = pd.cut(X[column], bins=[0, 20, 30, 40, 50, 60, 70, float('inf')],\n",
    "                               labels=['Below 20', '20-30', '30-40', '40-50', '50-60', '60-70', '70+'])\n",
    "            \n",
    "            X[f'{column}_range'] = age_range  # Add the new 'age_range' column\n",
    "            X = X.drop(columns=[column])  # Drop the original age column\n",
    "        \n",
    "        return X\n",
    "\n",
    "    def get_feature_names_out(self, input_features=None):\n",
    "        \"\"\"\n",
    "        Return the feature names after transformation.\n",
    "        \n",
    "        Parameters:\n",
    "        input_features (optional): The original feature names (not used).\n",
    "        \n",
    "        Returns:\n",
    "        list: A list containing the transformed feature names.\n",
    "        \"\"\"\n",
    "        return [f'{col}_range' for col in self.columns]"
   ]
  },
  {
   "cell_type": "code",
   "execution_count": 16,
   "id": "73fff181",
   "metadata": {
    "execution": {
     "iopub.execute_input": "2024-12-15T22:50:07.070687Z",
     "iopub.status.busy": "2024-12-15T22:50:07.070471Z",
     "iopub.status.idle": "2024-12-15T22:50:07.074697Z",
     "shell.execute_reply": "2024-12-15T22:50:07.074068Z"
    },
    "papermill": {
     "duration": 0.012869,
     "end_time": "2024-12-15T22:50:07.076189",
     "exception": false,
     "start_time": "2024-12-15T22:50:07.063320",
     "status": "completed"
    },
    "tags": []
   },
   "outputs": [],
   "source": [
    "# Define the categorical imputation pipeline\n",
    "categorical_impute_pipeline = Pipeline(steps=[\n",
    "    ('lab_encode', LabelEncoderTransformer()),  # Encode categorical data\n",
    "    ('knn_impute', KNNImputer(n_neighbors=5))  # Apply KNN Imputation\n",
    "])\n",
    "\n",
    "ordinal_impute_pipeline = Pipeline(steps=[\n",
    "    ('ord_encode', OrdinalEncoder(categories=[['Not Tested','TBD','Other','Poor','Favorable', 'Intermediate', 'Normal']],\n",
    "                                  handle_unknown='use_encoded_value', unknown_value=-1)),  # Handle NaN\n",
    "    ('knn_impute_ord', KNNImputer(n_neighbors=5))  # Apply KNN Imputation\n",
    "])\n"
   ]
  },
  {
   "cell_type": "code",
   "execution_count": 17,
   "id": "aa98f410",
   "metadata": {
    "execution": {
     "iopub.execute_input": "2024-12-15T22:50:07.089799Z",
     "iopub.status.busy": "2024-12-15T22:50:07.089581Z",
     "iopub.status.idle": "2024-12-15T22:50:07.097785Z",
     "shell.execute_reply": "2024-12-15T22:50:07.096989Z"
    },
    "papermill": {
     "duration": 0.017066,
     "end_time": "2024-12-15T22:50:07.099561",
     "exception": false,
     "start_time": "2024-12-15T22:50:07.082495",
     "status": "completed"
    },
    "tags": []
   },
   "outputs": [
    {
     "data": {
      "text/plain": [
       "cyto_score\n",
       "Poor            8802\n",
       "Intermediate    6376\n",
       "Favorable       3011\n",
       "TBD             1341\n",
       "Normal           643\n",
       "Other            504\n",
       "Not tested        55\n",
       "Name: count, dtype: int64"
      ]
     },
     "execution_count": 17,
     "metadata": {},
     "output_type": "execute_result"
    }
   ],
   "source": [
    "df_train['cyto_score'].value_counts()"
   ]
  },
  {
   "cell_type": "code",
   "execution_count": 18,
   "id": "f7364a3e",
   "metadata": {
    "execution": {
     "iopub.execute_input": "2024-12-15T22:50:07.114284Z",
     "iopub.status.busy": "2024-12-15T22:50:07.114056Z",
     "iopub.status.idle": "2024-12-15T22:50:07.119171Z",
     "shell.execute_reply": "2024-12-15T22:50:07.118449Z"
    },
    "papermill": {
     "duration": 0.013898,
     "end_time": "2024-12-15T22:50:07.120713",
     "exception": false,
     "start_time": "2024-12-15T22:50:07.106815",
     "status": "completed"
    },
    "tags": []
   },
   "outputs": [],
   "source": [
    "\n",
    "age_columns = ['donor_age', 'age_at_hct']\n",
    "\n",
    "outlier_handling_columns = [ 'comorbidity_score', 'karnofsky_score' ]\n",
    "\n",
    "remaining_numerical_columns = [col for col in numerical_columns if col not in outlier_handling_columns and col not in age_columns]\n",
    "\n",
    "\n",
    "# Create a pipeline for age transformation followed by one-hot encoding\n",
    "age_pipeline = Pipeline(steps=[\n",
    "    ('age_transformer',  AgeToRangeTransformer(columns = age_columns)),  # Apply age transformation\n",
    "    ('onehot', OneHotEncoder(handle_unknown='ignore', drop='first'))  # OneHotEncode the age_range column\n",
    "])\n",
    "\n",
    "# Define the numerical pipeline\n",
    "outlier_pipeline = Pipeline(steps=[\n",
    "    ('outlier_handling', HandleOutliers(p_min=0.0025, p_max=0.9975)),  # Apply outlier handling\n",
    "    ('scaling', StandardScaler())  # Apply standard scaling\n",
    "])\n",
    "\n",
    "# Define the numerical pipeline\n",
    "numerical_pipeline = Pipeline(steps=[\n",
    "    ('num_processing', SimpleImputer(strategy='median')),  # Apply numerical imputation and outlier handling\n",
    "    ('scaling', StandardScaler())  # Apply standard scaling\n",
    "])\n",
    "\n",
    "\n",
    "\n"
   ]
  },
  {
   "cell_type": "code",
   "execution_count": 19,
   "id": "10d85b16",
   "metadata": {
    "execution": {
     "iopub.execute_input": "2024-12-15T22:50:07.134816Z",
     "iopub.status.busy": "2024-12-15T22:50:07.134603Z",
     "iopub.status.idle": "2024-12-15T22:50:07.139070Z",
     "shell.execute_reply": "2024-12-15T22:50:07.138293Z"
    },
    "papermill": {
     "duration": 0.013144,
     "end_time": "2024-12-15T22:50:07.140631",
     "exception": false,
     "start_time": "2024-12-15T22:50:07.127487",
     "status": "completed"
    },
    "tags": []
   },
   "outputs": [],
   "source": [
    "\n",
    "# ColumnTransformer with preprocessor pipeline\n",
    "preprocessor = ColumnTransformer(\n",
    "    transformers=[\n",
    "        ('drop', DropColumnsTransformer(drop_columns), drop_columns),  # OneHotEncode other categorical columns\n",
    "        ('age_transformation',age_pipeline,  age_columns),\n",
    "        (\"cat_impute_transformation\", categorical_impute_pipeline, remaining_cat_columns),  # Impute categorical columns \n",
    "        (\"cyto_score_transformation\",  ordinal_impute_pipeline,ordinal_categorical_columns),\n",
    "        (\"outlier_transformation\", outlier_pipeline,outlier_handling_columns ),\n",
    "        (\"num_transformation\", numerical_pipeline, remaining_numerical_columns),  # Apply numerical transformations\n",
    "    ],\n",
    "    remainder='passthrough'  # Pass through any columns not explicitly transformed\n",
    ")\n",
    " \n",
    "# Create a pipeline with PCA or any other estimator after preprocessing\n",
    "pipeline = Pipeline(steps=[\n",
    "    ('preprocessor', preprocessor)  # Apply preprocessing for both categorical and numerical columns\n",
    "])\n"
   ]
  },
  {
   "cell_type": "code",
   "execution_count": 20,
   "id": "630830f3",
   "metadata": {
    "execution": {
     "iopub.execute_input": "2024-12-15T22:50:07.154825Z",
     "iopub.status.busy": "2024-12-15T22:50:07.154586Z",
     "iopub.status.idle": "2024-12-15T22:50:07.623308Z",
     "shell.execute_reply": "2024-12-15T22:50:07.622447Z"
    },
    "papermill": {
     "duration": 0.478608,
     "end_time": "2024-12-15T22:50:07.625992",
     "exception": false,
     "start_time": "2024-12-15T22:50:07.147384",
     "status": "completed"
    },
    "tags": []
   },
   "outputs": [
    {
     "data": {
      "text/html": [
       "<style>#sk-container-id-1 {color: black;background-color: white;}#sk-container-id-1 pre{padding: 0;}#sk-container-id-1 div.sk-toggleable {background-color: white;}#sk-container-id-1 label.sk-toggleable__label {cursor: pointer;display: block;width: 100%;margin-bottom: 0;padding: 0.3em;box-sizing: border-box;text-align: center;}#sk-container-id-1 label.sk-toggleable__label-arrow:before {content: \"▸\";float: left;margin-right: 0.25em;color: #696969;}#sk-container-id-1 label.sk-toggleable__label-arrow:hover:before {color: black;}#sk-container-id-1 div.sk-estimator:hover label.sk-toggleable__label-arrow:before {color: black;}#sk-container-id-1 div.sk-toggleable__content {max-height: 0;max-width: 0;overflow: hidden;text-align: left;background-color: #f0f8ff;}#sk-container-id-1 div.sk-toggleable__content pre {margin: 0.2em;color: black;border-radius: 0.25em;background-color: #f0f8ff;}#sk-container-id-1 input.sk-toggleable__control:checked~div.sk-toggleable__content {max-height: 200px;max-width: 100%;overflow: auto;}#sk-container-id-1 input.sk-toggleable__control:checked~label.sk-toggleable__label-arrow:before {content: \"▾\";}#sk-container-id-1 div.sk-estimator input.sk-toggleable__control:checked~label.sk-toggleable__label {background-color: #d4ebff;}#sk-container-id-1 div.sk-label input.sk-toggleable__control:checked~label.sk-toggleable__label {background-color: #d4ebff;}#sk-container-id-1 input.sk-hidden--visually {border: 0;clip: rect(1px 1px 1px 1px);clip: rect(1px, 1px, 1px, 1px);height: 1px;margin: -1px;overflow: hidden;padding: 0;position: absolute;width: 1px;}#sk-container-id-1 div.sk-estimator {font-family: monospace;background-color: #f0f8ff;border: 1px dotted black;border-radius: 0.25em;box-sizing: border-box;margin-bottom: 0.5em;}#sk-container-id-1 div.sk-estimator:hover {background-color: #d4ebff;}#sk-container-id-1 div.sk-parallel-item::after {content: \"\";width: 100%;border-bottom: 1px solid gray;flex-grow: 1;}#sk-container-id-1 div.sk-label:hover label.sk-toggleable__label {background-color: #d4ebff;}#sk-container-id-1 div.sk-serial::before {content: \"\";position: absolute;border-left: 1px solid gray;box-sizing: border-box;top: 0;bottom: 0;left: 50%;z-index: 0;}#sk-container-id-1 div.sk-serial {display: flex;flex-direction: column;align-items: center;background-color: white;padding-right: 0.2em;padding-left: 0.2em;position: relative;}#sk-container-id-1 div.sk-item {position: relative;z-index: 1;}#sk-container-id-1 div.sk-parallel {display: flex;align-items: stretch;justify-content: center;background-color: white;position: relative;}#sk-container-id-1 div.sk-item::before, #sk-container-id-1 div.sk-parallel-item::before {content: \"\";position: absolute;border-left: 1px solid gray;box-sizing: border-box;top: 0;bottom: 0;left: 50%;z-index: -1;}#sk-container-id-1 div.sk-parallel-item {display: flex;flex-direction: column;z-index: 1;position: relative;background-color: white;}#sk-container-id-1 div.sk-parallel-item:first-child::after {align-self: flex-end;width: 50%;}#sk-container-id-1 div.sk-parallel-item:last-child::after {align-self: flex-start;width: 50%;}#sk-container-id-1 div.sk-parallel-item:only-child::after {width: 0;}#sk-container-id-1 div.sk-dashed-wrapped {border: 1px dashed gray;margin: 0 0.4em 0.5em 0.4em;box-sizing: border-box;padding-bottom: 0.4em;background-color: white;}#sk-container-id-1 div.sk-label label {font-family: monospace;font-weight: bold;display: inline-block;line-height: 1.2em;}#sk-container-id-1 div.sk-label-container {text-align: center;}#sk-container-id-1 div.sk-container {/* jupyter's `normalize.less` sets `[hidden] { display: none; }` but bootstrap.min.css set `[hidden] { display: none !important; }` so we also need the `!important` here to be able to override the default hidden behavior on the sphinx rendered scikit-learn.org. See: https://github.com/scikit-learn/scikit-learn/issues/21755 */display: inline-block !important;position: relative;}#sk-container-id-1 div.sk-text-repr-fallback {display: none;}</style><div id=\"sk-container-id-1\" class=\"sk-top-container\"><div class=\"sk-text-repr-fallback\"><pre>Pipeline(steps=[(&#x27;preprocessor&#x27;,\n",
       "                 ColumnTransformer(remainder=&#x27;passthrough&#x27;,\n",
       "                                   transformers=[(&#x27;drop&#x27;,\n",
       "                                                  DropColumnsTransformer(columns_to_drop=[&#x27;tce_imm_match&#x27;,\n",
       "                                                                                          &#x27;cyto_score_detail&#x27;,\n",
       "                                                                                          &#x27;mrd_hct&#x27;,\n",
       "                                                                                          &#x27;tce_match&#x27;,\n",
       "                                                                                          &#x27;tce_div_match&#x27;]),\n",
       "                                                  [&#x27;tce_imm_match&#x27;,\n",
       "                                                   &#x27;cyto_score_detail&#x27;,\n",
       "                                                   &#x27;mrd_hct&#x27;, &#x27;tce_match&#x27;,\n",
       "                                                   &#x27;tce_div_match&#x27;]),\n",
       "                                                 (&#x27;age_transformation&#x27;,\n",
       "                                                  Pipeline(steps=[(&#x27;age_transformer&#x27;,\n",
       "                                                                   AgeT...\n",
       "                                                                  (&#x27;scaling&#x27;,\n",
       "                                                                   StandardScaler())]),\n",
       "                                                  [&#x27;hla_match_c_high&#x27;,\n",
       "                                                   &#x27;hla_high_res_8&#x27;,\n",
       "                                                   &#x27;hla_low_res_6&#x27;,\n",
       "                                                   &#x27;hla_high_res_6&#x27;,\n",
       "                                                   &#x27;hla_high_res_10&#x27;,\n",
       "                                                   &#x27;hla_match_dqb1_high&#x27;,\n",
       "                                                   &#x27;hla_nmdp_6&#x27;,\n",
       "                                                   &#x27;hla_match_c_low&#x27;,\n",
       "                                                   &#x27;hla_match_drb1_low&#x27;,\n",
       "                                                   &#x27;hla_match_dqb1_low&#x27;,\n",
       "                                                   &#x27;year_hct&#x27;,\n",
       "                                                   &#x27;hla_match_a_high&#x27;,\n",
       "                                                   &#x27;hla_match_b_low&#x27;,\n",
       "                                                   &#x27;hla_match_a_low&#x27;,\n",
       "                                                   &#x27;hla_match_b_high&#x27;,\n",
       "                                                   &#x27;hla_low_res_8&#x27;,\n",
       "                                                   &#x27;hla_match_drb1_high&#x27;,\n",
       "                                                   &#x27;hla_low_res_10&#x27;])]))])</pre><b>In a Jupyter environment, please rerun this cell to show the HTML representation or trust the notebook. <br />On GitHub, the HTML representation is unable to render, please try loading this page with nbviewer.org.</b></div><div class=\"sk-container\" hidden><div class=\"sk-item sk-dashed-wrapped\"><div class=\"sk-label-container\"><div class=\"sk-label sk-toggleable\"><input class=\"sk-toggleable__control sk-hidden--visually\" id=\"sk-estimator-id-1\" type=\"checkbox\" ><label for=\"sk-estimator-id-1\" class=\"sk-toggleable__label sk-toggleable__label-arrow\">Pipeline</label><div class=\"sk-toggleable__content\"><pre>Pipeline(steps=[(&#x27;preprocessor&#x27;,\n",
       "                 ColumnTransformer(remainder=&#x27;passthrough&#x27;,\n",
       "                                   transformers=[(&#x27;drop&#x27;,\n",
       "                                                  DropColumnsTransformer(columns_to_drop=[&#x27;tce_imm_match&#x27;,\n",
       "                                                                                          &#x27;cyto_score_detail&#x27;,\n",
       "                                                                                          &#x27;mrd_hct&#x27;,\n",
       "                                                                                          &#x27;tce_match&#x27;,\n",
       "                                                                                          &#x27;tce_div_match&#x27;]),\n",
       "                                                  [&#x27;tce_imm_match&#x27;,\n",
       "                                                   &#x27;cyto_score_detail&#x27;,\n",
       "                                                   &#x27;mrd_hct&#x27;, &#x27;tce_match&#x27;,\n",
       "                                                   &#x27;tce_div_match&#x27;]),\n",
       "                                                 (&#x27;age_transformation&#x27;,\n",
       "                                                  Pipeline(steps=[(&#x27;age_transformer&#x27;,\n",
       "                                                                   AgeT...\n",
       "                                                                  (&#x27;scaling&#x27;,\n",
       "                                                                   StandardScaler())]),\n",
       "                                                  [&#x27;hla_match_c_high&#x27;,\n",
       "                                                   &#x27;hla_high_res_8&#x27;,\n",
       "                                                   &#x27;hla_low_res_6&#x27;,\n",
       "                                                   &#x27;hla_high_res_6&#x27;,\n",
       "                                                   &#x27;hla_high_res_10&#x27;,\n",
       "                                                   &#x27;hla_match_dqb1_high&#x27;,\n",
       "                                                   &#x27;hla_nmdp_6&#x27;,\n",
       "                                                   &#x27;hla_match_c_low&#x27;,\n",
       "                                                   &#x27;hla_match_drb1_low&#x27;,\n",
       "                                                   &#x27;hla_match_dqb1_low&#x27;,\n",
       "                                                   &#x27;year_hct&#x27;,\n",
       "                                                   &#x27;hla_match_a_high&#x27;,\n",
       "                                                   &#x27;hla_match_b_low&#x27;,\n",
       "                                                   &#x27;hla_match_a_low&#x27;,\n",
       "                                                   &#x27;hla_match_b_high&#x27;,\n",
       "                                                   &#x27;hla_low_res_8&#x27;,\n",
       "                                                   &#x27;hla_match_drb1_high&#x27;,\n",
       "                                                   &#x27;hla_low_res_10&#x27;])]))])</pre></div></div></div><div class=\"sk-serial\"><div class=\"sk-item sk-dashed-wrapped\"><div class=\"sk-label-container\"><div class=\"sk-label sk-toggleable\"><input class=\"sk-toggleable__control sk-hidden--visually\" id=\"sk-estimator-id-2\" type=\"checkbox\" ><label for=\"sk-estimator-id-2\" class=\"sk-toggleable__label sk-toggleable__label-arrow\">preprocessor: ColumnTransformer</label><div class=\"sk-toggleable__content\"><pre>ColumnTransformer(remainder=&#x27;passthrough&#x27;,\n",
       "                  transformers=[(&#x27;drop&#x27;,\n",
       "                                 DropColumnsTransformer(columns_to_drop=[&#x27;tce_imm_match&#x27;,\n",
       "                                                                         &#x27;cyto_score_detail&#x27;,\n",
       "                                                                         &#x27;mrd_hct&#x27;,\n",
       "                                                                         &#x27;tce_match&#x27;,\n",
       "                                                                         &#x27;tce_div_match&#x27;]),\n",
       "                                 [&#x27;tce_imm_match&#x27;, &#x27;cyto_score_detail&#x27;,\n",
       "                                  &#x27;mrd_hct&#x27;, &#x27;tce_match&#x27;, &#x27;tce_div_match&#x27;]),\n",
       "                                (&#x27;age_transformation&#x27;,\n",
       "                                 Pipeline(steps=[(&#x27;age_transformer&#x27;,\n",
       "                                                  AgeToRangeTransformer(columns=[&#x27;dono...\n",
       "                                                 (&#x27;scaling&#x27;,\n",
       "                                                  StandardScaler())]),\n",
       "                                 [&#x27;hla_match_c_high&#x27;, &#x27;hla_high_res_8&#x27;,\n",
       "                                  &#x27;hla_low_res_6&#x27;, &#x27;hla_high_res_6&#x27;,\n",
       "                                  &#x27;hla_high_res_10&#x27;, &#x27;hla_match_dqb1_high&#x27;,\n",
       "                                  &#x27;hla_nmdp_6&#x27;, &#x27;hla_match_c_low&#x27;,\n",
       "                                  &#x27;hla_match_drb1_low&#x27;, &#x27;hla_match_dqb1_low&#x27;,\n",
       "                                  &#x27;year_hct&#x27;, &#x27;hla_match_a_high&#x27;,\n",
       "                                  &#x27;hla_match_b_low&#x27;, &#x27;hla_match_a_low&#x27;,\n",
       "                                  &#x27;hla_match_b_high&#x27;, &#x27;hla_low_res_8&#x27;,\n",
       "                                  &#x27;hla_match_drb1_high&#x27;, &#x27;hla_low_res_10&#x27;])])</pre></div></div></div><div class=\"sk-parallel\"><div class=\"sk-parallel-item\"><div class=\"sk-item\"><div class=\"sk-label-container\"><div class=\"sk-label sk-toggleable\"><input class=\"sk-toggleable__control sk-hidden--visually\" id=\"sk-estimator-id-3\" type=\"checkbox\" ><label for=\"sk-estimator-id-3\" class=\"sk-toggleable__label sk-toggleable__label-arrow\">drop</label><div class=\"sk-toggleable__content\"><pre>[&#x27;tce_imm_match&#x27;, &#x27;cyto_score_detail&#x27;, &#x27;mrd_hct&#x27;, &#x27;tce_match&#x27;, &#x27;tce_div_match&#x27;]</pre></div></div></div><div class=\"sk-serial\"><div class=\"sk-item\"><div class=\"sk-estimator sk-toggleable\"><input class=\"sk-toggleable__control sk-hidden--visually\" id=\"sk-estimator-id-4\" type=\"checkbox\" ><label for=\"sk-estimator-id-4\" class=\"sk-toggleable__label sk-toggleable__label-arrow\">DropColumnsTransformer</label><div class=\"sk-toggleable__content\"><pre>DropColumnsTransformer(columns_to_drop=[&#x27;tce_imm_match&#x27;, &#x27;cyto_score_detail&#x27;,\n",
       "                                        &#x27;mrd_hct&#x27;, &#x27;tce_match&#x27;,\n",
       "                                        &#x27;tce_div_match&#x27;])</pre></div></div></div></div></div></div><div class=\"sk-parallel-item\"><div class=\"sk-item\"><div class=\"sk-label-container\"><div class=\"sk-label sk-toggleable\"><input class=\"sk-toggleable__control sk-hidden--visually\" id=\"sk-estimator-id-5\" type=\"checkbox\" ><label for=\"sk-estimator-id-5\" class=\"sk-toggleable__label sk-toggleable__label-arrow\">age_transformation</label><div class=\"sk-toggleable__content\"><pre>[&#x27;donor_age&#x27;, &#x27;age_at_hct&#x27;]</pre></div></div></div><div class=\"sk-serial\"><div class=\"sk-item\"><div class=\"sk-serial\"><div class=\"sk-item\"><div class=\"sk-estimator sk-toggleable\"><input class=\"sk-toggleable__control sk-hidden--visually\" id=\"sk-estimator-id-6\" type=\"checkbox\" ><label for=\"sk-estimator-id-6\" class=\"sk-toggleable__label sk-toggleable__label-arrow\">AgeToRangeTransformer</label><div class=\"sk-toggleable__content\"><pre>AgeToRangeTransformer(columns=[&#x27;donor_age&#x27;, &#x27;age_at_hct&#x27;])</pre></div></div></div><div class=\"sk-item\"><div class=\"sk-estimator sk-toggleable\"><input class=\"sk-toggleable__control sk-hidden--visually\" id=\"sk-estimator-id-7\" type=\"checkbox\" ><label for=\"sk-estimator-id-7\" class=\"sk-toggleable__label sk-toggleable__label-arrow\">OneHotEncoder</label><div class=\"sk-toggleable__content\"><pre>OneHotEncoder(drop=&#x27;first&#x27;, handle_unknown=&#x27;ignore&#x27;)</pre></div></div></div></div></div></div></div></div><div class=\"sk-parallel-item\"><div class=\"sk-item\"><div class=\"sk-label-container\"><div class=\"sk-label sk-toggleable\"><input class=\"sk-toggleable__control sk-hidden--visually\" id=\"sk-estimator-id-8\" type=\"checkbox\" ><label for=\"sk-estimator-id-8\" class=\"sk-toggleable__label sk-toggleable__label-arrow\">cat_impute_transformation</label><div class=\"sk-toggleable__content\"><pre>[&#x27;dri_score&#x27;, &#x27;psych_disturb&#x27;, &#x27;diabetes&#x27;, &#x27;tbi_status&#x27;, &#x27;arrhythmia&#x27;, &#x27;graft_type&#x27;, &#x27;vent_hist&#x27;, &#x27;renal_issue&#x27;, &#x27;pulm_severe&#x27;, &#x27;prim_disease_hct&#x27;, &#x27;cmv_status&#x27;, &#x27;rituximab&#x27;, &#x27;prod_type&#x27;, &#x27;conditioning_intensity&#x27;, &#x27;ethnicity&#x27;, &#x27;obesity&#x27;, &#x27;in_vivo_tcd&#x27;, &#x27;hepatic_severe&#x27;, &#x27;prior_tumor&#x27;, &#x27;peptic_ulcer&#x27;, &#x27;gvhd_proph&#x27;, &#x27;rheum_issue&#x27;, &#x27;sex_match&#x27;, &#x27;race_group&#x27;, &#x27;hepatic_mild&#x27;, &#x27;donor_related&#x27;, &#x27;melphalan_dose&#x27;, &#x27;cardiac&#x27;, &#x27;pulm_moderate&#x27;]</pre></div></div></div><div class=\"sk-serial\"><div class=\"sk-item\"><div class=\"sk-serial\"><div class=\"sk-item\"><div class=\"sk-estimator sk-toggleable\"><input class=\"sk-toggleable__control sk-hidden--visually\" id=\"sk-estimator-id-9\" type=\"checkbox\" ><label for=\"sk-estimator-id-9\" class=\"sk-toggleable__label sk-toggleable__label-arrow\">LabelEncoderTransformer</label><div class=\"sk-toggleable__content\"><pre>LabelEncoderTransformer()</pre></div></div></div><div class=\"sk-item\"><div class=\"sk-estimator sk-toggleable\"><input class=\"sk-toggleable__control sk-hidden--visually\" id=\"sk-estimator-id-10\" type=\"checkbox\" ><label for=\"sk-estimator-id-10\" class=\"sk-toggleable__label sk-toggleable__label-arrow\">KNNImputer</label><div class=\"sk-toggleable__content\"><pre>KNNImputer()</pre></div></div></div></div></div></div></div></div><div class=\"sk-parallel-item\"><div class=\"sk-item\"><div class=\"sk-label-container\"><div class=\"sk-label sk-toggleable\"><input class=\"sk-toggleable__control sk-hidden--visually\" id=\"sk-estimator-id-11\" type=\"checkbox\" ><label for=\"sk-estimator-id-11\" class=\"sk-toggleable__label sk-toggleable__label-arrow\">cyto_score_transformation</label><div class=\"sk-toggleable__content\"><pre>[&#x27;cyto_score&#x27;]</pre></div></div></div><div class=\"sk-serial\"><div class=\"sk-item\"><div class=\"sk-serial\"><div class=\"sk-item\"><div class=\"sk-estimator sk-toggleable\"><input class=\"sk-toggleable__control sk-hidden--visually\" id=\"sk-estimator-id-12\" type=\"checkbox\" ><label for=\"sk-estimator-id-12\" class=\"sk-toggleable__label sk-toggleable__label-arrow\">OrdinalEncoder</label><div class=\"sk-toggleable__content\"><pre>OrdinalEncoder(categories=[[&#x27;Not Tested&#x27;, &#x27;TBD&#x27;, &#x27;Other&#x27;, &#x27;Poor&#x27;, &#x27;Favorable&#x27;,\n",
       "                            &#x27;Intermediate&#x27;, &#x27;Normal&#x27;]],\n",
       "               handle_unknown=&#x27;use_encoded_value&#x27;, unknown_value=-1)</pre></div></div></div><div class=\"sk-item\"><div class=\"sk-estimator sk-toggleable\"><input class=\"sk-toggleable__control sk-hidden--visually\" id=\"sk-estimator-id-13\" type=\"checkbox\" ><label for=\"sk-estimator-id-13\" class=\"sk-toggleable__label sk-toggleable__label-arrow\">KNNImputer</label><div class=\"sk-toggleable__content\"><pre>KNNImputer()</pre></div></div></div></div></div></div></div></div><div class=\"sk-parallel-item\"><div class=\"sk-item\"><div class=\"sk-label-container\"><div class=\"sk-label sk-toggleable\"><input class=\"sk-toggleable__control sk-hidden--visually\" id=\"sk-estimator-id-14\" type=\"checkbox\" ><label for=\"sk-estimator-id-14\" class=\"sk-toggleable__label sk-toggleable__label-arrow\">outlier_transformation</label><div class=\"sk-toggleable__content\"><pre>[&#x27;comorbidity_score&#x27;, &#x27;karnofsky_score&#x27;]</pre></div></div></div><div class=\"sk-serial\"><div class=\"sk-item\"><div class=\"sk-serial\"><div class=\"sk-item\"><div class=\"sk-estimator sk-toggleable\"><input class=\"sk-toggleable__control sk-hidden--visually\" id=\"sk-estimator-id-15\" type=\"checkbox\" ><label for=\"sk-estimator-id-15\" class=\"sk-toggleable__label sk-toggleable__label-arrow\">HandleOutliers</label><div class=\"sk-toggleable__content\"><pre>HandleOutliers(p_max=0.9975, p_min=0.0025)</pre></div></div></div><div class=\"sk-item\"><div class=\"sk-estimator sk-toggleable\"><input class=\"sk-toggleable__control sk-hidden--visually\" id=\"sk-estimator-id-16\" type=\"checkbox\" ><label for=\"sk-estimator-id-16\" class=\"sk-toggleable__label sk-toggleable__label-arrow\">StandardScaler</label><div class=\"sk-toggleable__content\"><pre>StandardScaler()</pre></div></div></div></div></div></div></div></div><div class=\"sk-parallel-item\"><div class=\"sk-item\"><div class=\"sk-label-container\"><div class=\"sk-label sk-toggleable\"><input class=\"sk-toggleable__control sk-hidden--visually\" id=\"sk-estimator-id-17\" type=\"checkbox\" ><label for=\"sk-estimator-id-17\" class=\"sk-toggleable__label sk-toggleable__label-arrow\">num_transformation</label><div class=\"sk-toggleable__content\"><pre>[&#x27;hla_match_c_high&#x27;, &#x27;hla_high_res_8&#x27;, &#x27;hla_low_res_6&#x27;, &#x27;hla_high_res_6&#x27;, &#x27;hla_high_res_10&#x27;, &#x27;hla_match_dqb1_high&#x27;, &#x27;hla_nmdp_6&#x27;, &#x27;hla_match_c_low&#x27;, &#x27;hla_match_drb1_low&#x27;, &#x27;hla_match_dqb1_low&#x27;, &#x27;year_hct&#x27;, &#x27;hla_match_a_high&#x27;, &#x27;hla_match_b_low&#x27;, &#x27;hla_match_a_low&#x27;, &#x27;hla_match_b_high&#x27;, &#x27;hla_low_res_8&#x27;, &#x27;hla_match_drb1_high&#x27;, &#x27;hla_low_res_10&#x27;]</pre></div></div></div><div class=\"sk-serial\"><div class=\"sk-item\"><div class=\"sk-serial\"><div class=\"sk-item\"><div class=\"sk-estimator sk-toggleable\"><input class=\"sk-toggleable__control sk-hidden--visually\" id=\"sk-estimator-id-18\" type=\"checkbox\" ><label for=\"sk-estimator-id-18\" class=\"sk-toggleable__label sk-toggleable__label-arrow\">SimpleImputer</label><div class=\"sk-toggleable__content\"><pre>SimpleImputer(strategy=&#x27;median&#x27;)</pre></div></div></div><div class=\"sk-item\"><div class=\"sk-estimator sk-toggleable\"><input class=\"sk-toggleable__control sk-hidden--visually\" id=\"sk-estimator-id-19\" type=\"checkbox\" ><label for=\"sk-estimator-id-19\" class=\"sk-toggleable__label sk-toggleable__label-arrow\">StandardScaler</label><div class=\"sk-toggleable__content\"><pre>StandardScaler()</pre></div></div></div></div></div></div></div></div><div class=\"sk-parallel-item\"><div class=\"sk-item\"><div class=\"sk-label-container\"><div class=\"sk-label sk-toggleable\"><input class=\"sk-toggleable__control sk-hidden--visually\" id=\"sk-estimator-id-20\" type=\"checkbox\" ><label for=\"sk-estimator-id-20\" class=\"sk-toggleable__label sk-toggleable__label-arrow\">remainder</label><div class=\"sk-toggleable__content\"><pre>[]</pre></div></div></div><div class=\"sk-serial\"><div class=\"sk-item\"><div class=\"sk-estimator sk-toggleable\"><input class=\"sk-toggleable__control sk-hidden--visually\" id=\"sk-estimator-id-21\" type=\"checkbox\" ><label for=\"sk-estimator-id-21\" class=\"sk-toggleable__label sk-toggleable__label-arrow\">passthrough</label><div class=\"sk-toggleable__content\"><pre>passthrough</pre></div></div></div></div></div></div></div></div></div></div></div></div>"
      ],
      "text/plain": [
       "Pipeline(steps=[('preprocessor',\n",
       "                 ColumnTransformer(remainder='passthrough',\n",
       "                                   transformers=[('drop',\n",
       "                                                  DropColumnsTransformer(columns_to_drop=['tce_imm_match',\n",
       "                                                                                          'cyto_score_detail',\n",
       "                                                                                          'mrd_hct',\n",
       "                                                                                          'tce_match',\n",
       "                                                                                          'tce_div_match']),\n",
       "                                                  ['tce_imm_match',\n",
       "                                                   'cyto_score_detail',\n",
       "                                                   'mrd_hct', 'tce_match',\n",
       "                                                   'tce_div_match']),\n",
       "                                                 ('age_transformation',\n",
       "                                                  Pipeline(steps=[('age_transformer',\n",
       "                                                                   AgeT...\n",
       "                                                                  ('scaling',\n",
       "                                                                   StandardScaler())]),\n",
       "                                                  ['hla_match_c_high',\n",
       "                                                   'hla_high_res_8',\n",
       "                                                   'hla_low_res_6',\n",
       "                                                   'hla_high_res_6',\n",
       "                                                   'hla_high_res_10',\n",
       "                                                   'hla_match_dqb1_high',\n",
       "                                                   'hla_nmdp_6',\n",
       "                                                   'hla_match_c_low',\n",
       "                                                   'hla_match_drb1_low',\n",
       "                                                   'hla_match_dqb1_low',\n",
       "                                                   'year_hct',\n",
       "                                                   'hla_match_a_high',\n",
       "                                                   'hla_match_b_low',\n",
       "                                                   'hla_match_a_low',\n",
       "                                                   'hla_match_b_high',\n",
       "                                                   'hla_low_res_8',\n",
       "                                                   'hla_match_drb1_high',\n",
       "                                                   'hla_low_res_10'])]))])"
      ]
     },
     "execution_count": 20,
     "metadata": {},
     "output_type": "execute_result"
    }
   ],
   "source": [
    "pipeline.fit(X)"
   ]
  },
  {
   "cell_type": "code",
   "execution_count": 21,
   "id": "c3c0e99d",
   "metadata": {
    "execution": {
     "iopub.execute_input": "2024-12-15T22:50:07.647253Z",
     "iopub.status.busy": "2024-12-15T22:50:07.646885Z",
     "iopub.status.idle": "2024-12-15T22:50:07.876384Z",
     "shell.execute_reply": "2024-12-15T22:50:07.875426Z"
    },
    "papermill": {
     "duration": 0.240357,
     "end_time": "2024-12-15T22:50:07.878901",
     "exception": false,
     "start_time": "2024-12-15T22:50:07.638544",
     "status": "completed"
    },
    "tags": []
   },
   "outputs": [],
   "source": [
    "transformed_X = pipeline.transform(X)"
   ]
  },
  {
   "cell_type": "code",
   "execution_count": 22,
   "id": "ceadbf85",
   "metadata": {
    "execution": {
     "iopub.execute_input": "2024-12-15T22:50:07.908302Z",
     "iopub.status.busy": "2024-12-15T22:50:07.907970Z",
     "iopub.status.idle": "2024-12-15T22:50:07.913994Z",
     "shell.execute_reply": "2024-12-15T22:50:07.913182Z"
    },
    "papermill": {
     "duration": 0.021971,
     "end_time": "2024-12-15T22:50:07.915616",
     "exception": false,
     "start_time": "2024-12-15T22:50:07.893645",
     "status": "completed"
    },
    "tags": []
   },
   "outputs": [
    {
     "data": {
      "text/plain": [
       "array([[ 0.        ,  1.        ,  0.        , ...,  0.63525451,\n",
       "         0.58342624,  0.61716842],\n",
       "       [ 0.        ,  0.        ,  0.        , ...,  0.63525451,\n",
       "         0.58342624,  0.61716842],\n",
       "       [ 0.        ,  1.        ,  0.        , ...,  0.63525451,\n",
       "         0.58342624,  0.61716842],\n",
       "       ...,\n",
       "       [ 0.        ,  0.        ,  0.        , ...,  0.63525451,\n",
       "         0.58342624,  0.61716842],\n",
       "       [ 0.        ,  0.        ,  1.        , ..., -2.01864649,\n",
       "        -1.67105863, -2.18681494],\n",
       "       [ 1.        ,  0.        ,  0.        , ...,  0.63525451,\n",
       "         0.58342624,  0.61716842]])"
      ]
     },
     "execution_count": 22,
     "metadata": {},
     "output_type": "execute_result"
    }
   ],
   "source": [
    "transformed_X"
   ]
  },
  {
   "cell_type": "code",
   "execution_count": 23,
   "id": "380f4602",
   "metadata": {
    "execution": {
     "iopub.execute_input": "2024-12-15T22:50:07.932061Z",
     "iopub.status.busy": "2024-12-15T22:50:07.931253Z",
     "iopub.status.idle": "2024-12-15T22:50:07.980947Z",
     "shell.execute_reply": "2024-12-15T22:50:07.980073Z"
    },
    "papermill": {
     "duration": 0.059641,
     "end_time": "2024-12-15T22:50:07.982594",
     "exception": false,
     "start_time": "2024-12-15T22:50:07.922953",
     "status": "completed"
    },
    "tags": []
   },
   "outputs": [
    {
     "data": {
      "text/html": [
       "<style>#sk-container-id-2 {color: black;background-color: white;}#sk-container-id-2 pre{padding: 0;}#sk-container-id-2 div.sk-toggleable {background-color: white;}#sk-container-id-2 label.sk-toggleable__label {cursor: pointer;display: block;width: 100%;margin-bottom: 0;padding: 0.3em;box-sizing: border-box;text-align: center;}#sk-container-id-2 label.sk-toggleable__label-arrow:before {content: \"▸\";float: left;margin-right: 0.25em;color: #696969;}#sk-container-id-2 label.sk-toggleable__label-arrow:hover:before {color: black;}#sk-container-id-2 div.sk-estimator:hover label.sk-toggleable__label-arrow:before {color: black;}#sk-container-id-2 div.sk-toggleable__content {max-height: 0;max-width: 0;overflow: hidden;text-align: left;background-color: #f0f8ff;}#sk-container-id-2 div.sk-toggleable__content pre {margin: 0.2em;color: black;border-radius: 0.25em;background-color: #f0f8ff;}#sk-container-id-2 input.sk-toggleable__control:checked~div.sk-toggleable__content {max-height: 200px;max-width: 100%;overflow: auto;}#sk-container-id-2 input.sk-toggleable__control:checked~label.sk-toggleable__label-arrow:before {content: \"▾\";}#sk-container-id-2 div.sk-estimator input.sk-toggleable__control:checked~label.sk-toggleable__label {background-color: #d4ebff;}#sk-container-id-2 div.sk-label input.sk-toggleable__control:checked~label.sk-toggleable__label {background-color: #d4ebff;}#sk-container-id-2 input.sk-hidden--visually {border: 0;clip: rect(1px 1px 1px 1px);clip: rect(1px, 1px, 1px, 1px);height: 1px;margin: -1px;overflow: hidden;padding: 0;position: absolute;width: 1px;}#sk-container-id-2 div.sk-estimator {font-family: monospace;background-color: #f0f8ff;border: 1px dotted black;border-radius: 0.25em;box-sizing: border-box;margin-bottom: 0.5em;}#sk-container-id-2 div.sk-estimator:hover {background-color: #d4ebff;}#sk-container-id-2 div.sk-parallel-item::after {content: \"\";width: 100%;border-bottom: 1px solid gray;flex-grow: 1;}#sk-container-id-2 div.sk-label:hover label.sk-toggleable__label {background-color: #d4ebff;}#sk-container-id-2 div.sk-serial::before {content: \"\";position: absolute;border-left: 1px solid gray;box-sizing: border-box;top: 0;bottom: 0;left: 50%;z-index: 0;}#sk-container-id-2 div.sk-serial {display: flex;flex-direction: column;align-items: center;background-color: white;padding-right: 0.2em;padding-left: 0.2em;position: relative;}#sk-container-id-2 div.sk-item {position: relative;z-index: 1;}#sk-container-id-2 div.sk-parallel {display: flex;align-items: stretch;justify-content: center;background-color: white;position: relative;}#sk-container-id-2 div.sk-item::before, #sk-container-id-2 div.sk-parallel-item::before {content: \"\";position: absolute;border-left: 1px solid gray;box-sizing: border-box;top: 0;bottom: 0;left: 50%;z-index: -1;}#sk-container-id-2 div.sk-parallel-item {display: flex;flex-direction: column;z-index: 1;position: relative;background-color: white;}#sk-container-id-2 div.sk-parallel-item:first-child::after {align-self: flex-end;width: 50%;}#sk-container-id-2 div.sk-parallel-item:last-child::after {align-self: flex-start;width: 50%;}#sk-container-id-2 div.sk-parallel-item:only-child::after {width: 0;}#sk-container-id-2 div.sk-dashed-wrapped {border: 1px dashed gray;margin: 0 0.4em 0.5em 0.4em;box-sizing: border-box;padding-bottom: 0.4em;background-color: white;}#sk-container-id-2 div.sk-label label {font-family: monospace;font-weight: bold;display: inline-block;line-height: 1.2em;}#sk-container-id-2 div.sk-label-container {text-align: center;}#sk-container-id-2 div.sk-container {/* jupyter's `normalize.less` sets `[hidden] { display: none; }` but bootstrap.min.css set `[hidden] { display: none !important; }` so we also need the `!important` here to be able to override the default hidden behavior on the sphinx rendered scikit-learn.org. See: https://github.com/scikit-learn/scikit-learn/issues/21755 */display: inline-block !important;position: relative;}#sk-container-id-2 div.sk-text-repr-fallback {display: none;}</style><div id=\"sk-container-id-2\" class=\"sk-top-container\"><div class=\"sk-text-repr-fallback\"><pre>ColumnTransformer(remainder=&#x27;passthrough&#x27;,\n",
       "                  transformers=[(&#x27;drop&#x27;,\n",
       "                                 DropColumnsTransformer(columns_to_drop=[&#x27;tce_imm_match&#x27;,\n",
       "                                                                         &#x27;cyto_score_detail&#x27;,\n",
       "                                                                         &#x27;mrd_hct&#x27;,\n",
       "                                                                         &#x27;tce_match&#x27;,\n",
       "                                                                         &#x27;tce_div_match&#x27;]),\n",
       "                                 [&#x27;tce_imm_match&#x27;, &#x27;cyto_score_detail&#x27;,\n",
       "                                  &#x27;mrd_hct&#x27;, &#x27;tce_match&#x27;, &#x27;tce_div_match&#x27;]),\n",
       "                                (&#x27;age_transformation&#x27;,\n",
       "                                 Pipeline(steps=[(&#x27;age_transformer&#x27;,\n",
       "                                                  AgeToRangeTransformer(columns=[&#x27;dono...\n",
       "                                                 (&#x27;scaling&#x27;,\n",
       "                                                  StandardScaler())]),\n",
       "                                 [&#x27;hla_match_c_high&#x27;, &#x27;hla_high_res_8&#x27;,\n",
       "                                  &#x27;hla_low_res_6&#x27;, &#x27;hla_high_res_6&#x27;,\n",
       "                                  &#x27;hla_high_res_10&#x27;, &#x27;hla_match_dqb1_high&#x27;,\n",
       "                                  &#x27;hla_nmdp_6&#x27;, &#x27;hla_match_c_low&#x27;,\n",
       "                                  &#x27;hla_match_drb1_low&#x27;, &#x27;hla_match_dqb1_low&#x27;,\n",
       "                                  &#x27;year_hct&#x27;, &#x27;hla_match_a_high&#x27;,\n",
       "                                  &#x27;hla_match_b_low&#x27;, &#x27;hla_match_a_low&#x27;,\n",
       "                                  &#x27;hla_match_b_high&#x27;, &#x27;hla_low_res_8&#x27;,\n",
       "                                  &#x27;hla_match_drb1_high&#x27;, &#x27;hla_low_res_10&#x27;])])</pre><b>In a Jupyter environment, please rerun this cell to show the HTML representation or trust the notebook. <br />On GitHub, the HTML representation is unable to render, please try loading this page with nbviewer.org.</b></div><div class=\"sk-container\" hidden><div class=\"sk-item sk-dashed-wrapped\"><div class=\"sk-label-container\"><div class=\"sk-label sk-toggleable\"><input class=\"sk-toggleable__control sk-hidden--visually\" id=\"sk-estimator-id-22\" type=\"checkbox\" ><label for=\"sk-estimator-id-22\" class=\"sk-toggleable__label sk-toggleable__label-arrow\">ColumnTransformer</label><div class=\"sk-toggleable__content\"><pre>ColumnTransformer(remainder=&#x27;passthrough&#x27;,\n",
       "                  transformers=[(&#x27;drop&#x27;,\n",
       "                                 DropColumnsTransformer(columns_to_drop=[&#x27;tce_imm_match&#x27;,\n",
       "                                                                         &#x27;cyto_score_detail&#x27;,\n",
       "                                                                         &#x27;mrd_hct&#x27;,\n",
       "                                                                         &#x27;tce_match&#x27;,\n",
       "                                                                         &#x27;tce_div_match&#x27;]),\n",
       "                                 [&#x27;tce_imm_match&#x27;, &#x27;cyto_score_detail&#x27;,\n",
       "                                  &#x27;mrd_hct&#x27;, &#x27;tce_match&#x27;, &#x27;tce_div_match&#x27;]),\n",
       "                                (&#x27;age_transformation&#x27;,\n",
       "                                 Pipeline(steps=[(&#x27;age_transformer&#x27;,\n",
       "                                                  AgeToRangeTransformer(columns=[&#x27;dono...\n",
       "                                                 (&#x27;scaling&#x27;,\n",
       "                                                  StandardScaler())]),\n",
       "                                 [&#x27;hla_match_c_high&#x27;, &#x27;hla_high_res_8&#x27;,\n",
       "                                  &#x27;hla_low_res_6&#x27;, &#x27;hla_high_res_6&#x27;,\n",
       "                                  &#x27;hla_high_res_10&#x27;, &#x27;hla_match_dqb1_high&#x27;,\n",
       "                                  &#x27;hla_nmdp_6&#x27;, &#x27;hla_match_c_low&#x27;,\n",
       "                                  &#x27;hla_match_drb1_low&#x27;, &#x27;hla_match_dqb1_low&#x27;,\n",
       "                                  &#x27;year_hct&#x27;, &#x27;hla_match_a_high&#x27;,\n",
       "                                  &#x27;hla_match_b_low&#x27;, &#x27;hla_match_a_low&#x27;,\n",
       "                                  &#x27;hla_match_b_high&#x27;, &#x27;hla_low_res_8&#x27;,\n",
       "                                  &#x27;hla_match_drb1_high&#x27;, &#x27;hla_low_res_10&#x27;])])</pre></div></div></div><div class=\"sk-parallel\"><div class=\"sk-parallel-item\"><div class=\"sk-item\"><div class=\"sk-label-container\"><div class=\"sk-label sk-toggleable\"><input class=\"sk-toggleable__control sk-hidden--visually\" id=\"sk-estimator-id-23\" type=\"checkbox\" ><label for=\"sk-estimator-id-23\" class=\"sk-toggleable__label sk-toggleable__label-arrow\">drop</label><div class=\"sk-toggleable__content\"><pre>[&#x27;tce_imm_match&#x27;, &#x27;cyto_score_detail&#x27;, &#x27;mrd_hct&#x27;, &#x27;tce_match&#x27;, &#x27;tce_div_match&#x27;]</pre></div></div></div><div class=\"sk-serial\"><div class=\"sk-item\"><div class=\"sk-estimator sk-toggleable\"><input class=\"sk-toggleable__control sk-hidden--visually\" id=\"sk-estimator-id-24\" type=\"checkbox\" ><label for=\"sk-estimator-id-24\" class=\"sk-toggleable__label sk-toggleable__label-arrow\">DropColumnsTransformer</label><div class=\"sk-toggleable__content\"><pre>DropColumnsTransformer(columns_to_drop=[&#x27;tce_imm_match&#x27;, &#x27;cyto_score_detail&#x27;,\n",
       "                                        &#x27;mrd_hct&#x27;, &#x27;tce_match&#x27;,\n",
       "                                        &#x27;tce_div_match&#x27;])</pre></div></div></div></div></div></div><div class=\"sk-parallel-item\"><div class=\"sk-item\"><div class=\"sk-label-container\"><div class=\"sk-label sk-toggleable\"><input class=\"sk-toggleable__control sk-hidden--visually\" id=\"sk-estimator-id-25\" type=\"checkbox\" ><label for=\"sk-estimator-id-25\" class=\"sk-toggleable__label sk-toggleable__label-arrow\">age_transformation</label><div class=\"sk-toggleable__content\"><pre>[&#x27;donor_age&#x27;, &#x27;age_at_hct&#x27;]</pre></div></div></div><div class=\"sk-serial\"><div class=\"sk-item\"><div class=\"sk-serial\"><div class=\"sk-item\"><div class=\"sk-estimator sk-toggleable\"><input class=\"sk-toggleable__control sk-hidden--visually\" id=\"sk-estimator-id-26\" type=\"checkbox\" ><label for=\"sk-estimator-id-26\" class=\"sk-toggleable__label sk-toggleable__label-arrow\">AgeToRangeTransformer</label><div class=\"sk-toggleable__content\"><pre>AgeToRangeTransformer(columns=[&#x27;donor_age&#x27;, &#x27;age_at_hct&#x27;])</pre></div></div></div><div class=\"sk-item\"><div class=\"sk-estimator sk-toggleable\"><input class=\"sk-toggleable__control sk-hidden--visually\" id=\"sk-estimator-id-27\" type=\"checkbox\" ><label for=\"sk-estimator-id-27\" class=\"sk-toggleable__label sk-toggleable__label-arrow\">OneHotEncoder</label><div class=\"sk-toggleable__content\"><pre>OneHotEncoder(drop=&#x27;first&#x27;, handle_unknown=&#x27;ignore&#x27;)</pre></div></div></div></div></div></div></div></div><div class=\"sk-parallel-item\"><div class=\"sk-item\"><div class=\"sk-label-container\"><div class=\"sk-label sk-toggleable\"><input class=\"sk-toggleable__control sk-hidden--visually\" id=\"sk-estimator-id-28\" type=\"checkbox\" ><label for=\"sk-estimator-id-28\" class=\"sk-toggleable__label sk-toggleable__label-arrow\">cat_impute_transformation</label><div class=\"sk-toggleable__content\"><pre>[&#x27;dri_score&#x27;, &#x27;psych_disturb&#x27;, &#x27;diabetes&#x27;, &#x27;tbi_status&#x27;, &#x27;arrhythmia&#x27;, &#x27;graft_type&#x27;, &#x27;vent_hist&#x27;, &#x27;renal_issue&#x27;, &#x27;pulm_severe&#x27;, &#x27;prim_disease_hct&#x27;, &#x27;cmv_status&#x27;, &#x27;rituximab&#x27;, &#x27;prod_type&#x27;, &#x27;conditioning_intensity&#x27;, &#x27;ethnicity&#x27;, &#x27;obesity&#x27;, &#x27;in_vivo_tcd&#x27;, &#x27;hepatic_severe&#x27;, &#x27;prior_tumor&#x27;, &#x27;peptic_ulcer&#x27;, &#x27;gvhd_proph&#x27;, &#x27;rheum_issue&#x27;, &#x27;sex_match&#x27;, &#x27;race_group&#x27;, &#x27;hepatic_mild&#x27;, &#x27;donor_related&#x27;, &#x27;melphalan_dose&#x27;, &#x27;cardiac&#x27;, &#x27;pulm_moderate&#x27;]</pre></div></div></div><div class=\"sk-serial\"><div class=\"sk-item\"><div class=\"sk-serial\"><div class=\"sk-item\"><div class=\"sk-estimator sk-toggleable\"><input class=\"sk-toggleable__control sk-hidden--visually\" id=\"sk-estimator-id-29\" type=\"checkbox\" ><label for=\"sk-estimator-id-29\" class=\"sk-toggleable__label sk-toggleable__label-arrow\">LabelEncoderTransformer</label><div class=\"sk-toggleable__content\"><pre>LabelEncoderTransformer()</pre></div></div></div><div class=\"sk-item\"><div class=\"sk-estimator sk-toggleable\"><input class=\"sk-toggleable__control sk-hidden--visually\" id=\"sk-estimator-id-30\" type=\"checkbox\" ><label for=\"sk-estimator-id-30\" class=\"sk-toggleable__label sk-toggleable__label-arrow\">KNNImputer</label><div class=\"sk-toggleable__content\"><pre>KNNImputer()</pre></div></div></div></div></div></div></div></div><div class=\"sk-parallel-item\"><div class=\"sk-item\"><div class=\"sk-label-container\"><div class=\"sk-label sk-toggleable\"><input class=\"sk-toggleable__control sk-hidden--visually\" id=\"sk-estimator-id-31\" type=\"checkbox\" ><label for=\"sk-estimator-id-31\" class=\"sk-toggleable__label sk-toggleable__label-arrow\">cyto_score_transformation</label><div class=\"sk-toggleable__content\"><pre>[&#x27;cyto_score&#x27;]</pre></div></div></div><div class=\"sk-serial\"><div class=\"sk-item\"><div class=\"sk-serial\"><div class=\"sk-item\"><div class=\"sk-estimator sk-toggleable\"><input class=\"sk-toggleable__control sk-hidden--visually\" id=\"sk-estimator-id-32\" type=\"checkbox\" ><label for=\"sk-estimator-id-32\" class=\"sk-toggleable__label sk-toggleable__label-arrow\">OrdinalEncoder</label><div class=\"sk-toggleable__content\"><pre>OrdinalEncoder(categories=[[&#x27;Not Tested&#x27;, &#x27;TBD&#x27;, &#x27;Other&#x27;, &#x27;Poor&#x27;, &#x27;Favorable&#x27;,\n",
       "                            &#x27;Intermediate&#x27;, &#x27;Normal&#x27;]],\n",
       "               handle_unknown=&#x27;use_encoded_value&#x27;, unknown_value=-1)</pre></div></div></div><div class=\"sk-item\"><div class=\"sk-estimator sk-toggleable\"><input class=\"sk-toggleable__control sk-hidden--visually\" id=\"sk-estimator-id-33\" type=\"checkbox\" ><label for=\"sk-estimator-id-33\" class=\"sk-toggleable__label sk-toggleable__label-arrow\">KNNImputer</label><div class=\"sk-toggleable__content\"><pre>KNNImputer()</pre></div></div></div></div></div></div></div></div><div class=\"sk-parallel-item\"><div class=\"sk-item\"><div class=\"sk-label-container\"><div class=\"sk-label sk-toggleable\"><input class=\"sk-toggleable__control sk-hidden--visually\" id=\"sk-estimator-id-34\" type=\"checkbox\" ><label for=\"sk-estimator-id-34\" class=\"sk-toggleable__label sk-toggleable__label-arrow\">outlier_transformation</label><div class=\"sk-toggleable__content\"><pre>[&#x27;comorbidity_score&#x27;, &#x27;karnofsky_score&#x27;]</pre></div></div></div><div class=\"sk-serial\"><div class=\"sk-item\"><div class=\"sk-serial\"><div class=\"sk-item\"><div class=\"sk-estimator sk-toggleable\"><input class=\"sk-toggleable__control sk-hidden--visually\" id=\"sk-estimator-id-35\" type=\"checkbox\" ><label for=\"sk-estimator-id-35\" class=\"sk-toggleable__label sk-toggleable__label-arrow\">HandleOutliers</label><div class=\"sk-toggleable__content\"><pre>HandleOutliers(p_max=0.9975, p_min=0.0025)</pre></div></div></div><div class=\"sk-item\"><div class=\"sk-estimator sk-toggleable\"><input class=\"sk-toggleable__control sk-hidden--visually\" id=\"sk-estimator-id-36\" type=\"checkbox\" ><label for=\"sk-estimator-id-36\" class=\"sk-toggleable__label sk-toggleable__label-arrow\">StandardScaler</label><div class=\"sk-toggleable__content\"><pre>StandardScaler()</pre></div></div></div></div></div></div></div></div><div class=\"sk-parallel-item\"><div class=\"sk-item\"><div class=\"sk-label-container\"><div class=\"sk-label sk-toggleable\"><input class=\"sk-toggleable__control sk-hidden--visually\" id=\"sk-estimator-id-37\" type=\"checkbox\" ><label for=\"sk-estimator-id-37\" class=\"sk-toggleable__label sk-toggleable__label-arrow\">num_transformation</label><div class=\"sk-toggleable__content\"><pre>[&#x27;hla_match_c_high&#x27;, &#x27;hla_high_res_8&#x27;, &#x27;hla_low_res_6&#x27;, &#x27;hla_high_res_6&#x27;, &#x27;hla_high_res_10&#x27;, &#x27;hla_match_dqb1_high&#x27;, &#x27;hla_nmdp_6&#x27;, &#x27;hla_match_c_low&#x27;, &#x27;hla_match_drb1_low&#x27;, &#x27;hla_match_dqb1_low&#x27;, &#x27;year_hct&#x27;, &#x27;hla_match_a_high&#x27;, &#x27;hla_match_b_low&#x27;, &#x27;hla_match_a_low&#x27;, &#x27;hla_match_b_high&#x27;, &#x27;hla_low_res_8&#x27;, &#x27;hla_match_drb1_high&#x27;, &#x27;hla_low_res_10&#x27;]</pre></div></div></div><div class=\"sk-serial\"><div class=\"sk-item\"><div class=\"sk-serial\"><div class=\"sk-item\"><div class=\"sk-estimator sk-toggleable\"><input class=\"sk-toggleable__control sk-hidden--visually\" id=\"sk-estimator-id-38\" type=\"checkbox\" ><label for=\"sk-estimator-id-38\" class=\"sk-toggleable__label sk-toggleable__label-arrow\">SimpleImputer</label><div class=\"sk-toggleable__content\"><pre>SimpleImputer(strategy=&#x27;median&#x27;)</pre></div></div></div><div class=\"sk-item\"><div class=\"sk-estimator sk-toggleable\"><input class=\"sk-toggleable__control sk-hidden--visually\" id=\"sk-estimator-id-39\" type=\"checkbox\" ><label for=\"sk-estimator-id-39\" class=\"sk-toggleable__label sk-toggleable__label-arrow\">StandardScaler</label><div class=\"sk-toggleable__content\"><pre>StandardScaler()</pre></div></div></div></div></div></div></div></div><div class=\"sk-parallel-item\"><div class=\"sk-item\"><div class=\"sk-label-container\"><div class=\"sk-label sk-toggleable\"><input class=\"sk-toggleable__control sk-hidden--visually\" id=\"sk-estimator-id-40\" type=\"checkbox\" ><label for=\"sk-estimator-id-40\" class=\"sk-toggleable__label sk-toggleable__label-arrow\">remainder</label><div class=\"sk-toggleable__content\"><pre>[]</pre></div></div></div><div class=\"sk-serial\"><div class=\"sk-item\"><div class=\"sk-estimator sk-toggleable\"><input class=\"sk-toggleable__control sk-hidden--visually\" id=\"sk-estimator-id-41\" type=\"checkbox\" ><label for=\"sk-estimator-id-41\" class=\"sk-toggleable__label sk-toggleable__label-arrow\">passthrough</label><div class=\"sk-toggleable__content\"><pre>passthrough</pre></div></div></div></div></div></div></div></div></div></div>"
      ],
      "text/plain": [
       "ColumnTransformer(remainder='passthrough',\n",
       "                  transformers=[('drop',\n",
       "                                 DropColumnsTransformer(columns_to_drop=['tce_imm_match',\n",
       "                                                                         'cyto_score_detail',\n",
       "                                                                         'mrd_hct',\n",
       "                                                                         'tce_match',\n",
       "                                                                         'tce_div_match']),\n",
       "                                 ['tce_imm_match', 'cyto_score_detail',\n",
       "                                  'mrd_hct', 'tce_match', 'tce_div_match']),\n",
       "                                ('age_transformation',\n",
       "                                 Pipeline(steps=[('age_transformer',\n",
       "                                                  AgeToRangeTransformer(columns=['dono...\n",
       "                                                 ('scaling',\n",
       "                                                  StandardScaler())]),\n",
       "                                 ['hla_match_c_high', 'hla_high_res_8',\n",
       "                                  'hla_low_res_6', 'hla_high_res_6',\n",
       "                                  'hla_high_res_10', 'hla_match_dqb1_high',\n",
       "                                  'hla_nmdp_6', 'hla_match_c_low',\n",
       "                                  'hla_match_drb1_low', 'hla_match_dqb1_low',\n",
       "                                  'year_hct', 'hla_match_a_high',\n",
       "                                  'hla_match_b_low', 'hla_match_a_low',\n",
       "                                  'hla_match_b_high', 'hla_low_res_8',\n",
       "                                  'hla_match_drb1_high', 'hla_low_res_10'])])"
      ]
     },
     "execution_count": 23,
     "metadata": {},
     "output_type": "execute_result"
    }
   ],
   "source": [
    "preprocessor"
   ]
  },
  {
   "cell_type": "code",
   "execution_count": 24,
   "id": "3835efeb",
   "metadata": {
    "execution": {
     "iopub.execute_input": "2024-12-15T22:50:07.998656Z",
     "iopub.status.busy": "2024-12-15T22:50:07.998349Z",
     "iopub.status.idle": "2024-12-15T22:50:08.005438Z",
     "shell.execute_reply": "2024-12-15T22:50:08.004586Z"
    },
    "papermill": {
     "duration": 0.016944,
     "end_time": "2024-12-15T22:50:08.006982",
     "exception": false,
     "start_time": "2024-12-15T22:50:07.990038",
     "status": "completed"
    },
    "tags": []
   },
   "outputs": [
    {
     "data": {
      "text/plain": [
       "array(['age_transformation__donor_age_range_30-40',\n",
       "       'age_transformation__donor_age_range_40-50',\n",
       "       'age_transformation__donor_age_range_50-60',\n",
       "       'age_transformation__donor_age_range_60-70',\n",
       "       'age_transformation__donor_age_range_70+',\n",
       "       'age_transformation__donor_age_range_Below 20',\n",
       "       'age_transformation__age_at_hct_range_30-40',\n",
       "       'age_transformation__age_at_hct_range_40-50',\n",
       "       'age_transformation__age_at_hct_range_50-60',\n",
       "       'age_transformation__age_at_hct_range_60-70',\n",
       "       'age_transformation__age_at_hct_range_70+',\n",
       "       'age_transformation__age_at_hct_range_Below 20',\n",
       "       'cat_impute_transformation__dri_score',\n",
       "       'cat_impute_transformation__psych_disturb',\n",
       "       'cat_impute_transformation__diabetes',\n",
       "       'cat_impute_transformation__tbi_status',\n",
       "       'cat_impute_transformation__arrhythmia',\n",
       "       'cat_impute_transformation__graft_type',\n",
       "       'cat_impute_transformation__vent_hist',\n",
       "       'cat_impute_transformation__renal_issue',\n",
       "       'cat_impute_transformation__pulm_severe',\n",
       "       'cat_impute_transformation__prim_disease_hct',\n",
       "       'cat_impute_transformation__cmv_status',\n",
       "       'cat_impute_transformation__rituximab',\n",
       "       'cat_impute_transformation__prod_type',\n",
       "       'cat_impute_transformation__conditioning_intensity',\n",
       "       'cat_impute_transformation__ethnicity',\n",
       "       'cat_impute_transformation__obesity',\n",
       "       'cat_impute_transformation__in_vivo_tcd',\n",
       "       'cat_impute_transformation__hepatic_severe',\n",
       "       'cat_impute_transformation__prior_tumor',\n",
       "       'cat_impute_transformation__peptic_ulcer',\n",
       "       'cat_impute_transformation__gvhd_proph',\n",
       "       'cat_impute_transformation__rheum_issue',\n",
       "       'cat_impute_transformation__sex_match',\n",
       "       'cat_impute_transformation__race_group',\n",
       "       'cat_impute_transformation__hepatic_mild',\n",
       "       'cat_impute_transformation__donor_related',\n",
       "       'cat_impute_transformation__melphalan_dose',\n",
       "       'cat_impute_transformation__cardiac',\n",
       "       'cat_impute_transformation__pulm_moderate',\n",
       "       'cyto_score_transformation__cyto_score',\n",
       "       'outlier_transformation__comorbidity_score',\n",
       "       'outlier_transformation__karnofsky_score',\n",
       "       'num_transformation__hla_match_c_high',\n",
       "       'num_transformation__hla_high_res_8',\n",
       "       'num_transformation__hla_low_res_6',\n",
       "       'num_transformation__hla_high_res_6',\n",
       "       'num_transformation__hla_high_res_10',\n",
       "       'num_transformation__hla_match_dqb1_high',\n",
       "       'num_transformation__hla_nmdp_6',\n",
       "       'num_transformation__hla_match_c_low',\n",
       "       'num_transformation__hla_match_drb1_low',\n",
       "       'num_transformation__hla_match_dqb1_low',\n",
       "       'num_transformation__year_hct',\n",
       "       'num_transformation__hla_match_a_high',\n",
       "       'num_transformation__hla_match_b_low',\n",
       "       'num_transformation__hla_match_a_low',\n",
       "       'num_transformation__hla_match_b_high',\n",
       "       'num_transformation__hla_low_res_8',\n",
       "       'num_transformation__hla_match_drb1_high',\n",
       "       'num_transformation__hla_low_res_10'], dtype=object)"
      ]
     },
     "execution_count": 24,
     "metadata": {},
     "output_type": "execute_result"
    }
   ],
   "source": [
    " # Get the feature names after transformation\n",
    "transformed_feature_names = preprocessor.get_feature_names_out()\n",
    "transformed_feature_names"
   ]
  },
  {
   "cell_type": "code",
   "execution_count": 25,
   "id": "cd4db8eb",
   "metadata": {
    "execution": {
     "iopub.execute_input": "2024-12-15T22:50:08.023548Z",
     "iopub.status.busy": "2024-12-15T22:50:08.023204Z",
     "iopub.status.idle": "2024-12-15T22:50:08.027744Z",
     "shell.execute_reply": "2024-12-15T22:50:08.026980Z"
    },
    "papermill": {
     "duration": 0.014783,
     "end_time": "2024-12-15T22:50:08.029430",
     "exception": false,
     "start_time": "2024-12-15T22:50:08.014647",
     "status": "completed"
    },
    "tags": []
   },
   "outputs": [],
   "source": [
    "df_transformed_X =  pd.DataFrame(transformed_X, columns=transformed_feature_names)\n"
   ]
  },
  {
   "cell_type": "code",
   "execution_count": 26,
   "id": "bed9aa0b",
   "metadata": {
    "execution": {
     "iopub.execute_input": "2024-12-15T22:50:08.046240Z",
     "iopub.status.busy": "2024-12-15T22:50:08.045468Z",
     "iopub.status.idle": "2024-12-15T22:50:08.074131Z",
     "shell.execute_reply": "2024-12-15T22:50:08.073278Z"
    },
    "papermill": {
     "duration": 0.038803,
     "end_time": "2024-12-15T22:50:08.075707",
     "exception": false,
     "start_time": "2024-12-15T22:50:08.036904",
     "status": "completed"
    },
    "tags": []
   },
   "outputs": [
    {
     "data": {
      "text/html": [
       "<div>\n",
       "<style scoped>\n",
       "    .dataframe tbody tr th:only-of-type {\n",
       "        vertical-align: middle;\n",
       "    }\n",
       "\n",
       "    .dataframe tbody tr th {\n",
       "        vertical-align: top;\n",
       "    }\n",
       "\n",
       "    .dataframe thead th {\n",
       "        text-align: right;\n",
       "    }\n",
       "</style>\n",
       "<table border=\"1\" class=\"dataframe\">\n",
       "  <thead>\n",
       "    <tr style=\"text-align: right;\">\n",
       "      <th></th>\n",
       "      <th>age_transformation__donor_age_range_30-40</th>\n",
       "      <th>age_transformation__donor_age_range_40-50</th>\n",
       "      <th>age_transformation__donor_age_range_50-60</th>\n",
       "      <th>age_transformation__donor_age_range_60-70</th>\n",
       "      <th>age_transformation__donor_age_range_70+</th>\n",
       "      <th>age_transformation__donor_age_range_Below 20</th>\n",
       "      <th>age_transformation__age_at_hct_range_30-40</th>\n",
       "      <th>age_transformation__age_at_hct_range_40-50</th>\n",
       "      <th>age_transformation__age_at_hct_range_50-60</th>\n",
       "      <th>age_transformation__age_at_hct_range_60-70</th>\n",
       "      <th>...</th>\n",
       "      <th>num_transformation__hla_match_drb1_low</th>\n",
       "      <th>num_transformation__hla_match_dqb1_low</th>\n",
       "      <th>num_transformation__year_hct</th>\n",
       "      <th>num_transformation__hla_match_a_high</th>\n",
       "      <th>num_transformation__hla_match_b_low</th>\n",
       "      <th>num_transformation__hla_match_a_low</th>\n",
       "      <th>num_transformation__hla_match_b_high</th>\n",
       "      <th>num_transformation__hla_low_res_8</th>\n",
       "      <th>num_transformation__hla_match_drb1_high</th>\n",
       "      <th>num_transformation__hla_low_res_10</th>\n",
       "    </tr>\n",
       "  </thead>\n",
       "  <tbody>\n",
       "    <tr>\n",
       "      <th>0</th>\n",
       "      <td>0.0</td>\n",
       "      <td>1.0</td>\n",
       "      <td>0.0</td>\n",
       "      <td>0.0</td>\n",
       "      <td>0.0</td>\n",
       "      <td>0.0</td>\n",
       "      <td>0.0</td>\n",
       "      <td>0.0</td>\n",
       "      <td>0.0</td>\n",
       "      <td>0.0</td>\n",
       "      <td>...</td>\n",
       "      <td>0.590556</td>\n",
       "      <td>0.479824</td>\n",
       "      <td>0.260175</td>\n",
       "      <td>0.57383</td>\n",
       "      <td>0.578537</td>\n",
       "      <td>0.598004</td>\n",
       "      <td>0.581206</td>\n",
       "      <td>0.635255</td>\n",
       "      <td>0.583426</td>\n",
       "      <td>0.617168</td>\n",
       "    </tr>\n",
       "    <tr>\n",
       "      <th>1</th>\n",
       "      <td>0.0</td>\n",
       "      <td>0.0</td>\n",
       "      <td>0.0</td>\n",
       "      <td>0.0</td>\n",
       "      <td>1.0</td>\n",
       "      <td>0.0</td>\n",
       "      <td>0.0</td>\n",
       "      <td>1.0</td>\n",
       "      <td>0.0</td>\n",
       "      <td>0.0</td>\n",
       "      <td>...</td>\n",
       "      <td>0.590556</td>\n",
       "      <td>0.479824</td>\n",
       "      <td>-2.276400</td>\n",
       "      <td>0.57383</td>\n",
       "      <td>0.578537</td>\n",
       "      <td>0.598004</td>\n",
       "      <td>0.581206</td>\n",
       "      <td>0.635255</td>\n",
       "      <td>0.583426</td>\n",
       "      <td>0.617168</td>\n",
       "    </tr>\n",
       "    <tr>\n",
       "      <th>2</th>\n",
       "      <td>0.0</td>\n",
       "      <td>1.0</td>\n",
       "      <td>0.0</td>\n",
       "      <td>0.0</td>\n",
       "      <td>0.0</td>\n",
       "      <td>0.0</td>\n",
       "      <td>1.0</td>\n",
       "      <td>0.0</td>\n",
       "      <td>0.0</td>\n",
       "      <td>0.0</td>\n",
       "      <td>...</td>\n",
       "      <td>0.590556</td>\n",
       "      <td>0.479824</td>\n",
       "      <td>1.211391</td>\n",
       "      <td>0.57383</td>\n",
       "      <td>0.578537</td>\n",
       "      <td>0.598004</td>\n",
       "      <td>0.581206</td>\n",
       "      <td>0.635255</td>\n",
       "      <td>0.583426</td>\n",
       "      <td>0.617168</td>\n",
       "    </tr>\n",
       "    <tr>\n",
       "      <th>3</th>\n",
       "      <td>0.0</td>\n",
       "      <td>0.0</td>\n",
       "      <td>0.0</td>\n",
       "      <td>0.0</td>\n",
       "      <td>0.0</td>\n",
       "      <td>0.0</td>\n",
       "      <td>0.0</td>\n",
       "      <td>1.0</td>\n",
       "      <td>0.0</td>\n",
       "      <td>0.0</td>\n",
       "      <td>...</td>\n",
       "      <td>0.590556</td>\n",
       "      <td>0.479824</td>\n",
       "      <td>-1.959328</td>\n",
       "      <td>0.57383</td>\n",
       "      <td>0.578537</td>\n",
       "      <td>0.598004</td>\n",
       "      <td>0.581206</td>\n",
       "      <td>0.635255</td>\n",
       "      <td>0.583426</td>\n",
       "      <td>0.617168</td>\n",
       "    </tr>\n",
       "    <tr>\n",
       "      <th>4</th>\n",
       "      <td>0.0</td>\n",
       "      <td>0.0</td>\n",
       "      <td>1.0</td>\n",
       "      <td>0.0</td>\n",
       "      <td>0.0</td>\n",
       "      <td>0.0</td>\n",
       "      <td>0.0</td>\n",
       "      <td>0.0</td>\n",
       "      <td>0.0</td>\n",
       "      <td>0.0</td>\n",
       "      <td>...</td>\n",
       "      <td>0.590556</td>\n",
       "      <td>0.479824</td>\n",
       "      <td>0.894319</td>\n",
       "      <td>0.57383</td>\n",
       "      <td>0.578537</td>\n",
       "      <td>0.598004</td>\n",
       "      <td>0.581206</td>\n",
       "      <td>0.635255</td>\n",
       "      <td>0.583426</td>\n",
       "      <td>0.617168</td>\n",
       "    </tr>\n",
       "  </tbody>\n",
       "</table>\n",
       "<p>5 rows × 62 columns</p>\n",
       "</div>"
      ],
      "text/plain": [
       "   age_transformation__donor_age_range_30-40  \\\n",
       "0                                        0.0   \n",
       "1                                        0.0   \n",
       "2                                        0.0   \n",
       "3                                        0.0   \n",
       "4                                        0.0   \n",
       "\n",
       "   age_transformation__donor_age_range_40-50  \\\n",
       "0                                        1.0   \n",
       "1                                        0.0   \n",
       "2                                        1.0   \n",
       "3                                        0.0   \n",
       "4                                        0.0   \n",
       "\n",
       "   age_transformation__donor_age_range_50-60  \\\n",
       "0                                        0.0   \n",
       "1                                        0.0   \n",
       "2                                        0.0   \n",
       "3                                        0.0   \n",
       "4                                        1.0   \n",
       "\n",
       "   age_transformation__donor_age_range_60-70  \\\n",
       "0                                        0.0   \n",
       "1                                        0.0   \n",
       "2                                        0.0   \n",
       "3                                        0.0   \n",
       "4                                        0.0   \n",
       "\n",
       "   age_transformation__donor_age_range_70+  \\\n",
       "0                                      0.0   \n",
       "1                                      1.0   \n",
       "2                                      0.0   \n",
       "3                                      0.0   \n",
       "4                                      0.0   \n",
       "\n",
       "   age_transformation__donor_age_range_Below 20  \\\n",
       "0                                           0.0   \n",
       "1                                           0.0   \n",
       "2                                           0.0   \n",
       "3                                           0.0   \n",
       "4                                           0.0   \n",
       "\n",
       "   age_transformation__age_at_hct_range_30-40  \\\n",
       "0                                         0.0   \n",
       "1                                         0.0   \n",
       "2                                         1.0   \n",
       "3                                         0.0   \n",
       "4                                         0.0   \n",
       "\n",
       "   age_transformation__age_at_hct_range_40-50  \\\n",
       "0                                         0.0   \n",
       "1                                         1.0   \n",
       "2                                         0.0   \n",
       "3                                         1.0   \n",
       "4                                         0.0   \n",
       "\n",
       "   age_transformation__age_at_hct_range_50-60  \\\n",
       "0                                         0.0   \n",
       "1                                         0.0   \n",
       "2                                         0.0   \n",
       "3                                         0.0   \n",
       "4                                         0.0   \n",
       "\n",
       "   age_transformation__age_at_hct_range_60-70  ...  \\\n",
       "0                                         0.0  ...   \n",
       "1                                         0.0  ...   \n",
       "2                                         0.0  ...   \n",
       "3                                         0.0  ...   \n",
       "4                                         0.0  ...   \n",
       "\n",
       "   num_transformation__hla_match_drb1_low  \\\n",
       "0                                0.590556   \n",
       "1                                0.590556   \n",
       "2                                0.590556   \n",
       "3                                0.590556   \n",
       "4                                0.590556   \n",
       "\n",
       "   num_transformation__hla_match_dqb1_low  num_transformation__year_hct  \\\n",
       "0                                0.479824                      0.260175   \n",
       "1                                0.479824                     -2.276400   \n",
       "2                                0.479824                      1.211391   \n",
       "3                                0.479824                     -1.959328   \n",
       "4                                0.479824                      0.894319   \n",
       "\n",
       "   num_transformation__hla_match_a_high  num_transformation__hla_match_b_low  \\\n",
       "0                               0.57383                             0.578537   \n",
       "1                               0.57383                             0.578537   \n",
       "2                               0.57383                             0.578537   \n",
       "3                               0.57383                             0.578537   \n",
       "4                               0.57383                             0.578537   \n",
       "\n",
       "   num_transformation__hla_match_a_low  num_transformation__hla_match_b_high  \\\n",
       "0                             0.598004                              0.581206   \n",
       "1                             0.598004                              0.581206   \n",
       "2                             0.598004                              0.581206   \n",
       "3                             0.598004                              0.581206   \n",
       "4                             0.598004                              0.581206   \n",
       "\n",
       "   num_transformation__hla_low_res_8  num_transformation__hla_match_drb1_high  \\\n",
       "0                           0.635255                                 0.583426   \n",
       "1                           0.635255                                 0.583426   \n",
       "2                           0.635255                                 0.583426   \n",
       "3                           0.635255                                 0.583426   \n",
       "4                           0.635255                                 0.583426   \n",
       "\n",
       "   num_transformation__hla_low_res_10  \n",
       "0                            0.617168  \n",
       "1                            0.617168  \n",
       "2                            0.617168  \n",
       "3                            0.617168  \n",
       "4                            0.617168  \n",
       "\n",
       "[5 rows x 62 columns]"
      ]
     },
     "execution_count": 26,
     "metadata": {},
     "output_type": "execute_result"
    }
   ],
   "source": [
    "df_transformed_X.head()"
   ]
  },
  {
   "cell_type": "code",
   "execution_count": 27,
   "id": "aaf17184",
   "metadata": {
    "execution": {
     "iopub.execute_input": "2024-12-15T22:50:08.093615Z",
     "iopub.status.busy": "2024-12-15T22:50:08.093050Z",
     "iopub.status.idle": "2024-12-15T22:50:08.129453Z",
     "shell.execute_reply": "2024-12-15T22:50:08.128676Z"
    },
    "papermill": {
     "duration": 0.047444,
     "end_time": "2024-12-15T22:50:08.131168",
     "exception": false,
     "start_time": "2024-12-15T22:50:08.083724",
     "status": "completed"
    },
    "tags": []
   },
   "outputs": [],
   "source": [
    "test_transformed = pipeline.transform(df_test)"
   ]
  },
  {
   "cell_type": "code",
   "execution_count": 28,
   "id": "d3e0f824",
   "metadata": {
    "execution": {
     "iopub.execute_input": "2024-12-15T22:50:08.148857Z",
     "iopub.status.busy": "2024-12-15T22:50:08.148235Z",
     "iopub.status.idle": "2024-12-15T22:50:08.152616Z",
     "shell.execute_reply": "2024-12-15T22:50:08.151859Z"
    },
    "papermill": {
     "duration": 0.014834,
     "end_time": "2024-12-15T22:50:08.154183",
     "exception": false,
     "start_time": "2024-12-15T22:50:08.139349",
     "status": "completed"
    },
    "tags": []
   },
   "outputs": [],
   "source": [
    "df_test_transformed=  pd.DataFrame(test_transformed, columns=transformed_feature_names)\n"
   ]
  },
  {
   "cell_type": "code",
   "execution_count": 29,
   "id": "d906e25c",
   "metadata": {
    "execution": {
     "iopub.execute_input": "2024-12-15T22:50:08.172444Z",
     "iopub.status.busy": "2024-12-15T22:50:08.171681Z",
     "iopub.status.idle": "2024-12-15T22:50:08.184597Z",
     "shell.execute_reply": "2024-12-15T22:50:08.183637Z"
    },
    "papermill": {
     "duration": 0.024069,
     "end_time": "2024-12-15T22:50:08.187109",
     "exception": false,
     "start_time": "2024-12-15T22:50:08.163040",
     "status": "completed"
    },
    "tags": []
   },
   "outputs": [
    {
     "name": "stdout",
     "output_type": "stream",
     "text": [
      "<class 'pandas.core.frame.DataFrame'>\n",
      "RangeIndex: 3 entries, 0 to 2\n",
      "Data columns (total 62 columns):\n",
      " #   Column                                             Non-Null Count  Dtype  \n",
      "---  ------                                             --------------  -----  \n",
      " 0   age_transformation__donor_age_range_30-40          3 non-null      float64\n",
      " 1   age_transformation__donor_age_range_40-50          3 non-null      float64\n",
      " 2   age_transformation__donor_age_range_50-60          3 non-null      float64\n",
      " 3   age_transformation__donor_age_range_60-70          3 non-null      float64\n",
      " 4   age_transformation__donor_age_range_70+            3 non-null      float64\n",
      " 5   age_transformation__donor_age_range_Below 20       3 non-null      float64\n",
      " 6   age_transformation__age_at_hct_range_30-40         3 non-null      float64\n",
      " 7   age_transformation__age_at_hct_range_40-50         3 non-null      float64\n",
      " 8   age_transformation__age_at_hct_range_50-60         3 non-null      float64\n",
      " 9   age_transformation__age_at_hct_range_60-70         3 non-null      float64\n",
      " 10  age_transformation__age_at_hct_range_70+           3 non-null      float64\n",
      " 11  age_transformation__age_at_hct_range_Below 20      3 non-null      float64\n",
      " 12  cat_impute_transformation__dri_score               3 non-null      float64\n",
      " 13  cat_impute_transformation__psych_disturb           3 non-null      float64\n",
      " 14  cat_impute_transformation__diabetes                3 non-null      float64\n",
      " 15  cat_impute_transformation__tbi_status              3 non-null      float64\n",
      " 16  cat_impute_transformation__arrhythmia              3 non-null      float64\n",
      " 17  cat_impute_transformation__graft_type              3 non-null      float64\n",
      " 18  cat_impute_transformation__vent_hist               3 non-null      float64\n",
      " 19  cat_impute_transformation__renal_issue             3 non-null      float64\n",
      " 20  cat_impute_transformation__pulm_severe             3 non-null      float64\n",
      " 21  cat_impute_transformation__prim_disease_hct        3 non-null      float64\n",
      " 22  cat_impute_transformation__cmv_status              3 non-null      float64\n",
      " 23  cat_impute_transformation__rituximab               3 non-null      float64\n",
      " 24  cat_impute_transformation__prod_type               3 non-null      float64\n",
      " 25  cat_impute_transformation__conditioning_intensity  3 non-null      float64\n",
      " 26  cat_impute_transformation__ethnicity               3 non-null      float64\n",
      " 27  cat_impute_transformation__obesity                 3 non-null      float64\n",
      " 28  cat_impute_transformation__in_vivo_tcd             3 non-null      float64\n",
      " 29  cat_impute_transformation__hepatic_severe          3 non-null      float64\n",
      " 30  cat_impute_transformation__prior_tumor             3 non-null      float64\n",
      " 31  cat_impute_transformation__peptic_ulcer            3 non-null      float64\n",
      " 32  cat_impute_transformation__gvhd_proph              3 non-null      float64\n",
      " 33  cat_impute_transformation__rheum_issue             3 non-null      float64\n",
      " 34  cat_impute_transformation__sex_match               3 non-null      float64\n",
      " 35  cat_impute_transformation__race_group              3 non-null      float64\n",
      " 36  cat_impute_transformation__hepatic_mild            3 non-null      float64\n",
      " 37  cat_impute_transformation__donor_related           3 non-null      float64\n",
      " 38  cat_impute_transformation__melphalan_dose          3 non-null      float64\n",
      " 39  cat_impute_transformation__cardiac                 3 non-null      float64\n",
      " 40  cat_impute_transformation__pulm_moderate           3 non-null      float64\n",
      " 41  cyto_score_transformation__cyto_score              3 non-null      float64\n",
      " 42  outlier_transformation__comorbidity_score          3 non-null      float64\n",
      " 43  outlier_transformation__karnofsky_score            3 non-null      float64\n",
      " 44  num_transformation__hla_match_c_high               3 non-null      float64\n",
      " 45  num_transformation__hla_high_res_8                 3 non-null      float64\n",
      " 46  num_transformation__hla_low_res_6                  3 non-null      float64\n",
      " 47  num_transformation__hla_high_res_6                 3 non-null      float64\n",
      " 48  num_transformation__hla_high_res_10                3 non-null      float64\n",
      " 49  num_transformation__hla_match_dqb1_high            3 non-null      float64\n",
      " 50  num_transformation__hla_nmdp_6                     3 non-null      float64\n",
      " 51  num_transformation__hla_match_c_low                3 non-null      float64\n",
      " 52  num_transformation__hla_match_drb1_low             3 non-null      float64\n",
      " 53  num_transformation__hla_match_dqb1_low             3 non-null      float64\n",
      " 54  num_transformation__year_hct                       3 non-null      float64\n",
      " 55  num_transformation__hla_match_a_high               3 non-null      float64\n",
      " 56  num_transformation__hla_match_b_low                3 non-null      float64\n",
      " 57  num_transformation__hla_match_a_low                3 non-null      float64\n",
      " 58  num_transformation__hla_match_b_high               3 non-null      float64\n",
      " 59  num_transformation__hla_low_res_8                  3 non-null      float64\n",
      " 60  num_transformation__hla_match_drb1_high            3 non-null      float64\n",
      " 61  num_transformation__hla_low_res_10                 3 non-null      float64\n",
      "dtypes: float64(62)\n",
      "memory usage: 1.6 KB\n"
     ]
    }
   ],
   "source": [
    "df_test_transformed.info()"
   ]
  },
  {
   "cell_type": "code",
   "execution_count": 30,
   "id": "1d9353c8",
   "metadata": {
    "execution": {
     "iopub.execute_input": "2024-12-15T22:50:08.216406Z",
     "iopub.status.busy": "2024-12-15T22:50:08.216103Z",
     "iopub.status.idle": "2024-12-15T22:50:08.221092Z",
     "shell.execute_reply": "2024-12-15T22:50:08.220254Z"
    },
    "papermill": {
     "duration": 0.019603,
     "end_time": "2024-12-15T22:50:08.223068",
     "exception": false,
     "start_time": "2024-12-15T22:50:08.203465",
     "status": "completed"
    },
    "tags": []
   },
   "outputs": [
    {
     "data": {
      "text/plain": [
       "(28800, 62)"
      ]
     },
     "execution_count": 30,
     "metadata": {},
     "output_type": "execute_result"
    }
   ],
   "source": [
    "df_transformed_X.shape"
   ]
  },
  {
   "cell_type": "code",
   "execution_count": 31,
   "id": "afbb0e48",
   "metadata": {
    "execution": {
     "iopub.execute_input": "2024-12-15T22:50:08.250668Z",
     "iopub.status.busy": "2024-12-15T22:50:08.250345Z",
     "iopub.status.idle": "2024-12-15T22:50:08.257806Z",
     "shell.execute_reply": "2024-12-15T22:50:08.257060Z"
    },
    "papermill": {
     "duration": 0.020968,
     "end_time": "2024-12-15T22:50:08.259455",
     "exception": false,
     "start_time": "2024-12-15T22:50:08.238487",
     "status": "completed"
    },
    "tags": []
   },
   "outputs": [
    {
     "data": {
      "text/plain": [
       "ID\n",
       "0        0.0\n",
       "1        1.0\n",
       "2        0.0\n",
       "3        0.0\n",
       "4        0.0\n",
       "        ... \n",
       "28795    0.0\n",
       "28796    1.0\n",
       "28797    0.0\n",
       "28798    0.0\n",
       "28799    0.0\n",
       "Name: efs, Length: 28800, dtype: float64"
      ]
     },
     "execution_count": 31,
     "metadata": {},
     "output_type": "execute_result"
    }
   ],
   "source": [
    "y"
   ]
  },
  {
   "cell_type": "code",
   "execution_count": 32,
   "id": "f0b5c5ec",
   "metadata": {
    "execution": {
     "iopub.execute_input": "2024-12-15T22:50:08.277333Z",
     "iopub.status.busy": "2024-12-15T22:50:08.276725Z",
     "iopub.status.idle": "2024-12-15T22:50:08.292436Z",
     "shell.execute_reply": "2024-12-15T22:50:08.291662Z"
    },
    "papermill": {
     "duration": 0.026704,
     "end_time": "2024-12-15T22:50:08.294250",
     "exception": false,
     "start_time": "2024-12-15T22:50:08.267546",
     "status": "completed"
    },
    "tags": []
   },
   "outputs": [],
   "source": [
    "X_train,X_test,y_train,y_test = train_test_split(df_transformed_X,y, test_size=0.2, random_state=42)"
   ]
  },
  {
   "cell_type": "code",
   "execution_count": 33,
   "id": "a0eb5f64",
   "metadata": {
    "execution": {
     "iopub.execute_input": "2024-12-15T22:50:08.312466Z",
     "iopub.status.busy": "2024-12-15T22:50:08.311809Z",
     "iopub.status.idle": "2024-12-15T22:50:08.316983Z",
     "shell.execute_reply": "2024-12-15T22:50:08.315967Z"
    },
    "papermill": {
     "duration": 0.016507,
     "end_time": "2024-12-15T22:50:08.318997",
     "exception": false,
     "start_time": "2024-12-15T22:50:08.302490",
     "status": "completed"
    },
    "tags": []
   },
   "outputs": [
    {
     "name": "stdout",
     "output_type": "stream",
     "text": [
      "Using device: cuda\n"
     ]
    }
   ],
   "source": [
    "device = torch.device(\"cuda\" if torch.cuda.is_available() else \"cpu\")\n",
    "print(f\"Using device: {device}\")"
   ]
  },
  {
   "cell_type": "code",
   "execution_count": 34,
   "id": "6296a14d",
   "metadata": {
    "execution": {
     "iopub.execute_input": "2024-12-15T22:50:08.337067Z",
     "iopub.status.busy": "2024-12-15T22:50:08.336709Z",
     "iopub.status.idle": "2024-12-15T23:09:37.775983Z",
     "shell.execute_reply": "2024-12-15T23:09:37.775165Z"
    },
    "papermill": {
     "duration": 1169.450677,
     "end_time": "2024-12-15T23:09:37.777942",
     "exception": false,
     "start_time": "2024-12-15T22:50:08.327265",
     "status": "completed"
    },
    "tags": []
   },
   "outputs": [
    {
     "name": "stdout",
     "output_type": "stream",
     "text": [
      "Epoch [10/1000], Loss: 0.6162\n",
      "Epoch [20/1000], Loss: 0.6112\n",
      "Epoch [30/1000], Loss: 0.6101\n",
      "Epoch [40/1000], Loss: 0.6085\n",
      "Epoch [50/1000], Loss: 0.6072\n",
      "Epoch [60/1000], Loss: 0.6061\n",
      "Epoch [70/1000], Loss: 0.6061\n",
      "Epoch [80/1000], Loss: 0.6056\n",
      "Epoch [90/1000], Loss: 0.6059\n",
      "Epoch [100/1000], Loss: 0.6044\n",
      "Epoch [110/1000], Loss: 0.6041\n",
      "Epoch [120/1000], Loss: 0.6032\n",
      "Epoch [130/1000], Loss: 0.6042\n",
      "Epoch [140/1000], Loss: 0.6037\n",
      "Epoch [150/1000], Loss: 0.6036\n",
      "Epoch [160/1000], Loss: 0.6027\n",
      "Epoch [170/1000], Loss: 0.6034\n",
      "Epoch [180/1000], Loss: 0.6037\n",
      "Epoch [190/1000], Loss: 0.6023\n",
      "Epoch [200/1000], Loss: 0.6026\n",
      "Epoch [210/1000], Loss: 0.6025\n",
      "Epoch [220/1000], Loss: 0.6016\n",
      "Epoch [230/1000], Loss: 0.6011\n",
      "Epoch [240/1000], Loss: 0.6018\n",
      "Epoch [250/1000], Loss: 0.6021\n",
      "Epoch [260/1000], Loss: 0.6011\n",
      "Epoch [270/1000], Loss: 0.6011\n",
      "Epoch [280/1000], Loss: 0.6012\n",
      "Epoch [290/1000], Loss: 0.6008\n",
      "Epoch [300/1000], Loss: 0.6010\n",
      "Epoch [310/1000], Loss: 0.6002\n",
      "Epoch [320/1000], Loss: 0.6007\n",
      "Epoch [330/1000], Loss: 0.6010\n",
      "Epoch [340/1000], Loss: 0.6000\n",
      "Epoch [350/1000], Loss: 0.5996\n",
      "Epoch [360/1000], Loss: 0.6001\n",
      "Epoch [370/1000], Loss: 0.6010\n",
      "Epoch [380/1000], Loss: 0.6002\n",
      "Epoch [390/1000], Loss: 0.5992\n",
      "Epoch [400/1000], Loss: 0.5998\n",
      "Epoch [410/1000], Loss: 0.5988\n",
      "Epoch [420/1000], Loss: 0.5986\n",
      "Epoch [430/1000], Loss: 0.5992\n",
      "Epoch [440/1000], Loss: 0.5995\n",
      "Epoch [450/1000], Loss: 0.5979\n",
      "Epoch [460/1000], Loss: 0.5988\n",
      "Epoch [470/1000], Loss: 0.5991\n",
      "Epoch [480/1000], Loss: 0.5980\n",
      "Epoch [490/1000], Loss: 0.5995\n",
      "Epoch [500/1000], Loss: 0.5982\n",
      "Epoch [510/1000], Loss: 0.5996\n",
      "Epoch [520/1000], Loss: 0.5981\n",
      "Epoch [530/1000], Loss: 0.5986\n",
      "Epoch [540/1000], Loss: 0.5988\n",
      "Epoch [550/1000], Loss: 0.5989\n",
      "Epoch [560/1000], Loss: 0.5982\n",
      "Epoch [570/1000], Loss: 0.5986\n",
      "Epoch [580/1000], Loss: 0.5992\n",
      "Epoch [590/1000], Loss: 0.5980\n",
      "Epoch [600/1000], Loss: 0.5985\n",
      "Epoch [610/1000], Loss: 0.5990\n",
      "Epoch [620/1000], Loss: 0.5987\n",
      "Epoch [630/1000], Loss: 0.5981\n",
      "Epoch [640/1000], Loss: 0.5999\n",
      "Epoch [650/1000], Loss: 0.5979\n",
      "Epoch [660/1000], Loss: 0.5977\n",
      "Epoch [670/1000], Loss: 0.5969\n",
      "Epoch [680/1000], Loss: 0.5982\n",
      "Epoch [690/1000], Loss: 0.5969\n",
      "Epoch [700/1000], Loss: 0.5983\n",
      "Epoch [710/1000], Loss: 0.5972\n",
      "Epoch [720/1000], Loss: 0.5966\n",
      "Epoch [730/1000], Loss: 0.5983\n",
      "Epoch [740/1000], Loss: 0.5986\n",
      "Epoch [750/1000], Loss: 0.6002\n",
      "Epoch [760/1000], Loss: 0.5993\n",
      "Epoch [770/1000], Loss: 0.5981\n",
      "Epoch [780/1000], Loss: 0.5983\n",
      "Epoch [790/1000], Loss: 0.5969\n",
      "Epoch [800/1000], Loss: 0.5975\n",
      "Epoch [810/1000], Loss: 0.5978\n",
      "Epoch [820/1000], Loss: 0.5976\n",
      "Epoch [830/1000], Loss: 0.5969\n",
      "Epoch [840/1000], Loss: 0.5965\n",
      "Epoch [850/1000], Loss: 0.5989\n",
      "Epoch [860/1000], Loss: 0.5969\n",
      "Epoch [870/1000], Loss: 0.5972\n",
      "Epoch [880/1000], Loss: 0.5971\n",
      "Epoch [890/1000], Loss: 0.5976\n",
      "Epoch [900/1000], Loss: 0.5966\n",
      "Epoch [910/1000], Loss: 0.5980\n",
      "Epoch [920/1000], Loss: 0.5978\n",
      "Epoch [930/1000], Loss: 0.5968\n",
      "Epoch [940/1000], Loss: 0.5967\n",
      "Epoch [950/1000], Loss: 0.5962\n",
      "Epoch [960/1000], Loss: 0.5970\n",
      "Epoch [970/1000], Loss: 0.5967\n",
      "Epoch [980/1000], Loss: 0.5960\n",
      "Epoch [990/1000], Loss: 0.5974\n",
      "Epoch [1000/1000], Loss: 0.5973\n"
     ]
    }
   ],
   "source": [
    "import torch\n",
    "import torch.nn as nn\n",
    "import torch.optim as optim\n",
    "from torch.utils.data import DataLoader, TensorDataset\n",
    "\n",
    "# Define the Neural Network architecture\n",
    "class BinaryClassificationNN(nn.Module):\n",
    "    def __init__(self, input_size=df_transformed_X.shape[1], hidden_size=10, output_size=1):\n",
    "        super(BinaryClassificationNN, self).__init__()\n",
    "        \n",
    "        # Define the layers\n",
    "        self.fc1 = nn.Linear(input_size, hidden_size)  # Input to first hidden layer\n",
    "        self.fc2 = nn.Linear(hidden_size, hidden_size)  # First to second hidden layer\n",
    "        self.fc3 = nn.Linear(hidden_size, output_size)  # Second hidden layer to output\n",
    "        \n",
    "        # Define the activation function\n",
    "        self.relu = nn.ReLU()  # ReLU activation for hidden layers\n",
    "        self.sigmoid = nn.Sigmoid()  # Sigmoid activation for the output layer\n",
    "\n",
    "    def forward(self, x):\n",
    "        # Forward pass through the network\n",
    "        x = self.relu(self.fc1(x))  # Apply ReLU to the first hidden layer\n",
    "        x = self.relu(self.fc2(x))  # Apply ReLU to the second hidden layer\n",
    "        x = self.sigmoid(self.fc3(x))  # Apply Sigmoid to the output layer\n",
    "        return x\n",
    "\n",
    "\n",
    "def train_model(X_train_tensor, y_train_tensor, model, epochs=1000, batch_size=32, learning_rate=0.01):\n",
    "    # Convert the data to PyTorch tensors\n",
    "    \n",
    "    # Create a DataLoader for batching\n",
    "    train_dataset = TensorDataset(X_train_tensor, y_train_tensor)\n",
    "    train_loader = DataLoader(dataset=train_dataset, batch_size=batch_size, shuffle=True)\n",
    "    \n",
    "    # Define the loss function and optimizer\n",
    "    criterion = nn.BCELoss()  # Binary Cross-Entropy Loss for binary classification\n",
    "    optimizer = optim.Adam(model.parameters(),lr=learning_rate,betas=(0.9, 0.999), eps=1e-7)\n",
    "    \n",
    "    # Training loop\n",
    "    for epoch in range(epochs):\n",
    "        model.train()  # Set the model to training mode\n",
    "        running_loss = 0.0\n",
    "        \n",
    "        for inputs, labels in train_loader:\n",
    "            # Zero the gradients\n",
    "            optimizer.zero_grad()\n",
    "\n",
    "            # Forward pass\n",
    "            outputs = model(inputs)\n",
    "\n",
    "            # Calculate the loss\n",
    "            loss = criterion(outputs, labels)\n",
    "\n",
    "            # Backward pass and optimization\n",
    "            loss.backward()\n",
    "            optimizer.step()\n",
    "\n",
    "            running_loss += loss.item()\n",
    "        \n",
    "        # Print the loss for every 10 epochs\n",
    "        if (epoch+1) % 10 == 0:\n",
    "            print(f'Epoch [{epoch+1}/{epochs}], Loss: {running_loss/len(train_loader):.4f}')\n",
    "\n",
    "\n",
    "input_size = df_transformed_X.shape[1]  # Number of input features\n",
    "output_size = 1  # Single output for binary classification\n",
    "\n",
    "# Create the model instance\n",
    "model = BinaryClassificationNN(input_size=input_size, output_size=output_size)\n",
    "\n",
    "X_train_tensor = torch.tensor(X_train.to_numpy(), dtype=torch.float32)\n",
    "y_train_tensor = torch.tensor(y_train.to_numpy(), dtype=torch.float32).view(-1, 1)\n",
    "\n",
    "X_train_tensor = X_train_tensor.to(device)\n",
    "y_train_tensor = y_train_tensor.to(device)\n",
    "\n",
    "\n",
    "model = model.to(device)\n",
    "\n",
    "\n",
    "# Train the model\n",
    "train_model(X_train_tensor, y_train_tensor, model)"
   ]
  },
  {
   "cell_type": "code",
   "execution_count": 35,
   "id": "598a22d0",
   "metadata": {
    "execution": {
     "iopub.execute_input": "2024-12-15T23:09:37.804617Z",
     "iopub.status.busy": "2024-12-15T23:09:37.804164Z",
     "iopub.status.idle": "2024-12-15T23:09:37.999298Z",
     "shell.execute_reply": "2024-12-15T23:09:37.998063Z"
    },
    "papermill": {
     "duration": 0.21194,
     "end_time": "2024-12-15T23:09:38.002796",
     "exception": false,
     "start_time": "2024-12-15T23:09:37.790856",
     "status": "completed"
    },
    "tags": []
   },
   "outputs": [
    {
     "name": "stdout",
     "output_type": "stream",
     "text": [
      "Accuracy: 0.6457\n",
      "Confusion Matrix:\n",
      " \n"
     ]
    },
    {
     "data": {
      "image/png": "[encoded data removed]",
      "text/plain": [
       "<Figure size 600x500 with 1 Axes>"
      ]
     },
     "metadata": {},
     "output_type": "display_data"
    }
   ],
   "source": [
    "device = torch.device(\"cuda\" if torch.cuda.is_available() else \"cpu\")\n",
    "model = model.to(device)\n",
    "\n",
    "X_test_tensor = torch.tensor(X_test.to_numpy(), dtype=torch.float32)\n",
    "y_test_tensor = torch.tensor(y_test.to_numpy(), dtype=torch.float32)\n",
    "\n",
    "X_test_tensor = X_test_tensor.to(device)\n",
    "y_test_tensor = y_test_tensor.to(device)\n",
    "\n",
    "# Set the model to evaluation mode\n",
    "model.eval()\n",
    "# Make predictions on the test data128\n",
    "with torch.no_grad():  # No need to compute gradients for prediction\n",
    "    y_pred_prob = model(X_test_tensor)  # Output will be between 0 and 1 (probability)\n",
    "\n",
    "# Convert probabilities to binary predictions (threshold of 0.5)\n",
    "y_pred = (y_pred_prob > 0.5).float()\n",
    "# 1. Calculate Accuracy\n",
    "\n",
    " \n",
    "y_pred = y_pred.cpu().numpy()\n",
    "\n",
    "accuracy = accuracy_score(y_test, y_pred)\n",
    "print(f'Accuracy: {accuracy:.4f}')\n",
    "\n",
    "# 2. Confusion Matrix\n",
    "cm = confusion_matrix(y_test, y_pred)\n",
    "print(f'Confusion Matrix:\\n ')\n",
    "\n",
    "# 3. Plot Confusion Matrix as a Heatmap\n",
    "def plot_confusion_matrix(cm):\n",
    "    # Plot using seaborn heatmap\n",
    "    plt.figure(figsize=(6, 5))\n",
    "    sns.heatmap(cm, annot=True, fmt='d', cmap='Blues', cbar=False,\n",
    "                xticklabels=['Predicted 0', 'Predicted 1'], yticklabels=['Actual 0', 'Actual 1'])\n",
    "    plt.title('Confusion Matrix Heatmap')\n",
    "    plt.xlabel('Predicted Labels')\n",
    "    plt.ylabel('True Labels')\n",
    "    plt.show()\n",
    "\n",
    "# Call the function to plot the confusion matrix\n",
    "plot_confusion_matrix(cm)"
   ]
  },
  {
   "cell_type": "code",
   "execution_count": 36,
   "id": "db3c5e63",
   "metadata": {
    "execution": {
     "iopub.execute_input": "2024-12-15T23:09:38.062837Z",
     "iopub.status.busy": "2024-12-15T23:09:38.062547Z",
     "iopub.status.idle": "2024-12-15T23:09:38.238358Z",
     "shell.execute_reply": "2024-12-15T23:09:38.237488Z"
    },
    "papermill": {
     "duration": 0.19482,
     "end_time": "2024-12-15T23:09:38.240137",
     "exception": false,
     "start_time": "2024-12-15T23:09:38.045317",
     "status": "completed"
    },
    "tags": []
   },
   "outputs": [
    {
     "data": {
      "text/plain": [
       "tensor([[0.7154],\n",
       "        [0.6354],\n",
       "        [0.6354],\n",
       "        ...,\n",
       "        [0.0385],\n",
       "        [0.5460],\n",
       "        [0.5037]], device='cuda:0')"
      ]
     },
     "execution_count": 36,
     "metadata": {},
     "output_type": "execute_result"
    }
   ],
   "source": [
    "y_pred_prob"
   ]
  },
  {
   "cell_type": "code",
   "execution_count": 37,
   "id": "3426a5c7",
   "metadata": {
    "execution": {
     "iopub.execute_input": "2024-12-15T23:09:38.268121Z",
     "iopub.status.busy": "2024-12-15T23:09:38.267783Z",
     "iopub.status.idle": "2024-12-15T23:09:38.271952Z",
     "shell.execute_reply": "2024-12-15T23:09:38.271302Z"
    },
    "papermill": {
     "duration": 0.019864,
     "end_time": "2024-12-15T23:09:38.273574",
     "exception": false,
     "start_time": "2024-12-15T23:09:38.253710",
     "status": "completed"
    },
    "tags": []
   },
   "outputs": [],
   "source": [
    "# Convert X_test to a PyTorch tensor\n",
    "df_test_tensor = torch.tensor(df_test_transformed.to_numpy(), dtype=torch.float32)"
   ]
  },
  {
   "cell_type": "code",
   "execution_count": 38,
   "id": "d4556f6f",
   "metadata": {
    "execution": {
     "iopub.execute_input": "2024-12-15T23:09:38.299878Z",
     "iopub.status.busy": "2024-12-15T23:09:38.299628Z",
     "iopub.status.idle": "2024-12-15T23:09:38.317366Z",
     "shell.execute_reply": "2024-12-15T23:09:38.316558Z"
    },
    "papermill": {
     "duration": 0.032723,
     "end_time": "2024-12-15T23:09:38.318970",
     "exception": false,
     "start_time": "2024-12-15T23:09:38.286247",
     "status": "completed"
    },
    "tags": []
   },
   "outputs": [],
   "source": [
    "# Ensure the test tensor is on the same device\n",
    "df_test_tensor = df_test_tensor.to(device)\n",
    "\n",
    "# Make predictions on the test data\n",
    "with torch.no_grad():  # No need to compute gradients for prediction\n",
    "    y_pred_test = model(df_test_tensor)  # Output will be between 0 and 1 (probability)\n",
    "\n",
    "# If further processing requires CPU, move predictions back to CPU\n",
    "y_pred_test = y_pred_test.cpu().numpy()"
   ]
  },
  {
   "cell_type": "code",
   "execution_count": 39,
   "id": "0849c91e",
   "metadata": {
    "execution": {
     "iopub.execute_input": "2024-12-15T23:09:38.345215Z",
     "iopub.status.busy": "2024-12-15T23:09:38.344942Z",
     "iopub.status.idle": "2024-12-15T23:09:38.350257Z",
     "shell.execute_reply": "2024-12-15T23:09:38.349442Z"
    },
    "papermill": {
     "duration": 0.020207,
     "end_time": "2024-12-15T23:09:38.351806",
     "exception": false,
     "start_time": "2024-12-15T23:09:38.331599",
     "status": "completed"
    },
    "tags": []
   },
   "outputs": [
    {
     "data": {
      "text/plain": [
       "array([[0.08184302],\n",
       "       [0.77021253],\n",
       "       [0.08117159]], dtype=float32)"
      ]
     },
     "execution_count": 39,
     "metadata": {},
     "output_type": "execute_result"
    }
   ],
   "source": [
    "y_pred_test"
   ]
  },
  {
   "cell_type": "code",
   "execution_count": 40,
   "id": "0a1a4eb6",
   "metadata": {
    "execution": {
     "iopub.execute_input": "2024-12-15T23:09:38.378311Z",
     "iopub.status.busy": "2024-12-15T23:09:38.378093Z",
     "iopub.status.idle": "2024-12-15T23:09:38.382467Z",
     "shell.execute_reply": "2024-12-15T23:09:38.381850Z"
    },
    "papermill": {
     "duration": 0.019299,
     "end_time": "2024-12-15T23:09:38.383930",
     "exception": false,
     "start_time": "2024-12-15T23:09:38.364631",
     "status": "completed"
    },
    "tags": []
   },
   "outputs": [],
   "source": [
    "output = pd.DataFrame(y_pred_test, index=df_test.index, columns=['prediction']).reset_index()\n"
   ]
  },
  {
   "cell_type": "code",
   "execution_count": 41,
   "id": "d52b19a3",
   "metadata": {
    "execution": {
     "iopub.execute_input": "2024-12-15T23:09:38.411272Z",
     "iopub.status.busy": "2024-12-15T23:09:38.410989Z",
     "iopub.status.idle": "2024-12-15T23:09:38.418796Z",
     "shell.execute_reply": "2024-12-15T23:09:38.417992Z"
    },
    "papermill": {
     "duration": 0.022913,
     "end_time": "2024-12-15T23:09:38.420367",
     "exception": false,
     "start_time": "2024-12-15T23:09:38.397454",
     "status": "completed"
    },
    "tags": []
   },
   "outputs": [
    {
     "data": {
      "text/html": [
       "<div>\n",
       "<style scoped>\n",
       "    .dataframe tbody tr th:only-of-type {\n",
       "        vertical-align: middle;\n",
       "    }\n",
       "\n",
       "    .dataframe tbody tr th {\n",
       "        vertical-align: top;\n",
       "    }\n",
       "\n",
       "    .dataframe thead th {\n",
       "        text-align: right;\n",
       "    }\n",
       "</style>\n",
       "<table border=\"1\" class=\"dataframe\">\n",
       "  <thead>\n",
       "    <tr style=\"text-align: right;\">\n",
       "      <th></th>\n",
       "      <th>ID</th>\n",
       "      <th>prediction</th>\n",
       "    </tr>\n",
       "  </thead>\n",
       "  <tbody>\n",
       "    <tr>\n",
       "      <th>0</th>\n",
       "      <td>28800</td>\n",
       "      <td>0.081843</td>\n",
       "    </tr>\n",
       "    <tr>\n",
       "      <th>1</th>\n",
       "      <td>28801</td>\n",
       "      <td>0.770213</td>\n",
       "    </tr>\n",
       "    <tr>\n",
       "      <th>2</th>\n",
       "      <td>28802</td>\n",
       "      <td>0.081172</td>\n",
       "    </tr>\n",
       "  </tbody>\n",
       "</table>\n",
       "</div>"
      ],
      "text/plain": [
       "      ID  prediction\n",
       "0  28800    0.081843\n",
       "1  28801    0.770213\n",
       "2  28802    0.081172"
      ]
     },
     "execution_count": 41,
     "metadata": {},
     "output_type": "execute_result"
    }
   ],
   "source": [
    "output.head()"
   ]
  },
  {
   "cell_type": "code",
   "execution_count": 42,
   "id": "e74c6102",
   "metadata": {
    "execution": {
     "iopub.execute_input": "2024-12-15T23:09:38.447214Z",
     "iopub.status.busy": "2024-12-15T23:09:38.446747Z",
     "iopub.status.idle": "2024-12-15T23:09:38.452466Z",
     "shell.execute_reply": "2024-12-15T23:09:38.451863Z"
    },
    "papermill": {
     "duration": 0.020574,
     "end_time": "2024-12-15T23:09:38.453874",
     "exception": false,
     "start_time": "2024-12-15T23:09:38.433300",
     "status": "completed"
    },
    "tags": []
   },
   "outputs": [],
   "source": [
    "submission = output.to_csv('/kaggle/working/submission.csv', index=False)"
   ]
  }
 ],
 "metadata": {
  "kaggle": {
   "accelerator": "nvidiaTeslaT4",
   "dataSources": [
    {
     "databundleVersionId": 10381525,
     "sourceId": 70942,
     "sourceType": "competition"
    }
   ],
   "dockerImageVersionId": 30805,
   "isGpuEnabled": true,
   "isInternetEnabled": false,
   "language": "python",
   "sourceType": "notebook"
  },
  "kernelspec": {
   "display_name": "Python 3",
   "language": "python",
   "name": "python3"
  },
  "language_info": {
   "codemirror_mode": {
    "name": "ipython",
    "version": 3
   },
   "file_extension": ".py",
   "mimetype": "text/x-python",
   "name": "python",
   "nbconvert_exporter": "python",
   "pygments_lexer": "ipython3",
   "version": "3.10.14"
  },
  "papermill": {
   "default_parameters": {},
   "duration": 1180.968201,
   "end_time": "2024-12-15T23:09:39.786660",
   "environment_variables": {},
   "exception": null,
   "input_path": "__notebook__.ipynb",
   "output_path": "__notebook__.ipynb",
   "parameters": {},
   "start_time": "2024-12-15T22:49:58.818459",
   "version": "2.6.0"
  }
 },
 "nbformat": 4,
 "nbformat_minor": 5
}
