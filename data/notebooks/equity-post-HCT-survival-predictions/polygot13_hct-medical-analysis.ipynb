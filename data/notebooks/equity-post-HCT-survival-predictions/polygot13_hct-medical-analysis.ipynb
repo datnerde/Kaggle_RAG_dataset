{
 "cells": [
  {
   "cell_type": "code",
   "execution_count": 1,
   "id": "b0f125da",
   "metadata": {
    "_cell_guid": "b1076dfc-b9ad-4769-8c92-a6c4dae69d19",
    "_uuid": "8f2839f25d086af736a60e9eeb907d3b93b6e0e5",
    "execution": {
     "iopub.execute_input": "2024-12-18T20:16:45.075399Z",
     "iopub.status.busy": "2024-12-18T20:16:45.075078Z",
     "iopub.status.idle": "2024-12-18T20:16:47.043150Z",
     "shell.execute_reply": "2024-12-18T20:16:47.042489Z"
    },
    "papermill": {
     "duration": 1.978202,
     "end_time": "2024-12-18T20:16:47.045176",
     "exception": false,
     "start_time": "2024-12-18T20:16:45.066974",
     "status": "completed"
    },
    "tags": []
   },
   "outputs": [],
   "source": [
    "import numpy as np \n",
    "import pandas as pd \n",
    "import seaborn as sns \n",
    "import matplotlib.pyplot as plt"
   ]
  },
  {
   "cell_type": "code",
   "execution_count": 2,
   "id": "f4bc1134",
   "metadata": {
    "execution": {
     "iopub.execute_input": "2024-12-18T20:16:47.060995Z",
     "iopub.status.busy": "2024-12-18T20:16:47.060290Z",
     "iopub.status.idle": "2024-12-18T20:16:47.386883Z",
     "shell.execute_reply": "2024-12-18T20:16:47.386147Z"
    },
    "papermill": {
     "duration": 0.335782,
     "end_time": "2024-12-18T20:16:47.388857",
     "exception": false,
     "start_time": "2024-12-18T20:16:47.053075",
     "status": "completed"
    },
    "tags": []
   },
   "outputs": [],
   "source": [
    "train_data  = pd.read_csv('/kaggle/input/equity-post-HCT-survival-predictions/train.csv')\n",
    "test_data  = pd.read_csv('/kaggle/input/equity-post-HCT-survival-predictions/test.csv')"
   ]
  },
  {
   "cell_type": "code",
   "execution_count": 3,
   "id": "368f7199",
   "metadata": {
    "execution": {
     "iopub.execute_input": "2024-12-18T20:16:47.403023Z",
     "iopub.status.busy": "2024-12-18T20:16:47.402702Z",
     "iopub.status.idle": "2024-12-18T20:16:47.434161Z",
     "shell.execute_reply": "2024-12-18T20:16:47.433272Z"
    },
    "papermill": {
     "duration": 0.040608,
     "end_time": "2024-12-18T20:16:47.435978",
     "exception": false,
     "start_time": "2024-12-18T20:16:47.395370",
     "status": "completed"
    },
    "tags": []
   },
   "outputs": [
    {
     "data": {
      "text/html": [
       "<div>\n",
       "<style scoped>\n",
       "    .dataframe tbody tr th:only-of-type {\n",
       "        vertical-align: middle;\n",
       "    }\n",
       "\n",
       "    .dataframe tbody tr th {\n",
       "        vertical-align: top;\n",
       "    }\n",
       "\n",
       "    .dataframe thead th {\n",
       "        text-align: right;\n",
       "    }\n",
       "</style>\n",
       "<table border=\"1\" class=\"dataframe\">\n",
       "  <thead>\n",
       "    <tr style=\"text-align: right;\">\n",
       "      <th></th>\n",
       "      <th>ID</th>\n",
       "      <th>dri_score</th>\n",
       "      <th>psych_disturb</th>\n",
       "      <th>cyto_score</th>\n",
       "      <th>diabetes</th>\n",
       "      <th>hla_match_c_high</th>\n",
       "      <th>hla_high_res_8</th>\n",
       "      <th>tbi_status</th>\n",
       "      <th>arrhythmia</th>\n",
       "      <th>hla_low_res_6</th>\n",
       "      <th>...</th>\n",
       "      <th>karnofsky_score</th>\n",
       "      <th>hepatic_mild</th>\n",
       "      <th>tce_div_match</th>\n",
       "      <th>donor_related</th>\n",
       "      <th>melphalan_dose</th>\n",
       "      <th>hla_low_res_8</th>\n",
       "      <th>cardiac</th>\n",
       "      <th>hla_match_drb1_high</th>\n",
       "      <th>pulm_moderate</th>\n",
       "      <th>hla_low_res_10</th>\n",
       "    </tr>\n",
       "  </thead>\n",
       "  <tbody>\n",
       "    <tr>\n",
       "      <th>0</th>\n",
       "      <td>28800</td>\n",
       "      <td>N/A - non-malignant indication</td>\n",
       "      <td>No</td>\n",
       "      <td>NaN</td>\n",
       "      <td>No</td>\n",
       "      <td>NaN</td>\n",
       "      <td>NaN</td>\n",
       "      <td>No TBI</td>\n",
       "      <td>No</td>\n",
       "      <td>6.0</td>\n",
       "      <td>...</td>\n",
       "      <td>90.0</td>\n",
       "      <td>No</td>\n",
       "      <td>NaN</td>\n",
       "      <td>Unrelated</td>\n",
       "      <td>N/A, Mel not given</td>\n",
       "      <td>8.0</td>\n",
       "      <td>No</td>\n",
       "      <td>2.0</td>\n",
       "      <td>No</td>\n",
       "      <td>10.0</td>\n",
       "    </tr>\n",
       "    <tr>\n",
       "      <th>1</th>\n",
       "      <td>28801</td>\n",
       "      <td>Intermediate</td>\n",
       "      <td>No</td>\n",
       "      <td>Intermediate</td>\n",
       "      <td>No</td>\n",
       "      <td>2.0</td>\n",
       "      <td>8.0</td>\n",
       "      <td>TBI +- Other, &gt;cGy</td>\n",
       "      <td>No</td>\n",
       "      <td>6.0</td>\n",
       "      <td>...</td>\n",
       "      <td>90.0</td>\n",
       "      <td>No</td>\n",
       "      <td>Permissive mismatched</td>\n",
       "      <td>Related</td>\n",
       "      <td>N/A, Mel not given</td>\n",
       "      <td>8.0</td>\n",
       "      <td>No</td>\n",
       "      <td>2.0</td>\n",
       "      <td>Yes</td>\n",
       "      <td>10.0</td>\n",
       "    </tr>\n",
       "    <tr>\n",
       "      <th>2</th>\n",
       "      <td>28802</td>\n",
       "      <td>N/A - non-malignant indication</td>\n",
       "      <td>No</td>\n",
       "      <td>NaN</td>\n",
       "      <td>No</td>\n",
       "      <td>2.0</td>\n",
       "      <td>8.0</td>\n",
       "      <td>No TBI</td>\n",
       "      <td>No</td>\n",
       "      <td>6.0</td>\n",
       "      <td>...</td>\n",
       "      <td>90.0</td>\n",
       "      <td>No</td>\n",
       "      <td>Permissive mismatched</td>\n",
       "      <td>Related</td>\n",
       "      <td>N/A, Mel not given</td>\n",
       "      <td>8.0</td>\n",
       "      <td>No</td>\n",
       "      <td>2.0</td>\n",
       "      <td>No</td>\n",
       "      <td>10.0</td>\n",
       "    </tr>\n",
       "  </tbody>\n",
       "</table>\n",
       "<p>3 rows × 58 columns</p>\n",
       "</div>"
      ],
      "text/plain": [
       "      ID                       dri_score psych_disturb    cyto_score diabetes  \\\n",
       "0  28800  N/A - non-malignant indication            No           NaN       No   \n",
       "1  28801                    Intermediate            No  Intermediate       No   \n",
       "2  28802  N/A - non-malignant indication            No           NaN       No   \n",
       "\n",
       "   hla_match_c_high  hla_high_res_8          tbi_status arrhythmia  \\\n",
       "0               NaN             NaN              No TBI         No   \n",
       "1               2.0             8.0  TBI +- Other, >cGy         No   \n",
       "2               2.0             8.0              No TBI         No   \n",
       "\n",
       "   hla_low_res_6  ... karnofsky_score hepatic_mild          tce_div_match  \\\n",
       "0            6.0  ...            90.0           No                    NaN   \n",
       "1            6.0  ...            90.0           No  Permissive mismatched   \n",
       "2            6.0  ...            90.0           No  Permissive mismatched   \n",
       "\n",
       "  donor_related      melphalan_dose  hla_low_res_8 cardiac  \\\n",
       "0     Unrelated  N/A, Mel not given            8.0      No   \n",
       "1       Related  N/A, Mel not given            8.0      No   \n",
       "2       Related  N/A, Mel not given            8.0      No   \n",
       "\n",
       "   hla_match_drb1_high  pulm_moderate hla_low_res_10  \n",
       "0                  2.0             No           10.0  \n",
       "1                  2.0            Yes           10.0  \n",
       "2                  2.0             No           10.0  \n",
       "\n",
       "[3 rows x 58 columns]"
      ]
     },
     "execution_count": 3,
     "metadata": {},
     "output_type": "execute_result"
    }
   ],
   "source": [
    "test_data.head(3)"
   ]
  },
  {
   "cell_type": "code",
   "execution_count": 4,
   "id": "d11c5755",
   "metadata": {
    "execution": {
     "iopub.execute_input": "2024-12-18T20:16:47.450614Z",
     "iopub.status.busy": "2024-12-18T20:16:47.450300Z",
     "iopub.status.idle": "2024-12-18T20:16:47.464073Z",
     "shell.execute_reply": "2024-12-18T20:16:47.463398Z"
    },
    "papermill": {
     "duration": 0.022944,
     "end_time": "2024-12-18T20:16:47.465768",
     "exception": false,
     "start_time": "2024-12-18T20:16:47.442824",
     "status": "completed"
    },
    "tags": []
   },
   "outputs": [],
   "source": [
    "labels_efs = train_data['efs']\n",
    "labels_efs_time = train_data['efs_time']\n",
    "\n",
    "train_data.drop( ['ID' , 'efs' ,'efs_time'] , axis=1 , inplace = True )\n",
    "\n",
    "test_id = test_data['ID']\n",
    "\n",
    "test_data.drop( 'ID' , axis=1 ,  inplace = True )"
   ]
  },
  {
   "cell_type": "code",
   "execution_count": 5,
   "id": "f09ea047",
   "metadata": {
    "execution": {
     "iopub.execute_input": "2024-12-18T20:16:47.480434Z",
     "iopub.status.busy": "2024-12-18T20:16:47.479865Z",
     "iopub.status.idle": "2024-12-18T20:16:47.488138Z",
     "shell.execute_reply": "2024-12-18T20:16:47.487314Z"
    },
    "papermill": {
     "duration": 0.017244,
     "end_time": "2024-12-18T20:16:47.489780",
     "exception": false,
     "start_time": "2024-12-18T20:16:47.472536",
     "status": "completed"
    },
    "tags": []
   },
   "outputs": [],
   "source": [
    "data_dict = pd.read_csv('/kaggle/input/equity-post-HCT-survival-predictions/data_dictionary.csv')\n"
   ]
  },
  {
   "cell_type": "code",
   "execution_count": 6,
   "id": "5a295bc3",
   "metadata": {
    "execution": {
     "iopub.execute_input": "2024-12-18T20:16:47.503857Z",
     "iopub.status.busy": "2024-12-18T20:16:47.503607Z",
     "iopub.status.idle": "2024-12-18T20:16:47.511998Z",
     "shell.execute_reply": "2024-12-18T20:16:47.511219Z"
    },
    "papermill": {
     "duration": 0.017723,
     "end_time": "2024-12-18T20:16:47.514012",
     "exception": false,
     "start_time": "2024-12-18T20:16:47.496289",
     "status": "completed"
    },
    "tags": []
   },
   "outputs": [
    {
     "name": "stdout",
     "output_type": "stream",
     "text": [
      "36\n"
     ]
    }
   ],
   "source": [
    "cat_cols = []\n",
    "num_cols = [] \n",
    "\n",
    "for i in range( len(data_dict) )  :\n",
    "    curr = data_dict.loc[i]['variable']\n",
    "    \n",
    "    if data_dict.loc[i]['type']=='Categorical' :\n",
    "        cat_cols.append( curr )\n",
    "    else :\n",
    "        num_cols.append( curr )\n",
    "\n",
    "print( len(cat_cols) )\n",
    "\n",
    "if 'ID' in cat_cols :\n",
    "    cat_cols.remove('id')\n",
    "elif 'ID' in num_cols :\n",
    "    num_cols.remove('id')\n",
    " \n",
    "# no id till now "
   ]
  },
  {
   "cell_type": "code",
   "execution_count": 7,
   "id": "10a286d5",
   "metadata": {
    "execution": {
     "iopub.execute_input": "2024-12-18T20:16:47.527987Z",
     "iopub.status.busy": "2024-12-18T20:16:47.527724Z",
     "iopub.status.idle": "2024-12-18T20:16:47.531231Z",
     "shell.execute_reply": "2024-12-18T20:16:47.530493Z"
    },
    "papermill": {
     "duration": 0.012434,
     "end_time": "2024-12-18T20:16:47.532859",
     "exception": false,
     "start_time": "2024-12-18T20:16:47.520425",
     "status": "completed"
    },
    "tags": []
   },
   "outputs": [],
   "source": [
    "# train_data['efs'].unique()\n",
    "\n",
    "cat_cols.remove('efs')\n"
   ]
  },
  {
   "cell_type": "code",
   "execution_count": 8,
   "id": "22bb8450",
   "metadata": {
    "execution": {
     "iopub.execute_input": "2024-12-18T20:16:47.547060Z",
     "iopub.status.busy": "2024-12-18T20:16:47.546518Z",
     "iopub.status.idle": "2024-12-18T20:16:47.717745Z",
     "shell.execute_reply": "2024-12-18T20:16:47.717072Z"
    },
    "papermill": {
     "duration": 0.180399,
     "end_time": "2024-12-18T20:16:47.719595",
     "exception": false,
     "start_time": "2024-12-18T20:16:47.539196",
     "status": "completed"
    },
    "tags": []
   },
   "outputs": [
    {
     "name": "stdout",
     "output_type": "stream",
     "text": [
      "13\n"
     ]
    }
   ],
   "source": [
    "# DO  ORDINAL ENCODING WITH CAT COLS WITH ( NO = 0 , YES = 1 , NOT DONE =-1 , NaN = mode high freq )\n",
    "\n",
    "cols_4_cat = [] \n",
    "\n",
    "for col in cat_cols :\n",
    "    if  set(['No' ,'Yes' ,'Not done']).issubset(train_data[col].unique()) :\n",
    "        cols_4_cat.append( col )\n",
    "\n",
    "print( len(cols_4_cat))\n",
    "\n",
    "# impute with mode (f ro cosl with 3-4 categories of yes , no , not done )\n",
    "\n",
    "for col in cols_4_cat :\n",
    "    train_data.fillna( { col : train_data[col].mode()[0] } , inplace  =True )\n",
    "    test_data.fillna( { col : train_data[col].mode()[0] } , inplace  =True )\n",
    "\n",
    "# cols with ONLY no yes  , impute with mode \n",
    "\n",
    "cols_2_cat = []\n",
    "\n",
    "for col in cat_cols :\n",
    "    un_ = train_data[col].unique()\n",
    "    if len(un_)==3 and ('No' in un_) and ( 'Yes' in un_ ) and not ('Not done' in un_):\n",
    "        cols_2_cat.append(col)\n",
    "\n",
    "        \n",
    "for col in cols_2_cat :\n",
    "    train_data.fillna( { col : train_data[col].mode()[0]} , inplace = True )\n",
    "    # to prevent Data Leakege prevent mode of test Data \n",
    "    test_data.fillna( { col : train_data[col].mode()[0]} , inplace = True )\n",
    "    "
   ]
  },
  {
   "cell_type": "code",
   "execution_count": 9,
   "id": "9d94db0f",
   "metadata": {
    "execution": {
     "iopub.execute_input": "2024-12-18T20:16:47.734366Z",
     "iopub.status.busy": "2024-12-18T20:16:47.733772Z",
     "iopub.status.idle": "2024-12-18T20:16:47.962702Z",
     "shell.execute_reply": "2024-12-18T20:16:47.961974Z"
    },
    "papermill": {
     "duration": 0.238382,
     "end_time": "2024-12-18T20:16:47.964627",
     "exception": false,
     "start_time": "2024-12-18T20:16:47.726245",
     "status": "completed"
    },
    "tags": []
   },
   "outputs": [],
   "source": [
    "# Now , do Ordinal encoding \n",
    "\n",
    "from sklearn.preprocessing import OrdinalEncoder \n",
    "\n",
    "ordinal_en = OrdinalEncoder()\n",
    "\n",
    "train_data[cols_2_cat] = ordinal_en.fit_transform( train_data[cols_2_cat])\n",
    "train_data[cols_4_cat] = ordinal_en.fit_transform( train_data[cols_4_cat])\n",
    "\n",
    "\n",
    "# no problem of Data Leakegae \n",
    "\n",
    "test_data[cols_2_cat] = ordinal_en.fit_transform( test_data[cols_2_cat])\n",
    "test_data[cols_4_cat] = ordinal_en.fit_transform( test_data[cols_4_cat])\n"
   ]
  },
  {
   "cell_type": "raw",
   "id": "bd917f28",
   "metadata": {
    "execution": {
     "iopub.execute_input": "2024-12-18T07:13:48.365579Z",
     "iopub.status.busy": "2024-12-18T07:13:48.365076Z",
     "iopub.status.idle": "2024-12-18T07:13:48.376852Z",
     "shell.execute_reply": "2024-12-18T07:13:48.375592Z",
     "shell.execute_reply.started": "2024-12-18T07:13:48.365529Z"
    },
    "papermill": {
     "duration": 0.006464,
     "end_time": "2024-12-18T20:16:47.977796",
     "exception": false,
     "start_time": "2024-12-18T20:16:47.971332",
     "status": "completed"
    },
    "tags": []
   },
   "source": [
    "a"
   ]
  },
  {
   "cell_type": "code",
   "execution_count": 10,
   "id": "37cfcc52",
   "metadata": {
    "execution": {
     "iopub.execute_input": "2024-12-18T20:16:47.992589Z",
     "iopub.status.busy": "2024-12-18T20:16:47.992217Z",
     "iopub.status.idle": "2024-12-18T20:16:48.033469Z",
     "shell.execute_reply": "2024-12-18T20:16:48.032711Z"
    },
    "papermill": {
     "duration": 0.050877,
     "end_time": "2024-12-18T20:16:48.035492",
     "exception": false,
     "start_time": "2024-12-18T20:16:47.984615",
     "status": "completed"
    },
    "tags": []
   },
   "outputs": [],
   "source": [
    "# Noe for remaining cat collumns , I am taking (according to domain knowledge) only thos categorcial data \n",
    "# can make an unbiased system \n",
    "\n",
    "rem_cat_cols_ordinal = ['dri_score' ,'cyto_score' ,'mrd_hct']\n",
    "rem_cat_cols_ohe = ['graft_type' , 'donor_related' ,'ethnicity']\n",
    "\n",
    "\n",
    "for col in rem_cat_cols_ordinal :\n",
    "    train_data.fillna( { col : train_data[col].mode()[0] } , inplace  =True )\n",
    "    test_data.fillna( { col : train_data[col].mode()[0] } , inplace  =True )\n",
    "\n",
    "\n",
    "for col in rem_cat_cols_ohe :\n",
    "    train_data.fillna( { col : train_data[col].mode()[0] } , inplace  =True )\n",
    "    test_data.fillna( { col : train_data[col].mode()[0] } , inplace  =True )\n",
    "\n",
    "# confusing cols = prime_disease_hct\n"
   ]
  },
  {
   "cell_type": "code",
   "execution_count": 11,
   "id": "becd66a1",
   "metadata": {
    "execution": {
     "iopub.execute_input": "2024-12-18T20:16:48.050045Z",
     "iopub.status.busy": "2024-12-18T20:16:48.049736Z",
     "iopub.status.idle": "2024-12-18T20:16:48.149964Z",
     "shell.execute_reply": "2024-12-18T20:16:48.148936Z"
    },
    "papermill": {
     "duration": 0.109644,
     "end_time": "2024-12-18T20:16:48.151827",
     "exception": false,
     "start_time": "2024-12-18T20:16:48.042183",
     "status": "completed"
    },
    "tags": []
   },
   "outputs": [
    {
     "name": "stdout",
     "output_type": "stream",
     "text": [
      "19\n"
     ]
    }
   ],
   "source": [
    "df= train_data.select_dtypes(['object'])\n",
    "\n",
    "obj_cols = list ( df.columns )\n",
    "\n",
    "print(len(obj_cols))\n",
    "\n",
    "# after ordinal encoding , the data type of cat cols(object type) change to int/float \n",
    "\n",
    "# Ordinal encoding\n",
    "\n",
    "train_data[ rem_cat_cols_ordinal ] = ordinal_en.fit_transform( train_data[rem_cat_cols_ordinal])\n",
    "test_data[ rem_cat_cols_ordinal ] = ordinal_en.fit_transform( test_data[rem_cat_cols_ordinal])\n",
    "\n",
    "# OHE (one hot encoding)\n",
    "ohe_df = (pd.get_dummies( train_data[rem_cat_cols_ohe]  ,dummy_na =True , dtype = float ))\n",
    "\n",
    "train_data.drop(rem_cat_cols_ohe , axis=1  )\n",
    "\n",
    "train_data = train_data.join ( ohe_df )\n",
    "\n",
    "\n",
    "# OHE for Test Data \n",
    "\n",
    "''' I CASE TEST DATA HAS FEWER CATEGORIES THAN TRAIN , THEN cols (from OHE) \n",
    "in Test Data will be < Trisn data ohe cols \n",
    "'''\n",
    "\n",
    "ohe_df_test = (pd.get_dummies( test_data[rem_cat_cols_ohe]  , dtype = float ))\n",
    "\n",
    "\n",
    "\n",
    "\n",
    "test_data.drop(rem_cat_cols_ohe , axis=1  )\n",
    "\n",
    "test_data = test_data.join ( ohe_df_test )\n",
    "\n",
    "for col in train_data.columns :\n",
    "    if col not in test_data.columns :\n",
    "        test_data[col] = [0]*len(test_data)\n"
   ]
  },
  {
   "cell_type": "code",
   "execution_count": null,
   "id": "144cab29",
   "metadata": {
    "papermill": {
     "duration": 0.006453,
     "end_time": "2024-12-18T20:16:48.164950",
     "exception": false,
     "start_time": "2024-12-18T20:16:48.158497",
     "status": "completed"
    },
    "tags": []
   },
   "outputs": [],
   "source": []
  },
  {
   "cell_type": "code",
   "execution_count": 12,
   "id": "d90a50eb",
   "metadata": {
    "execution": {
     "iopub.execute_input": "2024-12-18T20:16:48.179103Z",
     "iopub.status.busy": "2024-12-18T20:16:48.178815Z",
     "iopub.status.idle": "2024-12-18T20:16:48.201075Z",
     "shell.execute_reply": "2024-12-18T20:16:48.200434Z"
    },
    "papermill": {
     "duration": 0.031732,
     "end_time": "2024-12-18T20:16:48.203081",
     "exception": false,
     "start_time": "2024-12-18T20:16:48.171349",
     "status": "completed"
    },
    "tags": []
   },
   "outputs": [],
   "source": [
    "# now remove rest obj cols \n",
    "\n",
    "train_data = train_data.select_dtypes(  exclude = ['object'])\n",
    "test_data = test_data.select_dtypes(  exclude = ['object'])\n",
    "\n",
    "\n"
   ]
  },
  {
   "cell_type": "code",
   "execution_count": 13,
   "id": "f76efe0b",
   "metadata": {
    "execution": {
     "iopub.execute_input": "2024-12-18T20:16:48.217936Z",
     "iopub.status.busy": "2024-12-18T20:16:48.217644Z",
     "iopub.status.idle": "2024-12-18T20:16:48.246018Z",
     "shell.execute_reply": "2024-12-18T20:16:48.245095Z"
    },
    "papermill": {
     "duration": 0.03786,
     "end_time": "2024-12-18T20:16:48.247946",
     "exception": false,
     "start_time": "2024-12-18T20:16:48.210086",
     "status": "completed"
    },
    "tags": []
   },
   "outputs": [],
   "source": [
    "# Pre-Prcoess Numericla Data \n",
    "\n",
    "num_cols.remove('efs_time')\n",
    "\n",
    "for col  in num_cols :\n",
    "    # patients follwo skewed distribution so going with same flow \n",
    "    train_data.fillna( {col : train_data[col].mean() } , inplace = True )\n",
    "    test_data.fillna( {col : train_data[col].mean() } , inplace = True )"
   ]
  },
  {
   "cell_type": "code",
   "execution_count": 14,
   "id": "18f5f291",
   "metadata": {
    "execution": {
     "iopub.execute_input": "2024-12-18T20:16:48.262282Z",
     "iopub.status.busy": "2024-12-18T20:16:48.261994Z",
     "iopub.status.idle": "2024-12-18T20:16:48.266477Z",
     "shell.execute_reply": "2024-12-18T20:16:48.265661Z"
    },
    "papermill": {
     "duration": 0.013538,
     "end_time": "2024-12-18T20:16:48.268085",
     "exception": false,
     "start_time": "2024-12-18T20:16:48.254547",
     "status": "completed"
    },
    "tags": []
   },
   "outputs": [
    {
     "name": "stdout",
     "output_type": "stream",
     "text": [
      " Features in Training Dataset 52\n",
      " Features in Test Dataset 52\n"
     ]
    }
   ],
   "source": [
    "print( \" Features in Training Dataset {}\".format( len(train_data.columns)))\n",
    "\n",
    "print( \" Features in Test Dataset {}\".format( len(test_data.columns)))"
   ]
  },
  {
   "cell_type": "code",
   "execution_count": 15,
   "id": "5789c469",
   "metadata": {
    "execution": {
     "iopub.execute_input": "2024-12-18T20:16:48.282377Z",
     "iopub.status.busy": "2024-12-18T20:16:48.281768Z",
     "iopub.status.idle": "2024-12-18T20:16:48.285731Z",
     "shell.execute_reply": "2024-12-18T20:16:48.285037Z"
    },
    "papermill": {
     "duration": 0.012641,
     "end_time": "2024-12-18T20:16:48.287204",
     "exception": false,
     "start_time": "2024-12-18T20:16:48.274563",
     "status": "completed"
    },
    "tags": []
   },
   "outputs": [],
   "source": [
    "for col in train_data.columns :\n",
    "    if col not in test_data.columns :\n",
    "        print(col)"
   ]
  },
  {
   "cell_type": "code",
   "execution_count": 16,
   "id": "e8abac59",
   "metadata": {
    "execution": {
     "iopub.execute_input": "2024-12-18T20:16:48.302786Z",
     "iopub.status.busy": "2024-12-18T20:16:48.302134Z",
     "iopub.status.idle": "2024-12-18T20:16:48.306949Z",
     "shell.execute_reply": "2024-12-18T20:16:48.306090Z"
    },
    "papermill": {
     "duration": 0.015176,
     "end_time": "2024-12-18T20:16:48.308811",
     "exception": false,
     "start_time": "2024-12-18T20:16:48.293635",
     "status": "completed"
    },
    "tags": []
   },
   "outputs": [],
   "source": [
    "features = train_data \n",
    "labels = labels_efs\n",
    "\n",
    "# trian-test split ratio\n",
    "n = 1.0\n",
    "\n",
    "X_train = features[: int(n*len(features )) ]\n",
    "y_train = labels[ : int (n*len(features )) ]\n",
    "\n",
    "# X_valid = features[ int(n*len(features )) :]\n",
    "# y_valid = labels[ int (n*len(features )) :]\n",
    "\n",
    "\n"
   ]
  },
  {
   "cell_type": "code",
   "execution_count": 17,
   "id": "09f274bc",
   "metadata": {
    "execution": {
     "iopub.execute_input": "2024-12-18T20:16:48.324421Z",
     "iopub.status.busy": "2024-12-18T20:16:48.324150Z",
     "iopub.status.idle": "2024-12-18T20:17:10.578704Z",
     "shell.execute_reply": "2024-12-18T20:17:10.577867Z"
    },
    "papermill": {
     "duration": 22.264693,
     "end_time": "2024-12-18T20:17:10.581055",
     "exception": false,
     "start_time": "2024-12-18T20:16:48.316362",
     "status": "completed"
    },
    "tags": []
   },
   "outputs": [
    {
     "data": {
      "image/png": "[encoded data removed]",
      "text/plain": [
       "<Figure size 1000x500 with 1 Axes>"
      ]
     },
     "metadata": {},
     "output_type": "display_data"
    }
   ],
   "source": [
    "# Applying PCA on Data  ( highly correlated Data ) s.t we take eigen vectors \n",
    "# where maximum eigen vlaue is stored ( max variance is preserved . )\n",
    "\n",
    "from sklearn.decomposition import PCA \n",
    "\n",
    "m = X_train.shape[0] # no of training examples \n",
    "n = X_train.shape[1] # no of features \n",
    "\n",
    "pca_ = 0 \n",
    "\n",
    "X_dummy = X_train.copy()\n",
    "\n",
    "# always standarize the Data before PCA \n",
    "#since PCA depends on variance of original feature s( so larger varainces can dominate te PCA results ) \n",
    "\n",
    "from sklearn.preprocessing import StandardScaler \n",
    "\n",
    "scale_norm  = StandardScaler()\n",
    "X_dummy = scale_norm.fit_transform( X_dummy )\n",
    "\n",
    "\n",
    "var = []\n",
    "\n",
    "start_comp = 2 \n",
    "end_comp =  50\n",
    "\n",
    "for i in range( start_comp , end_comp  ) :\n",
    "    pca_ = PCA( n_components = i )\n",
    "    pca_.fit( X_dummy)\n",
    "    var.append( max(pca_.explained_variance_ratio_ ) )\n",
    "    \n",
    "\n",
    "plt.figure( figsize = ( 10 , 5 ))\n",
    "plt.plot( range( start_comp , end_comp  ) , var  ,'g')\n",
    "plt.xlabel( 'No of COmponets ')\n",
    "plt.xticks( range( start_comp , end_comp ) ,rotation = 45 )\n",
    "plt.ylabel( 'MAx Variance presered along an Eigen Vector')\n",
    "plt.show()\n",
    "\n",
    "\n"
   ]
  },
  {
   "cell_type": "code",
   "execution_count": 18,
   "id": "a17bb5b3",
   "metadata": {
    "execution": {
     "iopub.execute_input": "2024-12-18T20:17:10.596987Z",
     "iopub.status.busy": "2024-12-18T20:17:10.596708Z",
     "iopub.status.idle": "2024-12-18T20:17:14.005419Z",
     "shell.execute_reply": "2024-12-18T20:17:14.004602Z"
    },
    "papermill": {
     "duration": 3.41899,
     "end_time": "2024-12-18T20:17:14.007419",
     "exception": false,
     "start_time": "2024-12-18T20:17:10.588429",
     "status": "completed"
    },
    "tags": []
   },
   "outputs": [
    {
     "data": {
      "image/png": "[encoded data removed]",
      "text/plain": [
       "<Figure size 1000x500 with 1 Axes>"
      ]
     },
     "metadata": {},
     "output_type": "display_data"
    }
   ],
   "source": [
    "# PCA only wrt numericla cols \n",
    "# since it contains too much Correlated features \n",
    "\n",
    "\n",
    "pca_ = 0 \n",
    "\n",
    "X_num = X_train.copy()[num_cols]\n",
    "\n",
    "\n",
    "scale_norm_num = StandardScaler()\n",
    "X_num = scale_norm_num.fit_transform( X_num )\n",
    "\n",
    "\n",
    "var = []\n",
    "\n",
    "start_comp = 2 \n",
    "end_comp =  23\n",
    "\n",
    "for i in range( start_comp , end_comp  ) :\n",
    "    pca_ = PCA( n_components = i )\n",
    "    pca_.fit( X_num )\n",
    "    var.append( max(pca_.explained_variance_ratio_ ) )\n",
    "    \n",
    "\n",
    "plt.figure( figsize = ( 10 , 5 ))\n",
    "plt.plot( range( start_comp , end_comp  ) , var  ,'g')\n",
    "plt.title( 'PCA for Numericla cols ONLY ')\n",
    "plt.xlabel( 'No of COmponets ')\n",
    "plt.xticks( range( start_comp , end_comp ) ,rotation = 45 )\n",
    "plt.ylabel( 'MAx Variance presered along an Eigen Vector')\n",
    "plt.show()\n",
    "\n",
    "\n"
   ]
  },
  {
   "cell_type": "code",
   "execution_count": 19,
   "id": "9f07e40c",
   "metadata": {
    "execution": {
     "iopub.execute_input": "2024-12-18T20:17:14.025373Z",
     "iopub.status.busy": "2024-12-18T20:17:14.025075Z",
     "iopub.status.idle": "2024-12-18T20:17:14.529875Z",
     "shell.execute_reply": "2024-12-18T20:17:14.526493Z"
    },
    "papermill": {
     "duration": 0.521738,
     "end_time": "2024-12-18T20:17:14.537298",
     "exception": false,
     "start_time": "2024-12-18T20:17:14.015560",
     "status": "completed"
    },
    "tags": []
   },
   "outputs": [],
   "source": [
    "# from the above Graph , the best components to reduce Datset into = 20 ( for PCA over whole Dataset )\n",
    "# and SAME for ONLY numerival cols \n",
    "\n",
    "# Hence , we take N = 20 compinets \n",
    "\n",
    "PCA_  = PCA( n_components  = 20 )\n",
    "\n",
    "#standarize \n",
    "scale_data  = StandardScaler()\n",
    "X_train_scale = scale_data.fit_transform( X_train )\n",
    "\n",
    "\n",
    "#PCA \n",
    "X_train_pca = PCA_.fit_transform( X_train_scale )\n",
    "y_train_pca = y_train \n",
    "\n"
   ]
  },
  {
   "cell_type": "code",
   "execution_count": 20,
   "id": "58944bae",
   "metadata": {
    "execution": {
     "iopub.execute_input": "2024-12-18T20:17:14.593777Z",
     "iopub.status.busy": "2024-12-18T20:17:14.593356Z",
     "iopub.status.idle": "2024-12-18T20:17:14.601091Z",
     "shell.execute_reply": "2024-12-18T20:17:14.600348Z"
    },
    "papermill": {
     "duration": 0.037914,
     "end_time": "2024-12-18T20:17:14.603943",
     "exception": false,
     "start_time": "2024-12-18T20:17:14.566029",
     "status": "completed"
    },
    "tags": []
   },
   "outputs": [],
   "source": [
    "# # Building ML algos \n",
    "\n",
    "# from sklearn.ensemble import RandomForestClassifier \n",
    "\n",
    "# model = RandomForestClassifier ( n_estimators =   10 , criterion  = \"entropy\" , max_depth = 49,\n",
    "#                                bootstrap = True ,warm_start = False )\n",
    "\n"
   ]
  },
  {
   "cell_type": "code",
   "execution_count": 21,
   "id": "4841386d",
   "metadata": {
    "execution": {
     "iopub.execute_input": "2024-12-18T20:17:14.642847Z",
     "iopub.status.busy": "2024-12-18T20:17:14.641895Z",
     "iopub.status.idle": "2024-12-18T20:17:14.646122Z",
     "shell.execute_reply": "2024-12-18T20:17:14.645477Z"
    },
    "papermill": {
     "duration": 0.015199,
     "end_time": "2024-12-18T20:17:14.647871",
     "exception": false,
     "start_time": "2024-12-18T20:17:14.632672",
     "status": "completed"
    },
    "tags": []
   },
   "outputs": [],
   "source": [
    "# # random forets training   on Original Data \n",
    "\n",
    "# model.fit(X_train , y_train )"
   ]
  },
  {
   "cell_type": "code",
   "execution_count": 22,
   "id": "dde53062",
   "metadata": {
    "execution": {
     "iopub.execute_input": "2024-12-18T20:17:14.665267Z",
     "iopub.status.busy": "2024-12-18T20:17:14.664950Z",
     "iopub.status.idle": "2024-12-18T20:17:14.668645Z",
     "shell.execute_reply": "2024-12-18T20:17:14.667885Z"
    },
    "papermill": {
     "duration": 0.014259,
     "end_time": "2024-12-18T20:17:14.670212",
     "exception": false,
     "start_time": "2024-12-18T20:17:14.655953",
     "status": "completed"
    },
    "tags": []
   },
   "outputs": [],
   "source": [
    "# # Cross Validation on original Data \n",
    "# from sklearn.model_selection import cross_val_score \n",
    "\n",
    "\n",
    "# scores = cross_val_score( model  , X_train , y_train  , cv = 3 )\n",
    "\n",
    "# print( \"The cross validation score have Mean = {} a with a std. dev of = {}\".format(scores.mean() ,scores.std()) )\n"
   ]
  },
  {
   "cell_type": "code",
   "execution_count": 23,
   "id": "b3f7d362",
   "metadata": {
    "execution": {
     "iopub.execute_input": "2024-12-18T20:17:14.687298Z",
     "iopub.status.busy": "2024-12-18T20:17:14.686689Z",
     "iopub.status.idle": "2024-12-18T20:17:14.690575Z",
     "shell.execute_reply": "2024-12-18T20:17:14.689698Z"
    },
    "papermill": {
     "duration": 0.014195,
     "end_time": "2024-12-18T20:17:14.692138",
     "exception": false,
     "start_time": "2024-12-18T20:17:14.677943",
     "status": "completed"
    },
    "tags": []
   },
   "outputs": [],
   "source": [
    "# # trianing and validation on Test Data \n",
    "\n",
    "# model_rand = RandomForestClassifier ( n_estimators =   10 , criterion  = \"entropy\" , max_depth = 49,\n",
    "#                                bootstrap = True ,warm_start = False )\n",
    "\n",
    "\n",
    "# model_rand.fit( X_train_pca , y_train_pca )\n",
    "\n",
    "\n",
    "\n",
    "# scores = cross_val_score( model_rand , X_train_pca , y_train_pca  , cv = 3 )\n",
    "\n",
    "# print( \"The cross validation score have Mean = {} a with a std. dev of = {}\".format(scores.mean() ,scores.std()) )"
   ]
  },
  {
   "cell_type": "code",
   "execution_count": 24,
   "id": "e17e96b4",
   "metadata": {
    "execution": {
     "iopub.execute_input": "2024-12-18T20:17:14.709132Z",
     "iopub.status.busy": "2024-12-18T20:17:14.708413Z",
     "iopub.status.idle": "2024-12-18T20:17:14.731316Z",
     "shell.execute_reply": "2024-12-18T20:17:14.730635Z"
    },
    "papermill": {
     "duration": 0.03361,
     "end_time": "2024-12-18T20:17:14.733330",
     "exception": false,
     "start_time": "2024-12-18T20:17:14.699720",
     "status": "completed"
    },
    "tags": []
   },
   "outputs": [],
   "source": [
    "# Scaling the Data for nn \n",
    "\n",
    "X_train_nn = X_train.copy()\n",
    "y_train_nn = y_train.copy()\n",
    "\n",
    "from sklearn.preprocessing import MinMaxScaler \n",
    "\n",
    "scaler_ = MinMaxScaler( feature_range = (0 , 1 ))\n",
    "\n",
    "X_train_nn = scaler_.fit_transform(X_train_nn)"
   ]
  },
  {
   "cell_type": "code",
   "execution_count": 25,
   "id": "5857fd2a",
   "metadata": {
    "execution": {
     "iopub.execute_input": "2024-12-18T20:17:14.750983Z",
     "iopub.status.busy": "2024-12-18T20:17:14.750195Z",
     "iopub.status.idle": "2024-12-18T20:17:14.754484Z",
     "shell.execute_reply": "2024-12-18T20:17:14.753643Z"
    },
    "papermill": {
     "duration": 0.014913,
     "end_time": "2024-12-18T20:17:14.756218",
     "exception": false,
     "start_time": "2024-12-18T20:17:14.741305",
     "status": "completed"
    },
    "tags": []
   },
   "outputs": [],
   "source": [
    "# # Neural Network \n",
    "\n",
    "# from tensorflow import keras \n",
    "\n",
    "# from keras.layers import Dense , Input , BatchNormalization , Dropout\n",
    "\n",
    "# model_nn = keras.models.Sequential()\n",
    "\n",
    "# model_nn.add( Input( shape = (X_train_pca.shape[1] ,) , batch_size = 1024 ))\n",
    "\n",
    "# model_nn.add( Dense( 120  , activation = 'tanh' ) ) \n",
    "# model_nn.add( BatchNormalization())\n",
    "\n",
    "\n",
    "# # model_nn.add( Dense( 1024  , activation = 'relu' ) ) \n",
    "# # model_nn.add( BatchNormalization())\n",
    "\n",
    "# # model_nn.add( Dense( 1024  , activation = 'relu' ) ) \n",
    "# # model_nn.add( BatchNormalization())\n",
    "\n",
    "# # model_nn.add( Dense( 1024  , activation = 'relu' ) ) \n",
    "# # model_nn.add( BatchNormalization())\n",
    "\n",
    "# model_nn.add( Dense( 1  , activation = 'sigmoid'))\n",
    "\n",
    "\n",
    "# model_nn.compile( loss = 'binary_crossentropy' , optimizer = 'adam' , metrics = ['accuracy'])\n",
    "\n",
    "# model_nn.fit( X_train_pca , y_train_pca , epochs = 3 )"
   ]
  },
  {
   "cell_type": "code",
   "execution_count": null,
   "id": "cdd499f8",
   "metadata": {
    "papermill": {
     "duration": 0.007471,
     "end_time": "2024-12-18T20:17:14.771246",
     "exception": false,
     "start_time": "2024-12-18T20:17:14.763775",
     "status": "completed"
    },
    "tags": []
   },
   "outputs": [],
   "source": []
  },
  {
   "cell_type": "code",
   "execution_count": 26,
   "id": "37c247ea",
   "metadata": {
    "execution": {
     "iopub.execute_input": "2024-12-18T20:17:14.787559Z",
     "iopub.status.busy": "2024-12-18T20:17:14.787244Z",
     "iopub.status.idle": "2024-12-18T20:17:15.183318Z",
     "shell.execute_reply": "2024-12-18T20:17:15.182420Z"
    },
    "papermill": {
     "duration": 0.406424,
     "end_time": "2024-12-18T20:17:15.185123",
     "exception": false,
     "start_time": "2024-12-18T20:17:14.778699",
     "status": "completed"
    },
    "tags": []
   },
   "outputs": [
    {
     "data": {
      "text/plain": [
       "<Axes: >"
      ]
     },
     "execution_count": 26,
     "metadata": {},
     "output_type": "execute_result"
    },
    {
     "data": {
      "image/png": "[encoded data removed]",
      "text/plain": [
       "<Figure size 1000x500 with 1 Axes>"
      ]
     },
     "metadata": {},
     "output_type": "display_data"
    }
   ],
   "source": [
    "df1 = X_train[num_cols]\n",
    "\n",
    "df1 = df1.join( labels_efs_time )\n",
    "\n",
    "corr_matrix  = df1.corr()\n",
    "\n",
    "\n",
    "# cols_ = df1.columns \n",
    "\n",
    "# plt.hist( cols_ , corr_matrix['efs_time']   )\n",
    "# plt.show()\n",
    "plt.figure( figsize = ( 10 , 5 ))\n",
    "\n",
    "# plot corleation of all  Num  columns  with efs time \n",
    "df1.corrwith(df1['efs_time']).plot(kind='barh')"
   ]
  },
  {
   "cell_type": "code",
   "execution_count": 27,
   "id": "45e506a0",
   "metadata": {
    "execution": {
     "iopub.execute_input": "2024-12-18T20:17:15.204327Z",
     "iopub.status.busy": "2024-12-18T20:17:15.203754Z",
     "iopub.status.idle": "2024-12-18T20:17:15.469645Z",
     "shell.execute_reply": "2024-12-18T20:17:15.468600Z"
    },
    "papermill": {
     "duration": 0.277627,
     "end_time": "2024-12-18T20:17:15.471542",
     "exception": false,
     "start_time": "2024-12-18T20:17:15.193915",
     "status": "completed"
    },
    "tags": []
   },
   "outputs": [
    {
     "data": {
      "text/plain": [
       "<Axes: >"
      ]
     },
     "execution_count": 27,
     "metadata": {},
     "output_type": "execute_result"
    },
    {
     "data": {
      "image/png": "[encoded data removed]",
      "text/plain": [
       "<Figure size 640x480 with 1 Axes>"
      ]
     },
     "metadata": {},
     "output_type": "display_data"
    }
   ],
   "source": [
    "df1['efs_time'].hist()"
   ]
  },
  {
   "cell_type": "code",
   "execution_count": 28,
   "id": "9f5f23ee",
   "metadata": {
    "execution": {
     "iopub.execute_input": "2024-12-18T20:17:15.491131Z",
     "iopub.status.busy": "2024-12-18T20:17:15.490799Z",
     "iopub.status.idle": "2024-12-18T20:17:15.768503Z",
     "shell.execute_reply": "2024-12-18T20:17:15.767688Z"
    },
    "papermill": {
     "duration": 0.28954,
     "end_time": "2024-12-18T20:17:15.770362",
     "exception": false,
     "start_time": "2024-12-18T20:17:15.480822",
     "status": "completed"
    },
    "tags": []
   },
   "outputs": [
    {
     "data": {
      "image/png": "[encoded data removed]",
      "text/plain": [
       "<Figure size 640x480 with 1 Axes>"
      ]
     },
     "metadata": {},
     "output_type": "display_data"
    }
   ],
   "source": [
    "plt.scatter( labels_efs_time , labels_efs)\n",
    "plt.show()"
   ]
  },
  {
   "cell_type": "code",
   "execution_count": 29,
   "id": "bc500335",
   "metadata": {
    "execution": {
     "iopub.execute_input": "2024-12-18T20:17:15.791493Z",
     "iopub.status.busy": "2024-12-18T20:17:15.790855Z",
     "iopub.status.idle": "2024-12-18T20:18:06.882858Z",
     "shell.execute_reply": "2024-12-18T20:18:06.881900Z"
    },
    "papermill": {
     "duration": 51.113772,
     "end_time": "2024-12-18T20:18:06.893852",
     "exception": false,
     "start_time": "2024-12-18T20:17:15.780080",
     "status": "completed"
    },
    "tags": []
   },
   "outputs": [
    {
     "name": "stdout",
     "output_type": "stream",
     "text": [
      "The cross validation score have Mean = 0.9760416666666667 a with a std. dev of = 0.0010027450748745774\n"
     ]
    }
   ],
   "source": [
    "# There might be some linear decision bpundary b.w these 2 classes based on EFS TIME \n",
    "\n",
    "# so using SVM (with Gaussian / rbf kernel ) , i am transformaing hese vecotrs to high dim space \n",
    "\n",
    "from sklearn.svm import SVC\n",
    "\n",
    "from sklearn.model_selection import cross_val_score\n",
    "\n",
    "# extract  mean and std dev ( since i did not include this column initially )\n",
    "\n",
    "\n",
    "\n",
    "time_data = (np.array(labels_efs_time).reshape(-1 , 1))\n",
    "\n",
    "time_data_unscale  = time_data\n",
    "\n",
    "mu = time_data.mean()\n",
    "sigma = time_data.std()\n",
    "\n",
    "# standarize it \n",
    "\n",
    "time_data_scale = ((time_data - mu) /sigma )\n",
    "\n",
    "\n",
    "'''\n",
    "CROSS VAL SCORE FOR DIFFERENT KERNELS FOR SVC BINARY CLASSIFICATION (MERCER THEORAM )\n",
    "\n",
    "rbf => 0.976  (best)\n",
    "poly=> 0.973\n",
    "sigmoid => 0.975\n",
    "'''\n",
    "\n",
    "svc = SVC( kernel='rbf'  , probability =True ).fit(  time_data_scale , labels_efs  )\n",
    "\n",
    "\n",
    "scores = cross_val_score( svc , time_data_scale , labels_efs  , cv = 3 )\n",
    "\n",
    "print( \"The cross validation score have Mean = {} a with a std. dev of = {}\".format(scores.mean() ,scores.std()) )"
   ]
  },
  {
   "cell_type": "code",
   "execution_count": 30,
   "id": "66436188",
   "metadata": {
    "execution": {
     "iopub.execute_input": "2024-12-18T20:18:06.913646Z",
     "iopub.status.busy": "2024-12-18T20:18:06.912875Z",
     "iopub.status.idle": "2024-12-18T20:18:14.014283Z",
     "shell.execute_reply": "2024-12-18T20:18:14.013350Z"
    },
    "papermill": {
     "duration": 7.113628,
     "end_time": "2024-12-18T20:18:14.016496",
     "exception": false,
     "start_time": "2024-12-18T20:18:06.902868",
     "status": "completed"
    },
    "tags": []
   },
   "outputs": [
    {
     "name": "stderr",
     "output_type": "stream",
     "text": [
      "/tmp/ipykernel_23/2363141411.py:10: DataConversionWarning: A column-vector y was passed when a 1d array was expected. Please change the shape of y to (n_samples,), for example using ravel().\n",
      "  model_reg.fit( X_train_pca , time_data )\n",
      "/opt/conda/lib/python3.10/site-packages/sklearn/model_selection/_validation.py:686: DataConversionWarning: A column-vector y was passed when a 1d array was expected. Please change the shape of y to (n_samples,), for example using ravel().\n",
      "  estimator.fit(X_train, y_train, **fit_params)\n",
      "/opt/conda/lib/python3.10/site-packages/sklearn/model_selection/_validation.py:686: DataConversionWarning: A column-vector y was passed when a 1d array was expected. Please change the shape of y to (n_samples,), for example using ravel().\n",
      "  estimator.fit(X_train, y_train, **fit_params)\n",
      "/opt/conda/lib/python3.10/site-packages/sklearn/model_selection/_validation.py:686: DataConversionWarning: A column-vector y was passed when a 1d array was expected. Please change the shape of y to (n_samples,), for example using ravel().\n",
      "  estimator.fit(X_train, y_train, **fit_params)\n"
     ]
    },
    {
     "name": "stdout",
     "output_type": "stream",
     "text": [
      "The cross validation score have Mean = -552.8366897695596 a with a std. dev of = 13.661064491386444\n"
     ]
    }
   ],
   "source": [
    "# Rebuild some ML models \n",
    "\n",
    "from sklearn.ensemble import RandomForestRegressor \n",
    "\n",
    "model_reg = RandomForestRegressor (\n",
    "     n_estimators =   10 , criterion  = \"squared_error\" , max_depth = 6 ,\n",
    "                               bootstrap = True ,warm_start = False \n",
    ")\n",
    "\n",
    "model_reg.fit( X_train_pca , time_data )\n",
    "\n",
    "# cross val uses a UTILITY  METRIC FUNCTION = - ( LOSS )\n",
    "# larger the better \n",
    "\n",
    "scores = cross_val_score( model_reg  ,   X_train_pca , time_data ,scoring='neg_mean_squared_error', cv = 3 )\n",
    "\n",
    "print( \"The cross validation score have Mean = {} a with a std. dev of = {}\".format(scores.mean() ,scores.std()) )"
   ]
  },
  {
   "cell_type": "code",
   "execution_count": 31,
   "id": "fcc746e5",
   "metadata": {
    "execution": {
     "iopub.execute_input": "2024-12-18T20:18:14.037945Z",
     "iopub.status.busy": "2024-12-18T20:18:14.037644Z",
     "iopub.status.idle": "2024-12-18T20:18:14.041291Z",
     "shell.execute_reply": "2024-12-18T20:18:14.040518Z"
    },
    "papermill": {
     "duration": 0.015922,
     "end_time": "2024-12-18T20:18:14.042971",
     "exception": false,
     "start_time": "2024-12-18T20:18:14.027049",
     "status": "completed"
    },
    "tags": []
   },
   "outputs": [],
   "source": [
    "# Now SVC Data is Already Traine d( on fetaure s- efs time and labels = 0  or 1 )\n"
   ]
  },
  {
   "cell_type": "code",
   "execution_count": 32,
   "id": "580b1466",
   "metadata": {
    "execution": {
     "iopub.execute_input": "2024-12-18T20:18:14.063795Z",
     "iopub.status.busy": "2024-12-18T20:18:14.063497Z",
     "iopub.status.idle": "2024-12-18T20:18:23.104041Z",
     "shell.execute_reply": "2024-12-18T20:18:23.102223Z"
    },
    "papermill": {
     "duration": 9.054815,
     "end_time": "2024-12-18T20:18:23.107412",
     "exception": false,
     "start_time": "2024-12-18T20:18:14.052597",
     "status": "completed"
    },
    "tags": []
   },
   "outputs": [
    {
     "name": "stdout",
     "output_type": "stream",
     "text": [
      "The cross validation score have Mean = -542.3347340875927 a with a std. dev of = 12.5509857785046\n"
     ]
    }
   ],
   "source": [
    "# XGB regressor \n",
    "\n",
    "# Works on Predicting residulas = Y_true  - Y_pred_initial \n",
    "# and picks a feature , sorts the values , finds the mean and subtracts and then finds \n",
    "# Simialrity Score if less than threshaold Gamma (in a subset of split )\n",
    "# Prunes the Branch \n",
    "# and adds it with LR alpha to Y_pred_initial + lr * tree_residuals \n",
    "# and does it iteratively  (thats why BOOSTING ( on eDT depends on errors made by former))\n",
    "\n",
    "import xgboost as xgb \n",
    "\n",
    "xgb_model = xgb.XGBRegressor(\n",
    "    n_estimators = 500 , \n",
    "    learning_rate = 0.01,\n",
    "    max_depth = 6\n",
    ")\n",
    "\n",
    "xgb_model.fit (  X_train_pca , time_data )\n",
    "\n",
    "scores = cross_val_score( xgb_model  ,   X_train_pca , time_data ,scoring='neg_mean_squared_error', cv = 3 )\n",
    "\n",
    "print( \"The cross validation score have Mean = {} a with a std. dev of = {}\".format(scores.mean() ,scores.std()) )"
   ]
  },
  {
   "cell_type": "code",
   "execution_count": 33,
   "id": "e395a2bf",
   "metadata": {
    "execution": {
     "iopub.execute_input": "2024-12-18T20:18:23.130542Z",
     "iopub.status.busy": "2024-12-18T20:18:23.129896Z",
     "iopub.status.idle": "2024-12-18T20:19:19.920281Z",
     "shell.execute_reply": "2024-12-18T20:19:19.919454Z"
    },
    "papermill": {
     "duration": 56.802707,
     "end_time": "2024-12-18T20:19:19.922062",
     "exception": false,
     "start_time": "2024-12-18T20:18:23.119355",
     "status": "completed"
    },
    "tags": []
   },
   "outputs": [
    {
     "name": "stdout",
     "output_type": "stream",
     "text": [
      "Epoch 1/30\n"
     ]
    },
    {
     "name": "stderr",
     "output_type": "stream",
     "text": [
      "WARNING: All log messages before absl::InitializeLog() is called are written to STDERR\n",
      "I0000 00:00:1734553117.229143      69 service.cc:145] XLA service 0x7d91fc004da0 initialized for platform CUDA (this does not guarantee that XLA will be used). Devices:\n",
      "I0000 00:00:1734553117.229198      69 service.cc:153]   StreamExecutor device (0): Tesla P100-PCIE-16GB, Compute Capability 6.0\n"
     ]
    },
    {
     "name": "stdout",
     "output_type": "stream",
     "text": [
      "\u001b[1m101/900\u001b[0m \u001b[32m━━\u001b[0m\u001b[37m━━━━━━━━━━━━━━━━━━\u001b[0m \u001b[1m1s\u001b[0m 2ms/step - loss: 1.7479 - mean_squared_error: 1.7479"
     ]
    },
    {
     "name": "stderr",
     "output_type": "stream",
     "text": [
      "I0000 00:00:1734553118.623608      69 device_compiler.h:188] Compiled cluster using XLA!  This line is logged at most once for the lifetime of the process.\n"
     ]
    },
    {
     "name": "stdout",
     "output_type": "stream",
     "text": [
      "\u001b[1m900/900\u001b[0m \u001b[32m━━━━━━━━━━━━━━━━━━━━\u001b[0m\u001b[37m\u001b[0m \u001b[1m5s\u001b[0m 2ms/step - loss: 1.1768 - mean_squared_error: 1.1768\n",
      "Epoch 2/30\n",
      "\u001b[1m900/900\u001b[0m \u001b[32m━━━━━━━━━━━━━━━━━━━━\u001b[0m\u001b[37m\u001b[0m \u001b[1m1s\u001b[0m 1ms/step - loss: 0.9191 - mean_squared_error: 0.9191\n",
      "Epoch 3/30\n",
      "\u001b[1m900/900\u001b[0m \u001b[32m━━━━━━━━━━━━━━━━━━━━\u001b[0m\u001b[37m\u001b[0m \u001b[1m1s\u001b[0m 2ms/step - loss: 0.9070 - mean_squared_error: 0.9070\n",
      "Epoch 4/30\n",
      "\u001b[1m900/900\u001b[0m \u001b[32m━━━━━━━━━━━━━━━━━━━━\u001b[0m\u001b[37m\u001b[0m \u001b[1m1s\u001b[0m 2ms/step - loss: 0.8704 - mean_squared_error: 0.8704\n",
      "Epoch 5/30\n",
      "\u001b[1m900/900\u001b[0m \u001b[32m━━━━━━━━━━━━━━━━━━━━\u001b[0m\u001b[37m\u001b[0m \u001b[1m1s\u001b[0m 1ms/step - loss: 0.8809 - mean_squared_error: 0.8809\n",
      "Epoch 6/30\n",
      "\u001b[1m900/900\u001b[0m \u001b[32m━━━━━━━━━━━━━━━━━━━━\u001b[0m\u001b[37m\u001b[0m \u001b[1m1s\u001b[0m 1ms/step - loss: 0.8726 - mean_squared_error: 0.8726\n",
      "Epoch 7/30\n",
      "\u001b[1m900/900\u001b[0m \u001b[32m━━━━━━━━━━━━━━━━━━━━\u001b[0m\u001b[37m\u001b[0m \u001b[1m1s\u001b[0m 1ms/step - loss: 0.8701 - mean_squared_error: 0.8701\n",
      "Epoch 8/30\n",
      "\u001b[1m900/900\u001b[0m \u001b[32m━━━━━━━━━━━━━━━━━━━━\u001b[0m\u001b[37m\u001b[0m \u001b[1m1s\u001b[0m 1ms/step - loss: 0.8588 - mean_squared_error: 0.8588\n",
      "Epoch 9/30\n",
      "\u001b[1m900/900\u001b[0m \u001b[32m━━━━━━━━━━━━━━━━━━━━\u001b[0m\u001b[37m\u001b[0m \u001b[1m1s\u001b[0m 2ms/step - loss: 0.8601 - mean_squared_error: 0.8601\n",
      "Epoch 10/30\n",
      "\u001b[1m900/900\u001b[0m \u001b[32m━━━━━━━━━━━━━━━━━━━━\u001b[0m\u001b[37m\u001b[0m \u001b[1m1s\u001b[0m 1ms/step - loss: 0.8659 - mean_squared_error: 0.8659\n",
      "Epoch 11/30\n",
      "\u001b[1m900/900\u001b[0m \u001b[32m━━━━━━━━━━━━━━━━━━━━\u001b[0m\u001b[37m\u001b[0m \u001b[1m1s\u001b[0m 1ms/step - loss: 0.8609 - mean_squared_error: 0.8609\n",
      "Epoch 12/30\n",
      "\u001b[1m900/900\u001b[0m \u001b[32m━━━━━━━━━━━━━━━━━━━━\u001b[0m\u001b[37m\u001b[0m \u001b[1m1s\u001b[0m 1ms/step - loss: 0.8710 - mean_squared_error: 0.8710\n",
      "Epoch 13/30\n",
      "\u001b[1m900/900\u001b[0m \u001b[32m━━━━━━━━━━━━━━━━━━━━\u001b[0m\u001b[37m\u001b[0m \u001b[1m1s\u001b[0m 1ms/step - loss: 0.8507 - mean_squared_error: 0.8507\n",
      "Epoch 14/30\n",
      "\u001b[1m900/900\u001b[0m \u001b[32m━━━━━━━━━━━━━━━━━━━━\u001b[0m\u001b[37m\u001b[0m \u001b[1m1s\u001b[0m 2ms/step - loss: 0.8639 - mean_squared_error: 0.8639\n",
      "Epoch 15/30\n",
      "\u001b[1m900/900\u001b[0m \u001b[32m━━━━━━━━━━━━━━━━━━━━\u001b[0m\u001b[37m\u001b[0m \u001b[1m1s\u001b[0m 2ms/step - loss: 0.8558 - mean_squared_error: 0.8558\n",
      "Epoch 16/30\n",
      "\u001b[1m900/900\u001b[0m \u001b[32m━━━━━━━━━━━━━━━━━━━━\u001b[0m\u001b[37m\u001b[0m \u001b[1m1s\u001b[0m 2ms/step - loss: 0.8396 - mean_squared_error: 0.8396\n",
      "Epoch 17/30\n",
      "\u001b[1m900/900\u001b[0m \u001b[32m━━━━━━━━━━━━━━━━━━━━\u001b[0m\u001b[37m\u001b[0m \u001b[1m1s\u001b[0m 2ms/step - loss: 0.8403 - mean_squared_error: 0.8403\n",
      "Epoch 18/30\n",
      "\u001b[1m900/900\u001b[0m \u001b[32m━━━━━━━━━━━━━━━━━━━━\u001b[0m\u001b[37m\u001b[0m \u001b[1m1s\u001b[0m 2ms/step - loss: 0.8253 - mean_squared_error: 0.8253\n",
      "Epoch 19/30\n",
      "\u001b[1m900/900\u001b[0m \u001b[32m━━━━━━━━━━━━━━━━━━━━\u001b[0m\u001b[37m\u001b[0m \u001b[1m1s\u001b[0m 2ms/step - loss: 0.8330 - mean_squared_error: 0.8330\n",
      "Epoch 20/30\n",
      "\u001b[1m900/900\u001b[0m \u001b[32m━━━━━━━━━━━━━━━━━━━━\u001b[0m\u001b[37m\u001b[0m \u001b[1m1s\u001b[0m 2ms/step - loss: 0.8228 - mean_squared_error: 0.8228\n",
      "Epoch 21/30\n",
      "\u001b[1m900/900\u001b[0m \u001b[32m━━━━━━━━━━━━━━━━━━━━\u001b[0m\u001b[37m\u001b[0m \u001b[1m1s\u001b[0m 2ms/step - loss: 0.8490 - mean_squared_error: 0.8490\n",
      "Epoch 22/30\n",
      "\u001b[1m900/900\u001b[0m \u001b[32m━━━━━━━━━━━━━━━━━━━━\u001b[0m\u001b[37m\u001b[0m \u001b[1m1s\u001b[0m 1ms/step - loss: 0.8162 - mean_squared_error: 0.8162\n",
      "Epoch 23/30\n",
      "\u001b[1m900/900\u001b[0m \u001b[32m━━━━━━━━━━━━━━━━━━━━\u001b[0m\u001b[37m\u001b[0m \u001b[1m1s\u001b[0m 2ms/step - loss: 0.8196 - mean_squared_error: 0.8196\n",
      "Epoch 24/30\n",
      "\u001b[1m900/900\u001b[0m \u001b[32m━━━━━━━━━━━━━━━━━━━━\u001b[0m\u001b[37m\u001b[0m \u001b[1m1s\u001b[0m 1ms/step - loss: 0.8419 - mean_squared_error: 0.8419\n",
      "Epoch 25/30\n",
      "\u001b[1m900/900\u001b[0m \u001b[32m━━━━━━━━━━━━━━━━━━━━\u001b[0m\u001b[37m\u001b[0m \u001b[1m1s\u001b[0m 2ms/step - loss: 0.8465 - mean_squared_error: 0.8465\n",
      "Epoch 26/30\n",
      "\u001b[1m900/900\u001b[0m \u001b[32m━━━━━━━━━━━━━━━━━━━━\u001b[0m\u001b[37m\u001b[0m \u001b[1m1s\u001b[0m 2ms/step - loss: 0.8481 - mean_squared_error: 0.8481\n",
      "Epoch 27/30\n",
      "\u001b[1m900/900\u001b[0m \u001b[32m━━━━━━━━━━━━━━━━━━━━\u001b[0m\u001b[37m\u001b[0m \u001b[1m1s\u001b[0m 2ms/step - loss: 0.8210 - mean_squared_error: 0.8210\n",
      "Epoch 28/30\n",
      "\u001b[1m900/900\u001b[0m \u001b[32m━━━━━━━━━━━━━━━━━━━━\u001b[0m\u001b[37m\u001b[0m \u001b[1m1s\u001b[0m 1ms/step - loss: 0.8348 - mean_squared_error: 0.8348\n",
      "Epoch 29/30\n",
      "\u001b[1m900/900\u001b[0m \u001b[32m━━━━━━━━━━━━━━━━━━━━\u001b[0m\u001b[37m\u001b[0m \u001b[1m1s\u001b[0m 1ms/step - loss: 0.8190 - mean_squared_error: 0.8190\n",
      "Epoch 30/30\n",
      "\u001b[1m900/900\u001b[0m \u001b[32m━━━━━━━━━━━━━━━━━━━━\u001b[0m\u001b[37m\u001b[0m \u001b[1m1s\u001b[0m 1ms/step - loss: 0.8174 - mean_squared_error: 0.8174\n"
     ]
    },
    {
     "data": {
      "text/plain": [
       "<keras.src.callbacks.history.History at 0x7d9305c77580>"
      ]
     },
     "execution_count": 33,
     "metadata": {},
     "output_type": "execute_result"
    }
   ],
   "source": [
    "# Now training my ANN model \n",
    "\n",
    "\n",
    "# # Neural Network \n",
    "\n",
    "from tensorflow import keras \n",
    "\n",
    "from keras.layers import Dense , Input , BatchNormalization , Dropout\n",
    "\n",
    "model_nn = keras.models.Sequential()\n",
    "\n",
    "model_nn.add( Input( shape = (X_train_pca.shape[1] ,) , batch_size = 256 ))\n",
    "\n",
    "model_nn.add( Dense( 55  , activation = 'relu' ) ) \n",
    "model_nn.add( BatchNormalization())\n",
    "\n",
    "\n",
    "model_nn.add( Dense( 100  , activation = 'relu' ) ) \n",
    "model_nn.add( BatchNormalization())\n",
    "\n",
    "model_nn.add( Dense( 55 , activation = 'relu' ) ) \n",
    "model_nn.add( BatchNormalization())\n",
    "\n",
    "# model_nn.add( Dense( 10  , activation = 'relu' ) ) \n",
    "# model_nn.add( BatchNormalization())\n",
    "\n",
    "model_nn.add( Dense( 1  , activation = 'linear'))\n",
    "\n",
    "\n",
    "model_nn.compile( loss = 'mean_squared_error' , optimizer = 'adam' , metrics = ['mean_squared_error'])\n",
    "\n",
    "model_nn.fit( X_train_pca , time_data_scale , epochs = 30 )\n",
    "\n"
   ]
  },
  {
   "cell_type": "code",
   "execution_count": 34,
   "id": "973d6103",
   "metadata": {
    "execution": {
     "iopub.execute_input": "2024-12-18T20:19:20.047299Z",
     "iopub.status.busy": "2024-12-18T20:19:20.046683Z",
     "iopub.status.idle": "2024-12-18T20:19:20.050826Z",
     "shell.execute_reply": "2024-12-18T20:19:20.049955Z"
    },
    "papermill": {
     "duration": 0.071327,
     "end_time": "2024-12-18T20:19:20.052405",
     "exception": false,
     "start_time": "2024-12-18T20:19:19.981078",
     "status": "completed"
    },
    "tags": []
   },
   "outputs": [],
   "source": [
    "# Now SVC is trained already \n",
    "\n",
    "\n"
   ]
  },
  {
   "cell_type": "code",
   "execution_count": 35,
   "id": "f8254f6b",
   "metadata": {
    "execution": {
     "iopub.execute_input": "2024-12-18T20:19:20.153089Z",
     "iopub.status.busy": "2024-12-18T20:19:20.152253Z",
     "iopub.status.idle": "2024-12-18T20:19:20.472674Z",
     "shell.execute_reply": "2024-12-18T20:19:20.471997Z"
    },
    "papermill": {
     "duration": 0.372898,
     "end_time": "2024-12-18T20:19:20.474600",
     "exception": false,
     "start_time": "2024-12-18T20:19:20.101702",
     "status": "completed"
    },
    "tags": []
   },
   "outputs": [
    {
     "name": "stdout",
     "output_type": "stream",
     "text": [
      "\u001b[1m1/1\u001b[0m \u001b[32m━━━━━━━━━━━━━━━━━━━━\u001b[0m\u001b[37m\u001b[0m \u001b[1m0s\u001b[0m 268ms/step\n"
     ]
    }
   ],
   "source": [
    "# on Test Data \n",
    "\n",
    "# Order of feature sDuring Tetsing and Training should be same \n",
    "\n",
    "X_test = test_data[ train_data.columns ]\n",
    "\n",
    "\n",
    "X_test_scale = scale_data.transform( X_test )\n",
    "X_test_pca = PCA_.transform( X_test_scale )\n",
    "\n",
    "# from NN \n",
    "\n",
    "efs_time_nn = model_nn.predict( X_test_pca )# predicts efs time (contnuous value )\n",
    "\n",
    "# form XGB Boost \n",
    "efs_time_xgb = xgb_model.predict ( X_test_pca )\n",
    "\n",
    "w_nn = 0.1\n",
    "w_xgb =0.9 # to prevent overfitting some weight given to XXGB even when high MSE \n",
    "\n",
    "# combine both reusts with higher weightt to NN model \n",
    "\n",
    "# ! DONT FORGET TO RESHAPE INTO 1 COLUMN \n",
    "efs_time_xgb = efs_time_xgb.reshape(-1 , 1 )\n",
    "efs_time_nn = efs_time_nn.reshape(-1 , 1 )\n",
    "\n",
    "efs_time = ( w_nn * efs_time_nn) + (w_xgb * efs_time_xgb)\n",
    "\n",
    "# standarize it \n",
    "efs_time = ((efs_time - mu) /sigma )\n",
    "\n",
    "efs_label = svc.predict( efs_time )\n",
    "\n",
    "y_labels = efs_label\n",
    "\n",
    "\n",
    "\n"
   ]
  },
  {
   "cell_type": "code",
   "execution_count": 36,
   "id": "7b16e280",
   "metadata": {
    "execution": {
     "iopub.execute_input": "2024-12-18T20:19:20.579081Z",
     "iopub.status.busy": "2024-12-18T20:19:20.578332Z",
     "iopub.status.idle": "2024-12-18T20:19:20.585622Z",
     "shell.execute_reply": "2024-12-18T20:19:20.584957Z"
    },
    "papermill": {
     "duration": 0.060052,
     "end_time": "2024-12-18T20:19:20.587232",
     "exception": false,
     "start_time": "2024-12-18T20:19:20.527180",
     "status": "completed"
    },
    "tags": []
   },
   "outputs": [],
   "source": [
    "submit = pd.DataFrame(\n",
    "    {\n",
    "        'ID' : test_id , \n",
    "        'prediction' : y_labels\n",
    "    }\n",
    ")\n",
    "\n",
    "submit.head()\n",
    "\n",
    "submit.to_csv('submission.csv' , index = False )"
   ]
  },
  {
   "cell_type": "code",
   "execution_count": null,
   "id": "a2086701",
   "metadata": {
    "papermill": {
     "duration": 0.092577,
     "end_time": "2024-12-18T20:19:20.729306",
     "exception": false,
     "start_time": "2024-12-18T20:19:20.636729",
     "status": "completed"
    },
    "tags": []
   },
   "outputs": [],
   "source": []
  },
  {
   "cell_type": "code",
   "execution_count": null,
   "id": "96f095e3",
   "metadata": {
    "papermill": {
     "duration": 0.049932,
     "end_time": "2024-12-18T20:19:20.829289",
     "exception": false,
     "start_time": "2024-12-18T20:19:20.779357",
     "status": "completed"
    },
    "tags": []
   },
   "outputs": [],
   "source": []
  },
  {
   "cell_type": "code",
   "execution_count": null,
   "id": "13e3f742",
   "metadata": {
    "papermill": {
     "duration": 0.049715,
     "end_time": "2024-12-18T20:19:20.928783",
     "exception": false,
     "start_time": "2024-12-18T20:19:20.879068",
     "status": "completed"
    },
    "tags": []
   },
   "outputs": [],
   "source": []
  }
 ],
 "metadata": {
  "kaggle": {
   "accelerator": "gpu",
   "dataSources": [
    {
     "databundleVersionId": 10381525,
     "sourceId": 70942,
     "sourceType": "competition"
    }
   ],
   "dockerImageVersionId": 30804,
   "isGpuEnabled": true,
   "isInternetEnabled": false,
   "language": "python",
   "sourceType": "notebook"
  },
  "kernelspec": {
   "display_name": "Python 3",
   "language": "python",
   "name": "python3"
  },
  "language_info": {
   "codemirror_mode": {
    "name": "ipython",
    "version": 3
   },
   "file_extension": ".py",
   "mimetype": "text/x-python",
   "name": "python",
   "nbconvert_exporter": "python",
   "pygments_lexer": "ipython3",
   "version": "3.10.14"
  },
  "papermill": {
   "default_parameters": {},
   "duration": 160.771307,
   "end_time": "2024-12-18T20:19:23.335009",
   "environment_variables": {},
   "exception": null,
   "input_path": "__notebook__.ipynb",
   "output_path": "__notebook__.ipynb",
   "parameters": {},
   "start_time": "2024-12-18T20:16:42.563702",
   "version": "2.6.0"
  }
 },
 "nbformat": 4,
 "nbformat_minor": 5
}
