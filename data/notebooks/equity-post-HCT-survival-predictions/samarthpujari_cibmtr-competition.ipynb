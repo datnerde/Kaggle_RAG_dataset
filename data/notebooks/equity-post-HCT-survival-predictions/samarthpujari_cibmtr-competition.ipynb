{
 "cells": [
  {
   "cell_type": "code",
   "execution_count": 1,
   "id": "e63c274e",
   "metadata": {
    "_cell_guid": "b1076dfc-b9ad-4769-8c92-a6c4dae69d19",
    "_uuid": "8f2839f25d086af736a60e9eeb907d3b93b6e0e5",
    "execution": {
     "iopub.execute_input": "2025-01-08T14:48:44.543388Z",
     "iopub.status.busy": "2025-01-08T14:48:44.542987Z",
     "iopub.status.idle": "2025-01-08T14:48:44.936255Z",
     "shell.execute_reply": "2025-01-08T14:48:44.934800Z"
    },
    "papermill": {
     "duration": 0.401374,
     "end_time": "2025-01-08T14:48:44.938469",
     "exception": false,
     "start_time": "2025-01-08T14:48:44.537095",
     "status": "completed"
    },
    "tags": []
   },
   "outputs": [
    {
     "name": "stdout",
     "output_type": "stream",
     "text": [
      "/kaggle/input/equity-post-HCT-survival-predictions/sample_submission.csv\n",
      "/kaggle/input/equity-post-HCT-survival-predictions/data_dictionary.csv\n",
      "/kaggle/input/equity-post-HCT-survival-predictions/train.csv\n",
      "/kaggle/input/equity-post-HCT-survival-predictions/test.csv\n"
     ]
    }
   ],
   "source": [
    "# This Python 3 environment comes with many helpful analytics libraries installed\n",
    "# It is defined by the kaggle/python Docker image: https://github.com/kaggle/docker-python\n",
    "# For example, here's several helpful packages to load\n",
    "\n",
    "import numpy as np # linear algebra\n",
    "import pandas as pd # data processing, CSV file I/O (e.g. pd.read_csv)\n",
    "\n",
    "# Input data files are available in the read-only \"../input/\" directory\n",
    "# For example, running this (by clicking run or pressing Shift+Enter) will list all files under the input directory\n",
    "\n",
    "import os\n",
    "for dirname, _, filenames in os.walk('/kaggle/input'):\n",
    "    for filename in filenames:\n",
    "        print(os.path.join(dirname, filename))\n",
    "\n",
    "# You can write up to 20GB to the current directory (/kaggle/working/) that gets preserved as output when you create a version using \"Save & Run All\" \n",
    "# You can also write temporary files to /kaggle/temp/, but they won't be saved outside of the current session"
   ]
  },
  {
   "cell_type": "code",
   "execution_count": 2,
   "id": "e9274ce1",
   "metadata": {
    "execution": {
     "iopub.execute_input": "2025-01-08T14:48:44.948497Z",
     "iopub.status.busy": "2025-01-08T14:48:44.947657Z",
     "iopub.status.idle": "2025-01-08T14:48:46.993080Z",
     "shell.execute_reply": "2025-01-08T14:48:46.991983Z"
    },
    "papermill": {
     "duration": 2.052166,
     "end_time": "2025-01-08T14:48:46.995019",
     "exception": false,
     "start_time": "2025-01-08T14:48:44.942853",
     "status": "completed"
    },
    "tags": []
   },
   "outputs": [],
   "source": [
    "import pandas as pd\n",
    "import numpy as np\n",
    "from sklearn.model_selection import train_test_split, StratifiedKFold\n",
    "from sklearn.ensemble import RandomForestRegressor\n",
    "from sklearn.preprocessing import StandardScaler, OneHotEncoder\n",
    "from sklearn.compose import ColumnTransformer\n",
    "from sklearn.pipeline import Pipeline\n",
    "from sklearn.impute import SimpleImputer\n",
    "from sklearn.metrics import make_scorer"
   ]
  },
  {
   "cell_type": "code",
   "execution_count": 3,
   "id": "b291d89d",
   "metadata": {
    "execution": {
     "iopub.execute_input": "2025-01-08T14:48:47.004792Z",
     "iopub.status.busy": "2025-01-08T14:48:47.004272Z",
     "iopub.status.idle": "2025-01-08T14:48:47.415007Z",
     "shell.execute_reply": "2025-01-08T14:48:47.413749Z"
    },
    "papermill": {
     "duration": 0.417851,
     "end_time": "2025-01-08T14:48:47.417078",
     "exception": false,
     "start_time": "2025-01-08T14:48:46.999227",
     "status": "completed"
    },
    "tags": []
   },
   "outputs": [],
   "source": [
    "# Load data\n",
    "train_path = '/kaggle/input/equity-post-HCT-survival-predictions/train.csv'\n",
    "test_path = '/kaggle/input/equity-post-HCT-survival-predictions/test.csv'\n",
    "data_dict_path = '/kaggle/input/equity-post-HCT-survival-predictions/data_dictionary.csv'\n",
    "sample_submission_path = '/kaggle/input/equity-post-HCT-survival-predictions/sample_submission.csv'\n",
    "\n",
    "train = pd.read_csv(train_path)\n",
    "test = pd.read_csv(test_path)\n",
    "data_dict = pd.read_csv(data_dict_path)\n",
    "sample_submission = pd.read_csv(sample_submission_path)"
   ]
  },
  {
   "cell_type": "code",
   "execution_count": 4,
   "id": "3ede9793",
   "metadata": {
    "execution": {
     "iopub.execute_input": "2025-01-08T14:48:47.426434Z",
     "iopub.status.busy": "2025-01-08T14:48:47.426018Z",
     "iopub.status.idle": "2025-01-08T14:48:47.446595Z",
     "shell.execute_reply": "2025-01-08T14:48:47.445425Z"
    },
    "papermill": {
     "duration": 0.027093,
     "end_time": "2025-01-08T14:48:47.448311",
     "exception": false,
     "start_time": "2025-01-08T14:48:47.421218",
     "status": "completed"
    },
    "tags": []
   },
   "outputs": [
    {
     "name": "stdout",
     "output_type": "stream",
     "text": [
      "Train Shape: (28800, 60)\n",
      "Test Shape: (3, 58)\n"
     ]
    },
    {
     "data": {
      "text/html": [
       "<div>\n",
       "<style scoped>\n",
       "    .dataframe tbody tr th:only-of-type {\n",
       "        vertical-align: middle;\n",
       "    }\n",
       "\n",
       "    .dataframe tbody tr th {\n",
       "        vertical-align: top;\n",
       "    }\n",
       "\n",
       "    .dataframe thead th {\n",
       "        text-align: right;\n",
       "    }\n",
       "</style>\n",
       "<table border=\"1\" class=\"dataframe\">\n",
       "  <thead>\n",
       "    <tr style=\"text-align: right;\">\n",
       "      <th></th>\n",
       "      <th>variable</th>\n",
       "      <th>description</th>\n",
       "      <th>type</th>\n",
       "      <th>values</th>\n",
       "    </tr>\n",
       "  </thead>\n",
       "  <tbody>\n",
       "    <tr>\n",
       "      <th>0</th>\n",
       "      <td>dri_score</td>\n",
       "      <td>Refined disease risk index</td>\n",
       "      <td>Categorical</td>\n",
       "      <td>['Intermediate' 'High' 'N/A - non-malignant in...</td>\n",
       "    </tr>\n",
       "    <tr>\n",
       "      <th>1</th>\n",
       "      <td>psych_disturb</td>\n",
       "      <td>Psychiatric disturbance</td>\n",
       "      <td>Categorical</td>\n",
       "      <td>['Yes' 'No' nan 'Not done']</td>\n",
       "    </tr>\n",
       "    <tr>\n",
       "      <th>2</th>\n",
       "      <td>cyto_score</td>\n",
       "      <td>Cytogenetic score</td>\n",
       "      <td>Categorical</td>\n",
       "      <td>['Intermediate' 'Favorable' 'Poor' 'TBD' nan '...</td>\n",
       "    </tr>\n",
       "    <tr>\n",
       "      <th>3</th>\n",
       "      <td>diabetes</td>\n",
       "      <td>Diabetes</td>\n",
       "      <td>Categorical</td>\n",
       "      <td>['No' 'Yes' nan 'Not done']</td>\n",
       "    </tr>\n",
       "    <tr>\n",
       "      <th>4</th>\n",
       "      <td>hla_match_c_high</td>\n",
       "      <td>Recipient / 1st donor allele level (high resol...</td>\n",
       "      <td>Numerical</td>\n",
       "      <td>NaN</td>\n",
       "    </tr>\n",
       "  </tbody>\n",
       "</table>\n",
       "</div>"
      ],
      "text/plain": [
       "           variable                                        description  \\\n",
       "0         dri_score                         Refined disease risk index   \n",
       "1     psych_disturb                            Psychiatric disturbance   \n",
       "2        cyto_score                                  Cytogenetic score   \n",
       "3          diabetes                                           Diabetes   \n",
       "4  hla_match_c_high  Recipient / 1st donor allele level (high resol...   \n",
       "\n",
       "          type                                             values  \n",
       "0  Categorical  ['Intermediate' 'High' 'N/A - non-malignant in...  \n",
       "1  Categorical                        ['Yes' 'No' nan 'Not done']  \n",
       "2  Categorical  ['Intermediate' 'Favorable' 'Poor' 'TBD' nan '...  \n",
       "3  Categorical                        ['No' 'Yes' nan 'Not done']  \n",
       "4    Numerical                                                NaN  "
      ]
     },
     "execution_count": 4,
     "metadata": {},
     "output_type": "execute_result"
    }
   ],
   "source": [
    "# Display dataset overview\n",
    "print(\"Train Shape:\", train.shape)\n",
    "print(\"Test Shape:\", test.shape)\n",
    "data_dict.head()"
   ]
  },
  {
   "cell_type": "code",
   "execution_count": 5,
   "id": "6f7a5988",
   "metadata": {
    "execution": {
     "iopub.execute_input": "2025-01-08T14:48:47.458153Z",
     "iopub.status.busy": "2025-01-08T14:48:47.457751Z",
     "iopub.status.idle": "2025-01-08T14:48:47.481127Z",
     "shell.execute_reply": "2025-01-08T14:48:47.479919Z"
    },
    "papermill": {
     "duration": 0.03065,
     "end_time": "2025-01-08T14:48:47.483377",
     "exception": false,
     "start_time": "2025-01-08T14:48:47.452727",
     "status": "completed"
    },
    "tags": []
   },
   "outputs": [],
   "source": [
    "# Extract features and target\n",
    "target = 'efs_time'  # Updated target column\n",
    "censor_col = 'efs'  # Updated censor column\n",
    "\n",
    "X = train.drop(columns=[target, censor_col, 'ID'])\n",
    "y = train[target]\n",
    "event = train[censor_col]"
   ]
  },
  {
   "cell_type": "code",
   "execution_count": 6,
   "id": "b7ec8818",
   "metadata": {
    "execution": {
     "iopub.execute_input": "2025-01-08T14:48:47.493372Z",
     "iopub.status.busy": "2025-01-08T14:48:47.492993Z",
     "iopub.status.idle": "2025-01-08T14:48:47.497988Z",
     "shell.execute_reply": "2025-01-08T14:48:47.496796Z"
    },
    "papermill": {
     "duration": 0.012117,
     "end_time": "2025-01-08T14:48:47.499860",
     "exception": false,
     "start_time": "2025-01-08T14:48:47.487743",
     "status": "completed"
    },
    "tags": []
   },
   "outputs": [],
   "source": [
    "# Ensure race_group column exists\n",
    "if 'race_group' not in train.columns:\n",
    "    raise KeyError(\"Column 'race_group' not found in the training data\")\n",
    "\n",
    "race_group = train['race_group']"
   ]
  },
  {
   "cell_type": "code",
   "execution_count": 7,
   "id": "a2afc861",
   "metadata": {
    "execution": {
     "iopub.execute_input": "2025-01-08T14:48:47.510732Z",
     "iopub.status.busy": "2025-01-08T14:48:47.510296Z",
     "iopub.status.idle": "2025-01-08T14:48:47.526738Z",
     "shell.execute_reply": "2025-01-08T14:48:47.525484Z"
    },
    "papermill": {
     "duration": 0.024381,
     "end_time": "2025-01-08T14:48:47.528777",
     "exception": false,
     "start_time": "2025-01-08T14:48:47.504396",
     "status": "completed"
    },
    "tags": []
   },
   "outputs": [],
   "source": [
    "# Handle categorical and numeric features\n",
    "categorical_features = X.select_dtypes(include=['object']).columns.tolist()\n",
    "numeric_features = X.select_dtypes(include=['int64', 'float64']).columns.tolist()"
   ]
  },
  {
   "cell_type": "code",
   "execution_count": 8,
   "id": "01163ee2",
   "metadata": {
    "execution": {
     "iopub.execute_input": "2025-01-08T14:48:47.539044Z",
     "iopub.status.busy": "2025-01-08T14:48:47.538609Z",
     "iopub.status.idle": "2025-01-08T14:48:47.544090Z",
     "shell.execute_reply": "2025-01-08T14:48:47.542981Z"
    },
    "papermill": {
     "duration": 0.012719,
     "end_time": "2025-01-08T14:48:47.545944",
     "exception": false,
     "start_time": "2025-01-08T14:48:47.533225",
     "status": "completed"
    },
    "tags": []
   },
   "outputs": [],
   "source": [
    "# Preprocessing\n",
    "numeric_transformer = Pipeline(steps=[\n",
    "    ('imputer', SimpleImputer(strategy='mean')),\n",
    "    ('scaler', StandardScaler())\n",
    "])\n",
    "\n",
    "categorical_transformer = Pipeline(steps=[\n",
    "    ('imputer', SimpleImputer(strategy='most_frequent')),\n",
    "    ('onehot', OneHotEncoder(handle_unknown='ignore'))\n",
    "])\n",
    "\n",
    "preprocessor = ColumnTransformer(\n",
    "    transformers=[\n",
    "        ('num', numeric_transformer, numeric_features),\n",
    "        ('cat', categorical_transformer, categorical_features)\n",
    "    ])"
   ]
  },
  {
   "cell_type": "code",
   "execution_count": 9,
   "id": "5a7f0451",
   "metadata": {
    "execution": {
     "iopub.execute_input": "2025-01-08T14:48:47.556053Z",
     "iopub.status.busy": "2025-01-08T14:48:47.555632Z",
     "iopub.status.idle": "2025-01-08T14:48:47.562005Z",
     "shell.execute_reply": "2025-01-08T14:48:47.560849Z"
    },
    "papermill": {
     "duration": 0.013549,
     "end_time": "2025-01-08T14:48:47.563853",
     "exception": false,
     "start_time": "2025-01-08T14:48:47.550304",
     "status": "completed"
    },
    "tags": []
   },
   "outputs": [],
   "source": [
    "# Define a stratified concordance index scorer\n",
    "def stratified_c_index(y_true, y_pred, groups):\n",
    "    group_indices = np.unique(groups)\n",
    "    c_indices = []\n",
    "    for group in group_indices:\n",
    "        mask = (groups == group).values if isinstance(groups, pd.Series) else (groups == group)\n",
    "        if mask.sum() > 1:\n",
    "            c_indices.append(concordance_index(np.array(y_true)[mask], np.array(y_pred)[mask]))\n",
    "    return np.mean(c_indices) - np.std(c_indices)\n"
   ]
  },
  {
   "cell_type": "code",
   "execution_count": 10,
   "id": "bb7a33df",
   "metadata": {
    "execution": {
     "iopub.execute_input": "2025-01-08T14:48:47.573986Z",
     "iopub.status.busy": "2025-01-08T14:48:47.573589Z",
     "iopub.status.idle": "2025-01-08T14:48:47.580244Z",
     "shell.execute_reply": "2025-01-08T14:48:47.578992Z"
    },
    "papermill": {
     "duration": 0.01381,
     "end_time": "2025-01-08T14:48:47.582103",
     "exception": false,
     "start_time": "2025-01-08T14:48:47.568293",
     "status": "completed"
    },
    "tags": []
   },
   "outputs": [],
   "source": [
    "def concordance_index(y_true, y_pred):\n",
    "    pairs = 0\n",
    "    concordant = 0\n",
    "    for i in range(len(y_true)):\n",
    "        for j in range(i + 1, len(y_true)):\n",
    "            if y_true[i] != y_true[j]:\n",
    "                pairs += 1\n",
    "                if (y_pred[i] - y_pred[j]) * (y_true[i] - y_true[j]) > 0:\n",
    "                    concordant += 1\n",
    "    return concordant / pairs if pairs > 0 else 0.5\n",
    "\n",
    "scorer = make_scorer(stratified_c_index, greater_is_better=True, groups=race_group)\n"
   ]
  },
  {
   "cell_type": "code",
   "execution_count": 11,
   "id": "9332b139",
   "metadata": {
    "execution": {
     "iopub.execute_input": "2025-01-08T14:48:47.591858Z",
     "iopub.status.busy": "2025-01-08T14:48:47.591488Z",
     "iopub.status.idle": "2025-01-08T14:48:47.596210Z",
     "shell.execute_reply": "2025-01-08T14:48:47.595196Z"
    },
    "papermill": {
     "duration": 0.011797,
     "end_time": "2025-01-08T14:48:47.598162",
     "exception": false,
     "start_time": "2025-01-08T14:48:47.586365",
     "status": "completed"
    },
    "tags": []
   },
   "outputs": [],
   "source": [
    "# Model pipeline\n",
    "model = Pipeline(steps=[\n",
    "    ('preprocessor', preprocessor),\n",
    "    ('regressor', RandomForestRegressor(n_estimators=100, random_state=42))\n",
    "])"
   ]
  },
  {
   "cell_type": "code",
   "execution_count": 12,
   "id": "27ebba0b",
   "metadata": {
    "execution": {
     "iopub.execute_input": "2025-01-08T14:48:47.608426Z",
     "iopub.status.busy": "2025-01-08T14:48:47.608021Z",
     "iopub.status.idle": "2025-01-08T14:54:15.064342Z",
     "shell.execute_reply": "2025-01-08T14:54:15.063185Z"
    },
    "papermill": {
     "duration": 327.467418,
     "end_time": "2025-01-08T14:54:15.069994",
     "exception": false,
     "start_time": "2025-01-08T14:48:47.602576",
     "status": "completed"
    },
    "tags": []
   },
   "outputs": [
    {
     "name": "stdout",
     "output_type": "stream",
     "text": [
      "CV Stratified C-Index: 0.601528569285181\n"
     ]
    }
   ],
   "source": [
    "# Cross-validation\n",
    "cv = StratifiedKFold(n_splits=5, shuffle=True, random_state=42)\n",
    "scores = []\n",
    "\n",
    "for train_idx, val_idx in cv.split(X, event):\n",
    "    X_train, X_val = X.iloc[train_idx], X.iloc[val_idx]\n",
    "    y_train, y_val = y.iloc[train_idx], y.iloc[val_idx]\n",
    "    race_train, race_val = race_group.iloc[train_idx], race_group.iloc[val_idx]\n",
    "    \n",
    "    model.fit(X_train, y_train)\n",
    "    preds = model.predict(X_val)\n",
    "    score = stratified_c_index(y_val, preds, race_val)\n",
    "    scores.append(score)\n",
    "\n",
    "print(\"CV Stratified C-Index:\", np.mean(scores))\n"
   ]
  },
  {
   "cell_type": "code",
   "execution_count": 13,
   "id": "9bb1c675",
   "metadata": {
    "execution": {
     "iopub.execute_input": "2025-01-08T14:54:15.079745Z",
     "iopub.status.busy": "2025-01-08T14:54:15.079400Z",
     "iopub.status.idle": "2025-01-08T14:55:33.247784Z",
     "shell.execute_reply": "2025-01-08T14:55:33.246681Z"
    },
    "papermill": {
     "duration": 78.175919,
     "end_time": "2025-01-08T14:55:33.250139",
     "exception": false,
     "start_time": "2025-01-08T14:54:15.074220",
     "status": "completed"
    },
    "tags": []
   },
   "outputs": [],
   "source": [
    "# Train on full data and predict\n",
    "test_features = test.drop(columns=['ID'])\n",
    "model.fit(X, y)\n",
    "test_predictions = model.predict(test_features)\n"
   ]
  },
  {
   "cell_type": "code",
   "execution_count": 14,
   "id": "d4342c84",
   "metadata": {
    "execution": {
     "iopub.execute_input": "2025-01-08T14:55:33.260315Z",
     "iopub.status.busy": "2025-01-08T14:55:33.259947Z",
     "iopub.status.idle": "2025-01-08T14:55:33.268841Z",
     "shell.execute_reply": "2025-01-08T14:55:33.267774Z"
    },
    "papermill": {
     "duration": 0.016309,
     "end_time": "2025-01-08T14:55:33.270953",
     "exception": false,
     "start_time": "2025-01-08T14:55:33.254644",
     "status": "completed"
    },
    "tags": []
   },
   "outputs": [
    {
     "name": "stdout",
     "output_type": "stream",
     "text": [
      "Submission file saved as submission.csv\n"
     ]
    }
   ],
   "source": [
    "# Submission\n",
    "submission = pd.DataFrame({'ID': test['ID'], 'prediction': test_predictions})\n",
    "submission.to_csv('submission.csv', index=False)\n",
    "print(\"Submission file saved as submission.csv\")\n"
   ]
  }
 ],
 "metadata": {
  "kaggle": {
   "accelerator": "none",
   "dataSources": [
    {
     "databundleVersionId": 10381525,
     "sourceId": 70942,
     "sourceType": "competition"
    }
   ],
   "dockerImageVersionId": 30822,
   "isGpuEnabled": false,
   "isInternetEnabled": false,
   "language": "python",
   "sourceType": "notebook"
  },
  "kernelspec": {
   "display_name": "Python 3",
   "language": "python",
   "name": "python3"
  },
  "language_info": {
   "codemirror_mode": {
    "name": "ipython",
    "version": 3
   },
   "file_extension": ".py",
   "mimetype": "text/x-python",
   "name": "python",
   "nbconvert_exporter": "python",
   "pygments_lexer": "ipython3",
   "version": "3.10.12"
  },
  "papermill": {
   "default_parameters": {},
   "duration": 411.673339,
   "end_time": "2025-01-08T14:55:33.896468",
   "environment_variables": {},
   "exception": null,
   "input_path": "__notebook__.ipynb",
   "output_path": "__notebook__.ipynb",
   "parameters": {},
   "start_time": "2025-01-08T14:48:42.223129",
   "version": "2.6.0"
  }
 },
 "nbformat": 4,
 "nbformat_minor": 5
}
