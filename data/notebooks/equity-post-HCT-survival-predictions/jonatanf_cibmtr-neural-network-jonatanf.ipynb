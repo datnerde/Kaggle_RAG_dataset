{
 "cells": [
  {
   "cell_type": "code",
   "execution_count": 1,
   "id": "13cd25fc",
   "metadata": {
    "_cell_guid": "b1076dfc-b9ad-4769-8c92-a6c4dae69d19",
    "_uuid": "8f2839f25d086af736a60e9eeb907d3b93b6e0e5",
    "execution": {
     "iopub.execute_input": "2024-12-12T13:24:05.842370Z",
     "iopub.status.busy": "2024-12-12T13:24:05.842071Z",
     "iopub.status.idle": "2024-12-12T13:24:06.531533Z",
     "shell.execute_reply": "2024-12-12T13:24:06.530583Z"
    },
    "papermill": {
     "duration": 0.6955,
     "end_time": "2024-12-12T13:24:06.533501",
     "exception": false,
     "start_time": "2024-12-12T13:24:05.838001",
     "status": "completed"
    },
    "tags": []
   },
   "outputs": [
    {
     "name": "stdout",
     "output_type": "stream",
     "text": [
      "/kaggle/input/model91/CIBMTRJoni(7).h5\n",
      "/kaggle/input/equity-post-HCT-survival-predictions/sample_submission.csv\n",
      "/kaggle/input/equity-post-HCT-survival-predictions/data_dictionary.csv\n",
      "/kaggle/input/equity-post-HCT-survival-predictions/train.csv\n",
      "/kaggle/input/equity-post-HCT-survival-predictions/test.csv\n",
      "/kaggle/input/model16/CIBMTRJoni(9).h5\n",
      "/kaggle/input/model78/CIBMTRJoni(8).h5\n"
     ]
    }
   ],
   "source": [
    "# This Python 3 environment comes with many helpful analytics libraries installed\n",
    "# It is defined by the kaggle/python Docker image: https://github.com/kaggle/docker-python\n",
    "# For example, here's several helpful packages to load\n",
    "\n",
    "\n",
    "import numpy as np # linear algebra\n",
    "import pandas as pd # data processing, CSV file I/O (e.g. pd.read_csv)\n",
    "\n",
    "# Input data files are available in the read-only \"../input/\" directory\n",
    "# For example, running this (by clicking run or pressing Shift+Enter) will list all files under the input directory\n",
    "\n",
    "import os\n",
    "for dirname, _, filenames in os.walk('/kaggle/input'):\n",
    "    for filename in filenames:\n",
    "        print(os.path.join(dirname, filename))\n",
    "\n",
    "# You can write up to 20GB to the current directory (/kaggle/working/) that gets preserved as output when you create a version using \"Save & Run All\" \n",
    "# You can also write temporary files to /kaggle/temp/, but they won't be saved outside of the current session"
   ]
  },
  {
   "cell_type": "code",
   "execution_count": 2,
   "id": "6294293f",
   "metadata": {
    "execution": {
     "iopub.execute_input": "2024-12-12T13:24:06.540543Z",
     "iopub.status.busy": "2024-12-12T13:24:06.540229Z",
     "iopub.status.idle": "2024-12-12T13:24:06.903834Z",
     "shell.execute_reply": "2024-12-12T13:24:06.902881Z"
    },
    "papermill": {
     "duration": 0.369703,
     "end_time": "2024-12-12T13:24:06.906368",
     "exception": false,
     "start_time": "2024-12-12T13:24:06.536665",
     "status": "completed"
    },
    "tags": []
   },
   "outputs": [
    {
     "name": "stdout",
     "output_type": "stream",
     "text": [
      "dri_score\n",
      "{'Intermediate': 1, 'High': 2, 'N/A - non-malignant indication': 3, 'N/A - pediatric\\n High - TED AML case <missing cytogenetics': 4, 'TBD cytogenetics': 5, 'Low\\n Intermediate - TED AML case <missing cytogenetics\\n N/A - disease not classifiable Very high': 6, 'Missing disease status': 7}\n",
      "psych_disturb\n",
      "{'Yes': 1, 'No Not done': 2}\n",
      "cyto_score\n",
      "{'Intermediate': 1, 'Favorable': 2, 'Poor': 3, 'TBD Normal': 4, 'Other': 5, 'Not tested': 6}\n",
      "diabetes\n",
      "{'No': 1, 'Yes Not done': 2}\n",
      "tbi_status\n",
      "{'No TBI': 1, 'TBI + Cy +- Other': 2, 'TBI +- Other, <=cGy': 3, 'TBI +- Other, >cGy\\n TBI +- Other, -cGy, single': 4, 'TBI +- Other, unknown dose\\n TBI +- Other, -cGy, unknown dose': 5, 'TBI +- Other, -cGy, fractionated': 6}\n",
      "arrhythmia\n",
      "{'No Yes': 1, 'Not done': 2}\n",
      "graft_type\n",
      "{'Peripheral blood': 1, 'Bone marrow': 2}\n",
      "vent_hist\n",
      "{'No': 1, 'Yes': 2}\n",
      "renal_issue\n",
      "{'No Yes': 1, 'Not done': 2}\n",
      "pulm_severe\n",
      "{'No': 1, 'Yes Not done': 2}\n",
      "prim_disease_hct\n",
      "{'ALL': 1, 'MPN': 2, 'IPA': 3, 'AML': 4, 'MDS': 5, 'Other acute leukemia': 6, 'AI': 7, 'SAA': 8, 'IEA\\n NHL': 9, 'PCD': 10, 'IIS': 11, 'HIS': 12, 'Other leukemia': 13, 'Solid tumor': 14, 'IMD': 15, 'HD': 16, 'CML': 17}\n",
      "cmv_status\n",
      "{'+/-': 1, '+/+': 2, '-/-': 3, '-/+': 4}\n",
      "tce_imm_match\n",
      "{'P/P G/G': 1, 'H/H': 2, 'G/B': 3, 'H/B': 4, 'P/H': 5, 'P/G': 6, 'P/B': 7}\n",
      "rituximab\n",
      "{'No': 1, 'Yes': 2}\n",
      "prod_type\n",
      "{'PB': 1, 'BM': 2}\n",
      "cyto_score_detail\n",
      "{'Intermediate TBD': 1, 'Favorable': 2, 'Poor': 3, 'Not tested': 4}\n",
      "conditioning_intensity\n",
      "{'RIC NMA': 1, 'MAC': 2, 'TBD': 3, 'No drugs reported\\n N/A, F(pre-TED) not submitted': 4}\n",
      "ethnicity\n",
      "{'Not Hispanic or Latino': 1, 'Hispanic or Latino\\n Non-resident of the U.S.': 2}\n",
      "obesity\n",
      "{'No': 1, 'Yes Not done': 2}\n",
      "mrd_hct\n",
      "{'nan Negative': 1, 'Positive': 2}\n",
      "in_vivo_tcd\n",
      "{'Yes': 1, 'No': 2}\n",
      "tce_match\n",
      "{'Permissive': 1, 'Fully matched GvH non-permissive\\n HvG non-permissive': 2}\n",
      "hepatic_severe\n",
      "{'No Yes': 1, 'Not done': 2}\n",
      "prior_tumor\n",
      "{'Yes': 1, 'No Not done': 2}\n",
      "peptic_ulcer\n",
      "{'No Yes': 1, 'Not done': 2}\n",
      "gvhd_proph\n",
      "{'FK+ MMF +- others': 1, 'Parent Q = yes, but no agent\\n FK+ MTX +- others(not MMF)': 2, 'FKalone': 3, 'Cyclophosphamide alone\\n CSA + MMF +- others(not FK)': 4, 'TDEPLETION +- other\\n Cyclophosphamide +- others': 5, 'No GvHD Prophylaxis\\n Other GVHD Prophylaxis': 6, 'CSA alone': 7, 'TDEPLETION alone': 8, 'CDselect alone\\n CSA + MTX +- others(not MMF,FK)': 9, 'FK+- others(not MMF,MTX)\\n CDselect +- other': 10, 'CSA +- others(not FK,MMF,MTX)': 11}\n",
      "rheum_issue\n",
      "{'No Yes': 1, 'Not done': 2}\n",
      "sex_match\n",
      "{'M-M': 1, 'F-F': 2, 'F-M': 3, 'M-F': 4}\n",
      "race_group\n",
      "{'White': 1, 'Black or African-American\\n Native Hawaiian or other Pacific Islander': 2, 'Asian\\n American Indian or Alaska Native': 3, 'More than one race': 4}\n",
      "hepatic_mild\n",
      "{'No': 1, 'Yes Not done': 2}\n",
      "tce_div_match\n",
      "{'Permissive mismatched': 1, 'Bi-directional non-permissive\\n GvH non-permissive': 2, 'HvG non-permissive': 3}\n",
      "donor_related\n",
      "{'Unrelated': 1, 'Related': 2, 'Multiple donor (non-UCB)': 3}\n",
      "melphalan_dose\n",
      "{'N/A, Mel not given': 1, 'MEL': 2}\n",
      "cardiac\n",
      "{'No': 1, 'Yes Not done': 2}\n",
      "pulm_moderate\n",
      "{'Yes': 1, 'Not done': 2, 'No': 3}\n"
     ]
    }
   ],
   "source": [
    "df_test_orig=pd.read_csv('/kaggle/input/equity-post-HCT-survival-predictions/test.csv')\n",
    "\n",
    "df_train=pd.read_csv('/kaggle/input/equity-post-HCT-survival-predictions/train.csv')\n",
    "df_dict=pd.read_csv('/kaggle/input/equity-post-HCT-survival-predictions/data_dictionary.csv').loc[:56]\n",
    "\n",
    "df_test=df_test_orig.copy()\n",
    "# Procesar las columnas categóricas\n",
    "for categorical_column in df_test[df_dict[df_dict['type'] == 'Categorical']['variable']].columns:\n",
    "    if categorical_column != 'efs':\n",
    "        # Generar un mapeo de categoría a número basado en el orden de categories_list\n",
    "        categories_list = [x.replace(\"'\", \"\").replace('\"', \"\").replace(' nan','') for x in df_dict[df_dict['variable']==categorical_column]['values'].values[0][1:-1].split(\"' '\")]\n",
    "        print(categorical_column)\n",
    "        category_to_number = {category: idx + 1 for idx, category in enumerate(categories_list)}\n",
    "        print(category_to_number)\n",
    "        # Mapear las categorías al dataframe\n",
    "        df_test[categorical_column] = df_test[categorical_column].map(category_to_number)\n",
    "\n",
    "# Rellenar valores faltantes\n",
    "df_test.fillna(-100, inplace=True)\n",
    "\n",
    "df_Xtest=df_test.set_index('ID')"
   ]
  },
  {
   "cell_type": "code",
   "execution_count": 3,
   "id": "9d5d1ded",
   "metadata": {
    "_kg_hide-input": true,
    "_kg_hide-output": true,
    "execution": {
     "iopub.execute_input": "2024-12-12T13:24:06.914112Z",
     "iopub.status.busy": "2024-12-12T13:24:06.913794Z",
     "iopub.status.idle": "2024-12-12T13:24:20.729535Z",
     "shell.execute_reply": "2024-12-12T13:24:20.728842Z"
    },
    "papermill": {
     "duration": 13.822078,
     "end_time": "2024-12-12T13:24:20.731544",
     "exception": false,
     "start_time": "2024-12-12T13:24:06.909466",
     "status": "completed"
    },
    "tags": []
   },
   "outputs": [],
   "source": [
    "import tensorflow as tf\n",
    "from tensorflow.keras import layers\n",
    "from tensorflow.keras.layers import Input, Flatten, Concatenate, Lambda, LayerNormalization, Dense, MultiHeadAttention, Add, GlobalAveragePooling1D, Dropout, LSTM, ReLU, LeakyReLU, BatchNormalization\n",
    "\n",
    "# Parámetros\n",
    "embedding_dim = 64\n",
    "drop = 0\n",
    "num_heads = 4\n",
    "key_dim = 64\n",
    "\n",
    "# Entrada\n",
    "inputs = tf.keras.Input(shape=(57,), name=\"Input\")\n",
    "# mask = tf.cast(tf.not_equal(inputs, -100), dtype=tf.float32)\n",
    "mask = layers.Lambda(lambda x: tf.cast(tf.not_equal(x, -100), dtype=tf.float32))(inputs)\n",
    "\n",
    "categorical_indices = df_dict.loc[:56,:][df_dict.loc[:56,:]['type']=='Categorical'].index  # Ejemplo de índices de columnas categóricas\n",
    "categorical_vocab_sizes = (np.ones(categorical_indices.shape)*16).astype(int)  # Tamaños de vocabularios para cada columna categórica\n",
    "# - Índices de columnas numéricas\n",
    "numerical_indices = df_dict.loc[:56,:][df_dict.loc[:56,:]['type']=='Numerical'].index  # Ejemplo de índices de columnas numéricas\n",
    "\n",
    "\n",
    "\n",
    "\n",
    "act = tf.nn.gelu\n",
    "\n",
    "# Procesar columnas categóricas con embeddings\n",
    "categorical_embeddings = []\n",
    "for i, vocab_size in zip(categorical_indices, categorical_vocab_sizes):\n",
    "    masked_input = inputs[:, i] * mask[:, i]\n",
    "  # Aplicar la máscara\n",
    "    embedding = layers.Embedding(input_dim=vocab_size, output_dim=embedding_dim)(masked_input)\n",
    "    embedding = layers.Lambda(lambda x: tf.expand_dims(x, 1))(embedding)\n",
    "    embedding = layers.Dense(units=embedding_dim, activation=act)(embedding)\n",
    "    embedding = layers.Dense(units=32, activation=act)(embedding)\n",
    "    embedding = layers.Dense(units=8, activation=act)(embedding)\n",
    "    # print(embedding.shape,'embedding')\n",
    "    # print(type(embedding))\n",
    "    categorical_embeddings.append(embedding)\n",
    "\n",
    "categorical_embeddings = layers.Concatenate(axis=1)(categorical_embeddings)\n",
    "\n",
    "# Procesar columnas numéricas con capas densas independientes\n",
    "numerical_dense = []\n",
    "for i in numerical_indices:\n",
    "    masked_input = inputs[:, i] * mask[:, i]# Aplicar la máscara\n",
    "    dense = layers.Dense(units=embedding_dim, activation=act)(layers.Lambda(lambda x: tf.expand_dims(x, -1))(masked_input))\n",
    "    dense = layers.Lambda(lambda x: tf.expand_dims(x, 1))(dense)\n",
    "\n",
    "    dense = layers.Dense(units=embedding_dim, activation=act)(dense)\n",
    "    dense = layers.Dense(units=32, activation=act)(dense)\n",
    "    dense = layers.Dense(units=8, activation=act)(dense)\n",
    "    # print(type(dense))\n",
    "    numerical_dense.append(dense)\n",
    "\n",
    "numerical_dense = layers.Concatenate(axis=1)(numerical_dense)\n",
    "\n",
    "# Concatenar todas las representaciones\n",
    "combined_features = layers.Concatenate(axis=1)([categorical_embeddings, numerical_dense])\n",
    "\n",
    "# Expandir la máscara para MultiHeadAttention\n",
    "mask2 = layers.Lambda(lambda x: tf.repeat(tf.expand_dims(x, -1), repeats=8, axis=-1))(mask)\n",
    "# combined_features = combined_features * mask2\n",
    "combined_features = layers.Lambda(lambda x: tf.convert_to_tensor(x[0] * x[1]))([combined_features, mask2])\n",
    "\n",
    "\n",
    "# attention_mask = tf.expand_dims(mask, 1) * tf.expand_dims(mask, 2)\n",
    "attention_mask = layers.Lambda(lambda x: tf.convert_to_tensor(tf.expand_dims(x, 1) * tf.expand_dims(x, 2)))(mask)\n",
    "\n",
    "\n",
    "\n",
    "num_heads = 4\n",
    "key_dim = embedding_dim\n",
    "\n",
    "# Primera capa de atención\n",
    "attention_input = combined_features\n",
    "attention_output = layers.MultiHeadAttention(num_heads=num_heads, key_dim=key_dim)(\n",
    "    query=combined_features, value=attention_input, key=attention_input, attention_mask=attention_mask\n",
    ")\n",
    "\n",
    "out1 = layers.Add()([attention_input, attention_output])\n",
    "ffn_output = layers.Dense(key_dim, activation=act)(out1)\n",
    "ffn_output = layers.Dense(attention_input.shape[-1])(ffn_output)\n",
    "attention_output = layers.Add()([out1, ffn_output])\n",
    "\n",
    "# Segunda capa de atención\n",
    "attention_input = attention_output\n",
    "attention_output = layers.MultiHeadAttention(num_heads=num_heads, key_dim=embedding_dim)(\n",
    "    query=attention_output, value=attention_output, key=attention_output, attention_mask=attention_mask\n",
    ")\n",
    "\n",
    "out1 = layers.Add()([attention_input, attention_output])\n",
    "ffn_output = layers.Dense(key_dim, activation=act)(out1)\n",
    "ffn_output = layers.Dense(attention_input.shape[-1])(ffn_output)\n",
    "attention_output = layers.Add()([out1, ffn_output])\n",
    "\n",
    "# Tercera capa de atención\n",
    "attention_output = layers.MultiHeadAttention(num_heads=num_heads, key_dim=embedding_dim)(\n",
    "    query=attention_output, value=attention_output, key=attention_output, attention_mask=attention_mask\n",
    ")\n",
    "\n",
    "out1 = layers.Add()([attention_input, attention_output])\n",
    "ffn_output = layers.Dense(key_dim, activation=act)(out1)\n",
    "ffn_output = layers.Dense(attention_input.shape[-1])(ffn_output)\n",
    "attention_output = layers.Add()([out1, ffn_output])\n",
    "\n",
    "# Cuarta capa de atención\n",
    "attention_output = layers.MultiHeadAttention(num_heads=num_heads, key_dim=embedding_dim)(\n",
    "    query=attention_output, value=attention_output, key=attention_output, attention_mask=attention_mask\n",
    ")\n",
    "\n",
    "out1 = layers.Add()([attention_input, attention_output])\n",
    "ffn_output = layers.Dense(key_dim, activation=act)(out1)\n",
    "ffn_output = layers.Dense(attention_input.shape[-1])(ffn_output)\n",
    "attention_output = layers.Add()([out1, ffn_output])\n",
    "\n",
    "# Flatten y capas densas\n",
    "attention_output = layers.Flatten()(attention_output)\n",
    "attention_output = layers.Dense(64, activation=act)(attention_output)\n",
    "attention_output = layers.Dense(32, activation=act)(attention_output)\n",
    "\n",
    "output = layers.Dense(1, activation=\"linear\", name=\"Output\")(attention_output)\n",
    "\n",
    "# Crear el modelo\n",
    "model = tf.keras.Model(inputs=inputs, outputs=output, name=\"Categorical_Numerical_Model\")\n",
    "\n",
    "\n",
    "\n"
   ]
  },
  {
   "cell_type": "code",
   "execution_count": null,
   "id": "36c28f9d",
   "metadata": {
    "papermill": {
     "duration": 0.002584,
     "end_time": "2024-12-12T13:24:20.737389",
     "exception": false,
     "start_time": "2024-12-12T13:24:20.734805",
     "status": "completed"
    },
    "tags": []
   },
   "outputs": [],
   "source": []
  },
  {
   "cell_type": "code",
   "execution_count": 4,
   "id": "4f86abc7",
   "metadata": {
    "_kg_hide-input": true,
    "execution": {
     "iopub.execute_input": "2024-12-12T13:24:20.743945Z",
     "iopub.status.busy": "2024-12-12T13:24:20.743267Z",
     "iopub.status.idle": "2024-12-12T13:24:20.746980Z",
     "shell.execute_reply": "2024-12-12T13:24:20.746264Z"
    },
    "papermill": {
     "duration": 0.008568,
     "end_time": "2024-12-12T13:24:20.748495",
     "exception": false,
     "start_time": "2024-12-12T13:24:20.739927",
     "status": "completed"
    },
    "tags": []
   },
   "outputs": [],
   "source": [
    "# import requests\n",
    "# from tensorflow.keras.models import load_model\n",
    "\n",
    "# # ID del archivo\n",
    "# url = 'https://drive.google.com/uc?export=download&id=1pOdGoPMMJcCuV7ue_9_jpFLX0SMlI0Up'\n",
    "\n",
    "# response = requests.get(url)\n",
    "# with open('modelo.h5', 'wb') as f:\n",
    "#     f.write(response.content)\n",
    "\n",
    "# model.load_weights('modelo.h5')\n",
    "\n",
    "# model.save('model.h5')\n"
   ]
  },
  {
   "cell_type": "code",
   "execution_count": 5,
   "id": "ae5a4bfa",
   "metadata": {
    "execution": {
     "iopub.execute_input": "2024-12-12T13:24:20.754701Z",
     "iopub.status.busy": "2024-12-12T13:24:20.754441Z",
     "iopub.status.idle": "2024-12-12T13:24:21.522808Z",
     "shell.execute_reply": "2024-12-12T13:24:21.521835Z"
    },
    "papermill": {
     "duration": 0.773942,
     "end_time": "2024-12-12T13:24:21.525055",
     "exception": false,
     "start_time": "2024-12-12T13:24:20.751113",
     "status": "completed"
    },
    "tags": []
   },
   "outputs": [],
   "source": [
    "model.load_weights('/kaggle/input/model16/CIBMTRJoni(9).h5')"
   ]
  },
  {
   "cell_type": "code",
   "execution_count": 6,
   "id": "c782f0d4",
   "metadata": {
    "execution": {
     "iopub.execute_input": "2024-12-12T13:24:21.533018Z",
     "iopub.status.busy": "2024-12-12T13:24:21.532516Z",
     "iopub.status.idle": "2024-12-12T13:24:29.889749Z",
     "shell.execute_reply": "2024-12-12T13:24:29.888807Z"
    },
    "papermill": {
     "duration": 8.362311,
     "end_time": "2024-12-12T13:24:29.891369",
     "exception": false,
     "start_time": "2024-12-12T13:24:21.529058",
     "status": "completed"
    },
    "tags": []
   },
   "outputs": [
    {
     "name": "stderr",
     "output_type": "stream",
     "text": [
      "WARNING: All log messages before absl::InitializeLog() is called are written to STDERR\n",
      "I0000 00:00:1734009864.998369      68 service.cc:145] XLA service 0x7b4be4017b30 initialized for platform CUDA (this does not guarantee that XLA will be used). Devices:\n",
      "I0000 00:00:1734009864.998430      68 service.cc:153]   StreamExecutor device (0): Tesla T4, Compute Capability 7.5\n",
      "I0000 00:00:1734009864.998434      68 service.cc:153]   StreamExecutor device (1): Tesla T4, Compute Capability 7.5\n",
      "WARNING: All log messages before absl::InitializeLog() is called are written to STDERR\n",
      "I0000 00:00:1734009867.593426      95 asm_compiler.cc:369] ptxas warning : Registers are spilled to local memory in function 'triton_gemm_dot_289', 24 bytes spill stores, 24 bytes spill loads\n",
      "\n"
     ]
    },
    {
     "name": "stdout",
     "output_type": "stream",
     "text": [
      "\u001b[1m1/1\u001b[0m \u001b[32m━━━━━━━━━━━━━━━━━━━━\u001b[0m\u001b[37m\u001b[0m \u001b[1m8s\u001b[0m 8s/step\n"
     ]
    },
    {
     "name": "stderr",
     "output_type": "stream",
     "text": [
      "I0000 00:00:1734009869.867690      68 device_compiler.h:188] Compiled cluster using XLA!  This line is logged at most once for the lifetime of the process.\n"
     ]
    }
   ],
   "source": [
    "efs_time_pred=model.predict(df_Xtest.values)\n",
    "\n",
    "# efs_time_pred = np.nan_to_num(efs_time_pred, nan=0.0, posinf=10, neginf=-10)"
   ]
  },
  {
   "cell_type": "code",
   "execution_count": 7,
   "id": "6f09065e",
   "metadata": {
    "execution": {
     "iopub.execute_input": "2024-12-12T13:24:29.898792Z",
     "iopub.status.busy": "2024-12-12T13:24:29.898507Z",
     "iopub.status.idle": "2024-12-12T13:24:29.902296Z",
     "shell.execute_reply": "2024-12-12T13:24:29.901462Z"
    },
    "papermill": {
     "duration": 0.009314,
     "end_time": "2024-12-12T13:24:29.903859",
     "exception": false,
     "start_time": "2024-12-12T13:24:29.894545",
     "status": "completed"
    },
    "tags": []
   },
   "outputs": [],
   "source": [
    "risk_scores = efs_time_pred "
   ]
  },
  {
   "cell_type": "code",
   "execution_count": 8,
   "id": "050a27e5",
   "metadata": {
    "execution": {
     "iopub.execute_input": "2024-12-12T13:24:29.911118Z",
     "iopub.status.busy": "2024-12-12T13:24:29.910879Z",
     "iopub.status.idle": "2024-12-12T13:24:29.915238Z",
     "shell.execute_reply": "2024-12-12T13:24:29.914518Z"
    },
    "papermill": {
     "duration": 0.009825,
     "end_time": "2024-12-12T13:24:29.916831",
     "exception": false,
     "start_time": "2024-12-12T13:24:29.907006",
     "status": "completed"
    },
    "tags": []
   },
   "outputs": [],
   "source": [
    "# sub=pd.read_csv('/kaggle/input/equity-post-HCT-survival-predictions/sample_submission.csv')\n",
    "\n",
    "# sub['ID']=df_Xtest.index\n",
    "# sub['prediction']=risk_scores[:,0]\n",
    "# Crear DataFrame para la submisión\n",
    "sub = pd.DataFrame({\n",
    "    'ID': df_Xtest.index,  # Asegúrate de usar la misma columna ID que en el conjunto de prueba\n",
    "    'prediction': risk_scores[:,0]\n",
    "})"
   ]
  },
  {
   "cell_type": "code",
   "execution_count": 9,
   "id": "df67ca2d",
   "metadata": {
    "execution": {
     "iopub.execute_input": "2024-12-12T13:24:29.923783Z",
     "iopub.status.busy": "2024-12-12T13:24:29.923301Z",
     "iopub.status.idle": "2024-12-12T13:24:29.929816Z",
     "shell.execute_reply": "2024-12-12T13:24:29.929172Z"
    },
    "papermill": {
     "duration": 0.011664,
     "end_time": "2024-12-12T13:24:29.931385",
     "exception": false,
     "start_time": "2024-12-12T13:24:29.919721",
     "status": "completed"
    },
    "tags": []
   },
   "outputs": [],
   "source": [
    "sub.to_csv('submission.csv', index=False)\n"
   ]
  },
  {
   "cell_type": "code",
   "execution_count": 10,
   "id": "e16f721d",
   "metadata": {
    "execution": {
     "iopub.execute_input": "2024-12-12T13:24:29.937875Z",
     "iopub.status.busy": "2024-12-12T13:24:29.937607Z",
     "iopub.status.idle": "2024-12-12T13:24:29.948173Z",
     "shell.execute_reply": "2024-12-12T13:24:29.947531Z"
    },
    "papermill": {
     "duration": 0.015521,
     "end_time": "2024-12-12T13:24:29.949730",
     "exception": false,
     "start_time": "2024-12-12T13:24:29.934209",
     "status": "completed"
    },
    "tags": []
   },
   "outputs": [
    {
     "data": {
      "text/html": [
       "<div>\n",
       "<style scoped>\n",
       "    .dataframe tbody tr th:only-of-type {\n",
       "        vertical-align: middle;\n",
       "    }\n",
       "\n",
       "    .dataframe tbody tr th {\n",
       "        vertical-align: top;\n",
       "    }\n",
       "\n",
       "    .dataframe thead th {\n",
       "        text-align: right;\n",
       "    }\n",
       "</style>\n",
       "<table border=\"1\" class=\"dataframe\">\n",
       "  <thead>\n",
       "    <tr style=\"text-align: right;\">\n",
       "      <th></th>\n",
       "      <th>ID</th>\n",
       "      <th>prediction</th>\n",
       "    </tr>\n",
       "  </thead>\n",
       "  <tbody>\n",
       "    <tr>\n",
       "      <th>0</th>\n",
       "      <td>28800</td>\n",
       "      <td>90.088753</td>\n",
       "    </tr>\n",
       "    <tr>\n",
       "      <th>1</th>\n",
       "      <td>28801</td>\n",
       "      <td>-15.444108</td>\n",
       "    </tr>\n",
       "    <tr>\n",
       "      <th>2</th>\n",
       "      <td>28802</td>\n",
       "      <td>65.505821</td>\n",
       "    </tr>\n",
       "  </tbody>\n",
       "</table>\n",
       "</div>"
      ],
      "text/plain": [
       "      ID  prediction\n",
       "0  28800   90.088753\n",
       "1  28801  -15.444108\n",
       "2  28802   65.505821"
      ]
     },
     "execution_count": 10,
     "metadata": {},
     "output_type": "execute_result"
    }
   ],
   "source": [
    "sub"
   ]
  }
 ],
 "metadata": {
  "kaggle": {
   "accelerator": "nvidiaTeslaT4",
   "dataSources": [
    {
     "databundleVersionId": 10381525,
     "sourceId": 70942,
     "sourceType": "competition"
    },
    {
     "datasetId": 6283629,
     "sourceId": 10173651,
     "sourceType": "datasetVersion"
    },
    {
     "datasetId": 6285140,
     "sourceId": 10175730,
     "sourceType": "datasetVersion"
    },
    {
     "datasetId": 6288973,
     "sourceId": 10180990,
     "sourceType": "datasetVersion"
    }
   ],
   "dockerImageVersionId": 30804,
   "isGpuEnabled": true,
   "isInternetEnabled": false,
   "language": "python",
   "sourceType": "notebook"
  },
  "kernelspec": {
   "display_name": "Python 3",
   "language": "python",
   "name": "python3"
  },
  "language_info": {
   "codemirror_mode": {
    "name": "ipython",
    "version": 3
   },
   "file_extension": ".py",
   "mimetype": "text/x-python",
   "name": "python",
   "nbconvert_exporter": "python",
   "pygments_lexer": "ipython3",
   "version": "3.10.14"
  },
  "papermill": {
   "default_parameters": {},
   "duration": 28.326142,
   "end_time": "2024-12-12T13:24:31.774286",
   "environment_variables": {},
   "exception": null,
   "input_path": "__notebook__.ipynb",
   "output_path": "__notebook__.ipynb",
   "parameters": {},
   "start_time": "2024-12-12T13:24:03.448144",
   "version": "2.6.0"
  }
 },
 "nbformat": 4,
 "nbformat_minor": 5
}
