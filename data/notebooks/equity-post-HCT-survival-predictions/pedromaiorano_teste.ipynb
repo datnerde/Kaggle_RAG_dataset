{
 "cells": [
  {
   "cell_type": "code",
   "execution_count": 1,
   "id": "ac90aeb5",
   "metadata": {
    "_cell_guid": "b1076dfc-b9ad-4769-8c92-a6c4dae69d19",
    "_uuid": "8f2839f25d086af736a60e9eeb907d3b93b6e0e5",
    "execution": {
     "iopub.execute_input": "2025-01-27T05:27:13.921721Z",
     "iopub.status.busy": "2025-01-27T05:27:13.921373Z",
     "iopub.status.idle": "2025-01-27T05:27:13.926609Z",
     "shell.execute_reply": "2025-01-27T05:27:13.925603Z"
    },
    "papermill": {
     "duration": 0.010804,
     "end_time": "2025-01-27T05:27:13.928260",
     "exception": false,
     "start_time": "2025-01-27T05:27:13.917456",
     "status": "completed"
    },
    "tags": []
   },
   "outputs": [],
   "source": [
    "# This Python 3 environment comes with many helpful analytics libraries installed\n",
    "# It is defined by the kaggle/python Docker image: https://github.com/kaggle/docker-python\n",
    "# For example, here's several helpful packages to load\n",
    "\n",
    "#import numpy as np # linear algebra\n",
    "#import pandas as pd # data processing, CSV file I/O (e.g. pd.read_csv)\n",
    "#\n",
    "## Input data files are available in the read-only \"../input/\" directory\n",
    "## For example, running this (by clicking run or pressing Shift+Enter) will list all files under the input directory\n",
    "#\n",
    "#import os\n",
    "#for dirname, _, filenames in os.walk('/kaggle/input'):\n",
    "#    for filename in filenames:\n",
    "#        print(os.path.join(dirname, filename))\n",
    "\n",
    "# You can write up to 20GB to the current directory (/kaggle/working/) that gets preserved as output when you create a version using \"Save & Run All\" \n",
    "# You can also write temporary files to /kaggle/temp/, but they won't be saved outside of the current session"
   ]
  },
  {
   "cell_type": "code",
   "execution_count": 2,
   "id": "c048bf4d",
   "metadata": {
    "execution": {
     "iopub.execute_input": "2025-01-27T05:27:13.933912Z",
     "iopub.status.busy": "2025-01-27T05:27:13.933592Z",
     "iopub.status.idle": "2025-01-27T05:27:14.881424Z",
     "shell.execute_reply": "2025-01-27T05:27:14.880418Z"
    },
    "papermill": {
     "duration": 0.952453,
     "end_time": "2025-01-27T05:27:14.883291",
     "exception": false,
     "start_time": "2025-01-27T05:27:13.930838",
     "status": "completed"
    },
    "tags": []
   },
   "outputs": [],
   "source": [
    "import pandas as pd\n",
    "import numpy as np\n",
    "sub = pd.read_csv(\"/kaggle/input/equity-post-HCT-survival-predictions/sample_submission.csv\")"
   ]
  },
  {
   "cell_type": "code",
   "execution_count": 3,
   "id": "1a0623ec",
   "metadata": {
    "execution": {
     "iopub.execute_input": "2025-01-27T05:27:14.888749Z",
     "iopub.status.busy": "2025-01-27T05:27:14.888426Z",
     "iopub.status.idle": "2025-01-27T05:27:14.906211Z",
     "shell.execute_reply": "2025-01-27T05:27:14.905276Z"
    },
    "papermill": {
     "duration": 0.022701,
     "end_time": "2025-01-27T05:27:14.908227",
     "exception": false,
     "start_time": "2025-01-27T05:27:14.885526",
     "status": "completed"
    },
    "tags": []
   },
   "outputs": [],
   "source": [
    "sub.prediction = np.random.rand(len(sub))\n",
    "sub.to_csv(\"submission.csv\",index=False)"
   ]
  },
  {
   "cell_type": "code",
   "execution_count": 4,
   "id": "113e22f2",
   "metadata": {
    "execution": {
     "iopub.execute_input": "2025-01-27T05:27:14.913738Z",
     "iopub.status.busy": "2025-01-27T05:27:14.913402Z",
     "iopub.status.idle": "2025-01-27T05:27:14.928707Z",
     "shell.execute_reply": "2025-01-27T05:27:14.927757Z"
    },
    "papermill": {
     "duration": 0.019983,
     "end_time": "2025-01-27T05:27:14.930527",
     "exception": false,
     "start_time": "2025-01-27T05:27:14.910544",
     "status": "completed"
    },
    "tags": []
   },
   "outputs": [
    {
     "data": {
      "text/html": [
       "<div>\n",
       "<style scoped>\n",
       "    .dataframe tbody tr th:only-of-type {\n",
       "        vertical-align: middle;\n",
       "    }\n",
       "\n",
       "    .dataframe tbody tr th {\n",
       "        vertical-align: top;\n",
       "    }\n",
       "\n",
       "    .dataframe thead th {\n",
       "        text-align: right;\n",
       "    }\n",
       "</style>\n",
       "<table border=\"1\" class=\"dataframe\">\n",
       "  <thead>\n",
       "    <tr style=\"text-align: right;\">\n",
       "      <th></th>\n",
       "      <th>ID</th>\n",
       "      <th>prediction</th>\n",
       "    </tr>\n",
       "  </thead>\n",
       "  <tbody>\n",
       "    <tr>\n",
       "      <th>0</th>\n",
       "      <td>28800</td>\n",
       "      <td>0.385529</td>\n",
       "    </tr>\n",
       "    <tr>\n",
       "      <th>1</th>\n",
       "      <td>28801</td>\n",
       "      <td>0.547258</td>\n",
       "    </tr>\n",
       "    <tr>\n",
       "      <th>2</th>\n",
       "      <td>28802</td>\n",
       "      <td>0.989518</td>\n",
       "    </tr>\n",
       "  </tbody>\n",
       "</table>\n",
       "</div>"
      ],
      "text/plain": [
       "      ID  prediction\n",
       "0  28800    0.385529\n",
       "1  28801    0.547258\n",
       "2  28802    0.989518"
      ]
     },
     "execution_count": 4,
     "metadata": {},
     "output_type": "execute_result"
    }
   ],
   "source": [
    "sub"
   ]
  },
  {
   "cell_type": "code",
   "execution_count": 5,
   "id": "9db6d5f6",
   "metadata": {
    "execution": {
     "iopub.execute_input": "2025-01-27T05:27:14.937539Z",
     "iopub.status.busy": "2025-01-27T05:27:14.937183Z",
     "iopub.status.idle": "2025-01-27T05:27:14.942259Z",
     "shell.execute_reply": "2025-01-27T05:27:14.941365Z"
    },
    "papermill": {
     "duration": 0.00968,
     "end_time": "2025-01-27T05:27:14.943842",
     "exception": false,
     "start_time": "2025-01-27T05:27:14.934162",
     "status": "completed"
    },
    "tags": []
   },
   "outputs": [],
   "source": [
    "sub.to_csv(\"submission.csv\",index=False)"
   ]
  }
 ],
 "metadata": {
  "kaggle": {
   "accelerator": "none",
   "dataSources": [
    {
     "databundleVersionId": 10381525,
     "sourceId": 70942,
     "sourceType": "competition"
    },
    {
     "datasetId": 6544213,
     "sourceId": 10575329,
     "sourceType": "datasetVersion"
    }
   ],
   "dockerImageVersionId": 30839,
   "isGpuEnabled": false,
   "isInternetEnabled": false,
   "language": "python",
   "sourceType": "notebook"
  },
  "kernelspec": {
   "display_name": "Python 3",
   "language": "python",
   "name": "python3"
  },
  "language_info": {
   "codemirror_mode": {
    "name": "ipython",
    "version": 3
   },
   "file_extension": ".py",
   "mimetype": "text/x-python",
   "name": "python",
   "nbconvert_exporter": "python",
   "pygments_lexer": "ipython3",
   "version": "3.10.12"
  },
  "papermill": {
   "default_parameters": {},
   "duration": 4.885605,
   "end_time": "2025-01-27T05:27:15.464676",
   "environment_variables": {},
   "exception": null,
   "input_path": "__notebook__.ipynb",
   "output_path": "__notebook__.ipynb",
   "parameters": {},
   "start_time": "2025-01-27T05:27:10.579071",
   "version": "2.6.0"
  }
 },
 "nbformat": 4,
 "nbformat_minor": 5
}
