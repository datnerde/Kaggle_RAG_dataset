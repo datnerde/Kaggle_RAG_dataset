{
 "cells": [
  {
   "cell_type": "code",
   "execution_count": 1,
   "id": "67dd5cf2",
   "metadata": {
    "collapsed": true,
    "execution": {
     "iopub.execute_input": "2025-01-11T19:29:43.894483Z",
     "iopub.status.busy": "2025-01-11T19:29:43.893992Z",
     "iopub.status.idle": "2025-01-11T19:29:43.903190Z",
     "shell.execute_reply": "2025-01-11T19:29:43.901506Z"
    },
    "jupyter": {
     "outputs_hidden": true
    },
    "papermill": {
     "duration": 0.016272,
     "end_time": "2025-01-11T19:29:43.905070",
     "exception": false,
     "start_time": "2025-01-11T19:29:43.888798",
     "status": "completed"
    },
    "tags": []
   },
   "outputs": [],
   "source": [
    "#pip install /kaggle/input/pip-install-lifelines/lifelines-0.30.0-py3-none-any.whl"
   ]
  },
  {
   "cell_type": "code",
   "execution_count": 2,
   "id": "f87e39ce",
   "metadata": {
    "_cell_guid": "b1076dfc-b9ad-4769-8c92-a6c4dae69d19",
    "_uuid": "8f2839f25d086af736a60e9eeb907d3b93b6e0e5",
    "execution": {
     "iopub.execute_input": "2025-01-11T19:29:43.916719Z",
     "iopub.status.busy": "2025-01-11T19:29:43.916273Z",
     "iopub.status.idle": "2025-01-11T19:29:47.231965Z",
     "shell.execute_reply": "2025-01-11T19:29:47.230695Z"
    },
    "papermill": {
     "duration": 3.32444,
     "end_time": "2025-01-11T19:29:47.234050",
     "exception": false,
     "start_time": "2025-01-11T19:29:43.909610",
     "status": "completed"
    },
    "tags": []
   },
   "outputs": [],
   "source": [
    "import numpy as np\n",
    "import pandas as pd\n",
    "import matplotlib.pyplot as plt\n",
    "import seaborn as sns\n",
    "from sklearn.model_selection import train_test_split\n",
    "from sklearn.ensemble import RandomForestClassifier\n",
    "from sklearn.metrics import accuracy_score, roc_auc_score, classification_report\n",
    "#from lifelines.utils import concordance_index\n"
   ]
  },
  {
   "cell_type": "code",
   "execution_count": 3,
   "id": "7c115ca7",
   "metadata": {
    "execution": {
     "iopub.execute_input": "2025-01-11T19:29:47.241746Z",
     "iopub.status.busy": "2025-01-11T19:29:47.241198Z",
     "iopub.status.idle": "2025-01-11T19:29:47.738213Z",
     "shell.execute_reply": "2025-01-11T19:29:47.737119Z"
    },
    "papermill": {
     "duration": 0.502633,
     "end_time": "2025-01-11T19:29:47.739934",
     "exception": false,
     "start_time": "2025-01-11T19:29:47.237301",
     "status": "completed"
    },
    "tags": []
   },
   "outputs": [
    {
     "name": "stdout",
     "output_type": "stream",
     "text": [
      "Train Data Shape: (28800, 60)\n",
      "Test Data Shape: (3, 58)\n"
     ]
    },
    {
     "data": {
      "text/html": [
       "<div>\n",
       "<style scoped>\n",
       "    .dataframe tbody tr th:only-of-type {\n",
       "        vertical-align: middle;\n",
       "    }\n",
       "\n",
       "    .dataframe tbody tr th {\n",
       "        vertical-align: top;\n",
       "    }\n",
       "\n",
       "    .dataframe thead th {\n",
       "        text-align: right;\n",
       "    }\n",
       "</style>\n",
       "<table border=\"1\" class=\"dataframe\">\n",
       "  <thead>\n",
       "    <tr style=\"text-align: right;\">\n",
       "      <th></th>\n",
       "      <th>ID</th>\n",
       "      <th>dri_score</th>\n",
       "      <th>psych_disturb</th>\n",
       "      <th>cyto_score</th>\n",
       "      <th>diabetes</th>\n",
       "      <th>hla_match_c_high</th>\n",
       "      <th>hla_high_res_8</th>\n",
       "      <th>tbi_status</th>\n",
       "      <th>arrhythmia</th>\n",
       "      <th>hla_low_res_6</th>\n",
       "      <th>...</th>\n",
       "      <th>tce_div_match</th>\n",
       "      <th>donor_related</th>\n",
       "      <th>melphalan_dose</th>\n",
       "      <th>hla_low_res_8</th>\n",
       "      <th>cardiac</th>\n",
       "      <th>hla_match_drb1_high</th>\n",
       "      <th>pulm_moderate</th>\n",
       "      <th>hla_low_res_10</th>\n",
       "      <th>efs</th>\n",
       "      <th>efs_time</th>\n",
       "    </tr>\n",
       "  </thead>\n",
       "  <tbody>\n",
       "    <tr>\n",
       "      <th>0</th>\n",
       "      <td>0</td>\n",
       "      <td>N/A - non-malignant indication</td>\n",
       "      <td>No</td>\n",
       "      <td>NaN</td>\n",
       "      <td>No</td>\n",
       "      <td>NaN</td>\n",
       "      <td>NaN</td>\n",
       "      <td>No TBI</td>\n",
       "      <td>No</td>\n",
       "      <td>6.0</td>\n",
       "      <td>...</td>\n",
       "      <td>NaN</td>\n",
       "      <td>Unrelated</td>\n",
       "      <td>N/A, Mel not given</td>\n",
       "      <td>8.0</td>\n",
       "      <td>No</td>\n",
       "      <td>2.0</td>\n",
       "      <td>No</td>\n",
       "      <td>10.0</td>\n",
       "      <td>0.0</td>\n",
       "      <td>42.356</td>\n",
       "    </tr>\n",
       "    <tr>\n",
       "      <th>1</th>\n",
       "      <td>1</td>\n",
       "      <td>Intermediate</td>\n",
       "      <td>No</td>\n",
       "      <td>Intermediate</td>\n",
       "      <td>No</td>\n",
       "      <td>2.0</td>\n",
       "      <td>8.0</td>\n",
       "      <td>TBI +- Other, &gt;cGy</td>\n",
       "      <td>No</td>\n",
       "      <td>6.0</td>\n",
       "      <td>...</td>\n",
       "      <td>Permissive mismatched</td>\n",
       "      <td>Related</td>\n",
       "      <td>N/A, Mel not given</td>\n",
       "      <td>8.0</td>\n",
       "      <td>No</td>\n",
       "      <td>2.0</td>\n",
       "      <td>Yes</td>\n",
       "      <td>10.0</td>\n",
       "      <td>1.0</td>\n",
       "      <td>4.672</td>\n",
       "    </tr>\n",
       "    <tr>\n",
       "      <th>2</th>\n",
       "      <td>2</td>\n",
       "      <td>N/A - non-malignant indication</td>\n",
       "      <td>No</td>\n",
       "      <td>NaN</td>\n",
       "      <td>No</td>\n",
       "      <td>2.0</td>\n",
       "      <td>8.0</td>\n",
       "      <td>No TBI</td>\n",
       "      <td>No</td>\n",
       "      <td>6.0</td>\n",
       "      <td>...</td>\n",
       "      <td>Permissive mismatched</td>\n",
       "      <td>Related</td>\n",
       "      <td>N/A, Mel not given</td>\n",
       "      <td>8.0</td>\n",
       "      <td>No</td>\n",
       "      <td>2.0</td>\n",
       "      <td>No</td>\n",
       "      <td>10.0</td>\n",
       "      <td>0.0</td>\n",
       "      <td>19.793</td>\n",
       "    </tr>\n",
       "    <tr>\n",
       "      <th>3</th>\n",
       "      <td>3</td>\n",
       "      <td>High</td>\n",
       "      <td>No</td>\n",
       "      <td>Intermediate</td>\n",
       "      <td>No</td>\n",
       "      <td>2.0</td>\n",
       "      <td>8.0</td>\n",
       "      <td>No TBI</td>\n",
       "      <td>No</td>\n",
       "      <td>6.0</td>\n",
       "      <td>...</td>\n",
       "      <td>Permissive mismatched</td>\n",
       "      <td>Unrelated</td>\n",
       "      <td>N/A, Mel not given</td>\n",
       "      <td>8.0</td>\n",
       "      <td>No</td>\n",
       "      <td>2.0</td>\n",
       "      <td>No</td>\n",
       "      <td>10.0</td>\n",
       "      <td>0.0</td>\n",
       "      <td>102.349</td>\n",
       "    </tr>\n",
       "    <tr>\n",
       "      <th>4</th>\n",
       "      <td>4</td>\n",
       "      <td>High</td>\n",
       "      <td>No</td>\n",
       "      <td>NaN</td>\n",
       "      <td>No</td>\n",
       "      <td>2.0</td>\n",
       "      <td>8.0</td>\n",
       "      <td>No TBI</td>\n",
       "      <td>No</td>\n",
       "      <td>6.0</td>\n",
       "      <td>...</td>\n",
       "      <td>Permissive mismatched</td>\n",
       "      <td>Related</td>\n",
       "      <td>MEL</td>\n",
       "      <td>8.0</td>\n",
       "      <td>No</td>\n",
       "      <td>2.0</td>\n",
       "      <td>No</td>\n",
       "      <td>10.0</td>\n",
       "      <td>0.0</td>\n",
       "      <td>16.223</td>\n",
       "    </tr>\n",
       "  </tbody>\n",
       "</table>\n",
       "<p>5 rows × 60 columns</p>\n",
       "</div>"
      ],
      "text/plain": [
       "   ID                       dri_score psych_disturb    cyto_score diabetes  \\\n",
       "0   0  N/A - non-malignant indication            No           NaN       No   \n",
       "1   1                    Intermediate            No  Intermediate       No   \n",
       "2   2  N/A - non-malignant indication            No           NaN       No   \n",
       "3   3                            High            No  Intermediate       No   \n",
       "4   4                            High            No           NaN       No   \n",
       "\n",
       "   hla_match_c_high  hla_high_res_8          tbi_status arrhythmia  \\\n",
       "0               NaN             NaN              No TBI         No   \n",
       "1               2.0             8.0  TBI +- Other, >cGy         No   \n",
       "2               2.0             8.0              No TBI         No   \n",
       "3               2.0             8.0              No TBI         No   \n",
       "4               2.0             8.0              No TBI         No   \n",
       "\n",
       "   hla_low_res_6  ...          tce_div_match donor_related  \\\n",
       "0            6.0  ...                    NaN     Unrelated   \n",
       "1            6.0  ...  Permissive mismatched       Related   \n",
       "2            6.0  ...  Permissive mismatched       Related   \n",
       "3            6.0  ...  Permissive mismatched     Unrelated   \n",
       "4            6.0  ...  Permissive mismatched       Related   \n",
       "\n",
       "       melphalan_dose hla_low_res_8 cardiac  hla_match_drb1_high  \\\n",
       "0  N/A, Mel not given           8.0      No                  2.0   \n",
       "1  N/A, Mel not given           8.0      No                  2.0   \n",
       "2  N/A, Mel not given           8.0      No                  2.0   \n",
       "3  N/A, Mel not given           8.0      No                  2.0   \n",
       "4                 MEL           8.0      No                  2.0   \n",
       "\n",
       "  pulm_moderate  hla_low_res_10  efs efs_time  \n",
       "0            No            10.0  0.0   42.356  \n",
       "1           Yes            10.0  1.0    4.672  \n",
       "2            No            10.0  0.0   19.793  \n",
       "3            No            10.0  0.0  102.349  \n",
       "4            No            10.0  0.0   16.223  \n",
       "\n",
       "[5 rows x 60 columns]"
      ]
     },
     "execution_count": 3,
     "metadata": {},
     "output_type": "execute_result"
    }
   ],
   "source": [
    "# Load the datasets\n",
    "train_data = pd.read_csv('/kaggle/input/equity-post-HCT-survival-predictions/train.csv')\n",
    "test_data = pd.read_csv('/kaggle/input/equity-post-HCT-survival-predictions/test.csv')\n",
    "\n",
    "# Display dataset structure\n",
    "print(\"Train Data Shape:\", train_data.shape)\n",
    "print(\"Test Data Shape:\", test_data.shape)\n",
    "train_data.head()\n"
   ]
  },
  {
   "cell_type": "code",
   "execution_count": 4,
   "id": "4074251a",
   "metadata": {
    "execution": {
     "iopub.execute_input": "2025-01-11T19:29:47.748416Z",
     "iopub.status.busy": "2025-01-11T19:29:47.747925Z",
     "iopub.status.idle": "2025-01-11T19:29:48.035534Z",
     "shell.execute_reply": "2025-01-11T19:29:48.034376Z"
    },
    "papermill": {
     "duration": 0.293946,
     "end_time": "2025-01-11T19:29:48.037580",
     "exception": false,
     "start_time": "2025-01-11T19:29:47.743634",
     "status": "completed"
    },
    "tags": []
   },
   "outputs": [
    {
     "name": "stdout",
     "output_type": "stream",
     "text": [
      "ID                            0\n",
      "dri_score                   154\n",
      "psych_disturb              2062\n",
      "cyto_score                 8068\n",
      "diabetes                   2119\n",
      "hla_match_c_high           4620\n",
      "hla_high_res_8             5829\n",
      "tbi_status                    0\n",
      "arrhythmia                 2202\n",
      "hla_low_res_6              3270\n",
      "graft_type                    0\n",
      "vent_hist                   259\n",
      "renal_issue                1915\n",
      "pulm_severe                2135\n",
      "prim_disease_hct              0\n",
      "hla_high_res_6             5284\n",
      "cmv_status                  634\n",
      "hla_high_res_10            7163\n",
      "hla_match_dqb1_high        5199\n",
      "tce_imm_match             11133\n",
      "hla_nmdp_6                 4197\n",
      "hla_match_c_low            2800\n",
      "rituximab                  2148\n",
      "hla_match_drb1_low         2643\n",
      "hla_match_dqb1_low         4194\n",
      "prod_type                     0\n",
      "cyto_score_detail         11923\n",
      "conditioning_intensity     4789\n",
      "ethnicity                   587\n",
      "year_hct                      0\n",
      "obesity                    1760\n",
      "mrd_hct                   16597\n",
      "in_vivo_tcd                 225\n",
      "tce_match                 18996\n",
      "hla_match_a_high           4301\n",
      "hepatic_severe             1871\n",
      "donor_age                  1808\n",
      "prior_tumor                1678\n",
      "hla_match_b_low            2565\n",
      "peptic_ulcer               2419\n",
      "age_at_hct                    0\n",
      "hla_match_a_low            2390\n",
      "gvhd_proph                  225\n",
      "rheum_issue                2183\n",
      "sex_match                   261\n",
      "hla_match_b_high           4088\n",
      "race_group                    0\n",
      "comorbidity_score           477\n",
      "karnofsky_score             870\n",
      "hepatic_mild               1917\n",
      "tce_div_match             11396\n",
      "donor_related               158\n",
      "melphalan_dose             1405\n",
      "hla_low_res_8              3653\n",
      "cardiac                    2542\n",
      "hla_match_drb1_high        3352\n",
      "pulm_moderate              2047\n",
      "hla_low_res_10             5064\n",
      "efs                           0\n",
      "efs_time                      0\n",
      "dtype: int64\n"
     ]
    }
   ],
   "source": [
    "# Check for missing values\n",
    "print(train_data.isnull().sum())\n",
    "\n",
    "# Fill or drop missing values\n",
    "train_data.fillna(-999, inplace=True)\n",
    "\n",
    "# Encode categorical variables if necessary\n",
    "train_data = pd.get_dummies(train_data, drop_first=True)\n"
   ]
  },
  {
   "cell_type": "code",
   "execution_count": 5,
   "id": "822903fa",
   "metadata": {
    "execution": {
     "iopub.execute_input": "2025-01-11T19:29:48.046321Z",
     "iopub.status.busy": "2025-01-11T19:29:48.045912Z",
     "iopub.status.idle": "2025-01-11T19:29:48.077495Z",
     "shell.execute_reply": "2025-01-11T19:29:48.076226Z"
    },
    "papermill": {
     "duration": 0.038113,
     "end_time": "2025-01-11T19:29:48.079695",
     "exception": false,
     "start_time": "2025-01-11T19:29:48.041582",
     "status": "completed"
    },
    "tags": []
   },
   "outputs": [],
   "source": [
    "# Split features and target\n",
    "X = train_data.drop(['efs','efs_time'], axis=1)\n",
    "y = train_data['efs']\n",
    "\n",
    "# Split into train and validation sets\n",
    "X_train, X_val, y_train, y_val = train_test_split(X, y, test_size=0.2, random_state=42)\n"
   ]
  },
  {
   "cell_type": "code",
   "execution_count": 6,
   "id": "e74469bc",
   "metadata": {
    "execution": {
     "iopub.execute_input": "2025-01-11T19:29:48.088255Z",
     "iopub.status.busy": "2025-01-11T19:29:48.087813Z",
     "iopub.status.idle": "2025-01-11T19:29:55.265760Z",
     "shell.execute_reply": "2025-01-11T19:29:55.264503Z"
    },
    "papermill": {
     "duration": 7.184331,
     "end_time": "2025-01-11T19:29:55.267688",
     "exception": false,
     "start_time": "2025-01-11T19:29:48.083357",
     "status": "completed"
    },
    "tags": []
   },
   "outputs": [],
   "source": [
    "# Initialize a simple Random Forest model\n",
    "model = RandomForestClassifier(random_state=42)\n",
    "model.fit(X_train, y_train)\n",
    "\n",
    "# Make predictions\n",
    "y_pred = model.predict(X_val)\n",
    "y_prob = model.predict_proba(X_val)[:, 1]\n"
   ]
  },
  {
   "cell_type": "code",
   "execution_count": 7,
   "id": "724d3bec",
   "metadata": {
    "execution": {
     "iopub.execute_input": "2025-01-11T19:29:55.276213Z",
     "iopub.status.busy": "2025-01-11T19:29:55.275845Z",
     "iopub.status.idle": "2025-01-11T19:29:55.310640Z",
     "shell.execute_reply": "2025-01-11T19:29:55.309390Z"
    },
    "papermill": {
     "duration": 0.041529,
     "end_time": "2025-01-11T19:29:55.312894",
     "exception": false,
     "start_time": "2025-01-11T19:29:55.271365",
     "status": "completed"
    },
    "tags": []
   },
   "outputs": [
    {
     "name": "stdout",
     "output_type": "stream",
     "text": [
      "Accuracy: 0.6746527777777778\n",
      "AUC-ROC Score: 0.7326236244019356\n",
      "Classification Report:\n",
      "               precision    recall  f1-score   support\n",
      "\n",
      "         0.0       0.69      0.55      0.61      2683\n",
      "         1.0       0.67      0.78      0.72      3077\n",
      "\n",
      "    accuracy                           0.67      5760\n",
      "   macro avg       0.68      0.67      0.67      5760\n",
      "weighted avg       0.68      0.67      0.67      5760\n",
      "\n"
     ]
    }
   ],
   "source": [
    "# Evaluate the model\n",
    "print(\"Accuracy:\", accuracy_score(y_val, y_pred))\n",
    "print(\"AUC-ROC Score:\", roc_auc_score(y_val, y_prob))\n",
    "print(\"Classification Report:\\n\", classification_report(y_val, y_pred))\n"
   ]
  },
  {
   "cell_type": "code",
   "execution_count": 8,
   "id": "0b0fb7ed",
   "metadata": {
    "execution": {
     "iopub.execute_input": "2025-01-11T19:29:55.321880Z",
     "iopub.status.busy": "2025-01-11T19:29:55.321530Z",
     "iopub.status.idle": "2025-01-11T19:29:55.393751Z",
     "shell.execute_reply": "2025-01-11T19:29:55.392462Z"
    },
    "papermill": {
     "duration": 0.078798,
     "end_time": "2025-01-11T19:29:55.395652",
     "exception": false,
     "start_time": "2025-01-11T19:29:55.316854",
     "status": "completed"
    },
    "tags": []
   },
   "outputs": [
    {
     "name": "stdout",
     "output_type": "stream",
     "text": [
      "[0. 1. 0.]\n"
     ]
    }
   ],
   "source": [
    "unwanted_columns = ['efs_time', 'efs']  \n",
    "train_data = train_data.drop(columns=unwanted_columns, errors='ignore')\n",
    "\n",
    "train_data.fillna(-999, inplace=True)\n",
    "test_data.fillna(-999, inplace=True)\n",
    "\n",
    "train_data_encoded = pd.get_dummies(train_data, drop_first=True)\n",
    "test_data_encoded = pd.get_dummies(test_data, drop_first=True)\n",
    "\n",
    "test_data_aligned = test_data_encoded.reindex(columns=train_data_encoded.columns, fill_value=0)\n",
    "\n",
    "test_predictions = model.predict(test_data_aligned)\n",
    "\n",
    "print(test_predictions[:10]) \n"
   ]
  },
  {
   "cell_type": "code",
   "execution_count": 9,
   "id": "f8edf692",
   "metadata": {
    "execution": {
     "iopub.execute_input": "2025-01-11T19:29:55.404208Z",
     "iopub.status.busy": "2025-01-11T19:29:55.403838Z",
     "iopub.status.idle": "2025-01-11T19:29:55.412849Z",
     "shell.execute_reply": "2025-01-11T19:29:55.411697Z"
    },
    "papermill": {
     "duration": 0.015611,
     "end_time": "2025-01-11T19:29:55.414984",
     "exception": false,
     "start_time": "2025-01-11T19:29:55.399373",
     "status": "completed"
    },
    "tags": []
   },
   "outputs": [],
   "source": [
    "# Create a submission file\n",
    "submission = pd.DataFrame({'ID': test_data['ID'], 'prediction': test_predictions})\n",
    "submission.to_csv('submission.csv', index=False)\n"
   ]
  },
  {
   "cell_type": "code",
   "execution_count": 10,
   "id": "e0dcbef4",
   "metadata": {
    "execution": {
     "iopub.execute_input": "2025-01-11T19:29:55.423834Z",
     "iopub.status.busy": "2025-01-11T19:29:55.423498Z",
     "iopub.status.idle": "2025-01-11T19:29:55.432065Z",
     "shell.execute_reply": "2025-01-11T19:29:55.430979Z"
    },
    "papermill": {
     "duration": 0.014881,
     "end_time": "2025-01-11T19:29:55.433719",
     "exception": false,
     "start_time": "2025-01-11T19:29:55.418838",
     "status": "completed"
    },
    "tags": []
   },
   "outputs": [
    {
     "data": {
      "text/html": [
       "<div>\n",
       "<style scoped>\n",
       "    .dataframe tbody tr th:only-of-type {\n",
       "        vertical-align: middle;\n",
       "    }\n",
       "\n",
       "    .dataframe tbody tr th {\n",
       "        vertical-align: top;\n",
       "    }\n",
       "\n",
       "    .dataframe thead th {\n",
       "        text-align: right;\n",
       "    }\n",
       "</style>\n",
       "<table border=\"1\" class=\"dataframe\">\n",
       "  <thead>\n",
       "    <tr style=\"text-align: right;\">\n",
       "      <th></th>\n",
       "      <th>ID</th>\n",
       "      <th>prediction</th>\n",
       "    </tr>\n",
       "  </thead>\n",
       "  <tbody>\n",
       "    <tr>\n",
       "      <th>0</th>\n",
       "      <td>28800</td>\n",
       "      <td>0.0</td>\n",
       "    </tr>\n",
       "    <tr>\n",
       "      <th>1</th>\n",
       "      <td>28801</td>\n",
       "      <td>1.0</td>\n",
       "    </tr>\n",
       "    <tr>\n",
       "      <th>2</th>\n",
       "      <td>28802</td>\n",
       "      <td>0.0</td>\n",
       "    </tr>\n",
       "  </tbody>\n",
       "</table>\n",
       "</div>"
      ],
      "text/plain": [
       "      ID  prediction\n",
       "0  28800         0.0\n",
       "1  28801         1.0\n",
       "2  28802         0.0"
      ]
     },
     "execution_count": 10,
     "metadata": {},
     "output_type": "execute_result"
    }
   ],
   "source": [
    "submission"
   ]
  }
 ],
 "metadata": {
  "kaggle": {
   "accelerator": "none",
   "dataSources": [
    {
     "databundleVersionId": 10381525,
     "sourceId": 70942,
     "sourceType": "competition"
    },
    {
     "sourceId": 211322530,
     "sourceType": "kernelVersion"
    }
   ],
   "dockerImageVersionId": 30822,
   "isGpuEnabled": false,
   "isInternetEnabled": false,
   "language": "python",
   "sourceType": "notebook"
  },
  "kernelspec": {
   "display_name": "Python 3",
   "language": "python",
   "name": "python3"
  },
  "language_info": {
   "codemirror_mode": {
    "name": "ipython",
    "version": 3
   },
   "file_extension": ".py",
   "mimetype": "text/x-python",
   "name": "python",
   "nbconvert_exporter": "python",
   "pygments_lexer": "ipython3",
   "version": "3.10.12"
  },
  "papermill": {
   "default_parameters": {},
   "duration": 14.769745,
   "end_time": "2025-01-11T19:29:56.159574",
   "environment_variables": {},
   "exception": null,
   "input_path": "__notebook__.ipynb",
   "output_path": "__notebook__.ipynb",
   "parameters": {},
   "start_time": "2025-01-11T19:29:41.389829",
   "version": "2.6.0"
  }
 },
 "nbformat": 4,
 "nbformat_minor": 5
}
