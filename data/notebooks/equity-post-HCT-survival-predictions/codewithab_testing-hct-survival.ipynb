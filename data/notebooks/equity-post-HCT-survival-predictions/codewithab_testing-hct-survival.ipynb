{
 "cells": [
  {
   "cell_type": "code",
   "execution_count": 1,
   "id": "4fd46626",
   "metadata": {
    "_cell_guid": "b1076dfc-b9ad-4769-8c92-a6c4dae69d19",
    "_uuid": "8f2839f25d086af736a60e9eeb907d3b93b6e0e5",
    "execution": {
     "iopub.execute_input": "2025-02-28T13:06:26.964617Z",
     "iopub.status.busy": "2025-02-28T13:06:26.964223Z",
     "iopub.status.idle": "2025-02-28T13:06:26.979500Z",
     "shell.execute_reply": "2025-02-28T13:06:26.978064Z"
    },
    "papermill": {
     "duration": 0.020533,
     "end_time": "2025-02-28T13:06:26.981346",
     "exception": false,
     "start_time": "2025-02-28T13:06:26.960813",
     "status": "completed"
    },
    "tags": []
   },
   "outputs": [
    {
     "name": "stdout",
     "output_type": "stream",
     "text": [
      "/kaggle/input/equity-post-HCT-survival-predictions/sample_submission.csv\n",
      "/kaggle/input/equity-post-HCT-survival-predictions/data_dictionary.csv\n",
      "/kaggle/input/equity-post-HCT-survival-predictions/train.csv\n",
      "/kaggle/input/equity-post-HCT-survival-predictions/test.csv\n",
      "/kaggle/input/training-hct-survival/training_columns.pkl\n",
      "/kaggle/input/training-hct-survival/cat_imputer.pkl\n",
      "/kaggle/input/training-hct-survival/num_imputer.pkl\n",
      "/kaggle/input/training-hct-survival/__results__.html\n",
      "/kaggle/input/training-hct-survival/encoder.pkl\n",
      "/kaggle/input/training-hct-survival/num_cols.pkl\n",
      "/kaggle/input/training-hct-survival/scaler.pkl\n",
      "/kaggle/input/training-hct-survival/cat_cols.pkl\n",
      "/kaggle/input/training-hct-survival/__notebook__.ipynb\n",
      "/kaggle/input/training-hct-survival/__output__.json\n",
      "/kaggle/input/training-hct-survival/xgboost_model.model\n",
      "/kaggle/input/training-hct-survival/custom.css\n"
     ]
    }
   ],
   "source": [
    "import os\n",
    "for dirname, _, filenames in os.walk('/kaggle/input'):\n",
    "    for filename in filenames:\n",
    "        print(os.path.join(dirname, filename))"
   ]
  },
  {
   "cell_type": "code",
   "execution_count": 2,
   "id": "494f7216",
   "metadata": {
    "execution": {
     "iopub.execute_input": "2025-02-28T13:06:26.986692Z",
     "iopub.status.busy": "2025-02-28T13:06:26.986374Z",
     "iopub.status.idle": "2025-02-28T13:06:29.779675Z",
     "shell.execute_reply": "2025-02-28T13:06:29.778428Z"
    },
    "papermill": {
     "duration": 2.797765,
     "end_time": "2025-02-28T13:06:29.781441",
     "exception": false,
     "start_time": "2025-02-28T13:06:26.983676",
     "status": "completed"
    },
    "tags": []
   },
   "outputs": [
    {
     "name": "stdout",
     "output_type": "stream",
     "text": [
      "Numerical and categorical columns loaded!\n",
      "XGBoost predictions saved!\n"
     ]
    }
   ],
   "source": [
    "# Testing Notebook for XGBoost\n",
    "\n",
    "import pandas as pd\n",
    "import numpy as np\n",
    "from sklearn.preprocessing import OneHotEncoder, StandardScaler\n",
    "from sklearn.impute import SimpleImputer\n",
    "import xgboost as xgb\n",
    "import joblib\n",
    "\n",
    "# Define selected columns (same as training)\n",
    "selected_columns = [\n",
    "    \"prim_disease_hct\", \"hla_match_b_low\", \"prod_type\", \"year_hct\", \"obesity\", \n",
    "    \"donor_age\", \"prior_tumor\", \"gvhd_proph\", \"sex_match\", \"comorbidity_score\", \n",
    "    \"karnofsky_score\", \"donor_related\", \"age_at_hct\"\n",
    "]\n",
    "\n",
    "# Load test dataset\n",
    "test_file_path = \"/kaggle/input/equity-post-HCT-survival-predictions/test.csv\"\n",
    "df_test = pd.read_csv(test_file_path)\n",
    "\n",
    "# Keep only selected columns\n",
    "df_test = df_test[selected_columns]\n",
    "\n",
    "# Load preprocessors\n",
    "num_imputer = joblib.load(\"/kaggle/input/training-hct-survival/num_imputer.pkl\")\n",
    "cat_imputer = joblib.load(\"/kaggle/input/training-hct-survival/cat_imputer.pkl\")\n",
    "encoder = joblib.load(\"/kaggle/input/training-hct-survival/encoder.pkl\")\n",
    "scaler = joblib.load(\"/kaggle/input/training-hct-survival/scaler.pkl\")\n",
    "\n",
    "# Load numerical and categorical columns\n",
    "num_cols = joblib.load(\"/kaggle/input/training-hct-survival/num_cols.pkl\")\n",
    "cat_cols = joblib.load(\"/kaggle/input/training-hct-survival/cat_cols.pkl\")\n",
    "print(\"Numerical and categorical columns loaded!\")\n",
    "\n",
    "# Load the list of columns used in the training dataset\n",
    "training_columns = joblib.load(\"/kaggle/input/training-hct-survival/training_columns.pkl\")\n",
    "\n",
    "# Ensure all categorical columns exist before transformation\n",
    "for col in cat_cols:\n",
    "    if col not in df_test.columns:\n",
    "        df_test[col] = np.nan  # Fill missing categorical columns\n",
    "\n",
    "# Handle missing values for categorical columns\n",
    "df_test[cat_cols] = cat_imputer.transform(df_test[cat_cols])\n",
    "\n",
    "# Encode categorical features\n",
    "encoded_cats_test = encoder.transform(df_test[cat_cols])\n",
    "df_test_encoded = pd.DataFrame(encoded_cats_test, columns=encoder.get_feature_names_out(cat_cols))\n",
    "\n",
    "# Drop original categorical columns and merge encoded ones\n",
    "df_test = df_test.drop(columns=cat_cols, errors='ignore')  # Avoid KeyError\n",
    "df_test = pd.concat([df_test, df_test_encoded], axis=1)\n",
    "\n",
    "# Standardize numerical features\n",
    "df_test[num_cols] = scaler.transform(df_test[num_cols])\n",
    "\n",
    "# Convert to DMatrix\n",
    "dtest = xgb.DMatrix(df_test)\n",
    "\n",
    "# Load the trained model\n",
    "bst = xgb.Booster()\n",
    "bst.load_model(\"/kaggle/input/training-hct-survival/xgboost_model.model\")\n",
    "\n",
    "# Make predictions\n",
    "predictions = bst.predict(dtest)\n",
    "\n",
    "# Save predictions to a CSV file\n",
    "submission = pd.DataFrame({\n",
    "    \"ID\": df_test.index,\n",
    "    \"prediction\": predictions\n",
    "})\n",
    "submission.to_csv(\"submission.csv\", index=False)\n",
    "print(\"XGBoost predictions saved!\")"
   ]
  },
  {
   "cell_type": "code",
   "execution_count": null,
   "id": "d58c2857",
   "metadata": {
    "papermill": {
     "duration": 0.001632,
     "end_time": "2025-02-28T13:06:29.785111",
     "exception": false,
     "start_time": "2025-02-28T13:06:29.783479",
     "status": "completed"
    },
    "tags": []
   },
   "outputs": [],
   "source": []
  }
 ],
 "metadata": {
  "kaggle": {
   "accelerator": "none",
   "dataSources": [
    {
     "databundleVersionId": 10381525,
     "sourceId": 70942,
     "sourceType": "competition"
    },
    {
     "sourceId": 224054549,
     "sourceType": "kernelVersion"
    }
   ],
   "dockerImageVersionId": 30918,
   "isGpuEnabled": false,
   "isInternetEnabled": false,
   "language": "python",
   "sourceType": "notebook"
  },
  "kernelspec": {
   "display_name": "Python 3",
   "language": "python",
   "name": "python3"
  },
  "language_info": {
   "codemirror_mode": {
    "name": "ipython",
    "version": 3
   },
   "file_extension": ".py",
   "mimetype": "text/x-python",
   "name": "python",
   "nbconvert_exporter": "python",
   "pygments_lexer": "ipython3",
   "version": "3.10.12"
  },
  "papermill": {
   "default_parameters": {},
   "duration": 6.207398,
   "end_time": "2025-02-28T13:06:30.507442",
   "environment_variables": {},
   "exception": null,
   "input_path": "__notebook__.ipynb",
   "output_path": "__notebook__.ipynb",
   "parameters": {},
   "start_time": "2025-02-28T13:06:24.300044",
   "version": "2.6.0"
  }
 },
 "nbformat": 4,
 "nbformat_minor": 5
}
