{
 "cells": [
  {
   "cell_type": "code",
   "execution_count": 1,
   "id": "5d0d2b96",
   "metadata": {
    "_cell_guid": "b1076dfc-b9ad-4769-8c92-a6c4dae69d19",
    "_uuid": "8f2839f25d086af736a60e9eeb907d3b93b6e0e5",
    "execution": {
     "iopub.execute_input": "2025-02-26T14:54:54.905245Z",
     "iopub.status.busy": "2025-02-26T14:54:54.904890Z",
     "iopub.status.idle": "2025-02-26T14:54:55.695245Z",
     "shell.execute_reply": "2025-02-26T14:54:55.694164Z"
    },
    "papermill": {
     "duration": 0.797162,
     "end_time": "2025-02-26T14:54:55.697214",
     "exception": false,
     "start_time": "2025-02-26T14:54:54.900052",
     "status": "completed"
    },
    "tags": []
   },
   "outputs": [
    {
     "name": "stdout",
     "output_type": "stream",
     "text": [
      "/kaggle/input/equity-post-HCT-survival-predictions/sample_submission.csv\n",
      "/kaggle/input/equity-post-HCT-survival-predictions/data_dictionary.csv\n",
      "/kaggle/input/equity-post-HCT-survival-predictions/train.csv\n",
      "/kaggle/input/equity-post-HCT-survival-predictions/test.csv\n"
     ]
    }
   ],
   "source": [
    "# This Python 3 environment comes with many helpful analytics libraries installed\n",
    "# It is defined by the kaggle/python Docker image: https://github.com/kaggle/docker-python\n",
    "# For example, here's several helpful packages to load\n",
    "\n",
    "import numpy as np # linear algebra\n",
    "import pandas as pd # data processing, CSV file I/O (e.g. pd.read_csv)\n",
    "\n",
    "# Input data files are available in the read-only \"../input/\" directory\n",
    "# For example, running this (by clicking run or pressing Shift+Enter) will list all files under the input directory\n",
    "\n",
    "import os\n",
    "for dirname, _, filenames in os.walk('/kaggle/input'):\n",
    "    for filename in filenames:\n",
    "        print(os.path.join(dirname, filename))\n",
    "\n",
    "# You can write up to 20GB to the current directory (/kaggle/working/) that gets preserved as output when you create a version using \"Save & Run All\" \n",
    "# You can also write temporary files to /kaggle/temp/, but they won't be saved outside of the current session"
   ]
  },
  {
   "cell_type": "code",
   "execution_count": 2,
   "id": "b32106a0",
   "metadata": {
    "execution": {
     "iopub.execute_input": "2025-02-26T14:54:55.705590Z",
     "iopub.status.busy": "2025-02-26T14:54:55.705102Z",
     "iopub.status.idle": "2025-02-26T14:54:57.661666Z",
     "shell.execute_reply": "2025-02-26T14:54:57.660769Z"
    },
    "papermill": {
     "duration": 1.962564,
     "end_time": "2025-02-26T14:54:57.663570",
     "exception": false,
     "start_time": "2025-02-26T14:54:55.701006",
     "status": "completed"
    },
    "tags": []
   },
   "outputs": [],
   "source": [
    "import pandas as pd\n",
    "import numpy as np\n",
    "import xgboost as xgb\n",
    "from sklearn.compose import ColumnTransformer\n",
    "from sklearn.pipeline import Pipeline\n",
    "from sklearn.impute import SimpleImputer\n",
    "from sklearn.preprocessing import OneHotEncoder, StandardScaler\n",
    "from sklearn.model_selection import train_test_split"
   ]
  },
  {
   "cell_type": "code",
   "execution_count": 3,
   "id": "2a7dc4bd",
   "metadata": {
    "execution": {
     "iopub.execute_input": "2025-02-26T14:54:57.672489Z",
     "iopub.status.busy": "2025-02-26T14:54:57.672001Z",
     "iopub.status.idle": "2025-02-26T14:54:58.051885Z",
     "shell.execute_reply": "2025-02-26T14:54:58.050759Z"
    },
    "papermill": {
     "duration": 0.386328,
     "end_time": "2025-02-26T14:54:58.053657",
     "exception": false,
     "start_time": "2025-02-26T14:54:57.667329",
     "status": "completed"
    },
    "tags": []
   },
   "outputs": [],
   "source": [
    "train_df = pd.read_csv(\"/kaggle/input/equity-post-HCT-survival-predictions/train.csv\")\n",
    "test_df = pd.read_csv(\"/kaggle/input/equity-post-HCT-survival-predictions/test.csv\")"
   ]
  },
  {
   "cell_type": "code",
   "execution_count": 4,
   "id": "28962a91",
   "metadata": {
    "execution": {
     "iopub.execute_input": "2025-02-26T14:54:58.061545Z",
     "iopub.status.busy": "2025-02-26T14:54:58.061204Z",
     "iopub.status.idle": "2025-02-26T14:54:58.071063Z",
     "shell.execute_reply": "2025-02-26T14:54:58.070173Z"
    },
    "papermill": {
     "duration": 0.015451,
     "end_time": "2025-02-26T14:54:58.072667",
     "exception": false,
     "start_time": "2025-02-26T14:54:58.057216",
     "status": "completed"
    },
    "tags": []
   },
   "outputs": [],
   "source": [
    "train_df[\"age_comorbidity\"] = train_df[\"age_at_hct\"] * train_df[\"comorbidity_score\"]\n",
    "test_df[\"age_comorbidity\"] = test_df[\"age_at_hct\"] * test_df[\"comorbidity_score\"]\n",
    "columns_to_drop = [\"efs\", \"efs_time\", \"ID\", \"cyto_score_detail\", \"gvhd_proph\"]"
   ]
  },
  {
   "cell_type": "code",
   "execution_count": 5,
   "id": "3666c708",
   "metadata": {
    "execution": {
     "iopub.execute_input": "2025-02-26T14:54:58.080640Z",
     "iopub.status.busy": "2025-02-26T14:54:58.080266Z",
     "iopub.status.idle": "2025-02-26T14:54:58.098889Z",
     "shell.execute_reply": "2025-02-26T14:54:58.097882Z"
    },
    "papermill": {
     "duration": 0.024582,
     "end_time": "2025-02-26T14:54:58.100740",
     "exception": false,
     "start_time": "2025-02-26T14:54:58.076158",
     "status": "completed"
    },
    "tags": []
   },
   "outputs": [],
   "source": [
    "X_train = train_df.drop(columns=columns_to_drop, axis=1)\n",
    "y_train = train_df[\"efs_time\"].values"
   ]
  },
  {
   "cell_type": "code",
   "execution_count": 6,
   "id": "1843b600",
   "metadata": {
    "execution": {
     "iopub.execute_input": "2025-02-26T14:54:58.109132Z",
     "iopub.status.busy": "2025-02-26T14:54:58.108710Z",
     "iopub.status.idle": "2025-02-26T14:54:58.122545Z",
     "shell.execute_reply": "2025-02-26T14:54:58.121508Z"
    },
    "papermill": {
     "duration": 0.019847,
     "end_time": "2025-02-26T14:54:58.124323",
     "exception": false,
     "start_time": "2025-02-26T14:54:58.104476",
     "status": "completed"
    },
    "tags": []
   },
   "outputs": [],
   "source": [
    "num_features = X_train.select_dtypes(include=[\"float64\", \"int64\"]).columns.tolist()\n",
    "cat_features = X_train.select_dtypes(include=[\"object\"]).columns.tolist()"
   ]
  },
  {
   "cell_type": "code",
   "execution_count": 7,
   "id": "a43dbf83",
   "metadata": {
    "execution": {
     "iopub.execute_input": "2025-02-26T14:54:58.132246Z",
     "iopub.status.busy": "2025-02-26T14:54:58.131894Z",
     "iopub.status.idle": "2025-02-26T14:54:58.136869Z",
     "shell.execute_reply": "2025-02-26T14:54:58.135958Z"
    },
    "papermill": {
     "duration": 0.010479,
     "end_time": "2025-02-26T14:54:58.138313",
     "exception": false,
     "start_time": "2025-02-26T14:54:58.127834",
     "status": "completed"
    },
    "tags": []
   },
   "outputs": [],
   "source": [
    "preprocessor = ColumnTransformer([\n",
    "    (\"num\", Pipeline([\n",
    "        (\"imputer\", SimpleImputer(strategy=\"median\")),\n",
    "        (\"scaler\", StandardScaler())\n",
    "    ]), num_features),\n",
    "    (\"cat\", Pipeline([\n",
    "        (\"imputer\", SimpleImputer(strategy=\"constant\", fill_value=\"Missing\")),\n",
    "        (\"encoder\", OneHotEncoder(drop=\"first\", min_frequency=0.05, sparse=False))\n",
    "    ]), cat_features)\n",
    "])"
   ]
  },
  {
   "cell_type": "code",
   "execution_count": 8,
   "id": "4589823a",
   "metadata": {
    "execution": {
     "iopub.execute_input": "2025-02-26T14:54:58.146273Z",
     "iopub.status.busy": "2025-02-26T14:54:58.145972Z",
     "iopub.status.idle": "2025-02-26T14:54:59.264827Z",
     "shell.execute_reply": "2025-02-26T14:54:59.263881Z"
    },
    "papermill": {
     "duration": 1.124872,
     "end_time": "2025-02-26T14:54:59.266702",
     "exception": false,
     "start_time": "2025-02-26T14:54:58.141830",
     "status": "completed"
    },
    "tags": []
   },
   "outputs": [
    {
     "name": "stderr",
     "output_type": "stream",
     "text": [
      "/usr/local/lib/python3.10/dist-packages/sklearn/preprocessing/_encoders.py:868: FutureWarning: `sparse` was renamed to `sparse_output` in version 1.2 and will be removed in 1.4. `sparse_output` is ignored unless you leave `sparse` to its default value.\n",
      "  warnings.warn(\n"
     ]
    }
   ],
   "source": [
    "X_train_processed = preprocessor.fit_transform(X_train).astype(np.float32)"
   ]
  },
  {
   "cell_type": "code",
   "execution_count": 9,
   "id": "dc290fbd",
   "metadata": {
    "execution": {
     "iopub.execute_input": "2025-02-26T14:54:59.275664Z",
     "iopub.status.busy": "2025-02-26T14:54:59.275287Z",
     "iopub.status.idle": "2025-02-26T14:54:59.290034Z",
     "shell.execute_reply": "2025-02-26T14:54:59.289040Z"
    },
    "papermill": {
     "duration": 0.021395,
     "end_time": "2025-02-26T14:54:59.291932",
     "exception": false,
     "start_time": "2025-02-26T14:54:59.270537",
     "status": "completed"
    },
    "tags": []
   },
   "outputs": [],
   "source": [
    "X_tr, X_val, y_tr, y_val = train_test_split(X_train_processed, y_train, test_size=0.2, random_state=42)"
   ]
  },
  {
   "cell_type": "code",
   "execution_count": 10,
   "id": "4c5818c4",
   "metadata": {
    "execution": {
     "iopub.execute_input": "2025-02-26T14:54:59.300205Z",
     "iopub.status.busy": "2025-02-26T14:54:59.299878Z",
     "iopub.status.idle": "2025-02-26T14:54:59.363033Z",
     "shell.execute_reply": "2025-02-26T14:54:59.362184Z"
    },
    "papermill": {
     "duration": 0.069484,
     "end_time": "2025-02-26T14:54:59.365111",
     "exception": false,
     "start_time": "2025-02-26T14:54:59.295627",
     "status": "completed"
    },
    "tags": []
   },
   "outputs": [],
   "source": [
    "dtrain = xgb.DMatrix(X_tr, label=y_tr)\n",
    "dval = xgb.DMatrix(X_val, label=y_val)"
   ]
  },
  {
   "cell_type": "code",
   "execution_count": 11,
   "id": "c3ee19db",
   "metadata": {
    "execution": {
     "iopub.execute_input": "2025-02-26T14:54:59.374092Z",
     "iopub.status.busy": "2025-02-26T14:54:59.373748Z",
     "iopub.status.idle": "2025-02-26T14:54:59.377963Z",
     "shell.execute_reply": "2025-02-26T14:54:59.377158Z"
    },
    "papermill": {
     "duration": 0.010281,
     "end_time": "2025-02-26T14:54:59.379522",
     "exception": false,
     "start_time": "2025-02-26T14:54:59.369241",
     "status": "completed"
    },
    "tags": []
   },
   "outputs": [],
   "source": [
    "params = {\n",
    "    \"objective\": \"survival:cox\",    # Cox proportional hazards model\n",
    "    \"eval_metric\": \"cox-nloglik\",   # Negative log partial likelihood\n",
    "    \"max_depth\": 4,\n",
    "    \"subsample\": 0.7,\n",
    "    \"tree_method\": \"hist\",\n",
    "    \"verbosity\": 0,\n",
    "}"
   ]
  },
  {
   "cell_type": "code",
   "execution_count": 12,
   "id": "02c334e1",
   "metadata": {
    "execution": {
     "iopub.execute_input": "2025-02-26T14:54:59.388149Z",
     "iopub.status.busy": "2025-02-26T14:54:59.387795Z",
     "iopub.status.idle": "2025-02-26T14:54:59.739584Z",
     "shell.execute_reply": "2025-02-26T14:54:59.738721Z"
    },
    "papermill": {
     "duration": 0.358012,
     "end_time": "2025-02-26T14:54:59.741344",
     "exception": false,
     "start_time": "2025-02-26T14:54:59.383332",
     "status": "completed"
    },
    "tags": []
   },
   "outputs": [
    {
     "name": "stdout",
     "output_type": "stream",
     "text": [
      "[0]\ttrain-cox-nloglik:9.01255\teval-cox-nloglik:7.62624\n",
      "[1]\ttrain-cox-nloglik:8.99312\teval-cox-nloglik:7.60861\n",
      "[2]\ttrain-cox-nloglik:8.97975\teval-cox-nloglik:7.59617\n",
      "[3]\ttrain-cox-nloglik:8.97132\teval-cox-nloglik:7.58940\n",
      "[4]\ttrain-cox-nloglik:8.96428\teval-cox-nloglik:7.58425\n",
      "[5]\ttrain-cox-nloglik:8.95839\teval-cox-nloglik:7.58030\n",
      "[6]\ttrain-cox-nloglik:8.95482\teval-cox-nloglik:7.57600\n",
      "[7]\ttrain-cox-nloglik:8.95111\teval-cox-nloglik:7.57500\n",
      "[8]\ttrain-cox-nloglik:8.94777\teval-cox-nloglik:7.57268\n",
      "[9]\ttrain-cox-nloglik:8.94491\teval-cox-nloglik:7.57114\n",
      "[10]\ttrain-cox-nloglik:8.94243\teval-cox-nloglik:7.57049\n",
      "[11]\ttrain-cox-nloglik:8.94000\teval-cox-nloglik:7.57296\n",
      "[12]\ttrain-cox-nloglik:8.93759\teval-cox-nloglik:7.57318\n",
      "[13]\ttrain-cox-nloglik:8.93558\teval-cox-nloglik:7.57533\n",
      "[14]\ttrain-cox-nloglik:8.93393\teval-cox-nloglik:7.57487\n",
      "[15]\ttrain-cox-nloglik:8.93258\teval-cox-nloglik:7.57524\n",
      "[16]\ttrain-cox-nloglik:8.93080\teval-cox-nloglik:7.57503\n",
      "[17]\ttrain-cox-nloglik:8.92880\teval-cox-nloglik:7.57323\n",
      "[18]\ttrain-cox-nloglik:8.92681\teval-cox-nloglik:7.57135\n",
      "[19]\ttrain-cox-nloglik:8.92530\teval-cox-nloglik:7.57059\n",
      "[20]\ttrain-cox-nloglik:8.92399\teval-cox-nloglik:7.56985\n",
      "[21]\ttrain-cox-nloglik:8.92237\teval-cox-nloglik:7.56969\n",
      "[22]\ttrain-cox-nloglik:8.92008\teval-cox-nloglik:7.56844\n",
      "[23]\ttrain-cox-nloglik:8.91800\teval-cox-nloglik:7.57343\n",
      "[24]\ttrain-cox-nloglik:8.91650\teval-cox-nloglik:7.57226\n",
      "[25]\ttrain-cox-nloglik:8.91484\teval-cox-nloglik:7.57301\n",
      "[26]\ttrain-cox-nloglik:8.91395\teval-cox-nloglik:7.57296\n",
      "[27]\ttrain-cox-nloglik:8.91255\teval-cox-nloglik:7.57267\n",
      "[28]\ttrain-cox-nloglik:8.91109\teval-cox-nloglik:7.57252\n",
      "[29]\ttrain-cox-nloglik:8.90970\teval-cox-nloglik:7.57128\n",
      "[30]\ttrain-cox-nloglik:8.90854\teval-cox-nloglik:7.57066\n",
      "[31]\ttrain-cox-nloglik:8.90671\teval-cox-nloglik:7.57109\n"
     ]
    }
   ],
   "source": [
    "evals = [(dtrain, \"train\"), (dval, \"eval\")]\n",
    "bst = xgb.train(params, dtrain, num_boost_round=100, evals=evals, early_stopping_rounds=10)"
   ]
  },
  {
   "cell_type": "code",
   "execution_count": 13,
   "id": "dbad33a2",
   "metadata": {
    "execution": {
     "iopub.execute_input": "2025-02-26T14:54:59.754230Z",
     "iopub.status.busy": "2025-02-26T14:54:59.753774Z",
     "iopub.status.idle": "2025-02-26T14:54:59.769244Z",
     "shell.execute_reply": "2025-02-26T14:54:59.768207Z"
    },
    "papermill": {
     "duration": 0.023564,
     "end_time": "2025-02-26T14:54:59.771036",
     "exception": false,
     "start_time": "2025-02-26T14:54:59.747472",
     "status": "completed"
    },
    "tags": []
   },
   "outputs": [],
   "source": [
    "X_test = test_df.drop(columns=[\"ID\", \"cyto_score_detail\", \"gvhd_proph\"], axis=1)\n",
    "X_test_processed = preprocessor.transform(X_test).astype(np.float32)"
   ]
  },
  {
   "cell_type": "code",
   "execution_count": 14,
   "id": "e72d4944",
   "metadata": {
    "execution": {
     "iopub.execute_input": "2025-02-26T14:54:59.784020Z",
     "iopub.status.busy": "2025-02-26T14:54:59.783693Z",
     "iopub.status.idle": "2025-02-26T14:54:59.789616Z",
     "shell.execute_reply": "2025-02-26T14:54:59.788782Z"
    },
    "papermill": {
     "duration": 0.014242,
     "end_time": "2025-02-26T14:54:59.791477",
     "exception": false,
     "start_time": "2025-02-26T14:54:59.777235",
     "status": "completed"
    },
    "tags": []
   },
   "outputs": [],
   "source": [
    "dtest = xgb.DMatrix(X_test_processed)\n",
    "risk_scores = bst.predict(dtest)"
   ]
  },
  {
   "cell_type": "code",
   "execution_count": 15,
   "id": "a04607f7",
   "metadata": {
    "execution": {
     "iopub.execute_input": "2025-02-26T14:54:59.804227Z",
     "iopub.status.busy": "2025-02-26T14:54:59.803855Z",
     "iopub.status.idle": "2025-02-26T14:54:59.808695Z",
     "shell.execute_reply": "2025-02-26T14:54:59.807674Z"
    },
    "papermill": {
     "duration": 0.012847,
     "end_time": "2025-02-26T14:54:59.810360",
     "exception": false,
     "start_time": "2025-02-26T14:54:59.797513",
     "status": "completed"
    },
    "tags": []
   },
   "outputs": [],
   "source": [
    "submission = pd.DataFrame({\n",
    "    \"ID\": test_df[\"ID\"],\n",
    "    \"prediction\": risk_scores\n",
    "})"
   ]
  },
  {
   "cell_type": "code",
   "execution_count": 16,
   "id": "b8aee10b",
   "metadata": {
    "execution": {
     "iopub.execute_input": "2025-02-26T14:54:59.822640Z",
     "iopub.status.busy": "2025-02-26T14:54:59.822277Z",
     "iopub.status.idle": "2025-02-26T14:54:59.833613Z",
     "shell.execute_reply": "2025-02-26T14:54:59.832503Z"
    },
    "papermill": {
     "duration": 0.019297,
     "end_time": "2025-02-26T14:54:59.835282",
     "exception": false,
     "start_time": "2025-02-26T14:54:59.815985",
     "status": "completed"
    },
    "tags": []
   },
   "outputs": [
    {
     "name": "stdout",
     "output_type": "stream",
     "text": [
      "Submission file saved as submission.csv\n"
     ]
    }
   ],
   "source": [
    "submission.to_csv(\"submission.csv\", index=False)\n",
    "print(\"Submission file saved as submission.csv\")"
   ]
  }
 ],
 "metadata": {
  "kaggle": {
   "accelerator": "none",
   "dataSources": [
    {
     "databundleVersionId": 10381525,
     "sourceId": 70942,
     "sourceType": "competition"
    }
   ],
   "dockerImageVersionId": 30918,
   "isGpuEnabled": false,
   "isInternetEnabled": true,
   "language": "python",
   "sourceType": "notebook"
  },
  "kernelspec": {
   "display_name": "Python 3",
   "language": "python",
   "name": "python3"
  },
  "language_info": {
   "codemirror_mode": {
    "name": "ipython",
    "version": 3
   },
   "file_extension": ".py",
   "mimetype": "text/x-python",
   "name": "python",
   "nbconvert_exporter": "python",
   "pygments_lexer": "ipython3",
   "version": "3.10.12"
  },
  "papermill": {
   "default_parameters": {},
   "duration": 8.385193,
   "end_time": "2025-02-26T14:55:00.562185",
   "environment_variables": {},
   "exception": null,
   "input_path": "__notebook__.ipynb",
   "output_path": "__notebook__.ipynb",
   "parameters": {},
   "start_time": "2025-02-26T14:54:52.176992",
   "version": "2.6.0"
  }
 },
 "nbformat": 4,
 "nbformat_minor": 5
}
