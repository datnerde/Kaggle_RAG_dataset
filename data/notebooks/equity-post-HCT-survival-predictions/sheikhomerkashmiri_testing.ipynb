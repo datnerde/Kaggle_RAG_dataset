{
 "cells": [
  {
   "cell_type": "code",
   "execution_count": 1,
   "id": "306da8ff",
   "metadata": {
    "_cell_guid": "b1076dfc-b9ad-4769-8c92-a6c4dae69d19",
    "_uuid": "8f2839f25d086af736a60e9eeb907d3b93b6e0e5",
    "execution": {
     "iopub.execute_input": "2025-03-01T06:27:52.575885Z",
     "iopub.status.busy": "2025-03-01T06:27:52.575369Z",
     "iopub.status.idle": "2025-03-01T06:27:52.601268Z",
     "shell.execute_reply": "2025-03-01T06:27:52.599918Z"
    },
    "papermill": {
     "duration": 0.031944,
     "end_time": "2025-03-01T06:27:52.603477",
     "exception": false,
     "start_time": "2025-03-01T06:27:52.571533",
     "status": "completed"
    },
    "tags": []
   },
   "outputs": [
    {
     "name": "stdout",
     "output_type": "stream",
     "text": [
      "/kaggle/input/equity-post-HCT-survival-predictions/sample_submission.csv\n",
      "/kaggle/input/equity-post-HCT-survival-predictions/data_dictionary.csv\n",
      "/kaggle/input/equity-post-HCT-survival-predictions/train.csv\n",
      "/kaggle/input/equity-post-HCT-survival-predictions/test.csv\n",
      "/kaggle/input/notebook308fc88103/__results__.html\n",
      "/kaggle/input/notebook308fc88103/__notebook__.ipynb\n",
      "/kaggle/input/notebook308fc88103/__output__.json\n",
      "/kaggle/input/notebook308fc88103/random_forest_model.pkl\n",
      "/kaggle/input/notebook308fc88103/custom.css\n",
      "/kaggle/input/notebook308fc88103/__results___files/__results___11_0.png\n",
      "/kaggle/input/notebook308fc88103/__results___files/__results___22_0.png\n",
      "/kaggle/input/notebook308fc88103/__results___files/__results___24_0.png\n",
      "/kaggle/input/notebook308fc88103/__results___files/__results___4_0.png\n",
      "/kaggle/input/notebook308fc88103/__results___files/__results___2_0.png\n"
     ]
    }
   ],
   "source": [
    "import os\n",
    "for dirname, _, filenames in os.walk('/kaggle/input'):\n",
    "    for filename in filenames:\n",
    "        print(os.path.join(dirname, filename))"
   ]
  },
  {
   "cell_type": "code",
   "execution_count": 2,
   "id": "3dab7c5e",
   "metadata": {
    "execution": {
     "iopub.execute_input": "2025-03-01T06:27:52.609602Z",
     "iopub.status.busy": "2025-03-01T06:27:52.609247Z",
     "iopub.status.idle": "2025-03-01T06:27:55.939744Z",
     "shell.execute_reply": "2025-03-01T06:27:55.938447Z"
    },
    "papermill": {
     "duration": 3.335512,
     "end_time": "2025-03-01T06:27:55.941653",
     "exception": false,
     "start_time": "2025-03-01T06:27:52.606141",
     "status": "completed"
    },
    "tags": []
   },
   "outputs": [
    {
     "name": "stdout",
     "output_type": "stream",
     "text": [
      "✅ Model Loaded Successfully\n",
      "✅ Submission file saved as submission.csv\n"
     ]
    }
   ],
   "source": [
    "import numpy as np\n",
    "import pandas as pd\n",
    "import joblib\n",
    "\n",
    "# Load test data\n",
    "test = pd.read_csv(\"/kaggle/input/equity-post-HCT-survival-predictions/test.csv\")\n",
    "\n",
    "# Define features (Ensure they match training features)\n",
    "EXCLUDE_COLS = [\"ID\", \"efs\", \"efs_time\", \"y\"]\n",
    "FEATURES = [col for col in test.columns if col not in EXCLUDE_COLS]\n",
    "\n",
    "# Load trained model\n",
    "MODEL_PATH = \"/kaggle/input/notebook308fc88103/random_forest_model.pkl\"  # Updated path\n",
    "try:\n",
    "    model = joblib.load(MODEL_PATH)\n",
    "    print(\"✅ Model Loaded Successfully\")\n",
    "except FileNotFoundError:\n",
    "    print(f\"❌ Model file not found: {MODEL_PATH}\")\n",
    "    exit()\n",
    "\n",
    "# Apply necessary feature transformations\n",
    "def preprocess(df):\n",
    "    \"\"\"Feature Engineering: Convert categorical variables and handle missing values.\"\"\"\n",
    "    \n",
    "    # Apply categorical mappings\n",
    "    mappings = {\n",
    "        \"arrhythmia\": {\"No\": 0, \"Not done\": 0, \"Yes\": 1},\n",
    "        \"cardiac\": {\"No\": 0, \"Not done\": 0, \"Yes\": 1},\n",
    "        \"diabetes\": {\"No\": 0, \"Not done\": 0, \"Yes\": 1},\n",
    "        \"hepatic_mild\": {\"No\": 0, \"Not done\": 0, \"Yes\": 1},\n",
    "        \"hepatic_severe\": {\"No\": 0, \"Not done\": 0, \"Yes\": 3},\n",
    "    }\n",
    "    \n",
    "    for col, mapping in mappings.items():\n",
    "        if col in df.columns:\n",
    "            df[col] = df[col].map(mapping).fillna(0)\n",
    "\n",
    "    # Convert all non-numeric values to NaN and fill with a default\n",
    "    df.replace({\"N/A - non-malignant indication\": np.nan}, inplace=True)\n",
    "    df.fillna(0, inplace=True)  # Replace NaN with 0 or another default\n",
    "    \n",
    "    # Ensure all columns are numeric\n",
    "    for col in df.select_dtypes(include=['object']).columns:\n",
    "        df[col] = pd.factorize(df[col])[0]  # Convert categorical text to numeric\n",
    "    \n",
    "    # Handle missing features\n",
    "    missing_features = [col for col in FEATURES if col not in df.columns]\n",
    "    for col in missing_features:\n",
    "        df[col] = 0  # Assign default value\n",
    "    \n",
    "    return df\n",
    "\n",
    "# Preprocess test data\n",
    "test = preprocess(test)\n",
    "\n",
    "# Ensure features match model training\n",
    "test_features = test[FEATURES]\n",
    "\n",
    "# Predict survival probabilities\n",
    "test[\"prediction\"] = model.predict(test_features)\n",
    "\n",
    "# Save submission file\n",
    "submission = test[[\"ID\", \"prediction\"]]\n",
    "submission.to_csv(\"submission.csv\", index=False)\n",
    "\n",
    "print(\"✅ Submission file saved as submission.csv\")\n"
   ]
  },
  {
   "cell_type": "code",
   "execution_count": null,
   "id": "3ed82bf7",
   "metadata": {
    "papermill": {
     "duration": 0.001756,
     "end_time": "2025-03-01T06:27:55.945638",
     "exception": false,
     "start_time": "2025-03-01T06:27:55.943882",
     "status": "completed"
    },
    "tags": []
   },
   "outputs": [],
   "source": []
  }
 ],
 "metadata": {
  "kaggle": {
   "accelerator": "none",
   "dataSources": [
    {
     "databundleVersionId": 10381525,
     "sourceId": 70942,
     "sourceType": "competition"
    },
    {
     "sourceId": 224189451,
     "sourceType": "kernelVersion"
    }
   ],
   "dockerImageVersionId": 30918,
   "isGpuEnabled": false,
   "isInternetEnabled": false,
   "language": "python",
   "sourceType": "notebook"
  },
  "kernelspec": {
   "display_name": "Python 3",
   "language": "python",
   "name": "python3"
  },
  "language_info": {
   "codemirror_mode": {
    "name": "ipython",
    "version": 3
   },
   "file_extension": ".py",
   "mimetype": "text/x-python",
   "name": "python",
   "nbconvert_exporter": "python",
   "pygments_lexer": "ipython3",
   "version": "3.10.12"
  },
  "papermill": {
   "default_parameters": {},
   "duration": 7.558853,
   "end_time": "2025-03-01T06:27:56.668484",
   "environment_variables": {},
   "exception": null,
   "input_path": "__notebook__.ipynb",
   "output_path": "__notebook__.ipynb",
   "parameters": {},
   "start_time": "2025-03-01T06:27:49.109631",
   "version": "2.6.0"
  }
 },
 "nbformat": 4,
 "nbformat_minor": 5
}
