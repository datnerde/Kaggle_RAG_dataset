{
 "cells": [
  {
   "cell_type": "markdown",
   "id": "0fa3f856",
   "metadata": {
    "execution": {
     "iopub.execute_input": "2024-12-07T18:55:17.768338Z",
     "iopub.status.busy": "2024-12-07T18:55:17.766977Z",
     "iopub.status.idle": "2024-12-07T18:55:17.774067Z",
     "shell.execute_reply": "2024-12-07T18:55:17.772957Z",
     "shell.execute_reply.started": "2024-12-07T18:55:17.768298Z"
    },
    "papermill": {
     "duration": 0.003677,
     "end_time": "2024-12-10T03:08:56.959325",
     "exception": false,
     "start_time": "2024-12-10T03:08:56.955648",
     "status": "completed"
    },
    "tags": []
   },
   "source": [
    "# 提出までの流れ\n",
    "\n",
    "1. 環境の導入\n",
    "   - lifelinesライブラリのインストール\n",
    "   - score関数の導入\n",
    "2. データの整形\n",
    "3. 学習\n",
    "4. データの提出\n",
    "\n",
    "---\n",
    "\n",
    "## 1. 環境の導入\n",
    "\n",
    "### lifelinesライブラリのインストール"
   ]
  },
  {
   "cell_type": "code",
   "execution_count": 1,
   "id": "481b8ea7",
   "metadata": {
    "execution": {
     "iopub.execute_input": "2024-12-10T03:08:56.966644Z",
     "iopub.status.busy": "2024-12-10T03:08:56.966381Z",
     "iopub.status.idle": "2024-12-10T03:12:20.809717Z",
     "shell.execute_reply": "2024-12-10T03:12:20.808787Z"
    },
    "papermill": {
     "duration": 203.849327,
     "end_time": "2024-12-10T03:12:20.811938",
     "exception": false,
     "start_time": "2024-12-10T03:08:56.962611",
     "status": "completed"
    },
    "tags": []
   },
   "outputs": [
    {
     "name": "stdout",
     "output_type": "stream",
     "text": [
      "Processing /kaggle/input/pip-install-lifelines/autograd-1.7.0-py3-none-any.whl\r\n",
      "Requirement already satisfied: numpy in /opt/conda/lib/python3.10/site-packages (from autograd==1.7.0) (1.26.4)\r\n",
      "Installing collected packages: autograd\r\n",
      "Successfully installed autograd-1.7.0\r\n",
      "Processing /kaggle/input/pip-install-lifelines/autograd-gamma-0.5.0.tar.gz\r\n",
      "  Preparing metadata (setup.py) ... \u001b[?25l-\b \bdone\r\n",
      "\u001b[?25hRequirement already satisfied: autograd>=1.2.0 in /opt/conda/lib/python3.10/site-packages (from autograd-gamma==0.5.0) (1.7.0)\r\n",
      "Requirement already satisfied: scipy>=1.2.0 in /opt/conda/lib/python3.10/site-packages (from autograd-gamma==0.5.0) (1.14.1)\r\n",
      "Requirement already satisfied: numpy in /opt/conda/lib/python3.10/site-packages (from autograd>=1.2.0->autograd-gamma==0.5.0) (1.26.4)\r\n",
      "Building wheels for collected packages: autograd-gamma\r\n",
      "  Building wheel for autograd-gamma (setup.py) ... \u001b[?25l-\b \b\\\b \bdone\r\n",
      "\u001b[?25h  Created wheel for autograd-gamma: filename=autograd_gamma-0.5.0-py3-none-any.whl size=4030 sha256=a798a3bb9250e4c2f9e7db57000ae90f3a455083d3b08d1014ca55f1469885bb\r\n",
      "  Stored in directory: /root/.cache/pip/wheels/6b/b5/e0/4c79e15c0b5f2c15ecf613c720bb20daab20a666eb67135155\r\n",
      "Successfully built autograd-gamma\r\n",
      "Installing collected packages: autograd-gamma\r\n",
      "Successfully installed autograd-gamma-0.5.0\r\n",
      "Processing /kaggle/input/pip-install-lifelines/interface_meta-1.3.0-py3-none-any.whl\r\n",
      "Installing collected packages: interface-meta\r\n",
      "Successfully installed interface-meta-1.3.0\r\n",
      "Processing /kaggle/input/pip-install-lifelines/formulaic-1.0.2-py3-none-any.whl\r\n",
      "Requirement already satisfied: interface-meta>=1.2.0 in /opt/conda/lib/python3.10/site-packages (from formulaic==1.0.2) (1.3.0)\r\n",
      "Requirement already satisfied: numpy>=1.16.5 in /opt/conda/lib/python3.10/site-packages (from formulaic==1.0.2) (1.26.4)\r\n",
      "Requirement already satisfied: pandas>=1.0 in /opt/conda/lib/python3.10/site-packages (from formulaic==1.0.2) (2.2.3)\r\n",
      "Requirement already satisfied: scipy>=1.6 in /opt/conda/lib/python3.10/site-packages (from formulaic==1.0.2) (1.14.1)\r\n",
      "Requirement already satisfied: typing-extensions>=4.2.0 in /opt/conda/lib/python3.10/site-packages (from formulaic==1.0.2) (4.12.2)\r\n",
      "Requirement already satisfied: wrapt>=1.0 in /opt/conda/lib/python3.10/site-packages (from formulaic==1.0.2) (1.16.0)\r\n",
      "Requirement already satisfied: python-dateutil>=2.8.2 in /opt/conda/lib/python3.10/site-packages (from pandas>=1.0->formulaic==1.0.2) (2.9.0.post0)\r\n",
      "Requirement already satisfied: pytz>=2020.1 in /opt/conda/lib/python3.10/site-packages (from pandas>=1.0->formulaic==1.0.2) (2024.1)\r\n",
      "Requirement already satisfied: tzdata>=2022.7 in /opt/conda/lib/python3.10/site-packages (from pandas>=1.0->formulaic==1.0.2) (2024.1)\r\n",
      "Requirement already satisfied: six>=1.5 in /opt/conda/lib/python3.10/site-packages (from python-dateutil>=2.8.2->pandas>=1.0->formulaic==1.0.2) (1.16.0)\r\n",
      "Installing collected packages: formulaic\r\n",
      "Successfully installed formulaic-1.0.2\r\n",
      "Processing /kaggle/input/pip-install-lifelines/lifelines-0.30.0-py3-none-any.whl\r\n",
      "Requirement already satisfied: numpy>=1.14.0 in /opt/conda/lib/python3.10/site-packages (from lifelines==0.30.0) (1.26.4)\r\n",
      "Requirement already satisfied: scipy>=1.7.0 in /opt/conda/lib/python3.10/site-packages (from lifelines==0.30.0) (1.14.1)\r\n",
      "Requirement already satisfied: pandas>=2.1 in /opt/conda/lib/python3.10/site-packages (from lifelines==0.30.0) (2.2.3)\r\n",
      "Requirement already satisfied: matplotlib>=3.0 in /opt/conda/lib/python3.10/site-packages (from lifelines==0.30.0) (3.7.5)\r\n",
      "Requirement already satisfied: autograd>=1.5 in /opt/conda/lib/python3.10/site-packages (from lifelines==0.30.0) (1.7.0)\r\n",
      "Requirement already satisfied: autograd-gamma>=0.3 in /opt/conda/lib/python3.10/site-packages (from lifelines==0.30.0) (0.5.0)\r\n",
      "Requirement already satisfied: formulaic>=0.2.2 in /opt/conda/lib/python3.10/site-packages (from lifelines==0.30.0) (1.0.2)\r\n",
      "Requirement already satisfied: interface-meta>=1.2.0 in /opt/conda/lib/python3.10/site-packages (from formulaic>=0.2.2->lifelines==0.30.0) (1.3.0)\r\n",
      "Requirement already satisfied: typing-extensions>=4.2.0 in /opt/conda/lib/python3.10/site-packages (from formulaic>=0.2.2->lifelines==0.30.0) (4.12.2)\r\n",
      "Requirement already satisfied: wrapt>=1.0 in /opt/conda/lib/python3.10/site-packages (from formulaic>=0.2.2->lifelines==0.30.0) (1.16.0)\r\n",
      "Requirement already satisfied: contourpy>=1.0.1 in /opt/conda/lib/python3.10/site-packages (from matplotlib>=3.0->lifelines==0.30.0) (1.2.1)\r\n",
      "Requirement already satisfied: cycler>=0.10 in /opt/conda/lib/python3.10/site-packages (from matplotlib>=3.0->lifelines==0.30.0) (0.12.1)\r\n",
      "Requirement already satisfied: fonttools>=4.22.0 in /opt/conda/lib/python3.10/site-packages (from matplotlib>=3.0->lifelines==0.30.0) (4.53.0)\r\n",
      "Requirement already satisfied: kiwisolver>=1.0.1 in /opt/conda/lib/python3.10/site-packages (from matplotlib>=3.0->lifelines==0.30.0) (1.4.5)\r\n",
      "Requirement already satisfied: packaging>=20.0 in /opt/conda/lib/python3.10/site-packages (from matplotlib>=3.0->lifelines==0.30.0) (21.3)\r\n",
      "Requirement already satisfied: pillow>=6.2.0 in /opt/conda/lib/python3.10/site-packages (from matplotlib>=3.0->lifelines==0.30.0) (10.3.0)\r\n",
      "Requirement already satisfied: pyparsing>=2.3.1 in /opt/conda/lib/python3.10/site-packages (from matplotlib>=3.0->lifelines==0.30.0) (3.1.2)\r\n",
      "Requirement already satisfied: python-dateutil>=2.7 in /opt/conda/lib/python3.10/site-packages (from matplotlib>=3.0->lifelines==0.30.0) (2.9.0.post0)\r\n",
      "Requirement already satisfied: pytz>=2020.1 in /opt/conda/lib/python3.10/site-packages (from pandas>=2.1->lifelines==0.30.0) (2024.1)\r\n",
      "Requirement already satisfied: tzdata>=2022.7 in /opt/conda/lib/python3.10/site-packages (from pandas>=2.1->lifelines==0.30.0) (2024.1)\r\n",
      "Requirement already satisfied: six>=1.5 in /opt/conda/lib/python3.10/site-packages (from python-dateutil>=2.7->matplotlib>=3.0->lifelines==0.30.0) (1.16.0)\r\n",
      "Installing collected packages: lifelines\r\n",
      "Successfully installed lifelines-0.30.0\r\n"
     ]
    }
   ],
   "source": [
    "# オフラインノートでlifeinesをインストールするためにInputに\"pip install lifelines\"を追加します\n",
    "# https://www.kaggle.com/code/cdeotte/pip-install-lifelines/notebook\n",
    "!pip install /kaggle/input/pip-install-lifelines/autograd-1.7.0-py3-none-any.whl\n",
    "!pip install /kaggle/input/pip-install-lifelines/autograd-gamma-0.5.0.tar.gz\n",
    "!pip install /kaggle/input/pip-install-lifelines/interface_meta-1.3.0-py3-none-any.whl\n",
    "!pip install /kaggle/input/pip-install-lifelines/formulaic-1.0.2-py3-none-any.whl\n",
    "!pip install /kaggle/input/pip-install-lifelines/lifelines-0.30.0-py3-none-any.whl"
   ]
  },
  {
   "cell_type": "markdown",
   "id": "4a42a5bb",
   "metadata": {
    "papermill": {
     "duration": 0.004019,
     "end_time": "2024-12-10T03:12:20.820512",
     "exception": false,
     "start_time": "2024-12-10T03:12:20.816493",
     "status": "completed"
    },
    "tags": []
   },
   "source": [
    "### score関数の定義\n",
    "\n",
    "この関数も配布物を使用します\n",
    "\n",
    "[Discussion: How To Get Started - Understanding the Metric](https://www.kaggle.com/competitions/equity-post-HCT-survival-predictions/discussion/550003)\n",
    "\n",
    "[Notebook: eefs_concordance_index](https://www.kaggle.com/code/metric/eefs-concordance-index)"
   ]
  },
  {
   "cell_type": "code",
   "execution_count": 2,
   "id": "d94845ec",
   "metadata": {
    "execution": {
     "iopub.execute_input": "2024-12-10T03:12:20.830415Z",
     "iopub.status.busy": "2024-12-10T03:12:20.830112Z",
     "iopub.status.idle": "2024-12-10T03:12:22.325940Z",
     "shell.execute_reply": "2024-12-10T03:12:22.325259Z"
    },
    "papermill": {
     "duration": 1.503104,
     "end_time": "2024-12-10T03:12:22.327870",
     "exception": false,
     "start_time": "2024-12-10T03:12:20.824766",
     "status": "completed"
    },
    "tags": []
   },
   "outputs": [],
   "source": [
    "import pandas as pd\n",
    "import pandas.api.types\n",
    "import numpy as np\n",
    "from lifelines.utils import concordance_index\n",
    "\n",
    "class ParticipantVisibleError(Exception):\n",
    "    pass\n",
    "\n",
    "def score(solution: pd.DataFrame, submission: pd.DataFrame, row_id_column_name: str) -> float:\n",
    "    \"\"\" Cloned from ANDREW's Notebook\n",
    "    efs, efs_timeから今回の\n",
    "    \"\"\"\n",
    "    del solution[row_id_column_name]\n",
    "    del submission[row_id_column_name]\n",
    "    \n",
    "    event_label = 'efs'\n",
    "    interval_label = 'efs_time'\n",
    "    prediction_label = 'prediction'\n",
    "    for col in submission.columns:\n",
    "        if not pandas.api.types.is_numeric_dtype(submission[col]):\n",
    "            raise ParticipantVisibleError(f'Submission column {col} must be a number')\n",
    "    # Merging solution and submission dfs on ID\n",
    "    merged_df = pd.concat([solution, submission], axis=1)\n",
    "    merged_df.reset_index(inplace=True)\n",
    "    merged_df_race_dict = dict(merged_df.groupby(['race_group']).groups)\n",
    "    metric_list = []\n",
    "    for race in merged_df_race_dict.keys():\n",
    "        # Retrieving values from y_test based on index\n",
    "        indices = sorted(merged_df_race_dict[race])\n",
    "        merged_df_race = merged_df.iloc[indices]\n",
    "        # Calculate the concordance index\n",
    "        c_index_race = concordance_index(\n",
    "                        merged_df_race[interval_label],\n",
    "                        -merged_df_race[prediction_label],\n",
    "                        merged_df_race[event_label])\n",
    "        metric_list.append(c_index_race)\n",
    "    return float(np.mean(metric_list)-np.sqrt(np.var(metric_list)))"
   ]
  },
  {
   "cell_type": "markdown",
   "id": "02540b8f",
   "metadata": {
    "papermill": {
     "duration": 0.004142,
     "end_time": "2024-12-10T03:12:22.336549",
     "exception": false,
     "start_time": "2024-12-10T03:12:22.332407",
     "status": "completed"
    },
    "tags": []
   },
   "source": [
    "## 2. データの整形\n",
    "\n",
    "ここでは各データ型の定義のみを行います\n",
    "\n",
    "参考: [XGBoost CatBoost Baseline - \\[CV 668 LB 668\\]](https://www.kaggle.com/code/cdeotte/xgboost-catboost-baseline-cv-668-lb-668)"
   ]
  },
  {
   "cell_type": "code",
   "execution_count": 3,
   "id": "0a6d51c5",
   "metadata": {
    "execution": {
     "iopub.execute_input": "2024-12-10T03:12:22.346074Z",
     "iopub.status.busy": "2024-12-10T03:12:22.345736Z",
     "iopub.status.idle": "2024-12-10T03:12:25.136699Z",
     "shell.execute_reply": "2024-12-10T03:12:25.135994Z"
    },
    "papermill": {
     "duration": 2.797911,
     "end_time": "2024-12-10T03:12:25.138614",
     "exception": false,
     "start_time": "2024-12-10T03:12:22.340703",
     "status": "completed"
    },
    "tags": []
   },
   "outputs": [],
   "source": [
    "import warnings\n",
    "from pathlib import Path\n",
    "warnings.filterwarnings('ignore')\n",
    "\n",
    "import numpy as np\n",
    "import polars as pl\n",
    "import pandas as pd\n",
    "\n",
    "import lightgbm as lgb\n",
    "from sklearn.model_selection import KFold\n",
    "from sklearn.metrics import mean_squared_error as mse"
   ]
  },
  {
   "cell_type": "code",
   "execution_count": 4,
   "id": "4758b366",
   "metadata": {
    "execution": {
     "iopub.execute_input": "2024-12-10T03:12:25.148830Z",
     "iopub.status.busy": "2024-12-10T03:12:25.148362Z",
     "iopub.status.idle": "2024-12-10T03:12:25.154540Z",
     "shell.execute_reply": "2024-12-10T03:12:25.153736Z"
    },
    "papermill": {
     "duration": 0.01276,
     "end_time": "2024-12-10T03:12:25.156081",
     "exception": false,
     "start_time": "2024-12-10T03:12:25.143321",
     "status": "completed"
    },
    "tags": []
   },
   "outputs": [],
   "source": [
    "def load_data(path, batch_size=32768):\n",
    "    \"\"\"\n",
    "    データを読み込むための関数です\n",
    "    \"\"\"\n",
    "    df = pl.read_csv(path, batch_size=batch_size)\n",
    "    num_cols = [\n",
    "        'hla_match_c_high', 'hla_high_res_8', 'hla_low_res_6', 'hla_high_res_6', 'hla_high_res_10',\n",
    "        'hla_match_dqb1_high', 'hla_nmdp_6', 'hla_match_c_low', 'hla_match_drb1_low', 'hla_match_dqb1_low',\n",
    "        'year_hct', 'hla_match_a_high', 'donor_age', 'hla_match_b_low', 'age_at_hct',\n",
    "        'hla_match_a_low', 'hla_match_b_high', 'comorbidity_score', 'karnofsky_score', 'hla_low_res_8',\n",
    "        'hla_match_drb1_high', 'hla_low_res_10', 'efs', 'efs_time' ]\n",
    "\n",
    "    for col in df.columns:\n",
    "        if col in num_cols:\n",
    "            df = df.with_columns(pl.col(col).fill_null(-1).cast(pl.Float32))  \n",
    "        else:\n",
    "            df = df.with_columns(pl.col(col).fill_null('Unknown').cast(pl.String))\n",
    "    df = df.with_columns(pl.col('ID').cast(pl.Int32))\n",
    "    df = df.to_pandas()\n",
    "\n",
    "    cat_cols = [col for col in df.columns if df[col].dtype == pl.String]\n",
    "    return df, cat_cols"
   ]
  },
  {
   "cell_type": "code",
   "execution_count": 5,
   "id": "59044af6",
   "metadata": {
    "execution": {
     "iopub.execute_input": "2024-12-10T03:12:25.165392Z",
     "iopub.status.busy": "2024-12-10T03:12:25.165131Z",
     "iopub.status.idle": "2024-12-10T03:12:25.170463Z",
     "shell.execute_reply": "2024-12-10T03:12:25.169639Z"
    },
    "papermill": {
     "duration": 0.01183,
     "end_time": "2024-12-10T03:12:25.172069",
     "exception": false,
     "start_time": "2024-12-10T03:12:25.160239",
     "status": "completed"
    },
    "tags": []
   },
   "outputs": [],
   "source": [
    "from lifelines import KaplanMeierFitter\n",
    "def transform_survival_probability(df, time_col='efs_time', event_col='efs'):\n",
    "    kmf = KaplanMeierFitter()\n",
    "    kmf.fit(df[time_col], df[event_col])\n",
    "    y = kmf.survival_function_at_times(df[time_col]).values\n",
    "    return y\n",
    "    \n",
    "def get_target(data):\n",
    "    \"\"\"\n",
    "    コンペの目的変数を作成するための関数です\n",
    "    \"\"\"\n",
    "    data['target'] = transform_survival_probability(data)\n",
    "\n",
    "    target = data['target'].copy()\n",
    "    data = data.drop(['target'], axis=1)\n",
    "    \n",
    "    return target"
   ]
  },
  {
   "cell_type": "code",
   "execution_count": 6,
   "id": "2fa83a5e",
   "metadata": {
    "execution": {
     "iopub.execute_input": "2024-12-10T03:12:25.181292Z",
     "iopub.status.busy": "2024-12-10T03:12:25.181035Z",
     "iopub.status.idle": "2024-12-10T03:12:25.580077Z",
     "shell.execute_reply": "2024-12-10T03:12:25.579429Z"
    },
    "papermill": {
     "duration": 0.405767,
     "end_time": "2024-12-10T03:12:25.581937",
     "exception": false,
     "start_time": "2024-12-10T03:12:25.176170",
     "status": "completed"
    },
    "tags": []
   },
   "outputs": [],
   "source": [
    "def feature_engineering(data, cat_cols):\n",
    "    \"\"\"\n",
    "    学習と推論のためのX,yを作成するための関数です\n",
    "    \"\"\"\n",
    "    has_y = 'efs' in data.columns and 'efs' in data.columns\n",
    "    y = None\n",
    "    if has_y:\n",
    "        y = get_target(data)\n",
    "\n",
    "    cols_except = ['ID', 'efs', 'efs_time', 'target']\n",
    "    cols_drop = [col for col in data.columns if col in cols_except]\n",
    "    X = data.drop(cols_drop, axis=1)\n",
    "\n",
    "    for col in cat_cols:\n",
    "        X[col] = X[col].astype('category')\n",
    "    \n",
    "    return X, y, \n",
    "\n",
    "import category_encoders as ce\n",
    "def apply_ce(X, cat_col, transformer=None):\n",
    "    \"\"\"\n",
    "    カテゴリをint型に変換するための関数です\n",
    "    \"\"\"\n",
    "    if transformer == None:\n",
    "        transformer = ce.OrdinalEncoder(cols=cat_cols,handle_unknown='impute')\n",
    "        X = transformer.fit_transform(X)\n",
    "    else:\n",
    "        X = transformer.transform(X)\n",
    "\n",
    "    return X"
   ]
  },
  {
   "cell_type": "code",
   "execution_count": 7,
   "id": "234e4fa9",
   "metadata": {
    "execution": {
     "iopub.execute_input": "2024-12-10T03:12:25.591993Z",
     "iopub.status.busy": "2024-12-10T03:12:25.591548Z",
     "iopub.status.idle": "2024-12-10T03:12:26.523191Z",
     "shell.execute_reply": "2024-12-10T03:12:26.522330Z"
    },
    "papermill": {
     "duration": 0.939054,
     "end_time": "2024-12-10T03:12:26.525401",
     "exception": false,
     "start_time": "2024-12-10T03:12:25.586347",
     "status": "completed"
    },
    "tags": []
   },
   "outputs": [],
   "source": [
    "train_path = Path('/kaggle/input/equity-post-HCT-survival-predictions/train.csv')\n",
    "test_path = Path('/kaggle/input/equity-post-HCT-survival-predictions/test.csv')\n",
    "subm_path = Path('/kaggle/input/equity-post-HCT-survival-predictions/sample_submission.csv')\n",
    "\n",
    "train_data, cat_cols = load_data(train_path)\n",
    "test_data, _ = load_data(test_path)\n",
    "\n",
    "X, y = feature_engineering(train_data, cat_cols)\n",
    "X = apply_ce(X, cat_cols)"
   ]
  },
  {
   "cell_type": "markdown",
   "id": "05936cc8",
   "metadata": {
    "papermill": {
     "duration": 0.00531,
     "end_time": "2024-12-10T03:12:26.536155",
     "exception": false,
     "start_time": "2024-12-10T03:12:26.530845",
     "status": "completed"
    },
    "tags": []
   },
   "source": [
    "# 3. 推論\n",
    "\n",
    "LightGBMで学習を行います"
   ]
  },
  {
   "cell_type": "code",
   "execution_count": 8,
   "id": "66f93483",
   "metadata": {
    "execution": {
     "iopub.execute_input": "2024-12-10T03:12:26.545696Z",
     "iopub.status.busy": "2024-12-10T03:12:26.545419Z",
     "iopub.status.idle": "2024-12-10T03:12:29.042511Z",
     "shell.execute_reply": "2024-12-10T03:12:29.041647Z"
    },
    "papermill": {
     "duration": 2.503905,
     "end_time": "2024-12-10T03:12:29.044382",
     "exception": false,
     "start_time": "2024-12-10T03:12:26.540477",
     "status": "completed"
    },
    "tags": []
   },
   "outputs": [
    {
     "name": "stdout",
     "output_type": "stream",
     "text": [
      "[LightGBM] [Info] Auto-choosing row-wise multi-threading, the overhead of testing was 0.005376 seconds.\n",
      "You can set `force_row_wise=true` to remove the overhead.\n",
      "And if memory is not enough, you can set `force_col_wise=true`.\n",
      "[LightGBM] [Info] Total Bins 865\n",
      "[LightGBM] [Info] Number of data points in the train set: 23040, number of used features: 57\n",
      "[LightGBM] [Info] Start training from score 0.606473\n",
      "[LightGBM] [Info] Auto-choosing row-wise multi-threading, the overhead of testing was 0.003792 seconds.\n",
      "You can set `force_row_wise=true` to remove the overhead.\n",
      "And if memory is not enough, you can set `force_col_wise=true`.\n",
      "[LightGBM] [Info] Total Bins 865\n",
      "[LightGBM] [Info] Number of data points in the train set: 23040, number of used features: 57\n",
      "[LightGBM] [Info] Start training from score 0.605167\n",
      "[LightGBM] [Info] Auto-choosing row-wise multi-threading, the overhead of testing was 0.003875 seconds.\n",
      "You can set `force_row_wise=true` to remove the overhead.\n",
      "And if memory is not enough, you can set `force_col_wise=true`.\n",
      "[LightGBM] [Info] Total Bins 865\n",
      "[LightGBM] [Info] Number of data points in the train set: 23040, number of used features: 57\n",
      "[LightGBM] [Info] Start training from score 0.606779\n",
      "[LightGBM] [Info] Auto-choosing row-wise multi-threading, the overhead of testing was 0.003853 seconds.\n",
      "You can set `force_row_wise=true` to remove the overhead.\n",
      "And if memory is not enough, you can set `force_col_wise=true`.\n",
      "[LightGBM] [Info] Total Bins 865\n",
      "[LightGBM] [Info] Number of data points in the train set: 23040, number of used features: 57\n",
      "[LightGBM] [Info] Start training from score 0.606329\n",
      "[LightGBM] [Info] Auto-choosing row-wise multi-threading, the overhead of testing was 0.004317 seconds.\n",
      "You can set `force_row_wise=true` to remove the overhead.\n",
      "And if memory is not enough, you can set `force_col_wise=true`.\n",
      "[LightGBM] [Info] Total Bins 865\n",
      "[LightGBM] [Info] Number of data points in the train set: 23040, number of used features: 57\n",
      "[LightGBM] [Info] Start training from score 0.606196\n",
      "\n",
      "Overall C-Index for lightGBM: 0.320\n",
      "\n"
     ]
    }
   ],
   "source": [
    "n_splits = 5\n",
    "params = {\n",
    "    'objective': 'regression',\n",
    "    'boosting_type': 'gbdt',\n",
    "    }\n",
    "\n",
    "models, fold_scores = [], []\n",
    "    \n",
    "cv = KFold(n_splits=n_splits, shuffle=True, random_state=42)\n",
    "oof_preds = np.zeros(len(X))\n",
    "\n",
    "for fold, (train_index, valid_index) in enumerate(cv.split(X, y), 1):\n",
    "    X_train = X.iloc[train_index]\n",
    "    X_valid = X.iloc[valid_index]\n",
    "        \n",
    "    y_train = y.iloc[train_index]\n",
    "    y_valid = y.iloc[valid_index]\n",
    "    \n",
    "    model = lgb.LGBMRegressor(**params)\n",
    "    model.fit(\n",
    "        X_train, \n",
    "        y_train,  \n",
    "        eval_set=[(X_valid, y_valid)],\n",
    "        eval_metric='rmse',\n",
    "        callbacks=[lgb.early_stopping(1000, verbose=0), \n",
    "                   lgb.log_evaluation(0)]\n",
    "    )\n",
    "    \n",
    "    models.append(model)\n",
    "    oof_preds[valid_index] = model.predict(X_valid)\n",
    "    \n",
    "    fold_score = mse(y_valid, oof_preds[valid_index], squared=False)\n",
    "    fold_scores.append(fold_score)\n",
    "    \n",
    "y_true = train_data[['ID', 'efs', 'efs_time', 'race_group']].copy()\n",
    "y_pred = train_data[['ID']].copy()\n",
    "y_pred['prediction'] = -oof_preds\n",
    "\n",
    "c_index_score = score(y_true.copy(), y_pred.copy(), \"ID\")\n",
    "\n",
    "print(f'\\nOverall C-Index for lightGBM: {c_index_score:.3f}\\n')"
   ]
  },
  {
   "cell_type": "code",
   "execution_count": 9,
   "id": "76d208b4",
   "metadata": {
    "execution": {
     "iopub.execute_input": "2024-12-10T03:12:29.055004Z",
     "iopub.status.busy": "2024-12-10T03:12:29.054525Z",
     "iopub.status.idle": "2024-12-10T03:12:29.060382Z",
     "shell.execute_reply": "2024-12-10T03:12:29.059593Z"
    },
    "papermill": {
     "duration": 0.012785,
     "end_time": "2024-12-10T03:12:29.061935",
     "exception": false,
     "start_time": "2024-12-10T03:12:29.049150",
     "status": "completed"
    },
    "tags": []
   },
   "outputs": [
    {
     "data": {
      "text/plain": [
       "[0.15674363940163843,\n",
       " 0.1581887224222684,\n",
       " 0.15696357887371534,\n",
       " 0.1582094279827603,\n",
       " 0.15824950691196402]"
      ]
     },
     "execution_count": 9,
     "metadata": {},
     "output_type": "execute_result"
    }
   ],
   "source": [
    "fold_scores"
   ]
  },
  {
   "cell_type": "markdown",
   "id": "7bb42e71",
   "metadata": {
    "papermill": {
     "duration": 0.00429,
     "end_time": "2024-12-10T03:12:29.070800",
     "exception": false,
     "start_time": "2024-12-10T03:12:29.066510",
     "status": "completed"
    },
    "tags": []
   },
   "source": [
    "# 4. データの提出\n",
    "\n",
    "提出データを作成します"
   ]
  },
  {
   "cell_type": "code",
   "execution_count": 10,
   "id": "0e6cfb24",
   "metadata": {
    "execution": {
     "iopub.execute_input": "2024-12-10T03:12:29.080797Z",
     "iopub.status.busy": "2024-12-10T03:12:29.080550Z",
     "iopub.status.idle": "2024-12-10T03:12:29.207659Z",
     "shell.execute_reply": "2024-12-10T03:12:29.206753Z"
    },
    "papermill": {
     "duration": 0.133911,
     "end_time": "2024-12-10T03:12:29.209364",
     "exception": false,
     "start_time": "2024-12-10T03:12:29.075453",
     "status": "completed"
    },
    "tags": []
   },
   "outputs": [],
   "source": [
    "X_test, _ = feature_engineering(test_data, cat_cols)\n",
    "X_test = apply_ce(X_test, cat_cols)\n",
    "preds = np.mean([model.predict(X_test) for model in models], axis=0)\n",
    "\n",
    "subm_data = pd.read_csv(subm_path)\n",
    "subm_data['prediction'] = preds\n",
    "\n",
    "subm_data.to_csv('submission.csv', index=False)"
   ]
  },
  {
   "cell_type": "code",
   "execution_count": null,
   "id": "a0473c7c",
   "metadata": {
    "papermill": {
     "duration": 0.004473,
     "end_time": "2024-12-10T03:12:29.218364",
     "exception": false,
     "start_time": "2024-12-10T03:12:29.213891",
     "status": "completed"
    },
    "tags": []
   },
   "outputs": [],
   "source": []
  },
  {
   "cell_type": "code",
   "execution_count": null,
   "id": "83b7b0a8",
   "metadata": {
    "papermill": {
     "duration": 0.004341,
     "end_time": "2024-12-10T03:12:29.227229",
     "exception": false,
     "start_time": "2024-12-10T03:12:29.222888",
     "status": "completed"
    },
    "tags": []
   },
   "outputs": [],
   "source": []
  }
 ],
 "metadata": {
  "kaggle": {
   "accelerator": "nvidiaTeslaT4",
   "dataSources": [
    {
     "databundleVersionId": 10381525,
     "sourceId": 70942,
     "sourceType": "competition"
    },
    {
     "sourceId": 211322530,
     "sourceType": "kernelVersion"
    }
   ],
   "dockerImageVersionId": 30805,
   "isGpuEnabled": true,
   "isInternetEnabled": false,
   "language": "python",
   "sourceType": "notebook"
  },
  "kernelspec": {
   "display_name": "Python 3",
   "language": "python",
   "name": "python3"
  },
  "language_info": {
   "codemirror_mode": {
    "name": "ipython",
    "version": 3
   },
   "file_extension": ".py",
   "mimetype": "text/x-python",
   "name": "python",
   "nbconvert_exporter": "python",
   "pygments_lexer": "ipython3",
   "version": "3.10.14"
  },
  "papermill": {
   "default_parameters": {},
   "duration": 215.242233,
   "end_time": "2024-12-10T03:12:29.850899",
   "environment_variables": {},
   "exception": null,
   "input_path": "__notebook__.ipynb",
   "output_path": "__notebook__.ipynb",
   "parameters": {},
   "start_time": "2024-12-10T03:08:54.608666",
   "version": "2.6.0"
  }
 },
 "nbformat": 4,
 "nbformat_minor": 5
}
