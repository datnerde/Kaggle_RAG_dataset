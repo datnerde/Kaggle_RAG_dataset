{
 "cells": [
  {
   "cell_type": "code",
   "execution_count": 1,
   "id": "48ca0f90",
   "metadata": {
    "_cell_guid": "b1076dfc-b9ad-4769-8c92-a6c4dae69d19",
    "_uuid": "8f2839f25d086af736a60e9eeb907d3b93b6e0e5",
    "execution": {
     "iopub.execute_input": "2025-02-19T18:03:38.519354Z",
     "iopub.status.busy": "2025-02-19T18:03:38.518878Z",
     "iopub.status.idle": "2025-02-19T18:03:39.491526Z",
     "shell.execute_reply": "2025-02-19T18:03:39.490292Z"
    },
    "papermill": {
     "duration": 0.981153,
     "end_time": "2025-02-19T18:03:39.493398",
     "exception": false,
     "start_time": "2025-02-19T18:03:38.512245",
     "status": "completed"
    },
    "tags": []
   },
   "outputs": [
    {
     "name": "stdout",
     "output_type": "stream",
     "text": [
      "/kaggle/input/equity-post-HCT-survival-predictions/sample_submission.csv\n",
      "/kaggle/input/equity-post-HCT-survival-predictions/data_dictionary.csv\n",
      "/kaggle/input/equity-post-HCT-survival-predictions/train.csv\n",
      "/kaggle/input/equity-post-HCT-survival-predictions/test.csv\n"
     ]
    }
   ],
   "source": [
    "# This Python 3 environment comes with many helpful analytics libraries installed\n",
    "# It is defined by the kaggle/python Docker image: https://github.com/kaggle/docker-python\n",
    "# For example, here's several helpful packages to load\n",
    "\n",
    "import numpy as np # linear algebra\n",
    "import pandas as pd # data processing, CSV file I/O (e.g. pd.read_csv)\n",
    "\n",
    "# Input data files are available in the read-only \"../input/\" directory\n",
    "# For example, running this (by clicking run or pressing Shift+Enter) will list all files under the input directory\n",
    "\n",
    "import os\n",
    "for dirname, _, filenames in os.walk('/kaggle/input'):\n",
    "    for filename in filenames:\n",
    "        print(os.path.join(dirname, filename))\n",
    "\n",
    "# You can write up to 20GB to the current directory (/kaggle/working/) that gets preserved as output when you create a version using \"Save & Run All\" \n",
    "# You can also write temporary files to /kaggle/temp/, but they won't be saved outside of the current session"
   ]
  },
  {
   "cell_type": "code",
   "execution_count": 2,
   "id": "4723dc8a",
   "metadata": {
    "execution": {
     "iopub.execute_input": "2025-02-19T18:03:39.504700Z",
     "iopub.status.busy": "2025-02-19T18:03:39.504170Z",
     "iopub.status.idle": "2025-02-19T18:03:39.904875Z",
     "shell.execute_reply": "2025-02-19T18:03:39.903882Z"
    },
    "papermill": {
     "duration": 0.408296,
     "end_time": "2025-02-19T18:03:39.906780",
     "exception": false,
     "start_time": "2025-02-19T18:03:39.498484",
     "status": "completed"
    },
    "tags": []
   },
   "outputs": [],
   "source": [
    "train= pd.read_csv('/kaggle/input/equity-post-HCT-survival-predictions/train.csv')\n",
    "test= pd.read_csv('/kaggle/input/equity-post-HCT-survival-predictions/test.csv')\n",
    "data_dict= pd.read_csv('/kaggle/input/equity-post-HCT-survival-predictions/data_dictionary.csv')\n"
   ]
  },
  {
   "cell_type": "code",
   "execution_count": 3,
   "id": "c5a6e8d1",
   "metadata": {
    "execution": {
     "iopub.execute_input": "2025-02-19T18:03:39.917452Z",
     "iopub.status.busy": "2025-02-19T18:03:39.917079Z",
     "iopub.status.idle": "2025-02-19T18:03:41.936965Z",
     "shell.execute_reply": "2025-02-19T18:03:41.935810Z"
    },
    "papermill": {
     "duration": 2.027501,
     "end_time": "2025-02-19T18:03:41.939095",
     "exception": false,
     "start_time": "2025-02-19T18:03:39.911594",
     "status": "completed"
    },
    "tags": []
   },
   "outputs": [],
   "source": [
    "from sklearn.impute import KNNImputer,SimpleImputer \n",
    "from xgboost import XGBClassifier\n",
    "from sklearn.tree import DecisionTreeClassifier\n",
    "from sklearn.model_selection import train_test_split\n",
    "from sklearn.pipeline import Pipeline\n",
    "from sklearn.preprocessing import OneHotEncoder, OrdinalEncoder, StandardScaler, RobustScaler"
   ]
  },
  {
   "cell_type": "code",
   "execution_count": 4,
   "id": "01d985de",
   "metadata": {
    "execution": {
     "iopub.execute_input": "2025-02-19T18:03:41.949934Z",
     "iopub.status.busy": "2025-02-19T18:03:41.949398Z",
     "iopub.status.idle": "2025-02-19T18:03:41.953883Z",
     "shell.execute_reply": "2025-02-19T18:03:41.952791Z"
    },
    "papermill": {
     "duration": 0.011563,
     "end_time": "2025-02-19T18:03:41.955522",
     "exception": false,
     "start_time": "2025-02-19T18:03:41.943959",
     "status": "completed"
    },
    "tags": []
   },
   "outputs": [],
   "source": [
    "#train.info()\n",
    "#train.head(7)"
   ]
  },
  {
   "cell_type": "code",
   "execution_count": 5,
   "id": "72c9c2ba",
   "metadata": {
    "execution": {
     "iopub.execute_input": "2025-02-19T18:03:41.966071Z",
     "iopub.status.busy": "2025-02-19T18:03:41.965711Z",
     "iopub.status.idle": "2025-02-19T18:03:42.582484Z",
     "shell.execute_reply": "2025-02-19T18:03:42.581372Z"
    },
    "papermill": {
     "duration": 0.624604,
     "end_time": "2025-02-19T18:03:42.584777",
     "exception": false,
     "start_time": "2025-02-19T18:03:41.960173",
     "status": "completed"
    },
    "tags": []
   },
   "outputs": [],
   "source": [
    "# Step 1: Handle missing values\n",
    "train.replace({'N/A': np.nan, 'NaN': np.nan}, inplace=True)  # Convert string \"N/A\" and \"NaN\" to real NaN\n",
    "train.dropna(axis=0, how='all', inplace=True)  # Remove rows where all values are NaN\n",
    "train.dropna(axis=1, how='all', inplace=True)  # Remove columns where all values are NaN\n",
    "\n",
    "# Step 2: Convert categorical variables to numerical (if necessary)\n",
    "categorical_cols = train.select_dtypes(include=['object']).columns  # Select categorical columns\n",
    "train[categorical_cols] = train[categorical_cols].apply(lambda x: pd.factorize(x)[0])  # Encode categories\n",
    "\n",
    "# Step 3: Convert numeric columns with potential issues\n",
    "numeric_cols = train.select_dtypes(include=['number']).columns\n",
    "train[numeric_cols] = train[numeric_cols].apply(pd.to_numeric, errors='coerce')  # Convert to float, force NaNs where errors occur\n",
    "\n",
    "# Step 4: Fill remaining missing values (if any)\n",
    "train.fillna(train.median(), inplace=True)  # Replace NaNs with median of each column\n",
    "\n",
    "# Step 5: Normalize numeric columns (if needed)\n",
    "from sklearn.preprocessing import MinMaxScaler\n",
    "\n",
    "scaler = MinMaxScaler()\n",
    "train[numeric_cols] = scaler.fit_transform(train[numeric_cols])\n"
   ]
  },
  {
   "cell_type": "code",
   "execution_count": null,
   "id": "1645f713",
   "metadata": {
    "papermill": {
     "duration": 0.00433,
     "end_time": "2025-02-19T18:03:42.594043",
     "exception": false,
     "start_time": "2025-02-19T18:03:42.589713",
     "status": "completed"
    },
    "tags": []
   },
   "outputs": [],
   "source": []
  },
  {
   "cell_type": "code",
   "execution_count": 6,
   "id": "a64ac933",
   "metadata": {
    "execution": {
     "iopub.execute_input": "2025-02-19T18:03:42.605087Z",
     "iopub.status.busy": "2025-02-19T18:03:42.604662Z",
     "iopub.status.idle": "2025-02-19T18:03:42.678362Z",
     "shell.execute_reply": "2025-02-19T18:03:42.677049Z"
    },
    "papermill": {
     "duration": 0.081958,
     "end_time": "2025-02-19T18:03:42.680692",
     "exception": false,
     "start_time": "2025-02-19T18:03:42.598734",
     "status": "completed"
    },
    "tags": []
   },
   "outputs": [],
   "source": [
    "# Step 1: Handle missing values\n",
    "test.replace({'N/A': np.nan, 'NaN': np.nan}, inplace=True)  # Convert string \"N/A\" and \"NaN\" to real NaN\n",
    "test.dropna(axis=0, how='all', inplace=True)  # Remove rows where all values are NaN\n",
    "test.dropna(axis=1, how='all', inplace=True)  # Remove columns where all values are NaN\n",
    "\n",
    "# Step 2: Convert categorical variables to numerical (if necessary)\n",
    "categorical_cols = test.select_dtypes(include=['object']).columns  # Select categorical columns\n",
    "test[categorical_cols] = test[categorical_cols].apply(lambda x: pd.factorize(x)[0])  # Encode categories\n",
    "\n",
    "# Step 3: Convert numeric columns with potential issues\n",
    "numeric_cols = test.select_dtypes(include=['number']).columns\n",
    "test[numeric_cols] = test[numeric_cols].apply(pd.to_numeric, errors='coerce')  # Convert to float, force NaNs where errors occur\n",
    "\n",
    "# Step 4: Fill remaining missing values (if any)\n",
    "test.fillna(test.median(), inplace=True)  # Replace NaNs with median of each column\n",
    "\n",
    "# Step 5: Normalize numeric columns (if needed)\n",
    "from sklearn.preprocessing import MinMaxScaler\n",
    "\n",
    "scaler = MinMaxScaler()\n",
    "test[numeric_cols] = scaler.fit_transform(test[numeric_cols])\n"
   ]
  },
  {
   "cell_type": "code",
   "execution_count": null,
   "id": "8ca1a192",
   "metadata": {
    "papermill": {
     "duration": 0.007723,
     "end_time": "2025-02-19T18:03:42.697021",
     "exception": false,
     "start_time": "2025-02-19T18:03:42.689298",
     "status": "completed"
    },
    "tags": []
   },
   "outputs": [],
   "source": []
  },
  {
   "cell_type": "raw",
   "id": "0fc36bac",
   "metadata": {
    "execution": {
     "iopub.execute_input": "2025-02-05T13:43:12.249603Z",
     "iopub.status.busy": "2025-02-05T13:43:12.249337Z",
     "iopub.status.idle": "2025-02-05T13:43:12.253980Z",
     "shell.execute_reply": "2025-02-05T13:43:12.252752Z",
     "shell.execute_reply.started": "2025-02-05T13:43:12.249584Z"
    },
    "papermill": {
     "duration": 0.00435,
     "end_time": "2025-02-19T18:03:42.706131",
     "exception": false,
     "start_time": "2025-02-19T18:03:42.701781",
     "status": "completed"
    },
    "tags": []
   },
   "source": [
    "test.head()"
   ]
  },
  {
   "cell_type": "markdown",
   "id": "3136905a",
   "metadata": {
    "papermill": {
     "duration": 0.004326,
     "end_time": "2025-02-19T18:03:42.715224",
     "exception": false,
     "start_time": "2025-02-19T18:03:42.710898",
     "status": "completed"
    },
    "tags": []
   },
   "source": [
    "Train/Val Split"
   ]
  },
  {
   "cell_type": "code",
   "execution_count": 7,
   "id": "5b5e96ee",
   "metadata": {
    "execution": {
     "iopub.execute_input": "2025-02-19T18:03:42.725735Z",
     "iopub.status.busy": "2025-02-19T18:03:42.725341Z",
     "iopub.status.idle": "2025-02-19T18:03:42.744412Z",
     "shell.execute_reply": "2025-02-19T18:03:42.743303Z"
    },
    "papermill": {
     "duration": 0.02647,
     "end_time": "2025-02-19T18:03:42.746381",
     "exception": false,
     "start_time": "2025-02-19T18:03:42.719911",
     "status": "completed"
    },
    "tags": []
   },
   "outputs": [],
   "source": [
    "X = train.drop(columns= ['efs', 'efs_time'])\n",
    "y = train['efs']"
   ]
  },
  {
   "cell_type": "code",
   "execution_count": 8,
   "id": "7cd7de86",
   "metadata": {
    "execution": {
     "iopub.execute_input": "2025-02-19T18:03:42.757306Z",
     "iopub.status.busy": "2025-02-19T18:03:42.756846Z",
     "iopub.status.idle": "2025-02-19T18:03:42.792122Z",
     "shell.execute_reply": "2025-02-19T18:03:42.791068Z"
    },
    "papermill": {
     "duration": 0.042879,
     "end_time": "2025-02-19T18:03:42.794059",
     "exception": false,
     "start_time": "2025-02-19T18:03:42.751180",
     "status": "completed"
    },
    "tags": []
   },
   "outputs": [],
   "source": [
    "X_train, X_val, y_train, y_val = train_test_split(X,y, train_size= 0.75)"
   ]
  },
  {
   "cell_type": "code",
   "execution_count": 9,
   "id": "c696319d",
   "metadata": {
    "execution": {
     "iopub.execute_input": "2025-02-19T18:03:42.804927Z",
     "iopub.status.busy": "2025-02-19T18:03:42.804440Z",
     "iopub.status.idle": "2025-02-19T18:03:42.843971Z",
     "shell.execute_reply": "2025-02-19T18:03:42.842797Z"
    },
    "papermill": {
     "duration": 0.046875,
     "end_time": "2025-02-19T18:03:42.845745",
     "exception": false,
     "start_time": "2025-02-19T18:03:42.798870",
     "status": "completed"
    },
    "tags": []
   },
   "outputs": [
    {
     "data": {
      "text/html": [
       "<div>\n",
       "<style scoped>\n",
       "    .dataframe tbody tr th:only-of-type {\n",
       "        vertical-align: middle;\n",
       "    }\n",
       "\n",
       "    .dataframe tbody tr th {\n",
       "        vertical-align: top;\n",
       "    }\n",
       "\n",
       "    .dataframe thead th {\n",
       "        text-align: right;\n",
       "    }\n",
       "</style>\n",
       "<table border=\"1\" class=\"dataframe\">\n",
       "  <thead>\n",
       "    <tr style=\"text-align: right;\">\n",
       "      <th></th>\n",
       "      <th>ID</th>\n",
       "      <th>dri_score</th>\n",
       "      <th>psych_disturb</th>\n",
       "      <th>cyto_score</th>\n",
       "      <th>diabetes</th>\n",
       "      <th>hla_match_c_high</th>\n",
       "      <th>hla_high_res_8</th>\n",
       "      <th>tbi_status</th>\n",
       "      <th>arrhythmia</th>\n",
       "      <th>hla_low_res_6</th>\n",
       "      <th>...</th>\n",
       "      <th>tce_div_match</th>\n",
       "      <th>donor_related</th>\n",
       "      <th>melphalan_dose</th>\n",
       "      <th>hla_low_res_8</th>\n",
       "      <th>cardiac</th>\n",
       "      <th>hla_match_drb1_high</th>\n",
       "      <th>pulm_moderate</th>\n",
       "      <th>hla_low_res_10</th>\n",
       "      <th>efs</th>\n",
       "      <th>efs_time</th>\n",
       "    </tr>\n",
       "  </thead>\n",
       "  <tbody>\n",
       "    <tr>\n",
       "      <th>0</th>\n",
       "      <td>0.000000</td>\n",
       "      <td>0.090909</td>\n",
       "      <td>0.333333</td>\n",
       "      <td>0.000000</td>\n",
       "      <td>0.333333</td>\n",
       "      <td>1.0</td>\n",
       "      <td>1.0</td>\n",
       "      <td>0.000000</td>\n",
       "      <td>0.333333</td>\n",
       "      <td>1.0</td>\n",
       "      <td>...</td>\n",
       "      <td>0.00</td>\n",
       "      <td>0.333333</td>\n",
       "      <td>0.5</td>\n",
       "      <td>1.0</td>\n",
       "      <td>0.333333</td>\n",
       "      <td>1.0</td>\n",
       "      <td>0.333333</td>\n",
       "      <td>1.0</td>\n",
       "      <td>0.0</td>\n",
       "      <td>0.268542</td>\n",
       "    </tr>\n",
       "    <tr>\n",
       "      <th>1</th>\n",
       "      <td>0.000035</td>\n",
       "      <td>0.181818</td>\n",
       "      <td>0.333333</td>\n",
       "      <td>0.142857</td>\n",
       "      <td>0.333333</td>\n",
       "      <td>1.0</td>\n",
       "      <td>1.0</td>\n",
       "      <td>0.142857</td>\n",
       "      <td>0.333333</td>\n",
       "      <td>1.0</td>\n",
       "      <td>...</td>\n",
       "      <td>0.25</td>\n",
       "      <td>0.666667</td>\n",
       "      <td>0.5</td>\n",
       "      <td>1.0</td>\n",
       "      <td>0.333333</td>\n",
       "      <td>1.0</td>\n",
       "      <td>0.666667</td>\n",
       "      <td>1.0</td>\n",
       "      <td>1.0</td>\n",
       "      <td>0.027728</td>\n",
       "    </tr>\n",
       "    <tr>\n",
       "      <th>2</th>\n",
       "      <td>0.000069</td>\n",
       "      <td>0.090909</td>\n",
       "      <td>0.333333</td>\n",
       "      <td>0.000000</td>\n",
       "      <td>0.333333</td>\n",
       "      <td>1.0</td>\n",
       "      <td>1.0</td>\n",
       "      <td>0.000000</td>\n",
       "      <td>0.333333</td>\n",
       "      <td>1.0</td>\n",
       "      <td>...</td>\n",
       "      <td>0.25</td>\n",
       "      <td>0.666667</td>\n",
       "      <td>0.5</td>\n",
       "      <td>1.0</td>\n",
       "      <td>0.333333</td>\n",
       "      <td>1.0</td>\n",
       "      <td>0.333333</td>\n",
       "      <td>1.0</td>\n",
       "      <td>0.0</td>\n",
       "      <td>0.124356</td>\n",
       "    </tr>\n",
       "    <tr>\n",
       "      <th>3</th>\n",
       "      <td>0.000104</td>\n",
       "      <td>0.272727</td>\n",
       "      <td>0.333333</td>\n",
       "      <td>0.142857</td>\n",
       "      <td>0.333333</td>\n",
       "      <td>1.0</td>\n",
       "      <td>1.0</td>\n",
       "      <td>0.000000</td>\n",
       "      <td>0.333333</td>\n",
       "      <td>1.0</td>\n",
       "      <td>...</td>\n",
       "      <td>0.25</td>\n",
       "      <td>0.333333</td>\n",
       "      <td>0.5</td>\n",
       "      <td>1.0</td>\n",
       "      <td>0.333333</td>\n",
       "      <td>1.0</td>\n",
       "      <td>0.333333</td>\n",
       "      <td>1.0</td>\n",
       "      <td>0.0</td>\n",
       "      <td>0.651918</td>\n",
       "    </tr>\n",
       "    <tr>\n",
       "      <th>4</th>\n",
       "      <td>0.000139</td>\n",
       "      <td>0.272727</td>\n",
       "      <td>0.333333</td>\n",
       "      <td>0.000000</td>\n",
       "      <td>0.333333</td>\n",
       "      <td>1.0</td>\n",
       "      <td>1.0</td>\n",
       "      <td>0.000000</td>\n",
       "      <td>0.333333</td>\n",
       "      <td>1.0</td>\n",
       "      <td>...</td>\n",
       "      <td>0.25</td>\n",
       "      <td>0.666667</td>\n",
       "      <td>1.0</td>\n",
       "      <td>1.0</td>\n",
       "      <td>0.333333</td>\n",
       "      <td>1.0</td>\n",
       "      <td>0.333333</td>\n",
       "      <td>1.0</td>\n",
       "      <td>0.0</td>\n",
       "      <td>0.101543</td>\n",
       "    </tr>\n",
       "  </tbody>\n",
       "</table>\n",
       "<p>5 rows × 60 columns</p>\n",
       "</div>"
      ],
      "text/plain": [
       "         ID  dri_score  psych_disturb  cyto_score  diabetes  hla_match_c_high  \\\n",
       "0  0.000000   0.090909       0.333333    0.000000  0.333333               1.0   \n",
       "1  0.000035   0.181818       0.333333    0.142857  0.333333               1.0   \n",
       "2  0.000069   0.090909       0.333333    0.000000  0.333333               1.0   \n",
       "3  0.000104   0.272727       0.333333    0.142857  0.333333               1.0   \n",
       "4  0.000139   0.272727       0.333333    0.000000  0.333333               1.0   \n",
       "\n",
       "   hla_high_res_8  tbi_status  arrhythmia  hla_low_res_6  ...  tce_div_match  \\\n",
       "0             1.0    0.000000    0.333333            1.0  ...           0.00   \n",
       "1             1.0    0.142857    0.333333            1.0  ...           0.25   \n",
       "2             1.0    0.000000    0.333333            1.0  ...           0.25   \n",
       "3             1.0    0.000000    0.333333            1.0  ...           0.25   \n",
       "4             1.0    0.000000    0.333333            1.0  ...           0.25   \n",
       "\n",
       "   donor_related  melphalan_dose  hla_low_res_8   cardiac  \\\n",
       "0       0.333333             0.5            1.0  0.333333   \n",
       "1       0.666667             0.5            1.0  0.333333   \n",
       "2       0.666667             0.5            1.0  0.333333   \n",
       "3       0.333333             0.5            1.0  0.333333   \n",
       "4       0.666667             1.0            1.0  0.333333   \n",
       "\n",
       "   hla_match_drb1_high  pulm_moderate  hla_low_res_10  efs  efs_time  \n",
       "0                  1.0       0.333333             1.0  0.0  0.268542  \n",
       "1                  1.0       0.666667             1.0  1.0  0.027728  \n",
       "2                  1.0       0.333333             1.0  0.0  0.124356  \n",
       "3                  1.0       0.333333             1.0  0.0  0.651918  \n",
       "4                  1.0       0.333333             1.0  0.0  0.101543  \n",
       "\n",
       "[5 rows x 60 columns]"
      ]
     },
     "execution_count": 9,
     "metadata": {},
     "output_type": "execute_result"
    }
   ],
   "source": [
    "train.head()"
   ]
  },
  {
   "cell_type": "code",
   "execution_count": 10,
   "id": "0be81388",
   "metadata": {
    "execution": {
     "iopub.execute_input": "2025-02-19T18:03:42.857130Z",
     "iopub.status.busy": "2025-02-19T18:03:42.856782Z",
     "iopub.status.idle": "2025-02-19T18:03:42.860605Z",
     "shell.execute_reply": "2025-02-19T18:03:42.859645Z"
    },
    "papermill": {
     "duration": 0.011533,
     "end_time": "2025-02-19T18:03:42.862276",
     "exception": false,
     "start_time": "2025-02-19T18:03:42.850743",
     "status": "completed"
    },
    "tags": []
   },
   "outputs": [],
   "source": [
    "\n",
    "# Step 6: Save cleaned dataset\n",
    "#df.to_csv('cleaned_dataset.csv', index=False)\n"
   ]
  },
  {
   "cell_type": "markdown",
   "id": "533f9deb",
   "metadata": {
    "papermill": {
     "duration": 0.004828,
     "end_time": "2025-02-19T18:03:42.872126",
     "exception": false,
     "start_time": "2025-02-19T18:03:42.867298",
     "status": "completed"
    },
    "tags": []
   },
   "source": [
    "Pipeline"
   ]
  },
  {
   "cell_type": "code",
   "execution_count": 11,
   "id": "35b6f136",
   "metadata": {
    "execution": {
     "iopub.execute_input": "2025-02-19T18:03:42.883886Z",
     "iopub.status.busy": "2025-02-19T18:03:42.883502Z",
     "iopub.status.idle": "2025-02-19T18:03:42.888323Z",
     "shell.execute_reply": "2025-02-19T18:03:42.887237Z"
    },
    "papermill": {
     "duration": 0.01243,
     "end_time": "2025-02-19T18:03:42.889980",
     "exception": false,
     "start_time": "2025-02-19T18:03:42.877550",
     "status": "completed"
    },
    "tags": []
   },
   "outputs": [],
   "source": [
    "pipe = Pipeline([\n",
    "    ('imputer', SimpleImputer(missing_values=np.nan, strategy='most_frequent')),\n",
    "    ('encoder', OneHotEncoder(sparse_output=False, handle_unknown='ignore')),\n",
    "    ('scaler', StandardScaler()),\n",
    "    ('classifier', XGBClassifier(use_label_encoder=True, eval_metric='logloss'))\n",
    "])"
   ]
  },
  {
   "cell_type": "markdown",
   "id": "5953a6e8",
   "metadata": {
    "papermill": {
     "duration": 0.004667,
     "end_time": "2025-02-19T18:03:42.899861",
     "exception": false,
     "start_time": "2025-02-19T18:03:42.895194",
     "status": "completed"
    },
    "tags": []
   },
   "source": [
    "Train the Decision Tree Classifier"
   ]
  },
  {
   "cell_type": "code",
   "execution_count": 12,
   "id": "e597ef30",
   "metadata": {
    "execution": {
     "iopub.execute_input": "2025-02-19T18:03:42.911473Z",
     "iopub.status.busy": "2025-02-19T18:03:42.911134Z",
     "iopub.status.idle": "2025-02-19T18:10:16.578186Z",
     "shell.execute_reply": "2025-02-19T18:10:16.576818Z"
    },
    "papermill": {
     "duration": 393.683542,
     "end_time": "2025-02-19T18:10:16.588611",
     "exception": false,
     "start_time": "2025-02-19T18:03:42.905069",
     "status": "completed"
    },
    "tags": []
   },
   "outputs": [
    {
     "data": {
      "text/html": [
       "<style>#sk-container-id-1 {color: black;background-color: white;}#sk-container-id-1 pre{padding: 0;}#sk-container-id-1 div.sk-toggleable {background-color: white;}#sk-container-id-1 label.sk-toggleable__label {cursor: pointer;display: block;width: 100%;margin-bottom: 0;padding: 0.3em;box-sizing: border-box;text-align: center;}#sk-container-id-1 label.sk-toggleable__label-arrow:before {content: \"▸\";float: left;margin-right: 0.25em;color: #696969;}#sk-container-id-1 label.sk-toggleable__label-arrow:hover:before {color: black;}#sk-container-id-1 div.sk-estimator:hover label.sk-toggleable__label-arrow:before {color: black;}#sk-container-id-1 div.sk-toggleable__content {max-height: 0;max-width: 0;overflow: hidden;text-align: left;background-color: #f0f8ff;}#sk-container-id-1 div.sk-toggleable__content pre {margin: 0.2em;color: black;border-radius: 0.25em;background-color: #f0f8ff;}#sk-container-id-1 input.sk-toggleable__control:checked~div.sk-toggleable__content {max-height: 200px;max-width: 100%;overflow: auto;}#sk-container-id-1 input.sk-toggleable__control:checked~label.sk-toggleable__label-arrow:before {content: \"▾\";}#sk-container-id-1 div.sk-estimator input.sk-toggleable__control:checked~label.sk-toggleable__label {background-color: #d4ebff;}#sk-container-id-1 div.sk-label input.sk-toggleable__control:checked~label.sk-toggleable__label {background-color: #d4ebff;}#sk-container-id-1 input.sk-hidden--visually {border: 0;clip: rect(1px 1px 1px 1px);clip: rect(1px, 1px, 1px, 1px);height: 1px;margin: -1px;overflow: hidden;padding: 0;position: absolute;width: 1px;}#sk-container-id-1 div.sk-estimator {font-family: monospace;background-color: #f0f8ff;border: 1px dotted black;border-radius: 0.25em;box-sizing: border-box;margin-bottom: 0.5em;}#sk-container-id-1 div.sk-estimator:hover {background-color: #d4ebff;}#sk-container-id-1 div.sk-parallel-item::after {content: \"\";width: 100%;border-bottom: 1px solid gray;flex-grow: 1;}#sk-container-id-1 div.sk-label:hover label.sk-toggleable__label {background-color: #d4ebff;}#sk-container-id-1 div.sk-serial::before {content: \"\";position: absolute;border-left: 1px solid gray;box-sizing: border-box;top: 0;bottom: 0;left: 50%;z-index: 0;}#sk-container-id-1 div.sk-serial {display: flex;flex-direction: column;align-items: center;background-color: white;padding-right: 0.2em;padding-left: 0.2em;position: relative;}#sk-container-id-1 div.sk-item {position: relative;z-index: 1;}#sk-container-id-1 div.sk-parallel {display: flex;align-items: stretch;justify-content: center;background-color: white;position: relative;}#sk-container-id-1 div.sk-item::before, #sk-container-id-1 div.sk-parallel-item::before {content: \"\";position: absolute;border-left: 1px solid gray;box-sizing: border-box;top: 0;bottom: 0;left: 50%;z-index: -1;}#sk-container-id-1 div.sk-parallel-item {display: flex;flex-direction: column;z-index: 1;position: relative;background-color: white;}#sk-container-id-1 div.sk-parallel-item:first-child::after {align-self: flex-end;width: 50%;}#sk-container-id-1 div.sk-parallel-item:last-child::after {align-self: flex-start;width: 50%;}#sk-container-id-1 div.sk-parallel-item:only-child::after {width: 0;}#sk-container-id-1 div.sk-dashed-wrapped {border: 1px dashed gray;margin: 0 0.4em 0.5em 0.4em;box-sizing: border-box;padding-bottom: 0.4em;background-color: white;}#sk-container-id-1 div.sk-label label {font-family: monospace;font-weight: bold;display: inline-block;line-height: 1.2em;}#sk-container-id-1 div.sk-label-container {text-align: center;}#sk-container-id-1 div.sk-container {/* jupyter's `normalize.less` sets `[hidden] { display: none; }` but bootstrap.min.css set `[hidden] { display: none !important; }` so we also need the `!important` here to be able to override the default hidden behavior on the sphinx rendered scikit-learn.org. See: https://github.com/scikit-learn/scikit-learn/issues/21755 */display: inline-block !important;position: relative;}#sk-container-id-1 div.sk-text-repr-fallback {display: none;}</style><div id=\"sk-container-id-1\" class=\"sk-top-container\"><div class=\"sk-text-repr-fallback\"><pre>Pipeline(steps=[(&#x27;imputer&#x27;, SimpleImputer(strategy=&#x27;most_frequent&#x27;)),\n",
       "                (&#x27;encoder&#x27;,\n",
       "                 OneHotEncoder(handle_unknown=&#x27;ignore&#x27;, sparse_output=False)),\n",
       "                (&#x27;scaler&#x27;, StandardScaler()),\n",
       "                (&#x27;classifier&#x27;,\n",
       "                 XGBClassifier(base_score=None, booster=None, callbacks=None,\n",
       "                               colsample_bylevel=None, colsample_bynode=None,\n",
       "                               colsample_bytree=None, device=None,\n",
       "                               early_stopping_rounds=None,\n",
       "                               enabl...\n",
       "                               feature_types=None, gamma=None, grow_policy=None,\n",
       "                               importance_type=None,\n",
       "                               interaction_constraints=None, learning_rate=None,\n",
       "                               max_bin=None, max_cat_threshold=None,\n",
       "                               max_cat_to_onehot=None, max_delta_step=None,\n",
       "                               max_depth=None, max_leaves=None,\n",
       "                               min_child_weight=None, missing=nan,\n",
       "                               monotone_constraints=None, multi_strategy=None,\n",
       "                               n_estimators=None, n_jobs=None,\n",
       "                               num_parallel_tree=None, random_state=None, ...))])</pre><b>In a Jupyter environment, please rerun this cell to show the HTML representation or trust the notebook. <br />On GitHub, the HTML representation is unable to render, please try loading this page with nbviewer.org.</b></div><div class=\"sk-container\" hidden><div class=\"sk-item sk-dashed-wrapped\"><div class=\"sk-label-container\"><div class=\"sk-label sk-toggleable\"><input class=\"sk-toggleable__control sk-hidden--visually\" id=\"sk-estimator-id-1\" type=\"checkbox\" ><label for=\"sk-estimator-id-1\" class=\"sk-toggleable__label sk-toggleable__label-arrow\">Pipeline</label><div class=\"sk-toggleable__content\"><pre>Pipeline(steps=[(&#x27;imputer&#x27;, SimpleImputer(strategy=&#x27;most_frequent&#x27;)),\n",
       "                (&#x27;encoder&#x27;,\n",
       "                 OneHotEncoder(handle_unknown=&#x27;ignore&#x27;, sparse_output=False)),\n",
       "                (&#x27;scaler&#x27;, StandardScaler()),\n",
       "                (&#x27;classifier&#x27;,\n",
       "                 XGBClassifier(base_score=None, booster=None, callbacks=None,\n",
       "                               colsample_bylevel=None, colsample_bynode=None,\n",
       "                               colsample_bytree=None, device=None,\n",
       "                               early_stopping_rounds=None,\n",
       "                               enabl...\n",
       "                               feature_types=None, gamma=None, grow_policy=None,\n",
       "                               importance_type=None,\n",
       "                               interaction_constraints=None, learning_rate=None,\n",
       "                               max_bin=None, max_cat_threshold=None,\n",
       "                               max_cat_to_onehot=None, max_delta_step=None,\n",
       "                               max_depth=None, max_leaves=None,\n",
       "                               min_child_weight=None, missing=nan,\n",
       "                               monotone_constraints=None, multi_strategy=None,\n",
       "                               n_estimators=None, n_jobs=None,\n",
       "                               num_parallel_tree=None, random_state=None, ...))])</pre></div></div></div><div class=\"sk-serial\"><div class=\"sk-item\"><div class=\"sk-estimator sk-toggleable\"><input class=\"sk-toggleable__control sk-hidden--visually\" id=\"sk-estimator-id-2\" type=\"checkbox\" ><label for=\"sk-estimator-id-2\" class=\"sk-toggleable__label sk-toggleable__label-arrow\">SimpleImputer</label><div class=\"sk-toggleable__content\"><pre>SimpleImputer(strategy=&#x27;most_frequent&#x27;)</pre></div></div></div><div class=\"sk-item\"><div class=\"sk-estimator sk-toggleable\"><input class=\"sk-toggleable__control sk-hidden--visually\" id=\"sk-estimator-id-3\" type=\"checkbox\" ><label for=\"sk-estimator-id-3\" class=\"sk-toggleable__label sk-toggleable__label-arrow\">OneHotEncoder</label><div class=\"sk-toggleable__content\"><pre>OneHotEncoder(handle_unknown=&#x27;ignore&#x27;, sparse_output=False)</pre></div></div></div><div class=\"sk-item\"><div class=\"sk-estimator sk-toggleable\"><input class=\"sk-toggleable__control sk-hidden--visually\" id=\"sk-estimator-id-4\" type=\"checkbox\" ><label for=\"sk-estimator-id-4\" class=\"sk-toggleable__label sk-toggleable__label-arrow\">StandardScaler</label><div class=\"sk-toggleable__content\"><pre>StandardScaler()</pre></div></div></div><div class=\"sk-item\"><div class=\"sk-estimator sk-toggleable\"><input class=\"sk-toggleable__control sk-hidden--visually\" id=\"sk-estimator-id-5\" type=\"checkbox\" ><label for=\"sk-estimator-id-5\" class=\"sk-toggleable__label sk-toggleable__label-arrow\">XGBClassifier</label><div class=\"sk-toggleable__content\"><pre>XGBClassifier(base_score=None, booster=None, callbacks=None,\n",
       "              colsample_bylevel=None, colsample_bynode=None,\n",
       "              colsample_bytree=None, device=None, early_stopping_rounds=None,\n",
       "              enable_categorical=False, eval_metric=&#x27;logloss&#x27;,\n",
       "              feature_types=None, gamma=None, grow_policy=None,\n",
       "              importance_type=None, interaction_constraints=None,\n",
       "              learning_rate=None, max_bin=None, max_cat_threshold=None,\n",
       "              max_cat_to_onehot=None, max_delta_step=None, max_depth=None,\n",
       "              max_leaves=None, min_child_weight=None, missing=nan,\n",
       "              monotone_constraints=None, multi_strategy=None, n_estimators=None,\n",
       "              n_jobs=None, num_parallel_tree=None, random_state=None, ...)</pre></div></div></div></div></div></div></div>"
      ],
      "text/plain": [
       "Pipeline(steps=[('imputer', SimpleImputer(strategy='most_frequent')),\n",
       "                ('encoder',\n",
       "                 OneHotEncoder(handle_unknown='ignore', sparse_output=False)),\n",
       "                ('scaler', StandardScaler()),\n",
       "                ('classifier',\n",
       "                 XGBClassifier(base_score=None, booster=None, callbacks=None,\n",
       "                               colsample_bylevel=None, colsample_bynode=None,\n",
       "                               colsample_bytree=None, device=None,\n",
       "                               early_stopping_rounds=None,\n",
       "                               enabl...\n",
       "                               feature_types=None, gamma=None, grow_policy=None,\n",
       "                               importance_type=None,\n",
       "                               interaction_constraints=None, learning_rate=None,\n",
       "                               max_bin=None, max_cat_threshold=None,\n",
       "                               max_cat_to_onehot=None, max_delta_step=None,\n",
       "                               max_depth=None, max_leaves=None,\n",
       "                               min_child_weight=None, missing=nan,\n",
       "                               monotone_constraints=None, multi_strategy=None,\n",
       "                               n_estimators=None, n_jobs=None,\n",
       "                               num_parallel_tree=None, random_state=None, ...))])"
      ]
     },
     "execution_count": 12,
     "metadata": {},
     "output_type": "execute_result"
    }
   ],
   "source": [
    "pipe.fit(X_train, y_train)"
   ]
  },
  {
   "cell_type": "code",
   "execution_count": 13,
   "id": "c2536dc4",
   "metadata": {
    "execution": {
     "iopub.execute_input": "2025-02-19T18:10:16.601344Z",
     "iopub.status.busy": "2025-02-19T18:10:16.600903Z",
     "iopub.status.idle": "2025-02-19T18:10:21.472423Z",
     "shell.execute_reply": "2025-02-19T18:10:21.471308Z"
    },
    "papermill": {
     "duration": 4.87993,
     "end_time": "2025-02-19T18:10:21.474227",
     "exception": false,
     "start_time": "2025-02-19T18:10:16.594297",
     "status": "completed"
    },
    "tags": []
   },
   "outputs": [
    {
     "data": {
      "text/plain": [
       "0.6688888888888889"
      ]
     },
     "execution_count": 13,
     "metadata": {},
     "output_type": "execute_result"
    }
   ],
   "source": [
    "pipe.score(X_val, y_val)"
   ]
  },
  {
   "cell_type": "code",
   "execution_count": null,
   "id": "c2badf70",
   "metadata": {
    "papermill": {
     "duration": 0.005204,
     "end_time": "2025-02-19T18:10:21.485025",
     "exception": false,
     "start_time": "2025-02-19T18:10:21.479821",
     "status": "completed"
    },
    "tags": []
   },
   "outputs": [],
   "source": []
  },
  {
   "cell_type": "code",
   "execution_count": 14,
   "id": "96492b8d",
   "metadata": {
    "execution": {
     "iopub.execute_input": "2025-02-19T18:10:21.497566Z",
     "iopub.status.busy": "2025-02-19T18:10:21.497134Z",
     "iopub.status.idle": "2025-02-19T18:10:21.523829Z",
     "shell.execute_reply": "2025-02-19T18:10:21.522660Z"
    },
    "papermill": {
     "duration": 0.034911,
     "end_time": "2025-02-19T18:10:21.525639",
     "exception": false,
     "start_time": "2025-02-19T18:10:21.490728",
     "status": "completed"
    },
    "tags": []
   },
   "outputs": [
    {
     "data": {
      "text/html": [
       "<div>\n",
       "<style scoped>\n",
       "    .dataframe tbody tr th:only-of-type {\n",
       "        vertical-align: middle;\n",
       "    }\n",
       "\n",
       "    .dataframe tbody tr th {\n",
       "        vertical-align: top;\n",
       "    }\n",
       "\n",
       "    .dataframe thead th {\n",
       "        text-align: right;\n",
       "    }\n",
       "</style>\n",
       "<table border=\"1\" class=\"dataframe\">\n",
       "  <thead>\n",
       "    <tr style=\"text-align: right;\">\n",
       "      <th></th>\n",
       "      <th>ID</th>\n",
       "      <th>dri_score</th>\n",
       "      <th>psych_disturb</th>\n",
       "      <th>cyto_score</th>\n",
       "      <th>diabetes</th>\n",
       "      <th>hla_match_c_high</th>\n",
       "      <th>hla_high_res_8</th>\n",
       "      <th>tbi_status</th>\n",
       "      <th>arrhythmia</th>\n",
       "      <th>hla_low_res_6</th>\n",
       "      <th>...</th>\n",
       "      <th>karnofsky_score</th>\n",
       "      <th>hepatic_mild</th>\n",
       "      <th>tce_div_match</th>\n",
       "      <th>donor_related</th>\n",
       "      <th>melphalan_dose</th>\n",
       "      <th>hla_low_res_8</th>\n",
       "      <th>cardiac</th>\n",
       "      <th>hla_match_drb1_high</th>\n",
       "      <th>pulm_moderate</th>\n",
       "      <th>hla_low_res_10</th>\n",
       "    </tr>\n",
       "  </thead>\n",
       "  <tbody>\n",
       "    <tr>\n",
       "      <th>0</th>\n",
       "      <td>0.0</td>\n",
       "      <td>0.0</td>\n",
       "      <td>0.0</td>\n",
       "      <td>0.0</td>\n",
       "      <td>0.0</td>\n",
       "      <td>0.0</td>\n",
       "      <td>0.0</td>\n",
       "      <td>0.0</td>\n",
       "      <td>0.0</td>\n",
       "      <td>0.0</td>\n",
       "      <td>...</td>\n",
       "      <td>0.0</td>\n",
       "      <td>0.0</td>\n",
       "      <td>0.0</td>\n",
       "      <td>0.0</td>\n",
       "      <td>0.0</td>\n",
       "      <td>0.0</td>\n",
       "      <td>0.0</td>\n",
       "      <td>0.0</td>\n",
       "      <td>0.0</td>\n",
       "      <td>0.0</td>\n",
       "    </tr>\n",
       "    <tr>\n",
       "      <th>1</th>\n",
       "      <td>0.5</td>\n",
       "      <td>1.0</td>\n",
       "      <td>0.0</td>\n",
       "      <td>1.0</td>\n",
       "      <td>0.0</td>\n",
       "      <td>0.0</td>\n",
       "      <td>0.0</td>\n",
       "      <td>1.0</td>\n",
       "      <td>0.0</td>\n",
       "      <td>0.0</td>\n",
       "      <td>...</td>\n",
       "      <td>0.0</td>\n",
       "      <td>0.0</td>\n",
       "      <td>1.0</td>\n",
       "      <td>1.0</td>\n",
       "      <td>0.0</td>\n",
       "      <td>0.0</td>\n",
       "      <td>0.0</td>\n",
       "      <td>0.0</td>\n",
       "      <td>1.0</td>\n",
       "      <td>0.0</td>\n",
       "    </tr>\n",
       "    <tr>\n",
       "      <th>2</th>\n",
       "      <td>1.0</td>\n",
       "      <td>0.0</td>\n",
       "      <td>0.0</td>\n",
       "      <td>0.0</td>\n",
       "      <td>0.0</td>\n",
       "      <td>0.0</td>\n",
       "      <td>0.0</td>\n",
       "      <td>0.0</td>\n",
       "      <td>0.0</td>\n",
       "      <td>0.0</td>\n",
       "      <td>...</td>\n",
       "      <td>0.0</td>\n",
       "      <td>0.0</td>\n",
       "      <td>1.0</td>\n",
       "      <td>1.0</td>\n",
       "      <td>0.0</td>\n",
       "      <td>0.0</td>\n",
       "      <td>0.0</td>\n",
       "      <td>0.0</td>\n",
       "      <td>0.0</td>\n",
       "      <td>0.0</td>\n",
       "    </tr>\n",
       "  </tbody>\n",
       "</table>\n",
       "<p>3 rows × 58 columns</p>\n",
       "</div>"
      ],
      "text/plain": [
       "    ID  dri_score  psych_disturb  cyto_score  diabetes  hla_match_c_high  \\\n",
       "0  0.0        0.0            0.0         0.0       0.0               0.0   \n",
       "1  0.5        1.0            0.0         1.0       0.0               0.0   \n",
       "2  1.0        0.0            0.0         0.0       0.0               0.0   \n",
       "\n",
       "   hla_high_res_8  tbi_status  arrhythmia  hla_low_res_6  ...  \\\n",
       "0             0.0         0.0         0.0            0.0  ...   \n",
       "1             0.0         1.0         0.0            0.0  ...   \n",
       "2             0.0         0.0         0.0            0.0  ...   \n",
       "\n",
       "   karnofsky_score  hepatic_mild  tce_div_match  donor_related  \\\n",
       "0              0.0           0.0            0.0            0.0   \n",
       "1              0.0           0.0            1.0            1.0   \n",
       "2              0.0           0.0            1.0            1.0   \n",
       "\n",
       "   melphalan_dose  hla_low_res_8  cardiac  hla_match_drb1_high  pulm_moderate  \\\n",
       "0             0.0            0.0      0.0                  0.0            0.0   \n",
       "1             0.0            0.0      0.0                  0.0            1.0   \n",
       "2             0.0            0.0      0.0                  0.0            0.0   \n",
       "\n",
       "   hla_low_res_10  \n",
       "0             0.0  \n",
       "1             0.0  \n",
       "2             0.0  \n",
       "\n",
       "[3 rows x 58 columns]"
      ]
     },
     "execution_count": 14,
     "metadata": {},
     "output_type": "execute_result"
    }
   ],
   "source": [
    "test.head()"
   ]
  },
  {
   "cell_type": "code",
   "execution_count": 15,
   "id": "ffc4054e",
   "metadata": {
    "execution": {
     "iopub.execute_input": "2025-02-19T18:10:21.538716Z",
     "iopub.status.busy": "2025-02-19T18:10:21.538281Z",
     "iopub.status.idle": "2025-02-19T18:10:21.588058Z",
     "shell.execute_reply": "2025-02-19T18:10:21.586925Z"
    },
    "papermill": {
     "duration": 0.058751,
     "end_time": "2025-02-19T18:10:21.590365",
     "exception": false,
     "start_time": "2025-02-19T18:10:21.531614",
     "status": "completed"
    },
    "tags": []
   },
   "outputs": [],
   "source": [
    "X_test =test\n",
    "preds = pipe.predict(X_test)\n",
    "final_df = pd.DataFrame({\n",
    "    'ID': X_test.index,\n",
    "    'prediction': preds,\n",
    "})\n",
    "\n",
    "final_df.ID = pd.read_csv(\"/kaggle/input/equity-post-HCT-survival-predictions/test.csv\").ID.values\n",
    "\n",
    "final_df.to_csv('submission.csv', index = False)"
   ]
  },
  {
   "cell_type": "code",
   "execution_count": 16,
   "id": "a8fb07ec",
   "metadata": {
    "execution": {
     "iopub.execute_input": "2025-02-19T18:10:21.603566Z",
     "iopub.status.busy": "2025-02-19T18:10:21.603129Z",
     "iopub.status.idle": "2025-02-19T18:10:21.610009Z",
     "shell.execute_reply": "2025-02-19T18:10:21.609082Z"
    },
    "papermill": {
     "duration": 0.015054,
     "end_time": "2025-02-19T18:10:21.611571",
     "exception": false,
     "start_time": "2025-02-19T18:10:21.596517",
     "status": "completed"
    },
    "tags": []
   },
   "outputs": [
    {
     "data": {
      "text/plain": [
       "0    28800\n",
       "1    28801\n",
       "2    28802\n",
       "Name: ID, dtype: int64"
      ]
     },
     "execution_count": 16,
     "metadata": {},
     "output_type": "execute_result"
    }
   ],
   "source": [
    "final_df.ID"
   ]
  }
 ],
 "metadata": {
  "kaggle": {
   "accelerator": "none",
   "dataSources": [
    {
     "databundleVersionId": 10381525,
     "sourceId": 70942,
     "sourceType": "competition"
    }
   ],
   "dockerImageVersionId": 30839,
   "isGpuEnabled": false,
   "isInternetEnabled": false,
   "language": "python",
   "sourceType": "notebook"
  },
  "kernelspec": {
   "display_name": "Python 3",
   "language": "python",
   "name": "python3"
  },
  "language_info": {
   "codemirror_mode": {
    "name": "ipython",
    "version": 3
   },
   "file_extension": ".py",
   "mimetype": "text/x-python",
   "name": "python",
   "nbconvert_exporter": "python",
   "pygments_lexer": "ipython3",
   "version": "3.10.12"
  },
  "papermill": {
   "default_parameters": {},
   "duration": 406.965814,
   "end_time": "2025-02-19T18:10:22.540016",
   "environment_variables": {},
   "exception": null,
   "input_path": "__notebook__.ipynb",
   "output_path": "__notebook__.ipynb",
   "parameters": {},
   "start_time": "2025-02-19T18:03:35.574202",
   "version": "2.6.0"
  }
 },
 "nbformat": 4,
 "nbformat_minor": 5
}
