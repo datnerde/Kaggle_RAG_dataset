{
 "cells": [
  {
   "cell_type": "code",
   "execution_count": 1,
   "id": "7b51694a",
   "metadata": {
    "execution": {
     "iopub.execute_input": "2025-01-13T12:32:11.110045Z",
     "iopub.status.busy": "2025-01-13T12:32:11.109790Z",
     "iopub.status.idle": "2025-01-13T12:32:15.769573Z",
     "shell.execute_reply": "2025-01-13T12:32:15.768536Z"
    },
    "papermill": {
     "duration": 4.668873,
     "end_time": "2025-01-13T12:32:15.771085",
     "exception": false,
     "start_time": "2025-01-13T12:32:11.102212",
     "status": "completed"
    },
    "tags": []
   },
   "outputs": [
    {
     "name": "stdout",
     "output_type": "stream",
     "text": [
      "Processing /kaggle/input/cibmtr-whl-files-for-installation/scikit_survival-0.20.0-cp310-cp310-manylinux_2_17_x86_64.manylinux2014_x86_64.whl\r\n",
      "Requirement already satisfied: ecos in /usr/local/lib/python3.10/dist-packages (from scikit-survival==0.20.0) (2.0.14)\r\n",
      "Requirement already satisfied: joblib in /usr/local/lib/python3.10/dist-packages (from scikit-survival==0.20.0) (1.4.2)\r\n",
      "Requirement already satisfied: numexpr in /usr/local/lib/python3.10/dist-packages (from scikit-survival==0.20.0) (2.10.1)\r\n",
      "Requirement already satisfied: numpy in /usr/local/lib/python3.10/dist-packages (from scikit-survival==0.20.0) (1.26.4)\r\n",
      "Requirement already satisfied: osqp!=0.6.0,!=0.6.1 in /usr/local/lib/python3.10/dist-packages (from scikit-survival==0.20.0) (0.6.7.post0)\r\n",
      "Requirement already satisfied: pandas>=1.0.5 in /usr/local/lib/python3.10/dist-packages (from scikit-survival==0.20.0) (2.1.4)\r\n",
      "Requirement already satisfied: scipy>=1.3.2 in /usr/local/lib/python3.10/dist-packages (from scikit-survival==0.20.0) (1.13.1)\r\n",
      "Requirement already satisfied: scikit-learn<1.3,>=1.2.0 in /usr/local/lib/python3.10/dist-packages (from scikit-survival==0.20.0) (1.2.2)\r\n",
      "Requirement already satisfied: qdldl in /usr/local/lib/python3.10/dist-packages (from osqp!=0.6.0,!=0.6.1->scikit-survival==0.20.0) (0.1.7.post4)\r\n",
      "Requirement already satisfied: python-dateutil>=2.8.2 in /usr/local/lib/python3.10/dist-packages (from pandas>=1.0.5->scikit-survival==0.20.0) (2.8.2)\r\n",
      "Requirement already satisfied: pytz>=2020.1 in /usr/local/lib/python3.10/dist-packages (from pandas>=1.0.5->scikit-survival==0.20.0) (2024.2)\r\n",
      "Requirement already satisfied: tzdata>=2022.1 in /usr/local/lib/python3.10/dist-packages (from pandas>=1.0.5->scikit-survival==0.20.0) (2024.1)\r\n",
      "Requirement already satisfied: threadpoolctl>=2.0.0 in /usr/local/lib/python3.10/dist-packages (from scikit-learn<1.3,>=1.2.0->scikit-survival==0.20.0) (3.5.0)\r\n",
      "Requirement already satisfied: six>=1.5 in /usr/local/lib/python3.10/dist-packages (from python-dateutil>=2.8.2->pandas>=1.0.5->scikit-survival==0.20.0) (1.16.0)\r\n",
      "Installing collected packages: scikit-survival\r\n",
      "Successfully installed scikit-survival-0.20.0\r\n",
      "Note: you may need to restart the kernel to use updated packages.\n"
     ]
    }
   ],
   "source": [
    "pip install /kaggle/input/cibmtr-whl-files-for-installation/scikit_survival-0.20.0-cp310-cp310-manylinux_2_17_x86_64.manylinux2014_x86_64.whl\n"
   ]
  },
  {
   "cell_type": "code",
   "execution_count": 2,
   "id": "bf914c7c",
   "metadata": {
    "execution": {
     "iopub.execute_input": "2025-01-13T12:32:15.782971Z",
     "iopub.status.busy": "2025-01-13T12:32:15.782718Z",
     "iopub.status.idle": "2025-01-13T12:32:33.398680Z",
     "shell.execute_reply": "2025-01-13T12:32:33.397514Z"
    },
    "papermill": {
     "duration": 17.623805,
     "end_time": "2025-01-13T12:32:33.400691",
     "exception": false,
     "start_time": "2025-01-13T12:32:15.776886",
     "status": "completed"
    },
    "tags": []
   },
   "outputs": [
    {
     "name": "stdout",
     "output_type": "stream",
     "text": [
      "Processing /kaggle/input/cibmtr-whl-files-for-installation/autograd-1.7.0-py3-none-any.whl\r\n",
      "Requirement already satisfied: numpy in /usr/local/lib/python3.10/dist-packages (from autograd==1.7.0) (1.26.4)\r\n",
      "autograd is already installed with the same version as the provided wheel. Use --force-reinstall to force an installation of the wheel.\r\n",
      "Processing /kaggle/input/cibmtr-whl-files-for-installation/autograd-gamma-0.5.0.tar.gz\r\n",
      "  Preparing metadata (setup.py) ... \u001b[?25l\u001b[?25hdone\r\n",
      "Requirement already satisfied: autograd>=1.2.0 in /usr/local/lib/python3.10/dist-packages (from autograd-gamma==0.5.0) (1.7.0)\r\n",
      "Requirement already satisfied: scipy>=1.2.0 in /usr/local/lib/python3.10/dist-packages (from autograd-gamma==0.5.0) (1.13.1)\r\n",
      "Requirement already satisfied: numpy in /usr/local/lib/python3.10/dist-packages (from autograd>=1.2.0->autograd-gamma==0.5.0) (1.26.4)\r\n",
      "Building wheels for collected packages: autograd-gamma\r\n",
      "  Building wheel for autograd-gamma (setup.py) ... \u001b[?25l\u001b[?25hdone\r\n",
      "  Created wheel for autograd-gamma: filename=autograd_gamma-0.5.0-py3-none-any.whl size=4031 sha256=fff51eeea9ac173a550dece809e08f2af5cae0893f8df08756dfd92be2216919\r\n",
      "  Stored in directory: /root/.cache/pip/wheels/67/ef/d5/018f452b36cbe7104781a86008d5dd66a1793afbd8864af8bf\r\n",
      "Successfully built autograd-gamma\r\n",
      "Installing collected packages: autograd-gamma\r\n",
      "Successfully installed autograd-gamma-0.5.0\r\n",
      "Processing /kaggle/input/cibmtr-whl-files-for-installation/interface_meta-1.3.0-py3-none-any.whl\r\n",
      "Installing collected packages: interface-meta\r\n",
      "Successfully installed interface-meta-1.3.0\r\n",
      "Processing /kaggle/input/cibmtr-whl-files-for-installation/formulaic-1.1.1-py3-none-any.whl\r\n",
      "Requirement already satisfied: interface-meta>=1.2.0 in /usr/local/lib/python3.10/dist-packages (from formulaic==1.1.1) (1.3.0)\r\n",
      "Requirement already satisfied: numpy>=1.16.5 in /usr/local/lib/python3.10/dist-packages (from formulaic==1.1.1) (1.26.4)\r\n",
      "Requirement already satisfied: pandas>=1.0 in /usr/local/lib/python3.10/dist-packages (from formulaic==1.1.1) (2.1.4)\r\n",
      "Requirement already satisfied: scipy>=1.6 in /usr/local/lib/python3.10/dist-packages (from formulaic==1.1.1) (1.13.1)\r\n",
      "Requirement already satisfied: typing-extensions>=4.2.0 in /usr/local/lib/python3.10/dist-packages (from formulaic==1.1.1) (4.12.2)\r\n",
      "Requirement already satisfied: wrapt>=1.0 in /usr/local/lib/python3.10/dist-packages (from formulaic==1.1.1) (1.16.0)\r\n",
      "Requirement already satisfied: python-dateutil>=2.8.2 in /usr/local/lib/python3.10/dist-packages (from pandas>=1.0->formulaic==1.1.1) (2.8.2)\r\n",
      "Requirement already satisfied: pytz>=2020.1 in /usr/local/lib/python3.10/dist-packages (from pandas>=1.0->formulaic==1.1.1) (2024.2)\r\n",
      "Requirement already satisfied: tzdata>=2022.1 in /usr/local/lib/python3.10/dist-packages (from pandas>=1.0->formulaic==1.1.1) (2024.1)\r\n",
      "Requirement already satisfied: six>=1.5 in /usr/local/lib/python3.10/dist-packages (from python-dateutil>=2.8.2->pandas>=1.0->formulaic==1.1.1) (1.16.0)\r\n",
      "Installing collected packages: formulaic\r\n",
      "Successfully installed formulaic-1.1.1\r\n",
      "Processing /kaggle/input/cibmtr-whl-files-for-installation/lifelines-0.30.0-py3-none-any.whl\r\n",
      "Requirement already satisfied: numpy>=1.14.0 in /usr/local/lib/python3.10/dist-packages (from lifelines==0.30.0) (1.26.4)\r\n",
      "Requirement already satisfied: scipy>=1.7.0 in /usr/local/lib/python3.10/dist-packages (from lifelines==0.30.0) (1.13.1)\r\n",
      "Requirement already satisfied: pandas>=2.1 in /usr/local/lib/python3.10/dist-packages (from lifelines==0.30.0) (2.1.4)\r\n",
      "Requirement already satisfied: matplotlib>=3.0 in /usr/local/lib/python3.10/dist-packages (from lifelines==0.30.0) (3.7.1)\r\n",
      "Requirement already satisfied: autograd>=1.5 in /usr/local/lib/python3.10/dist-packages (from lifelines==0.30.0) (1.7.0)\r\n",
      "Requirement already satisfied: autograd-gamma>=0.3 in /usr/local/lib/python3.10/dist-packages (from lifelines==0.30.0) (0.5.0)\r\n",
      "Requirement already satisfied: formulaic>=0.2.2 in /usr/local/lib/python3.10/dist-packages (from lifelines==0.30.0) (1.1.1)\r\n",
      "Requirement already satisfied: interface-meta>=1.2.0 in /usr/local/lib/python3.10/dist-packages (from formulaic>=0.2.2->lifelines==0.30.0) (1.3.0)\r\n",
      "Requirement already satisfied: typing-extensions>=4.2.0 in /usr/local/lib/python3.10/dist-packages (from formulaic>=0.2.2->lifelines==0.30.0) (4.12.2)\r\n",
      "Requirement already satisfied: wrapt>=1.0 in /usr/local/lib/python3.10/dist-packages (from formulaic>=0.2.2->lifelines==0.30.0) (1.16.0)\r\n",
      "Requirement already satisfied: contourpy>=1.0.1 in /usr/local/lib/python3.10/dist-packages (from matplotlib>=3.0->lifelines==0.30.0) (1.3.0)\r\n",
      "Requirement already satisfied: cycler>=0.10 in /usr/local/lib/python3.10/dist-packages (from matplotlib>=3.0->lifelines==0.30.0) (0.12.1)\r\n",
      "Requirement already satisfied: fonttools>=4.22.0 in /usr/local/lib/python3.10/dist-packages (from matplotlib>=3.0->lifelines==0.30.0) (4.53.1)\r\n",
      "Requirement already satisfied: kiwisolver>=1.0.1 in /usr/local/lib/python3.10/dist-packages (from matplotlib>=3.0->lifelines==0.30.0) (1.4.7)\r\n",
      "Requirement already satisfied: packaging>=20.0 in /usr/local/lib/python3.10/dist-packages (from matplotlib>=3.0->lifelines==0.30.0) (24.1)\r\n",
      "Requirement already satisfied: pillow>=6.2.0 in /usr/local/lib/python3.10/dist-packages (from matplotlib>=3.0->lifelines==0.30.0) (10.4.0)\r\n",
      "Requirement already satisfied: pyparsing>=2.3.1 in /usr/local/lib/python3.10/dist-packages (from matplotlib>=3.0->lifelines==0.30.0) (3.1.4)\r\n",
      "Requirement already satisfied: python-dateutil>=2.7 in /usr/local/lib/python3.10/dist-packages (from matplotlib>=3.0->lifelines==0.30.0) (2.8.2)\r\n",
      "Requirement already satisfied: pytz>=2020.1 in /usr/local/lib/python3.10/dist-packages (from pandas>=2.1->lifelines==0.30.0) (2024.2)\r\n",
      "Requirement already satisfied: tzdata>=2022.1 in /usr/local/lib/python3.10/dist-packages (from pandas>=2.1->lifelines==0.30.0) (2024.1)\r\n",
      "Requirement already satisfied: six>=1.5 in /usr/local/lib/python3.10/dist-packages (from python-dateutil>=2.7->matplotlib>=3.0->lifelines==0.30.0) (1.16.0)\r\n",
      "Installing collected packages: lifelines\r\n",
      "Successfully installed lifelines-0.30.0\r\n"
     ]
    }
   ],
   "source": [
    "!pip install /kaggle/input/cibmtr-whl-files-for-installation/autograd-1.7.0-py3-none-any.whl\n",
    "!pip install /kaggle/input/cibmtr-whl-files-for-installation/autograd-gamma-0.5.0.tar.gz\n",
    "!pip install /kaggle/input/cibmtr-whl-files-for-installation/interface_meta-1.3.0-py3-none-any.whl\n",
    "!pip install /kaggle/input/cibmtr-whl-files-for-installation/formulaic-1.1.1-py3-none-any.whl\n",
    "!pip install /kaggle/input/cibmtr-whl-files-for-installation/lifelines-0.30.0-py3-none-any.whl"
   ]
  },
  {
   "cell_type": "code",
   "execution_count": 3,
   "id": "eb6c3fba",
   "metadata": {
    "_cell_guid": "b1076dfc-b9ad-4769-8c92-a6c4dae69d19",
    "_uuid": "8f2839f25d086af736a60e9eeb907d3b93b6e0e5",
    "execution": {
     "iopub.execute_input": "2025-01-13T12:32:33.417181Z",
     "iopub.status.busy": "2025-01-13T12:32:33.416785Z",
     "iopub.status.idle": "2025-01-13T12:32:35.661159Z",
     "shell.execute_reply": "2025-01-13T12:32:35.660196Z"
    },
    "papermill": {
     "duration": 2.254437,
     "end_time": "2025-01-13T12:32:35.662883",
     "exception": false,
     "start_time": "2025-01-13T12:32:33.408446",
     "status": "completed"
    },
    "tags": []
   },
   "outputs": [],
   "source": [
    "import pandas as pd\n",
    "from sklearn.preprocessing import LabelEncoder, StandardScaler\n",
    "from sklearn.impute import SimpleImputer\n",
    "from sksurv.ensemble import RandomSurvivalForest\n",
    "from sksurv.util import Surv\n",
    "from sklearn.model_selection import train_test_split\n"
   ]
  },
  {
   "cell_type": "markdown",
   "id": "0f6af0e8",
   "metadata": {
    "papermill": {
     "duration": 0.005722,
     "end_time": "2025-01-13T12:32:35.675222",
     "exception": false,
     "start_time": "2025-01-13T12:32:35.669500",
     "status": "completed"
    },
    "tags": []
   },
   "source": [
    "# read_data"
   ]
  },
  {
   "cell_type": "code",
   "execution_count": 4,
   "id": "e025eb3d",
   "metadata": {
    "execution": {
     "iopub.execute_input": "2025-01-13T12:32:35.688320Z",
     "iopub.status.busy": "2025-01-13T12:32:35.687943Z",
     "iopub.status.idle": "2025-01-13T12:32:35.706066Z",
     "shell.execute_reply": "2025-01-13T12:32:35.705210Z"
    },
    "papermill": {
     "duration": 0.02595,
     "end_time": "2025-01-13T12:32:35.707371",
     "exception": false,
     "start_time": "2025-01-13T12:32:35.681421",
     "status": "completed"
    },
    "tags": []
   },
   "outputs": [],
   "source": [
    "test=pd.read_csv(\"/kaggle/input/equity-post-HCT-survival-predictions/test.csv\")\n"
   ]
  },
  {
   "cell_type": "code",
   "execution_count": 5,
   "id": "ff67083e",
   "metadata": {
    "execution": {
     "iopub.execute_input": "2025-01-13T12:32:35.720336Z",
     "iopub.status.busy": "2025-01-13T12:32:35.720091Z",
     "iopub.status.idle": "2025-01-13T12:32:36.070728Z",
     "shell.execute_reply": "2025-01-13T12:32:36.069837Z"
    },
    "papermill": {
     "duration": 0.358607,
     "end_time": "2025-01-13T12:32:36.072219",
     "exception": false,
     "start_time": "2025-01-13T12:32:35.713612",
     "status": "completed"
    },
    "tags": []
   },
   "outputs": [
    {
     "data": {
      "text/html": [
       "<div>\n",
       "<style scoped>\n",
       "    .dataframe tbody tr th:only-of-type {\n",
       "        vertical-align: middle;\n",
       "    }\n",
       "\n",
       "    .dataframe tbody tr th {\n",
       "        vertical-align: top;\n",
       "    }\n",
       "\n",
       "    .dataframe thead th {\n",
       "        text-align: right;\n",
       "    }\n",
       "</style>\n",
       "<table border=\"1\" class=\"dataframe\">\n",
       "  <thead>\n",
       "    <tr style=\"text-align: right;\">\n",
       "      <th></th>\n",
       "      <th>ID</th>\n",
       "      <th>dri_score</th>\n",
       "      <th>psych_disturb</th>\n",
       "      <th>cyto_score</th>\n",
       "      <th>diabetes</th>\n",
       "      <th>hla_match_c_high</th>\n",
       "      <th>hla_high_res_8</th>\n",
       "      <th>tbi_status</th>\n",
       "      <th>arrhythmia</th>\n",
       "      <th>hla_low_res_6</th>\n",
       "      <th>...</th>\n",
       "      <th>tce_div_match</th>\n",
       "      <th>donor_related</th>\n",
       "      <th>melphalan_dose</th>\n",
       "      <th>hla_low_res_8</th>\n",
       "      <th>cardiac</th>\n",
       "      <th>hla_match_drb1_high</th>\n",
       "      <th>pulm_moderate</th>\n",
       "      <th>hla_low_res_10</th>\n",
       "      <th>efs</th>\n",
       "      <th>efs_time</th>\n",
       "    </tr>\n",
       "  </thead>\n",
       "  <tbody>\n",
       "    <tr>\n",
       "      <th>0</th>\n",
       "      <td>0</td>\n",
       "      <td>N/A - non-malignant indication</td>\n",
       "      <td>No</td>\n",
       "      <td>NaN</td>\n",
       "      <td>No</td>\n",
       "      <td>NaN</td>\n",
       "      <td>NaN</td>\n",
       "      <td>No TBI</td>\n",
       "      <td>No</td>\n",
       "      <td>6.0</td>\n",
       "      <td>...</td>\n",
       "      <td>NaN</td>\n",
       "      <td>Unrelated</td>\n",
       "      <td>N/A, Mel not given</td>\n",
       "      <td>8.0</td>\n",
       "      <td>No</td>\n",
       "      <td>2.0</td>\n",
       "      <td>No</td>\n",
       "      <td>10.0</td>\n",
       "      <td>0.0</td>\n",
       "      <td>42.356</td>\n",
       "    </tr>\n",
       "    <tr>\n",
       "      <th>1</th>\n",
       "      <td>1</td>\n",
       "      <td>Intermediate</td>\n",
       "      <td>No</td>\n",
       "      <td>Intermediate</td>\n",
       "      <td>No</td>\n",
       "      <td>2.0</td>\n",
       "      <td>8.0</td>\n",
       "      <td>TBI +- Other, &gt;cGy</td>\n",
       "      <td>No</td>\n",
       "      <td>6.0</td>\n",
       "      <td>...</td>\n",
       "      <td>Permissive mismatched</td>\n",
       "      <td>Related</td>\n",
       "      <td>N/A, Mel not given</td>\n",
       "      <td>8.0</td>\n",
       "      <td>No</td>\n",
       "      <td>2.0</td>\n",
       "      <td>Yes</td>\n",
       "      <td>10.0</td>\n",
       "      <td>1.0</td>\n",
       "      <td>4.672</td>\n",
       "    </tr>\n",
       "    <tr>\n",
       "      <th>2</th>\n",
       "      <td>2</td>\n",
       "      <td>N/A - non-malignant indication</td>\n",
       "      <td>No</td>\n",
       "      <td>NaN</td>\n",
       "      <td>No</td>\n",
       "      <td>2.0</td>\n",
       "      <td>8.0</td>\n",
       "      <td>No TBI</td>\n",
       "      <td>No</td>\n",
       "      <td>6.0</td>\n",
       "      <td>...</td>\n",
       "      <td>Permissive mismatched</td>\n",
       "      <td>Related</td>\n",
       "      <td>N/A, Mel not given</td>\n",
       "      <td>8.0</td>\n",
       "      <td>No</td>\n",
       "      <td>2.0</td>\n",
       "      <td>No</td>\n",
       "      <td>10.0</td>\n",
       "      <td>0.0</td>\n",
       "      <td>19.793</td>\n",
       "    </tr>\n",
       "    <tr>\n",
       "      <th>3</th>\n",
       "      <td>3</td>\n",
       "      <td>High</td>\n",
       "      <td>No</td>\n",
       "      <td>Intermediate</td>\n",
       "      <td>No</td>\n",
       "      <td>2.0</td>\n",
       "      <td>8.0</td>\n",
       "      <td>No TBI</td>\n",
       "      <td>No</td>\n",
       "      <td>6.0</td>\n",
       "      <td>...</td>\n",
       "      <td>Permissive mismatched</td>\n",
       "      <td>Unrelated</td>\n",
       "      <td>N/A, Mel not given</td>\n",
       "      <td>8.0</td>\n",
       "      <td>No</td>\n",
       "      <td>2.0</td>\n",
       "      <td>No</td>\n",
       "      <td>10.0</td>\n",
       "      <td>0.0</td>\n",
       "      <td>102.349</td>\n",
       "    </tr>\n",
       "    <tr>\n",
       "      <th>4</th>\n",
       "      <td>4</td>\n",
       "      <td>High</td>\n",
       "      <td>No</td>\n",
       "      <td>NaN</td>\n",
       "      <td>No</td>\n",
       "      <td>2.0</td>\n",
       "      <td>8.0</td>\n",
       "      <td>No TBI</td>\n",
       "      <td>No</td>\n",
       "      <td>6.0</td>\n",
       "      <td>...</td>\n",
       "      <td>Permissive mismatched</td>\n",
       "      <td>Related</td>\n",
       "      <td>MEL</td>\n",
       "      <td>8.0</td>\n",
       "      <td>No</td>\n",
       "      <td>2.0</td>\n",
       "      <td>No</td>\n",
       "      <td>10.0</td>\n",
       "      <td>0.0</td>\n",
       "      <td>16.223</td>\n",
       "    </tr>\n",
       "  </tbody>\n",
       "</table>\n",
       "<p>5 rows × 60 columns</p>\n",
       "</div>"
      ],
      "text/plain": [
       "   ID                       dri_score psych_disturb    cyto_score diabetes  \\\n",
       "0   0  N/A - non-malignant indication            No           NaN       No   \n",
       "1   1                    Intermediate            No  Intermediate       No   \n",
       "2   2  N/A - non-malignant indication            No           NaN       No   \n",
       "3   3                            High            No  Intermediate       No   \n",
       "4   4                            High            No           NaN       No   \n",
       "\n",
       "   hla_match_c_high  hla_high_res_8          tbi_status arrhythmia  \\\n",
       "0               NaN             NaN              No TBI         No   \n",
       "1               2.0             8.0  TBI +- Other, >cGy         No   \n",
       "2               2.0             8.0              No TBI         No   \n",
       "3               2.0             8.0              No TBI         No   \n",
       "4               2.0             8.0              No TBI         No   \n",
       "\n",
       "   hla_low_res_6  ...          tce_div_match donor_related  \\\n",
       "0            6.0  ...                    NaN     Unrelated   \n",
       "1            6.0  ...  Permissive mismatched       Related   \n",
       "2            6.0  ...  Permissive mismatched       Related   \n",
       "3            6.0  ...  Permissive mismatched     Unrelated   \n",
       "4            6.0  ...  Permissive mismatched       Related   \n",
       "\n",
       "       melphalan_dose hla_low_res_8 cardiac  hla_match_drb1_high  \\\n",
       "0  N/A, Mel not given           8.0      No                  2.0   \n",
       "1  N/A, Mel not given           8.0      No                  2.0   \n",
       "2  N/A, Mel not given           8.0      No                  2.0   \n",
       "3  N/A, Mel not given           8.0      No                  2.0   \n",
       "4                 MEL           8.0      No                  2.0   \n",
       "\n",
       "  pulm_moderate  hla_low_res_10  efs efs_time  \n",
       "0            No            10.0  0.0   42.356  \n",
       "1           Yes            10.0  1.0    4.672  \n",
       "2            No            10.0  0.0   19.793  \n",
       "3            No            10.0  0.0  102.349  \n",
       "4            No            10.0  0.0   16.223  \n",
       "\n",
       "[5 rows x 60 columns]"
      ]
     },
     "execution_count": 5,
     "metadata": {},
     "output_type": "execute_result"
    }
   ],
   "source": [
    "data=pd.read_csv('/kaggle/input/equity-post-HCT-survival-predictions/train.csv')\n",
    "data.head()"
   ]
  },
  {
   "cell_type": "code",
   "execution_count": 6,
   "id": "c05e6165",
   "metadata": {
    "execution": {
     "iopub.execute_input": "2025-01-13T12:32:36.086390Z",
     "iopub.status.busy": "2025-01-13T12:32:36.086117Z",
     "iopub.status.idle": "2025-01-13T12:32:36.094189Z",
     "shell.execute_reply": "2025-01-13T12:32:36.093549Z"
    },
    "papermill": {
     "duration": 0.016339,
     "end_time": "2025-01-13T12:32:36.095369",
     "exception": false,
     "start_time": "2025-01-13T12:32:36.079030",
     "status": "completed"
    },
    "tags": []
   },
   "outputs": [
    {
     "data": {
      "text/plain": [
       "0     8\n",
       "1     0\n",
       "2    11\n",
       "Name: years_since_baseline, dtype: int64"
      ]
     },
     "execution_count": 6,
     "metadata": {},
     "output_type": "execute_result"
    }
   ],
   "source": [
    "data['age_comorbidity_interaction'] = data['age_at_hct'] * data['comorbidity_score']\n",
    "test['age_comorbidity_interaction'] = test['age_at_hct'] * test['comorbidity_score']\n",
    "baseline=2008\n",
    "data[\"years_since_baseline\"]=data[\"year_hct\"]-baseline\n",
    "data[\"years_since_baseline\"]\n",
    "test[\"years_since_baseline\"]=test[\"year_hct\"]-baseline\n",
    "test[\"years_since_baseline\"]\n"
   ]
  },
  {
   "cell_type": "code",
   "execution_count": 7,
   "id": "2f8e535f",
   "metadata": {
    "execution": {
     "iopub.execute_input": "2025-01-13T12:32:36.108611Z",
     "iopub.status.busy": "2025-01-13T12:32:36.108330Z",
     "iopub.status.idle": "2025-01-13T12:32:36.119985Z",
     "shell.execute_reply": "2025-01-13T12:32:36.119389Z"
    },
    "papermill": {
     "duration": 0.019633,
     "end_time": "2025-01-13T12:32:36.121295",
     "exception": false,
     "start_time": "2025-01-13T12:32:36.101662",
     "status": "completed"
    },
    "tags": []
   },
   "outputs": [],
   "source": [
    "cat_data=data.select_dtypes([\"object\"])\n",
    "number_data=data.select_dtypes([\"int64\",\"float64\"])\n",
    "cat_test=test.select_dtypes([\"object\"])\n",
    "number_test=test.select_dtypes([\"int64\",\"float64\"])"
   ]
  },
  {
   "cell_type": "markdown",
   "id": "61637d88",
   "metadata": {
    "papermill": {
     "duration": 0.006055,
     "end_time": "2025-01-13T12:32:36.133841",
     "exception": false,
     "start_time": "2025-01-13T12:32:36.127786",
     "status": "completed"
    },
    "tags": []
   },
   "source": [
    "# feature engineering"
   ]
  },
  {
   "cell_type": "markdown",
   "id": "63c78cbe",
   "metadata": {
    "papermill": {
     "duration": 0.006149,
     "end_time": "2025-01-13T12:32:36.146599",
     "exception": false,
     "start_time": "2025-01-13T12:32:36.140450",
     "status": "completed"
    },
    "tags": []
   },
   "source": [
    "# Imputer"
   ]
  },
  {
   "cell_type": "code",
   "execution_count": 8,
   "id": "dafd4feb",
   "metadata": {
    "execution": {
     "iopub.execute_input": "2025-01-13T12:32:36.159848Z",
     "iopub.status.busy": "2025-01-13T12:32:36.159634Z",
     "iopub.status.idle": "2025-01-13T12:32:36.299624Z",
     "shell.execute_reply": "2025-01-13T12:32:36.298955Z"
    },
    "papermill": {
     "duration": 0.148304,
     "end_time": "2025-01-13T12:32:36.301114",
     "exception": false,
     "start_time": "2025-01-13T12:32:36.152810",
     "status": "completed"
    },
    "tags": []
   },
   "outputs": [],
   "source": [
    "cat_imputer=SimpleImputer(strategy='most_frequent')\n",
    "number_impute=SimpleImputer(strategy='mean')\n",
    "number_impute_test=SimpleImputer(strategy='mean')\n",
    "cat_data = pd.DataFrame(cat_imputer.fit_transform(cat_data), columns=cat_data.columns)\n",
    "cat_test = pd.DataFrame(cat_imputer.transform(cat_test), columns=cat_test.columns)\n",
    "number_data = pd.DataFrame(number_impute.fit_transform(number_data), columns=number_data.columns)\n",
    "number_test = pd.DataFrame(number_impute_test.fit_transform(number_test), columns=number_test.columns)"
   ]
  },
  {
   "cell_type": "markdown",
   "id": "db382e6d",
   "metadata": {
    "papermill": {
     "duration": 0.006162,
     "end_time": "2025-01-13T12:32:36.314168",
     "exception": false,
     "start_time": "2025-01-13T12:32:36.308006",
     "status": "completed"
    },
    "tags": []
   },
   "source": [
    "# normalization"
   ]
  },
  {
   "cell_type": "code",
   "execution_count": 9,
   "id": "0e9e7d4f",
   "metadata": {
    "execution": {
     "iopub.execute_input": "2025-01-13T12:32:36.327911Z",
     "iopub.status.busy": "2025-01-13T12:32:36.327677Z",
     "iopub.status.idle": "2025-01-13T12:32:36.349550Z",
     "shell.execute_reply": "2025-01-13T12:32:36.348446Z"
    },
    "papermill": {
     "duration": 0.030292,
     "end_time": "2025-01-13T12:32:36.351119",
     "exception": false,
     "start_time": "2025-01-13T12:32:36.320827",
     "status": "completed"
    },
    "tags": []
   },
   "outputs": [],
   "source": [
    "scaler = StandardScaler()\n",
    "number_data=number_data.drop(\"ID\",axis=1)\n",
    "number_test=number_test.drop(\"ID\",axis=1)\n",
    "\n",
    "number_data_scaled=scaler.fit_transform(number_data)\n",
    "number_test_scaled=scaler.fit_transform(number_test)"
   ]
  },
  {
   "cell_type": "code",
   "execution_count": 10,
   "id": "d988f534",
   "metadata": {
    "execution": {
     "iopub.execute_input": "2025-01-13T12:32:36.372293Z",
     "iopub.status.busy": "2025-01-13T12:32:36.371900Z",
     "iopub.status.idle": "2025-01-13T12:32:36.376751Z",
     "shell.execute_reply": "2025-01-13T12:32:36.375707Z"
    },
    "papermill": {
     "duration": 0.018716,
     "end_time": "2025-01-13T12:32:36.378301",
     "exception": false,
     "start_time": "2025-01-13T12:32:36.359585",
     "status": "completed"
    },
    "tags": []
   },
   "outputs": [],
   "source": [
    "number_data_scaled = pd.DataFrame(number_data_scaled, columns=number_data.columns)\n",
    "number_test_scaled = pd.DataFrame(number_test_scaled, columns=number_test.columns)\n"
   ]
  },
  {
   "cell_type": "markdown",
   "id": "1632c01f",
   "metadata": {
    "papermill": {
     "duration": 0.006527,
     "end_time": "2025-01-13T12:32:36.394636",
     "exception": false,
     "start_time": "2025-01-13T12:32:36.388109",
     "status": "completed"
    },
    "tags": []
   },
   "source": [
    "# concat"
   ]
  },
  {
   "cell_type": "code",
   "execution_count": 11,
   "id": "247844f0",
   "metadata": {
    "execution": {
     "iopub.execute_input": "2025-01-13T12:32:36.413908Z",
     "iopub.status.busy": "2025-01-13T12:32:36.413675Z",
     "iopub.status.idle": "2025-01-13T12:32:36.416844Z",
     "shell.execute_reply": "2025-01-13T12:32:36.416196Z"
    },
    "papermill": {
     "duration": 0.012421,
     "end_time": "2025-01-13T12:32:36.417971",
     "exception": false,
     "start_time": "2025-01-13T12:32:36.405550",
     "status": "completed"
    },
    "tags": []
   },
   "outputs": [],
   "source": [
    "id_data=data[\"ID\"]\n",
    "id_test=test[\"ID\"]"
   ]
  },
  {
   "cell_type": "code",
   "execution_count": 12,
   "id": "0ff08f5c",
   "metadata": {
    "execution": {
     "iopub.execute_input": "2025-01-13T12:32:36.431235Z",
     "iopub.status.busy": "2025-01-13T12:32:36.431031Z",
     "iopub.status.idle": "2025-01-13T12:32:36.453143Z",
     "shell.execute_reply": "2025-01-13T12:32:36.452413Z"
    },
    "papermill": {
     "duration": 0.029928,
     "end_time": "2025-01-13T12:32:36.454271",
     "exception": false,
     "start_time": "2025-01-13T12:32:36.424343",
     "status": "completed"
    },
    "tags": []
   },
   "outputs": [
    {
     "data": {
      "text/html": [
       "<div>\n",
       "<style scoped>\n",
       "    .dataframe tbody tr th:only-of-type {\n",
       "        vertical-align: middle;\n",
       "    }\n",
       "\n",
       "    .dataframe tbody tr th {\n",
       "        vertical-align: top;\n",
       "    }\n",
       "\n",
       "    .dataframe thead th {\n",
       "        text-align: right;\n",
       "    }\n",
       "</style>\n",
       "<table border=\"1\" class=\"dataframe\">\n",
       "  <thead>\n",
       "    <tr style=\"text-align: right;\">\n",
       "      <th></th>\n",
       "      <th>ID</th>\n",
       "      <th>hla_match_c_high</th>\n",
       "      <th>hla_high_res_8</th>\n",
       "      <th>hla_low_res_6</th>\n",
       "      <th>hla_high_res_6</th>\n",
       "      <th>hla_high_res_10</th>\n",
       "      <th>hla_match_dqb1_high</th>\n",
       "      <th>hla_nmdp_6</th>\n",
       "      <th>hla_match_c_low</th>\n",
       "      <th>hla_match_drb1_low</th>\n",
       "      <th>...</th>\n",
       "      <th>gvhd_proph</th>\n",
       "      <th>rheum_issue</th>\n",
       "      <th>sex_match</th>\n",
       "      <th>race_group</th>\n",
       "      <th>hepatic_mild</th>\n",
       "      <th>tce_div_match</th>\n",
       "      <th>donor_related</th>\n",
       "      <th>melphalan_dose</th>\n",
       "      <th>cardiac</th>\n",
       "      <th>pulm_moderate</th>\n",
       "    </tr>\n",
       "  </thead>\n",
       "  <tbody>\n",
       "    <tr>\n",
       "      <th>0</th>\n",
       "      <td>0</td>\n",
       "      <td>-5.610384e-16</td>\n",
       "      <td>-6.357585e-16</td>\n",
       "      <td>0.753386</td>\n",
       "      <td>0.811944</td>\n",
       "      <td>1.075758e-15</td>\n",
       "      <td>0.649272</td>\n",
       "      <td>0.755021</td>\n",
       "      <td>0.585379</td>\n",
       "      <td>0.661997</td>\n",
       "      <td>...</td>\n",
       "      <td>FKalone</td>\n",
       "      <td>No</td>\n",
       "      <td>M-F</td>\n",
       "      <td>More than one race</td>\n",
       "      <td>No</td>\n",
       "      <td>Permissive mismatched</td>\n",
       "      <td>Unrelated</td>\n",
       "      <td>N/A, Mel not given</td>\n",
       "      <td>No</td>\n",
       "      <td>No</td>\n",
       "    </tr>\n",
       "    <tr>\n",
       "      <th>1</th>\n",
       "      <td>1</td>\n",
       "      <td>5.949953e-01</td>\n",
       "      <td>8.039862e-01</td>\n",
       "      <td>0.753386</td>\n",
       "      <td>0.811944</td>\n",
       "      <td>8.374026e-01</td>\n",
       "      <td>0.649272</td>\n",
       "      <td>0.755021</td>\n",
       "      <td>0.585379</td>\n",
       "      <td>0.661997</td>\n",
       "      <td>...</td>\n",
       "      <td>Other GVHD Prophylaxis</td>\n",
       "      <td>No</td>\n",
       "      <td>F-F</td>\n",
       "      <td>Asian</td>\n",
       "      <td>No</td>\n",
       "      <td>Permissive mismatched</td>\n",
       "      <td>Related</td>\n",
       "      <td>N/A, Mel not given</td>\n",
       "      <td>No</td>\n",
       "      <td>Yes</td>\n",
       "    </tr>\n",
       "    <tr>\n",
       "      <th>2</th>\n",
       "      <td>2</td>\n",
       "      <td>5.949953e-01</td>\n",
       "      <td>8.039862e-01</td>\n",
       "      <td>0.753386</td>\n",
       "      <td>0.811944</td>\n",
       "      <td>8.374026e-01</td>\n",
       "      <td>0.649272</td>\n",
       "      <td>0.755021</td>\n",
       "      <td>0.585379</td>\n",
       "      <td>0.661997</td>\n",
       "      <td>...</td>\n",
       "      <td>Cyclophosphamide alone</td>\n",
       "      <td>No</td>\n",
       "      <td>F-M</td>\n",
       "      <td>More than one race</td>\n",
       "      <td>No</td>\n",
       "      <td>Permissive mismatched</td>\n",
       "      <td>Related</td>\n",
       "      <td>N/A, Mel not given</td>\n",
       "      <td>No</td>\n",
       "      <td>No</td>\n",
       "    </tr>\n",
       "    <tr>\n",
       "      <th>3</th>\n",
       "      <td>3</td>\n",
       "      <td>5.949953e-01</td>\n",
       "      <td>8.039862e-01</td>\n",
       "      <td>0.753386</td>\n",
       "      <td>0.811944</td>\n",
       "      <td>8.374026e-01</td>\n",
       "      <td>0.649272</td>\n",
       "      <td>0.755021</td>\n",
       "      <td>0.585379</td>\n",
       "      <td>0.661997</td>\n",
       "      <td>...</td>\n",
       "      <td>FK+ MMF +- others</td>\n",
       "      <td>No</td>\n",
       "      <td>M-M</td>\n",
       "      <td>White</td>\n",
       "      <td>Yes</td>\n",
       "      <td>Permissive mismatched</td>\n",
       "      <td>Unrelated</td>\n",
       "      <td>N/A, Mel not given</td>\n",
       "      <td>No</td>\n",
       "      <td>No</td>\n",
       "    </tr>\n",
       "    <tr>\n",
       "      <th>4</th>\n",
       "      <td>4</td>\n",
       "      <td>5.949953e-01</td>\n",
       "      <td>8.039862e-01</td>\n",
       "      <td>0.753386</td>\n",
       "      <td>0.811944</td>\n",
       "      <td>8.374026e-01</td>\n",
       "      <td>0.649272</td>\n",
       "      <td>-0.144184</td>\n",
       "      <td>0.585379</td>\n",
       "      <td>0.661997</td>\n",
       "      <td>...</td>\n",
       "      <td>TDEPLETION +- other</td>\n",
       "      <td>No</td>\n",
       "      <td>M-F</td>\n",
       "      <td>American Indian or Alaska Native</td>\n",
       "      <td>No</td>\n",
       "      <td>Permissive mismatched</td>\n",
       "      <td>Related</td>\n",
       "      <td>MEL</td>\n",
       "      <td>No</td>\n",
       "      <td>No</td>\n",
       "    </tr>\n",
       "  </tbody>\n",
       "</table>\n",
       "<p>5 rows × 62 columns</p>\n",
       "</div>"
      ],
      "text/plain": [
       "   ID  hla_match_c_high  hla_high_res_8  hla_low_res_6  hla_high_res_6  \\\n",
       "0   0     -5.610384e-16   -6.357585e-16       0.753386        0.811944   \n",
       "1   1      5.949953e-01    8.039862e-01       0.753386        0.811944   \n",
       "2   2      5.949953e-01    8.039862e-01       0.753386        0.811944   \n",
       "3   3      5.949953e-01    8.039862e-01       0.753386        0.811944   \n",
       "4   4      5.949953e-01    8.039862e-01       0.753386        0.811944   \n",
       "\n",
       "   hla_high_res_10  hla_match_dqb1_high  hla_nmdp_6  hla_match_c_low  \\\n",
       "0     1.075758e-15             0.649272    0.755021         0.585379   \n",
       "1     8.374026e-01             0.649272    0.755021         0.585379   \n",
       "2     8.374026e-01             0.649272    0.755021         0.585379   \n",
       "3     8.374026e-01             0.649272    0.755021         0.585379   \n",
       "4     8.374026e-01             0.649272   -0.144184         0.585379   \n",
       "\n",
       "   hla_match_drb1_low  ...              gvhd_proph  rheum_issue  sex_match  \\\n",
       "0            0.661997  ...                 FKalone           No        M-F   \n",
       "1            0.661997  ...  Other GVHD Prophylaxis           No        F-F   \n",
       "2            0.661997  ...  Cyclophosphamide alone           No        F-M   \n",
       "3            0.661997  ...       FK+ MMF +- others           No        M-M   \n",
       "4            0.661997  ...     TDEPLETION +- other           No        M-F   \n",
       "\n",
       "                         race_group  hepatic_mild          tce_div_match  \\\n",
       "0                More than one race            No  Permissive mismatched   \n",
       "1                             Asian            No  Permissive mismatched   \n",
       "2                More than one race            No  Permissive mismatched   \n",
       "3                             White           Yes  Permissive mismatched   \n",
       "4  American Indian or Alaska Native            No  Permissive mismatched   \n",
       "\n",
       "   donor_related      melphalan_dose  cardiac  pulm_moderate  \n",
       "0      Unrelated  N/A, Mel not given       No             No  \n",
       "1        Related  N/A, Mel not given       No            Yes  \n",
       "2        Related  N/A, Mel not given       No             No  \n",
       "3      Unrelated  N/A, Mel not given       No             No  \n",
       "4        Related                 MEL       No             No  \n",
       "\n",
       "[5 rows x 62 columns]"
      ]
     },
     "execution_count": 12,
     "metadata": {},
     "output_type": "execute_result"
    }
   ],
   "source": [
    "data=pd.concat([id_data,number_data_scaled,cat_data],axis=1)\n",
    "data.head()"
   ]
  },
  {
   "cell_type": "code",
   "execution_count": 13,
   "id": "abb64d7c",
   "metadata": {
    "execution": {
     "iopub.execute_input": "2025-01-13T12:32:36.468196Z",
     "iopub.status.busy": "2025-01-13T12:32:36.467993Z",
     "iopub.status.idle": "2025-01-13T12:32:36.483570Z",
     "shell.execute_reply": "2025-01-13T12:32:36.482913Z"
    },
    "papermill": {
     "duration": 0.02402,
     "end_time": "2025-01-13T12:32:36.484915",
     "exception": false,
     "start_time": "2025-01-13T12:32:36.460895",
     "status": "completed"
    },
    "tags": []
   },
   "outputs": [
    {
     "data": {
      "text/html": [
       "<div>\n",
       "<style scoped>\n",
       "    .dataframe tbody tr th:only-of-type {\n",
       "        vertical-align: middle;\n",
       "    }\n",
       "\n",
       "    .dataframe tbody tr th {\n",
       "        vertical-align: top;\n",
       "    }\n",
       "\n",
       "    .dataframe thead th {\n",
       "        text-align: right;\n",
       "    }\n",
       "</style>\n",
       "<table border=\"1\" class=\"dataframe\">\n",
       "  <thead>\n",
       "    <tr style=\"text-align: right;\">\n",
       "      <th></th>\n",
       "      <th>ID</th>\n",
       "      <th>hla_match_c_high</th>\n",
       "      <th>hla_high_res_8</th>\n",
       "      <th>hla_low_res_6</th>\n",
       "      <th>hla_high_res_6</th>\n",
       "      <th>hla_high_res_10</th>\n",
       "      <th>hla_match_dqb1_high</th>\n",
       "      <th>hla_nmdp_6</th>\n",
       "      <th>hla_match_c_low</th>\n",
       "      <th>hla_match_drb1_low</th>\n",
       "      <th>...</th>\n",
       "      <th>gvhd_proph</th>\n",
       "      <th>rheum_issue</th>\n",
       "      <th>sex_match</th>\n",
       "      <th>race_group</th>\n",
       "      <th>hepatic_mild</th>\n",
       "      <th>tce_div_match</th>\n",
       "      <th>donor_related</th>\n",
       "      <th>melphalan_dose</th>\n",
       "      <th>cardiac</th>\n",
       "      <th>pulm_moderate</th>\n",
       "    </tr>\n",
       "  </thead>\n",
       "  <tbody>\n",
       "    <tr>\n",
       "      <th>0</th>\n",
       "      <td>28800</td>\n",
       "      <td>0.0</td>\n",
       "      <td>0.0</td>\n",
       "      <td>0.0</td>\n",
       "      <td>0.0</td>\n",
       "      <td>0.0</td>\n",
       "      <td>0.0</td>\n",
       "      <td>0.0</td>\n",
       "      <td>0.0</td>\n",
       "      <td>0.0</td>\n",
       "      <td>...</td>\n",
       "      <td>FKalone</td>\n",
       "      <td>No</td>\n",
       "      <td>M-F</td>\n",
       "      <td>More than one race</td>\n",
       "      <td>No</td>\n",
       "      <td>Permissive mismatched</td>\n",
       "      <td>Unrelated</td>\n",
       "      <td>N/A, Mel not given</td>\n",
       "      <td>No</td>\n",
       "      <td>No</td>\n",
       "    </tr>\n",
       "    <tr>\n",
       "      <th>1</th>\n",
       "      <td>28801</td>\n",
       "      <td>0.0</td>\n",
       "      <td>0.0</td>\n",
       "      <td>0.0</td>\n",
       "      <td>0.0</td>\n",
       "      <td>0.0</td>\n",
       "      <td>0.0</td>\n",
       "      <td>0.0</td>\n",
       "      <td>0.0</td>\n",
       "      <td>0.0</td>\n",
       "      <td>...</td>\n",
       "      <td>Other GVHD Prophylaxis</td>\n",
       "      <td>No</td>\n",
       "      <td>F-F</td>\n",
       "      <td>Asian</td>\n",
       "      <td>No</td>\n",
       "      <td>Permissive mismatched</td>\n",
       "      <td>Related</td>\n",
       "      <td>N/A, Mel not given</td>\n",
       "      <td>No</td>\n",
       "      <td>Yes</td>\n",
       "    </tr>\n",
       "    <tr>\n",
       "      <th>2</th>\n",
       "      <td>28802</td>\n",
       "      <td>0.0</td>\n",
       "      <td>0.0</td>\n",
       "      <td>0.0</td>\n",
       "      <td>0.0</td>\n",
       "      <td>0.0</td>\n",
       "      <td>0.0</td>\n",
       "      <td>0.0</td>\n",
       "      <td>0.0</td>\n",
       "      <td>0.0</td>\n",
       "      <td>...</td>\n",
       "      <td>Cyclophosphamide alone</td>\n",
       "      <td>No</td>\n",
       "      <td>F-M</td>\n",
       "      <td>More than one race</td>\n",
       "      <td>No</td>\n",
       "      <td>Permissive mismatched</td>\n",
       "      <td>Related</td>\n",
       "      <td>N/A, Mel not given</td>\n",
       "      <td>No</td>\n",
       "      <td>No</td>\n",
       "    </tr>\n",
       "  </tbody>\n",
       "</table>\n",
       "<p>3 rows × 60 columns</p>\n",
       "</div>"
      ],
      "text/plain": [
       "      ID  hla_match_c_high  hla_high_res_8  hla_low_res_6  hla_high_res_6  \\\n",
       "0  28800               0.0             0.0            0.0             0.0   \n",
       "1  28801               0.0             0.0            0.0             0.0   \n",
       "2  28802               0.0             0.0            0.0             0.0   \n",
       "\n",
       "   hla_high_res_10  hla_match_dqb1_high  hla_nmdp_6  hla_match_c_low  \\\n",
       "0              0.0                  0.0         0.0              0.0   \n",
       "1              0.0                  0.0         0.0              0.0   \n",
       "2              0.0                  0.0         0.0              0.0   \n",
       "\n",
       "   hla_match_drb1_low  ...              gvhd_proph  rheum_issue  sex_match  \\\n",
       "0                 0.0  ...                 FKalone           No        M-F   \n",
       "1                 0.0  ...  Other GVHD Prophylaxis           No        F-F   \n",
       "2                 0.0  ...  Cyclophosphamide alone           No        F-M   \n",
       "\n",
       "           race_group  hepatic_mild          tce_div_match  donor_related  \\\n",
       "0  More than one race            No  Permissive mismatched      Unrelated   \n",
       "1               Asian            No  Permissive mismatched        Related   \n",
       "2  More than one race            No  Permissive mismatched        Related   \n",
       "\n",
       "       melphalan_dose  cardiac  pulm_moderate  \n",
       "0  N/A, Mel not given       No             No  \n",
       "1  N/A, Mel not given       No            Yes  \n",
       "2  N/A, Mel not given       No             No  \n",
       "\n",
       "[3 rows x 60 columns]"
      ]
     },
     "execution_count": 13,
     "metadata": {},
     "output_type": "execute_result"
    }
   ],
   "source": [
    "test=pd.concat([id_test,number_test_scaled,cat_test],axis=1)\n",
    "test.head()"
   ]
  },
  {
   "cell_type": "markdown",
   "id": "d7c22e77",
   "metadata": {
    "papermill": {
     "duration": 0.006491,
     "end_time": "2025-01-13T12:32:36.498153",
     "exception": false,
     "start_time": "2025-01-13T12:32:36.491662",
     "status": "completed"
    },
    "tags": []
   },
   "source": [
    "# encoding"
   ]
  },
  {
   "cell_type": "code",
   "execution_count": 14,
   "id": "cc0e64ea",
   "metadata": {
    "execution": {
     "iopub.execute_input": "2025-01-13T12:32:36.512103Z",
     "iopub.status.busy": "2025-01-13T12:32:36.511902Z",
     "iopub.status.idle": "2025-01-13T12:32:36.516635Z",
     "shell.execute_reply": "2025-01-13T12:32:36.515983Z"
    },
    "papermill": {
     "duration": 0.012994,
     "end_time": "2025-01-13T12:32:36.517764",
     "exception": false,
     "start_time": "2025-01-13T12:32:36.504770",
     "status": "completed"
    },
    "tags": []
   },
   "outputs": [],
   "source": [
    "\n",
    "def label_encode_datasets(train_df, test_df, categ_fields):\n",
    "    train_encoded = data.copy()\n",
    "    test_encoded = test.copy()\n",
    "    le = LabelEncoder()\n",
    "    \n",
    "    for column in cat_data:\n",
    "        print(f'Encoding: {column} ...')\n",
    "        le.fit(train_encoded[column])\n",
    "        \n",
    "        train_encoded[column] = le.transform(train_encoded[column])\n",
    "        if column in test_encoded.columns:\n",
    "            test_encoded[column] = test_encoded[column].map(lambda s: le.transform([s])[0] if s in le.classes_ else None)\n",
    "            test_encoded[column].fillna(-1, inplace=True)\n",
    "            test_encoded[column] = test_encoded[column].astype(int)\n",
    "\n",
    "    return train_encoded, test_encoded\n",
    "\n"
   ]
  },
  {
   "cell_type": "code",
   "execution_count": 15,
   "id": "494dda2e",
   "metadata": {
    "execution": {
     "iopub.execute_input": "2025-01-13T12:32:36.531726Z",
     "iopub.status.busy": "2025-01-13T12:32:36.531527Z",
     "iopub.status.idle": "2025-01-13T12:32:36.557304Z",
     "shell.execute_reply": "2025-01-13T12:32:36.556714Z"
    },
    "papermill": {
     "duration": 0.03422,
     "end_time": "2025-01-13T12:32:36.558680",
     "exception": false,
     "start_time": "2025-01-13T12:32:36.524460",
     "status": "completed"
    },
    "tags": []
   },
   "outputs": [],
   "source": [
    "\n",
    "remove_variables = data[['ID', 'efs', 'efs_time']]\n",
    "features = [feat for feat in data if feat not in remove_variables]\n",
    "categorical_features = [feat for feat in data[features] if data[feat].dtype == 'object']\n",
    "numerical_features = [feat for feat in data[features] if feat not in categorical_features]\n"
   ]
  },
  {
   "cell_type": "code",
   "execution_count": 16,
   "id": "c50eaeee",
   "metadata": {
    "execution": {
     "iopub.execute_input": "2025-01-13T12:32:36.573098Z",
     "iopub.status.busy": "2025-01-13T12:32:36.572883Z",
     "iopub.status.idle": "2025-01-13T12:32:36.766463Z",
     "shell.execute_reply": "2025-01-13T12:32:36.765392Z"
    },
    "papermill": {
     "duration": 0.202169,
     "end_time": "2025-01-13T12:32:36.767900",
     "exception": false,
     "start_time": "2025-01-13T12:32:36.565731",
     "status": "completed"
    },
    "tags": []
   },
   "outputs": [
    {
     "name": "stdout",
     "output_type": "stream",
     "text": [
      "Encoding: dri_score ...\n",
      "Encoding: psych_disturb ...\n",
      "Encoding: cyto_score ...\n",
      "Encoding: diabetes ...\n",
      "Encoding: tbi_status ...\n",
      "Encoding: arrhythmia ...\n",
      "Encoding: graft_type ...\n",
      "Encoding: vent_hist ...\n",
      "Encoding: renal_issue ...\n",
      "Encoding: pulm_severe ...\n",
      "Encoding: prim_disease_hct ...\n",
      "Encoding: cmv_status ...\n",
      "Encoding: tce_imm_match ...\n",
      "Encoding: rituximab ...\n",
      "Encoding: prod_type ...\n",
      "Encoding: cyto_score_detail ...\n",
      "Encoding: conditioning_intensity ...\n",
      "Encoding: ethnicity ...\n",
      "Encoding: obesity ...\n",
      "Encoding: mrd_hct ...\n",
      "Encoding: in_vivo_tcd ...\n",
      "Encoding: tce_match ...\n",
      "Encoding: hepatic_severe ...\n",
      "Encoding: prior_tumor ...\n",
      "Encoding: peptic_ulcer ...\n",
      "Encoding: gvhd_proph ...\n",
      "Encoding: rheum_issue ...\n",
      "Encoding: sex_match ...\n",
      "Encoding: race_group ...\n",
      "Encoding: hepatic_mild ...\n",
      "Encoding: tce_div_match ...\n",
      "Encoding: donor_related ...\n",
      "Encoding: melphalan_dose ...\n",
      "Encoding: cardiac ...\n",
      "Encoding: pulm_moderate ...\n"
     ]
    }
   ],
   "source": [
    "trn_encoded, tst_encoded = label_encode_datasets(data, test, categorical_features)"
   ]
  },
  {
   "cell_type": "markdown",
   "id": "caceba5f",
   "metadata": {
    "papermill": {
     "duration": 0.0066,
     "end_time": "2025-01-13T12:32:36.782123",
     "exception": false,
     "start_time": "2025-01-13T12:32:36.775523",
     "status": "completed"
    },
    "tags": []
   },
   "source": [
    "# Model"
   ]
  },
  {
   "cell_type": "code",
   "execution_count": 17,
   "id": "a909632d",
   "metadata": {
    "execution": {
     "iopub.execute_input": "2025-01-13T12:32:36.796534Z",
     "iopub.status.busy": "2025-01-13T12:32:36.796267Z",
     "iopub.status.idle": "2025-01-13T12:32:36.800033Z",
     "shell.execute_reply": "2025-01-13T12:32:36.799417Z"
    },
    "papermill": {
     "duration": 0.012257,
     "end_time": "2025-01-13T12:32:36.801095",
     "exception": false,
     "start_time": "2025-01-13T12:32:36.788838",
     "status": "completed"
    },
    "tags": []
   },
   "outputs": [],
   "source": [
    "trn_encoded[\"efs\"]=trn_encoded[\"efs\"].abs()"
   ]
  },
  {
   "cell_type": "code",
   "execution_count": 18,
   "id": "72e32c03",
   "metadata": {
    "execution": {
     "iopub.execute_input": "2025-01-13T12:32:36.815069Z",
     "iopub.status.busy": "2025-01-13T12:32:36.814864Z",
     "iopub.status.idle": "2025-01-13T12:32:36.821212Z",
     "shell.execute_reply": "2025-01-13T12:32:36.820419Z"
    },
    "papermill": {
     "duration": 0.01474,
     "end_time": "2025-01-13T12:32:36.822510",
     "exception": false,
     "start_time": "2025-01-13T12:32:36.807770",
     "status": "completed"
    },
    "tags": []
   },
   "outputs": [
    {
     "name": "stdout",
     "output_type": "stream",
     "text": [
      "[1 0]\n"
     ]
    }
   ],
   "source": [
    "trn_encoded['efs'] = (trn_encoded['efs']).astype(int)\n",
    "\n",
    "print(trn_encoded['efs'].unique()) \n"
   ]
  },
  {
   "cell_type": "code",
   "execution_count": 19,
   "id": "1ec968f9",
   "metadata": {
    "execution": {
     "iopub.execute_input": "2025-01-13T12:32:36.837020Z",
     "iopub.status.busy": "2025-01-13T12:32:36.836818Z",
     "iopub.status.idle": "2025-01-13T12:32:36.841421Z",
     "shell.execute_reply": "2025-01-13T12:32:36.840633Z"
    },
    "papermill": {
     "duration": 0.013294,
     "end_time": "2025-01-13T12:32:36.842630",
     "exception": false,
     "start_time": "2025-01-13T12:32:36.829336",
     "status": "completed"
    },
    "tags": []
   },
   "outputs": [],
   "source": [
    "def train_random_survival_forest(df, time_col, event_col, feature_cols, n_estimators=100, random_state=42):\n",
    "\n",
    "    survival_data = Surv.from_dataframe(event=event_col, time=time_col, data=df)\n",
    "    X = df[feature_cols]\n",
    "\n",
    "    X_train, X_test, y_train, y_test = train_test_split(X, survival_data, test_size=0.3, random_state=random_state)\n",
    "\n",
    "    model = RandomSurvivalForest(\n",
    "        n_estimators=n_estimators,\n",
    "        random_state=random_state,\n",
    "        n_jobs=-1,\n",
    "        max_features='sqrt',\n",
    "        min_samples_leaf=3\n",
    "    )\n",
    "    model.fit(X_train, y_train)\n",
    "\n",
    "    score = model.score(X_test, y_test)\n",
    "    print('Score: ', score)\n",
    "\n",
    "    return model, X_train, X_test, y_train, y_test"
   ]
  },
  {
   "cell_type": "code",
   "execution_count": 20,
   "id": "481a1bdd",
   "metadata": {
    "execution": {
     "iopub.execute_input": "2025-01-13T12:32:36.856814Z",
     "iopub.status.busy": "2025-01-13T12:32:36.856589Z",
     "iopub.status.idle": "2025-01-13T12:33:33.667704Z",
     "shell.execute_reply": "2025-01-13T12:33:33.666607Z"
    },
    "papermill": {
     "duration": 56.826727,
     "end_time": "2025-01-13T12:33:33.676062",
     "exception": false,
     "start_time": "2025-01-13T12:32:36.849335",
     "status": "completed"
    },
    "tags": []
   },
   "outputs": [
    {
     "name": "stdout",
     "output_type": "stream",
     "text": [
      "Score:  0.8063339432223295\n"
     ]
    }
   ],
   "source": [
    "time_col = \"efs_time\"\n",
    "event_col = \"efs\"\n",
    "feature_cols = categorical_features + numerical_features\n",
    "\n",
    "model, X_train, X_test, y_train, y_test = train_random_survival_forest(trn_encoded, \n",
    "                                                                       time_col, \n",
    "                                                                       event_col, \n",
    "                                                                       feature_cols, \n",
    "                                                                       n_estimators=12)"
   ]
  },
  {
   "cell_type": "code",
   "execution_count": 21,
   "id": "baf46c60",
   "metadata": {
    "execution": {
     "iopub.execute_input": "2025-01-13T12:33:33.690863Z",
     "iopub.status.busy": "2025-01-13T12:33:33.690632Z",
     "iopub.status.idle": "2025-01-13T12:33:41.868792Z",
     "shell.execute_reply": "2025-01-13T12:33:41.868031Z"
    },
    "papermill": {
     "duration": 8.187052,
     "end_time": "2025-01-13T12:33:41.870150",
     "exception": false,
     "start_time": "2025-01-13T12:33:33.683098",
     "status": "completed"
    },
    "tags": []
   },
   "outputs": [
    {
     "data": {
      "text/plain": [
       "array([ 6853.5160194 ,  2063.98888889, 16485.22175735, ...,\n",
       "        8135.27777778,  7360.79166667, 10422.8375    ])"
      ]
     },
     "execution_count": 21,
     "metadata": {},
     "output_type": "execute_result"
    }
   ],
   "source": [
    "\n",
    "predictions_train = model.predict(trn_encoded[feature_cols])\n",
    "\n",
    "predictions_train\n",
    "\n"
   ]
  },
  {
   "cell_type": "code",
   "execution_count": 22,
   "id": "ad332981",
   "metadata": {
    "execution": {
     "iopub.execute_input": "2025-01-13T12:33:41.885507Z",
     "iopub.status.busy": "2025-01-13T12:33:41.885261Z",
     "iopub.status.idle": "2025-01-13T12:33:41.906546Z",
     "shell.execute_reply": "2025-01-13T12:33:41.905896Z"
    },
    "papermill": {
     "duration": 0.029997,
     "end_time": "2025-01-13T12:33:41.907781",
     "exception": false,
     "start_time": "2025-01-13T12:33:41.877784",
     "status": "completed"
    },
    "tags": []
   },
   "outputs": [
    {
     "data": {
      "text/plain": [
       "array([ 6441.59702381,  3048.10138889, 12768.09543651])"
      ]
     },
     "execution_count": 22,
     "metadata": {},
     "output_type": "execute_result"
    }
   ],
   "source": [
    "\n",
    "predictions_test = model.predict(tst_encoded[feature_cols])\n",
    "\n",
    "predictions_test\n",
    "\n"
   ]
  },
  {
   "cell_type": "code",
   "execution_count": 23,
   "id": "101697e3",
   "metadata": {
    "execution": {
     "iopub.execute_input": "2025-01-13T12:33:41.922811Z",
     "iopub.status.busy": "2025-01-13T12:33:41.922579Z",
     "iopub.status.idle": "2025-01-13T12:33:47.061902Z",
     "shell.execute_reply": "2025-01-13T12:33:47.060838Z"
    },
    "papermill": {
     "duration": 5.148192,
     "end_time": "2025-01-13T12:33:47.063280",
     "exception": false,
     "start_time": "2025-01-13T12:33:41.915088",
     "status": "completed"
    },
    "tags": []
   },
   "outputs": [
    {
     "name": "stdout",
     "output_type": "stream",
     "text": [
      "Model Score (Internal): 0.8063339432223295\n",
      "C-index (Test Data): 0.8063339432223295\n"
     ]
    }
   ],
   "source": [
    "from sksurv.metrics import concordance_index_censored\n",
    "predictions = model.predict(X_test)\n",
    "c_index = concordance_index_censored(\n",
    "        y_test[\"efs\"], y_test[\"efs_time\"], predictions\n",
    "    )[0]\n",
    "print(f\"Model Score (Internal): {model.score(X_test, y_test)}\")\n",
    "print(f\"C-index (Test Data): {c_index}\")\n"
   ]
  },
  {
   "cell_type": "markdown",
   "id": "3e7fa0c2",
   "metadata": {
    "papermill": {
     "duration": 0.007226,
     "end_time": "2025-01-13T12:33:47.078319",
     "exception": false,
     "start_time": "2025-01-13T12:33:47.071093",
     "status": "completed"
    },
    "tags": []
   },
   "source": [
    "# sub"
   ]
  },
  {
   "cell_type": "code",
   "execution_count": 24,
   "id": "ea30a23e",
   "metadata": {
    "execution": {
     "iopub.execute_input": "2025-01-13T12:33:47.093145Z",
     "iopub.status.busy": "2025-01-13T12:33:47.092905Z",
     "iopub.status.idle": "2025-01-13T12:33:47.096126Z",
     "shell.execute_reply": "2025-01-13T12:33:47.095526Z"
    },
    "papermill": {
     "duration": 0.012059,
     "end_time": "2025-01-13T12:33:47.097323",
     "exception": false,
     "start_time": "2025-01-13T12:33:47.085264",
     "status": "completed"
    },
    "tags": []
   },
   "outputs": [],
   "source": [
    "predictions_test = predictions_test[:len(test['ID'])]\n"
   ]
  },
  {
   "cell_type": "code",
   "execution_count": 25,
   "id": "e18bc3f2",
   "metadata": {
    "execution": {
     "iopub.execute_input": "2025-01-13T12:33:47.112285Z",
     "iopub.status.busy": "2025-01-13T12:33:47.112076Z",
     "iopub.status.idle": "2025-01-13T12:33:47.118462Z",
     "shell.execute_reply": "2025-01-13T12:33:47.117685Z"
    },
    "papermill": {
     "duration": 0.015275,
     "end_time": "2025-01-13T12:33:47.119676",
     "exception": false,
     "start_time": "2025-01-13T12:33:47.104401",
     "status": "completed"
    },
    "tags": []
   },
   "outputs": [],
   "source": [
    "# Save Test Predictions\n",
    "test_results = pd.DataFrame({\n",
    "    'ID': test['ID'],  \n",
    "    'prediction': predictions_test\n",
    "})\n",
    "\n",
    "test_results.to_csv('submission.csv', index=False)"
   ]
  },
  {
   "cell_type": "code",
   "execution_count": 26,
   "id": "34e7970c",
   "metadata": {
    "execution": {
     "iopub.execute_input": "2025-01-13T12:33:47.134190Z",
     "iopub.status.busy": "2025-01-13T12:33:47.133962Z",
     "iopub.status.idle": "2025-01-13T12:33:47.140119Z",
     "shell.execute_reply": "2025-01-13T12:33:47.139517Z"
    },
    "papermill": {
     "duration": 0.014711,
     "end_time": "2025-01-13T12:33:47.141327",
     "exception": false,
     "start_time": "2025-01-13T12:33:47.126616",
     "status": "completed"
    },
    "tags": []
   },
   "outputs": [
    {
     "data": {
      "text/html": [
       "<div>\n",
       "<style scoped>\n",
       "    .dataframe tbody tr th:only-of-type {\n",
       "        vertical-align: middle;\n",
       "    }\n",
       "\n",
       "    .dataframe tbody tr th {\n",
       "        vertical-align: top;\n",
       "    }\n",
       "\n",
       "    .dataframe thead th {\n",
       "        text-align: right;\n",
       "    }\n",
       "</style>\n",
       "<table border=\"1\" class=\"dataframe\">\n",
       "  <thead>\n",
       "    <tr style=\"text-align: right;\">\n",
       "      <th></th>\n",
       "      <th>ID</th>\n",
       "      <th>prediction</th>\n",
       "    </tr>\n",
       "  </thead>\n",
       "  <tbody>\n",
       "    <tr>\n",
       "      <th>0</th>\n",
       "      <td>28800</td>\n",
       "      <td>6441.597024</td>\n",
       "    </tr>\n",
       "    <tr>\n",
       "      <th>1</th>\n",
       "      <td>28801</td>\n",
       "      <td>3048.101389</td>\n",
       "    </tr>\n",
       "    <tr>\n",
       "      <th>2</th>\n",
       "      <td>28802</td>\n",
       "      <td>12768.095437</td>\n",
       "    </tr>\n",
       "  </tbody>\n",
       "</table>\n",
       "</div>"
      ],
      "text/plain": [
       "      ID    prediction\n",
       "0  28800   6441.597024\n",
       "1  28801   3048.101389\n",
       "2  28802  12768.095437"
      ]
     },
     "execution_count": 26,
     "metadata": {},
     "output_type": "execute_result"
    }
   ],
   "source": [
    "test_results"
   ]
  }
 ],
 "metadata": {
  "kaggle": {
   "accelerator": "gpu",
   "dataSources": [
    {
     "databundleVersionId": 10381525,
     "sourceId": 70942,
     "sourceType": "competition"
    },
    {
     "sourceId": 215079377,
     "sourceType": "kernelVersion"
    }
   ],
   "dockerImageVersionId": 30822,
   "isGpuEnabled": true,
   "isInternetEnabled": false,
   "language": "python",
   "sourceType": "notebook"
  },
  "kernelspec": {
   "display_name": "Python 3",
   "language": "python",
   "name": "python3"
  },
  "language_info": {
   "codemirror_mode": {
    "name": "ipython",
    "version": 3
   },
   "file_extension": ".py",
   "mimetype": "text/x-python",
   "name": "python",
   "nbconvert_exporter": "python",
   "pygments_lexer": "ipython3",
   "version": "3.10.12"
  },
  "papermill": {
   "default_parameters": {},
   "duration": 99.536234,
   "end_time": "2025-01-13T12:33:48.468401",
   "environment_variables": {},
   "exception": null,
   "input_path": "__notebook__.ipynb",
   "output_path": "__notebook__.ipynb",
   "parameters": {},
   "start_time": "2025-01-13T12:32:08.932167",
   "version": "2.6.0"
  }
 },
 "nbformat": 4,
 "nbformat_minor": 5
}
