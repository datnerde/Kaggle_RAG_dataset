{
 "cells": [
  {
   "cell_type": "code",
   "execution_count": 1,
   "id": "88f4d13f",
   "metadata": {
    "_cell_guid": "b1076dfc-b9ad-4769-8c92-a6c4dae69d19",
    "_uuid": "8f2839f25d086af736a60e9eeb907d3b93b6e0e5",
    "execution": {
     "iopub.execute_input": "2025-02-24T08:31:28.985106Z",
     "iopub.status.busy": "2025-02-24T08:31:28.984758Z",
     "iopub.status.idle": "2025-02-24T08:31:29.943081Z",
     "shell.execute_reply": "2025-02-24T08:31:29.942060Z"
    },
    "papermill": {
     "duration": 0.9661,
     "end_time": "2025-02-24T08:31:29.944590",
     "exception": false,
     "start_time": "2025-02-24T08:31:28.978490",
     "status": "completed"
    },
    "tags": []
   },
   "outputs": [
    {
     "name": "stdout",
     "output_type": "stream",
     "text": [
      "/kaggle/input/equity-post-HCT-survival-predictions/sample_submission.csv\n",
      "/kaggle/input/equity-post-HCT-survival-predictions/data_dictionary.csv\n",
      "/kaggle/input/equity-post-HCT-survival-predictions/train.csv\n",
      "/kaggle/input/equity-post-HCT-survival-predictions/test.csv\n"
     ]
    }
   ],
   "source": [
    "# This Python 3 environment comes with many helpful analytics libraries installed\n",
    "# It is defined by the kaggle/python Docker image: https://github.com/kaggle/docker-python\n",
    "# For example, here's several helpful packages to load\n",
    "\n",
    "import numpy as np # linear algebra\n",
    "import pandas as pd # data processing, CSV file I/O (e.g. pd.read_csv)\n",
    "\n",
    "# Input data files are available in the read-only \"../input/\" directory\n",
    "# For example, running this (by clicking run or pressing Shift+Enter) will list all files under the input directory\n",
    "\n",
    "import os\n",
    "for dirname, _, filenames in os.walk('/kaggle/input'):\n",
    "    for filename in filenames:\n",
    "        print(os.path.join(dirname, filename))\n",
    "\n",
    "# You can write up to 20GB to the current directory (/kaggle/working/) that gets preserved as output when you create a version using \"Save & Run All\" \n",
    "# You can also write temporary files to /kaggle/temp/, but they won't be saved outside of the current session"
   ]
  },
  {
   "cell_type": "code",
   "execution_count": 2,
   "id": "04e75740",
   "metadata": {
    "execution": {
     "iopub.execute_input": "2025-02-24T08:31:29.953573Z",
     "iopub.status.busy": "2025-02-24T08:31:29.953149Z",
     "iopub.status.idle": "2025-02-24T08:31:29.959566Z",
     "shell.execute_reply": "2025-02-24T08:31:29.958765Z"
    },
    "papermill": {
     "duration": 0.012262,
     "end_time": "2025-02-24T08:31:29.961019",
     "exception": false,
     "start_time": "2025-02-24T08:31:29.948757",
     "status": "completed"
    },
    "tags": []
   },
   "outputs": [
    {
     "name": "stdout",
     "output_type": "stream",
     "text": [
      "/kaggle/input/equity-post-HCT-survival-predictions/sample_submission.csv\n",
      "/kaggle/input/equity-post-HCT-survival-predictions/data_dictionary.csv\n",
      "/kaggle/input/equity-post-HCT-survival-predictions/train.csv\n",
      "/kaggle/input/equity-post-HCT-survival-predictions/test.csv\n"
     ]
    }
   ],
   "source": [
    "\n",
    "import numpy as np\n",
    "import pandas as pd\n",
    "import os\n",
    "\n",
    "\n",
    "for dirname, _, filenames in os.walk('/kaggle/input'):\n",
    "    for filename in filenames:\n",
    "        print(os.path.join(dirname, filename))\n"
   ]
  },
  {
   "cell_type": "code",
   "execution_count": 3,
   "id": "f66c9677",
   "metadata": {
    "execution": {
     "iopub.execute_input": "2025-02-24T08:31:29.969642Z",
     "iopub.status.busy": "2025-02-24T08:31:29.969352Z",
     "iopub.status.idle": "2025-02-24T08:31:30.396930Z",
     "shell.execute_reply": "2025-02-24T08:31:30.395838Z"
    },
    "papermill": {
     "duration": 0.433568,
     "end_time": "2025-02-24T08:31:30.398463",
     "exception": false,
     "start_time": "2025-02-24T08:31:29.964895",
     "status": "completed"
    },
    "tags": []
   },
   "outputs": [
    {
     "name": "stdout",
     "output_type": "stream",
     "text": [
      "Train Data Shape: (28800, 60)\n",
      "Test Data Shape: (3, 58)\n",
      "Sample Submission Shape: (3, 2)\n"
     ]
    }
   ],
   "source": [
    "\n",
    "train_path = \"/kaggle/input/equity-post-HCT-survival-predictions/train.csv\"\n",
    "test_path = \"/kaggle/input/equity-post-HCT-survival-predictions/test.csv\"\n",
    "submission_path = \"/kaggle/input/equity-post-HCT-survival-predictions/sample_submission.csv\"\n",
    "\n",
    "\n",
    "train_df = pd.read_csv(train_path)\n",
    "test_df = pd.read_csv(test_path)\n",
    "submission_df = pd.read_csv(submission_path)\n",
    "\n",
    "\n",
    "print(\"Train Data Shape:\", train_df.shape)\n",
    "print(\"Test Data Shape:\", test_df.shape)\n",
    "print(\"Sample Submission Shape:\", submission_df.shape)\n"
   ]
  },
  {
   "cell_type": "code",
   "execution_count": 4,
   "id": "2c1a3f4a",
   "metadata": {
    "execution": {
     "iopub.execute_input": "2025-02-24T08:31:30.406937Z",
     "iopub.status.busy": "2025-02-24T08:31:30.406581Z",
     "iopub.status.idle": "2025-02-24T08:31:30.546536Z",
     "shell.execute_reply": "2025-02-24T08:31:30.545393Z"
    },
    "papermill": {
     "duration": 0.146107,
     "end_time": "2025-02-24T08:31:30.548389",
     "exception": false,
     "start_time": "2025-02-24T08:31:30.402282",
     "status": "completed"
    },
    "tags": []
   },
   "outputs": [
    {
     "name": "stdout",
     "output_type": "stream",
     "text": [
      "Train Data Preview:\n"
     ]
    },
    {
     "name": "stderr",
     "output_type": "stream",
     "text": [
      "/usr/local/lib/python3.10/dist-packages/pandas/io/formats/format.py:1458: RuntimeWarning: invalid value encountered in greater\n",
      "  has_large_values = (abs_vals > 1e6).any()\n",
      "/usr/local/lib/python3.10/dist-packages/pandas/io/formats/format.py:1459: RuntimeWarning: invalid value encountered in less\n",
      "  has_small_values = ((abs_vals < 10 ** (-self.digits)) & (abs_vals > 0)).any()\n",
      "/usr/local/lib/python3.10/dist-packages/pandas/io/formats/format.py:1459: RuntimeWarning: invalid value encountered in greater\n",
      "  has_small_values = ((abs_vals < 10 ** (-self.digits)) & (abs_vals > 0)).any()\n",
      "/usr/local/lib/python3.10/dist-packages/pandas/io/formats/format.py:1458: RuntimeWarning: invalid value encountered in greater\n",
      "  has_large_values = (abs_vals > 1e6).any()\n",
      "/usr/local/lib/python3.10/dist-packages/pandas/io/formats/format.py:1459: RuntimeWarning: invalid value encountered in less\n",
      "  has_small_values = ((abs_vals < 10 ** (-self.digits)) & (abs_vals > 0)).any()\n",
      "/usr/local/lib/python3.10/dist-packages/pandas/io/formats/format.py:1459: RuntimeWarning: invalid value encountered in greater\n",
      "  has_small_values = ((abs_vals < 10 ** (-self.digits)) & (abs_vals > 0)).any()\n"
     ]
    },
    {
     "data": {
      "text/html": [
       "<div>\n",
       "<style scoped>\n",
       "    .dataframe tbody tr th:only-of-type {\n",
       "        vertical-align: middle;\n",
       "    }\n",
       "\n",
       "    .dataframe tbody tr th {\n",
       "        vertical-align: top;\n",
       "    }\n",
       "\n",
       "    .dataframe thead th {\n",
       "        text-align: right;\n",
       "    }\n",
       "</style>\n",
       "<table border=\"1\" class=\"dataframe\">\n",
       "  <thead>\n",
       "    <tr style=\"text-align: right;\">\n",
       "      <th></th>\n",
       "      <th>ID</th>\n",
       "      <th>dri_score</th>\n",
       "      <th>psych_disturb</th>\n",
       "      <th>cyto_score</th>\n",
       "      <th>diabetes</th>\n",
       "      <th>hla_match_c_high</th>\n",
       "      <th>hla_high_res_8</th>\n",
       "      <th>tbi_status</th>\n",
       "      <th>arrhythmia</th>\n",
       "      <th>hla_low_res_6</th>\n",
       "      <th>...</th>\n",
       "      <th>tce_div_match</th>\n",
       "      <th>donor_related</th>\n",
       "      <th>melphalan_dose</th>\n",
       "      <th>hla_low_res_8</th>\n",
       "      <th>cardiac</th>\n",
       "      <th>hla_match_drb1_high</th>\n",
       "      <th>pulm_moderate</th>\n",
       "      <th>hla_low_res_10</th>\n",
       "      <th>efs</th>\n",
       "      <th>efs_time</th>\n",
       "    </tr>\n",
       "  </thead>\n",
       "  <tbody>\n",
       "    <tr>\n",
       "      <th>0</th>\n",
       "      <td>0</td>\n",
       "      <td>N/A - non-malignant indication</td>\n",
       "      <td>No</td>\n",
       "      <td>NaN</td>\n",
       "      <td>No</td>\n",
       "      <td>NaN</td>\n",
       "      <td>NaN</td>\n",
       "      <td>No TBI</td>\n",
       "      <td>No</td>\n",
       "      <td>6.0</td>\n",
       "      <td>...</td>\n",
       "      <td>NaN</td>\n",
       "      <td>Unrelated</td>\n",
       "      <td>N/A, Mel not given</td>\n",
       "      <td>8.0</td>\n",
       "      <td>No</td>\n",
       "      <td>2.0</td>\n",
       "      <td>No</td>\n",
       "      <td>10.0</td>\n",
       "      <td>0.0</td>\n",
       "      <td>42.356</td>\n",
       "    </tr>\n",
       "    <tr>\n",
       "      <th>1</th>\n",
       "      <td>1</td>\n",
       "      <td>Intermediate</td>\n",
       "      <td>No</td>\n",
       "      <td>Intermediate</td>\n",
       "      <td>No</td>\n",
       "      <td>2.0</td>\n",
       "      <td>8.0</td>\n",
       "      <td>TBI +- Other, &gt;cGy</td>\n",
       "      <td>No</td>\n",
       "      <td>6.0</td>\n",
       "      <td>...</td>\n",
       "      <td>Permissive mismatched</td>\n",
       "      <td>Related</td>\n",
       "      <td>N/A, Mel not given</td>\n",
       "      <td>8.0</td>\n",
       "      <td>No</td>\n",
       "      <td>2.0</td>\n",
       "      <td>Yes</td>\n",
       "      <td>10.0</td>\n",
       "      <td>1.0</td>\n",
       "      <td>4.672</td>\n",
       "    </tr>\n",
       "    <tr>\n",
       "      <th>2</th>\n",
       "      <td>2</td>\n",
       "      <td>N/A - non-malignant indication</td>\n",
       "      <td>No</td>\n",
       "      <td>NaN</td>\n",
       "      <td>No</td>\n",
       "      <td>2.0</td>\n",
       "      <td>8.0</td>\n",
       "      <td>No TBI</td>\n",
       "      <td>No</td>\n",
       "      <td>6.0</td>\n",
       "      <td>...</td>\n",
       "      <td>Permissive mismatched</td>\n",
       "      <td>Related</td>\n",
       "      <td>N/A, Mel not given</td>\n",
       "      <td>8.0</td>\n",
       "      <td>No</td>\n",
       "      <td>2.0</td>\n",
       "      <td>No</td>\n",
       "      <td>10.0</td>\n",
       "      <td>0.0</td>\n",
       "      <td>19.793</td>\n",
       "    </tr>\n",
       "    <tr>\n",
       "      <th>3</th>\n",
       "      <td>3</td>\n",
       "      <td>High</td>\n",
       "      <td>No</td>\n",
       "      <td>Intermediate</td>\n",
       "      <td>No</td>\n",
       "      <td>2.0</td>\n",
       "      <td>8.0</td>\n",
       "      <td>No TBI</td>\n",
       "      <td>No</td>\n",
       "      <td>6.0</td>\n",
       "      <td>...</td>\n",
       "      <td>Permissive mismatched</td>\n",
       "      <td>Unrelated</td>\n",
       "      <td>N/A, Mel not given</td>\n",
       "      <td>8.0</td>\n",
       "      <td>No</td>\n",
       "      <td>2.0</td>\n",
       "      <td>No</td>\n",
       "      <td>10.0</td>\n",
       "      <td>0.0</td>\n",
       "      <td>102.349</td>\n",
       "    </tr>\n",
       "    <tr>\n",
       "      <th>4</th>\n",
       "      <td>4</td>\n",
       "      <td>High</td>\n",
       "      <td>No</td>\n",
       "      <td>NaN</td>\n",
       "      <td>No</td>\n",
       "      <td>2.0</td>\n",
       "      <td>8.0</td>\n",
       "      <td>No TBI</td>\n",
       "      <td>No</td>\n",
       "      <td>6.0</td>\n",
       "      <td>...</td>\n",
       "      <td>Permissive mismatched</td>\n",
       "      <td>Related</td>\n",
       "      <td>MEL</td>\n",
       "      <td>8.0</td>\n",
       "      <td>No</td>\n",
       "      <td>2.0</td>\n",
       "      <td>No</td>\n",
       "      <td>10.0</td>\n",
       "      <td>0.0</td>\n",
       "      <td>16.223</td>\n",
       "    </tr>\n",
       "  </tbody>\n",
       "</table>\n",
       "<p>5 rows × 60 columns</p>\n",
       "</div>"
      ],
      "text/plain": [
       "   ID                       dri_score psych_disturb    cyto_score diabetes  \\\n",
       "0   0  N/A - non-malignant indication            No           NaN       No   \n",
       "1   1                    Intermediate            No  Intermediate       No   \n",
       "2   2  N/A - non-malignant indication            No           NaN       No   \n",
       "3   3                            High            No  Intermediate       No   \n",
       "4   4                            High            No           NaN       No   \n",
       "\n",
       "   hla_match_c_high  hla_high_res_8          tbi_status arrhythmia  \\\n",
       "0               NaN             NaN              No TBI         No   \n",
       "1               2.0             8.0  TBI +- Other, >cGy         No   \n",
       "2               2.0             8.0              No TBI         No   \n",
       "3               2.0             8.0              No TBI         No   \n",
       "4               2.0             8.0              No TBI         No   \n",
       "\n",
       "   hla_low_res_6  ...          tce_div_match donor_related  \\\n",
       "0            6.0  ...                    NaN     Unrelated   \n",
       "1            6.0  ...  Permissive mismatched       Related   \n",
       "2            6.0  ...  Permissive mismatched       Related   \n",
       "3            6.0  ...  Permissive mismatched     Unrelated   \n",
       "4            6.0  ...  Permissive mismatched       Related   \n",
       "\n",
       "       melphalan_dose hla_low_res_8 cardiac  hla_match_drb1_high  \\\n",
       "0  N/A, Mel not given           8.0      No                  2.0   \n",
       "1  N/A, Mel not given           8.0      No                  2.0   \n",
       "2  N/A, Mel not given           8.0      No                  2.0   \n",
       "3  N/A, Mel not given           8.0      No                  2.0   \n",
       "4                 MEL           8.0      No                  2.0   \n",
       "\n",
       "  pulm_moderate  hla_low_res_10  efs efs_time  \n",
       "0            No            10.0  0.0   42.356  \n",
       "1           Yes            10.0  1.0    4.672  \n",
       "2            No            10.0  0.0   19.793  \n",
       "3            No            10.0  0.0  102.349  \n",
       "4            No            10.0  0.0   16.223  \n",
       "\n",
       "[5 rows x 60 columns]"
      ]
     },
     "metadata": {},
     "output_type": "display_data"
    },
    {
     "name": "stdout",
     "output_type": "stream",
     "text": [
      "\n",
      "Test Data Preview:\n"
     ]
    },
    {
     "name": "stderr",
     "output_type": "stream",
     "text": [
      "/usr/local/lib/python3.10/dist-packages/pandas/io/formats/format.py:1458: RuntimeWarning: invalid value encountered in greater\n",
      "  has_large_values = (abs_vals > 1e6).any()\n",
      "/usr/local/lib/python3.10/dist-packages/pandas/io/formats/format.py:1459: RuntimeWarning: invalid value encountered in less\n",
      "  has_small_values = ((abs_vals < 10 ** (-self.digits)) & (abs_vals > 0)).any()\n",
      "/usr/local/lib/python3.10/dist-packages/pandas/io/formats/format.py:1459: RuntimeWarning: invalid value encountered in greater\n",
      "  has_small_values = ((abs_vals < 10 ** (-self.digits)) & (abs_vals > 0)).any()\n",
      "/usr/local/lib/python3.10/dist-packages/pandas/io/formats/format.py:1458: RuntimeWarning: invalid value encountered in greater\n",
      "  has_large_values = (abs_vals > 1e6).any()\n",
      "/usr/local/lib/python3.10/dist-packages/pandas/io/formats/format.py:1459: RuntimeWarning: invalid value encountered in less\n",
      "  has_small_values = ((abs_vals < 10 ** (-self.digits)) & (abs_vals > 0)).any()\n",
      "/usr/local/lib/python3.10/dist-packages/pandas/io/formats/format.py:1459: RuntimeWarning: invalid value encountered in greater\n",
      "  has_small_values = ((abs_vals < 10 ** (-self.digits)) & (abs_vals > 0)).any()\n"
     ]
    },
    {
     "data": {
      "text/html": [
       "<div>\n",
       "<style scoped>\n",
       "    .dataframe tbody tr th:only-of-type {\n",
       "        vertical-align: middle;\n",
       "    }\n",
       "\n",
       "    .dataframe tbody tr th {\n",
       "        vertical-align: top;\n",
       "    }\n",
       "\n",
       "    .dataframe thead th {\n",
       "        text-align: right;\n",
       "    }\n",
       "</style>\n",
       "<table border=\"1\" class=\"dataframe\">\n",
       "  <thead>\n",
       "    <tr style=\"text-align: right;\">\n",
       "      <th></th>\n",
       "      <th>ID</th>\n",
       "      <th>dri_score</th>\n",
       "      <th>psych_disturb</th>\n",
       "      <th>cyto_score</th>\n",
       "      <th>diabetes</th>\n",
       "      <th>hla_match_c_high</th>\n",
       "      <th>hla_high_res_8</th>\n",
       "      <th>tbi_status</th>\n",
       "      <th>arrhythmia</th>\n",
       "      <th>hla_low_res_6</th>\n",
       "      <th>...</th>\n",
       "      <th>karnofsky_score</th>\n",
       "      <th>hepatic_mild</th>\n",
       "      <th>tce_div_match</th>\n",
       "      <th>donor_related</th>\n",
       "      <th>melphalan_dose</th>\n",
       "      <th>hla_low_res_8</th>\n",
       "      <th>cardiac</th>\n",
       "      <th>hla_match_drb1_high</th>\n",
       "      <th>pulm_moderate</th>\n",
       "      <th>hla_low_res_10</th>\n",
       "    </tr>\n",
       "  </thead>\n",
       "  <tbody>\n",
       "    <tr>\n",
       "      <th>0</th>\n",
       "      <td>28800</td>\n",
       "      <td>N/A - non-malignant indication</td>\n",
       "      <td>No</td>\n",
       "      <td>NaN</td>\n",
       "      <td>No</td>\n",
       "      <td>NaN</td>\n",
       "      <td>NaN</td>\n",
       "      <td>No TBI</td>\n",
       "      <td>No</td>\n",
       "      <td>6.0</td>\n",
       "      <td>...</td>\n",
       "      <td>90.0</td>\n",
       "      <td>No</td>\n",
       "      <td>NaN</td>\n",
       "      <td>Unrelated</td>\n",
       "      <td>N/A, Mel not given</td>\n",
       "      <td>8.0</td>\n",
       "      <td>No</td>\n",
       "      <td>2.0</td>\n",
       "      <td>No</td>\n",
       "      <td>10.0</td>\n",
       "    </tr>\n",
       "    <tr>\n",
       "      <th>1</th>\n",
       "      <td>28801</td>\n",
       "      <td>Intermediate</td>\n",
       "      <td>No</td>\n",
       "      <td>Intermediate</td>\n",
       "      <td>No</td>\n",
       "      <td>2.0</td>\n",
       "      <td>8.0</td>\n",
       "      <td>TBI +- Other, &gt;cGy</td>\n",
       "      <td>No</td>\n",
       "      <td>6.0</td>\n",
       "      <td>...</td>\n",
       "      <td>90.0</td>\n",
       "      <td>No</td>\n",
       "      <td>Permissive mismatched</td>\n",
       "      <td>Related</td>\n",
       "      <td>N/A, Mel not given</td>\n",
       "      <td>8.0</td>\n",
       "      <td>No</td>\n",
       "      <td>2.0</td>\n",
       "      <td>Yes</td>\n",
       "      <td>10.0</td>\n",
       "    </tr>\n",
       "    <tr>\n",
       "      <th>2</th>\n",
       "      <td>28802</td>\n",
       "      <td>N/A - non-malignant indication</td>\n",
       "      <td>No</td>\n",
       "      <td>NaN</td>\n",
       "      <td>No</td>\n",
       "      <td>2.0</td>\n",
       "      <td>8.0</td>\n",
       "      <td>No TBI</td>\n",
       "      <td>No</td>\n",
       "      <td>6.0</td>\n",
       "      <td>...</td>\n",
       "      <td>90.0</td>\n",
       "      <td>No</td>\n",
       "      <td>Permissive mismatched</td>\n",
       "      <td>Related</td>\n",
       "      <td>N/A, Mel not given</td>\n",
       "      <td>8.0</td>\n",
       "      <td>No</td>\n",
       "      <td>2.0</td>\n",
       "      <td>No</td>\n",
       "      <td>10.0</td>\n",
       "    </tr>\n",
       "  </tbody>\n",
       "</table>\n",
       "<p>3 rows × 58 columns</p>\n",
       "</div>"
      ],
      "text/plain": [
       "      ID                       dri_score psych_disturb    cyto_score diabetes  \\\n",
       "0  28800  N/A - non-malignant indication            No           NaN       No   \n",
       "1  28801                    Intermediate            No  Intermediate       No   \n",
       "2  28802  N/A - non-malignant indication            No           NaN       No   \n",
       "\n",
       "   hla_match_c_high  hla_high_res_8          tbi_status arrhythmia  \\\n",
       "0               NaN             NaN              No TBI         No   \n",
       "1               2.0             8.0  TBI +- Other, >cGy         No   \n",
       "2               2.0             8.0              No TBI         No   \n",
       "\n",
       "   hla_low_res_6  ... karnofsky_score hepatic_mild          tce_div_match  \\\n",
       "0            6.0  ...            90.0           No                    NaN   \n",
       "1            6.0  ...            90.0           No  Permissive mismatched   \n",
       "2            6.0  ...            90.0           No  Permissive mismatched   \n",
       "\n",
       "  donor_related      melphalan_dose  hla_low_res_8 cardiac  \\\n",
       "0     Unrelated  N/A, Mel not given            8.0      No   \n",
       "1       Related  N/A, Mel not given            8.0      No   \n",
       "2       Related  N/A, Mel not given            8.0      No   \n",
       "\n",
       "   hla_match_drb1_high  pulm_moderate hla_low_res_10  \n",
       "0                  2.0             No           10.0  \n",
       "1                  2.0            Yes           10.0  \n",
       "2                  2.0             No           10.0  \n",
       "\n",
       "[3 rows x 58 columns]"
      ]
     },
     "metadata": {},
     "output_type": "display_data"
    },
    {
     "name": "stdout",
     "output_type": "stream",
     "text": [
      "\n",
      "Train Data Info:\n",
      "<class 'pandas.core.frame.DataFrame'>\n",
      "RangeIndex: 28800 entries, 0 to 28799\n",
      "Data columns (total 60 columns):\n",
      " #   Column                  Non-Null Count  Dtype  \n",
      "---  ------                  --------------  -----  \n",
      " 0   ID                      28800 non-null  int64  \n",
      " 1   dri_score               28646 non-null  object \n",
      " 2   psych_disturb           26738 non-null  object \n",
      " 3   cyto_score              20732 non-null  object \n",
      " 4   diabetes                26681 non-null  object \n",
      " 5   hla_match_c_high        24180 non-null  float64\n",
      " 6   hla_high_res_8          22971 non-null  float64\n",
      " 7   tbi_status              28800 non-null  object \n",
      " 8   arrhythmia              26598 non-null  object \n",
      " 9   hla_low_res_6           25530 non-null  float64\n",
      " 10  graft_type              28800 non-null  object \n",
      " 11  vent_hist               28541 non-null  object \n",
      " 12  renal_issue             26885 non-null  object \n",
      " 13  pulm_severe             26665 non-null  object \n",
      " 14  prim_disease_hct        28800 non-null  object \n",
      " 15  hla_high_res_6          23516 non-null  float64\n",
      " 16  cmv_status              28166 non-null  object \n",
      " 17  hla_high_res_10         21637 non-null  float64\n",
      " 18  hla_match_dqb1_high     23601 non-null  float64\n",
      " 19  tce_imm_match           17667 non-null  object \n",
      " 20  hla_nmdp_6              24603 non-null  float64\n",
      " 21  hla_match_c_low         26000 non-null  float64\n",
      " 22  rituximab               26652 non-null  object \n",
      " 23  hla_match_drb1_low      26157 non-null  float64\n",
      " 24  hla_match_dqb1_low      24606 non-null  float64\n",
      " 25  prod_type               28800 non-null  object \n",
      " 26  cyto_score_detail       16877 non-null  object \n",
      " 27  conditioning_intensity  24011 non-null  object \n",
      " 28  ethnicity               28213 non-null  object \n",
      " 29  year_hct                28800 non-null  int64  \n",
      " 30  obesity                 27040 non-null  object \n",
      " 31  mrd_hct                 12203 non-null  object \n",
      " 32  in_vivo_tcd             28575 non-null  object \n",
      " 33  tce_match               9804 non-null   object \n",
      " 34  hla_match_a_high        24499 non-null  float64\n",
      " 35  hepatic_severe          26929 non-null  object \n",
      " 36  donor_age               26992 non-null  float64\n",
      " 37  prior_tumor             27122 non-null  object \n",
      " 38  hla_match_b_low         26235 non-null  float64\n",
      " 39  peptic_ulcer            26381 non-null  object \n",
      " 40  age_at_hct              28800 non-null  float64\n",
      " 41  hla_match_a_low         26410 non-null  float64\n",
      " 42  gvhd_proph              28575 non-null  object \n",
      " 43  rheum_issue             26617 non-null  object \n",
      " 44  sex_match               28539 non-null  object \n",
      " 45  hla_match_b_high        24712 non-null  float64\n",
      " 46  race_group              28800 non-null  object \n",
      " 47  comorbidity_score       28323 non-null  float64\n",
      " 48  karnofsky_score         27930 non-null  float64\n",
      " 49  hepatic_mild            26883 non-null  object \n",
      " 50  tce_div_match           17404 non-null  object \n",
      " 51  donor_related           28642 non-null  object \n",
      " 52  melphalan_dose          27395 non-null  object \n",
      " 53  hla_low_res_8           25147 non-null  float64\n",
      " 54  cardiac                 26258 non-null  object \n",
      " 55  hla_match_drb1_high     25448 non-null  float64\n",
      " 56  pulm_moderate           26753 non-null  object \n",
      " 57  hla_low_res_10          23736 non-null  float64\n",
      " 58  efs                     28800 non-null  float64\n",
      " 59  efs_time                28800 non-null  float64\n",
      "dtypes: float64(23), int64(2), object(35)\n",
      "memory usage: 13.2+ MB\n"
     ]
    }
   ],
   "source": [
    "\n",
    "print(\"Train Data Preview:\")\n",
    "display(train_df.head())\n",
    "\n",
    "print(\"\\nTest Data Preview:\")\n",
    "display(test_df.head())\n",
    "\n",
    "\n",
    "print(\"\\nTrain Data Info:\")\n",
    "train_df.info()\n"
   ]
  },
  {
   "cell_type": "code",
   "execution_count": 5,
   "id": "42259b1d",
   "metadata": {
    "execution": {
     "iopub.execute_input": "2025-02-24T08:31:30.558982Z",
     "iopub.status.busy": "2025-02-24T08:31:30.558635Z",
     "iopub.status.idle": "2025-02-24T08:31:30.616360Z",
     "shell.execute_reply": "2025-02-24T08:31:30.615444Z"
    },
    "papermill": {
     "duration": 0.064386,
     "end_time": "2025-02-24T08:31:30.617752",
     "exception": false,
     "start_time": "2025-02-24T08:31:30.553366",
     "status": "completed"
    },
    "tags": []
   },
   "outputs": [
    {
     "name": "stdout",
     "output_type": "stream",
     "text": [
      "Columns with Missing Values:\n",
      "\n"
     ]
    },
    {
     "data": {
      "text/plain": [
       "tce_match                 65.958333\n",
       "mrd_hct                   57.628472\n",
       "cyto_score_detail         41.399306\n",
       "tce_div_match             39.569444\n",
       "tce_imm_match             38.656250\n",
       "cyto_score                28.013889\n",
       "hla_high_res_10           24.871528\n",
       "hla_high_res_8            20.239583\n",
       "hla_high_res_6            18.347222\n",
       "hla_match_dqb1_high       18.052083\n",
       "hla_low_res_10            17.583333\n",
       "conditioning_intensity    16.628472\n",
       "hla_match_c_high          16.041667\n",
       "hla_match_a_high          14.934028\n",
       "hla_nmdp_6                14.572917\n",
       "hla_match_dqb1_low        14.562500\n",
       "hla_match_b_high          14.194444\n",
       "hla_low_res_8             12.684028\n",
       "hla_match_drb1_high       11.638889\n",
       "hla_low_res_6             11.354167\n",
       "hla_match_c_low            9.722222\n",
       "hla_match_drb1_low         9.177083\n",
       "hla_match_b_low            8.906250\n",
       "cardiac                    8.826389\n",
       "peptic_ulcer               8.399306\n",
       "hla_match_a_low            8.298611\n",
       "arrhythmia                 7.645833\n",
       "rheum_issue                7.579861\n",
       "rituximab                  7.458333\n",
       "pulm_severe                7.413194\n",
       "diabetes                   7.357639\n",
       "psych_disturb              7.159722\n",
       "pulm_moderate              7.107639\n",
       "hepatic_mild               6.656250\n",
       "renal_issue                6.649306\n",
       "hepatic_severe             6.496528\n",
       "donor_age                  6.277778\n",
       "obesity                    6.111111\n",
       "prior_tumor                5.826389\n",
       "melphalan_dose             4.878472\n",
       "karnofsky_score            3.020833\n",
       "cmv_status                 2.201389\n",
       "ethnicity                  2.038194\n",
       "comorbidity_score          1.656250\n",
       "sex_match                  0.906250\n",
       "vent_hist                  0.899306\n",
       "gvhd_proph                 0.781250\n",
       "in_vivo_tcd                0.781250\n",
       "donor_related              0.548611\n",
       "dri_score                  0.534722\n",
       "dtype: float64"
      ]
     },
     "metadata": {},
     "output_type": "display_data"
    }
   ],
   "source": [
    "\n",
    "missing_values = train_df.isnull().sum() / len(train_df) * 100\n",
    "missing_values = missing_values[missing_values > 0].sort_values(ascending=False)\n",
    "\n",
    "\n",
    "print(\"Columns with Missing Values:\\n\")\n",
    "display(missing_values)\n",
    "\n"
   ]
  },
  {
   "cell_type": "code",
   "execution_count": 6,
   "id": "084df79c",
   "metadata": {
    "execution": {
     "iopub.execute_input": "2025-02-24T08:31:30.628062Z",
     "iopub.status.busy": "2025-02-24T08:31:30.627679Z",
     "iopub.status.idle": "2025-02-24T08:31:30.643049Z",
     "shell.execute_reply": "2025-02-24T08:31:30.641980Z"
    },
    "papermill": {
     "duration": 0.022168,
     "end_time": "2025-02-24T08:31:30.644466",
     "exception": false,
     "start_time": "2025-02-24T08:31:30.622298",
     "status": "completed"
    },
    "tags": []
   },
   "outputs": [
    {
     "name": "stdout",
     "output_type": "stream",
     "text": [
      "Remaining Columns: 58\n"
     ]
    }
   ],
   "source": [
    "\n",
    "train_df.drop(columns=['tce_match', 'mrd_hct'], inplace=True)\n",
    "test_df.drop(columns=['tce_match', 'mrd_hct'], inplace=True)\n",
    "\n",
    "print(\"Remaining Columns:\", train_df.shape[1])\n"
   ]
  },
  {
   "cell_type": "code",
   "execution_count": 7,
   "id": "7594bd8f",
   "metadata": {
    "execution": {
     "iopub.execute_input": "2025-02-24T08:31:30.654793Z",
     "iopub.status.busy": "2025-02-24T08:31:30.654470Z",
     "iopub.status.idle": "2025-02-24T08:31:30.750690Z",
     "shell.execute_reply": "2025-02-24T08:31:30.749777Z"
    },
    "papermill": {
     "duration": 0.102795,
     "end_time": "2025-02-24T08:31:30.752232",
     "exception": false,
     "start_time": "2025-02-24T08:31:30.649437",
     "status": "completed"
    },
    "tags": []
   },
   "outputs": [
    {
     "name": "stdout",
     "output_type": "stream",
     "text": [
      "Missing values in train: 80215\n",
      "Missing values in test: 8\n"
     ]
    }
   ],
   "source": [
    "\n",
    "num_cols = list(set(train_df.select_dtypes(include=['float64', 'int64']).columns) & set(test_df.columns))\n",
    "\n",
    "train_df[num_cols] = train_df[num_cols].fillna(train_df[num_cols].median())\n",
    "test_df[num_cols] = test_df[num_cols].fillna(test_df[num_cols].median())\n",
    "\n",
    "print(\"Missing values in train:\", train_df.isnull().sum().sum())\n",
    "print(\"Missing values in test:\", test_df.isnull().sum().sum())\n"
   ]
  },
  {
   "cell_type": "code",
   "execution_count": 8,
   "id": "ea1ab0f1",
   "metadata": {
    "execution": {
     "iopub.execute_input": "2025-02-24T08:31:30.762929Z",
     "iopub.status.busy": "2025-02-24T08:31:30.762591Z",
     "iopub.status.idle": "2025-02-24T08:31:30.982641Z",
     "shell.execute_reply": "2025-02-24T08:31:30.981632Z"
    },
    "papermill": {
     "duration": 0.227192,
     "end_time": "2025-02-24T08:31:30.984310",
     "exception": false,
     "start_time": "2025-02-24T08:31:30.757118",
     "status": "completed"
    },
    "tags": []
   },
   "outputs": [
    {
     "name": "stdout",
     "output_type": "stream",
     "text": [
      "Missing values in train after filling categorical: 0\n",
      "Missing values in test after filling categorical: 0\n"
     ]
    }
   ],
   "source": [
    "\n",
    "cat_cols = list(set(train_df.select_dtypes(include=['object']).columns) & set(test_df.columns))\n",
    "\n",
    "\n",
    "train_df[cat_cols] = train_df[cat_cols].apply(lambda x: x.fillna(x.mode()[0]))\n",
    "test_df[cat_cols] = test_df[cat_cols].apply(lambda x: x.fillna(x.mode()[0]))\n",
    "\n",
    "print(\"Missing values in train after filling categorical:\", train_df.isnull().sum().sum())\n",
    "print(\"Missing values in test after filling categorical:\", test_df.isnull().sum().sum())\n"
   ]
  },
  {
   "cell_type": "code",
   "execution_count": 9,
   "id": "dcd7b44e",
   "metadata": {
    "execution": {
     "iopub.execute_input": "2025-02-24T08:31:30.996424Z",
     "iopub.status.busy": "2025-02-24T08:31:30.996049Z",
     "iopub.status.idle": "2025-02-24T08:31:32.596971Z",
     "shell.execute_reply": "2025-02-24T08:31:32.595086Z"
    },
    "papermill": {
     "duration": 1.609625,
     "end_time": "2025-02-24T08:31:32.599427",
     "exception": false,
     "start_time": "2025-02-24T08:31:30.989802",
     "status": "completed"
    },
    "tags": []
   },
   "outputs": [
    {
     "name": "stdout",
     "output_type": "stream",
     "text": [
      "Categorical features encoded successfully!\n"
     ]
    }
   ],
   "source": [
    "from sklearn.preprocessing import LabelEncoder\n",
    "\n",
    "\n",
    "le = LabelEncoder()\n",
    "\n",
    "for col in cat_cols:\n",
    "    train_df[col] = le.fit_transform(train_df[col])\n",
    "    test_df[col] = le.transform(test_df[col])\n",
    "\n",
    "print(\"Categorical features encoded successfully!\")\n"
   ]
  },
  {
   "cell_type": "code",
   "execution_count": 10,
   "id": "803dee76",
   "metadata": {
    "execution": {
     "iopub.execute_input": "2025-02-24T08:31:32.615292Z",
     "iopub.status.busy": "2025-02-24T08:31:32.614800Z",
     "iopub.status.idle": "2025-02-24T08:31:32.634960Z",
     "shell.execute_reply": "2025-02-24T08:31:32.633784Z"
    },
    "papermill": {
     "duration": 0.027887,
     "end_time": "2025-02-24T08:31:32.636613",
     "exception": false,
     "start_time": "2025-02-24T08:31:32.608726",
     "status": "completed"
    },
    "tags": []
   },
   "outputs": [
    {
     "name": "stdout",
     "output_type": "stream",
     "text": [
      "Unnecessary columns dropped!\n"
     ]
    }
   ],
   "source": [
    "\n",
    "train_df.drop(columns=['ID'], inplace=True)\n",
    "test_df.drop(columns=['ID'], inplace=True)\n",
    "\n",
    "print(\"Unnecessary columns dropped!\")\n"
   ]
  },
  {
   "cell_type": "code",
   "execution_count": 11,
   "id": "eaedd6a6",
   "metadata": {
    "execution": {
     "iopub.execute_input": "2025-02-24T08:31:32.647884Z",
     "iopub.status.busy": "2025-02-24T08:31:32.647497Z",
     "iopub.status.idle": "2025-02-24T08:31:32.750491Z",
     "shell.execute_reply": "2025-02-24T08:31:32.749428Z"
    },
    "papermill": {
     "duration": 0.110443,
     "end_time": "2025-02-24T08:31:32.752304",
     "exception": false,
     "start_time": "2025-02-24T08:31:32.641861",
     "status": "completed"
    },
    "tags": []
   },
   "outputs": [
    {
     "name": "stdout",
     "output_type": "stream",
     "text": [
      "Feature scaling completed successfully!\n"
     ]
    }
   ],
   "source": [
    "from sklearn.preprocessing import StandardScaler\n",
    "\n",
    "\n",
    "target_cols = ['efs', 'efs_time']\n",
    "\n",
    "\n",
    "X_train = train_df.drop(columns=target_cols, errors='ignore')  \n",
    "y_train = train_df[target_cols]  \n",
    "\n",
    "\n",
    "X_test = test_df[X_train.columns]  \n",
    "\n",
    "\n",
    "scaler = StandardScaler()\n",
    "X_train_scaled = scaler.fit_transform(X_train)\n",
    "\n",
    "X_test_scaled = scaler.transform(X_test)\n",
    "\n",
    "print(\"Feature scaling completed successfully!\")\n"
   ]
  },
  {
   "cell_type": "code",
   "execution_count": 12,
   "id": "e62e3d0a",
   "metadata": {
    "execution": {
     "iopub.execute_input": "2025-02-24T08:31:32.764169Z",
     "iopub.status.busy": "2025-02-24T08:31:32.763819Z",
     "iopub.status.idle": "2025-02-24T08:31:33.327552Z",
     "shell.execute_reply": "2025-02-24T08:31:33.326410Z"
    },
    "papermill": {
     "duration": 0.571544,
     "end_time": "2025-02-24T08:31:33.329276",
     "exception": false,
     "start_time": "2025-02-24T08:31:32.757732",
     "status": "completed"
    },
    "tags": []
   },
   "outputs": [
    {
     "name": "stderr",
     "output_type": "stream",
     "text": [
      "<ipython-input-12-1b0f956a3268>:19: FutureWarning: A value is trying to be set on a copy of a DataFrame or Series through chained assignment using an inplace method.\n",
      "The behavior will change in pandas 3.0. This inplace method will never work because the intermediate object on which we are setting values always behaves as a copy.\n",
      "\n",
      "For example, when doing 'df[col].method(value, inplace=True)', try using 'df.method({col: value}, inplace=True)' or df[col] = df[col].method(value) instead, to perform the operation inplace on the original object.\n",
      "\n",
      "\n",
      "  train_df[col].fillna(train_df[col].mode()[0], inplace=True)\n",
      "<ipython-input-12-1b0f956a3268>:20: FutureWarning: A value is trying to be set on a copy of a DataFrame or Series through chained assignment using an inplace method.\n",
      "The behavior will change in pandas 3.0. This inplace method will never work because the intermediate object on which we are setting values always behaves as a copy.\n",
      "\n",
      "For example, when doing 'df[col].method(value, inplace=True)', try using 'df.method({col: value}, inplace=True)' or df[col] = df[col].method(value) instead, to perform the operation inplace on the original object.\n",
      "\n",
      "\n",
      "  test_df[col].fillna(test_df[col].mode()[0], inplace=True)\n"
     ]
    },
    {
     "name": "stdout",
     "output_type": "stream",
     "text": [
      "Missing values in train: 0\n",
      "Missing values in test: 0\n"
     ]
    }
   ],
   "source": [
    "import pandas as pd\n",
    "\n",
    "\n",
    "train_df = pd.read_csv(\"/kaggle/input/equity-post-HCT-survival-predictions/train.csv\")\n",
    "test_df = pd.read_csv(\"/kaggle/input/equity-post-HCT-survival-predictions/test.csv\")\n",
    "\n",
    "drop_cols = [\"sex_match\", \"vent_hist\", \"gvhd_proph\", \"dri_score\"]\n",
    "train_df.drop(columns=drop_cols, inplace=True, errors=\"ignore\")\n",
    "test_df.drop(columns=drop_cols, inplace=True, errors=\"ignore\")\n",
    "\n",
    "num_cols = train_df.select_dtypes(include=[\"float64\", \"int64\"]).columns\n",
    "train_df[num_cols] = train_df[num_cols].fillna(train_df[num_cols].median())\n",
    "\n",
    "common_num_cols = [col for col in num_cols if col in test_df.columns]\n",
    "test_df[common_num_cols] = test_df[common_num_cols].fillna(test_df[common_num_cols].median())\n",
    "\n",
    "cat_cols = train_df.select_dtypes(include=[\"object\"]).columns\n",
    "for col in cat_cols:\n",
    "    train_df[col].fillna(train_df[col].mode()[0], inplace=True)\n",
    "    test_df[col].fillna(test_df[col].mode()[0], inplace=True)\n",
    "\n",
    "\n",
    "train_df = pd.get_dummies(train_df, drop_first=True)\n",
    "test_df = pd.get_dummies(test_df, drop_first=True)\n",
    "\n",
    "train_df, test_df = train_df.align(test_df, join=\"left\", axis=1, fill_value=0)\n",
    "\n",
    "\n",
    "print(f\"Missing values in train: {train_df.isnull().sum().sum()}\")\n",
    "print(f\"Missing values in test: {test_df.isnull().sum().sum()}\")\n"
   ]
  },
  {
   "cell_type": "code",
   "execution_count": 13,
   "id": "c387d0b4",
   "metadata": {
    "execution": {
     "iopub.execute_input": "2025-02-24T08:31:33.341321Z",
     "iopub.status.busy": "2025-02-24T08:31:33.340979Z",
     "iopub.status.idle": "2025-02-24T08:31:33.346075Z",
     "shell.execute_reply": "2025-02-24T08:31:33.345177Z"
    },
    "papermill": {
     "duration": 0.012861,
     "end_time": "2025-02-24T08:31:33.347542",
     "exception": false,
     "start_time": "2025-02-24T08:31:33.334681",
     "status": "completed"
    },
    "tags": []
   },
   "outputs": [
    {
     "name": "stdout",
     "output_type": "stream",
     "text": [
      "Index(['ID', 'hla_match_c_high', 'hla_high_res_8', 'hla_low_res_6',\n",
      "       'hla_high_res_6', 'hla_high_res_10', 'hla_match_dqb1_high',\n",
      "       'hla_nmdp_6', 'hla_match_c_low', 'hla_match_drb1_low',\n",
      "       ...\n",
      "       'tce_div_match_GvH non-permissive', 'tce_div_match_HvG non-permissive',\n",
      "       'tce_div_match_Permissive mismatched', 'donor_related_Related',\n",
      "       'donor_related_Unrelated', 'melphalan_dose_N/A, Mel not given',\n",
      "       'cardiac_Not done', 'cardiac_Yes', 'pulm_moderate_Not done',\n",
      "       'pulm_moderate_Yes'],\n",
      "      dtype='object', length=121)\n"
     ]
    }
   ],
   "source": [
    "print(train_df.columns)\n"
   ]
  },
  {
   "cell_type": "code",
   "execution_count": 14,
   "id": "291088b1",
   "metadata": {
    "execution": {
     "iopub.execute_input": "2025-02-24T08:31:33.359563Z",
     "iopub.status.busy": "2025-02-24T08:31:33.359214Z",
     "iopub.status.idle": "2025-02-24T08:31:54.649407Z",
     "shell.execute_reply": "2025-02-24T08:31:54.648241Z"
    },
    "papermill": {
     "duration": 21.298155,
     "end_time": "2025-02-24T08:31:54.651150",
     "exception": false,
     "start_time": "2025-02-24T08:31:33.352995",
     "status": "completed"
    },
    "tags": []
   },
   "outputs": [
    {
     "name": "stdout",
     "output_type": "stream",
     "text": [
      "Validation MSE: 0.009662743055555556\n",
      "Submission file created successfully!\n"
     ]
    }
   ],
   "source": [
    "\n",
    "X = train_df.drop(columns=['ID', 'efs'])  \n",
    "y = train_df['efs']  \n",
    "\n",
    "\n",
    "X = pd.get_dummies(X, drop_first=True)\n",
    "\n",
    "\n",
    "from sklearn.model_selection import train_test_split\n",
    "\n",
    "X_train, X_val, y_train, y_val = train_test_split(X, y, test_size=0.2, random_state=42)\n",
    "\n",
    "from sklearn.ensemble import RandomForestRegressor\n",
    "\n",
    "model = RandomForestRegressor(n_estimators=100, random_state=42)\n",
    "model.fit(X_train, y_train)\n",
    "\n",
    "from sklearn.metrics import mean_squared_error\n",
    "\n",
    "y_val_pred = model.predict(X_val)\n",
    "mse = mean_squared_error(y_val, y_val_pred)\n",
    "print(f\"Validation MSE: {mse}\")\n",
    "\n",
    "\n",
    "X_test = test_df.drop(columns=['ID'])  \n",
    "X_test = pd.get_dummies(X_test, drop_first=True)  \n",
    "X_test = X_test.reindex(columns=X_train.columns, fill_value=0)\n",
    "\n",
    "y_test_pred = model.predict(X_test)\n",
    "\n",
    "submission = pd.DataFrame({'ID': test_df['ID'], 'prediction': y_test_pred})\n",
    "submission.to_csv('submission.csv', index=False)\n",
    "\n",
    "print(\"Submission file created successfully!\")\n"
   ]
  },
  {
   "cell_type": "code",
   "execution_count": 15,
   "id": "017c3b54",
   "metadata": {
    "execution": {
     "iopub.execute_input": "2025-02-24T08:31:54.662473Z",
     "iopub.status.busy": "2025-02-24T08:31:54.662187Z",
     "iopub.status.idle": "2025-02-24T08:31:54.706742Z",
     "shell.execute_reply": "2025-02-24T08:31:54.705916Z"
    },
    "papermill": {
     "duration": 0.051817,
     "end_time": "2025-02-24T08:31:54.708153",
     "exception": false,
     "start_time": "2025-02-24T08:31:54.656336",
     "status": "completed"
    },
    "tags": []
   },
   "outputs": [
    {
     "name": "stdout",
     "output_type": "stream",
     "text": [
      "RMSE: 0.09829925256865159\n",
      "R² Score: 0.9611673320541194\n"
     ]
    }
   ],
   "source": [
    "from sklearn.metrics import mean_squared_error, r2_score\n",
    "import numpy as np\n",
    "\n",
    "\n",
    "val_predictions = model.predict(X_val)\n",
    "\n",
    "\n",
    "rmse = np.sqrt(mean_squared_error(y_val, val_predictions))\n",
    "print(f'RMSE: {rmse}')\n",
    "\n",
    "r2 = r2_score(y_val, val_predictions)\n",
    "print(f'R² Score: {r2}')\n"
   ]
  }
 ],
 "metadata": {
  "kaggle": {
   "accelerator": "none",
   "dataSources": [
    {
     "databundleVersionId": 10381525,
     "sourceId": 70942,
     "sourceType": "competition"
    }
   ],
   "dockerImageVersionId": 30886,
   "isGpuEnabled": false,
   "isInternetEnabled": false,
   "language": "python",
   "sourceType": "notebook"
  },
  "kernelspec": {
   "display_name": "Python 3",
   "language": "python",
   "name": "python3"
  },
  "language_info": {
   "codemirror_mode": {
    "name": "ipython",
    "version": 3
   },
   "file_extension": ".py",
   "mimetype": "text/x-python",
   "name": "python",
   "nbconvert_exporter": "python",
   "pygments_lexer": "ipython3",
   "version": "3.10.12"
  },
  "papermill": {
   "default_parameters": {},
   "duration": 29.118484,
   "end_time": "2025-02-24T08:31:55.332175",
   "environment_variables": {},
   "exception": null,
   "input_path": "__notebook__.ipynb",
   "output_path": "__notebook__.ipynb",
   "parameters": {},
   "start_time": "2025-02-24T08:31:26.213691",
   "version": "2.6.0"
  }
 },
 "nbformat": 4,
 "nbformat_minor": 5
}
