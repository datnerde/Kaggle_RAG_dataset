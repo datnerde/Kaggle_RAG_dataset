{
 "cells": [
  {
   "cell_type": "code",
   "execution_count": 1,
   "id": "dc2e63ad",
   "metadata": {
    "execution": {
     "iopub.execute_input": "2025-02-01T23:37:50.933208Z",
     "iopub.status.busy": "2025-02-01T23:37:50.932779Z",
     "iopub.status.idle": "2025-02-01T23:37:54.008226Z",
     "shell.execute_reply": "2025-02-01T23:37:54.007101Z"
    },
    "papermill": {
     "duration": 3.081606,
     "end_time": "2025-02-01T23:37:54.010047",
     "exception": false,
     "start_time": "2025-02-01T23:37:50.928441",
     "status": "completed"
    },
    "tags": []
   },
   "outputs": [
    {
     "name": "stderr",
     "output_type": "stream",
     "text": [
      "<ipython-input-1-068c41b84e46>:28: FutureWarning: A value is trying to be set on a copy of a DataFrame or Series through chained assignment using an inplace method.\n",
      "The behavior will change in pandas 3.0. This inplace method will never work because the intermediate object on which we are setting values always behaves as a copy.\n",
      "\n",
      "For example, when doing 'df[col].method(value, inplace=True)', try using 'df.method({col: value}, inplace=True)' or df[col] = df[col].method(value) instead, to perform the operation inplace on the original object.\n",
      "\n",
      "\n",
      "  x_train[col].fillna(x_train[col].mode()[0], inplace=True)\n",
      "<ipython-input-1-068c41b84e46>:30: FutureWarning: A value is trying to be set on a copy of a DataFrame or Series through chained assignment using an inplace method.\n",
      "The behavior will change in pandas 3.0. This inplace method will never work because the intermediate object on which we are setting values always behaves as a copy.\n",
      "\n",
      "For example, when doing 'df[col].method(value, inplace=True)', try using 'df.method({col: value}, inplace=True)' or df[col] = df[col].method(value) instead, to perform the operation inplace on the original object.\n",
      "\n",
      "\n",
      "  x_train[col].fillna(x_train[col].mean(), inplace=True)\n",
      "<ipython-input-1-068c41b84e46>:37: FutureWarning: A value is trying to be set on a copy of a DataFrame or Series through chained assignment using an inplace method.\n",
      "The behavior will change in pandas 3.0. This inplace method will never work because the intermediate object on which we are setting values always behaves as a copy.\n",
      "\n",
      "For example, when doing 'df[col].method(value, inplace=True)', try using 'df.method({col: value}, inplace=True)' or df[col] = df[col].method(value) instead, to perform the operation inplace on the original object.\n",
      "\n",
      "\n",
      "  x_test[col].fillna(x_test[col].mean(), inplace=True)\n",
      "<ipython-input-1-068c41b84e46>:37: SettingWithCopyWarning: \n",
      "A value is trying to be set on a copy of a slice from a DataFrame\n",
      "\n",
      "See the caveats in the documentation: https://pandas.pydata.org/pandas-docs/stable/user_guide/indexing.html#returning-a-view-versus-a-copy\n",
      "  x_test[col].fillna(x_test[col].mean(), inplace=True)\n",
      "<ipython-input-1-068c41b84e46>:35: FutureWarning: A value is trying to be set on a copy of a DataFrame or Series through chained assignment using an inplace method.\n",
      "The behavior will change in pandas 3.0. This inplace method will never work because the intermediate object on which we are setting values always behaves as a copy.\n",
      "\n",
      "For example, when doing 'df[col].method(value, inplace=True)', try using 'df.method({col: value}, inplace=True)' or df[col] = df[col].method(value) instead, to perform the operation inplace on the original object.\n",
      "\n",
      "\n",
      "  x_test[col].fillna(x_test[col].mode()[0], inplace=True)\n",
      "<ipython-input-1-068c41b84e46>:35: SettingWithCopyWarning: \n",
      "A value is trying to be set on a copy of a slice from a DataFrame\n",
      "\n",
      "See the caveats in the documentation: https://pandas.pydata.org/pandas-docs/stable/user_guide/indexing.html#returning-a-view-versus-a-copy\n",
      "  x_test[col].fillna(x_test[col].mode()[0], inplace=True)\n",
      "<ipython-input-1-068c41b84e46>:44: SettingWithCopyWarning: \n",
      "A value is trying to be set on a copy of a slice from a DataFrame.\n",
      "Try using .loc[row_indexer,col_indexer] = value instead\n",
      "\n",
      "See the caveats in the documentation: https://pandas.pydata.org/pandas-docs/stable/user_guide/indexing.html#returning-a-view-versus-a-copy\n",
      "  x_test[numerical_cols_test] = scaler.transform(x_test[numerical_cols_test])\n"
     ]
    },
    {
     "data": {
      "text/plain": [
       "['donor_age',\n",
       " 'age_at_hct',\n",
       " 'comorbidity_score',\n",
       " 'dri_score_N/A - non-malignant indication',\n",
       " 'graft_type_Peripheral blood',\n",
       " 'prim_disease_hct_HIS',\n",
       " 'prim_disease_hct_IEA',\n",
       " 'prod_type_PB',\n",
       " 'in_vivo_tcd_Yes',\n",
       " 'gvhd_proph_FKalone']"
      ]
     },
     "execution_count": 1,
     "metadata": {},
     "output_type": "execute_result"
    }
   ],
   "source": [
    "import pandas as pd\n",
    "import numpy as np\n",
    "from sklearn.preprocessing import StandardScaler\n",
    "\n",
    "# Cargar datos\n",
    "train = pd.read_csv(\"/kaggle/input/equity-post-HCT-survival-predictions/train.csv\")\n",
    "test = pd.read_csv(\"/kaggle/input/equity-post-HCT-survival-predictions/test.csv\")\n",
    "\n",
    "\n",
    "# Filtrar columnas con más de 24000 valores no nulos\n",
    "threshold = 24000\n",
    "columnas_a_conservar = train.columns[train.notnull().sum() > threshold]\n",
    "train_filtrado = train[columnas_a_conservar]\n",
    "test_filtrado = test[columnas_a_conservar.drop(['efs', 'efs_time', 'ID'], errors='ignore')]\n",
    "\n",
    "# Separar variables independientes y dependientes\n",
    "x_train = train_filtrado.drop(['efs', 'efs_time', 'ID'], axis=1, errors='ignore')\n",
    "y_train = train_filtrado[['efs', 'efs_time']]\n",
    "x_test = test_filtrado\n",
    "\n",
    "# Identificar columnas con valores nulos\n",
    "coltofix = x_train.columns[x_train.isnull().any()]\n",
    "coltofixtest = x_test.columns[x_test.isnull().any()]\n",
    "\n",
    "# Reemplazar valores nulos (moda para categóricas, media para numéricas)\n",
    "for col in coltofix:\n",
    "    if x_train[col].dtype == \"object\":\n",
    "        x_train[col].fillna(x_train[col].mode()[0], inplace=True)\n",
    "    else:\n",
    "        x_train[col].fillna(x_train[col].mean(), inplace=True)\n",
    "\n",
    "# Aplicar el mismo tratamiento al dataset de test\n",
    "for col in coltofixtest:\n",
    "    if x_test[col].dtype == \"object\":\n",
    "        x_test[col].fillna(x_test[col].mode()[0], inplace=True)\n",
    "    else:\n",
    "        x_test[col].fillna(x_test[col].mean(), inplace=True)\n",
    "\n",
    "# Normalizar columnas numéricas excluyendo 'year_hct'\n",
    "numerical_cols = x_train.select_dtypes(include=['int64', 'float64']).drop(['year_hct'], errors='ignore').columns\n",
    "numerical_cols_test = x_test.select_dtypes(include=['int64', 'float64']).drop(['year_hct'], errors='ignore').columns\n",
    "scaler = StandardScaler()\n",
    "x_train[numerical_cols] = scaler.fit_transform(x_train[numerical_cols])\n",
    "x_test[numerical_cols_test] = scaler.transform(x_test[numerical_cols_test])\n",
    "\n",
    "# Codificación one-hot para variables categóricas\n",
    "categorical_cols = x_train.select_dtypes(include=['object']).columns\n",
    "categorical_cols_test = x_test.select_dtypes(include=['object']).columns\n",
    "x_train_encoded = pd.get_dummies(x_train, columns=categorical_cols, drop_first=True)\n",
    "x_test_encoded = pd.get_dummies(x_test, columns=categorical_cols_test, drop_first=True)\n",
    "\n",
    "\n",
    "# Convertir booleanos a enteros\n",
    "bool_cols = x_train_encoded.select_dtypes(include=['bool']).columns\n",
    "bool_cols_test = x_test_encoded.select_dtypes(include=['bool']).columns\n",
    "x_train_encoded[bool_cols] = x_train_encoded[bool_cols].astype(int)\n",
    "x_test_encoded[bool_cols_test] = x_test_encoded[bool_cols_test].astype(int)\n",
    "\n",
    "# DataFrames finales\n",
    "df_train_final = x_train_encoded\n",
    "df_test_final = x_test_encoded\n",
    "\n",
    "varrel = ['donor_age', 'age_at_hct', 'comorbidity_score', 'prim_disease_hct_IEA', 'prim_disease_hct_IIS', 'prim_disease_hct_HIS', 'prim_disease_hct_HD', 'cardiac_Yes', 'prod_type_PB', 'graft_type_Peripheral blood', 'conditioning_intensity_RIC', 'prim_disease_hct_PCD', 'gvhd_proph_TDEPLETION +- other', 'in_vivo_tcd_Yes', 'gvhd_proph_CSA + MMF +- others(not FK)', 'dri_score_N/A - pediatric', 'prior_tumor_Yes', 'pulm_severe_Yes', 'dri_score_N/A - non-malignant indication', 'hepatic_severe_Yes', 'dri_score_TBD cytogenetics', 'gvhd_proph_FKalone', 'prim_disease_hct_SAA', 'prim_disease_hct_Other leukemia', 'prim_disease_hct_IMD', 'gvhd_proph_CSA alone', 'dri_score_N/A - disease not classifiable', 'gvhd_proph_CDselect alone', 'prim_disease_hct_Solid tumor', 'dri_score_Very high', 'diabetes_Not done']\n",
    "lista = []\n",
    "for var in df_test_final.columns:\n",
    "    if var in varrel:\n",
    "        lista.append(var)\n",
    "lista\n",
    "\n",
    "\n"
   ]
  },
  {
   "cell_type": "code",
   "execution_count": 2,
   "id": "b65c1bdb",
   "metadata": {
    "execution": {
     "iopub.execute_input": "2025-02-01T23:37:54.015906Z",
     "iopub.status.busy": "2025-02-01T23:37:54.015561Z",
     "iopub.status.idle": "2025-02-01T23:37:57.585349Z",
     "shell.execute_reply": "2025-02-01T23:37:57.584362Z"
    },
    "papermill": {
     "duration": 3.574755,
     "end_time": "2025-02-01T23:37:57.587335",
     "exception": false,
     "start_time": "2025-02-01T23:37:54.012580",
     "status": "completed"
    },
    "tags": []
   },
   "outputs": [],
   "source": [
    "\n",
    "import pandas as pd\n",
    "from lifelines import CoxPHFitter\n",
    "\n",
    "# Preparar datos de entrenamiento\n",
    "df_train = df_train_final[lista].copy()\n",
    "df_train['T'] = y_train[\"efs_time\"]\n",
    "df_train['E'] = y_train[\"efs\"]\n",
    "\n",
    "# Entrenar el modelo de regresión de Cox\n",
    "cph = CoxPHFitter().fit(df_train, duration_col='T', event_col='E')\n",
    "\n",
    "# Hacer predicciones de riesgo en el conjunto de prueba\n",
    "df_test = df_test_final[lista].copy()\n",
    "df_test['prediction'] = cph.predict_partial_hazard(df_test)\n",
    "\n",
    "# Crear y guardar el archivo de submission\n",
    "submission = pd.DataFrame({'ID': test['ID'], 'prediction': df_test['prediction']})\n",
    "submission.to_csv('/kaggle/working/submission.csv', index=False)\n",
    "\n"
   ]
  }
 ],
 "metadata": {
  "colab": {
   "provenance": []
  },
  "kaggle": {
   "accelerator": "none",
   "dataSources": [
    {
     "databundleVersionId": 10381525,
     "sourceId": 70942,
     "sourceType": "competition"
    },
    {
     "datasetId": 6580434,
     "sourceId": 10628084,
     "sourceType": "datasetVersion"
    },
    {
     "datasetId": 6580454,
     "sourceId": 10628113,
     "sourceType": "datasetVersion"
    },
    {
     "modelId": 232508,
     "modelInstanceId": 210819,
     "sourceId": 246698,
     "sourceType": "modelInstanceVersion"
    },
    {
     "modelId": 232556,
     "modelInstanceId": 210867,
     "sourceId": 246748,
     "sourceType": "modelInstanceVersion"
    }
   ],
   "dockerImageVersionId": 30839,
   "isGpuEnabled": false,
   "isInternetEnabled": false,
   "language": "python",
   "sourceType": "notebook"
  },
  "kernelspec": {
   "display_name": "Python 3",
   "language": "python",
   "name": "python3"
  },
  "language_info": {
   "codemirror_mode": {
    "name": "ipython",
    "version": 3
   },
   "file_extension": ".py",
   "mimetype": "text/x-python",
   "name": "python",
   "nbconvert_exporter": "python",
   "pygments_lexer": "ipython3",
   "version": "3.10.12"
  },
  "papermill": {
   "default_parameters": {},
   "duration": 10.173325,
   "end_time": "2025-02-01T23:37:58.310140",
   "environment_variables": {},
   "exception": null,
   "input_path": "__notebook__.ipynb",
   "output_path": "__notebook__.ipynb",
   "parameters": {},
   "start_time": "2025-02-01T23:37:48.136815",
   "version": "2.6.0"
  }
 },
 "nbformat": 4,
 "nbformat_minor": 5
}
