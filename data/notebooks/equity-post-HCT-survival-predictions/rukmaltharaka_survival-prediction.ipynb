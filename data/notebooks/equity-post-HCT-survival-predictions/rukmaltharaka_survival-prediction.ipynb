{
 "cells": [
  {
   "cell_type": "code",
   "execution_count": 1,
   "id": "f0e92558",
   "metadata": {
    "execution": {
     "iopub.execute_input": "2025-01-22T22:32:46.510481Z",
     "iopub.status.busy": "2025-01-22T22:32:46.509444Z",
     "iopub.status.idle": "2025-01-22T22:32:49.216135Z",
     "shell.execute_reply": "2025-01-22T22:32:49.215267Z"
    },
    "papermill": {
     "duration": 2.715828,
     "end_time": "2025-01-22T22:32:49.218645",
     "exception": false,
     "start_time": "2025-01-22T22:32:46.502817",
     "status": "completed"
    },
    "tags": []
   },
   "outputs": [],
   "source": [
    "import pandas as pd\n",
    "from sklearn.impute import SimpleImputer\n",
    "from sklearn.preprocessing import OneHotEncoder, StandardScaler\n",
    "from sklearn.compose import ColumnTransformer\n",
    "from sklearn.pipeline import Pipeline\n",
    "from sklearn.model_selection import train_test_split\n",
    "import xgboost as xgb\n",
    "from sklearn.metrics import accuracy_score"
   ]
  },
  {
   "cell_type": "code",
   "execution_count": 2,
   "id": "b2bcef7c",
   "metadata": {
    "execution": {
     "iopub.execute_input": "2025-01-22T22:32:49.227980Z",
     "iopub.status.busy": "2025-01-22T22:32:49.227416Z",
     "iopub.status.idle": "2025-01-22T22:32:49.654416Z",
     "shell.execute_reply": "2025-01-22T22:32:49.653462Z"
    },
    "papermill": {
     "duration": 0.434319,
     "end_time": "2025-01-22T22:32:49.656942",
     "exception": false,
     "start_time": "2025-01-22T22:32:49.222623",
     "status": "completed"
    },
    "tags": []
   },
   "outputs": [],
   "source": [
    "train_data = pd.read_csv('/kaggle/input/equity-post-HCT-survival-predictions/train.csv')\n",
    "test_data = pd.read_csv('/kaggle/input/equity-post-HCT-survival-predictions/test.csv')"
   ]
  },
  {
   "cell_type": "code",
   "execution_count": 3,
   "id": "0cc325b1",
   "metadata": {
    "execution": {
     "iopub.execute_input": "2025-01-22T22:32:49.666165Z",
     "iopub.status.busy": "2025-01-22T22:32:49.665733Z",
     "iopub.status.idle": "2025-01-22T22:32:49.688920Z",
     "shell.execute_reply": "2025-01-22T22:32:49.687983Z"
    },
    "papermill": {
     "duration": 0.030359,
     "end_time": "2025-01-22T22:32:49.691238",
     "exception": false,
     "start_time": "2025-01-22T22:32:49.660879",
     "status": "completed"
    },
    "tags": []
   },
   "outputs": [],
   "source": [
    "target_col = 'efs'  # Treating the \"efs\" column as a binary outcome for classification\n",
    "X_train = train_data.drop(columns=[target_col, 'efs_time'])\n",
    "y_train = train_data[target_col]"
   ]
  },
  {
   "cell_type": "code",
   "execution_count": 4,
   "id": "baeddab0",
   "metadata": {
    "execution": {
     "iopub.execute_input": "2025-01-22T22:32:49.700644Z",
     "iopub.status.busy": "2025-01-22T22:32:49.699589Z",
     "iopub.status.idle": "2025-01-22T22:32:49.716671Z",
     "shell.execute_reply": "2025-01-22T22:32:49.715645Z"
    },
    "papermill": {
     "duration": 0.024176,
     "end_time": "2025-01-22T22:32:49.719066",
     "exception": false,
     "start_time": "2025-01-22T22:32:49.694890",
     "status": "completed"
    },
    "tags": []
   },
   "outputs": [],
   "source": [
    "numerical_cols = X_train.select_dtypes(include=['float64', 'int64']).columns.tolist()\n",
    "categorical_cols = X_train.select_dtypes(include=['object']).columns.tolist()"
   ]
  },
  {
   "cell_type": "code",
   "execution_count": 5,
   "id": "b40eaeee",
   "metadata": {
    "execution": {
     "iopub.execute_input": "2025-01-22T22:32:49.728512Z",
     "iopub.status.busy": "2025-01-22T22:32:49.727696Z",
     "iopub.status.idle": "2025-01-22T22:32:49.732676Z",
     "shell.execute_reply": "2025-01-22T22:32:49.731657Z"
    },
    "papermill": {
     "duration": 0.012051,
     "end_time": "2025-01-22T22:32:49.734818",
     "exception": false,
     "start_time": "2025-01-22T22:32:49.722767",
     "status": "completed"
    },
    "tags": []
   },
   "outputs": [],
   "source": [
    "numerical_preprocessor = Pipeline(steps=[\n",
    "    ('imputer', SimpleImputer(strategy='mean')),\n",
    "    ('scaler', StandardScaler())\n",
    "])"
   ]
  },
  {
   "cell_type": "code",
   "execution_count": 6,
   "id": "5e66c1b1",
   "metadata": {
    "execution": {
     "iopub.execute_input": "2025-01-22T22:32:49.743096Z",
     "iopub.status.busy": "2025-01-22T22:32:49.742759Z",
     "iopub.status.idle": "2025-01-22T22:32:49.747662Z",
     "shell.execute_reply": "2025-01-22T22:32:49.746752Z"
    },
    "papermill": {
     "duration": 0.011432,
     "end_time": "2025-01-22T22:32:49.749846",
     "exception": false,
     "start_time": "2025-01-22T22:32:49.738414",
     "status": "completed"
    },
    "tags": []
   },
   "outputs": [],
   "source": [
    "categorical_preprocessor = Pipeline(steps=[\n",
    "    ('imputer', SimpleImputer(strategy='most_frequent')),\n",
    "    ('encoder', OneHotEncoder(handle_unknown='ignore'))\n",
    "])"
   ]
  },
  {
   "cell_type": "code",
   "execution_count": 7,
   "id": "8ce2e01e",
   "metadata": {
    "execution": {
     "iopub.execute_input": "2025-01-22T22:32:49.758949Z",
     "iopub.status.busy": "2025-01-22T22:32:49.758053Z",
     "iopub.status.idle": "2025-01-22T22:32:49.763063Z",
     "shell.execute_reply": "2025-01-22T22:32:49.762083Z"
    },
    "papermill": {
     "duration": 0.01164,
     "end_time": "2025-01-22T22:32:49.765160",
     "exception": false,
     "start_time": "2025-01-22T22:32:49.753520",
     "status": "completed"
    },
    "tags": []
   },
   "outputs": [],
   "source": [
    "preprocessor = ColumnTransformer(transformers=[\n",
    "    ('num', numerical_preprocessor, numerical_cols),\n",
    "    ('cat', categorical_preprocessor, categorical_cols)\n",
    "])"
   ]
  },
  {
   "cell_type": "code",
   "execution_count": 8,
   "id": "b01b6cf3",
   "metadata": {
    "execution": {
     "iopub.execute_input": "2025-01-22T22:32:49.775174Z",
     "iopub.status.busy": "2025-01-22T22:32:49.774247Z",
     "iopub.status.idle": "2025-01-22T22:32:50.469494Z",
     "shell.execute_reply": "2025-01-22T22:32:50.468301Z"
    },
    "papermill": {
     "duration": 0.702244,
     "end_time": "2025-01-22T22:32:50.472017",
     "exception": false,
     "start_time": "2025-01-22T22:32:49.769773",
     "status": "completed"
    },
    "tags": []
   },
   "outputs": [],
   "source": [
    "X_train_preprocessed = preprocessor.fit_transform(X_train)"
   ]
  },
  {
   "cell_type": "code",
   "execution_count": 9,
   "id": "84d67b5a",
   "metadata": {
    "execution": {
     "iopub.execute_input": "2025-01-22T22:32:50.481488Z",
     "iopub.status.busy": "2025-01-22T22:32:50.480370Z",
     "iopub.status.idle": "2025-01-22T22:32:51.487901Z",
     "shell.execute_reply": "2025-01-22T22:32:51.486804Z"
    },
    "papermill": {
     "duration": 1.01433,
     "end_time": "2025-01-22T22:32:51.490105",
     "exception": false,
     "start_time": "2025-01-22T22:32:50.475775",
     "status": "completed"
    },
    "tags": []
   },
   "outputs": [
    {
     "data": {
      "text/html": [
       "<style>#sk-container-id-1 {color: black;background-color: white;}#sk-container-id-1 pre{padding: 0;}#sk-container-id-1 div.sk-toggleable {background-color: white;}#sk-container-id-1 label.sk-toggleable__label {cursor: pointer;display: block;width: 100%;margin-bottom: 0;padding: 0.3em;box-sizing: border-box;text-align: center;}#sk-container-id-1 label.sk-toggleable__label-arrow:before {content: \"▸\";float: left;margin-right: 0.25em;color: #696969;}#sk-container-id-1 label.sk-toggleable__label-arrow:hover:before {color: black;}#sk-container-id-1 div.sk-estimator:hover label.sk-toggleable__label-arrow:before {color: black;}#sk-container-id-1 div.sk-toggleable__content {max-height: 0;max-width: 0;overflow: hidden;text-align: left;background-color: #f0f8ff;}#sk-container-id-1 div.sk-toggleable__content pre {margin: 0.2em;color: black;border-radius: 0.25em;background-color: #f0f8ff;}#sk-container-id-1 input.sk-toggleable__control:checked~div.sk-toggleable__content {max-height: 200px;max-width: 100%;overflow: auto;}#sk-container-id-1 input.sk-toggleable__control:checked~label.sk-toggleable__label-arrow:before {content: \"▾\";}#sk-container-id-1 div.sk-estimator input.sk-toggleable__control:checked~label.sk-toggleable__label {background-color: #d4ebff;}#sk-container-id-1 div.sk-label input.sk-toggleable__control:checked~label.sk-toggleable__label {background-color: #d4ebff;}#sk-container-id-1 input.sk-hidden--visually {border: 0;clip: rect(1px 1px 1px 1px);clip: rect(1px, 1px, 1px, 1px);height: 1px;margin: -1px;overflow: hidden;padding: 0;position: absolute;width: 1px;}#sk-container-id-1 div.sk-estimator {font-family: monospace;background-color: #f0f8ff;border: 1px dotted black;border-radius: 0.25em;box-sizing: border-box;margin-bottom: 0.5em;}#sk-container-id-1 div.sk-estimator:hover {background-color: #d4ebff;}#sk-container-id-1 div.sk-parallel-item::after {content: \"\";width: 100%;border-bottom: 1px solid gray;flex-grow: 1;}#sk-container-id-1 div.sk-label:hover label.sk-toggleable__label {background-color: #d4ebff;}#sk-container-id-1 div.sk-serial::before {content: \"\";position: absolute;border-left: 1px solid gray;box-sizing: border-box;top: 0;bottom: 0;left: 50%;z-index: 0;}#sk-container-id-1 div.sk-serial {display: flex;flex-direction: column;align-items: center;background-color: white;padding-right: 0.2em;padding-left: 0.2em;position: relative;}#sk-container-id-1 div.sk-item {position: relative;z-index: 1;}#sk-container-id-1 div.sk-parallel {display: flex;align-items: stretch;justify-content: center;background-color: white;position: relative;}#sk-container-id-1 div.sk-item::before, #sk-container-id-1 div.sk-parallel-item::before {content: \"\";position: absolute;border-left: 1px solid gray;box-sizing: border-box;top: 0;bottom: 0;left: 50%;z-index: -1;}#sk-container-id-1 div.sk-parallel-item {display: flex;flex-direction: column;z-index: 1;position: relative;background-color: white;}#sk-container-id-1 div.sk-parallel-item:first-child::after {align-self: flex-end;width: 50%;}#sk-container-id-1 div.sk-parallel-item:last-child::after {align-self: flex-start;width: 50%;}#sk-container-id-1 div.sk-parallel-item:only-child::after {width: 0;}#sk-container-id-1 div.sk-dashed-wrapped {border: 1px dashed gray;margin: 0 0.4em 0.5em 0.4em;box-sizing: border-box;padding-bottom: 0.4em;background-color: white;}#sk-container-id-1 div.sk-label label {font-family: monospace;font-weight: bold;display: inline-block;line-height: 1.2em;}#sk-container-id-1 div.sk-label-container {text-align: center;}#sk-container-id-1 div.sk-container {/* jupyter's `normalize.less` sets `[hidden] { display: none; }` but bootstrap.min.css set `[hidden] { display: none !important; }` so we also need the `!important` here to be able to override the default hidden behavior on the sphinx rendered scikit-learn.org. See: https://github.com/scikit-learn/scikit-learn/issues/21755 */display: inline-block !important;position: relative;}#sk-container-id-1 div.sk-text-repr-fallback {display: none;}</style><div id=\"sk-container-id-1\" class=\"sk-top-container\"><div class=\"sk-text-repr-fallback\"><pre>XGBRegressor(base_score=None, booster=None, callbacks=None,\n",
       "             colsample_bylevel=None, colsample_bynode=None,\n",
       "             colsample_bytree=None, device=None, early_stopping_rounds=None,\n",
       "             enable_categorical=False, eval_metric=&#x27;logloss&#x27;,\n",
       "             feature_types=None, gamma=None, grow_policy=None,\n",
       "             importance_type=None, interaction_constraints=None,\n",
       "             learning_rate=None, max_bin=None, max_cat_threshold=None,\n",
       "             max_cat_to_onehot=None, max_delta_step=None, max_depth=None,\n",
       "             max_leaves=None, min_child_weight=None, missing=nan,\n",
       "             monotone_constraints=None, multi_strategy=None, n_estimators=None,\n",
       "             n_jobs=None, num_parallel_tree=None, random_state=None, ...)</pre><b>In a Jupyter environment, please rerun this cell to show the HTML representation or trust the notebook. <br />On GitHub, the HTML representation is unable to render, please try loading this page with nbviewer.org.</b></div><div class=\"sk-container\" hidden><div class=\"sk-item\"><div class=\"sk-estimator sk-toggleable\"><input class=\"sk-toggleable__control sk-hidden--visually\" id=\"sk-estimator-id-1\" type=\"checkbox\" checked><label for=\"sk-estimator-id-1\" class=\"sk-toggleable__label sk-toggleable__label-arrow\">XGBRegressor</label><div class=\"sk-toggleable__content\"><pre>XGBRegressor(base_score=None, booster=None, callbacks=None,\n",
       "             colsample_bylevel=None, colsample_bynode=None,\n",
       "             colsample_bytree=None, device=None, early_stopping_rounds=None,\n",
       "             enable_categorical=False, eval_metric=&#x27;logloss&#x27;,\n",
       "             feature_types=None, gamma=None, grow_policy=None,\n",
       "             importance_type=None, interaction_constraints=None,\n",
       "             learning_rate=None, max_bin=None, max_cat_threshold=None,\n",
       "             max_cat_to_onehot=None, max_delta_step=None, max_depth=None,\n",
       "             max_leaves=None, min_child_weight=None, missing=nan,\n",
       "             monotone_constraints=None, multi_strategy=None, n_estimators=None,\n",
       "             n_jobs=None, num_parallel_tree=None, random_state=None, ...)</pre></div></div></div></div></div>"
      ],
      "text/plain": [
       "XGBRegressor(base_score=None, booster=None, callbacks=None,\n",
       "             colsample_bylevel=None, colsample_bynode=None,\n",
       "             colsample_bytree=None, device=None, early_stopping_rounds=None,\n",
       "             enable_categorical=False, eval_metric='logloss',\n",
       "             feature_types=None, gamma=None, grow_policy=None,\n",
       "             importance_type=None, interaction_constraints=None,\n",
       "             learning_rate=None, max_bin=None, max_cat_threshold=None,\n",
       "             max_cat_to_onehot=None, max_delta_step=None, max_depth=None,\n",
       "             max_leaves=None, min_child_weight=None, missing=nan,\n",
       "             monotone_constraints=None, multi_strategy=None, n_estimators=None,\n",
       "             n_jobs=None, num_parallel_tree=None, random_state=None, ...)"
      ]
     },
     "execution_count": 9,
     "metadata": {},
     "output_type": "execute_result"
    }
   ],
   "source": [
    "model = xgb.XGBRegressor(eval_metric=\"logloss\")\n",
    "model.fit(X_train_preprocessed, y_train)"
   ]
  },
  {
   "cell_type": "code",
   "execution_count": 10,
   "id": "c92c64e5",
   "metadata": {
    "execution": {
     "iopub.execute_input": "2025-01-22T22:32:51.500033Z",
     "iopub.status.busy": "2025-01-22T22:32:51.499527Z",
     "iopub.status.idle": "2025-01-22T22:32:51.514859Z",
     "shell.execute_reply": "2025-01-22T22:32:51.513778Z"
    },
    "papermill": {
     "duration": 0.022683,
     "end_time": "2025-01-22T22:32:51.517014",
     "exception": false,
     "start_time": "2025-01-22T22:32:51.494331",
     "status": "completed"
    },
    "tags": []
   },
   "outputs": [],
   "source": [
    "X_test = test_data\n",
    "X_test_preprocessed = preprocessor.transform(X_test)"
   ]
  },
  {
   "cell_type": "code",
   "execution_count": 11,
   "id": "2da74752",
   "metadata": {
    "execution": {
     "iopub.execute_input": "2025-01-22T22:32:51.528019Z",
     "iopub.status.busy": "2025-01-22T22:32:51.527218Z",
     "iopub.status.idle": "2025-01-22T22:32:51.534190Z",
     "shell.execute_reply": "2025-01-22T22:32:51.533452Z"
    },
    "papermill": {
     "duration": 0.015514,
     "end_time": "2025-01-22T22:32:51.536800",
     "exception": false,
     "start_time": "2025-01-22T22:32:51.521286",
     "status": "completed"
    },
    "tags": []
   },
   "outputs": [],
   "source": [
    "y_test_predictions = model.predict(X_test_preprocessed)"
   ]
  },
  {
   "cell_type": "code",
   "execution_count": 12,
   "id": "dd33aa34",
   "metadata": {
    "execution": {
     "iopub.execute_input": "2025-01-22T22:32:51.547101Z",
     "iopub.status.busy": "2025-01-22T22:32:51.546718Z",
     "iopub.status.idle": "2025-01-22T22:32:51.552159Z",
     "shell.execute_reply": "2025-01-22T22:32:51.551291Z"
    },
    "papermill": {
     "duration": 0.012436,
     "end_time": "2025-01-22T22:32:51.554128",
     "exception": false,
     "start_time": "2025-01-22T22:32:51.541692",
     "status": "completed"
    },
    "tags": []
   },
   "outputs": [],
   "source": [
    "submission = pd.DataFrame({\n",
    "    'ID': test_data['ID'],\n",
    "    'prediction': y_test_predictions\n",
    "})"
   ]
  },
  {
   "cell_type": "code",
   "execution_count": 13,
   "id": "7bd40916",
   "metadata": {
    "execution": {
     "iopub.execute_input": "2025-01-22T22:32:51.563370Z",
     "iopub.status.busy": "2025-01-22T22:32:51.563009Z",
     "iopub.status.idle": "2025-01-22T22:32:51.576058Z",
     "shell.execute_reply": "2025-01-22T22:32:51.575033Z"
    },
    "papermill": {
     "duration": 0.02013,
     "end_time": "2025-01-22T22:32:51.578209",
     "exception": false,
     "start_time": "2025-01-22T22:32:51.558079",
     "status": "completed"
    },
    "tags": []
   },
   "outputs": [
    {
     "data": {
      "text/html": [
       "<div>\n",
       "<style scoped>\n",
       "    .dataframe tbody tr th:only-of-type {\n",
       "        vertical-align: middle;\n",
       "    }\n",
       "\n",
       "    .dataframe tbody tr th {\n",
       "        vertical-align: top;\n",
       "    }\n",
       "\n",
       "    .dataframe thead th {\n",
       "        text-align: right;\n",
       "    }\n",
       "</style>\n",
       "<table border=\"1\" class=\"dataframe\">\n",
       "  <thead>\n",
       "    <tr style=\"text-align: right;\">\n",
       "      <th></th>\n",
       "      <th>ID</th>\n",
       "      <th>prediction</th>\n",
       "    </tr>\n",
       "  </thead>\n",
       "  <tbody>\n",
       "    <tr>\n",
       "      <th>0</th>\n",
       "      <td>28800</td>\n",
       "      <td>0.179912</td>\n",
       "    </tr>\n",
       "    <tr>\n",
       "      <th>1</th>\n",
       "      <td>28801</td>\n",
       "      <td>0.870581</td>\n",
       "    </tr>\n",
       "    <tr>\n",
       "      <th>2</th>\n",
       "      <td>28802</td>\n",
       "      <td>0.244291</td>\n",
       "    </tr>\n",
       "  </tbody>\n",
       "</table>\n",
       "</div>"
      ],
      "text/plain": [
       "      ID  prediction\n",
       "0  28800    0.179912\n",
       "1  28801    0.870581\n",
       "2  28802    0.244291"
      ]
     },
     "execution_count": 13,
     "metadata": {},
     "output_type": "execute_result"
    }
   ],
   "source": [
    "submission"
   ]
  },
  {
   "cell_type": "code",
   "execution_count": 14,
   "id": "cc63a9dc",
   "metadata": {
    "execution": {
     "iopub.execute_input": "2025-01-22T22:32:51.588017Z",
     "iopub.status.busy": "2025-01-22T22:32:51.587243Z",
     "iopub.status.idle": "2025-01-22T22:32:51.594901Z",
     "shell.execute_reply": "2025-01-22T22:32:51.594036Z"
    },
    "papermill": {
     "duration": 0.014725,
     "end_time": "2025-01-22T22:32:51.597077",
     "exception": false,
     "start_time": "2025-01-22T22:32:51.582352",
     "status": "completed"
    },
    "tags": []
   },
   "outputs": [],
   "source": [
    "submission.to_csv('submission.csv', index=False)"
   ]
  }
 ],
 "metadata": {
  "kaggle": {
   "accelerator": "none",
   "dataSources": [
    {
     "databundleVersionId": 10381525,
     "sourceId": 70942,
     "sourceType": "competition"
    }
   ],
   "dockerImageVersionId": 30804,
   "isGpuEnabled": false,
   "isInternetEnabled": false,
   "language": "python",
   "sourceType": "notebook"
  },
  "kernelspec": {
   "display_name": "Python 3",
   "language": "python",
   "name": "python3"
  },
  "language_info": {
   "codemirror_mode": {
    "name": "ipython",
    "version": 3
   },
   "file_extension": ".py",
   "mimetype": "text/x-python",
   "name": "python",
   "nbconvert_exporter": "python",
   "pygments_lexer": "ipython3",
   "version": "3.10.14"
  },
  "papermill": {
   "default_parameters": {},
   "duration": 8.819177,
   "end_time": "2025-01-22T22:32:52.120940",
   "environment_variables": {},
   "exception": null,
   "input_path": "__notebook__.ipynb",
   "output_path": "__notebook__.ipynb",
   "parameters": {},
   "start_time": "2025-01-22T22:32:43.301763",
   "version": "2.6.0"
  }
 },
 "nbformat": 4,
 "nbformat_minor": 5
}
