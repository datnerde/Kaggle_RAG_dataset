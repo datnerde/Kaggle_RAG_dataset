{
 "cells": [
  {
   "cell_type": "markdown",
   "id": "9ec3f30d",
   "metadata": {
    "papermill": {
     "duration": 0.012092,
     "end_time": "2024-12-05T18:12:17.718897",
     "exception": false,
     "start_time": "2024-12-05T18:12:17.706805",
     "status": "completed"
    },
    "tags": []
   },
   "source": [
    "# CIBMTR - Equity in post-HCT Survival Predictions"
   ]
  },
  {
   "cell_type": "markdown",
   "id": "dae8e067",
   "metadata": {
    "papermill": {
     "duration": 0.010044,
     "end_time": "2024-12-05T18:12:17.739222",
     "exception": false,
     "start_time": "2024-12-05T18:12:17.729178",
     "status": "completed"
    },
    "tags": []
   },
   "source": [
    "# <center><img src=\"https://www.kaggle.com/competitions/70942/images/header\"></center>"
   ]
  },
  {
   "cell_type": "markdown",
   "id": "3d35ed60",
   "metadata": {
    "papermill": {
     "duration": 0.009636,
     "end_time": "2024-12-05T18:12:17.758622",
     "exception": false,
     "start_time": "2024-12-05T18:12:17.748986",
     "status": "completed"
    },
    "tags": []
   },
   "source": [
    "1. # Importing Python Libraries 📕 📗 📘 📙"
   ]
  },
  {
   "cell_type": "code",
   "execution_count": 1,
   "id": "eaf8d318",
   "metadata": {
    "execution": {
     "iopub.execute_input": "2024-12-05T18:12:17.779250Z",
     "iopub.status.busy": "2024-12-05T18:12:17.778892Z",
     "iopub.status.idle": "2024-12-05T18:12:23.395505Z",
     "shell.execute_reply": "2024-12-05T18:12:23.394817Z"
    },
    "papermill": {
     "duration": 5.629217,
     "end_time": "2024-12-05T18:12:23.397417",
     "exception": false,
     "start_time": "2024-12-05T18:12:17.768200",
     "status": "completed"
    },
    "tags": []
   },
   "outputs": [],
   "source": [
    "import numpy as np \n",
    "import pandas as pd \n",
    "import seaborn as sns \n",
    "import matplotlib.pyplot as plt\n",
    "from sklearn import preprocessing\n",
    "from sklearn.ensemble import RandomForestRegressor\n",
    "from sklearn.model_selection import cross_val_score\n",
    "from sklearn.impute import SimpleImputer\n",
    "from sklearn.preprocessing import OneHotEncoder\n",
    "from sklearn.compose import ColumnTransformer\n",
    "from sklearn.pipeline import Pipeline\n",
    "from sklearn.model_selection import train_test_split\n",
    "from sklearn.metrics import mean_squared_error\n",
    "from catboost import CatBoostRegressor\n",
    "from xgboost import XGBRegressor\n",
    "from lightgbm import LGBMRegressor\n",
    "from catboost import CatBoostRegressor\n",
    "from sklearn.model_selection import KFold\n",
    "from xgboost import XGBClassifier\n",
    "\n",
    "\n",
    "\n",
    "\n",
    "import warnings\n",
    "warnings.filterwarnings(\"ignore\")"
   ]
  },
  {
   "cell_type": "markdown",
   "id": "00673964",
   "metadata": {
    "papermill": {
     "duration": 0.009486,
     "end_time": "2024-12-05T18:12:23.416993",
     "exception": false,
     "start_time": "2024-12-05T18:12:23.407507",
     "status": "completed"
    },
    "tags": []
   },
   "source": [
    "<div class=\"alert alert-block alert-danger\">  \n",
    "    <h1><strong>Loading training data</strong></h1>\n",
    "    <i></i>\n",
    "</div>"
   ]
  },
  {
   "cell_type": "code",
   "execution_count": 2,
   "id": "dbab8468",
   "metadata": {
    "execution": {
     "iopub.execute_input": "2024-12-05T18:12:23.437983Z",
     "iopub.status.busy": "2024-12-05T18:12:23.437411Z",
     "iopub.status.idle": "2024-12-05T18:12:23.778667Z",
     "shell.execute_reply": "2024-12-05T18:12:23.777697Z"
    },
    "papermill": {
     "duration": 0.353893,
     "end_time": "2024-12-05T18:12:23.780731",
     "exception": false,
     "start_time": "2024-12-05T18:12:23.426838",
     "status": "completed"
    },
    "tags": []
   },
   "outputs": [],
   "source": [
    "train_data = pd.read_csv(\"/kaggle/input/equity-post-HCT-survival-predictions/train.csv\")"
   ]
  },
  {
   "cell_type": "markdown",
   "id": "4809eb61",
   "metadata": {
    "papermill": {
     "duration": 0.00976,
     "end_time": "2024-12-05T18:12:23.800650",
     "exception": false,
     "start_time": "2024-12-05T18:12:23.790890",
     "status": "completed"
    },
    "tags": []
   },
   "source": [
    "# Exploratory data analysis of train data"
   ]
  },
  {
   "cell_type": "markdown",
   "id": "34672035",
   "metadata": {
    "papermill": {
     "duration": 0.009418,
     "end_time": "2024-12-05T18:12:23.819654",
     "exception": false,
     "start_time": "2024-12-05T18:12:23.810236",
     "status": "completed"
    },
    "tags": []
   },
   "source": [
    "# Five top records of data"
   ]
  },
  {
   "cell_type": "code",
   "execution_count": 3,
   "id": "71e9223b",
   "metadata": {
    "execution": {
     "iopub.execute_input": "2024-12-05T18:12:23.840294Z",
     "iopub.status.busy": "2024-12-05T18:12:23.839699Z",
     "iopub.status.idle": "2024-12-05T18:12:23.872511Z",
     "shell.execute_reply": "2024-12-05T18:12:23.871607Z"
    },
    "papermill": {
     "duration": 0.045061,
     "end_time": "2024-12-05T18:12:23.874180",
     "exception": false,
     "start_time": "2024-12-05T18:12:23.829119",
     "status": "completed"
    },
    "tags": []
   },
   "outputs": [
    {
     "data": {
      "text/html": [
       "<div>\n",
       "<style scoped>\n",
       "    .dataframe tbody tr th:only-of-type {\n",
       "        vertical-align: middle;\n",
       "    }\n",
       "\n",
       "    .dataframe tbody tr th {\n",
       "        vertical-align: top;\n",
       "    }\n",
       "\n",
       "    .dataframe thead th {\n",
       "        text-align: right;\n",
       "    }\n",
       "</style>\n",
       "<table border=\"1\" class=\"dataframe\">\n",
       "  <thead>\n",
       "    <tr style=\"text-align: right;\">\n",
       "      <th></th>\n",
       "      <th>ID</th>\n",
       "      <th>dri_score</th>\n",
       "      <th>psych_disturb</th>\n",
       "      <th>cyto_score</th>\n",
       "      <th>diabetes</th>\n",
       "      <th>hla_match_c_high</th>\n",
       "      <th>hla_high_res_8</th>\n",
       "      <th>tbi_status</th>\n",
       "      <th>arrhythmia</th>\n",
       "      <th>hla_low_res_6</th>\n",
       "      <th>...</th>\n",
       "      <th>tce_div_match</th>\n",
       "      <th>donor_related</th>\n",
       "      <th>melphalan_dose</th>\n",
       "      <th>hla_low_res_8</th>\n",
       "      <th>cardiac</th>\n",
       "      <th>hla_match_drb1_high</th>\n",
       "      <th>pulm_moderate</th>\n",
       "      <th>hla_low_res_10</th>\n",
       "      <th>efs</th>\n",
       "      <th>efs_time</th>\n",
       "    </tr>\n",
       "  </thead>\n",
       "  <tbody>\n",
       "    <tr>\n",
       "      <th>0</th>\n",
       "      <td>0</td>\n",
       "      <td>N/A - non-malignant indication</td>\n",
       "      <td>No</td>\n",
       "      <td>NaN</td>\n",
       "      <td>No</td>\n",
       "      <td>NaN</td>\n",
       "      <td>NaN</td>\n",
       "      <td>No TBI</td>\n",
       "      <td>No</td>\n",
       "      <td>6.0</td>\n",
       "      <td>...</td>\n",
       "      <td>NaN</td>\n",
       "      <td>Unrelated</td>\n",
       "      <td>N/A, Mel not given</td>\n",
       "      <td>8.0</td>\n",
       "      <td>No</td>\n",
       "      <td>2.0</td>\n",
       "      <td>No</td>\n",
       "      <td>10.0</td>\n",
       "      <td>0.0</td>\n",
       "      <td>42.356</td>\n",
       "    </tr>\n",
       "    <tr>\n",
       "      <th>1</th>\n",
       "      <td>1</td>\n",
       "      <td>Intermediate</td>\n",
       "      <td>No</td>\n",
       "      <td>Intermediate</td>\n",
       "      <td>No</td>\n",
       "      <td>2.0</td>\n",
       "      <td>8.0</td>\n",
       "      <td>TBI +- Other, &gt;cGy</td>\n",
       "      <td>No</td>\n",
       "      <td>6.0</td>\n",
       "      <td>...</td>\n",
       "      <td>Permissive mismatched</td>\n",
       "      <td>Related</td>\n",
       "      <td>N/A, Mel not given</td>\n",
       "      <td>8.0</td>\n",
       "      <td>No</td>\n",
       "      <td>2.0</td>\n",
       "      <td>Yes</td>\n",
       "      <td>10.0</td>\n",
       "      <td>1.0</td>\n",
       "      <td>4.672</td>\n",
       "    </tr>\n",
       "    <tr>\n",
       "      <th>2</th>\n",
       "      <td>2</td>\n",
       "      <td>N/A - non-malignant indication</td>\n",
       "      <td>No</td>\n",
       "      <td>NaN</td>\n",
       "      <td>No</td>\n",
       "      <td>2.0</td>\n",
       "      <td>8.0</td>\n",
       "      <td>No TBI</td>\n",
       "      <td>No</td>\n",
       "      <td>6.0</td>\n",
       "      <td>...</td>\n",
       "      <td>Permissive mismatched</td>\n",
       "      <td>Related</td>\n",
       "      <td>N/A, Mel not given</td>\n",
       "      <td>8.0</td>\n",
       "      <td>No</td>\n",
       "      <td>2.0</td>\n",
       "      <td>No</td>\n",
       "      <td>10.0</td>\n",
       "      <td>0.0</td>\n",
       "      <td>19.793</td>\n",
       "    </tr>\n",
       "    <tr>\n",
       "      <th>3</th>\n",
       "      <td>3</td>\n",
       "      <td>High</td>\n",
       "      <td>No</td>\n",
       "      <td>Intermediate</td>\n",
       "      <td>No</td>\n",
       "      <td>2.0</td>\n",
       "      <td>8.0</td>\n",
       "      <td>No TBI</td>\n",
       "      <td>No</td>\n",
       "      <td>6.0</td>\n",
       "      <td>...</td>\n",
       "      <td>Permissive mismatched</td>\n",
       "      <td>Unrelated</td>\n",
       "      <td>N/A, Mel not given</td>\n",
       "      <td>8.0</td>\n",
       "      <td>No</td>\n",
       "      <td>2.0</td>\n",
       "      <td>No</td>\n",
       "      <td>10.0</td>\n",
       "      <td>0.0</td>\n",
       "      <td>102.349</td>\n",
       "    </tr>\n",
       "    <tr>\n",
       "      <th>4</th>\n",
       "      <td>4</td>\n",
       "      <td>High</td>\n",
       "      <td>No</td>\n",
       "      <td>NaN</td>\n",
       "      <td>No</td>\n",
       "      <td>2.0</td>\n",
       "      <td>8.0</td>\n",
       "      <td>No TBI</td>\n",
       "      <td>No</td>\n",
       "      <td>6.0</td>\n",
       "      <td>...</td>\n",
       "      <td>Permissive mismatched</td>\n",
       "      <td>Related</td>\n",
       "      <td>MEL</td>\n",
       "      <td>8.0</td>\n",
       "      <td>No</td>\n",
       "      <td>2.0</td>\n",
       "      <td>No</td>\n",
       "      <td>10.0</td>\n",
       "      <td>0.0</td>\n",
       "      <td>16.223</td>\n",
       "    </tr>\n",
       "  </tbody>\n",
       "</table>\n",
       "<p>5 rows × 60 columns</p>\n",
       "</div>"
      ],
      "text/plain": [
       "   ID                       dri_score psych_disturb    cyto_score diabetes  \\\n",
       "0   0  N/A - non-malignant indication            No           NaN       No   \n",
       "1   1                    Intermediate            No  Intermediate       No   \n",
       "2   2  N/A - non-malignant indication            No           NaN       No   \n",
       "3   3                            High            No  Intermediate       No   \n",
       "4   4                            High            No           NaN       No   \n",
       "\n",
       "   hla_match_c_high  hla_high_res_8          tbi_status arrhythmia  \\\n",
       "0               NaN             NaN              No TBI         No   \n",
       "1               2.0             8.0  TBI +- Other, >cGy         No   \n",
       "2               2.0             8.0              No TBI         No   \n",
       "3               2.0             8.0              No TBI         No   \n",
       "4               2.0             8.0              No TBI         No   \n",
       "\n",
       "   hla_low_res_6  ...          tce_div_match donor_related  \\\n",
       "0            6.0  ...                    NaN     Unrelated   \n",
       "1            6.0  ...  Permissive mismatched       Related   \n",
       "2            6.0  ...  Permissive mismatched       Related   \n",
       "3            6.0  ...  Permissive mismatched     Unrelated   \n",
       "4            6.0  ...  Permissive mismatched       Related   \n",
       "\n",
       "       melphalan_dose hla_low_res_8 cardiac  hla_match_drb1_high  \\\n",
       "0  N/A, Mel not given           8.0      No                  2.0   \n",
       "1  N/A, Mel not given           8.0      No                  2.0   \n",
       "2  N/A, Mel not given           8.0      No                  2.0   \n",
       "3  N/A, Mel not given           8.0      No                  2.0   \n",
       "4                 MEL           8.0      No                  2.0   \n",
       "\n",
       "  pulm_moderate  hla_low_res_10  efs efs_time  \n",
       "0            No            10.0  0.0   42.356  \n",
       "1           Yes            10.0  1.0    4.672  \n",
       "2            No            10.0  0.0   19.793  \n",
       "3            No            10.0  0.0  102.349  \n",
       "4            No            10.0  0.0   16.223  \n",
       "\n",
       "[5 rows x 60 columns]"
      ]
     },
     "execution_count": 3,
     "metadata": {},
     "output_type": "execute_result"
    }
   ],
   "source": [
    "train_data.head()"
   ]
  },
  {
   "cell_type": "markdown",
   "id": "4d0a15a0",
   "metadata": {
    "papermill": {
     "duration": 0.00962,
     "end_time": "2024-12-05T18:12:23.893994",
     "exception": false,
     "start_time": "2024-12-05T18:12:23.884374",
     "status": "completed"
    },
    "tags": []
   },
   "source": [
    "# Five last records of data"
   ]
  },
  {
   "cell_type": "code",
   "execution_count": 4,
   "id": "2ee44096",
   "metadata": {
    "execution": {
     "iopub.execute_input": "2024-12-05T18:12:23.914911Z",
     "iopub.status.busy": "2024-12-05T18:12:23.914360Z",
     "iopub.status.idle": "2024-12-05T18:12:23.932899Z",
     "shell.execute_reply": "2024-12-05T18:12:23.932037Z"
    },
    "papermill": {
     "duration": 0.030492,
     "end_time": "2024-12-05T18:12:23.934397",
     "exception": false,
     "start_time": "2024-12-05T18:12:23.903905",
     "status": "completed"
    },
    "tags": []
   },
   "outputs": [
    {
     "data": {
      "text/html": [
       "<div>\n",
       "<style scoped>\n",
       "    .dataframe tbody tr th:only-of-type {\n",
       "        vertical-align: middle;\n",
       "    }\n",
       "\n",
       "    .dataframe tbody tr th {\n",
       "        vertical-align: top;\n",
       "    }\n",
       "\n",
       "    .dataframe thead th {\n",
       "        text-align: right;\n",
       "    }\n",
       "</style>\n",
       "<table border=\"1\" class=\"dataframe\">\n",
       "  <thead>\n",
       "    <tr style=\"text-align: right;\">\n",
       "      <th></th>\n",
       "      <th>ID</th>\n",
       "      <th>dri_score</th>\n",
       "      <th>psych_disturb</th>\n",
       "      <th>cyto_score</th>\n",
       "      <th>diabetes</th>\n",
       "      <th>hla_match_c_high</th>\n",
       "      <th>hla_high_res_8</th>\n",
       "      <th>tbi_status</th>\n",
       "      <th>arrhythmia</th>\n",
       "      <th>hla_low_res_6</th>\n",
       "      <th>...</th>\n",
       "      <th>tce_div_match</th>\n",
       "      <th>donor_related</th>\n",
       "      <th>melphalan_dose</th>\n",
       "      <th>hla_low_res_8</th>\n",
       "      <th>cardiac</th>\n",
       "      <th>hla_match_drb1_high</th>\n",
       "      <th>pulm_moderate</th>\n",
       "      <th>hla_low_res_10</th>\n",
       "      <th>efs</th>\n",
       "      <th>efs_time</th>\n",
       "    </tr>\n",
       "  </thead>\n",
       "  <tbody>\n",
       "    <tr>\n",
       "      <th>28795</th>\n",
       "      <td>28795</td>\n",
       "      <td>Intermediate - TED AML case &lt;missing cytogenetics</td>\n",
       "      <td>NaN</td>\n",
       "      <td>Favorable</td>\n",
       "      <td>No</td>\n",
       "      <td>2.0</td>\n",
       "      <td>8.0</td>\n",
       "      <td>No TBI</td>\n",
       "      <td>No</td>\n",
       "      <td>6.0</td>\n",
       "      <td>...</td>\n",
       "      <td>Bi-directional non-permissive</td>\n",
       "      <td>NaN</td>\n",
       "      <td>N/A, Mel not given</td>\n",
       "      <td>8.0</td>\n",
       "      <td>NaN</td>\n",
       "      <td>2.0</td>\n",
       "      <td>No</td>\n",
       "      <td>10.0</td>\n",
       "      <td>0.0</td>\n",
       "      <td>18.633</td>\n",
       "    </tr>\n",
       "    <tr>\n",
       "      <th>28796</th>\n",
       "      <td>28796</td>\n",
       "      <td>High</td>\n",
       "      <td>No</td>\n",
       "      <td>Poor</td>\n",
       "      <td>Yes</td>\n",
       "      <td>1.0</td>\n",
       "      <td>4.0</td>\n",
       "      <td>No TBI</td>\n",
       "      <td>No</td>\n",
       "      <td>5.0</td>\n",
       "      <td>...</td>\n",
       "      <td>GvH non-permissive</td>\n",
       "      <td>Related</td>\n",
       "      <td>N/A, Mel not given</td>\n",
       "      <td>6.0</td>\n",
       "      <td>Yes</td>\n",
       "      <td>1.0</td>\n",
       "      <td>Yes</td>\n",
       "      <td>8.0</td>\n",
       "      <td>1.0</td>\n",
       "      <td>4.892</td>\n",
       "    </tr>\n",
       "    <tr>\n",
       "      <th>28797</th>\n",
       "      <td>28797</td>\n",
       "      <td>TBD cytogenetics</td>\n",
       "      <td>NaN</td>\n",
       "      <td>Poor</td>\n",
       "      <td>NaN</td>\n",
       "      <td>2.0</td>\n",
       "      <td>8.0</td>\n",
       "      <td>No TBI</td>\n",
       "      <td>NaN</td>\n",
       "      <td>6.0</td>\n",
       "      <td>...</td>\n",
       "      <td>GvH non-permissive</td>\n",
       "      <td>Unrelated</td>\n",
       "      <td>N/A, Mel not given</td>\n",
       "      <td>8.0</td>\n",
       "      <td>NaN</td>\n",
       "      <td>2.0</td>\n",
       "      <td>No</td>\n",
       "      <td>10.0</td>\n",
       "      <td>0.0</td>\n",
       "      <td>23.157</td>\n",
       "    </tr>\n",
       "    <tr>\n",
       "      <th>28798</th>\n",
       "      <td>28798</td>\n",
       "      <td>N/A - non-malignant indication</td>\n",
       "      <td>No</td>\n",
       "      <td>Poor</td>\n",
       "      <td>No</td>\n",
       "      <td>1.0</td>\n",
       "      <td>4.0</td>\n",
       "      <td>No TBI</td>\n",
       "      <td>No</td>\n",
       "      <td>3.0</td>\n",
       "      <td>...</td>\n",
       "      <td>Permissive mismatched</td>\n",
       "      <td>Related</td>\n",
       "      <td>MEL</td>\n",
       "      <td>4.0</td>\n",
       "      <td>No</td>\n",
       "      <td>1.0</td>\n",
       "      <td>No</td>\n",
       "      <td>5.0</td>\n",
       "      <td>0.0</td>\n",
       "      <td>52.351</td>\n",
       "    </tr>\n",
       "    <tr>\n",
       "      <th>28799</th>\n",
       "      <td>28799</td>\n",
       "      <td>N/A - pediatric</td>\n",
       "      <td>No</td>\n",
       "      <td>NaN</td>\n",
       "      <td>No</td>\n",
       "      <td>2.0</td>\n",
       "      <td>8.0</td>\n",
       "      <td>No TBI</td>\n",
       "      <td>No</td>\n",
       "      <td>6.0</td>\n",
       "      <td>...</td>\n",
       "      <td>Permissive mismatched</td>\n",
       "      <td>Related</td>\n",
       "      <td>MEL</td>\n",
       "      <td>8.0</td>\n",
       "      <td>No</td>\n",
       "      <td>2.0</td>\n",
       "      <td>Yes</td>\n",
       "      <td>10.0</td>\n",
       "      <td>0.0</td>\n",
       "      <td>25.158</td>\n",
       "    </tr>\n",
       "  </tbody>\n",
       "</table>\n",
       "<p>5 rows × 60 columns</p>\n",
       "</div>"
      ],
      "text/plain": [
       "          ID                                          dri_score psych_disturb  \\\n",
       "28795  28795  Intermediate - TED AML case <missing cytogenetics           NaN   \n",
       "28796  28796                                               High            No   \n",
       "28797  28797                                   TBD cytogenetics           NaN   \n",
       "28798  28798                     N/A - non-malignant indication            No   \n",
       "28799  28799                                    N/A - pediatric            No   \n",
       "\n",
       "      cyto_score diabetes  hla_match_c_high  hla_high_res_8 tbi_status  \\\n",
       "28795  Favorable       No               2.0             8.0     No TBI   \n",
       "28796       Poor      Yes               1.0             4.0     No TBI   \n",
       "28797       Poor      NaN               2.0             8.0     No TBI   \n",
       "28798       Poor       No               1.0             4.0     No TBI   \n",
       "28799        NaN       No               2.0             8.0     No TBI   \n",
       "\n",
       "      arrhythmia  hla_low_res_6  ...                  tce_div_match  \\\n",
       "28795         No            6.0  ...  Bi-directional non-permissive   \n",
       "28796         No            5.0  ...             GvH non-permissive   \n",
       "28797        NaN            6.0  ...             GvH non-permissive   \n",
       "28798         No            3.0  ...          Permissive mismatched   \n",
       "28799         No            6.0  ...          Permissive mismatched   \n",
       "\n",
       "      donor_related      melphalan_dose hla_low_res_8 cardiac  \\\n",
       "28795           NaN  N/A, Mel not given           8.0     NaN   \n",
       "28796       Related  N/A, Mel not given           6.0     Yes   \n",
       "28797     Unrelated  N/A, Mel not given           8.0     NaN   \n",
       "28798       Related                 MEL           4.0      No   \n",
       "28799       Related                 MEL           8.0      No   \n",
       "\n",
       "       hla_match_drb1_high pulm_moderate  hla_low_res_10  efs efs_time  \n",
       "28795                  2.0            No            10.0  0.0   18.633  \n",
       "28796                  1.0           Yes             8.0  1.0    4.892  \n",
       "28797                  2.0            No            10.0  0.0   23.157  \n",
       "28798                  1.0            No             5.0  0.0   52.351  \n",
       "28799                  2.0           Yes            10.0  0.0   25.158  \n",
       "\n",
       "[5 rows x 60 columns]"
      ]
     },
     "execution_count": 4,
     "metadata": {},
     "output_type": "execute_result"
    }
   ],
   "source": [
    "train_data.tail()"
   ]
  },
  {
   "cell_type": "markdown",
   "id": "1417b322",
   "metadata": {
    "papermill": {
     "duration": 0.0098,
     "end_time": "2024-12-05T18:12:23.954391",
     "exception": false,
     "start_time": "2024-12-05T18:12:23.944591",
     "status": "completed"
    },
    "tags": []
   },
   "source": [
    "# Coloumns/features in data"
   ]
  },
  {
   "cell_type": "code",
   "execution_count": 5,
   "id": "5d5955f7",
   "metadata": {
    "execution": {
     "iopub.execute_input": "2024-12-05T18:12:23.976029Z",
     "iopub.status.busy": "2024-12-05T18:12:23.975345Z",
     "iopub.status.idle": "2024-12-05T18:12:23.980994Z",
     "shell.execute_reply": "2024-12-05T18:12:23.980187Z"
    },
    "papermill": {
     "duration": 0.017973,
     "end_time": "2024-12-05T18:12:23.982455",
     "exception": false,
     "start_time": "2024-12-05T18:12:23.964482",
     "status": "completed"
    },
    "tags": []
   },
   "outputs": [
    {
     "data": {
      "text/plain": [
       "Index(['ID', 'dri_score', 'psych_disturb', 'cyto_score', 'diabetes',\n",
       "       'hla_match_c_high', 'hla_high_res_8', 'tbi_status', 'arrhythmia',\n",
       "       'hla_low_res_6', 'graft_type', 'vent_hist', 'renal_issue',\n",
       "       'pulm_severe', 'prim_disease_hct', 'hla_high_res_6', 'cmv_status',\n",
       "       'hla_high_res_10', 'hla_match_dqb1_high', 'tce_imm_match', 'hla_nmdp_6',\n",
       "       'hla_match_c_low', 'rituximab', 'hla_match_drb1_low',\n",
       "       'hla_match_dqb1_low', 'prod_type', 'cyto_score_detail',\n",
       "       'conditioning_intensity', 'ethnicity', 'year_hct', 'obesity', 'mrd_hct',\n",
       "       'in_vivo_tcd', 'tce_match', 'hla_match_a_high', 'hepatic_severe',\n",
       "       'donor_age', 'prior_tumor', 'hla_match_b_low', 'peptic_ulcer',\n",
       "       'age_at_hct', 'hla_match_a_low', 'gvhd_proph', 'rheum_issue',\n",
       "       'sex_match', 'hla_match_b_high', 'race_group', 'comorbidity_score',\n",
       "       'karnofsky_score', 'hepatic_mild', 'tce_div_match', 'donor_related',\n",
       "       'melphalan_dose', 'hla_low_res_8', 'cardiac', 'hla_match_drb1_high',\n",
       "       'pulm_moderate', 'hla_low_res_10', 'efs', 'efs_time'],\n",
       "      dtype='object')"
      ]
     },
     "execution_count": 5,
     "metadata": {},
     "output_type": "execute_result"
    }
   ],
   "source": [
    "train_data.columns"
   ]
  },
  {
   "cell_type": "markdown",
   "id": "5086d769",
   "metadata": {
    "papermill": {
     "duration": 0.010001,
     "end_time": "2024-12-05T18:12:24.002510",
     "exception": false,
     "start_time": "2024-12-05T18:12:23.992509",
     "status": "completed"
    },
    "tags": []
   },
   "source": [
    "# Length of data"
   ]
  },
  {
   "cell_type": "code",
   "execution_count": 6,
   "id": "5fdb7dba",
   "metadata": {
    "execution": {
     "iopub.execute_input": "2024-12-05T18:12:24.023824Z",
     "iopub.status.busy": "2024-12-05T18:12:24.023518Z",
     "iopub.status.idle": "2024-12-05T18:12:24.027722Z",
     "shell.execute_reply": "2024-12-05T18:12:24.026899Z"
    },
    "papermill": {
     "duration": 0.016667,
     "end_time": "2024-12-05T18:12:24.029323",
     "exception": false,
     "start_time": "2024-12-05T18:12:24.012656",
     "status": "completed"
    },
    "tags": []
   },
   "outputs": [
    {
     "name": "stdout",
     "output_type": "stream",
     "text": [
      "lenght of data is 28800\n"
     ]
    }
   ],
   "source": [
    "print('lenght of data is', len(train_data))"
   ]
  },
  {
   "cell_type": "markdown",
   "id": "9e251e12",
   "metadata": {
    "papermill": {
     "duration": 0.009986,
     "end_time": "2024-12-05T18:12:24.049578",
     "exception": false,
     "start_time": "2024-12-05T18:12:24.039592",
     "status": "completed"
    },
    "tags": []
   },
   "source": [
    "# Shape of data"
   ]
  },
  {
   "cell_type": "code",
   "execution_count": 7,
   "id": "bb52ce8d",
   "metadata": {
    "execution": {
     "iopub.execute_input": "2024-12-05T18:12:24.070811Z",
     "iopub.status.busy": "2024-12-05T18:12:24.070579Z",
     "iopub.status.idle": "2024-12-05T18:12:24.075388Z",
     "shell.execute_reply": "2024-12-05T18:12:24.074607Z"
    },
    "papermill": {
     "duration": 0.017331,
     "end_time": "2024-12-05T18:12:24.077023",
     "exception": false,
     "start_time": "2024-12-05T18:12:24.059692",
     "status": "completed"
    },
    "tags": []
   },
   "outputs": [
    {
     "data": {
      "text/plain": [
       "(28800, 60)"
      ]
     },
     "execution_count": 7,
     "metadata": {},
     "output_type": "execute_result"
    }
   ],
   "source": [
    "train_data.shape"
   ]
  },
  {
   "cell_type": "markdown",
   "id": "22c99f85",
   "metadata": {
    "papermill": {
     "duration": 0.010321,
     "end_time": "2024-12-05T18:12:24.097642",
     "exception": false,
     "start_time": "2024-12-05T18:12:24.087321",
     "status": "completed"
    },
    "tags": []
   },
   "source": [
    "# Data information"
   ]
  },
  {
   "cell_type": "code",
   "execution_count": 8,
   "id": "ca8b1d52",
   "metadata": {
    "execution": {
     "iopub.execute_input": "2024-12-05T18:12:24.119656Z",
     "iopub.status.busy": "2024-12-05T18:12:24.119301Z",
     "iopub.status.idle": "2024-12-05T18:12:24.178324Z",
     "shell.execute_reply": "2024-12-05T18:12:24.177401Z"
    },
    "papermill": {
     "duration": 0.072369,
     "end_time": "2024-12-05T18:12:24.180343",
     "exception": false,
     "start_time": "2024-12-05T18:12:24.107974",
     "status": "completed"
    },
    "tags": []
   },
   "outputs": [
    {
     "name": "stdout",
     "output_type": "stream",
     "text": [
      "<class 'pandas.core.frame.DataFrame'>\n",
      "RangeIndex: 28800 entries, 0 to 28799\n",
      "Data columns (total 60 columns):\n",
      " #   Column                  Non-Null Count  Dtype  \n",
      "---  ------                  --------------  -----  \n",
      " 0   ID                      28800 non-null  int64  \n",
      " 1   dri_score               28646 non-null  object \n",
      " 2   psych_disturb           26738 non-null  object \n",
      " 3   cyto_score              20732 non-null  object \n",
      " 4   diabetes                26681 non-null  object \n",
      " 5   hla_match_c_high        24180 non-null  float64\n",
      " 6   hla_high_res_8          22971 non-null  float64\n",
      " 7   tbi_status              28800 non-null  object \n",
      " 8   arrhythmia              26598 non-null  object \n",
      " 9   hla_low_res_6           25530 non-null  float64\n",
      " 10  graft_type              28800 non-null  object \n",
      " 11  vent_hist               28541 non-null  object \n",
      " 12  renal_issue             26885 non-null  object \n",
      " 13  pulm_severe             26665 non-null  object \n",
      " 14  prim_disease_hct        28800 non-null  object \n",
      " 15  hla_high_res_6          23516 non-null  float64\n",
      " 16  cmv_status              28166 non-null  object \n",
      " 17  hla_high_res_10         21637 non-null  float64\n",
      " 18  hla_match_dqb1_high     23601 non-null  float64\n",
      " 19  tce_imm_match           17667 non-null  object \n",
      " 20  hla_nmdp_6              24603 non-null  float64\n",
      " 21  hla_match_c_low         26000 non-null  float64\n",
      " 22  rituximab               26652 non-null  object \n",
      " 23  hla_match_drb1_low      26157 non-null  float64\n",
      " 24  hla_match_dqb1_low      24606 non-null  float64\n",
      " 25  prod_type               28800 non-null  object \n",
      " 26  cyto_score_detail       16877 non-null  object \n",
      " 27  conditioning_intensity  24011 non-null  object \n",
      " 28  ethnicity               28213 non-null  object \n",
      " 29  year_hct                28800 non-null  int64  \n",
      " 30  obesity                 27040 non-null  object \n",
      " 31  mrd_hct                 12203 non-null  object \n",
      " 32  in_vivo_tcd             28575 non-null  object \n",
      " 33  tce_match               9804 non-null   object \n",
      " 34  hla_match_a_high        24499 non-null  float64\n",
      " 35  hepatic_severe          26929 non-null  object \n",
      " 36  donor_age               26992 non-null  float64\n",
      " 37  prior_tumor             27122 non-null  object \n",
      " 38  hla_match_b_low         26235 non-null  float64\n",
      " 39  peptic_ulcer            26381 non-null  object \n",
      " 40  age_at_hct              28800 non-null  float64\n",
      " 41  hla_match_a_low         26410 non-null  float64\n",
      " 42  gvhd_proph              28575 non-null  object \n",
      " 43  rheum_issue             26617 non-null  object \n",
      " 44  sex_match               28539 non-null  object \n",
      " 45  hla_match_b_high        24712 non-null  float64\n",
      " 46  race_group              28800 non-null  object \n",
      " 47  comorbidity_score       28323 non-null  float64\n",
      " 48  karnofsky_score         27930 non-null  float64\n",
      " 49  hepatic_mild            26883 non-null  object \n",
      " 50  tce_div_match           17404 non-null  object \n",
      " 51  donor_related           28642 non-null  object \n",
      " 52  melphalan_dose          27395 non-null  object \n",
      " 53  hla_low_res_8           25147 non-null  float64\n",
      " 54  cardiac                 26258 non-null  object \n",
      " 55  hla_match_drb1_high     25448 non-null  float64\n",
      " 56  pulm_moderate           26753 non-null  object \n",
      " 57  hla_low_res_10          23736 non-null  float64\n",
      " 58  efs                     28800 non-null  float64\n",
      " 59  efs_time                28800 non-null  float64\n",
      "dtypes: float64(23), int64(2), object(35)\n",
      "memory usage: 13.2+ MB\n"
     ]
    }
   ],
   "source": [
    "train_data.info()"
   ]
  },
  {
   "cell_type": "markdown",
   "id": "00bc12cc",
   "metadata": {
    "papermill": {
     "duration": 0.010504,
     "end_time": "2024-12-05T18:12:24.201890",
     "exception": false,
     "start_time": "2024-12-05T18:12:24.191386",
     "status": "completed"
    },
    "tags": []
   },
   "source": [
    "# Data types of all coloumns"
   ]
  },
  {
   "cell_type": "code",
   "execution_count": 9,
   "id": "e844aa5a",
   "metadata": {
    "execution": {
     "iopub.execute_input": "2024-12-05T18:12:24.223921Z",
     "iopub.status.busy": "2024-12-05T18:12:24.223632Z",
     "iopub.status.idle": "2024-12-05T18:12:24.230451Z",
     "shell.execute_reply": "2024-12-05T18:12:24.229675Z"
    },
    "papermill": {
     "duration": 0.019682,
     "end_time": "2024-12-05T18:12:24.232006",
     "exception": false,
     "start_time": "2024-12-05T18:12:24.212324",
     "status": "completed"
    },
    "tags": []
   },
   "outputs": [
    {
     "data": {
      "text/plain": [
       "ID                          int64\n",
       "dri_score                  object\n",
       "psych_disturb              object\n",
       "cyto_score                 object\n",
       "diabetes                   object\n",
       "hla_match_c_high          float64\n",
       "hla_high_res_8            float64\n",
       "tbi_status                 object\n",
       "arrhythmia                 object\n",
       "hla_low_res_6             float64\n",
       "graft_type                 object\n",
       "vent_hist                  object\n",
       "renal_issue                object\n",
       "pulm_severe                object\n",
       "prim_disease_hct           object\n",
       "hla_high_res_6            float64\n",
       "cmv_status                 object\n",
       "hla_high_res_10           float64\n",
       "hla_match_dqb1_high       float64\n",
       "tce_imm_match              object\n",
       "hla_nmdp_6                float64\n",
       "hla_match_c_low           float64\n",
       "rituximab                  object\n",
       "hla_match_drb1_low        float64\n",
       "hla_match_dqb1_low        float64\n",
       "prod_type                  object\n",
       "cyto_score_detail          object\n",
       "conditioning_intensity     object\n",
       "ethnicity                  object\n",
       "year_hct                    int64\n",
       "obesity                    object\n",
       "mrd_hct                    object\n",
       "in_vivo_tcd                object\n",
       "tce_match                  object\n",
       "hla_match_a_high          float64\n",
       "hepatic_severe             object\n",
       "donor_age                 float64\n",
       "prior_tumor                object\n",
       "hla_match_b_low           float64\n",
       "peptic_ulcer               object\n",
       "age_at_hct                float64\n",
       "hla_match_a_low           float64\n",
       "gvhd_proph                 object\n",
       "rheum_issue                object\n",
       "sex_match                  object\n",
       "hla_match_b_high          float64\n",
       "race_group                 object\n",
       "comorbidity_score         float64\n",
       "karnofsky_score           float64\n",
       "hepatic_mild               object\n",
       "tce_div_match              object\n",
       "donor_related              object\n",
       "melphalan_dose             object\n",
       "hla_low_res_8             float64\n",
       "cardiac                    object\n",
       "hla_match_drb1_high       float64\n",
       "pulm_moderate              object\n",
       "hla_low_res_10            float64\n",
       "efs                       float64\n",
       "efs_time                  float64\n",
       "dtype: object"
      ]
     },
     "execution_count": 9,
     "metadata": {},
     "output_type": "execute_result"
    }
   ],
   "source": [
    "train_data.dtypes"
   ]
  },
  {
   "cell_type": "markdown",
   "id": "9dd828a9",
   "metadata": {
    "papermill": {
     "duration": 0.010307,
     "end_time": "2024-12-05T18:12:24.252917",
     "exception": false,
     "start_time": "2024-12-05T18:12:24.242610",
     "status": "completed"
    },
    "tags": []
   },
   "source": [
    "# Checking missing Values"
   ]
  },
  {
   "cell_type": "code",
   "execution_count": 10,
   "id": "97c654cd",
   "metadata": {
    "execution": {
     "iopub.execute_input": "2024-12-05T18:12:24.274890Z",
     "iopub.status.busy": "2024-12-05T18:12:24.274635Z",
     "iopub.status.idle": "2024-12-05T18:12:24.339575Z",
     "shell.execute_reply": "2024-12-05T18:12:24.338706Z"
    },
    "papermill": {
     "duration": 0.077958,
     "end_time": "2024-12-05T18:12:24.341358",
     "exception": false,
     "start_time": "2024-12-05T18:12:24.263400",
     "status": "completed"
    },
    "scrolled": true,
    "tags": []
   },
   "outputs": [
    {
     "data": {
      "text/html": [
       "<div>\n",
       "<style scoped>\n",
       "    .dataframe tbody tr th:only-of-type {\n",
       "        vertical-align: middle;\n",
       "    }\n",
       "\n",
       "    .dataframe tbody tr th {\n",
       "        vertical-align: top;\n",
       "    }\n",
       "\n",
       "    .dataframe thead th {\n",
       "        text-align: right;\n",
       "    }\n",
       "</style>\n",
       "<table border=\"1\" class=\"dataframe\">\n",
       "  <thead>\n",
       "    <tr style=\"text-align: right;\">\n",
       "      <th></th>\n",
       "      <th>ID</th>\n",
       "      <th>dri_score</th>\n",
       "      <th>psych_disturb</th>\n",
       "      <th>cyto_score</th>\n",
       "      <th>diabetes</th>\n",
       "      <th>hla_match_c_high</th>\n",
       "      <th>hla_high_res_8</th>\n",
       "      <th>tbi_status</th>\n",
       "      <th>arrhythmia</th>\n",
       "      <th>hla_low_res_6</th>\n",
       "      <th>...</th>\n",
       "      <th>tce_div_match</th>\n",
       "      <th>donor_related</th>\n",
       "      <th>melphalan_dose</th>\n",
       "      <th>hla_low_res_8</th>\n",
       "      <th>cardiac</th>\n",
       "      <th>hla_match_drb1_high</th>\n",
       "      <th>pulm_moderate</th>\n",
       "      <th>hla_low_res_10</th>\n",
       "      <th>efs</th>\n",
       "      <th>efs_time</th>\n",
       "    </tr>\n",
       "  </thead>\n",
       "  <tbody>\n",
       "    <tr>\n",
       "      <th>0</th>\n",
       "      <td>0</td>\n",
       "      <td>N/A - non-malignant indication</td>\n",
       "      <td>No</td>\n",
       "      <td>NaN</td>\n",
       "      <td>No</td>\n",
       "      <td>NaN</td>\n",
       "      <td>NaN</td>\n",
       "      <td>No TBI</td>\n",
       "      <td>No</td>\n",
       "      <td>6.0</td>\n",
       "      <td>...</td>\n",
       "      <td>NaN</td>\n",
       "      <td>Unrelated</td>\n",
       "      <td>N/A, Mel not given</td>\n",
       "      <td>8.0</td>\n",
       "      <td>No</td>\n",
       "      <td>2.0</td>\n",
       "      <td>No</td>\n",
       "      <td>10.0</td>\n",
       "      <td>0.0</td>\n",
       "      <td>42.356</td>\n",
       "    </tr>\n",
       "    <tr>\n",
       "      <th>2</th>\n",
       "      <td>2</td>\n",
       "      <td>N/A - non-malignant indication</td>\n",
       "      <td>No</td>\n",
       "      <td>NaN</td>\n",
       "      <td>No</td>\n",
       "      <td>2.0</td>\n",
       "      <td>8.0</td>\n",
       "      <td>No TBI</td>\n",
       "      <td>No</td>\n",
       "      <td>6.0</td>\n",
       "      <td>...</td>\n",
       "      <td>Permissive mismatched</td>\n",
       "      <td>Related</td>\n",
       "      <td>N/A, Mel not given</td>\n",
       "      <td>8.0</td>\n",
       "      <td>No</td>\n",
       "      <td>2.0</td>\n",
       "      <td>No</td>\n",
       "      <td>10.0</td>\n",
       "      <td>0.0</td>\n",
       "      <td>19.793</td>\n",
       "    </tr>\n",
       "    <tr>\n",
       "      <th>4</th>\n",
       "      <td>4</td>\n",
       "      <td>High</td>\n",
       "      <td>No</td>\n",
       "      <td>NaN</td>\n",
       "      <td>No</td>\n",
       "      <td>2.0</td>\n",
       "      <td>8.0</td>\n",
       "      <td>No TBI</td>\n",
       "      <td>No</td>\n",
       "      <td>6.0</td>\n",
       "      <td>...</td>\n",
       "      <td>Permissive mismatched</td>\n",
       "      <td>Related</td>\n",
       "      <td>MEL</td>\n",
       "      <td>8.0</td>\n",
       "      <td>No</td>\n",
       "      <td>2.0</td>\n",
       "      <td>No</td>\n",
       "      <td>10.0</td>\n",
       "      <td>0.0</td>\n",
       "      <td>16.223</td>\n",
       "    </tr>\n",
       "    <tr>\n",
       "      <th>5</th>\n",
       "      <td>5</td>\n",
       "      <td>High</td>\n",
       "      <td>No</td>\n",
       "      <td>Poor</td>\n",
       "      <td>Yes</td>\n",
       "      <td>2.0</td>\n",
       "      <td>7.0</td>\n",
       "      <td>TBI + Cy +- Other</td>\n",
       "      <td>No</td>\n",
       "      <td>4.0</td>\n",
       "      <td>...</td>\n",
       "      <td>Permissive mismatched</td>\n",
       "      <td>Related</td>\n",
       "      <td>N/A, Mel not given</td>\n",
       "      <td>5.0</td>\n",
       "      <td>No</td>\n",
       "      <td>2.0</td>\n",
       "      <td>Yes</td>\n",
       "      <td>6.0</td>\n",
       "      <td>1.0</td>\n",
       "      <td>7.095</td>\n",
       "    </tr>\n",
       "    <tr>\n",
       "      <th>6</th>\n",
       "      <td>6</td>\n",
       "      <td>Low</td>\n",
       "      <td>No</td>\n",
       "      <td>Poor</td>\n",
       "      <td>No</td>\n",
       "      <td>2.0</td>\n",
       "      <td>8.0</td>\n",
       "      <td>No TBI</td>\n",
       "      <td>No</td>\n",
       "      <td>6.0</td>\n",
       "      <td>...</td>\n",
       "      <td>Permissive mismatched</td>\n",
       "      <td>Unrelated</td>\n",
       "      <td>N/A, Mel not given</td>\n",
       "      <td>8.0</td>\n",
       "      <td>No</td>\n",
       "      <td>2.0</td>\n",
       "      <td>Yes</td>\n",
       "      <td>10.0</td>\n",
       "      <td>0.0</td>\n",
       "      <td>46.464</td>\n",
       "    </tr>\n",
       "  </tbody>\n",
       "</table>\n",
       "<p>5 rows × 60 columns</p>\n",
       "</div>"
      ],
      "text/plain": [
       "   ID                       dri_score psych_disturb cyto_score diabetes  \\\n",
       "0   0  N/A - non-malignant indication            No        NaN       No   \n",
       "2   2  N/A - non-malignant indication            No        NaN       No   \n",
       "4   4                            High            No        NaN       No   \n",
       "5   5                            High            No       Poor      Yes   \n",
       "6   6                             Low            No       Poor       No   \n",
       "\n",
       "   hla_match_c_high  hla_high_res_8         tbi_status arrhythmia  \\\n",
       "0               NaN             NaN             No TBI         No   \n",
       "2               2.0             8.0             No TBI         No   \n",
       "4               2.0             8.0             No TBI         No   \n",
       "5               2.0             7.0  TBI + Cy +- Other         No   \n",
       "6               2.0             8.0             No TBI         No   \n",
       "\n",
       "   hla_low_res_6  ...          tce_div_match donor_related  \\\n",
       "0            6.0  ...                    NaN     Unrelated   \n",
       "2            6.0  ...  Permissive mismatched       Related   \n",
       "4            6.0  ...  Permissive mismatched       Related   \n",
       "5            4.0  ...  Permissive mismatched       Related   \n",
       "6            6.0  ...  Permissive mismatched     Unrelated   \n",
       "\n",
       "       melphalan_dose hla_low_res_8 cardiac  hla_match_drb1_high  \\\n",
       "0  N/A, Mel not given           8.0      No                  2.0   \n",
       "2  N/A, Mel not given           8.0      No                  2.0   \n",
       "4                 MEL           8.0      No                  2.0   \n",
       "5  N/A, Mel not given           5.0      No                  2.0   \n",
       "6  N/A, Mel not given           8.0      No                  2.0   \n",
       "\n",
       "  pulm_moderate  hla_low_res_10  efs efs_time  \n",
       "0            No            10.0  0.0   42.356  \n",
       "2            No            10.0  0.0   19.793  \n",
       "4            No            10.0  0.0   16.223  \n",
       "5           Yes             6.0  1.0    7.095  \n",
       "6           Yes            10.0  0.0   46.464  \n",
       "\n",
       "[5 rows x 60 columns]"
      ]
     },
     "execution_count": 10,
     "metadata": {},
     "output_type": "execute_result"
    }
   ],
   "source": [
    "train_data[train_data.isnull().any(axis=1)].head()"
   ]
  },
  {
   "cell_type": "markdown",
   "id": "5ac7de40",
   "metadata": {
    "papermill": {
     "duration": 0.010862,
     "end_time": "2024-12-05T18:12:24.364052",
     "exception": false,
     "start_time": "2024-12-05T18:12:24.353190",
     "status": "completed"
    },
    "tags": []
   },
   "source": [
    "# Count of missing values"
   ]
  },
  {
   "cell_type": "code",
   "execution_count": 11,
   "id": "f19d0322",
   "metadata": {
    "execution": {
     "iopub.execute_input": "2024-12-05T18:12:24.387127Z",
     "iopub.status.busy": "2024-12-05T18:12:24.386826Z",
     "iopub.status.idle": "2024-12-05T18:12:24.430268Z",
     "shell.execute_reply": "2024-12-05T18:12:24.429495Z"
    },
    "papermill": {
     "duration": 0.056918,
     "end_time": "2024-12-05T18:12:24.431909",
     "exception": false,
     "start_time": "2024-12-05T18:12:24.374991",
     "status": "completed"
    },
    "scrolled": true,
    "tags": []
   },
   "outputs": [
    {
     "data": {
      "text/plain": [
       "26826"
      ]
     },
     "execution_count": 11,
     "metadata": {},
     "output_type": "execute_result"
    }
   ],
   "source": [
    "np.sum(train_data.isnull().any(axis=1))"
   ]
  },
  {
   "cell_type": "markdown",
   "id": "62d99206",
   "metadata": {
    "papermill": {
     "duration": 0.011182,
     "end_time": "2024-12-05T18:12:24.454073",
     "exception": false,
     "start_time": "2024-12-05T18:12:24.442891",
     "status": "completed"
    },
    "tags": []
   },
   "source": [
    "# Is there any missing values?"
   ]
  },
  {
   "cell_type": "code",
   "execution_count": 12,
   "id": "588e9883",
   "metadata": {
    "execution": {
     "iopub.execute_input": "2024-12-05T18:12:24.476976Z",
     "iopub.status.busy": "2024-12-05T18:12:24.476452Z",
     "iopub.status.idle": "2024-12-05T18:12:24.519706Z",
     "shell.execute_reply": "2024-12-05T18:12:24.518918Z"
    },
    "papermill": {
     "duration": 0.056482,
     "end_time": "2024-12-05T18:12:24.521317",
     "exception": false,
     "start_time": "2024-12-05T18:12:24.464835",
     "status": "completed"
    },
    "tags": []
   },
   "outputs": [
    {
     "data": {
      "text/plain": [
       "True"
      ]
     },
     "execution_count": 12,
     "metadata": {},
     "output_type": "execute_result"
    }
   ],
   "source": [
    "train_data.isnull().values.any()"
   ]
  },
  {
   "cell_type": "markdown",
   "id": "daa9c8c2",
   "metadata": {
    "papermill": {
     "duration": 0.010705,
     "end_time": "2024-12-05T18:12:24.543226",
     "exception": false,
     "start_time": "2024-12-05T18:12:24.532521",
     "status": "completed"
    },
    "tags": []
   },
   "source": [
    "# Counts of missing values in each column"
   ]
  },
  {
   "cell_type": "code",
   "execution_count": 13,
   "id": "f29ea75f",
   "metadata": {
    "execution": {
     "iopub.execute_input": "2024-12-05T18:12:24.566350Z",
     "iopub.status.busy": "2024-12-05T18:12:24.566071Z",
     "iopub.status.idle": "2024-12-05T18:12:24.612907Z",
     "shell.execute_reply": "2024-12-05T18:12:24.612131Z"
    },
    "papermill": {
     "duration": 0.060404,
     "end_time": "2024-12-05T18:12:24.614464",
     "exception": false,
     "start_time": "2024-12-05T18:12:24.554060",
     "status": "completed"
    },
    "tags": []
   },
   "outputs": [
    {
     "data": {
      "text/plain": [
       "ID                            0\n",
       "dri_score                   154\n",
       "psych_disturb              2062\n",
       "cyto_score                 8068\n",
       "diabetes                   2119\n",
       "hla_match_c_high           4620\n",
       "hla_high_res_8             5829\n",
       "tbi_status                    0\n",
       "arrhythmia                 2202\n",
       "hla_low_res_6              3270\n",
       "graft_type                    0\n",
       "vent_hist                   259\n",
       "renal_issue                1915\n",
       "pulm_severe                2135\n",
       "prim_disease_hct              0\n",
       "hla_high_res_6             5284\n",
       "cmv_status                  634\n",
       "hla_high_res_10            7163\n",
       "hla_match_dqb1_high        5199\n",
       "tce_imm_match             11133\n",
       "hla_nmdp_6                 4197\n",
       "hla_match_c_low            2800\n",
       "rituximab                  2148\n",
       "hla_match_drb1_low         2643\n",
       "hla_match_dqb1_low         4194\n",
       "prod_type                     0\n",
       "cyto_score_detail         11923\n",
       "conditioning_intensity     4789\n",
       "ethnicity                   587\n",
       "year_hct                      0\n",
       "obesity                    1760\n",
       "mrd_hct                   16597\n",
       "in_vivo_tcd                 225\n",
       "tce_match                 18996\n",
       "hla_match_a_high           4301\n",
       "hepatic_severe             1871\n",
       "donor_age                  1808\n",
       "prior_tumor                1678\n",
       "hla_match_b_low            2565\n",
       "peptic_ulcer               2419\n",
       "age_at_hct                    0\n",
       "hla_match_a_low            2390\n",
       "gvhd_proph                  225\n",
       "rheum_issue                2183\n",
       "sex_match                   261\n",
       "hla_match_b_high           4088\n",
       "race_group                    0\n",
       "comorbidity_score           477\n",
       "karnofsky_score             870\n",
       "hepatic_mild               1917\n",
       "tce_div_match             11396\n",
       "donor_related               158\n",
       "melphalan_dose             1405\n",
       "hla_low_res_8              3653\n",
       "cardiac                    2542\n",
       "hla_match_drb1_high        3352\n",
       "pulm_moderate              2047\n",
       "hla_low_res_10             5064\n",
       "efs                           0\n",
       "efs_time                      0\n",
       "dtype: int64"
      ]
     },
     "execution_count": 13,
     "metadata": {},
     "output_type": "execute_result"
    }
   ],
   "source": [
    "train_data.isnull().sum()"
   ]
  },
  {
   "cell_type": "markdown",
   "id": "0c1a62e8",
   "metadata": {
    "papermill": {
     "duration": 0.01082,
     "end_time": "2024-12-05T18:12:24.636824",
     "exception": false,
     "start_time": "2024-12-05T18:12:24.626004",
     "status": "completed"
    },
    "tags": []
   },
   "source": [
    "# Looking at the train data missing values."
   ]
  },
  {
   "cell_type": "code",
   "execution_count": 14,
   "id": "ec777f0a",
   "metadata": {
    "execution": {
     "iopub.execute_input": "2024-12-05T18:12:24.660354Z",
     "iopub.status.busy": "2024-12-05T18:12:24.660104Z",
     "iopub.status.idle": "2024-12-05T18:12:24.704904Z",
     "shell.execute_reply": "2024-12-05T18:12:24.703949Z"
    },
    "papermill": {
     "duration": 0.058619,
     "end_time": "2024-12-05T18:12:24.706488",
     "exception": false,
     "start_time": "2024-12-05T18:12:24.647869",
     "status": "completed"
    },
    "tags": []
   },
   "outputs": [
    {
     "name": "stdout",
     "output_type": "stream",
     "text": [
      "dri_score 154\n",
      "psych_disturb 2062\n",
      "cyto_score 8068\n",
      "diabetes 2119\n",
      "hla_match_c_high 4620\n",
      "hla_high_res_8 5829\n",
      "arrhythmia 2202\n",
      "hla_low_res_6 3270\n",
      "vent_hist 259\n",
      "renal_issue 1915\n",
      "pulm_severe 2135\n",
      "hla_high_res_6 5284\n",
      "cmv_status 634\n",
      "hla_high_res_10 7163\n",
      "hla_match_dqb1_high 5199\n",
      "tce_imm_match 11133\n",
      "hla_nmdp_6 4197\n",
      "hla_match_c_low 2800\n",
      "rituximab 2148\n",
      "hla_match_drb1_low 2643\n",
      "hla_match_dqb1_low 4194\n",
      "cyto_score_detail 11923\n",
      "conditioning_intensity 4789\n",
      "ethnicity 587\n",
      "obesity 1760\n",
      "mrd_hct 16597\n",
      "in_vivo_tcd 225\n",
      "tce_match 18996\n",
      "hla_match_a_high 4301\n",
      "hepatic_severe 1871\n",
      "donor_age 1808\n",
      "prior_tumor 1678\n",
      "hla_match_b_low 2565\n",
      "peptic_ulcer 2419\n",
      "hla_match_a_low 2390\n",
      "gvhd_proph 225\n",
      "rheum_issue 2183\n",
      "sex_match 261\n",
      "hla_match_b_high 4088\n",
      "comorbidity_score 477\n",
      "karnofsky_score 870\n",
      "hepatic_mild 1917\n",
      "tce_div_match 11396\n",
      "donor_related 158\n",
      "melphalan_dose 1405\n",
      "hla_low_res_8 3653\n",
      "cardiac 2542\n",
      "hla_match_drb1_high 3352\n",
      "pulm_moderate 2047\n",
      "hla_low_res_10 5064\n"
     ]
    }
   ],
   "source": [
    "NANColumns=[]\n",
    "i=-1\n",
    "for a in train_data.isnull().sum():\n",
    "    i+=1\n",
    "    if a!=0:\n",
    "        print(train_data.columns[i],a)\n",
    "        NANColumns.append(train_data.columns[i])"
   ]
  },
  {
   "cell_type": "markdown",
   "id": "5ad27ebf",
   "metadata": {
    "papermill": {
     "duration": 0.010917,
     "end_time": "2024-12-05T18:12:24.729942",
     "exception": false,
     "start_time": "2024-12-05T18:12:24.719025",
     "status": "completed"
    },
    "tags": []
   },
   "source": [
    "# Frequency Distribution of efs"
   ]
  },
  {
   "cell_type": "code",
   "execution_count": 15,
   "id": "5658c503",
   "metadata": {
    "execution": {
     "iopub.execute_input": "2024-12-05T18:12:24.753217Z",
     "iopub.status.busy": "2024-12-05T18:12:24.752938Z",
     "iopub.status.idle": "2024-12-05T18:12:24.917085Z",
     "shell.execute_reply": "2024-12-05T18:12:24.915844Z"
    },
    "papermill": {
     "duration": 0.179401,
     "end_time": "2024-12-05T18:12:24.920405",
     "exception": false,
     "start_time": "2024-12-05T18:12:24.741004",
     "status": "completed"
    },
    "tags": []
   },
   "outputs": [
    {
     "data": {
      "text/plain": [
       "<matplotlib.legend.Legend at 0x7f1005cc0340>"
      ]
     },
     "execution_count": 15,
     "metadata": {},
     "output_type": "execute_result"
    },
    {
     "data": {
      "image/png": "[encoded data removed]",
      "text/plain": [
       "<Figure size 800x800 with 1 Axes>"
      ]
     },
     "metadata": {},
     "output_type": "display_data"
    }
   ],
   "source": [
    "train_data[\"efs\"].value_counts().head(7).plot(kind = 'pie', autopct='%1.1f%%', figsize=(8, 8)).legend()"
   ]
  },
  {
   "cell_type": "markdown",
   "id": "b4d482e9",
   "metadata": {
    "papermill": {
     "duration": 0.035684,
     "end_time": "2024-12-05T18:12:24.993777",
     "exception": false,
     "start_time": "2024-12-05T18:12:24.958093",
     "status": "completed"
    },
    "tags": []
   },
   "source": [
    "# All features of train data distrubution "
   ]
  },
  {
   "cell_type": "code",
   "execution_count": 16,
   "id": "3a3e50a2",
   "metadata": {
    "execution": {
     "iopub.execute_input": "2024-12-05T18:12:25.023726Z",
     "iopub.status.busy": "2024-12-05T18:12:25.023355Z",
     "iopub.status.idle": "2024-12-05T18:12:28.099774Z",
     "shell.execute_reply": "2024-12-05T18:12:28.098886Z"
    },
    "papermill": {
     "duration": 3.091141,
     "end_time": "2024-12-05T18:12:28.101986",
     "exception": false,
     "start_time": "2024-12-05T18:12:25.010845",
     "status": "completed"
    },
    "tags": []
   },
   "outputs": [
    {
     "data": {
      "image/png": "[encoded data removed]",
      "text/plain": [
       "<Figure size 1500x1200 with 25 Axes>"
      ]
     },
     "metadata": {},
     "output_type": "display_data"
    }
   ],
   "source": [
    "train_data.hist(figsize=(15,12),bins = 20, color=\"#107009AA\")\n",
    "plt.title(\"Features Distribution\")\n",
    "plt.show()"
   ]
  },
  {
   "cell_type": "markdown",
   "id": "8f2efa70",
   "metadata": {
    "papermill": {
     "duration": 0.014113,
     "end_time": "2024-12-05T18:12:28.131339",
     "exception": false,
     "start_time": "2024-12-05T18:12:28.117226",
     "status": "completed"
    },
    "tags": []
   },
   "source": [
    "<div class=\"alert alert-block alert-danger\">  \n",
    "    <h1><strong>Loading testing data</strong></h1>\n",
    "    <i></i>\n",
    "</div>"
   ]
  },
  {
   "cell_type": "code",
   "execution_count": 17,
   "id": "60c10f20",
   "metadata": {
    "execution": {
     "iopub.execute_input": "2024-12-05T18:12:28.160638Z",
     "iopub.status.busy": "2024-12-05T18:12:28.160268Z",
     "iopub.status.idle": "2024-12-05T18:12:28.170700Z",
     "shell.execute_reply": "2024-12-05T18:12:28.169758Z"
    },
    "papermill": {
     "duration": 0.027436,
     "end_time": "2024-12-05T18:12:28.172590",
     "exception": false,
     "start_time": "2024-12-05T18:12:28.145154",
     "status": "completed"
    },
    "tags": []
   },
   "outputs": [],
   "source": [
    "test_data = pd.read_csv(\"/kaggle/input/equity-post-HCT-survival-predictions/test.csv\")"
   ]
  },
  {
   "cell_type": "markdown",
   "id": "87952a16",
   "metadata": {
    "papermill": {
     "duration": 0.01399,
     "end_time": "2024-12-05T18:12:28.201052",
     "exception": false,
     "start_time": "2024-12-05T18:12:28.187062",
     "status": "completed"
    },
    "tags": []
   },
   "source": [
    "# Exploratory data analysis of test data"
   ]
  },
  {
   "cell_type": "markdown",
   "id": "ffd78b49",
   "metadata": {
    "papermill": {
     "duration": 0.013518,
     "end_time": "2024-12-05T18:12:28.228652",
     "exception": false,
     "start_time": "2024-12-05T18:12:28.215134",
     "status": "completed"
    },
    "tags": []
   },
   "source": [
    "# Five top records of data"
   ]
  },
  {
   "cell_type": "code",
   "execution_count": 18,
   "id": "3e5da482",
   "metadata": {
    "execution": {
     "iopub.execute_input": "2024-12-05T18:12:28.258540Z",
     "iopub.status.busy": "2024-12-05T18:12:28.258199Z",
     "iopub.status.idle": "2024-12-05T18:12:28.277447Z",
     "shell.execute_reply": "2024-12-05T18:12:28.276588Z"
    },
    "papermill": {
     "duration": 0.036124,
     "end_time": "2024-12-05T18:12:28.278986",
     "exception": false,
     "start_time": "2024-12-05T18:12:28.242862",
     "status": "completed"
    },
    "tags": []
   },
   "outputs": [
    {
     "data": {
      "text/html": [
       "<div>\n",
       "<style scoped>\n",
       "    .dataframe tbody tr th:only-of-type {\n",
       "        vertical-align: middle;\n",
       "    }\n",
       "\n",
       "    .dataframe tbody tr th {\n",
       "        vertical-align: top;\n",
       "    }\n",
       "\n",
       "    .dataframe thead th {\n",
       "        text-align: right;\n",
       "    }\n",
       "</style>\n",
       "<table border=\"1\" class=\"dataframe\">\n",
       "  <thead>\n",
       "    <tr style=\"text-align: right;\">\n",
       "      <th></th>\n",
       "      <th>ID</th>\n",
       "      <th>dri_score</th>\n",
       "      <th>psych_disturb</th>\n",
       "      <th>cyto_score</th>\n",
       "      <th>diabetes</th>\n",
       "      <th>hla_match_c_high</th>\n",
       "      <th>hla_high_res_8</th>\n",
       "      <th>tbi_status</th>\n",
       "      <th>arrhythmia</th>\n",
       "      <th>hla_low_res_6</th>\n",
       "      <th>...</th>\n",
       "      <th>karnofsky_score</th>\n",
       "      <th>hepatic_mild</th>\n",
       "      <th>tce_div_match</th>\n",
       "      <th>donor_related</th>\n",
       "      <th>melphalan_dose</th>\n",
       "      <th>hla_low_res_8</th>\n",
       "      <th>cardiac</th>\n",
       "      <th>hla_match_drb1_high</th>\n",
       "      <th>pulm_moderate</th>\n",
       "      <th>hla_low_res_10</th>\n",
       "    </tr>\n",
       "  </thead>\n",
       "  <tbody>\n",
       "    <tr>\n",
       "      <th>0</th>\n",
       "      <td>28800</td>\n",
       "      <td>N/A - non-malignant indication</td>\n",
       "      <td>No</td>\n",
       "      <td>NaN</td>\n",
       "      <td>No</td>\n",
       "      <td>NaN</td>\n",
       "      <td>NaN</td>\n",
       "      <td>No TBI</td>\n",
       "      <td>No</td>\n",
       "      <td>6.0</td>\n",
       "      <td>...</td>\n",
       "      <td>90.0</td>\n",
       "      <td>No</td>\n",
       "      <td>NaN</td>\n",
       "      <td>Unrelated</td>\n",
       "      <td>N/A, Mel not given</td>\n",
       "      <td>8.0</td>\n",
       "      <td>No</td>\n",
       "      <td>2.0</td>\n",
       "      <td>No</td>\n",
       "      <td>10.0</td>\n",
       "    </tr>\n",
       "    <tr>\n",
       "      <th>1</th>\n",
       "      <td>28801</td>\n",
       "      <td>Intermediate</td>\n",
       "      <td>No</td>\n",
       "      <td>Intermediate</td>\n",
       "      <td>No</td>\n",
       "      <td>2.0</td>\n",
       "      <td>8.0</td>\n",
       "      <td>TBI +- Other, &gt;cGy</td>\n",
       "      <td>No</td>\n",
       "      <td>6.0</td>\n",
       "      <td>...</td>\n",
       "      <td>90.0</td>\n",
       "      <td>No</td>\n",
       "      <td>Permissive mismatched</td>\n",
       "      <td>Related</td>\n",
       "      <td>N/A, Mel not given</td>\n",
       "      <td>8.0</td>\n",
       "      <td>No</td>\n",
       "      <td>2.0</td>\n",
       "      <td>Yes</td>\n",
       "      <td>10.0</td>\n",
       "    </tr>\n",
       "    <tr>\n",
       "      <th>2</th>\n",
       "      <td>28802</td>\n",
       "      <td>N/A - non-malignant indication</td>\n",
       "      <td>No</td>\n",
       "      <td>NaN</td>\n",
       "      <td>No</td>\n",
       "      <td>2.0</td>\n",
       "      <td>8.0</td>\n",
       "      <td>No TBI</td>\n",
       "      <td>No</td>\n",
       "      <td>6.0</td>\n",
       "      <td>...</td>\n",
       "      <td>90.0</td>\n",
       "      <td>No</td>\n",
       "      <td>Permissive mismatched</td>\n",
       "      <td>Related</td>\n",
       "      <td>N/A, Mel not given</td>\n",
       "      <td>8.0</td>\n",
       "      <td>No</td>\n",
       "      <td>2.0</td>\n",
       "      <td>No</td>\n",
       "      <td>10.0</td>\n",
       "    </tr>\n",
       "  </tbody>\n",
       "</table>\n",
       "<p>3 rows × 58 columns</p>\n",
       "</div>"
      ],
      "text/plain": [
       "      ID                       dri_score psych_disturb    cyto_score diabetes  \\\n",
       "0  28800  N/A - non-malignant indication            No           NaN       No   \n",
       "1  28801                    Intermediate            No  Intermediate       No   \n",
       "2  28802  N/A - non-malignant indication            No           NaN       No   \n",
       "\n",
       "   hla_match_c_high  hla_high_res_8          tbi_status arrhythmia  \\\n",
       "0               NaN             NaN              No TBI         No   \n",
       "1               2.0             8.0  TBI +- Other, >cGy         No   \n",
       "2               2.0             8.0              No TBI         No   \n",
       "\n",
       "   hla_low_res_6  ... karnofsky_score hepatic_mild          tce_div_match  \\\n",
       "0            6.0  ...            90.0           No                    NaN   \n",
       "1            6.0  ...            90.0           No  Permissive mismatched   \n",
       "2            6.0  ...            90.0           No  Permissive mismatched   \n",
       "\n",
       "  donor_related      melphalan_dose  hla_low_res_8 cardiac  \\\n",
       "0     Unrelated  N/A, Mel not given            8.0      No   \n",
       "1       Related  N/A, Mel not given            8.0      No   \n",
       "2       Related  N/A, Mel not given            8.0      No   \n",
       "\n",
       "   hla_match_drb1_high  pulm_moderate hla_low_res_10  \n",
       "0                  2.0             No           10.0  \n",
       "1                  2.0            Yes           10.0  \n",
       "2                  2.0             No           10.0  \n",
       "\n",
       "[3 rows x 58 columns]"
      ]
     },
     "execution_count": 18,
     "metadata": {},
     "output_type": "execute_result"
    }
   ],
   "source": [
    "test_data.head()"
   ]
  },
  {
   "cell_type": "markdown",
   "id": "0b9ea98f",
   "metadata": {
    "papermill": {
     "duration": 0.014525,
     "end_time": "2024-12-05T18:12:28.308722",
     "exception": false,
     "start_time": "2024-12-05T18:12:28.294197",
     "status": "completed"
    },
    "tags": []
   },
   "source": [
    "# Five last records of data"
   ]
  },
  {
   "cell_type": "code",
   "execution_count": 19,
   "id": "e4bbf4df",
   "metadata": {
    "execution": {
     "iopub.execute_input": "2024-12-05T18:12:28.338173Z",
     "iopub.status.busy": "2024-12-05T18:12:28.337527Z",
     "iopub.status.idle": "2024-12-05T18:12:28.355799Z",
     "shell.execute_reply": "2024-12-05T18:12:28.355028Z"
    },
    "papermill": {
     "duration": 0.034673,
     "end_time": "2024-12-05T18:12:28.357425",
     "exception": false,
     "start_time": "2024-12-05T18:12:28.322752",
     "status": "completed"
    },
    "tags": []
   },
   "outputs": [
    {
     "data": {
      "text/html": [
       "<div>\n",
       "<style scoped>\n",
       "    .dataframe tbody tr th:only-of-type {\n",
       "        vertical-align: middle;\n",
       "    }\n",
       "\n",
       "    .dataframe tbody tr th {\n",
       "        vertical-align: top;\n",
       "    }\n",
       "\n",
       "    .dataframe thead th {\n",
       "        text-align: right;\n",
       "    }\n",
       "</style>\n",
       "<table border=\"1\" class=\"dataframe\">\n",
       "  <thead>\n",
       "    <tr style=\"text-align: right;\">\n",
       "      <th></th>\n",
       "      <th>ID</th>\n",
       "      <th>dri_score</th>\n",
       "      <th>psych_disturb</th>\n",
       "      <th>cyto_score</th>\n",
       "      <th>diabetes</th>\n",
       "      <th>hla_match_c_high</th>\n",
       "      <th>hla_high_res_8</th>\n",
       "      <th>tbi_status</th>\n",
       "      <th>arrhythmia</th>\n",
       "      <th>hla_low_res_6</th>\n",
       "      <th>...</th>\n",
       "      <th>karnofsky_score</th>\n",
       "      <th>hepatic_mild</th>\n",
       "      <th>tce_div_match</th>\n",
       "      <th>donor_related</th>\n",
       "      <th>melphalan_dose</th>\n",
       "      <th>hla_low_res_8</th>\n",
       "      <th>cardiac</th>\n",
       "      <th>hla_match_drb1_high</th>\n",
       "      <th>pulm_moderate</th>\n",
       "      <th>hla_low_res_10</th>\n",
       "    </tr>\n",
       "  </thead>\n",
       "  <tbody>\n",
       "    <tr>\n",
       "      <th>0</th>\n",
       "      <td>28800</td>\n",
       "      <td>N/A - non-malignant indication</td>\n",
       "      <td>No</td>\n",
       "      <td>NaN</td>\n",
       "      <td>No</td>\n",
       "      <td>NaN</td>\n",
       "      <td>NaN</td>\n",
       "      <td>No TBI</td>\n",
       "      <td>No</td>\n",
       "      <td>6.0</td>\n",
       "      <td>...</td>\n",
       "      <td>90.0</td>\n",
       "      <td>No</td>\n",
       "      <td>NaN</td>\n",
       "      <td>Unrelated</td>\n",
       "      <td>N/A, Mel not given</td>\n",
       "      <td>8.0</td>\n",
       "      <td>No</td>\n",
       "      <td>2.0</td>\n",
       "      <td>No</td>\n",
       "      <td>10.0</td>\n",
       "    </tr>\n",
       "    <tr>\n",
       "      <th>1</th>\n",
       "      <td>28801</td>\n",
       "      <td>Intermediate</td>\n",
       "      <td>No</td>\n",
       "      <td>Intermediate</td>\n",
       "      <td>No</td>\n",
       "      <td>2.0</td>\n",
       "      <td>8.0</td>\n",
       "      <td>TBI +- Other, &gt;cGy</td>\n",
       "      <td>No</td>\n",
       "      <td>6.0</td>\n",
       "      <td>...</td>\n",
       "      <td>90.0</td>\n",
       "      <td>No</td>\n",
       "      <td>Permissive mismatched</td>\n",
       "      <td>Related</td>\n",
       "      <td>N/A, Mel not given</td>\n",
       "      <td>8.0</td>\n",
       "      <td>No</td>\n",
       "      <td>2.0</td>\n",
       "      <td>Yes</td>\n",
       "      <td>10.0</td>\n",
       "    </tr>\n",
       "    <tr>\n",
       "      <th>2</th>\n",
       "      <td>28802</td>\n",
       "      <td>N/A - non-malignant indication</td>\n",
       "      <td>No</td>\n",
       "      <td>NaN</td>\n",
       "      <td>No</td>\n",
       "      <td>2.0</td>\n",
       "      <td>8.0</td>\n",
       "      <td>No TBI</td>\n",
       "      <td>No</td>\n",
       "      <td>6.0</td>\n",
       "      <td>...</td>\n",
       "      <td>90.0</td>\n",
       "      <td>No</td>\n",
       "      <td>Permissive mismatched</td>\n",
       "      <td>Related</td>\n",
       "      <td>N/A, Mel not given</td>\n",
       "      <td>8.0</td>\n",
       "      <td>No</td>\n",
       "      <td>2.0</td>\n",
       "      <td>No</td>\n",
       "      <td>10.0</td>\n",
       "    </tr>\n",
       "  </tbody>\n",
       "</table>\n",
       "<p>3 rows × 58 columns</p>\n",
       "</div>"
      ],
      "text/plain": [
       "      ID                       dri_score psych_disturb    cyto_score diabetes  \\\n",
       "0  28800  N/A - non-malignant indication            No           NaN       No   \n",
       "1  28801                    Intermediate            No  Intermediate       No   \n",
       "2  28802  N/A - non-malignant indication            No           NaN       No   \n",
       "\n",
       "   hla_match_c_high  hla_high_res_8          tbi_status arrhythmia  \\\n",
       "0               NaN             NaN              No TBI         No   \n",
       "1               2.0             8.0  TBI +- Other, >cGy         No   \n",
       "2               2.0             8.0              No TBI         No   \n",
       "\n",
       "   hla_low_res_6  ... karnofsky_score hepatic_mild          tce_div_match  \\\n",
       "0            6.0  ...            90.0           No                    NaN   \n",
       "1            6.0  ...            90.0           No  Permissive mismatched   \n",
       "2            6.0  ...            90.0           No  Permissive mismatched   \n",
       "\n",
       "  donor_related      melphalan_dose  hla_low_res_8 cardiac  \\\n",
       "0     Unrelated  N/A, Mel not given            8.0      No   \n",
       "1       Related  N/A, Mel not given            8.0      No   \n",
       "2       Related  N/A, Mel not given            8.0      No   \n",
       "\n",
       "   hla_match_drb1_high  pulm_moderate hla_low_res_10  \n",
       "0                  2.0             No           10.0  \n",
       "1                  2.0            Yes           10.0  \n",
       "2                  2.0             No           10.0  \n",
       "\n",
       "[3 rows x 58 columns]"
      ]
     },
     "execution_count": 19,
     "metadata": {},
     "output_type": "execute_result"
    }
   ],
   "source": [
    "test_data.tail()"
   ]
  },
  {
   "cell_type": "markdown",
   "id": "7c02d596",
   "metadata": {
    "papermill": {
     "duration": 0.01436,
     "end_time": "2024-12-05T18:12:28.386675",
     "exception": false,
     "start_time": "2024-12-05T18:12:28.372315",
     "status": "completed"
    },
    "tags": []
   },
   "source": [
    "# Coloumns/features in data"
   ]
  },
  {
   "cell_type": "code",
   "execution_count": 20,
   "id": "d9586f13",
   "metadata": {
    "execution": {
     "iopub.execute_input": "2024-12-05T18:12:28.417460Z",
     "iopub.status.busy": "2024-12-05T18:12:28.417114Z",
     "iopub.status.idle": "2024-12-05T18:12:28.423424Z",
     "shell.execute_reply": "2024-12-05T18:12:28.422499Z"
    },
    "papermill": {
     "duration": 0.024257,
     "end_time": "2024-12-05T18:12:28.425114",
     "exception": false,
     "start_time": "2024-12-05T18:12:28.400857",
     "status": "completed"
    },
    "tags": []
   },
   "outputs": [
    {
     "data": {
      "text/plain": [
       "Index(['ID', 'dri_score', 'psych_disturb', 'cyto_score', 'diabetes',\n",
       "       'hla_match_c_high', 'hla_high_res_8', 'tbi_status', 'arrhythmia',\n",
       "       'hla_low_res_6', 'graft_type', 'vent_hist', 'renal_issue',\n",
       "       'pulm_severe', 'prim_disease_hct', 'hla_high_res_6', 'cmv_status',\n",
       "       'hla_high_res_10', 'hla_match_dqb1_high', 'tce_imm_match', 'hla_nmdp_6',\n",
       "       'hla_match_c_low', 'rituximab', 'hla_match_drb1_low',\n",
       "       'hla_match_dqb1_low', 'prod_type', 'cyto_score_detail',\n",
       "       'conditioning_intensity', 'ethnicity', 'year_hct', 'obesity', 'mrd_hct',\n",
       "       'in_vivo_tcd', 'tce_match', 'hla_match_a_high', 'hepatic_severe',\n",
       "       'donor_age', 'prior_tumor', 'hla_match_b_low', 'peptic_ulcer',\n",
       "       'age_at_hct', 'hla_match_a_low', 'gvhd_proph', 'rheum_issue',\n",
       "       'sex_match', 'hla_match_b_high', 'race_group', 'comorbidity_score',\n",
       "       'karnofsky_score', 'hepatic_mild', 'tce_div_match', 'donor_related',\n",
       "       'melphalan_dose', 'hla_low_res_8', 'cardiac', 'hla_match_drb1_high',\n",
       "       'pulm_moderate', 'hla_low_res_10'],\n",
       "      dtype='object')"
      ]
     },
     "execution_count": 20,
     "metadata": {},
     "output_type": "execute_result"
    }
   ],
   "source": [
    "test_data.columns"
   ]
  },
  {
   "cell_type": "markdown",
   "id": "a4d0c7bc",
   "metadata": {
    "papermill": {
     "duration": 0.014869,
     "end_time": "2024-12-05T18:12:28.455021",
     "exception": false,
     "start_time": "2024-12-05T18:12:28.440152",
     "status": "completed"
    },
    "tags": []
   },
   "source": [
    "# Length of data"
   ]
  },
  {
   "cell_type": "code",
   "execution_count": 21,
   "id": "5a6a855a",
   "metadata": {
    "execution": {
     "iopub.execute_input": "2024-12-05T18:12:28.485778Z",
     "iopub.status.busy": "2024-12-05T18:12:28.485450Z",
     "iopub.status.idle": "2024-12-05T18:12:28.489663Z",
     "shell.execute_reply": "2024-12-05T18:12:28.488877Z"
    },
    "papermill": {
     "duration": 0.021943,
     "end_time": "2024-12-05T18:12:28.491521",
     "exception": false,
     "start_time": "2024-12-05T18:12:28.469578",
     "status": "completed"
    },
    "tags": []
   },
   "outputs": [
    {
     "name": "stdout",
     "output_type": "stream",
     "text": [
      "lenght of data is 3\n"
     ]
    }
   ],
   "source": [
    "print('lenght of data is', len(test_data))"
   ]
  },
  {
   "cell_type": "markdown",
   "id": "7c3ce980",
   "metadata": {
    "papermill": {
     "duration": 0.014452,
     "end_time": "2024-12-05T18:12:28.520675",
     "exception": false,
     "start_time": "2024-12-05T18:12:28.506223",
     "status": "completed"
    },
    "tags": []
   },
   "source": [
    "# Shape of data"
   ]
  },
  {
   "cell_type": "code",
   "execution_count": 22,
   "id": "666cf3da",
   "metadata": {
    "execution": {
     "iopub.execute_input": "2024-12-05T18:12:28.551913Z",
     "iopub.status.busy": "2024-12-05T18:12:28.551542Z",
     "iopub.status.idle": "2024-12-05T18:12:28.556853Z",
     "shell.execute_reply": "2024-12-05T18:12:28.556034Z"
    },
    "papermill": {
     "duration": 0.022543,
     "end_time": "2024-12-05T18:12:28.558447",
     "exception": false,
     "start_time": "2024-12-05T18:12:28.535904",
     "status": "completed"
    },
    "tags": []
   },
   "outputs": [
    {
     "data": {
      "text/plain": [
       "(3, 58)"
      ]
     },
     "execution_count": 22,
     "metadata": {},
     "output_type": "execute_result"
    }
   ],
   "source": [
    "test_data.shape"
   ]
  },
  {
   "cell_type": "markdown",
   "id": "e93ca8e7",
   "metadata": {
    "papermill": {
     "duration": 0.014503,
     "end_time": "2024-12-05T18:12:28.587710",
     "exception": false,
     "start_time": "2024-12-05T18:12:28.573207",
     "status": "completed"
    },
    "tags": []
   },
   "source": [
    "# Data information"
   ]
  },
  {
   "cell_type": "code",
   "execution_count": 23,
   "id": "88d316fb",
   "metadata": {
    "execution": {
     "iopub.execute_input": "2024-12-05T18:12:28.619380Z",
     "iopub.status.busy": "2024-12-05T18:12:28.619061Z",
     "iopub.status.idle": "2024-12-05T18:12:28.631483Z",
     "shell.execute_reply": "2024-12-05T18:12:28.630413Z"
    },
    "papermill": {
     "duration": 0.030835,
     "end_time": "2024-12-05T18:12:28.633233",
     "exception": false,
     "start_time": "2024-12-05T18:12:28.602398",
     "status": "completed"
    },
    "tags": []
   },
   "outputs": [
    {
     "name": "stdout",
     "output_type": "stream",
     "text": [
      "<class 'pandas.core.frame.DataFrame'>\n",
      "RangeIndex: 3 entries, 0 to 2\n",
      "Data columns (total 58 columns):\n",
      " #   Column                  Non-Null Count  Dtype  \n",
      "---  ------                  --------------  -----  \n",
      " 0   ID                      3 non-null      int64  \n",
      " 1   dri_score               3 non-null      object \n",
      " 2   psych_disturb           3 non-null      object \n",
      " 3   cyto_score              1 non-null      object \n",
      " 4   diabetes                3 non-null      object \n",
      " 5   hla_match_c_high        2 non-null      float64\n",
      " 6   hla_high_res_8          2 non-null      float64\n",
      " 7   tbi_status              3 non-null      object \n",
      " 8   arrhythmia              3 non-null      object \n",
      " 9   hla_low_res_6           3 non-null      float64\n",
      " 10  graft_type              3 non-null      object \n",
      " 11  vent_hist               3 non-null      object \n",
      " 12  renal_issue             3 non-null      object \n",
      " 13  pulm_severe             3 non-null      object \n",
      " 14  prim_disease_hct        3 non-null      object \n",
      " 15  hla_high_res_6          3 non-null      float64\n",
      " 16  cmv_status              3 non-null      object \n",
      " 17  hla_high_res_10         2 non-null      float64\n",
      " 18  hla_match_dqb1_high     3 non-null      float64\n",
      " 19  tce_imm_match           2 non-null      object \n",
      " 20  hla_nmdp_6              3 non-null      float64\n",
      " 21  hla_match_c_low         3 non-null      float64\n",
      " 22  rituximab               3 non-null      object \n",
      " 23  hla_match_drb1_low      3 non-null      float64\n",
      " 24  hla_match_dqb1_low      3 non-null      float64\n",
      " 25  prod_type               3 non-null      object \n",
      " 26  cyto_score_detail       1 non-null      object \n",
      " 27  conditioning_intensity  1 non-null      object \n",
      " 28  ethnicity               3 non-null      object \n",
      " 29  year_hct                3 non-null      int64  \n",
      " 30  obesity                 3 non-null      object \n",
      " 31  mrd_hct                 1 non-null      object \n",
      " 32  in_vivo_tcd             3 non-null      object \n",
      " 33  tce_match               1 non-null      object \n",
      " 34  hla_match_a_high        3 non-null      float64\n",
      " 35  hepatic_severe          3 non-null      object \n",
      " 36  donor_age               1 non-null      float64\n",
      " 37  prior_tumor             3 non-null      object \n",
      " 38  hla_match_b_low         3 non-null      float64\n",
      " 39  peptic_ulcer            3 non-null      object \n",
      " 40  age_at_hct              3 non-null      float64\n",
      " 41  hla_match_a_low         3 non-null      float64\n",
      " 42  gvhd_proph              3 non-null      object \n",
      " 43  rheum_issue             3 non-null      object \n",
      " 44  sex_match               3 non-null      object \n",
      " 45  hla_match_b_high        3 non-null      float64\n",
      " 46  race_group              3 non-null      object \n",
      " 47  comorbidity_score       3 non-null      float64\n",
      " 48  karnofsky_score         3 non-null      float64\n",
      " 49  hepatic_mild            3 non-null      object \n",
      " 50  tce_div_match           2 non-null      object \n",
      " 51  donor_related           3 non-null      object \n",
      " 52  melphalan_dose          3 non-null      object \n",
      " 53  hla_low_res_8           3 non-null      float64\n",
      " 54  cardiac                 3 non-null      object \n",
      " 55  hla_match_drb1_high     3 non-null      float64\n",
      " 56  pulm_moderate           3 non-null      object \n",
      " 57  hla_low_res_10          3 non-null      float64\n",
      "dtypes: float64(21), int64(2), object(35)\n",
      "memory usage: 1.5+ KB\n"
     ]
    }
   ],
   "source": [
    "test_data.info()"
   ]
  },
  {
   "cell_type": "markdown",
   "id": "26fd5740",
   "metadata": {
    "papermill": {
     "duration": 0.015009,
     "end_time": "2024-12-05T18:12:28.663707",
     "exception": false,
     "start_time": "2024-12-05T18:12:28.648698",
     "status": "completed"
    },
    "tags": []
   },
   "source": [
    "# Data types of all coloumns"
   ]
  },
  {
   "cell_type": "code",
   "execution_count": 24,
   "id": "45c8c204",
   "metadata": {
    "execution": {
     "iopub.execute_input": "2024-12-05T18:12:28.695014Z",
     "iopub.status.busy": "2024-12-05T18:12:28.694426Z",
     "iopub.status.idle": "2024-12-05T18:12:28.702350Z",
     "shell.execute_reply": "2024-12-05T18:12:28.701375Z"
    },
    "papermill": {
     "duration": 0.025937,
     "end_time": "2024-12-05T18:12:28.704236",
     "exception": false,
     "start_time": "2024-12-05T18:12:28.678299",
     "status": "completed"
    },
    "tags": []
   },
   "outputs": [
    {
     "data": {
      "text/plain": [
       "ID                          int64\n",
       "dri_score                  object\n",
       "psych_disturb              object\n",
       "cyto_score                 object\n",
       "diabetes                   object\n",
       "hla_match_c_high          float64\n",
       "hla_high_res_8            float64\n",
       "tbi_status                 object\n",
       "arrhythmia                 object\n",
       "hla_low_res_6             float64\n",
       "graft_type                 object\n",
       "vent_hist                  object\n",
       "renal_issue                object\n",
       "pulm_severe                object\n",
       "prim_disease_hct           object\n",
       "hla_high_res_6            float64\n",
       "cmv_status                 object\n",
       "hla_high_res_10           float64\n",
       "hla_match_dqb1_high       float64\n",
       "tce_imm_match              object\n",
       "hla_nmdp_6                float64\n",
       "hla_match_c_low           float64\n",
       "rituximab                  object\n",
       "hla_match_drb1_low        float64\n",
       "hla_match_dqb1_low        float64\n",
       "prod_type                  object\n",
       "cyto_score_detail          object\n",
       "conditioning_intensity     object\n",
       "ethnicity                  object\n",
       "year_hct                    int64\n",
       "obesity                    object\n",
       "mrd_hct                    object\n",
       "in_vivo_tcd                object\n",
       "tce_match                  object\n",
       "hla_match_a_high          float64\n",
       "hepatic_severe             object\n",
       "donor_age                 float64\n",
       "prior_tumor                object\n",
       "hla_match_b_low           float64\n",
       "peptic_ulcer               object\n",
       "age_at_hct                float64\n",
       "hla_match_a_low           float64\n",
       "gvhd_proph                 object\n",
       "rheum_issue                object\n",
       "sex_match                  object\n",
       "hla_match_b_high          float64\n",
       "race_group                 object\n",
       "comorbidity_score         float64\n",
       "karnofsky_score           float64\n",
       "hepatic_mild               object\n",
       "tce_div_match              object\n",
       "donor_related              object\n",
       "melphalan_dose             object\n",
       "hla_low_res_8             float64\n",
       "cardiac                    object\n",
       "hla_match_drb1_high       float64\n",
       "pulm_moderate              object\n",
       "hla_low_res_10            float64\n",
       "dtype: object"
      ]
     },
     "execution_count": 24,
     "metadata": {},
     "output_type": "execute_result"
    }
   ],
   "source": [
    "test_data.dtypes"
   ]
  },
  {
   "cell_type": "markdown",
   "id": "bd05655a",
   "metadata": {
    "papermill": {
     "duration": 0.014667,
     "end_time": "2024-12-05T18:12:28.734392",
     "exception": false,
     "start_time": "2024-12-05T18:12:28.719725",
     "status": "completed"
    },
    "tags": []
   },
   "source": [
    "# Checking missing Values"
   ]
  },
  {
   "cell_type": "code",
   "execution_count": 25,
   "id": "321c5ecd",
   "metadata": {
    "execution": {
     "iopub.execute_input": "2024-12-05T18:12:28.765759Z",
     "iopub.status.busy": "2024-12-05T18:12:28.765400Z",
     "iopub.status.idle": "2024-12-05T18:12:28.785134Z",
     "shell.execute_reply": "2024-12-05T18:12:28.784312Z"
    },
    "papermill": {
     "duration": 0.037209,
     "end_time": "2024-12-05T18:12:28.786643",
     "exception": false,
     "start_time": "2024-12-05T18:12:28.749434",
     "status": "completed"
    },
    "scrolled": true,
    "tags": []
   },
   "outputs": [
    {
     "data": {
      "text/html": [
       "<div>\n",
       "<style scoped>\n",
       "    .dataframe tbody tr th:only-of-type {\n",
       "        vertical-align: middle;\n",
       "    }\n",
       "\n",
       "    .dataframe tbody tr th {\n",
       "        vertical-align: top;\n",
       "    }\n",
       "\n",
       "    .dataframe thead th {\n",
       "        text-align: right;\n",
       "    }\n",
       "</style>\n",
       "<table border=\"1\" class=\"dataframe\">\n",
       "  <thead>\n",
       "    <tr style=\"text-align: right;\">\n",
       "      <th></th>\n",
       "      <th>ID</th>\n",
       "      <th>dri_score</th>\n",
       "      <th>psych_disturb</th>\n",
       "      <th>cyto_score</th>\n",
       "      <th>diabetes</th>\n",
       "      <th>hla_match_c_high</th>\n",
       "      <th>hla_high_res_8</th>\n",
       "      <th>tbi_status</th>\n",
       "      <th>arrhythmia</th>\n",
       "      <th>hla_low_res_6</th>\n",
       "      <th>...</th>\n",
       "      <th>karnofsky_score</th>\n",
       "      <th>hepatic_mild</th>\n",
       "      <th>tce_div_match</th>\n",
       "      <th>donor_related</th>\n",
       "      <th>melphalan_dose</th>\n",
       "      <th>hla_low_res_8</th>\n",
       "      <th>cardiac</th>\n",
       "      <th>hla_match_drb1_high</th>\n",
       "      <th>pulm_moderate</th>\n",
       "      <th>hla_low_res_10</th>\n",
       "    </tr>\n",
       "  </thead>\n",
       "  <tbody>\n",
       "    <tr>\n",
       "      <th>0</th>\n",
       "      <td>28800</td>\n",
       "      <td>N/A - non-malignant indication</td>\n",
       "      <td>No</td>\n",
       "      <td>NaN</td>\n",
       "      <td>No</td>\n",
       "      <td>NaN</td>\n",
       "      <td>NaN</td>\n",
       "      <td>No TBI</td>\n",
       "      <td>No</td>\n",
       "      <td>6.0</td>\n",
       "      <td>...</td>\n",
       "      <td>90.0</td>\n",
       "      <td>No</td>\n",
       "      <td>NaN</td>\n",
       "      <td>Unrelated</td>\n",
       "      <td>N/A, Mel not given</td>\n",
       "      <td>8.0</td>\n",
       "      <td>No</td>\n",
       "      <td>2.0</td>\n",
       "      <td>No</td>\n",
       "      <td>10.0</td>\n",
       "    </tr>\n",
       "    <tr>\n",
       "      <th>2</th>\n",
       "      <td>28802</td>\n",
       "      <td>N/A - non-malignant indication</td>\n",
       "      <td>No</td>\n",
       "      <td>NaN</td>\n",
       "      <td>No</td>\n",
       "      <td>2.0</td>\n",
       "      <td>8.0</td>\n",
       "      <td>No TBI</td>\n",
       "      <td>No</td>\n",
       "      <td>6.0</td>\n",
       "      <td>...</td>\n",
       "      <td>90.0</td>\n",
       "      <td>No</td>\n",
       "      <td>Permissive mismatched</td>\n",
       "      <td>Related</td>\n",
       "      <td>N/A, Mel not given</td>\n",
       "      <td>8.0</td>\n",
       "      <td>No</td>\n",
       "      <td>2.0</td>\n",
       "      <td>No</td>\n",
       "      <td>10.0</td>\n",
       "    </tr>\n",
       "  </tbody>\n",
       "</table>\n",
       "<p>2 rows × 58 columns</p>\n",
       "</div>"
      ],
      "text/plain": [
       "      ID                       dri_score psych_disturb cyto_score diabetes  \\\n",
       "0  28800  N/A - non-malignant indication            No        NaN       No   \n",
       "2  28802  N/A - non-malignant indication            No        NaN       No   \n",
       "\n",
       "   hla_match_c_high  hla_high_res_8 tbi_status arrhythmia  hla_low_res_6  ...  \\\n",
       "0               NaN             NaN     No TBI         No            6.0  ...   \n",
       "2               2.0             8.0     No TBI         No            6.0  ...   \n",
       "\n",
       "  karnofsky_score hepatic_mild          tce_div_match donor_related  \\\n",
       "0            90.0           No                    NaN     Unrelated   \n",
       "2            90.0           No  Permissive mismatched       Related   \n",
       "\n",
       "       melphalan_dose  hla_low_res_8 cardiac  hla_match_drb1_high  \\\n",
       "0  N/A, Mel not given            8.0      No                  2.0   \n",
       "2  N/A, Mel not given            8.0      No                  2.0   \n",
       "\n",
       "   pulm_moderate hla_low_res_10  \n",
       "0             No           10.0  \n",
       "2             No           10.0  \n",
       "\n",
       "[2 rows x 58 columns]"
      ]
     },
     "execution_count": 25,
     "metadata": {},
     "output_type": "execute_result"
    }
   ],
   "source": [
    "test_data[test_data.isnull().any(axis=1)].head()"
   ]
  },
  {
   "cell_type": "markdown",
   "id": "bdb0ef13",
   "metadata": {
    "papermill": {
     "duration": 0.014735,
     "end_time": "2024-12-05T18:12:28.817540",
     "exception": false,
     "start_time": "2024-12-05T18:12:28.802805",
     "status": "completed"
    },
    "tags": []
   },
   "source": [
    "# Count of missing values"
   ]
  },
  {
   "cell_type": "code",
   "execution_count": 26,
   "id": "67dbcd8d",
   "metadata": {
    "execution": {
     "iopub.execute_input": "2024-12-05T18:12:28.848860Z",
     "iopub.status.busy": "2024-12-05T18:12:28.848524Z",
     "iopub.status.idle": "2024-12-05T18:12:28.854653Z",
     "shell.execute_reply": "2024-12-05T18:12:28.853867Z"
    },
    "papermill": {
     "duration": 0.023551,
     "end_time": "2024-12-05T18:12:28.856306",
     "exception": false,
     "start_time": "2024-12-05T18:12:28.832755",
     "status": "completed"
    },
    "scrolled": true,
    "tags": []
   },
   "outputs": [
    {
     "data": {
      "text/plain": [
       "2"
      ]
     },
     "execution_count": 26,
     "metadata": {},
     "output_type": "execute_result"
    }
   ],
   "source": [
    "np.sum(test_data.isnull().any(axis=1))"
   ]
  },
  {
   "cell_type": "markdown",
   "id": "087cd6cd",
   "metadata": {
    "papermill": {
     "duration": 0.01525,
     "end_time": "2024-12-05T18:12:28.886363",
     "exception": false,
     "start_time": "2024-12-05T18:12:28.871113",
     "status": "completed"
    },
    "tags": []
   },
   "source": [
    "# Is there any missing values?"
   ]
  },
  {
   "cell_type": "code",
   "execution_count": 27,
   "id": "dcc2a9fa",
   "metadata": {
    "execution": {
     "iopub.execute_input": "2024-12-05T18:12:28.955409Z",
     "iopub.status.busy": "2024-12-05T18:12:28.955056Z",
     "iopub.status.idle": "2024-12-05T18:12:28.961496Z",
     "shell.execute_reply": "2024-12-05T18:12:28.960610Z"
    },
    "papermill": {
     "duration": 0.062245,
     "end_time": "2024-12-05T18:12:28.963380",
     "exception": false,
     "start_time": "2024-12-05T18:12:28.901135",
     "status": "completed"
    },
    "tags": []
   },
   "outputs": [
    {
     "data": {
      "text/plain": [
       "True"
      ]
     },
     "execution_count": 27,
     "metadata": {},
     "output_type": "execute_result"
    }
   ],
   "source": [
    "test_data.isnull().values.any()"
   ]
  },
  {
   "cell_type": "markdown",
   "id": "ab99fb22",
   "metadata": {
    "papermill": {
     "duration": 0.01507,
     "end_time": "2024-12-05T18:12:28.995005",
     "exception": false,
     "start_time": "2024-12-05T18:12:28.979935",
     "status": "completed"
    },
    "tags": []
   },
   "source": [
    "# Counts of missing values in each column"
   ]
  },
  {
   "cell_type": "code",
   "execution_count": 28,
   "id": "92b7796b",
   "metadata": {
    "execution": {
     "iopub.execute_input": "2024-12-05T18:12:29.027379Z",
     "iopub.status.busy": "2024-12-05T18:12:29.027029Z",
     "iopub.status.idle": "2024-12-05T18:12:29.034436Z",
     "shell.execute_reply": "2024-12-05T18:12:29.033640Z"
    },
    "papermill": {
     "duration": 0.02542,
     "end_time": "2024-12-05T18:12:29.036010",
     "exception": false,
     "start_time": "2024-12-05T18:12:29.010590",
     "status": "completed"
    },
    "tags": []
   },
   "outputs": [
    {
     "data": {
      "text/plain": [
       "ID                        0\n",
       "dri_score                 0\n",
       "psych_disturb             0\n",
       "cyto_score                2\n",
       "diabetes                  0\n",
       "hla_match_c_high          1\n",
       "hla_high_res_8            1\n",
       "tbi_status                0\n",
       "arrhythmia                0\n",
       "hla_low_res_6             0\n",
       "graft_type                0\n",
       "vent_hist                 0\n",
       "renal_issue               0\n",
       "pulm_severe               0\n",
       "prim_disease_hct          0\n",
       "hla_high_res_6            0\n",
       "cmv_status                0\n",
       "hla_high_res_10           1\n",
       "hla_match_dqb1_high       0\n",
       "tce_imm_match             1\n",
       "hla_nmdp_6                0\n",
       "hla_match_c_low           0\n",
       "rituximab                 0\n",
       "hla_match_drb1_low        0\n",
       "hla_match_dqb1_low        0\n",
       "prod_type                 0\n",
       "cyto_score_detail         2\n",
       "conditioning_intensity    2\n",
       "ethnicity                 0\n",
       "year_hct                  0\n",
       "obesity                   0\n",
       "mrd_hct                   2\n",
       "in_vivo_tcd               0\n",
       "tce_match                 2\n",
       "hla_match_a_high          0\n",
       "hepatic_severe            0\n",
       "donor_age                 2\n",
       "prior_tumor               0\n",
       "hla_match_b_low           0\n",
       "peptic_ulcer              0\n",
       "age_at_hct                0\n",
       "hla_match_a_low           0\n",
       "gvhd_proph                0\n",
       "rheum_issue               0\n",
       "sex_match                 0\n",
       "hla_match_b_high          0\n",
       "race_group                0\n",
       "comorbidity_score         0\n",
       "karnofsky_score           0\n",
       "hepatic_mild              0\n",
       "tce_div_match             1\n",
       "donor_related             0\n",
       "melphalan_dose            0\n",
       "hla_low_res_8             0\n",
       "cardiac                   0\n",
       "hla_match_drb1_high       0\n",
       "pulm_moderate             0\n",
       "hla_low_res_10            0\n",
       "dtype: int64"
      ]
     },
     "execution_count": 28,
     "metadata": {},
     "output_type": "execute_result"
    }
   ],
   "source": [
    "test_data.isnull().sum()"
   ]
  },
  {
   "cell_type": "markdown",
   "id": "29db0d45",
   "metadata": {
    "papermill": {
     "duration": 0.015015,
     "end_time": "2024-12-05T18:12:29.066806",
     "exception": false,
     "start_time": "2024-12-05T18:12:29.051791",
     "status": "completed"
    },
    "tags": []
   },
   "source": [
    "# Looking at the test data missing values."
   ]
  },
  {
   "cell_type": "code",
   "execution_count": 29,
   "id": "6c6638ea",
   "metadata": {
    "execution": {
     "iopub.execute_input": "2024-12-05T18:12:29.098767Z",
     "iopub.status.busy": "2024-12-05T18:12:29.098118Z",
     "iopub.status.idle": "2024-12-05T18:12:29.104097Z",
     "shell.execute_reply": "2024-12-05T18:12:29.103213Z"
    },
    "papermill": {
     "duration": 0.024034,
     "end_time": "2024-12-05T18:12:29.105962",
     "exception": false,
     "start_time": "2024-12-05T18:12:29.081928",
     "status": "completed"
    },
    "tags": []
   },
   "outputs": [
    {
     "name": "stdout",
     "output_type": "stream",
     "text": [
      "cyto_score 2\n",
      "hla_match_c_high 1\n",
      "hla_high_res_8 1\n",
      "hla_high_res_10 1\n",
      "tce_imm_match 1\n",
      "cyto_score_detail 2\n",
      "conditioning_intensity 2\n",
      "mrd_hct 2\n",
      "tce_match 2\n",
      "donor_age 2\n",
      "tce_div_match 1\n"
     ]
    }
   ],
   "source": [
    "NANColumns=[]\n",
    "i=-1\n",
    "for a in test_data.isnull().sum():\n",
    "    i+=1\n",
    "    if a!=0:\n",
    "        print(test_data.columns[i],a)\n",
    "        NANColumns.append(test_data.columns[i])"
   ]
  },
  {
   "cell_type": "code",
   "execution_count": 30,
   "id": "2bb6b8e3",
   "metadata": {
    "execution": {
     "iopub.execute_input": "2024-12-05T18:12:29.139854Z",
     "iopub.status.busy": "2024-12-05T18:12:29.139244Z",
     "iopub.status.idle": "2024-12-05T18:12:32.172690Z",
     "shell.execute_reply": "2024-12-05T18:12:32.171721Z"
    },
    "papermill": {
     "duration": 3.052985,
     "end_time": "2024-12-05T18:12:32.174910",
     "exception": false,
     "start_time": "2024-12-05T18:12:29.121925",
     "status": "completed"
    },
    "tags": []
   },
   "outputs": [
    {
     "data": {
      "image/png": "[encoded data removed]",
      "text/plain": [
       "<Figure size 1500x1200 with 25 Axes>"
      ]
     },
     "metadata": {},
     "output_type": "display_data"
    }
   ],
   "source": [
    "test_data.hist(figsize=(15,12),bins = 20, color=\"#107009AA\")\n",
    "plt.title(\"Features Distribution\")\n",
    "plt.show()"
   ]
  },
  {
   "cell_type": "markdown",
   "id": "3d9f6436",
   "metadata": {
    "papermill": {
     "duration": 0.017797,
     "end_time": "2024-12-05T18:12:32.210588",
     "exception": false,
     "start_time": "2024-12-05T18:12:32.192791",
     "status": "completed"
    },
    "tags": []
   },
   "source": [
    "# Identify features and target"
   ]
  },
  {
   "cell_type": "code",
   "execution_count": 31,
   "id": "bd446212",
   "metadata": {
    "execution": {
     "iopub.execute_input": "2024-12-05T18:12:32.247771Z",
     "iopub.status.busy": "2024-12-05T18:12:32.246932Z",
     "iopub.status.idle": "2024-12-05T18:12:32.260314Z",
     "shell.execute_reply": "2024-12-05T18:12:32.259281Z"
    },
    "papermill": {
     "duration": 0.034209,
     "end_time": "2024-12-05T18:12:32.262388",
     "exception": false,
     "start_time": "2024-12-05T18:12:32.228179",
     "status": "completed"
    },
    "tags": []
   },
   "outputs": [],
   "source": [
    "X_train = train_data.drop(columns=['efs'])\n",
    "y_train = train_data['efs']\n",
    "X_test = test_data.copy()"
   ]
  },
  {
   "cell_type": "code",
   "execution_count": 32,
   "id": "d9e18819",
   "metadata": {
    "execution": {
     "iopub.execute_input": "2024-12-05T18:12:32.298897Z",
     "iopub.status.busy": "2024-12-05T18:12:32.298565Z",
     "iopub.status.idle": "2024-12-05T18:12:32.304820Z",
     "shell.execute_reply": "2024-12-05T18:12:32.304004Z"
    },
    "papermill": {
     "duration": 0.025868,
     "end_time": "2024-12-05T18:12:32.306358",
     "exception": false,
     "start_time": "2024-12-05T18:12:32.280490",
     "status": "completed"
    },
    "tags": []
   },
   "outputs": [],
   "source": [
    "# Ensuring the consistent columns between train and test\n",
    "missing_cols_in_test = set(X_train.columns) - set(X_test.columns)\n",
    "for col in missing_cols_in_test:\n",
    "    X_test[col] = np.nan\n",
    "X_test = X_test[X_train.columns] "
   ]
  },
  {
   "cell_type": "markdown",
   "id": "8bfd1872",
   "metadata": {
    "papermill": {
     "duration": 0.017572,
     "end_time": "2024-12-05T18:12:32.340912",
     "exception": false,
     "start_time": "2024-12-05T18:12:32.323340",
     "status": "completed"
    },
    "tags": []
   },
   "source": [
    "# Preprocessing for numerical data`"
   ]
  },
  {
   "cell_type": "code",
   "execution_count": 33,
   "id": "b238b8a3",
   "metadata": {
    "execution": {
     "iopub.execute_input": "2024-12-05T18:12:32.377354Z",
     "iopub.status.busy": "2024-12-05T18:12:32.377027Z",
     "iopub.status.idle": "2024-12-05T18:12:32.383918Z",
     "shell.execute_reply": "2024-12-05T18:12:32.383278Z"
    },
    "papermill": {
     "duration": 0.027132,
     "end_time": "2024-12-05T18:12:32.385445",
     "exception": false,
     "start_time": "2024-12-05T18:12:32.358313",
     "status": "completed"
    },
    "tags": []
   },
   "outputs": [],
   "source": [
    "numerical_features = X_train.select_dtypes(include=['int64', 'float64']).columns\n",
    "numerical_transformer = SimpleImputer(strategy='mean')"
   ]
  },
  {
   "cell_type": "markdown",
   "id": "0d735cc9",
   "metadata": {
    "papermill": {
     "duration": 0.017024,
     "end_time": "2024-12-05T18:12:32.419900",
     "exception": false,
     "start_time": "2024-12-05T18:12:32.402876",
     "status": "completed"
    },
    "tags": []
   },
   "source": [
    "# Preprocessing for categorical data"
   ]
  },
  {
   "cell_type": "code",
   "execution_count": 34,
   "id": "d6bb9b65",
   "metadata": {
    "execution": {
     "iopub.execute_input": "2024-12-05T18:12:32.456222Z",
     "iopub.status.busy": "2024-12-05T18:12:32.455949Z",
     "iopub.status.idle": "2024-12-05T18:12:32.466964Z",
     "shell.execute_reply": "2024-12-05T18:12:32.466283Z"
    },
    "papermill": {
     "duration": 0.031492,
     "end_time": "2024-12-05T18:12:32.468505",
     "exception": false,
     "start_time": "2024-12-05T18:12:32.437013",
     "status": "completed"
    },
    "tags": []
   },
   "outputs": [],
   "source": [
    "categorical_features = X_train.select_dtypes(include=['object']).columns\n",
    "categorical_transformer = Pipeline(steps=[\n",
    "    ('imputer', SimpleImputer(strategy='most_frequent')),\n",
    "    ('onehot', OneHotEncoder(handle_unknown='ignore'))\n",
    "])"
   ]
  },
  {
   "cell_type": "markdown",
   "id": "d59eebe0",
   "metadata": {
    "papermill": {
     "duration": 0.01693,
     "end_time": "2024-12-05T18:12:32.502825",
     "exception": false,
     "start_time": "2024-12-05T18:12:32.485895",
     "status": "completed"
    },
    "tags": []
   },
   "source": [
    "# Combine preprocessing steps"
   ]
  },
  {
   "cell_type": "code",
   "execution_count": 35,
   "id": "b6f79e78",
   "metadata": {
    "execution": {
     "iopub.execute_input": "2024-12-05T18:12:32.539071Z",
     "iopub.status.busy": "2024-12-05T18:12:32.538760Z",
     "iopub.status.idle": "2024-12-05T18:12:32.543033Z",
     "shell.execute_reply": "2024-12-05T18:12:32.542134Z"
    },
    "papermill": {
     "duration": 0.024943,
     "end_time": "2024-12-05T18:12:32.544640",
     "exception": false,
     "start_time": "2024-12-05T18:12:32.519697",
     "status": "completed"
    },
    "tags": []
   },
   "outputs": [],
   "source": [
    "preprocessor = ColumnTransformer(\n",
    "    transformers=[\n",
    "        ('num', numerical_transformer, numerical_features),\n",
    "        ('cat', categorical_transformer, categorical_features)\n",
    "    ])"
   ]
  },
  {
   "cell_type": "markdown",
   "id": "e89d1fed",
   "metadata": {
    "papermill": {
     "duration": 0.020539,
     "end_time": "2024-12-05T18:12:32.583160",
     "exception": false,
     "start_time": "2024-12-05T18:12:32.562621",
     "status": "completed"
    },
    "tags": []
   },
   "source": [
    "# Model"
   ]
  },
  {
   "cell_type": "code",
   "execution_count": 36,
   "id": "23db19d9",
   "metadata": {
    "execution": {
     "iopub.execute_input": "2024-12-05T18:12:32.620987Z",
     "iopub.status.busy": "2024-12-05T18:12:32.620114Z",
     "iopub.status.idle": "2024-12-05T18:12:32.624378Z",
     "shell.execute_reply": "2024-12-05T18:12:32.623558Z"
    },
    "papermill": {
     "duration": 0.025612,
     "end_time": "2024-12-05T18:12:32.626014",
     "exception": false,
     "start_time": "2024-12-05T18:12:32.600402",
     "status": "completed"
    },
    "tags": []
   },
   "outputs": [],
   "source": [
    "model = XGBClassifier()"
   ]
  },
  {
   "cell_type": "markdown",
   "id": "10ba9016",
   "metadata": {
    "papermill": {
     "duration": 0.017404,
     "end_time": "2024-12-05T18:12:32.661064",
     "exception": false,
     "start_time": "2024-12-05T18:12:32.643660",
     "status": "completed"
    },
    "tags": []
   },
   "source": [
    "# Creating and evaluate the pipeline`"
   ]
  },
  {
   "cell_type": "code",
   "execution_count": 37,
   "id": "a578b983",
   "metadata": {
    "execution": {
     "iopub.execute_input": "2024-12-05T18:12:32.697290Z",
     "iopub.status.busy": "2024-12-05T18:12:32.696913Z",
     "iopub.status.idle": "2024-12-05T18:12:32.702207Z",
     "shell.execute_reply": "2024-12-05T18:12:32.700917Z"
    },
    "papermill": {
     "duration": 0.025854,
     "end_time": "2024-12-05T18:12:32.704097",
     "exception": false,
     "start_time": "2024-12-05T18:12:32.678243",
     "status": "completed"
    },
    "tags": []
   },
   "outputs": [],
   "source": [
    "pipeline = Pipeline(steps=[('preprocessor', preprocessor),\n",
    "                           ('model', model)\n",
    "                          ])"
   ]
  },
  {
   "cell_type": "markdown",
   "id": "6073d6f6",
   "metadata": {
    "papermill": {
     "duration": 0.025473,
     "end_time": "2024-12-05T18:12:32.749052",
     "exception": false,
     "start_time": "2024-12-05T18:12:32.723579",
     "status": "completed"
    },
    "tags": []
   },
   "source": [
    "# Cross-validation"
   ]
  },
  {
   "cell_type": "code",
   "execution_count": 38,
   "id": "0ec9e776",
   "metadata": {
    "execution": {
     "iopub.execute_input": "2024-12-05T18:12:32.793439Z",
     "iopub.status.busy": "2024-12-05T18:12:32.792567Z",
     "iopub.status.idle": "2024-12-05T18:12:37.732298Z",
     "shell.execute_reply": "2024-12-05T18:12:37.731471Z"
    },
    "papermill": {
     "duration": 4.960933,
     "end_time": "2024-12-05T18:12:37.734357",
     "exception": false,
     "start_time": "2024-12-05T18:12:32.773424",
     "status": "completed"
    },
    "tags": []
   },
   "outputs": [
    {
     "name": "stdout",
     "output_type": "stream",
     "text": [
      "Cross-validated MSE: 0.010659722222222221\n"
     ]
    }
   ],
   "source": [
    "cv_scores = cross_val_score(pipeline, X_train, y_train, cv=5, scoring='neg_mean_squared_error')\n",
    "print(f'Cross-validated MSE: {-np.mean(cv_scores)}')"
   ]
  },
  {
   "cell_type": "markdown",
   "id": "706754aa",
   "metadata": {
    "papermill": {
     "duration": 0.017568,
     "end_time": "2024-12-05T18:12:37.771349",
     "exception": false,
     "start_time": "2024-12-05T18:12:37.753781",
     "status": "completed"
    },
    "tags": []
   },
   "source": [
    "# Fit the model"
   ]
  },
  {
   "cell_type": "code",
   "execution_count": 39,
   "id": "3c1bc4e7",
   "metadata": {
    "execution": {
     "iopub.execute_input": "2024-12-05T18:12:37.808747Z",
     "iopub.status.busy": "2024-12-05T18:12:37.807865Z",
     "iopub.status.idle": "2024-12-05T18:12:38.950108Z",
     "shell.execute_reply": "2024-12-05T18:12:38.949223Z"
    },
    "papermill": {
     "duration": 1.163017,
     "end_time": "2024-12-05T18:12:38.951947",
     "exception": false,
     "start_time": "2024-12-05T18:12:37.788930",
     "status": "completed"
    },
    "tags": []
   },
   "outputs": [
    {
     "data": {
      "text/html": [
       "<style>#sk-container-id-1 {color: black;background-color: white;}#sk-container-id-1 pre{padding: 0;}#sk-container-id-1 div.sk-toggleable {background-color: white;}#sk-container-id-1 label.sk-toggleable__label {cursor: pointer;display: block;width: 100%;margin-bottom: 0;padding: 0.3em;box-sizing: border-box;text-align: center;}#sk-container-id-1 label.sk-toggleable__label-arrow:before {content: \"▸\";float: left;margin-right: 0.25em;color: #696969;}#sk-container-id-1 label.sk-toggleable__label-arrow:hover:before {color: black;}#sk-container-id-1 div.sk-estimator:hover label.sk-toggleable__label-arrow:before {color: black;}#sk-container-id-1 div.sk-toggleable__content {max-height: 0;max-width: 0;overflow: hidden;text-align: left;background-color: #f0f8ff;}#sk-container-id-1 div.sk-toggleable__content pre {margin: 0.2em;color: black;border-radius: 0.25em;background-color: #f0f8ff;}#sk-container-id-1 input.sk-toggleable__control:checked~div.sk-toggleable__content {max-height: 200px;max-width: 100%;overflow: auto;}#sk-container-id-1 input.sk-toggleable__control:checked~label.sk-toggleable__label-arrow:before {content: \"▾\";}#sk-container-id-1 div.sk-estimator input.sk-toggleable__control:checked~label.sk-toggleable__label {background-color: #d4ebff;}#sk-container-id-1 div.sk-label input.sk-toggleable__control:checked~label.sk-toggleable__label {background-color: #d4ebff;}#sk-container-id-1 input.sk-hidden--visually {border: 0;clip: rect(1px 1px 1px 1px);clip: rect(1px, 1px, 1px, 1px);height: 1px;margin: -1px;overflow: hidden;padding: 0;position: absolute;width: 1px;}#sk-container-id-1 div.sk-estimator {font-family: monospace;background-color: #f0f8ff;border: 1px dotted black;border-radius: 0.25em;box-sizing: border-box;margin-bottom: 0.5em;}#sk-container-id-1 div.sk-estimator:hover {background-color: #d4ebff;}#sk-container-id-1 div.sk-parallel-item::after {content: \"\";width: 100%;border-bottom: 1px solid gray;flex-grow: 1;}#sk-container-id-1 div.sk-label:hover label.sk-toggleable__label {background-color: #d4ebff;}#sk-container-id-1 div.sk-serial::before {content: \"\";position: absolute;border-left: 1px solid gray;box-sizing: border-box;top: 0;bottom: 0;left: 50%;z-index: 0;}#sk-container-id-1 div.sk-serial {display: flex;flex-direction: column;align-items: center;background-color: white;padding-right: 0.2em;padding-left: 0.2em;position: relative;}#sk-container-id-1 div.sk-item {position: relative;z-index: 1;}#sk-container-id-1 div.sk-parallel {display: flex;align-items: stretch;justify-content: center;background-color: white;position: relative;}#sk-container-id-1 div.sk-item::before, #sk-container-id-1 div.sk-parallel-item::before {content: \"\";position: absolute;border-left: 1px solid gray;box-sizing: border-box;top: 0;bottom: 0;left: 50%;z-index: -1;}#sk-container-id-1 div.sk-parallel-item {display: flex;flex-direction: column;z-index: 1;position: relative;background-color: white;}#sk-container-id-1 div.sk-parallel-item:first-child::after {align-self: flex-end;width: 50%;}#sk-container-id-1 div.sk-parallel-item:last-child::after {align-self: flex-start;width: 50%;}#sk-container-id-1 div.sk-parallel-item:only-child::after {width: 0;}#sk-container-id-1 div.sk-dashed-wrapped {border: 1px dashed gray;margin: 0 0.4em 0.5em 0.4em;box-sizing: border-box;padding-bottom: 0.4em;background-color: white;}#sk-container-id-1 div.sk-label label {font-family: monospace;font-weight: bold;display: inline-block;line-height: 1.2em;}#sk-container-id-1 div.sk-label-container {text-align: center;}#sk-container-id-1 div.sk-container {/* jupyter's `normalize.less` sets `[hidden] { display: none; }` but bootstrap.min.css set `[hidden] { display: none !important; }` so we also need the `!important` here to be able to override the default hidden behavior on the sphinx rendered scikit-learn.org. See: https://github.com/scikit-learn/scikit-learn/issues/21755 */display: inline-block !important;position: relative;}#sk-container-id-1 div.sk-text-repr-fallback {display: none;}</style><div id=\"sk-container-id-1\" class=\"sk-top-container\"><div class=\"sk-text-repr-fallback\"><pre>Pipeline(steps=[(&#x27;preprocessor&#x27;,\n",
       "                 ColumnTransformer(transformers=[(&#x27;num&#x27;, SimpleImputer(),\n",
       "                                                  Index([&#x27;ID&#x27;, &#x27;hla_match_c_high&#x27;, &#x27;hla_high_res_8&#x27;, &#x27;hla_low_res_6&#x27;,\n",
       "       &#x27;hla_high_res_6&#x27;, &#x27;hla_high_res_10&#x27;, &#x27;hla_match_dqb1_high&#x27;,\n",
       "       &#x27;hla_nmdp_6&#x27;, &#x27;hla_match_c_low&#x27;, &#x27;hla_match_drb1_low&#x27;,\n",
       "       &#x27;hla_match_dqb1_low&#x27;, &#x27;year_hct&#x27;, &#x27;hla_match_a_high&#x27;, &#x27;donor_age&#x27;,\n",
       "       &#x27;hla_match_b_low&#x27;, &#x27;age_at_h...\n",
       "                               feature_types=None, gamma=None, grow_policy=None,\n",
       "                               importance_type=None,\n",
       "                               interaction_constraints=None, learning_rate=None,\n",
       "                               max_bin=None, max_cat_threshold=None,\n",
       "                               max_cat_to_onehot=None, max_delta_step=None,\n",
       "                               max_depth=None, max_leaves=None,\n",
       "                               min_child_weight=None, missing=nan,\n",
       "                               monotone_constraints=None, multi_strategy=None,\n",
       "                               n_estimators=None, n_jobs=None,\n",
       "                               num_parallel_tree=None, random_state=None, ...))])</pre><b>In a Jupyter environment, please rerun this cell to show the HTML representation or trust the notebook. <br />On GitHub, the HTML representation is unable to render, please try loading this page with nbviewer.org.</b></div><div class=\"sk-container\" hidden><div class=\"sk-item sk-dashed-wrapped\"><div class=\"sk-label-container\"><div class=\"sk-label sk-toggleable\"><input class=\"sk-toggleable__control sk-hidden--visually\" id=\"sk-estimator-id-1\" type=\"checkbox\" ><label for=\"sk-estimator-id-1\" class=\"sk-toggleable__label sk-toggleable__label-arrow\">Pipeline</label><div class=\"sk-toggleable__content\"><pre>Pipeline(steps=[(&#x27;preprocessor&#x27;,\n",
       "                 ColumnTransformer(transformers=[(&#x27;num&#x27;, SimpleImputer(),\n",
       "                                                  Index([&#x27;ID&#x27;, &#x27;hla_match_c_high&#x27;, &#x27;hla_high_res_8&#x27;, &#x27;hla_low_res_6&#x27;,\n",
       "       &#x27;hla_high_res_6&#x27;, &#x27;hla_high_res_10&#x27;, &#x27;hla_match_dqb1_high&#x27;,\n",
       "       &#x27;hla_nmdp_6&#x27;, &#x27;hla_match_c_low&#x27;, &#x27;hla_match_drb1_low&#x27;,\n",
       "       &#x27;hla_match_dqb1_low&#x27;, &#x27;year_hct&#x27;, &#x27;hla_match_a_high&#x27;, &#x27;donor_age&#x27;,\n",
       "       &#x27;hla_match_b_low&#x27;, &#x27;age_at_h...\n",
       "                               feature_types=None, gamma=None, grow_policy=None,\n",
       "                               importance_type=None,\n",
       "                               interaction_constraints=None, learning_rate=None,\n",
       "                               max_bin=None, max_cat_threshold=None,\n",
       "                               max_cat_to_onehot=None, max_delta_step=None,\n",
       "                               max_depth=None, max_leaves=None,\n",
       "                               min_child_weight=None, missing=nan,\n",
       "                               monotone_constraints=None, multi_strategy=None,\n",
       "                               n_estimators=None, n_jobs=None,\n",
       "                               num_parallel_tree=None, random_state=None, ...))])</pre></div></div></div><div class=\"sk-serial\"><div class=\"sk-item sk-dashed-wrapped\"><div class=\"sk-label-container\"><div class=\"sk-label sk-toggleable\"><input class=\"sk-toggleable__control sk-hidden--visually\" id=\"sk-estimator-id-2\" type=\"checkbox\" ><label for=\"sk-estimator-id-2\" class=\"sk-toggleable__label sk-toggleable__label-arrow\">preprocessor: ColumnTransformer</label><div class=\"sk-toggleable__content\"><pre>ColumnTransformer(transformers=[(&#x27;num&#x27;, SimpleImputer(),\n",
       "                                 Index([&#x27;ID&#x27;, &#x27;hla_match_c_high&#x27;, &#x27;hla_high_res_8&#x27;, &#x27;hla_low_res_6&#x27;,\n",
       "       &#x27;hla_high_res_6&#x27;, &#x27;hla_high_res_10&#x27;, &#x27;hla_match_dqb1_high&#x27;,\n",
       "       &#x27;hla_nmdp_6&#x27;, &#x27;hla_match_c_low&#x27;, &#x27;hla_match_drb1_low&#x27;,\n",
       "       &#x27;hla_match_dqb1_low&#x27;, &#x27;year_hct&#x27;, &#x27;hla_match_a_high&#x27;, &#x27;donor_age&#x27;,\n",
       "       &#x27;hla_match_b_low&#x27;, &#x27;age_at_hct&#x27;, &#x27;hla_match_a_low&#x27;, &#x27;hla_match...\n",
       "       &#x27;prim_disease_hct&#x27;, &#x27;cmv_status&#x27;, &#x27;tce_imm_match&#x27;, &#x27;rituximab&#x27;,\n",
       "       &#x27;prod_type&#x27;, &#x27;cyto_score_detail&#x27;, &#x27;conditioning_intensity&#x27;, &#x27;ethnicity&#x27;,\n",
       "       &#x27;obesity&#x27;, &#x27;mrd_hct&#x27;, &#x27;in_vivo_tcd&#x27;, &#x27;tce_match&#x27;, &#x27;hepatic_severe&#x27;,\n",
       "       &#x27;prior_tumor&#x27;, &#x27;peptic_ulcer&#x27;, &#x27;gvhd_proph&#x27;, &#x27;rheum_issue&#x27;, &#x27;sex_match&#x27;,\n",
       "       &#x27;race_group&#x27;, &#x27;hepatic_mild&#x27;, &#x27;tce_div_match&#x27;, &#x27;donor_related&#x27;,\n",
       "       &#x27;melphalan_dose&#x27;, &#x27;cardiac&#x27;, &#x27;pulm_moderate&#x27;],\n",
       "      dtype=&#x27;object&#x27;))])</pre></div></div></div><div class=\"sk-parallel\"><div class=\"sk-parallel-item\"><div class=\"sk-item\"><div class=\"sk-label-container\"><div class=\"sk-label sk-toggleable\"><input class=\"sk-toggleable__control sk-hidden--visually\" id=\"sk-estimator-id-3\" type=\"checkbox\" ><label for=\"sk-estimator-id-3\" class=\"sk-toggleable__label sk-toggleable__label-arrow\">num</label><div class=\"sk-toggleable__content\"><pre>Index([&#x27;ID&#x27;, &#x27;hla_match_c_high&#x27;, &#x27;hla_high_res_8&#x27;, &#x27;hla_low_res_6&#x27;,\n",
       "       &#x27;hla_high_res_6&#x27;, &#x27;hla_high_res_10&#x27;, &#x27;hla_match_dqb1_high&#x27;,\n",
       "       &#x27;hla_nmdp_6&#x27;, &#x27;hla_match_c_low&#x27;, &#x27;hla_match_drb1_low&#x27;,\n",
       "       &#x27;hla_match_dqb1_low&#x27;, &#x27;year_hct&#x27;, &#x27;hla_match_a_high&#x27;, &#x27;donor_age&#x27;,\n",
       "       &#x27;hla_match_b_low&#x27;, &#x27;age_at_hct&#x27;, &#x27;hla_match_a_low&#x27;, &#x27;hla_match_b_high&#x27;,\n",
       "       &#x27;comorbidity_score&#x27;, &#x27;karnofsky_score&#x27;, &#x27;hla_low_res_8&#x27;,\n",
       "       &#x27;hla_match_drb1_high&#x27;, &#x27;hla_low_res_10&#x27;, &#x27;efs_time&#x27;],\n",
       "      dtype=&#x27;object&#x27;)</pre></div></div></div><div class=\"sk-serial\"><div class=\"sk-item\"><div class=\"sk-estimator sk-toggleable\"><input class=\"sk-toggleable__control sk-hidden--visually\" id=\"sk-estimator-id-4\" type=\"checkbox\" ><label for=\"sk-estimator-id-4\" class=\"sk-toggleable__label sk-toggleable__label-arrow\">SimpleImputer</label><div class=\"sk-toggleable__content\"><pre>SimpleImputer()</pre></div></div></div></div></div></div><div class=\"sk-parallel-item\"><div class=\"sk-item\"><div class=\"sk-label-container\"><div class=\"sk-label sk-toggleable\"><input class=\"sk-toggleable__control sk-hidden--visually\" id=\"sk-estimator-id-5\" type=\"checkbox\" ><label for=\"sk-estimator-id-5\" class=\"sk-toggleable__label sk-toggleable__label-arrow\">cat</label><div class=\"sk-toggleable__content\"><pre>Index([&#x27;dri_score&#x27;, &#x27;psych_disturb&#x27;, &#x27;cyto_score&#x27;, &#x27;diabetes&#x27;, &#x27;tbi_status&#x27;,\n",
       "       &#x27;arrhythmia&#x27;, &#x27;graft_type&#x27;, &#x27;vent_hist&#x27;, &#x27;renal_issue&#x27;, &#x27;pulm_severe&#x27;,\n",
       "       &#x27;prim_disease_hct&#x27;, &#x27;cmv_status&#x27;, &#x27;tce_imm_match&#x27;, &#x27;rituximab&#x27;,\n",
       "       &#x27;prod_type&#x27;, &#x27;cyto_score_detail&#x27;, &#x27;conditioning_intensity&#x27;, &#x27;ethnicity&#x27;,\n",
       "       &#x27;obesity&#x27;, &#x27;mrd_hct&#x27;, &#x27;in_vivo_tcd&#x27;, &#x27;tce_match&#x27;, &#x27;hepatic_severe&#x27;,\n",
       "       &#x27;prior_tumor&#x27;, &#x27;peptic_ulcer&#x27;, &#x27;gvhd_proph&#x27;, &#x27;rheum_issue&#x27;, &#x27;sex_match&#x27;,\n",
       "       &#x27;race_group&#x27;, &#x27;hepatic_mild&#x27;, &#x27;tce_div_match&#x27;, &#x27;donor_related&#x27;,\n",
       "       &#x27;melphalan_dose&#x27;, &#x27;cardiac&#x27;, &#x27;pulm_moderate&#x27;],\n",
       "      dtype=&#x27;object&#x27;)</pre></div></div></div><div class=\"sk-serial\"><div class=\"sk-item\"><div class=\"sk-serial\"><div class=\"sk-item\"><div class=\"sk-estimator sk-toggleable\"><input class=\"sk-toggleable__control sk-hidden--visually\" id=\"sk-estimator-id-6\" type=\"checkbox\" ><label for=\"sk-estimator-id-6\" class=\"sk-toggleable__label sk-toggleable__label-arrow\">SimpleImputer</label><div class=\"sk-toggleable__content\"><pre>SimpleImputer(strategy=&#x27;most_frequent&#x27;)</pre></div></div></div><div class=\"sk-item\"><div class=\"sk-estimator sk-toggleable\"><input class=\"sk-toggleable__control sk-hidden--visually\" id=\"sk-estimator-id-7\" type=\"checkbox\" ><label for=\"sk-estimator-id-7\" class=\"sk-toggleable__label sk-toggleable__label-arrow\">OneHotEncoder</label><div class=\"sk-toggleable__content\"><pre>OneHotEncoder(handle_unknown=&#x27;ignore&#x27;)</pre></div></div></div></div></div></div></div></div></div></div><div class=\"sk-item\"><div class=\"sk-estimator sk-toggleable\"><input class=\"sk-toggleable__control sk-hidden--visually\" id=\"sk-estimator-id-8\" type=\"checkbox\" ><label for=\"sk-estimator-id-8\" class=\"sk-toggleable__label sk-toggleable__label-arrow\">XGBClassifier</label><div class=\"sk-toggleable__content\"><pre>XGBClassifier(base_score=None, booster=None, callbacks=None,\n",
       "              colsample_bylevel=None, colsample_bynode=None,\n",
       "              colsample_bytree=None, device=None, early_stopping_rounds=None,\n",
       "              enable_categorical=False, eval_metric=None, feature_types=None,\n",
       "              gamma=None, grow_policy=None, importance_type=None,\n",
       "              interaction_constraints=None, learning_rate=None, max_bin=None,\n",
       "              max_cat_threshold=None, max_cat_to_onehot=None,\n",
       "              max_delta_step=None, max_depth=None, max_leaves=None,\n",
       "              min_child_weight=None, missing=nan, monotone_constraints=None,\n",
       "              multi_strategy=None, n_estimators=None, n_jobs=None,\n",
       "              num_parallel_tree=None, random_state=None, ...)</pre></div></div></div></div></div></div></div>"
      ],
      "text/plain": [
       "Pipeline(steps=[('preprocessor',\n",
       "                 ColumnTransformer(transformers=[('num', SimpleImputer(),\n",
       "                                                  Index(['ID', 'hla_match_c_high', 'hla_high_res_8', 'hla_low_res_6',\n",
       "       'hla_high_res_6', 'hla_high_res_10', 'hla_match_dqb1_high',\n",
       "       'hla_nmdp_6', 'hla_match_c_low', 'hla_match_drb1_low',\n",
       "       'hla_match_dqb1_low', 'year_hct', 'hla_match_a_high', 'donor_age',\n",
       "       'hla_match_b_low', 'age_at_h...\n",
       "                               feature_types=None, gamma=None, grow_policy=None,\n",
       "                               importance_type=None,\n",
       "                               interaction_constraints=None, learning_rate=None,\n",
       "                               max_bin=None, max_cat_threshold=None,\n",
       "                               max_cat_to_onehot=None, max_delta_step=None,\n",
       "                               max_depth=None, max_leaves=None,\n",
       "                               min_child_weight=None, missing=nan,\n",
       "                               monotone_constraints=None, multi_strategy=None,\n",
       "                               n_estimators=None, n_jobs=None,\n",
       "                               num_parallel_tree=None, random_state=None, ...))])"
      ]
     },
     "execution_count": 39,
     "metadata": {},
     "output_type": "execute_result"
    }
   ],
   "source": [
    "pipeline.fit(X_train, y_train)"
   ]
  },
  {
   "cell_type": "markdown",
   "id": "cdbfdd86",
   "metadata": {
    "papermill": {
     "duration": 0.017465,
     "end_time": "2024-12-05T18:12:38.987589",
     "exception": false,
     "start_time": "2024-12-05T18:12:38.970124",
     "status": "completed"
    },
    "tags": []
   },
   "source": [
    "# Predict on test data\n"
   ]
  },
  {
   "cell_type": "code",
   "execution_count": 40,
   "id": "8c484954",
   "metadata": {
    "execution": {
     "iopub.execute_input": "2024-12-05T18:12:39.024079Z",
     "iopub.status.busy": "2024-12-05T18:12:39.023287Z",
     "iopub.status.idle": "2024-12-05T18:12:39.037559Z",
     "shell.execute_reply": "2024-12-05T18:12:39.036928Z"
    },
    "papermill": {
     "duration": 0.034543,
     "end_time": "2024-12-05T18:12:39.039454",
     "exception": false,
     "start_time": "2024-12-05T18:12:39.004911",
     "status": "completed"
    },
    "tags": []
   },
   "outputs": [],
   "source": [
    "predictions = pipeline.predict_proba(X_test)[:, 1]"
   ]
  },
  {
   "cell_type": "markdown",
   "id": "3d75d847",
   "metadata": {
    "papermill": {
     "duration": 0.017367,
     "end_time": "2024-12-05T18:12:39.077210",
     "exception": false,
     "start_time": "2024-12-05T18:12:39.059843",
     "status": "completed"
    },
    "tags": []
   },
   "source": [
    "# Submission of predictions"
   ]
  },
  {
   "cell_type": "code",
   "execution_count": 41,
   "id": "61dea792",
   "metadata": {
    "execution": {
     "iopub.execute_input": "2024-12-05T18:12:39.114271Z",
     "iopub.status.busy": "2024-12-05T18:12:39.113933Z",
     "iopub.status.idle": "2024-12-05T18:12:39.122083Z",
     "shell.execute_reply": "2024-12-05T18:12:39.121100Z"
    },
    "papermill": {
     "duration": 0.028762,
     "end_time": "2024-12-05T18:12:39.123761",
     "exception": false,
     "start_time": "2024-12-05T18:12:39.094999",
     "status": "completed"
    },
    "tags": []
   },
   "outputs": [
    {
     "name": "stdout",
     "output_type": "stream",
     "text": [
      "Submission file saved as submission.csv\n"
     ]
    }
   ],
   "source": [
    "submission = pd.DataFrame({'ID': test_data['ID'], 'prediction': predictions})\n",
    "\n",
    "submission.to_csv('submission.csv', index=False)\n",
    "print(\"Submission file saved as submission.csv\")"
   ]
  },
  {
   "cell_type": "markdown",
   "id": "38fc0d2c",
   "metadata": {
    "papermill": {
     "duration": 0.017681,
     "end_time": "2024-12-05T18:12:39.159650",
     "exception": false,
     "start_time": "2024-12-05T18:12:39.141969",
     "status": "completed"
    },
    "tags": []
   },
   "source": [
    "<div class=\"alert alert-block alert-info\">  \n",
    "<h1><center><strong> Keep in touch with more updates. 😍</strong></center></h1>\n",
    "       \n",
    "</div>"
   ]
  }
 ],
 "metadata": {
  "kaggle": {
   "accelerator": "gpu",
   "dataSources": [
    {
     "databundleVersionId": 10381525,
     "sourceId": 70942,
     "sourceType": "competition"
    }
   ],
   "dockerImageVersionId": 30805,
   "isGpuEnabled": true,
   "isInternetEnabled": false,
   "language": "python",
   "sourceType": "notebook"
  },
  "kernelspec": {
   "display_name": "Python 3",
   "language": "python",
   "name": "python3"
  },
  "language_info": {
   "codemirror_mode": {
    "name": "ipython",
    "version": 3
   },
   "file_extension": ".py",
   "mimetype": "text/x-python",
   "name": "python",
   "nbconvert_exporter": "python",
   "pygments_lexer": "ipython3",
   "version": "3.10.14"
  },
  "papermill": {
   "default_parameters": {},
   "duration": 24.761455,
   "end_time": "2024-12-05T18:12:39.996800",
   "environment_variables": {},
   "exception": null,
   "input_path": "__notebook__.ipynb",
   "output_path": "__notebook__.ipynb",
   "parameters": {},
   "start_time": "2024-12-05T18:12:15.235345",
   "version": "2.3.2"
  }
 },
 "nbformat": 4,
 "nbformat_minor": 5
}
