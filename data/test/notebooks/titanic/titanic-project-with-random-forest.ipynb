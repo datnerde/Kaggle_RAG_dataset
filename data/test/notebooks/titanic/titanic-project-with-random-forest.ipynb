{
 "cells": [
  {
   "cell_type": "code",
   "execution_count": 1,
   "id": "d3d4ddf4",
   "metadata": {
    "_cell_guid": "b1076dfc-b9ad-4769-8c92-a6c4dae69d19",
    "_uuid": "8f2839f25d086af736a60e9eeb907d3b93b6e0e5",
    "execution": {
     "iopub.execute_input": "2025-04-01T22:26:30.343590Z",
     "iopub.status.busy": "2025-04-01T22:26:30.343252Z",
     "iopub.status.idle": "2025-04-01T22:26:33.213047Z",
     "shell.execute_reply": "2025-04-01T22:26:33.211792Z"
    },
    "papermill": {
     "duration": 2.878543,
     "end_time": "2025-04-01T22:26:33.214965",
     "exception": false,
     "start_time": "2025-04-01T22:26:30.336422",
     "status": "completed"
    },
    "tags": []
   },
   "outputs": [
    {
     "name": "stdout",
     "output_type": "stream",
     "text": [
      "/kaggle/input/titanic/train.csv\n",
      "/kaggle/input/titanic/test.csv\n",
      "/kaggle/input/titanic/gender_submission.csv\n"
     ]
    }
   ],
   "source": [
    "import numpy as np\n",
    "import pandas as pd \n",
    "import matplotlib.pyplot as plt\n",
    "import seaborn as sns\n",
    "\n",
    "\n",
    "import os\n",
    "for dirname, _, filenames in os.walk('/kaggle/input'):\n",
    "    for filename in filenames:\n",
    "        print(os.path.join(dirname, filename))\n",
    "\n",
    "import warnings\n",
    "warnings.filterwarnings(\"ignore\")"
   ]
  },
  {
   "cell_type": "code",
   "execution_count": 2,
   "id": "8027cf63",
   "metadata": {
    "execution": {
     "iopub.execute_input": "2025-04-01T22:26:33.227076Z",
     "iopub.status.busy": "2025-04-01T22:26:33.226500Z",
     "iopub.status.idle": "2025-04-01T22:26:33.258070Z",
     "shell.execute_reply": "2025-04-01T22:26:33.256971Z"
    },
    "papermill": {
     "duration": 0.0398,
     "end_time": "2025-04-01T22:26:33.260172",
     "exception": false,
     "start_time": "2025-04-01T22:26:33.220372",
     "status": "completed"
    },
    "tags": []
   },
   "outputs": [],
   "source": [
    "df_titanic = pd.read_csv(\"/kaggle/input/titanic/train.csv\")\n",
    "df_test = pd.read_csv(\"/kaggle/input/titanic/test.csv\")\n",
    "test_id = df_test['PassengerId']"
   ]
  },
  {
   "cell_type": "markdown",
   "id": "c35ce489",
   "metadata": {
    "papermill": {
     "duration": 0.004926,
     "end_time": "2025-04-01T22:26:33.270697",
     "exception": false,
     "start_time": "2025-04-01T22:26:33.265771",
     "status": "completed"
    },
    "tags": []
   },
   "source": [
    "# Data Understanding"
   ]
  },
  {
   "cell_type": "code",
   "execution_count": 3,
   "id": "108ec3e7",
   "metadata": {
    "execution": {
     "iopub.execute_input": "2025-04-01T22:26:33.282376Z",
     "iopub.status.busy": "2025-04-01T22:26:33.282003Z",
     "iopub.status.idle": "2025-04-01T22:26:33.309433Z",
     "shell.execute_reply": "2025-04-01T22:26:33.308418Z"
    },
    "papermill": {
     "duration": 0.035318,
     "end_time": "2025-04-01T22:26:33.311216",
     "exception": false,
     "start_time": "2025-04-01T22:26:33.275898",
     "status": "completed"
    },
    "tags": []
   },
   "outputs": [
    {
     "data": {
      "text/html": [
       "<div>\n",
       "<style scoped>\n",
       "    .dataframe tbody tr th:only-of-type {\n",
       "        vertical-align: middle;\n",
       "    }\n",
       "\n",
       "    .dataframe tbody tr th {\n",
       "        vertical-align: top;\n",
       "    }\n",
       "\n",
       "    .dataframe thead th {\n",
       "        text-align: right;\n",
       "    }\n",
       "</style>\n",
       "<table border=\"1\" class=\"dataframe\">\n",
       "  <thead>\n",
       "    <tr style=\"text-align: right;\">\n",
       "      <th></th>\n",
       "      <th>PassengerId</th>\n",
       "      <th>Survived</th>\n",
       "      <th>Pclass</th>\n",
       "      <th>Name</th>\n",
       "      <th>Sex</th>\n",
       "      <th>Age</th>\n",
       "      <th>SibSp</th>\n",
       "      <th>Parch</th>\n",
       "      <th>Ticket</th>\n",
       "      <th>Fare</th>\n",
       "      <th>Cabin</th>\n",
       "      <th>Embarked</th>\n",
       "    </tr>\n",
       "  </thead>\n",
       "  <tbody>\n",
       "    <tr>\n",
       "      <th>0</th>\n",
       "      <td>1</td>\n",
       "      <td>0</td>\n",
       "      <td>3</td>\n",
       "      <td>Braund, Mr. Owen Harris</td>\n",
       "      <td>male</td>\n",
       "      <td>22.0</td>\n",
       "      <td>1</td>\n",
       "      <td>0</td>\n",
       "      <td>A/5 21171</td>\n",
       "      <td>7.2500</td>\n",
       "      <td>NaN</td>\n",
       "      <td>S</td>\n",
       "    </tr>\n",
       "    <tr>\n",
       "      <th>1</th>\n",
       "      <td>2</td>\n",
       "      <td>1</td>\n",
       "      <td>1</td>\n",
       "      <td>Cumings, Mrs. John Bradley (Florence Briggs Th...</td>\n",
       "      <td>female</td>\n",
       "      <td>38.0</td>\n",
       "      <td>1</td>\n",
       "      <td>0</td>\n",
       "      <td>PC 17599</td>\n",
       "      <td>71.2833</td>\n",
       "      <td>C85</td>\n",
       "      <td>C</td>\n",
       "    </tr>\n",
       "    <tr>\n",
       "      <th>2</th>\n",
       "      <td>3</td>\n",
       "      <td>1</td>\n",
       "      <td>3</td>\n",
       "      <td>Heikkinen, Miss. Laina</td>\n",
       "      <td>female</td>\n",
       "      <td>26.0</td>\n",
       "      <td>0</td>\n",
       "      <td>0</td>\n",
       "      <td>STON/O2. 3101282</td>\n",
       "      <td>7.9250</td>\n",
       "      <td>NaN</td>\n",
       "      <td>S</td>\n",
       "    </tr>\n",
       "    <tr>\n",
       "      <th>3</th>\n",
       "      <td>4</td>\n",
       "      <td>1</td>\n",
       "      <td>1</td>\n",
       "      <td>Futrelle, Mrs. Jacques Heath (Lily May Peel)</td>\n",
       "      <td>female</td>\n",
       "      <td>35.0</td>\n",
       "      <td>1</td>\n",
       "      <td>0</td>\n",
       "      <td>113803</td>\n",
       "      <td>53.1000</td>\n",
       "      <td>C123</td>\n",
       "      <td>S</td>\n",
       "    </tr>\n",
       "    <tr>\n",
       "      <th>4</th>\n",
       "      <td>5</td>\n",
       "      <td>0</td>\n",
       "      <td>3</td>\n",
       "      <td>Allen, Mr. William Henry</td>\n",
       "      <td>male</td>\n",
       "      <td>35.0</td>\n",
       "      <td>0</td>\n",
       "      <td>0</td>\n",
       "      <td>373450</td>\n",
       "      <td>8.0500</td>\n",
       "      <td>NaN</td>\n",
       "      <td>S</td>\n",
       "    </tr>\n",
       "  </tbody>\n",
       "</table>\n",
       "</div>"
      ],
      "text/plain": [
       "   PassengerId  Survived  Pclass  \\\n",
       "0            1         0       3   \n",
       "1            2         1       1   \n",
       "2            3         1       3   \n",
       "3            4         1       1   \n",
       "4            5         0       3   \n",
       "\n",
       "                                                Name     Sex   Age  SibSp  \\\n",
       "0                            Braund, Mr. Owen Harris    male  22.0      1   \n",
       "1  Cumings, Mrs. John Bradley (Florence Briggs Th...  female  38.0      1   \n",
       "2                             Heikkinen, Miss. Laina  female  26.0      0   \n",
       "3       Futrelle, Mrs. Jacques Heath (Lily May Peel)  female  35.0      1   \n",
       "4                           Allen, Mr. William Henry    male  35.0      0   \n",
       "\n",
       "   Parch            Ticket     Fare Cabin Embarked  \n",
       "0      0         A/5 21171   7.2500   NaN        S  \n",
       "1      0          PC 17599  71.2833   C85        C  \n",
       "2      0  STON/O2. 3101282   7.9250   NaN        S  \n",
       "3      0            113803  53.1000  C123        S  \n",
       "4      0            373450   8.0500   NaN        S  "
      ]
     },
     "execution_count": 3,
     "metadata": {},
     "output_type": "execute_result"
    }
   ],
   "source": [
    "df_titanic.head()"
   ]
  },
  {
   "cell_type": "code",
   "execution_count": 4,
   "id": "a48e45ca",
   "metadata": {
    "execution": {
     "iopub.execute_input": "2025-04-01T22:26:33.323151Z",
     "iopub.status.busy": "2025-04-01T22:26:33.322774Z",
     "iopub.status.idle": "2025-04-01T22:26:33.350138Z",
     "shell.execute_reply": "2025-04-01T22:26:33.348915Z"
    },
    "papermill": {
     "duration": 0.035133,
     "end_time": "2025-04-01T22:26:33.351779",
     "exception": false,
     "start_time": "2025-04-01T22:26:33.316646",
     "status": "completed"
    },
    "tags": []
   },
   "outputs": [
    {
     "name": "stdout",
     "output_type": "stream",
     "text": [
      "<class 'pandas.core.frame.DataFrame'>\n",
      "RangeIndex: 891 entries, 0 to 890\n",
      "Data columns (total 12 columns):\n",
      " #   Column       Non-Null Count  Dtype  \n",
      "---  ------       --------------  -----  \n",
      " 0   PassengerId  891 non-null    int64  \n",
      " 1   Survived     891 non-null    int64  \n",
      " 2   Pclass       891 non-null    int64  \n",
      " 3   Name         891 non-null    object \n",
      " 4   Sex          891 non-null    object \n",
      " 5   Age          714 non-null    float64\n",
      " 6   SibSp        891 non-null    int64  \n",
      " 7   Parch        891 non-null    int64  \n",
      " 8   Ticket       891 non-null    object \n",
      " 9   Fare         891 non-null    float64\n",
      " 10  Cabin        204 non-null    object \n",
      " 11  Embarked     889 non-null    object \n",
      "dtypes: float64(2), int64(5), object(5)\n",
      "memory usage: 83.7+ KB\n"
     ]
    }
   ],
   "source": [
    "df_titanic.info()"
   ]
  },
  {
   "cell_type": "markdown",
   "id": "3b39b31a",
   "metadata": {
    "papermill": {
     "duration": 0.004999,
     "end_time": "2025-04-01T22:26:33.362180",
     "exception": false,
     "start_time": "2025-04-01T22:26:33.357181",
     "status": "completed"
    },
    "tags": []
   },
   "source": [
    "-  We can see that there are many null values in the **Cabin** and **Age** and **Embarked** columns\n",
    "-  The columns **Name**, **Sex**, **Ticket**, **Cabin**, **Embarked** are categorical"
   ]
  },
  {
   "cell_type": "code",
   "execution_count": 5,
   "id": "ae90485c",
   "metadata": {
    "execution": {
     "iopub.execute_input": "2025-04-01T22:26:33.373939Z",
     "iopub.status.busy": "2025-04-01T22:26:33.373546Z",
     "iopub.status.idle": "2025-04-01T22:26:33.381363Z",
     "shell.execute_reply": "2025-04-01T22:26:33.380337Z"
    },
    "papermill": {
     "duration": 0.015657,
     "end_time": "2025-04-01T22:26:33.383072",
     "exception": false,
     "start_time": "2025-04-01T22:26:33.367415",
     "status": "completed"
    },
    "tags": []
   },
   "outputs": [
    {
     "data": {
      "text/plain": [
       "PassengerId      0\n",
       "Survived         0\n",
       "Pclass           0\n",
       "Name             0\n",
       "Sex              0\n",
       "Age            177\n",
       "SibSp            0\n",
       "Parch            0\n",
       "Ticket           0\n",
       "Fare             0\n",
       "Cabin          687\n",
       "Embarked         2\n",
       "dtype: int64"
      ]
     },
     "execution_count": 5,
     "metadata": {},
     "output_type": "execute_result"
    }
   ],
   "source": [
    "df_titanic.isna().sum()"
   ]
  },
  {
   "cell_type": "code",
   "execution_count": 6,
   "id": "39629347",
   "metadata": {
    "execution": {
     "iopub.execute_input": "2025-04-01T22:26:33.395655Z",
     "iopub.status.busy": "2025-04-01T22:26:33.395230Z",
     "iopub.status.idle": "2025-04-01T22:26:33.403740Z",
     "shell.execute_reply": "2025-04-01T22:26:33.402760Z"
    },
    "papermill": {
     "duration": 0.016907,
     "end_time": "2025-04-01T22:26:33.405642",
     "exception": false,
     "start_time": "2025-04-01T22:26:33.388735",
     "status": "completed"
    },
    "tags": []
   },
   "outputs": [
    {
     "data": {
      "text/plain": [
       "0"
      ]
     },
     "execution_count": 6,
     "metadata": {},
     "output_type": "execute_result"
    }
   ],
   "source": [
    "df_titanic.duplicated().sum()"
   ]
  },
  {
   "cell_type": "markdown",
   "id": "7439ded9",
   "metadata": {
    "papermill": {
     "duration": 0.005234,
     "end_time": "2025-04-01T22:26:33.416950",
     "exception": false,
     "start_time": "2025-04-01T22:26:33.411716",
     "status": "completed"
    },
    "tags": []
   },
   "source": [
    "there are no duplicated values in the dataset"
   ]
  },
  {
   "cell_type": "code",
   "execution_count": 7,
   "id": "f06b2a39",
   "metadata": {
    "execution": {
     "iopub.execute_input": "2025-04-01T22:26:33.429190Z",
     "iopub.status.busy": "2025-04-01T22:26:33.428829Z",
     "iopub.status.idle": "2025-04-01T22:26:34.595417Z",
     "shell.execute_reply": "2025-04-01T22:26:34.594210Z"
    },
    "papermill": {
     "duration": 1.175055,
     "end_time": "2025-04-01T22:26:34.597527",
     "exception": false,
     "start_time": "2025-04-01T22:26:33.422472",
     "status": "completed"
    },
    "tags": []
   },
   "outputs": [
    {
     "data": {
      "image/png": "[encoded data removed]",
      "text/plain": [
       "<Figure size 1000x500 with 1 Axes>"
      ]
     },
     "metadata": {},
     "output_type": "display_data"
    },
    {
     "data": {
      "image/png": "[encoded data removed]",
      "text/plain": [
       "<Figure size 640x480 with 1 Axes>"
      ]
     },
     "metadata": {},
     "output_type": "display_data"
    },
    {
     "data": {
      "image/png": "[encoded data removed]",
      "text/plain": [
       "<Figure size 640x480 with 1 Axes>"
      ]
     },
     "metadata": {},
     "output_type": "display_data"
    },
    {
     "data": {
      "image/png": "[encoded data removed]",
      "text/plain": [
       "<Figure size 640x480 with 1 Axes>"
      ]
     },
     "metadata": {},
     "output_type": "display_data"
    },
    {
     "data": {
      "image/png": "[encoded data removed]",
      "text/plain": [
       "<Figure size 640x480 with 1 Axes>"
      ]
     },
     "metadata": {},
     "output_type": "display_data"
    },
    {
     "data": {
      "image/png": "[encoded data removed]",
      "text/plain": [
       "<Figure size 640x480 with 1 Axes>"
      ]
     },
     "metadata": {},
     "output_type": "display_data"
    },
    {
     "data": {
      "image/png": "[encoded data removed]",
      "text/plain": [
       "<Figure size 640x480 with 1 Axes>"
      ]
     },
     "metadata": {},
     "output_type": "display_data"
    }
   ],
   "source": [
    "numeric_col = df_titanic.select_dtypes('number').columns\n",
    "\n",
    "plt.figure(figsize = (10,5))\n",
    "for i in numeric_col:\n",
    "    sns.boxplot(df_titanic[i])\n",
    "    plt.title(f'Boxplot of {i}')\n",
    "    plt.show()"
   ]
  },
  {
   "cell_type": "markdown",
   "id": "70ecd098",
   "metadata": {
    "papermill": {
     "duration": 0.008064,
     "end_time": "2025-04-01T22:26:34.613671",
     "exception": false,
     "start_time": "2025-04-01T22:26:34.605607",
     "status": "completed"
    },
    "tags": []
   },
   "source": [
    "there are some outliers in **Fare**, **Parch**, **SibSp**, **Age**"
   ]
  },
  {
   "cell_type": "markdown",
   "id": "2c739773",
   "metadata": {
    "papermill": {
     "duration": 0.0081,
     "end_time": "2025-04-01T22:26:34.630621",
     "exception": false,
     "start_time": "2025-04-01T22:26:34.622521",
     "status": "completed"
    },
    "tags": []
   },
   "source": [
    "# Data preprocessing"
   ]
  },
  {
   "cell_type": "code",
   "execution_count": 8,
   "id": "2a3f3fa7",
   "metadata": {
    "execution": {
     "iopub.execute_input": "2025-04-01T22:26:34.648605Z",
     "iopub.status.busy": "2025-04-01T22:26:34.648226Z",
     "iopub.status.idle": "2025-04-01T22:26:34.658070Z",
     "shell.execute_reply": "2025-04-01T22:26:34.656893Z"
    },
    "papermill": {
     "duration": 0.021051,
     "end_time": "2025-04-01T22:26:34.660150",
     "exception": false,
     "start_time": "2025-04-01T22:26:34.639099",
     "status": "completed"
    },
    "tags": []
   },
   "outputs": [],
   "source": [
    "# droping unneeded columns\n",
    "df_titanic.drop(columns = ['PassengerId', 'Name', 'Ticket', 'Cabin'], inplace=True)\n",
    "df_test.drop(columns = ['PassengerId', 'Name', 'Ticket', 'Cabin'], inplace=True)"
   ]
  },
  {
   "cell_type": "code",
   "execution_count": 9,
   "id": "e5fcb91c",
   "metadata": {
    "execution": {
     "iopub.execute_input": "2025-04-01T22:26:34.677582Z",
     "iopub.status.busy": "2025-04-01T22:26:34.677233Z",
     "iopub.status.idle": "2025-04-01T22:26:34.686044Z",
     "shell.execute_reply": "2025-04-01T22:26:34.685171Z"
    },
    "papermill": {
     "duration": 0.019707,
     "end_time": "2025-04-01T22:26:34.687855",
     "exception": false,
     "start_time": "2025-04-01T22:26:34.668148",
     "status": "completed"
    },
    "tags": []
   },
   "outputs": [],
   "source": [
    "df_titanic['Age'].fillna(df_titanic['Age'].median(), inplace = True)\n",
    "df_titanic['Embarked'].fillna(df_titanic['Embarked'].mode(), inplace = True)\n",
    "\n",
    "df_test['Age'].fillna(df_test['Age'].median(), inplace = True)\n",
    "df_test['Fare'].fillna(df_test['Fare'].median(), inplace = True)"
   ]
  },
  {
   "cell_type": "code",
   "execution_count": 10,
   "id": "f0df993a",
   "metadata": {
    "execution": {
     "iopub.execute_input": "2025-04-01T22:26:34.705275Z",
     "iopub.status.busy": "2025-04-01T22:26:34.704923Z",
     "iopub.status.idle": "2025-04-01T22:26:34.882830Z",
     "shell.execute_reply": "2025-04-01T22:26:34.881508Z"
    },
    "papermill": {
     "duration": 0.188908,
     "end_time": "2025-04-01T22:26:34.884969",
     "exception": false,
     "start_time": "2025-04-01T22:26:34.696061",
     "status": "completed"
    },
    "tags": []
   },
   "outputs": [],
   "source": [
    "# converting categorical values to numeric\n",
    "from sklearn.preprocessing import LabelEncoder\n",
    "le = LabelEncoder()\n",
    "\n",
    "cols = df_titanic.select_dtypes(include = 'object').columns\n",
    "\n",
    "for col in cols:\n",
    "    df_titanic[col] = le.fit_transform(df_titanic[col])\n",
    "    df_test[col] = le.transform(df_test[col])"
   ]
  },
  {
   "cell_type": "code",
   "execution_count": 11,
   "id": "3fccb9b9",
   "metadata": {
    "execution": {
     "iopub.execute_input": "2025-04-01T22:26:34.906717Z",
     "iopub.status.busy": "2025-04-01T22:26:34.906179Z",
     "iopub.status.idle": "2025-04-01T22:26:35.141602Z",
     "shell.execute_reply": "2025-04-01T22:26:35.140654Z"
    },
    "papermill": {
     "duration": 0.250087,
     "end_time": "2025-04-01T22:26:35.144018",
     "exception": false,
     "start_time": "2025-04-01T22:26:34.893931",
     "status": "completed"
    },
    "tags": []
   },
   "outputs": [],
   "source": [
    "from sklearn.model_selection import train_test_split\n",
    "\n",
    "X = df_titanic.drop(columns = 'Survived')\n",
    "y = df_titanic['Survived']\n",
    "\n",
    "X_train, X_val, y_train, y_val = train_test_split(X, y, train_size = .8, random_state = 42)"
   ]
  },
  {
   "cell_type": "markdown",
   "id": "ab9bba60",
   "metadata": {
    "papermill": {
     "duration": 0.008764,
     "end_time": "2025-04-01T22:26:35.163271",
     "exception": false,
     "start_time": "2025-04-01T22:26:35.154507",
     "status": "completed"
    },
    "tags": []
   },
   "source": [
    "# Model"
   ]
  },
  {
   "cell_type": "code",
   "execution_count": 12,
   "id": "dfabc6a0",
   "metadata": {
    "execution": {
     "iopub.execute_input": "2025-04-01T22:26:35.180040Z",
     "iopub.status.busy": "2025-04-01T22:26:35.179663Z",
     "iopub.status.idle": "2025-04-01T22:26:35.592982Z",
     "shell.execute_reply": "2025-04-01T22:26:35.592118Z"
    },
    "papermill": {
     "duration": 0.423997,
     "end_time": "2025-04-01T22:26:35.594968",
     "exception": false,
     "start_time": "2025-04-01T22:26:35.170971",
     "status": "completed"
    },
    "tags": []
   },
   "outputs": [],
   "source": [
    "from sklearn.ensemble import RandomForestClassifier\n",
    "from sklearn.model_selection import GridSearchCV\n",
    "\n",
    "rf = RandomForestClassifier(random_state=42)\n",
    "hyper_param = {\n",
    "    'max_depth':[3,7,10],\n",
    "    'min_samples_split':[2,3,4],\n",
    "    'max_features':[3,4]\n",
    "}\n",
    "grid_search = GridSearchCV(estimator= rf, param_grid= hyper_param, cv = 4, n_jobs= -1, verbose = 3)"
   ]
  },
  {
   "cell_type": "code",
   "execution_count": 13,
   "id": "16814404",
   "metadata": {
    "execution": {
     "iopub.execute_input": "2025-04-01T22:26:35.612755Z",
     "iopub.status.busy": "2025-04-01T22:26:35.612413Z",
     "iopub.status.idle": "2025-04-01T22:26:43.666986Z",
     "shell.execute_reply": "2025-04-01T22:26:43.665831Z"
    },
    "papermill": {
     "duration": 8.065835,
     "end_time": "2025-04-01T22:26:43.668844",
     "exception": false,
     "start_time": "2025-04-01T22:26:35.603009",
     "status": "completed"
    },
    "tags": []
   },
   "outputs": [
    {
     "name": "stdout",
     "output_type": "stream",
     "text": [
      "Fitting 4 folds for each of 18 candidates, totalling 72 fits\n"
     ]
    },
    {
     "data": {
      "text/html": [
       "<style>#sk-container-id-1 {color: black;background-color: white;}#sk-container-id-1 pre{padding: 0;}#sk-container-id-1 div.sk-toggleable {background-color: white;}#sk-container-id-1 label.sk-toggleable__label {cursor: pointer;display: block;width: 100%;margin-bottom: 0;padding: 0.3em;box-sizing: border-box;text-align: center;}#sk-container-id-1 label.sk-toggleable__label-arrow:before {content: \"▸\";float: left;margin-right: 0.25em;color: #696969;}#sk-container-id-1 label.sk-toggleable__label-arrow:hover:before {color: black;}#sk-container-id-1 div.sk-estimator:hover label.sk-toggleable__label-arrow:before {color: black;}#sk-container-id-1 div.sk-toggleable__content {max-height: 0;max-width: 0;overflow: hidden;text-align: left;background-color: #f0f8ff;}#sk-container-id-1 div.sk-toggleable__content pre {margin: 0.2em;color: black;border-radius: 0.25em;background-color: #f0f8ff;}#sk-container-id-1 input.sk-toggleable__control:checked~div.sk-toggleable__content {max-height: 200px;max-width: 100%;overflow: auto;}#sk-container-id-1 input.sk-toggleable__control:checked~label.sk-toggleable__label-arrow:before {content: \"▾\";}#sk-container-id-1 div.sk-estimator input.sk-toggleable__control:checked~label.sk-toggleable__label {background-color: #d4ebff;}#sk-container-id-1 div.sk-label input.sk-toggleable__control:checked~label.sk-toggleable__label {background-color: #d4ebff;}#sk-container-id-1 input.sk-hidden--visually {border: 0;clip: rect(1px 1px 1px 1px);clip: rect(1px, 1px, 1px, 1px);height: 1px;margin: -1px;overflow: hidden;padding: 0;position: absolute;width: 1px;}#sk-container-id-1 div.sk-estimator {font-family: monospace;background-color: #f0f8ff;border: 1px dotted black;border-radius: 0.25em;box-sizing: border-box;margin-bottom: 0.5em;}#sk-container-id-1 div.sk-estimator:hover {background-color: #d4ebff;}#sk-container-id-1 div.sk-parallel-item::after {content: \"\";width: 100%;border-bottom: 1px solid gray;flex-grow: 1;}#sk-container-id-1 div.sk-label:hover label.sk-toggleable__label {background-color: #d4ebff;}#sk-container-id-1 div.sk-serial::before {content: \"\";position: absolute;border-left: 1px solid gray;box-sizing: border-box;top: 0;bottom: 0;left: 50%;z-index: 0;}#sk-container-id-1 div.sk-serial {display: flex;flex-direction: column;align-items: center;background-color: white;padding-right: 0.2em;padding-left: 0.2em;position: relative;}#sk-container-id-1 div.sk-item {position: relative;z-index: 1;}#sk-container-id-1 div.sk-parallel {display: flex;align-items: stretch;justify-content: center;background-color: white;position: relative;}#sk-container-id-1 div.sk-item::before, #sk-container-id-1 div.sk-parallel-item::before {content: \"\";position: absolute;border-left: 1px solid gray;box-sizing: border-box;top: 0;bottom: 0;left: 50%;z-index: -1;}#sk-container-id-1 div.sk-parallel-item {display: flex;flex-direction: column;z-index: 1;position: relative;background-color: white;}#sk-container-id-1 div.sk-parallel-item:first-child::after {align-self: flex-end;width: 50%;}#sk-container-id-1 div.sk-parallel-item:last-child::after {align-self: flex-start;width: 50%;}#sk-container-id-1 div.sk-parallel-item:only-child::after {width: 0;}#sk-container-id-1 div.sk-dashed-wrapped {border: 1px dashed gray;margin: 0 0.4em 0.5em 0.4em;box-sizing: border-box;padding-bottom: 0.4em;background-color: white;}#sk-container-id-1 div.sk-label label {font-family: monospace;font-weight: bold;display: inline-block;line-height: 1.2em;}#sk-container-id-1 div.sk-label-container {text-align: center;}#sk-container-id-1 div.sk-container {/* jupyter's `normalize.less` sets `[hidden] { display: none; }` but bootstrap.min.css set `[hidden] { display: none !important; }` so we also need the `!important` here to be able to override the default hidden behavior on the sphinx rendered scikit-learn.org. See: https://github.com/scikit-learn/scikit-learn/issues/21755 */display: inline-block !important;position: relative;}#sk-container-id-1 div.sk-text-repr-fallback {display: none;}</style><div id=\"sk-container-id-1\" class=\"sk-top-container\"><div class=\"sk-text-repr-fallback\"><pre>GridSearchCV(cv=4, estimator=RandomForestClassifier(random_state=42), n_jobs=-1,\n",
       "             param_grid={&#x27;max_depth&#x27;: [3, 7, 10], &#x27;max_features&#x27;: [3, 4],\n",
       "                         &#x27;min_samples_split&#x27;: [2, 3, 4]},\n",
       "             verbose=3)</pre><b>In a Jupyter environment, please rerun this cell to show the HTML representation or trust the notebook. <br />On GitHub, the HTML representation is unable to render, please try loading this page with nbviewer.org.</b></div><div class=\"sk-container\" hidden><div class=\"sk-item sk-dashed-wrapped\"><div class=\"sk-label-container\"><div class=\"sk-label sk-toggleable\"><input class=\"sk-toggleable__control sk-hidden--visually\" id=\"sk-estimator-id-1\" type=\"checkbox\" ><label for=\"sk-estimator-id-1\" class=\"sk-toggleable__label sk-toggleable__label-arrow\">GridSearchCV</label><div class=\"sk-toggleable__content\"><pre>GridSearchCV(cv=4, estimator=RandomForestClassifier(random_state=42), n_jobs=-1,\n",
       "             param_grid={&#x27;max_depth&#x27;: [3, 7, 10], &#x27;max_features&#x27;: [3, 4],\n",
       "                         &#x27;min_samples_split&#x27;: [2, 3, 4]},\n",
       "             verbose=3)</pre></div></div></div><div class=\"sk-parallel\"><div class=\"sk-parallel-item\"><div class=\"sk-item\"><div class=\"sk-label-container\"><div class=\"sk-label sk-toggleable\"><input class=\"sk-toggleable__control sk-hidden--visually\" id=\"sk-estimator-id-2\" type=\"checkbox\" ><label for=\"sk-estimator-id-2\" class=\"sk-toggleable__label sk-toggleable__label-arrow\">estimator: RandomForestClassifier</label><div class=\"sk-toggleable__content\"><pre>RandomForestClassifier(random_state=42)</pre></div></div></div><div class=\"sk-serial\"><div class=\"sk-item\"><div class=\"sk-estimator sk-toggleable\"><input class=\"sk-toggleable__control sk-hidden--visually\" id=\"sk-estimator-id-3\" type=\"checkbox\" ><label for=\"sk-estimator-id-3\" class=\"sk-toggleable__label sk-toggleable__label-arrow\">RandomForestClassifier</label><div class=\"sk-toggleable__content\"><pre>RandomForestClassifier(random_state=42)</pre></div></div></div></div></div></div></div></div></div></div>"
      ],
      "text/plain": [
       "GridSearchCV(cv=4, estimator=RandomForestClassifier(random_state=42), n_jobs=-1,\n",
       "             param_grid={'max_depth': [3, 7, 10], 'max_features': [3, 4],\n",
       "                         'min_samples_split': [2, 3, 4]},\n",
       "             verbose=3)"
      ]
     },
     "execution_count": 13,
     "metadata": {},
     "output_type": "execute_result"
    }
   ],
   "source": [
    "grid_search.fit(X_train,y_train)"
   ]
  },
  {
   "cell_type": "code",
   "execution_count": 14,
   "id": "5e31ca10",
   "metadata": {
    "execution": {
     "iopub.execute_input": "2025-04-01T22:26:43.686623Z",
     "iopub.status.busy": "2025-04-01T22:26:43.686262Z",
     "iopub.status.idle": "2025-04-01T22:26:43.693721Z",
     "shell.execute_reply": "2025-04-01T22:26:43.692819Z"
    },
    "papermill": {
     "duration": 0.018192,
     "end_time": "2025-04-01T22:26:43.695330",
     "exception": false,
     "start_time": "2025-04-01T22:26:43.677138",
     "status": "completed"
    },
    "tags": []
   },
   "outputs": [
    {
     "data": {
      "text/html": [
       "<style>#sk-container-id-2 {color: black;background-color: white;}#sk-container-id-2 pre{padding: 0;}#sk-container-id-2 div.sk-toggleable {background-color: white;}#sk-container-id-2 label.sk-toggleable__label {cursor: pointer;display: block;width: 100%;margin-bottom: 0;padding: 0.3em;box-sizing: border-box;text-align: center;}#sk-container-id-2 label.sk-toggleable__label-arrow:before {content: \"▸\";float: left;margin-right: 0.25em;color: #696969;}#sk-container-id-2 label.sk-toggleable__label-arrow:hover:before {color: black;}#sk-container-id-2 div.sk-estimator:hover label.sk-toggleable__label-arrow:before {color: black;}#sk-container-id-2 div.sk-toggleable__content {max-height: 0;max-width: 0;overflow: hidden;text-align: left;background-color: #f0f8ff;}#sk-container-id-2 div.sk-toggleable__content pre {margin: 0.2em;color: black;border-radius: 0.25em;background-color: #f0f8ff;}#sk-container-id-2 input.sk-toggleable__control:checked~div.sk-toggleable__content {max-height: 200px;max-width: 100%;overflow: auto;}#sk-container-id-2 input.sk-toggleable__control:checked~label.sk-toggleable__label-arrow:before {content: \"▾\";}#sk-container-id-2 div.sk-estimator input.sk-toggleable__control:checked~label.sk-toggleable__label {background-color: #d4ebff;}#sk-container-id-2 div.sk-label input.sk-toggleable__control:checked~label.sk-toggleable__label {background-color: #d4ebff;}#sk-container-id-2 input.sk-hidden--visually {border: 0;clip: rect(1px 1px 1px 1px);clip: rect(1px, 1px, 1px, 1px);height: 1px;margin: -1px;overflow: hidden;padding: 0;position: absolute;width: 1px;}#sk-container-id-2 div.sk-estimator {font-family: monospace;background-color: #f0f8ff;border: 1px dotted black;border-radius: 0.25em;box-sizing: border-box;margin-bottom: 0.5em;}#sk-container-id-2 div.sk-estimator:hover {background-color: #d4ebff;}#sk-container-id-2 div.sk-parallel-item::after {content: \"\";width: 100%;border-bottom: 1px solid gray;flex-grow: 1;}#sk-container-id-2 div.sk-label:hover label.sk-toggleable__label {background-color: #d4ebff;}#sk-container-id-2 div.sk-serial::before {content: \"\";position: absolute;border-left: 1px solid gray;box-sizing: border-box;top: 0;bottom: 0;left: 50%;z-index: 0;}#sk-container-id-2 div.sk-serial {display: flex;flex-direction: column;align-items: center;background-color: white;padding-right: 0.2em;padding-left: 0.2em;position: relative;}#sk-container-id-2 div.sk-item {position: relative;z-index: 1;}#sk-container-id-2 div.sk-parallel {display: flex;align-items: stretch;justify-content: center;background-color: white;position: relative;}#sk-container-id-2 div.sk-item::before, #sk-container-id-2 div.sk-parallel-item::before {content: \"\";position: absolute;border-left: 1px solid gray;box-sizing: border-box;top: 0;bottom: 0;left: 50%;z-index: -1;}#sk-container-id-2 div.sk-parallel-item {display: flex;flex-direction: column;z-index: 1;position: relative;background-color: white;}#sk-container-id-2 div.sk-parallel-item:first-child::after {align-self: flex-end;width: 50%;}#sk-container-id-2 div.sk-parallel-item:last-child::after {align-self: flex-start;width: 50%;}#sk-container-id-2 div.sk-parallel-item:only-child::after {width: 0;}#sk-container-id-2 div.sk-dashed-wrapped {border: 1px dashed gray;margin: 0 0.4em 0.5em 0.4em;box-sizing: border-box;padding-bottom: 0.4em;background-color: white;}#sk-container-id-2 div.sk-label label {font-family: monospace;font-weight: bold;display: inline-block;line-height: 1.2em;}#sk-container-id-2 div.sk-label-container {text-align: center;}#sk-container-id-2 div.sk-container {/* jupyter's `normalize.less` sets `[hidden] { display: none; }` but bootstrap.min.css set `[hidden] { display: none !important; }` so we also need the `!important` here to be able to override the default hidden behavior on the sphinx rendered scikit-learn.org. See: https://github.com/scikit-learn/scikit-learn/issues/21755 */display: inline-block !important;position: relative;}#sk-container-id-2 div.sk-text-repr-fallback {display: none;}</style><div id=\"sk-container-id-2\" class=\"sk-top-container\"><div class=\"sk-text-repr-fallback\"><pre>RandomForestClassifier(max_depth=7, max_features=3, min_samples_split=4,\n",
       "                       random_state=42)</pre><b>In a Jupyter environment, please rerun this cell to show the HTML representation or trust the notebook. <br />On GitHub, the HTML representation is unable to render, please try loading this page with nbviewer.org.</b></div><div class=\"sk-container\" hidden><div class=\"sk-item\"><div class=\"sk-estimator sk-toggleable\"><input class=\"sk-toggleable__control sk-hidden--visually\" id=\"sk-estimator-id-4\" type=\"checkbox\" checked><label for=\"sk-estimator-id-4\" class=\"sk-toggleable__label sk-toggleable__label-arrow\">RandomForestClassifier</label><div class=\"sk-toggleable__content\"><pre>RandomForestClassifier(max_depth=7, max_features=3, min_samples_split=4,\n",
       "                       random_state=42)</pre></div></div></div></div></div>"
      ],
      "text/plain": [
       "RandomForestClassifier(max_depth=7, max_features=3, min_samples_split=4,\n",
       "                       random_state=42)"
      ]
     },
     "execution_count": 14,
     "metadata": {},
     "output_type": "execute_result"
    }
   ],
   "source": [
    "grid_search.best_estimator_"
   ]
  },
  {
   "cell_type": "code",
   "execution_count": 15,
   "id": "062734a7",
   "metadata": {
    "execution": {
     "iopub.execute_input": "2025-04-01T22:26:43.713337Z",
     "iopub.status.busy": "2025-04-01T22:26:43.713013Z",
     "iopub.status.idle": "2025-04-01T22:26:43.726965Z",
     "shell.execute_reply": "2025-04-01T22:26:43.725946Z"
    },
    "papermill": {
     "duration": 0.024867,
     "end_time": "2025-04-01T22:26:43.728707",
     "exception": false,
     "start_time": "2025-04-01T22:26:43.703840",
     "status": "completed"
    },
    "tags": []
   },
   "outputs": [],
   "source": [
    "y_pred = grid_search.predict(X_val)"
   ]
  },
  {
   "cell_type": "code",
   "execution_count": 16,
   "id": "f584e84b",
   "metadata": {
    "execution": {
     "iopub.execute_input": "2025-04-01T22:26:43.746734Z",
     "iopub.status.busy": "2025-04-01T22:26:43.746354Z",
     "iopub.status.idle": "2025-04-01T22:26:43.759440Z",
     "shell.execute_reply": "2025-04-01T22:26:43.758224Z"
    },
    "papermill": {
     "duration": 0.024031,
     "end_time": "2025-04-01T22:26:43.761132",
     "exception": false,
     "start_time": "2025-04-01T22:26:43.737101",
     "status": "completed"
    },
    "tags": []
   },
   "outputs": [
    {
     "name": "stdout",
     "output_type": "stream",
     "text": [
      "              precision    recall  f1-score   support\n",
      "\n",
      "           0       0.81      0.91      0.86       105\n",
      "           1       0.85      0.69      0.76        74\n",
      "\n",
      "    accuracy                           0.82       179\n",
      "   macro avg       0.83      0.80      0.81       179\n",
      "weighted avg       0.82      0.82      0.82       179\n",
      "\n"
     ]
    }
   ],
   "source": [
    "from sklearn.metrics import classification_report\n",
    "print(classification_report(y_val, y_pred))"
   ]
  },
  {
   "cell_type": "code",
   "execution_count": 17,
   "id": "6b6fb500",
   "metadata": {
    "execution": {
     "iopub.execute_input": "2025-04-01T22:26:43.779950Z",
     "iopub.status.busy": "2025-04-01T22:26:43.779540Z",
     "iopub.status.idle": "2025-04-01T22:26:43.795438Z",
     "shell.execute_reply": "2025-04-01T22:26:43.794509Z"
    },
    "papermill": {
     "duration": 0.027176,
     "end_time": "2025-04-01T22:26:43.797398",
     "exception": false,
     "start_time": "2025-04-01T22:26:43.770222",
     "status": "completed"
    },
    "tags": []
   },
   "outputs": [],
   "source": [
    "prediction = grid_search.predict(df_test)"
   ]
  },
  {
   "cell_type": "code",
   "execution_count": 18,
   "id": "9cb3438b",
   "metadata": {
    "execution": {
     "iopub.execute_input": "2025-04-01T22:26:43.815493Z",
     "iopub.status.busy": "2025-04-01T22:26:43.815161Z",
     "iopub.status.idle": "2025-04-01T22:26:43.819821Z",
     "shell.execute_reply": "2025-04-01T22:26:43.818957Z"
    },
    "papermill": {
     "duration": 0.01546,
     "end_time": "2025-04-01T22:26:43.821443",
     "exception": false,
     "start_time": "2025-04-01T22:26:43.805983",
     "status": "completed"
    },
    "tags": []
   },
   "outputs": [],
   "source": [
    "result = pd.DataFrame({'PassengerId':test_id.values, 'Survived':prediction})"
   ]
  },
  {
   "cell_type": "code",
   "execution_count": 19,
   "id": "720b9418",
   "metadata": {
    "execution": {
     "iopub.execute_input": "2025-04-01T22:26:43.840085Z",
     "iopub.status.busy": "2025-04-01T22:26:43.839713Z",
     "iopub.status.idle": "2025-04-01T22:26:43.849800Z",
     "shell.execute_reply": "2025-04-01T22:26:43.848880Z"
    },
    "papermill": {
     "duration": 0.021124,
     "end_time": "2025-04-01T22:26:43.851501",
     "exception": false,
     "start_time": "2025-04-01T22:26:43.830377",
     "status": "completed"
    },
    "tags": []
   },
   "outputs": [],
   "source": [
    "result.to_csv('submission.csv', index=False)"
   ]
  }
 ],
 "metadata": {
  "kaggle": {
   "accelerator": "none",
   "dataSources": [
    {
     "databundleVersionId": 26502,
     "sourceId": 3136,
     "sourceType": "competition"
    }
   ],
   "dockerImageVersionId": 30918,
   "isGpuEnabled": false,
   "isInternetEnabled": true,
   "language": "python",
   "sourceType": "notebook"
  },
  "kernelspec": {
   "display_name": "Python 3",
   "language": "python",
   "name": "python3"
  },
  "language_info": {
   "codemirror_mode": {
    "name": "ipython",
    "version": 3
   },
   "file_extension": ".py",
   "mimetype": "text/x-python",
   "name": "python",
   "nbconvert_exporter": "python",
   "pygments_lexer": "ipython3",
   "version": "3.10.12"
  },
  "papermill": {
   "default_parameters": {},
   "duration": 17.210622,
   "end_time": "2025-04-01T22:26:44.682730",
   "environment_variables": {},
   "exception": null,
   "input_path": "__notebook__.ipynb",
   "output_path": "__notebook__.ipynb",
   "parameters": {},
   "start_time": "2025-04-01T22:26:27.472108",
   "version": "2.6.0"
  }
 },
 "nbformat": 4,
 "nbformat_minor": 5
}
